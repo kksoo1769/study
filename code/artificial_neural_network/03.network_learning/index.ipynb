{
 "cells": [
  {
   "cell_type": "code",
   "execution_count": 354,
   "metadata": {},
   "outputs": [],
   "source": [
    "import numpy as np\n",
    "import matplotlib.pyplot as plt"
   ]
  },
  {
   "cell_type": "code",
   "execution_count": 355,
   "metadata": {},
   "outputs": [],
   "source": [
    "epochs = 1000\n",
    "lr = 0.1"
   ]
  },
  {
   "cell_type": "code",
   "execution_count": 356,
   "metadata": {},
   "outputs": [],
   "source": [
    "def sigmoid(x):\n",
    "    return 1 / (1 + np.exp(-x))\n",
    "\n",
    "def mean_squared_error(pred_y, true_y):\n",
    "    return 0.5 * np.sum(np.square(true_y - pred_y))\n",
    "\n",
    "def cross_entropy_error(pred_y, true_y):\n",
    "    if true_y.ndim == 1:\n",
    "        true_y = true_y.reshape(1, -1)\n",
    "        pred_y = pred_y.reshape(1, -1)\n",
    "    \n",
    "    delta = 1e-7\n",
    "    return -np.sum(true_y * np.log(pred_y + delta))\n",
    "\n",
    "def cross_entropy_error_for_batch(pred_y, true_y):\n",
    "    if true_y.ndim == 1:\n",
    "        true_y = true_y.reshape(1, -1)\n",
    "        pred_y = pred_y.reshape(1, -1)\n",
    "    \n",
    "    delta = 1e-7\n",
    "    batch_size = pred_y.shape[0]\n",
    "    return -np.sum(true_y * np.log(pred_y + delta)) / batch_size\n",
    "\n",
    "def cross_entropy_error_for_bin(pred_y, true_y):\n",
    "    return 0.5 * np.sum((-true_y * np.log(pred_y) - (1 - true_y) * np.log(1 - pred_y)))\n",
    "\n",
    "def softmax(a):\n",
    "    exp_a = np.exp(a)\n",
    "    sum_exp_a = np.sum(exp_a)\n",
    "    y = exp_a / sum_exp_a\n",
    "\n",
    "    return y\n",
    "\n",
    "def differential(f, x):\n",
    "    eps = 1e-5\n",
    "    diff_value = np.zeros_like(x)\n",
    "\n",
    "    for i in range(x.shape[0]):\n",
    "        temp_val = x[i]\n",
    "        \n",
    "        x[i] = temp_val + eps\n",
    "        f_h1 = f(x)\n",
    "\n",
    "        x[i] = temp_val - eps\n",
    "        f_h2 = f(x)\n",
    "\n",
    "        diff_value[i] = (f_h1 - f_h2) / (2 * eps)\n",
    "        x[i] = temp_val\n",
    "\n",
    "        return diff_value"
   ]
  },
  {
   "cell_type": "code",
   "execution_count": 357,
   "metadata": {},
   "outputs": [],
   "source": [
    "class LogicGateNet():\n",
    "    def __init__(self):\n",
    "        def weight_init():\n",
    "            weights = np.random.randn(2)\n",
    "            bias = np.random.rand(1)\n",
    "\n",
    "            return weights, bias\n",
    "        \n",
    "        self.weights, self.bias = weight_init()\n",
    "\n",
    "    def predict(self, x):\n",
    "        W = self.weights.reshape(-1, 1)\n",
    "        b = self.bias\n",
    "\n",
    "        pred_y = sigmoid(np.dot(x, W) + b)\n",
    "        return pred_y\n",
    "    \n",
    "    def loss(self, x, true_y):\n",
    "        pred_y = self.predict(x)\n",
    "        return cross_entropy_error_for_bin(pred_y, true_y)\n",
    "    \n",
    "    def get_gradient(self, x, t):\n",
    "        def loss_gradient(grad):\n",
    "            return self.loss(x, t)\n",
    "        \n",
    "        grad_W = differential(loss_gradient, self.weights)\n",
    "        grad_B = differential(loss_gradient, self.bias)\n",
    "\n",
    "        return grad_W, grad_B"
   ]
  },
  {
   "cell_type": "code",
   "execution_count": 358,
   "metadata": {},
   "outputs": [
    {
     "name": "stdout",
     "output_type": "stream",
     "text": [
      "Epoch: 100, Cost: 0.9353102082610878, Weights: [0.49359444 0.38367503], Bias: [-1.31335057]\n",
      "Epoch: 200, Cost: 0.7584524060206939, Weights: [1.56550837 0.38367503], Bias: [-2.0665888]\n",
      "Epoch: 300, Cost: 0.6982384679095585, Weights: [2.16561303 0.38367503], Bias: [-2.55016946]\n",
      "Epoch: 400, Cost: 0.6700492707672188, Weights: [2.56656314 0.38367503], Bias: [-2.89537845]\n",
      "Epoch: 500, Cost: 0.6541467749616434, Weights: [2.86339269 0.38367503], Bias: [-3.16048984]\n",
      "Epoch: 600, Cost: 0.6440643109840762, Weights: [3.09751229 0.38367503], Bias: [-3.37441586]\n",
      "Epoch: 700, Cost: 0.6371482261473591, Weights: [3.29013277 0.38367503], Bias: [-3.55315279]\n",
      "Epoch: 800, Cost: 0.6321295991891833, Weights: [3.45341822 0.38367503], Bias: [-3.7063497]\n",
      "Epoch: 900, Cost: 0.6283315275195259, Weights: [3.59493917 0.38367503], Bias: [-3.84022879]\n",
      "Epoch: 1000, Cost: 0.6253621690290438, Weights: [3.71970611 0.38367503], Bias: [-3.95901754]\n"
     ]
    }
   ],
   "source": [
    "AND = LogicGateNet()\n",
    "\n",
    "X = np.array([\n",
    "    [0, 0],\n",
    "    [0, 1],\n",
    "    [1, 0],\n",
    "    [1, 1],\n",
    "])\n",
    "Y = np.array([[0], [0], [0], [1]])\n",
    "\n",
    "train_loss_list = list()\n",
    "\n",
    "for i in range(epochs):\n",
    "    grad_W, grad_B = AND.get_gradient(X, Y)\n",
    "    \n",
    "    AND.weights -= lr * grad_W\n",
    "    AND.bias -= lr * grad_B\n",
    "\n",
    "    loss = AND.loss(X, Y)\n",
    "    train_loss_list.append(loss)\n",
    "\n",
    "    if i % 100 == 99:\n",
    "        print(f\"Epoch: {i + 1}, Cost: {loss}, Weights: {AND.weights}, Bias: {AND.bias}\")"
   ]
  },
  {
   "cell_type": "code",
   "execution_count": 359,
   "metadata": {},
   "outputs": [
    {
     "name": "stdout",
     "output_type": "stream",
     "text": [
      "[[0.01872455]\n",
      " [0.02724287]\n",
      " [0.44045605]\n",
      " [0.53602835]]\n"
     ]
    }
   ],
   "source": [
    "print(AND.predict(X))"
   ]
  },
  {
   "cell_type": "code",
   "execution_count": 360,
   "metadata": {},
   "outputs": [
    {
     "name": "stdout",
     "output_type": "stream",
     "text": [
      "Epoch: 100, Cost: 1.103145776935949, Weights: [ 2.83588365 -1.21852888], Bias: [0.83278679]\n",
      "Epoch: 200, Cost: 1.084245017616726, Weights: [ 3.26626215 -1.21852888], Bias: [0.79120481]\n",
      "Epoch: 300, Cost: 1.0739680117743717, Weights: [ 3.58303257 -1.21852888], Bias: [0.74689525]\n",
      "Epoch: 400, Cost: 1.0676207184290296, Weights: [ 3.83294391 -1.21852888], Bias: [0.71799597]\n",
      "Epoch: 500, Cost: 1.0633650130928225, Weights: [ 4.03812317 -1.21852888], Bias: [0.69854621]\n",
      "Epoch: 600, Cost: 1.060335589878352, Weights: [ 4.21151491 -1.21852888], Bias: [0.68473693]\n",
      "Epoch: 700, Cost: 1.05807956854238, Weights: [ 4.36129794 -1.21852888], Bias: [0.67448681]\n",
      "Epoch: 800, Cost: 1.0563396303270933, Weights: [ 4.49292698 -1.21852888], Bias: [0.66660574]\n",
      "Epoch: 900, Cost: 1.054959797558123, Weights: [ 4.61020091 -1.21852888], Bias: [0.66037277]\n",
      "Epoch: 1000, Cost: 1.0538404750834256, Weights: [ 4.71586121 -1.21852888], Bias: [0.65532859]\n"
     ]
    }
   ],
   "source": [
    "OR = LogicGateNet()\n",
    "X = np.array([\n",
    "    [0, 0],\n",
    "    [0, 1],\n",
    "    [1, 0],\n",
    "    [1, 1],\n",
    "])\n",
    "Y_2 = np.array([\n",
    "    [0],\n",
    "    [1],\n",
    "    [1],\n",
    "    [1],\n",
    "])\n",
    "\n",
    "train_loss_list = list()\n",
    "\n",
    "for i in range(epochs):\n",
    "    grad_W, grad_B = OR.get_gradient(X, Y_2)\n",
    "    \n",
    "    OR.weights -= lr * grad_W\n",
    "    OR.bias -= lr * grad_B\n",
    "\n",
    "    loss = OR.loss(X, Y_2)\n",
    "    train_loss_list.append(loss)\n",
    "\n",
    "    if i % 100 == 99:\n",
    "        print(f\"Epoch: {i + 1}, Cost: {loss}, Weights: {OR.weights}, Bias: {OR.bias}\")"
   ]
  },
  {
   "cell_type": "code",
   "execution_count": 361,
   "metadata": {},
   "outputs": [
    {
     "name": "stdout",
     "output_type": "stream",
     "text": [
      "[[0.65821024]\n",
      " [0.3628073 ]\n",
      " [0.99537291]\n",
      " [0.98452085]]\n"
     ]
    }
   ],
   "source": [
    "print(OR.predict(X))"
   ]
  },
  {
   "cell_type": "markdown",
   "metadata": {},
   "source": [
    "# 다중 클래스 분류"
   ]
  },
  {
   "cell_type": "code",
   "execution_count": 362,
   "metadata": {},
   "outputs": [],
   "source": [
    "import numpy as np\n",
    "import matplotlib.pyplot as plt\n",
    "import tensorflow as tf\n",
    "import time\n",
    "from tqdm.notebook import tqdm"
   ]
  },
  {
   "cell_type": "code",
   "execution_count": 363,
   "metadata": {},
   "outputs": [],
   "source": [
    "mnist = tf.keras.datasets.mnist\n",
    "\n",
    "(X_train, y_train), (X_test, y_test) = mnist.load_data()"
   ]
  },
  {
   "cell_type": "code",
   "execution_count": 364,
   "metadata": {},
   "outputs": [
    {
     "data": {
      "text/plain": [
       "((60000, 28, 28), (60000,), (10000, 28, 28), (10000,))"
      ]
     },
     "execution_count": 364,
     "metadata": {},
     "output_type": "execute_result"
    }
   ],
   "source": [
    "X_train.shape, y_train.shape, X_test.shape, y_test.shape"
   ]
  },
  {
   "cell_type": "code",
   "execution_count": 365,
   "metadata": {},
   "outputs": [
    {
     "data": {
      "image/png": "[encoded data removed]",
      "text/plain": [
       "<Figure size 640x480 with 1 Axes>"
      ]
     },
     "metadata": {},
     "output_type": "display_data"
    }
   ],
   "source": [
    "img = X_train[0]\n",
    "plt.imshow(img, cmap=\"gray\")\n",
    "plt.show()"
   ]
  },
  {
   "cell_type": "code",
   "execution_count": 366,
   "metadata": {},
   "outputs": [
    {
     "data": {
      "text/plain": [
       "5"
      ]
     },
     "execution_count": 366,
     "metadata": {},
     "output_type": "execute_result"
    }
   ],
   "source": [
    "y_train[0]"
   ]
  },
  {
   "cell_type": "code",
   "execution_count": 367,
   "metadata": {},
   "outputs": [],
   "source": [
    "def flatten_for_mnist(x):\n",
    "    temp = np.zeros((x.shape[0], x[0].size))\n",
    "\n",
    "    for idx, data in enumerate(x):\n",
    "        temp[idx, :] = data.flatten()\n",
    "\n",
    "    return temp"
   ]
  },
  {
   "cell_type": "code",
   "execution_count": 368,
   "metadata": {},
   "outputs": [
    {
     "name": "stdout",
     "output_type": "stream",
     "text": [
      "(60000, 784)\n",
      "(10000, 784)\n",
      "(60000,)\n",
      "(10000,)\n"
     ]
    }
   ],
   "source": [
    "X_train, X_test = X_train / 255.0, X_test / 255.0 # Normalization\n",
    "\n",
    "X_train = flatten_for_mnist(X_train)\n",
    "X_test = flatten_for_mnist(X_test)\n",
    "\n",
    "print(X_train.shape)\n",
    "print(X_test.shape)\n",
    "\n",
    "y_train_ohe = tf.one_hot(y_train, depth=10).numpy()\n",
    "y_test_ohe = tf.one_hot(y_test, depth=10).numpy()\n",
    "\n",
    "print(y_train.shape)\n",
    "print(y_test.shape)"
   ]
  },
  {
   "cell_type": "code",
   "execution_count": 369,
   "metadata": {},
   "outputs": [
    {
     "name": "stdout",
     "output_type": "stream",
     "text": [
      "1.0 0.0\n",
      "[0. 0. 0. 0. 0. 1. 0. 0. 0. 0.]\n"
     ]
    }
   ],
   "source": [
    "print(X_train[0].max(), X_train[0].min())\n",
    "print(y_train_ohe[0])"
   ]
  },
  {
   "cell_type": "code",
   "execution_count": 370,
   "metadata": {},
   "outputs": [],
   "source": [
    "epochs = 100\n",
    "lr = 0.01\n",
    "batch_size = 100\n",
    "train_size = X_train.shape[0]"
   ]
  },
  {
   "cell_type": "code",
   "execution_count": 371,
   "metadata": {},
   "outputs": [],
   "source": [
    "def differential_1d(f, x):\n",
    "    eps = 1e-5\n",
    "    diff_value = np.zeros_like(x)\n",
    "\n",
    "    for i in range(x.shape[0]):\n",
    "        temp_val = x[i]\n",
    "        \n",
    "        x[i] = temp_val + eps\n",
    "        f_h1 = f(x)\n",
    "\n",
    "        x[i] = temp_val - eps\n",
    "        f_h2 = f(x)\n",
    "\n",
    "        diff_value[i] = (f_h1 - f_h2) / (2 * eps)\n",
    "        x[i] = temp_val\n",
    "\n",
    "        return diff_value\n",
    "\n",
    "def differential_2d(f, X):\n",
    "    if X.ndim == 1:\n",
    "        return differential_1d(f, X)\n",
    "    else:\n",
    "        grad = np.zeros_like(X)\n",
    "\n",
    "        for idx, x in enumerate(X):\n",
    "            grad[idx] = differential_1d(f, x)\n",
    "        return grad"
   ]
  },
  {
   "cell_type": "code",
   "execution_count": 372,
   "metadata": {},
   "outputs": [],
   "source": [
    "class MyModel():\n",
    "    def __init__(self):\n",
    "        def weight_init(input_nodes, hidden_nodes, output_units):\n",
    "            np.random.seed(42)\n",
    "            params = {\n",
    "                \"w_1\": 0.01 * np.random.randn(input_nodes, hidden_nodes),\n",
    "                \"b_1\": np.zeros(hidden_nodes),\n",
    "                \"w_2\": 0.01 * np.random.randn(hidden_nodes, output_units),\n",
    "                \"b_2\": np.zeros(output_units)\n",
    "            }\n",
    "            return params\n",
    "        \n",
    "        self.params = weight_init(784, 64, 10)\n",
    "    \n",
    "    def predict(self, x):\n",
    "        W_1, W_2 = self.params[\"w_1\"], self.params[\"w_2\"]\n",
    "        B_1, B_2 = self.params[\"b_1\"], self.params[\"b_2\"]\n",
    "\n",
    "        A1 = np.dot(x, W_1) + B_1\n",
    "        Z1 = sigmoid(A1)\n",
    "        A2 = np.dot(Z1, W_2) + B_2\n",
    "        Z2 = sigmoid(A2)\n",
    "\n",
    "        pred_y = softmax(Z2)\n",
    "        return  pred_y\n",
    "    \n",
    "    def loss(self, x, true_y):\n",
    "        pred_y = self.predict(x)\n",
    "        return cross_entropy_error_for_bin(pred_y, true_y)\n",
    "    \n",
    "    def accuracy(self, x, true_y):\n",
    "        pred_y = self.predict(x)\n",
    "        y_argmax = np.argmax(pred_y, axis=1)\n",
    "        t_argmax = np.argmax(true_y, axis=1)\n",
    "\n",
    "        acc = np.sum(y_argmax == t_argmax) / float(x.shape[0])\n",
    "        return acc\n",
    "    \n",
    "    def get_gradient(self, x, t):\n",
    "        def loss_grad(grad):\n",
    "            return self.loss(x, t)\n",
    "        grads = {\n",
    "            \"w_1\": differential_2d(loss_grad, self.params[\"w_1\"]),\n",
    "            \"b_1\": differential_2d(loss_grad, self.params[\"b_1\"]),\n",
    "            \"w_2\": differential_2d(loss_grad, self.params[\"w_2\"]),\n",
    "            \"b_2\": differential_2d(loss_grad, self.params[\"b_2\"]),\n",
    "        }\n",
    "        return grads"
   ]
  },
  {
   "cell_type": "code",
   "execution_count": 373,
   "metadata": {},
   "outputs": [
    {
     "data": {
      "application/vnd.jupyter.widget-view+json": {
       "model_id": "3715320866b94c95a15d364175c46cdf",
       "version_major": 2,
       "version_minor": 0
      },
      "text/plain": [
       "  0%|          | 0/100 [00:00<?, ?it/s]"
      ]
     },
     "metadata": {},
     "output_type": "display_data"
    },
    {
     "name": "stdout",
     "output_type": "stream",
     "text": [
      "Epoch: 1, Cost: 345.7882795108326, Train Accuracy: 0.11236666666666667, Test Accuracy: 0.1135\n",
      "Epoch: 2, Cost: 345.3656281343124, Train Accuracy: 0.11236666666666667, Test Accuracy: 0.1135\n",
      "Epoch: 3, Cost: 344.89663220872256, Train Accuracy: 0.11236666666666667, Test Accuracy: 0.1135\n",
      "Epoch: 4, Cost: 345.87576991254525, Train Accuracy: 0.11236666666666667, Test Accuracy: 0.1135\n",
      "Epoch: 5, Cost: 344.71745537165873, Train Accuracy: 0.11236666666666667, Test Accuracy: 0.1135\n",
      "Epoch: 6, Cost: 344.9019056444622, Train Accuracy: 0.09871666666666666, Test Accuracy: 0.098\n",
      "Epoch: 7, Cost: 345.9070647053219, Train Accuracy: 0.11236666666666667, Test Accuracy: 0.1135\n",
      "Epoch: 8, Cost: 345.85956725984806, Train Accuracy: 0.09871666666666666, Test Accuracy: 0.098\n",
      "Epoch: 9, Cost: 345.7109176177871, Train Accuracy: 0.11236666666666667, Test Accuracy: 0.1135\n",
      "Epoch: 10, Cost: 345.5806498744463, Train Accuracy: 0.11236666666666667, Test Accuracy: 0.1135\n",
      "Epoch: 11, Cost: 345.35710075405854, Train Accuracy: 0.11236666666666667, Test Accuracy: 0.1135\n",
      "Epoch: 12, Cost: 345.4155643369709, Train Accuracy: 0.11236666666666667, Test Accuracy: 0.1135\n",
      "Epoch: 13, Cost: 345.9053082637042, Train Accuracy: 0.2004, Test Accuracy: 0.2019\n",
      "Epoch: 14, Cost: 345.60410491608036, Train Accuracy: 0.11236666666666667, Test Accuracy: 0.1135\n",
      "Epoch: 15, Cost: 345.6828753304402, Train Accuracy: 0.11236666666666667, Test Accuracy: 0.1135\n",
      "Epoch: 16, Cost: 345.60663952536726, Train Accuracy: 0.11236666666666667, Test Accuracy: 0.1135\n",
      "Epoch: 17, Cost: 345.60245706716853, Train Accuracy: 0.09871666666666666, Test Accuracy: 0.098\n",
      "Epoch: 18, Cost: 345.74437116956045, Train Accuracy: 0.09871666666666666, Test Accuracy: 0.098\n",
      "Epoch: 19, Cost: 345.46618063756466, Train Accuracy: 0.11236666666666667, Test Accuracy: 0.1135\n",
      "Epoch: 20, Cost: 345.5193576185844, Train Accuracy: 0.11236666666666667, Test Accuracy: 0.1135\n",
      "Epoch: 21, Cost: 345.7384100028554, Train Accuracy: 0.11236666666666667, Test Accuracy: 0.1135\n",
      "Epoch: 22, Cost: 345.20960425523043, Train Accuracy: 0.09871666666666666, Test Accuracy: 0.098\n",
      "Epoch: 23, Cost: 345.80127942539605, Train Accuracy: 0.09871666666666666, Test Accuracy: 0.098\n",
      "Epoch: 24, Cost: 345.3234183354215, Train Accuracy: 0.09871666666666666, Test Accuracy: 0.098\n",
      "Epoch: 25, Cost: 345.8682702446987, Train Accuracy: 0.09871666666666666, Test Accuracy: 0.098\n",
      "Epoch: 26, Cost: 345.6832236950437, Train Accuracy: 0.11236666666666667, Test Accuracy: 0.1135\n",
      "Epoch: 27, Cost: 345.006306731658, Train Accuracy: 0.11236666666666667, Test Accuracy: 0.1135\n",
      "Epoch: 28, Cost: 345.50389722550045, Train Accuracy: 0.09871666666666666, Test Accuracy: 0.098\n",
      "Epoch: 29, Cost: 345.71293317236587, Train Accuracy: 0.11236666666666667, Test Accuracy: 0.1135\n",
      "Epoch: 30, Cost: 345.7527626705589, Train Accuracy: 0.11236666666666667, Test Accuracy: 0.1135\n",
      "Epoch: 31, Cost: 345.74973985243344, Train Accuracy: 0.11236666666666667, Test Accuracy: 0.1135\n",
      "Epoch: 32, Cost: 345.5810790845745, Train Accuracy: 0.11236666666666667, Test Accuracy: 0.1135\n",
      "Epoch: 33, Cost: 345.73294673374534, Train Accuracy: 0.11236666666666667, Test Accuracy: 0.1135\n",
      "Epoch: 34, Cost: 345.3541794106819, Train Accuracy: 0.11236666666666667, Test Accuracy: 0.1135\n",
      "Epoch: 35, Cost: 346.03014131882935, Train Accuracy: 0.11236666666666667, Test Accuracy: 0.1135\n",
      "Epoch: 36, Cost: 345.50266166756194, Train Accuracy: 0.11236666666666667, Test Accuracy: 0.1135\n",
      "Epoch: 37, Cost: 345.3914914358014, Train Accuracy: 0.09871666666666666, Test Accuracy: 0.098\n",
      "Epoch: 38, Cost: 345.6047971518745, Train Accuracy: 0.11236666666666667, Test Accuracy: 0.1135\n",
      "Epoch: 39, Cost: 345.67140023634624, Train Accuracy: 0.11106666666666666, Test Accuracy: 0.1128\n",
      "Epoch: 40, Cost: 345.28171683648685, Train Accuracy: 0.11236666666666667, Test Accuracy: 0.1135\n",
      "Epoch: 41, Cost: 345.7243485149073, Train Accuracy: 0.11236666666666667, Test Accuracy: 0.1135\n",
      "Epoch: 42, Cost: 345.9174830261238, Train Accuracy: 0.11236666666666667, Test Accuracy: 0.1135\n",
      "Epoch: 43, Cost: 345.83262070372143, Train Accuracy: 0.11236666666666667, Test Accuracy: 0.1135\n",
      "Epoch: 44, Cost: 344.85369913263446, Train Accuracy: 0.11236666666666667, Test Accuracy: 0.1135\n",
      "Epoch: 45, Cost: 345.9054535850319, Train Accuracy: 0.11236666666666667, Test Accuracy: 0.1135\n",
      "Epoch: 46, Cost: 345.6949298274481, Train Accuracy: 0.18716666666666668, Test Accuracy: 0.187\n",
      "Epoch: 47, Cost: 344.6971328413135, Train Accuracy: 0.09871666666666666, Test Accuracy: 0.098\n",
      "Epoch: 48, Cost: 345.2840866268442, Train Accuracy: 0.11236666666666667, Test Accuracy: 0.1135\n",
      "Epoch: 49, Cost: 345.5855441717811, Train Accuracy: 0.11236666666666667, Test Accuracy: 0.1135\n",
      "Epoch: 50, Cost: 345.3081541639757, Train Accuracy: 0.09871666666666666, Test Accuracy: 0.098\n",
      "Epoch: 51, Cost: 345.1887667693936, Train Accuracy: 0.11236666666666667, Test Accuracy: 0.1135\n",
      "Epoch: 52, Cost: 345.3036603772881, Train Accuracy: 0.09871666666666666, Test Accuracy: 0.098\n",
      "Epoch: 53, Cost: 345.50748256438544, Train Accuracy: 0.11236666666666667, Test Accuracy: 0.1135\n",
      "Epoch: 54, Cost: 345.3571842934117, Train Accuracy: 0.11236666666666667, Test Accuracy: 0.1135\n",
      "Epoch: 55, Cost: 345.1637275752108, Train Accuracy: 0.11236666666666667, Test Accuracy: 0.1135\n",
      "Epoch: 56, Cost: 345.1255642560385, Train Accuracy: 0.09871666666666666, Test Accuracy: 0.098\n",
      "Epoch: 57, Cost: 345.11966052158937, Train Accuracy: 0.11236666666666667, Test Accuracy: 0.1135\n",
      "Epoch: 58, Cost: 345.6408548105487, Train Accuracy: 0.11236666666666667, Test Accuracy: 0.1135\n",
      "Epoch: 59, Cost: 345.48471883668094, Train Accuracy: 0.09871666666666666, Test Accuracy: 0.098\n",
      "Epoch: 60, Cost: 345.34876408711693, Train Accuracy: 0.11236666666666667, Test Accuracy: 0.1135\n",
      "Epoch: 61, Cost: 345.31743006445527, Train Accuracy: 0.09871666666666666, Test Accuracy: 0.098\n",
      "Epoch: 62, Cost: 344.5684822985975, Train Accuracy: 0.09871666666666666, Test Accuracy: 0.098\n",
      "Epoch: 63, Cost: 345.30104203815733, Train Accuracy: 0.11236666666666667, Test Accuracy: 0.1135\n",
      "Epoch: 64, Cost: 344.8839682670796, Train Accuracy: 0.11236666666666667, Test Accuracy: 0.1135\n",
      "Epoch: 65, Cost: 345.47024640290283, Train Accuracy: 0.11285, Test Accuracy: 0.1144\n",
      "Epoch: 66, Cost: 344.7455301937986, Train Accuracy: 0.09871666666666666, Test Accuracy: 0.098\n",
      "Epoch: 67, Cost: 345.435039268283, Train Accuracy: 0.14251666666666668, Test Accuracy: 0.1464\n",
      "Epoch: 68, Cost: 344.5025349463937, Train Accuracy: 0.11236666666666667, Test Accuracy: 0.1135\n",
      "Epoch: 69, Cost: 345.6170458078616, Train Accuracy: 0.11236666666666667, Test Accuracy: 0.1135\n",
      "Epoch: 70, Cost: 345.3297585529466, Train Accuracy: 0.11236666666666667, Test Accuracy: 0.1135\n",
      "Epoch: 71, Cost: 345.43821660039043, Train Accuracy: 0.11985, Test Accuracy: 0.1214\n",
      "Epoch: 72, Cost: 344.9636452921445, Train Accuracy: 0.09871666666666666, Test Accuracy: 0.098\n",
      "Epoch: 73, Cost: 344.03442615379123, Train Accuracy: 0.09871666666666666, Test Accuracy: 0.098\n",
      "Epoch: 74, Cost: 344.99173966733235, Train Accuracy: 0.11236666666666667, Test Accuracy: 0.1135\n",
      "Epoch: 75, Cost: 345.3304037494196, Train Accuracy: 0.11471666666666666, Test Accuracy: 0.1161\n",
      "Epoch: 76, Cost: 344.2997821123524, Train Accuracy: 0.09871666666666666, Test Accuracy: 0.098\n",
      "Epoch: 77, Cost: 345.32378275390363, Train Accuracy: 0.20686666666666667, Test Accuracy: 0.2087\n",
      "Epoch: 78, Cost: 345.0636694503158, Train Accuracy: 0.11236666666666667, Test Accuracy: 0.1135\n",
      "Epoch: 79, Cost: 344.9277394159274, Train Accuracy: 0.11236666666666667, Test Accuracy: 0.1135\n",
      "Epoch: 80, Cost: 344.96347425415183, Train Accuracy: 0.12225, Test Accuracy: 0.1239\n",
      "Epoch: 81, Cost: 344.8477705157891, Train Accuracy: 0.19605, Test Accuracy: 0.1977\n",
      "Epoch: 82, Cost: 344.7262214516568, Train Accuracy: 0.17925, Test Accuracy: 0.1795\n",
      "Epoch: 83, Cost: 344.62955012411425, Train Accuracy: 0.20901666666666666, Test Accuracy: 0.2106\n",
      "Epoch: 84, Cost: 344.2444186267457, Train Accuracy: 0.11236666666666667, Test Accuracy: 0.1135\n",
      "Epoch: 85, Cost: 344.8147162708777, Train Accuracy: 0.13591666666666666, Test Accuracy: 0.1372\n",
      "Epoch: 86, Cost: 344.68924940071827, Train Accuracy: 0.19875, Test Accuracy: 0.2019\n",
      "Epoch: 87, Cost: 344.9004247112456, Train Accuracy: 0.18886666666666665, Test Accuracy: 0.189\n",
      "Epoch: 88, Cost: 344.413864534069, Train Accuracy: 0.20881666666666668, Test Accuracy: 0.2103\n",
      "Epoch: 89, Cost: 344.08940179561654, Train Accuracy: 0.2092, Test Accuracy: 0.2108\n",
      "Epoch: 90, Cost: 344.52837083354717, Train Accuracy: 0.20716666666666667, Test Accuracy: 0.2092\n",
      "Epoch: 91, Cost: 343.94249998138787, Train Accuracy: 0.20903333333333332, Test Accuracy: 0.2106\n",
      "Epoch: 92, Cost: 344.2259368636161, Train Accuracy: 0.19486666666666666, Test Accuracy: 0.197\n",
      "Epoch: 93, Cost: 344.27277963292, Train Accuracy: 0.11236666666666667, Test Accuracy: 0.1135\n",
      "Epoch: 94, Cost: 344.3387704614898, Train Accuracy: 0.14771666666666666, Test Accuracy: 0.1477\n",
      "Epoch: 95, Cost: 343.6525822145806, Train Accuracy: 0.20866666666666667, Test Accuracy: 0.2103\n",
      "Epoch: 96, Cost: 344.47602307586806, Train Accuracy: 0.19738333333333333, Test Accuracy: 0.1999\n",
      "Epoch: 97, Cost: 343.9750830516224, Train Accuracy: 0.20531666666666668, Test Accuracy: 0.2076\n",
      "Epoch: 98, Cost: 341.5772122280456, Train Accuracy: 0.09871666666666666, Test Accuracy: 0.098\n",
      "Epoch: 99, Cost: 343.2050593641767, Train Accuracy: 0.15186666666666668, Test Accuracy: 0.1576\n",
      "Epoch: 100, Cost: 344.14881113836395, Train Accuracy: 0.18545, Test Accuracy: 0.1871\n",
      "총 학습 소요 시간: 97.565\n"
     ]
    }
   ],
   "source": [
    "model = MyModel()\n",
    "\n",
    "train_loss_list = list()\n",
    "train_acc_list = list()\n",
    "test_acc_list = list()\n",
    "iter_per_epoch = max(train_size / batch_size, 1)\n",
    "\n",
    "start_time = time.time()\n",
    "for i in tqdm(range(epochs)):\n",
    "    batch_idx = np.random.choice(train_size, batch_size)\n",
    "    X_batch = X_train[batch_idx]\n",
    "    y_batch = y_train_ohe[batch_idx]\n",
    "\n",
    "    grads = model.get_gradient(X_batch, y_batch)\n",
    "\n",
    "    for key in grads.keys():\n",
    "        model.params[key] -= lr * grads[key]\n",
    "\n",
    "    loss = model.loss(X_batch, y_batch)\n",
    "    train_loss_list.append(loss)\n",
    "\n",
    "    train_acc = model.accuracy(X_train, y_train_ohe)\n",
    "    test_acc = model.accuracy(X_test, y_test_ohe)\n",
    "    train_acc_list.append(train_acc)\n",
    "    test_acc_list.append(test_acc)\n",
    "\n",
    "    print(f\"Epoch: {i + 1}, Cost: {loss}, Train Accuracy: {train_acc}, Test Accuracy: {test_acc}\")\n",
    "\n",
    "end_time = time.time()\n",
    "print(f\"총 학습 소요 시간: {end_time - start_time:.3f}\")"
   ]
  }
 ],
 "metadata": {
  "kernelspec": {
   "display_name": "base",
   "language": "python",
   "name": "python3"
  },
  "language_info": {
   "codemirror_mode": {
    "name": "ipython",
    "version": 3
   },
   "file_extension": ".py",
   "mimetype": "text/x-python",
   "name": "python",
   "nbconvert_exporter": "python",
   "pygments_lexer": "ipython3",
   "version": "3.9.18"
  }
 },
 "nbformat": 4,
 "nbformat_minor": 2
}
