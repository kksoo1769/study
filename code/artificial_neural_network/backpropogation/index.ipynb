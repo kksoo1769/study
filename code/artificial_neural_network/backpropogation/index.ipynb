{
  "cells": [
    {
      "cell_type": "markdown",
      "metadata": {
        "id": "S9Db_VsP_m1S"
      },
      "source": [
        "## 오차역전파 (Backpropagation)\n"
      ]
    },
    {
      "cell_type": "markdown",
      "metadata": {
        "id": "8Vdi2PAG_3lW"
      },
      "source": [
        "### 오차역전파 알고리즘\n",
        "- 학습 데이터로 정방향(forward) 연산을 통해 손실함수 값(loss)을 구함\n",
        "\n",
        "- 각 layer별로 역전파학습을 위해 중간값을 저장\n",
        "\n",
        "- 손실함수를 학습 파라미터(가중치, 편향)로 미분하여  \n",
        "  마지막 layer로부터 앞으로 하나씩 연쇄법칙을 이용하여 미분\n",
        "  각 layer를 통과할 때마다 저장된 값을 이용\n",
        "\n",
        "- 오류(error)를 전달하면서 학습 파라미터를 조금씩 갱신\n"
      ]
    },
    {
      "cell_type": "markdown",
      "metadata": {
        "id": "-o545ezeUuSB"
      },
      "source": [
        "### 오차역전파 학습의 특징\n",
        "- 손실함수를 통한 평가를 한 번만 하고, 연쇄법칙을 이용한 미분을 활용하기 때문에  \n",
        "  학습 소요시간이 매우 단축!\n",
        "\n",
        "- 미분을 위한 중간값을 모두 저장하기 때문에 메모리를 많이 사용\n"
      ]
    },
    {
      "cell_type": "markdown",
      "metadata": {
        "id": "CFoTt-ds_w8C"
      },
      "source": [
        "### 신경망 학습에 있어서 미분가능의 중요성\n",
        "- 경사하강법(Gradient Descent)에서 손실 함수(cost function)의 최소값,  \n",
        "  즉, 최적값을 찾기 위한 방법으로 미분을 활용\n",
        "\n",
        "- 미분을 통해 손실 함수의 학습 매개변수(trainable parameter)를 갱신하여  \n",
        "  모델의 가중치의 최적값을 찾는 과정\n",
        "\n",
        "![](https://i.pinimg.com/originals/5d/13/20/5d1320c7b672710834e63b95a7c1037b.png)\n",
        "\n",
        "<sub>출처: https://www.pinterest.co.kr/pin/424816177350692379/</sub>"
      ]
    },
    {
      "cell_type": "markdown",
      "metadata": {
        "id": "ilYRMqLeQf6Z"
      },
      "source": [
        "### 합성함수의 미분 (연쇄법칙, chain rule)\n",
        "\n",
        "## $\\qquad \\frac{d}{dx} [f(g(x))] = f^\\prime(g(x))g^\\prime(x)$  \n",
        "\n",
        "\n",
        "- 여러 개 연속으로 사용가능  \n",
        "  ## $ \\quad \\frac{\\partial f}{\\partial x} = \\frac{\\partial f}{\\partial u} \\times \\frac{\\partial u}{\\partial m} \\times \\frac{\\partial m}{\\partial n} \\times \\ ... \\ \\frac{\\partial l}{\\partial k} \\times \\frac{\\partial k}{\\partial g} \\times \\frac{\\partial g}{\\partial x} $\n",
        "- 각각에 대해 편미분 적용가능\n",
        "\n",
        "![](https://cdn-media-1.freecodecamp.org/images/1*_KMMFvRP5X9kC59brI0ykw.png)\n",
        "<sub>출처: https://www.freecodecamp.org/news/demystifying-gradient-descent-and-backpropagation-via-logistic-regression-based-image-classification-9b5526c2ed46/</sub>\n",
        "\n",
        "- **오차역전파의 직관적 이해**\n",
        "  - 학습을 진행하면서, 즉 손실함수의 최소값(minimum)을 찾아가는 과정에서 가중치 또는 편향의 변화에 따라 얼마나 영향을 받는지 알 수 있음\n",
        "\n"
      ]
    },
    {
      "cell_type": "markdown",
      "metadata": {
        "id": "6NLF8CXiQkuL"
      },
      "source": [
        "#### 합성함수 미분(chain rule) 예제\n",
        "\n",
        "![](https://miro.medium.com/max/1000/1*azqHvbrNsZ8AIZ7H75tbIQ.jpeg)\n",
        "\n",
        "<sub>출처: https://medium.com/spidernitt/breaking-down-neural-networks-an-intuitive-approach-to-backpropagation-3b2ff958794c</sub>\n",
        "\n",
        "  #### $\\quad a=-1, \\ b=3, \\ c=4$,\n",
        "  #### $\\quad x = a + b, \\ y = b + c, \\ f = x * y \\ 일 때$    \n",
        "\n",
        "\n",
        "\n",
        "  ###\n",
        "  $\n",
        "  \\quad \\begin{matrix}\\frac{\\partial f}{\\partial x} &=& y\\ + \\ x \\ \\frac{\\partial y}{\\partial x} \\\\\n",
        "  &=& (b \\ + \\ c) \\ + \\ (a \\ +\\ b)\\ \\times \\ 0 \\\\\n",
        "  &=& 7 \\end{matrix}\n",
        "  $\n",
        "\n",
        "  ### \n",
        "  $\\quad \\begin{matrix}\\frac{\\partial f}{\\partial y} &=& x\\ + \\ \\frac{\\partial x}{\\partial y} \\ y \\\\\n",
        "  &=& (a \\ + \\ b) \\ + \\ 0 \\times (b \\ +\\ c) \\\\\n",
        "  &=& 2 \\end{matrix}$\n",
        "\n",
        "   <br>\n",
        "\n",
        "  ### \n",
        "  $ \\quad \\begin{matrix} \\frac{\\partial x}{\\partial a} &=& 1 \\ + \\ a \\ \\frac{\\partial b}{\\partial a} \\\\\n",
        "  &=& 1 \\end{matrix} $\n",
        "  ### \n",
        "  $ \\quad \\begin{matrix} \\frac{\\partial y}{\\partial c} &=& \\frac{\\partial b}{\\partial c}\\ + 1 \\\\\n",
        "   &=& 1 \\end{matrix} $\n",
        "  \n",
        "  <br>\n",
        "\n",
        "  ### \n",
        "  $ \\quad \\begin{matrix} \\frac{\\partial f}{\\partial a} &=& \\frac{\\partial f}{\\partial x} \\times \\frac{\\partial x}{\\partial a} \\\\\n",
        "  &=& y \\times 1 \\\\\n",
        "  &=& 7 \\times 1 = 7 \\\\\n",
        "  &=& 7  \\end{matrix} $\n",
        "    \n",
        "  ### \n",
        "  $ \\quad \\begin{matrix} \\frac{\\partial f}{\\partial b}\\\n",
        "  &=& \\frac{\\partial x}{\\partial b} \\ y \\ + \\ x \\ \\frac{\\partial y}{\\partial b}  \\\\\n",
        "  &=& 1 \\times 7 + 2 \\times 1  \\\\\n",
        "  &=& 9 \\end{matrix} $\n",
        "  \n",
        "\n",
        "  \n",
        "  "
      ]
    },
    {
      "cell_type": "markdown",
      "metadata": {
        "id": "2PgmdJN0Qtdw"
      },
      "source": [
        "### 덧셈, 곱셈 계층의 역전파\n",
        "- 위 예제를 통해 아래 사항을 알 수 있음\n",
        "\n",
        "  #### 1. $\\quad z = x + y$ 일 때,\n",
        "  ## $\\frac{\\partial z}{\\partial x} = 1, \\frac{\\partial z}{\\partial y} = 1 $\n",
        "\n",
        "  #### 2. $\\quad t = xy$ 일 때,\n",
        "  ## $\\frac{\\partial t}{\\partial x} = y, \\frac{\\partial t}{\\partial y} = x$\n"
      ]
    },
    {
      "cell_type": "code",
      "execution_count": 557,
      "metadata": {
        "id": "hShSxvW5WMqi"
      },
      "outputs": [],
      "source": [
        "class Mul():\n",
        "    def __init__(self):\n",
        "        self.x = None\n",
        "        self.y = None\n",
        "\n",
        "    def forward(self, x, y):\n",
        "        self.x = x\n",
        "        self.y = y\n",
        "        res = x * y\n",
        "        return res\n",
        "    \n",
        "    def backward(self, dres):\n",
        "        dx = dres * self.y\n",
        "        dy = dres * self.x\n",
        "        return dx, dy"
      ]
    },
    {
      "cell_type": "code",
      "execution_count": 558,
      "metadata": {
        "id": "1bovOx6UQvLP"
      },
      "outputs": [],
      "source": [
        "class Add():\n",
        "    def __init__(self):\n",
        "        self.x = None\n",
        "        self.y = None\n",
        "    \n",
        "    def forward(self, x, y):\n",
        "        self.x = x\n",
        "        self.y = y\n",
        "        res = x + y\n",
        "        return res\n",
        "    \n",
        "    def backward(self, dres):\n",
        "        dx = dres * 1\n",
        "        dy = dres * 1\n",
        "        return dx, dy"
      ]
    },
    {
      "cell_type": "code",
      "execution_count": 559,
      "metadata": {
        "id": "e3RawqlUQwp0"
      },
      "outputs": [],
      "source": [
        "a, b, c = -1, 3, 4\n",
        "x = Add()\n",
        "y = Add()\n",
        "f = Mul()"
      ]
    },
    {
      "cell_type": "code",
      "execution_count": 560,
      "metadata": {
        "id": "soyk-HWiSnwh"
      },
      "outputs": [
        {
          "name": "stdout",
          "output_type": "stream",
          "text": [
            "2 7 14\n"
          ]
        }
      ],
      "source": [
        "x_res = x.forward(a, b)\n",
        "y_res = y.forward(b, c)\n",
        "res = f.forward(x_res, y_res)\n",
        "\n",
        "print(x_res, y_res, res)"
      ]
    },
    {
      "cell_type": "code",
      "execution_count": 561,
      "metadata": {
        "id": "FhPPrFIqSpq1"
      },
      "outputs": [
        {
          "name": "stdout",
          "output_type": "stream",
          "text": [
            "7\n",
            "2\n",
            "7\n",
            "9\n",
            "2\n"
          ]
        }
      ],
      "source": [
        "dres = 1\n",
        "dx_mul, dy_mul = f.backward(dres)\n",
        "da_add, db_add_1 = x.backward(dx_mul)\n",
        "db_add_2, dc_add = y.backward(dy_mul)\n",
        "\n",
        "print(dx_mul, dy_mul, da_add, db_add_1 + db_add_2, dc_add, sep=\"\\n\")"
      ]
    },
    {
      "cell_type": "markdown",
      "metadata": {
        "id": "dMfl0J1uWgiY"
      },
      "source": [
        "![](https://miro.medium.com/max/2000/1*U3mVDYuvnaLhJzIFw_d5qQ.png)\n",
        "<sub>출처: https://medium.com/spidernitt/breaking-down-neural-networks-an-intuitive-approach-to-backpropagation-3b2ff958794c</sub>"
      ]
    },
    {
      "cell_type": "markdown",
      "metadata": {
        "id": "byODNRUF5fbv"
      },
      "source": [
        "### 활성화 함수(Activation)에서의 역전파"
      ]
    },
    {
      "cell_type": "markdown",
      "metadata": {
        "id": "OkRurUgm5hqn"
      },
      "source": [
        "#### 시그모이드(Sigmoid) 함수\n",
        "\n",
        "![](https://media.geeksforgeeks.org/wp-content/uploads/20190911181329/Screenshot-2019-09-11-18.05.46.png)\n",
        "\n",
        "<sub>출처: https://www.geeksforgeeks.org/implement-sigmoid-function-using-numpy/</sub>\n",
        "\n",
        "- 수식\n",
        "  # $\\quad y = \\frac{1}{1 + e^{-x}} $일 때,\n",
        "\n",
        "  ## \n",
        "  $\\quad \\begin{matrix}y' &=& (\\frac{1}{1 + e^{-x}})' \\\\\n",
        "  &=& \\frac{-1}{(1 + e^{-x})^2}\\ \\times \\ (-e^{-x}) \\\\\n",
        "  &=& \\frac{1}{1 + e^{-x}} \\ \\times \\ \\frac{e^{-x}}{1 + e^{-x}} \\\\\n",
        "  &=& \\frac{1}{1 + e^{-x}} \\ \\times \\ (1 - \\frac{1}{1 + e^{-x}}) \\\\\n",
        "  &=& y\\ (1\\ - \\ y)\n",
        "  \\end{matrix}$"
      ]
    },
    {
      "cell_type": "code",
      "execution_count": 562,
      "metadata": {
        "id": "DNWIw7ElVhLK"
      },
      "outputs": [],
      "source": [
        "import numpy as np\n",
        "\n",
        "class Sigmoid():\n",
        "    def __init__(self):\n",
        "        self.out = None\n",
        "    \n",
        "    def forward(self, x):\n",
        "        out = 1 / (1 + np.exp(-x))\n",
        "        return out\n",
        "\n",
        "    def backward(self, dout):\n",
        "        dx = dout * self.y * (1 - self.y) \n",
        "        return dx"
      ]
    },
    {
      "cell_type": "markdown",
      "metadata": {
        "id": "QWZ247xo5mtv"
      },
      "source": [
        "#### ReLU 함수\n",
        "\n",
        "![](https://3qeqpr26caki16dnhd19sv6by6v-wpengine.netdna-ssl.com/wp-content/uploads/2018/10/Line-Plot-of-Rectified-Linear-Activation-for-Negative-and-Positive-Inputs.png)\n",
        "\n",
        "<sub>출처: https://machinelearningmastery.com/rectified-linear-activation-function-for-deep-learning-neural-networks/</sub>\n",
        "\n",
        "\n",
        "- 수식  \n",
        "\n",
        "  ### \n",
        "  $\\qquad y=\n",
        "  \\begin{cases}\n",
        "  x & (x \\ge 0)  \\\\\n",
        "  0 & (x < 0)\n",
        "  \\end{cases}$ 일 때,\n",
        "\n",
        "  <br>\n",
        "\n",
        "  ### \n",
        "  $\\qquad \\frac{\\partial y}{\\partial x}=\n",
        "  \\begin{cases}\n",
        "  1 & (x \\ge 0)  \\\\\n",
        "  0 & (x < 0)\n",
        "  \\end{cases}$"
      ]
    },
    {
      "cell_type": "code",
      "execution_count": 563,
      "metadata": {
        "id": "hHcPmAzh5nOZ"
      },
      "outputs": [],
      "source": [
        "class ReLU():\n",
        "    def __init__(self):\n",
        "        self.out = None\n",
        "    \n",
        "    def forward(self, x):\n",
        "        self.mask = x < 0\n",
        "        out = x.copy()\n",
        "        out[self.mask] = 0\n",
        "        return out\n",
        "    \n",
        "    def backward(self, dout):\n",
        "        dout[self.mask] = 0\n",
        "        dx = dout\n",
        "        return dx"
      ]
    },
    {
      "cell_type": "markdown",
      "metadata": {
        "id": "MH_kQzedJFfw"
      },
      "source": [
        "### 행렬 연산에 대한 역전파\n",
        "\n",
        "# $\\qquad Y = X \\bullet W + B$"
      ]
    },
    {
      "cell_type": "markdown",
      "metadata": {
        "id": "W-SedVrpJILw"
      },
      "source": [
        "#### 순전파(forward)\n",
        "  \n",
        "  - 형상(shape)을 맞춰줘야함\n",
        "  - 앞서 봤던 곱셈, 덧셈 계층을 합친 형태"
      ]
    },
    {
      "cell_type": "code",
      "execution_count": 564,
      "metadata": {
        "id": "QKIO7EzSJGD1"
      },
      "outputs": [
        {
          "name": "stdout",
          "output_type": "stream",
          "text": [
            "(3,) (3, 2) (2,)\n"
          ]
        }
      ],
      "source": [
        "X = np.random.rand(3)\n",
        "W = np.random.rand(3, 2)\n",
        "B = np.random.rand(2)\n",
        "\n",
        "print(X.shape, W.shape, B.shape)"
      ]
    },
    {
      "cell_type": "code",
      "execution_count": 565,
      "metadata": {
        "id": "Tqvl76fFJNfU"
      },
      "outputs": [
        {
          "name": "stdout",
          "output_type": "stream",
          "text": [
            "(2,)\n"
          ]
        }
      ],
      "source": [
        "Y = np.dot(X, W) + B\n",
        "\n",
        "print(Y.shape)"
      ]
    },
    {
      "cell_type": "markdown",
      "metadata": {
        "id": "04GHZHAiJUGl"
      },
      "source": [
        "#### 역전파(1)\n",
        "\n",
        "##  $\\  Y = X \\bullet W$\n",
        "- $X :\\ \\ (2,\\ )$\n",
        "\n",
        "- $W :\\ \\ (2,\\ 3)$\n",
        "\n",
        "- $X \\bullet W :\\ \\ (3,\\ )$\n",
        "\n",
        "- $\\frac{\\partial L}{\\partial Y} :\\ \\ (3,\\ )$\n",
        "\n",
        "- $\\frac{\\partial L}{\\partial X} = \\frac{\\partial L}{\\partial Y}\\bullet W^T ,\\ (2,\\ )$\n",
        "\n",
        "- $\\frac{\\partial L}{\\partial W} = X^T \\bullet \\frac{\\partial L}{\\partial Y} ,\\ (2,\\ 3)$\n",
        "\n"
      ]
    },
    {
      "cell_type": "code",
      "execution_count": 566,
      "metadata": {
        "id": "DCruMHCGJSHK"
      },
      "outputs": [
        {
          "name": "stdout",
          "output_type": "stream",
          "text": [
            "X\n",
            "[-0.38900963  0.6318091 ]\n",
            "Y\n",
            "[0.39452757 0.18677587 0.39179564]\n",
            "W\n",
            "[[0.25317015 0.98456987 0.58749728]\n",
            " [0.78031988 0.90182784 0.98184364]]\n"
          ]
        }
      ],
      "source": [
        "X = np.random.randn(2)\n",
        "W = np.random.rand(2, 3)\n",
        "Y = np.dot(X, W)\n",
        "\n",
        "print(\"X\", X, sep=\"\\n\")\n",
        "print(\"Y\", Y, sep=\"\\n\")\n",
        "print(\"W\", W, sep=\"\\n\")"
      ]
    },
    {
      "cell_type": "code",
      "execution_count": 567,
      "metadata": {
        "id": "TEvyFXedJWC7"
      },
      "outputs": [
        {
          "name": "stdout",
          "output_type": "stream",
          "text": [
            "dL_dY\n",
            "[0.46924145 0.14483537 0.31223059]\n",
            "dL_dX\n",
            "[0.4448331  0.80333663]\n",
            "dL_dW\n",
            "[[-0.18253944 -0.05634236 -0.12146071]\n",
            " [ 0.29647102  0.09150831  0.19727013]]\n"
          ]
        }
      ],
      "source": [
        "dL_dY = np.random.randn(3)\n",
        "dL_dX = np.dot(dL_dY, W.T)\n",
        "dL_dW = np.dot(X.reshape(-1, 1), dL_dY.reshape(1, -1))\n",
        "\n",
        "print(\"dL_dY\", dL_dY, sep=\"\\n\")\n",
        "print(\"dL_dX\", dL_dX, sep=\"\\n\")\n",
        "print(\"dL_dW\", dL_dW, sep=\"\\n\")"
      ]
    },
    {
      "cell_type": "markdown",
      "metadata": {
        "id": "uuOVqySWJauS"
      },
      "source": [
        "#### 역전파(2)\n",
        "\n",
        "## $\\ (2)\\  Y = X \\bullet W + B$\n",
        "- $X, W$는 위와 동일\n",
        "\n",
        "- $B: \\ (3, )$\n",
        "\n",
        "- $\\frac{\\partial L}{\\partial B} = \\frac{\\partial L}{\\partial Y}, \\ (3,\\ )$"
      ]
    },
    {
      "cell_type": "code",
      "execution_count": 568,
      "metadata": {
        "id": "D_Jb9sY8JYGB"
      },
      "outputs": [
        {
          "data": {
            "text/plain": [
              "array([ 0.09684653, -0.80431901, -0.86016578])"
            ]
          },
          "execution_count": 568,
          "metadata": {},
          "output_type": "execute_result"
        }
      ],
      "source": [
        "X = np.random.randn(2)\n",
        "W = np.random.randn(2, 3)\n",
        "B = np.random.randn(3)\n",
        "Y = np.dot(X, W) + B\n",
        "\n",
        "Y"
      ]
    },
    {
      "cell_type": "code",
      "execution_count": 569,
      "metadata": {
        "id": "frdvKz8oJcoZ"
      },
      "outputs": [
        {
          "name": "stdout",
          "output_type": "stream",
          "text": [
            "dL_dY\n",
            "[ 0.72633818  1.11406721 -0.02497841]\n",
            "dL_dX\n",
            "[-1.29036487 -0.2408421 ]\n",
            "dL_dW\n",
            "[[ 0.19020717  0.2917423  -0.00654113]\n",
            " [-0.51644714 -0.79213353  0.01776036]]\n",
            "dL_dB\n",
            "[ 0.72633818  1.11406721 -0.02497841]\n"
          ]
        }
      ],
      "source": [
        "dL_dY = np.random.randn(3)\n",
        "dL_dX = np.dot(dL_dY, W.T)\n",
        "dL_dW = np.dot(X.reshape(-1, 1), dL_dY.reshape(1, -1))\n",
        "dL_dB = dL_dY\n",
        "\n",
        "print(\"dL_dY\", dL_dY, sep=\"\\n\")\n",
        "print(\"dL_dX\", dL_dX, sep=\"\\n\")\n",
        "print(\"dL_dW\", dL_dW, sep=\"\\n\")\n",
        "print(\"dL_dB\", dL_dB, sep=\"\\n\")"
      ]
    },
    {
      "cell_type": "markdown",
      "metadata": {
        "id": "0FrBSUsRJgFl"
      },
      "source": [
        "#### 배치용 행렬 내적 계층\n",
        "- N개의 데이터에 대해,  \n",
        "# $\\qquad Y = X \\bullet W + B$\n",
        "\n",
        "  - $X : \\quad  (N,\\ 3)$\n",
        "\n",
        "  - $W : \\quad  (3,\\ 2)$\n",
        "\n",
        "  - $B : \\quad  (2,\\ )$\n",
        "  "
      ]
    },
    {
      "cell_type": "code",
      "execution_count": 570,
      "metadata": {
        "id": "AoWx5fDnJd-2"
      },
      "outputs": [
        {
          "name": "stdout",
          "output_type": "stream",
          "text": [
            "(4, 3) (3, 2) (2,)\n"
          ]
        }
      ],
      "source": [
        "X = np.random.rand(4, 3)\n",
        "W = np.random.rand(3, 2)\n",
        "B = np.random.rand(2)\n",
        "\n",
        "print(X.shape, W.shape, B.shape)"
      ]
    },
    {
      "cell_type": "code",
      "execution_count": 571,
      "metadata": {
        "id": "EqhSX54BJmPQ"
      },
      "outputs": [
        {
          "name": "stdout",
          "output_type": "stream",
          "text": [
            "X\n",
            "[[0.79648098 0.16919829 0.68450298]\n",
            " [0.20719029 0.48836105 0.20747046]\n",
            " [0.71076974 0.98847953 0.62778034]\n",
            " [0.46483511 0.76480846 0.85381261]]\n",
            "W\n",
            "[[0.50863764 0.0764086 ]\n",
            " [0.87412919 0.68858643]\n",
            " [0.75870218 0.69883264]]\n",
            "B\n",
            "[0.62436019 0.02649475]\n"
          ]
        }
      ],
      "source": [
        "print(\"X\", X, sep=\"\\n\")\n",
        "print(\"W\", W, sep=\"\\n\")\n",
        "print(\"B\", B, sep=\"\\n\")"
      ]
    },
    {
      "cell_type": "code",
      "execution_count": 572,
      "metadata": {
        "id": "_1IOOfhuJqF-"
      },
      "outputs": [
        {
          "name": "stdout",
          "output_type": "stream",
          "text": [
            "Y\n",
            "[[1.69671545 0.68221341]\n",
            " [1.31404391 0.5235918 ]\n",
            " [2.32624156 1.20017066]\n",
            " [2.1771237  1.185321  ]]\n",
            "Y.shape: (4, 2)\n"
          ]
        }
      ],
      "source": [
        "Y = np.dot(X, W) + B\n",
        "\n",
        "print(\"Y\", Y, sep=\"\\n\")\n",
        "print(f\"Y.shape: {Y.shape}\")"
      ]
    },
    {
      "cell_type": "code",
      "execution_count": 573,
      "metadata": {
        "id": "TOKsN2NHJrqT"
      },
      "outputs": [
        {
          "name": "stdout",
          "output_type": "stream",
          "text": [
            "dL_dY\n",
            "[[ 0.06822356  0.4768065 ]\n",
            " [ 0.35477045 -0.06402577]\n",
            " [ 0.02553499  0.29359704]\n",
            " [-2.38833894 -0.38613134]]\n",
            "dL_dX\n",
            "[[ 0.07113318  0.38795869  0.38496931]\n",
            " [ 0.17555748  0.26602793  0.22442181]\n",
            " [ 0.03542139  0.22448782  0.22454865]\n",
            " [-1.24430284 -2.35360159 -2.08187914]]\n",
            "dL_dW\n",
            "[[-0.96419053  0.39569428]\n",
            " [-1.61658163  0.0443053 ]\n",
            " [-1.90285992  0.16772266]]\n",
            "dL_dB\n",
            "[-1.93980995  0.32024643]\n"
          ]
        }
      ],
      "source": [
        "dL_dY = np.random.randn(4, 2)\n",
        "dL_dX = np.dot(dL_dY, W.T)\n",
        "dL_dW = np.dot(X.T, dL_dY)\n",
        "dL_dB = np.sum(dL_dY, axis=0)\n",
        "\n",
        "print(\"dL_dY\", dL_dY, sep=\"\\n\")\n",
        "print(\"dL_dX\", dL_dX, sep=\"\\n\")\n",
        "print(\"dL_dW\", dL_dW, sep=\"\\n\")\n",
        "print(\"dL_dB\", dL_dB, sep=\"\\n\")"
      ]
    },
    {
      "cell_type": "code",
      "execution_count": 574,
      "metadata": {
        "id": "YjIYrXGaJtEz"
      },
      "outputs": [],
      "source": [
        "class Layer():\n",
        "    def __init__(self):\n",
        "        self.W = np.random.randn(3, 2)\n",
        "        self.B = np.random.randn(2)\n",
        "        self.x = None\n",
        "        self.dW = None\n",
        "        self.dB = None\n",
        "    \n",
        "    def forward(self, x):\n",
        "        self.x = x\n",
        "        out = np.dot(x, self.W) + self.B\n",
        "        return out\n",
        "    \n",
        "    def backward(self, dout):\n",
        "        dx = np.dot(dout, self.W.T)\n",
        "        self.dW = np.dot(self.x.T, dout)\n",
        "        self.dB = np.sum(dout, axis=0)\n",
        "        return dx"
      ]
    },
    {
      "cell_type": "code",
      "execution_count": 575,
      "metadata": {
        "id": "twG43EylJvC-"
      },
      "outputs": [],
      "source": [
        "np.random.seed(777)\n",
        "\n",
        "layer = Layer()"
      ]
    },
    {
      "cell_type": "code",
      "execution_count": 576,
      "metadata": {
        "id": "CrCDxHw5Jw3S"
      },
      "outputs": [
        {
          "data": {
            "text/plain": [
              "array([[ 1.31152297, -1.00557378],\n",
              "       [ 1.16845073, -1.83159172]])"
            ]
          },
          "execution_count": 576,
          "metadata": {},
          "output_type": "execute_result"
        }
      ],
      "source": [
        "X = np.random.rand(2, 3)\n",
        "Y = layer.forward(X)\n",
        "\n",
        "Y"
      ]
    },
    {
      "cell_type": "code",
      "execution_count": 577,
      "metadata": {
        "id": "boKm8OIgJyJy"
      },
      "outputs": [
        {
          "data": {
            "text/plain": [
              "array([[-0.77362569, -0.43853378,  1.04109071],\n",
              "       [-0.43300974, -0.28384713,  0.5296866 ]])"
            ]
          },
          "execution_count": 577,
          "metadata": {},
          "output_type": "execute_result"
        }
      ],
      "source": [
        "dout = np.random.rand(2, 2)\n",
        "dout_dx = layer.backward(dout)\n",
        "\n",
        "dout_dx"
      ]
    },
    {
      "cell_type": "markdown",
      "metadata": {
        "id": "Bz-0zFPpJ3Jz"
      },
      "source": [
        "### MNIST 분류 with 역전파\n"
      ]
    },
    {
      "cell_type": "markdown",
      "metadata": {
        "id": "eW3InPxBJ6qo"
      },
      "source": [
        "#### Modules Import"
      ]
    },
    {
      "cell_type": "code",
      "execution_count": 578,
      "metadata": {
        "id": "ZKtAhkm4J2Z3"
      },
      "outputs": [],
      "source": [
        "import tensorflow as tf\n",
        "import numpy as np\n",
        "import matplotlib.pyplot as plt\n",
        "from collections import OrderedDict"
      ]
    },
    {
      "cell_type": "markdown",
      "metadata": {
        "id": "F1_2_jGMKGiT"
      },
      "source": [
        "#### 데이터 로드"
      ]
    },
    {
      "cell_type": "code",
      "execution_count": 579,
      "metadata": {
        "id": "S3SQq80sJ8mR"
      },
      "outputs": [],
      "source": [
        "np.random.seed(42)\n",
        "\n",
        "mnist = tf.keras.datasets.mnist\n",
        "\n",
        "(X_train, y_train), (X_test, y_test) = mnist.load_data()\n",
        "\n",
        "num_classes = 10"
      ]
    },
    {
      "cell_type": "markdown",
      "metadata": {
        "id": "mv_pjKdxKKIy"
      },
      "source": [
        "#### 데이터 전처리"
      ]
    },
    {
      "cell_type": "code",
      "execution_count": 580,
      "metadata": {
        "id": "B95lI86tKIyY"
      },
      "outputs": [],
      "source": [
        "X_train, X_test = X_train.reshape(-1, X_train.shape[1] * X_train.shape[2]).astype(np.float64), X_test.reshape(-1, X_test.shape[1] * X_test.shape[2]).astype(np.float64)\n",
        "X_train, X_test = X_train / 255, X_test / 255\n",
        "\n",
        "y_train = np.eye(num_classes)[y_train]"
      ]
    },
    {
      "cell_type": "code",
      "execution_count": 581,
      "metadata": {},
      "outputs": [
        {
          "name": "stdout",
          "output_type": "stream",
          "text": [
            "(60000, 784) (60000, 10) (10000, 784) (10000,)\n"
          ]
        }
      ],
      "source": [
        "print(X_train.shape, y_train.shape, X_test.shape, y_test.shape)"
      ]
    },
    {
      "cell_type": "markdown",
      "metadata": {
        "id": "Oye4pC82KPbg"
      },
      "source": [
        "#### Hyper Parameters"
      ]
    },
    {
      "cell_type": "code",
      "execution_count": 582,
      "metadata": {
        "id": "rFeXORJjKM7s"
      },
      "outputs": [],
      "source": [
        "epcohs = 1000\n",
        "learning_rate = 1e-3\n",
        "batch_size = 100\n",
        "train_size = X_train.shape[0]"
      ]
    },
    {
      "cell_type": "code",
      "execution_count": 583,
      "metadata": {},
      "outputs": [
        {
          "data": {
            "text/plain": [
              "array([9, 9, 9])"
            ]
          },
          "execution_count": 583,
          "metadata": {},
          "output_type": "execute_result"
        }
      ],
      "source": [
        "np.square(np.array([1, 2, 3]) - np.array([4, 5, 6]))"
      ]
    },
    {
      "cell_type": "markdown",
      "metadata": {
        "id": "cIdzuyRDKSm0"
      },
      "source": [
        "#### Util Functions"
      ]
    },
    {
      "cell_type": "code",
      "execution_count": 584,
      "metadata": {
        "id": "8E2_fN1dKRzv"
      },
      "outputs": [],
      "source": [
        "def softmax(x):\n",
        "    if x.ndim == 2:\n",
        "        x = x.T\n",
        "        x = x - np.max(x, axis=0)\n",
        "        y = np.exp(x) / np.sum(np.exp(x), axis=0)\n",
        "        return y.T\n",
        "    \n",
        "    x = x - np.max(x)\n",
        "    return np.exp(x) / np.sum(np.exp(x))\n",
        "\n",
        "def mean_squared_error(pred_y, true_y):\n",
        "    return 0.5 * np.sum(np.square(pred_y - true_y))\n",
        "\n",
        "def cross_entropy_error(pred_y, true_y):\n",
        "    if pred_y.ndim == 1:\n",
        "        true_y = true_y.reshape(1, true_y.size)\n",
        "        pred_y = pred_y.reshape(1, pred_y.size)\n",
        "    \n",
        "    if true_y.size == pred_y.size:\n",
        "        true_y = true_y.argmax(axis=1)\n",
        "    \n",
        "    batch_size = pred_y.shape[0]\n",
        "    return -np.sum(np.log(pred_y[np.arange(batch_size), true_y] + 1e-7)) / batch_size\n",
        "\n",
        "def softmax_loss(X, true_y):\n",
        "    pred_y = softmax(X)\n",
        "    return cross_entropy_error(pred_y, true_y)"
      ]
    },
    {
      "cell_type": "markdown",
      "metadata": {
        "id": "SBvWUNh-KY2R"
      },
      "source": [
        "#### Util Classes"
      ]
    },
    {
      "cell_type": "markdown",
      "metadata": {
        "id": "rc0sLXWJs8Dq"
      },
      "source": [
        "##### ReLU"
      ]
    },
    {
      "cell_type": "code",
      "execution_count": 585,
      "metadata": {
        "id": "ej2m6Robs-uJ"
      },
      "outputs": [],
      "source": [
        "class ReLU():\n",
        "    def __init__(self):\n",
        "        self.out = None\n",
        "    \n",
        "    def forward(self, x):\n",
        "        self.mask = x < 0\n",
        "        out = x.copy()\n",
        "        out[x < 0] = 0\n",
        "        return out\n",
        "    \n",
        "    def backward(self, dout):\n",
        "        dout[self.mask] = 0\n",
        "        dx = dout\n",
        "        return dx"
      ]
    },
    {
      "cell_type": "markdown",
      "metadata": {
        "id": "RucLfG0EtYcf"
      },
      "source": [
        "##### Sigmoid"
      ]
    },
    {
      "cell_type": "code",
      "execution_count": 586,
      "metadata": {
        "id": "TWoPmtpNtZ__"
      },
      "outputs": [],
      "source": [
        "class Sigmoid():\n",
        "    def __init__(self):\n",
        "        self.out = None\n",
        "    \n",
        "    def forward(self, x):\n",
        "        out = 1 / (1 + np.exp(-x))\n",
        "        return out\n",
        "\n",
        "    def backward(self, dout):\n",
        "        dx = dout * (1.0 - self.out) * self.out\n",
        "        return dx"
      ]
    },
    {
      "cell_type": "markdown",
      "metadata": {
        "id": "IZZeNtd-tuM5"
      },
      "source": [
        "##### Layer"
      ]
    },
    {
      "cell_type": "code",
      "execution_count": 587,
      "metadata": {
        "id": "NEcCZ4bFtzgq"
      },
      "outputs": [],
      "source": [
        "class Layer_2():\n",
        "    def __init__(self, W, b):\n",
        "        self.W = W\n",
        "        self.b = b\n",
        "\n",
        "        self.x = None\n",
        "        self.origin_x_shape = None\n",
        "\n",
        "        self.dL_dW = None\n",
        "        self.dL_db = None\n",
        "\n",
        "    def forward(self, x):\n",
        "        self.origin_x_shape = x.shape\n",
        "\n",
        "        x = x.reshape(x.shape[0], -1)\n",
        "        self.x = x\n",
        "        out = np.dot(self.x, self.W) + self.b\n",
        "        return out\n",
        "    \n",
        "    def backward(self, dout):\n",
        "        dx = np.dot(dout, self.W.T)\n",
        "        self.dL_dW = np.dot(self.x.T, dout)\n",
        "        self.dL_db = np.sum(dout, axis=0)\n",
        "        dx = dx.reshape(*self.origin_x_shape)\n",
        "        return dx"
      ]
    },
    {
      "cell_type": "markdown",
      "metadata": {
        "id": "s1Yqp7kVvOoD"
      },
      "source": [
        "#### Softmax"
      ]
    },
    {
      "cell_type": "code",
      "execution_count": 588,
      "metadata": {
        "id": "0RXBVEMdvP9r"
      },
      "outputs": [],
      "source": [
        "class Softmax():\n",
        "    def __init__(self):\n",
        "        self.loss = None\n",
        "        self.y = None\n",
        "        self.t = None\n",
        "    \n",
        "    def forward(self, x, t):\n",
        "        self.t = t\n",
        "        self.y = softmax(x)\n",
        "        self.loss = cross_entropy_error(self.y, self.t)\n",
        "        return self.loss\n",
        "    \n",
        "    def backward(self, dout=1):\n",
        "        batch_size = self.t.shape[0]\n",
        "\n",
        "        if self.t.size == self.y.size:\n",
        "            dx = (self.y - self.t) / batch_size\n",
        "        else:\n",
        "            dx = self.y.copy()\n",
        "            dx[np.arange(batch_size), self.t] -= 1\n",
        "            dx = dx / batch_size\n",
        "        return dx"
      ]
    },
    {
      "cell_type": "code",
      "execution_count": 589,
      "metadata": {
        "id": "sX4I-bKfuRaq"
      },
      "outputs": [],
      "source": [
        "class MyModel():\n",
        "    def __init__(self, input_size, hidden_size_list, ouput_size, activation=\"relu\"):\n",
        "        self.input_size = input_size\n",
        "        self.output_size = ouput_size\n",
        "        self.hidden_size_list = hidden_size_list\n",
        "        self.hidden_layer_num = len(hidden_size_list)\n",
        "        self.params = {}\n",
        "\n",
        "        self.__init_weights(activation)\n",
        "\n",
        "        activation_layer = {\"sigmoid\": Sigmoid, \"relu\": ReLU}\n",
        "        self.layers = OrderedDict()\n",
        "        for idx in range(1, self.hidden_layer_num + 1):\n",
        "            self.layers[f\"Layer{idx}\"] = Layer_2(self.params[f\"W{idx}\"], self.params[f\"b{idx}\"])\n",
        "            self.layers[f\"Activation_function{idx}\"] = activation_layer[activation]()\n",
        "\n",
        "        idx = self.hidden_layer_num + 1\n",
        "        \n",
        "        self.layers[f\"Layer{idx}\"] = Layer_2(self.params[f\"W{idx}\"], self.params[f\"b{idx}\"])\n",
        "\n",
        "        self.last_layer = Softmax()\n",
        "\n",
        "    def __init_weights(self, activation):\n",
        "        weight_std = None\n",
        "        all_size_list = [self.input_size] + self.hidden_size_list + [self.output_size]\n",
        "        for idx in range(1, len(all_size_list)):\n",
        "            if activation.lower() == \"relu\":\n",
        "                weight_std = np.sqrt(2.0 / all_size_list[idx - 1])\n",
        "            elif activation.lower() == \"sigmoid\":\n",
        "                weight_std = np.sqrt(1.0 / self.input_size)\n",
        "            \n",
        "            self.params[f\"W{idx}\"] = weight_std * np.random.randn(all_size_list[idx - 1], all_size_list[idx])\n",
        "            self.params[f\"b{idx}\"] = np.random.randn(all_size_list[idx])\n",
        "\n",
        "    def predict(self, x):\n",
        "        for layer in self.layers.values():\n",
        "            x = layer.forward(x)\n",
        "        return x\n",
        "    \n",
        "    def loss(self, x, true_y):\n",
        "        pred_y = self.predict(x)\n",
        "        return self.last_layer.forward(pred_y, true_y)\n",
        "    \n",
        "    def accuracy(self, x, true_y):\n",
        "        pred_y = self.predict(x)\n",
        "        pred_y = np.argmax(pred_y, axis=1)\n",
        "\n",
        "        if true_y.ndim != 1:\n",
        "            true_y = np.argmax(true_y, axis=1)\n",
        "        \n",
        "        accuracy = np.sum(pred_y == true_y) / float(x.shape[0])\n",
        "        return accuracy\n",
        "    \n",
        "    def gradient(self, x, t):\n",
        "        self.loss(x, t)\n",
        "        \n",
        "        dout = 1\n",
        "        dout = self.last_layer.backward(dout)\n",
        "\n",
        "        layers = list(self.layers.values())\n",
        "        layers.reverse()\n",
        "        for layer in layers:\n",
        "            dout = layer.backward(dout)\n",
        "        \n",
        "        grads = {}\n",
        "        for idx in range(1, self.hidden_layer_num + 2):\n",
        "            grads[f\"W{idx}\"] = self.layers[f\"Layer{idx}\"].dL_dW\n",
        "            grads[f\"b{idx}\"] = self.layers[f\"Layer{idx}\"].dL_db\n",
        "        \n",
        "        return grads"
      ]
    },
    {
      "cell_type": "markdown",
      "metadata": {
        "id": "LwyNo3TsyDZR"
      },
      "source": [
        "#### 모델 생성 및 학습"
      ]
    },
    {
      "cell_type": "code",
      "execution_count": 590,
      "metadata": {
        "id": "Du5naLufxMvv"
      },
      "outputs": [],
      "source": [
        "model = MyModel(28 * 28, [100, 64, 32], 10, activation=\"relu\")"
      ]
    },
    {
      "cell_type": "code",
      "execution_count": 591,
      "metadata": {
        "id": "Rb0HhW9x0mrN"
      },
      "outputs": [],
      "source": [
        "train_loss_list = []\n",
        "train_acc_list = []\n",
        "test_acc_list = []"
      ]
    },
    {
      "cell_type": "code",
      "execution_count": 592,
      "metadata": {
        "id": "VV5PciwAxM6s"
      },
      "outputs": [
        {
          "name": "stdout",
          "output_type": "stream",
          "text": [
            "Epochs: 1, Train Accuracy 0.1047, Test Accuracy: 0.1034\n",
            "Epochs: 51, Train Accuracy 0.1745, Test Accuracy: 0.1849\n",
            "Epochs: 101, Train Accuracy 0.2092, Test Accuracy: 0.2211\n",
            "Epochs: 151, Train Accuracy 0.2173, Test Accuracy: 0.2271\n",
            "Epochs: 201, Train Accuracy 0.2309, Test Accuracy: 0.2408\n",
            "Epochs: 251, Train Accuracy 0.2402, Test Accuracy: 0.2540\n",
            "Epochs: 301, Train Accuracy 0.2678, Test Accuracy: 0.2853\n",
            "Epochs: 351, Train Accuracy 0.2880, Test Accuracy: 0.3043\n"
          ]
        },
        {
          "name": "stdout",
          "output_type": "stream",
          "text": [
            "Epochs: 401, Train Accuracy 0.3310, Test Accuracy: 0.3505\n",
            "Epochs: 451, Train Accuracy 0.3576, Test Accuracy: 0.3761\n",
            "Epochs: 501, Train Accuracy 0.3985, Test Accuracy: 0.4181\n",
            "Epochs: 551, Train Accuracy 0.4314, Test Accuracy: 0.4521\n",
            "Epochs: 601, Train Accuracy 0.4593, Test Accuracy: 0.4790\n",
            "Epochs: 651, Train Accuracy 0.4823, Test Accuracy: 0.5023\n",
            "Epochs: 701, Train Accuracy 0.5036, Test Accuracy: 0.5258\n",
            "Epochs: 751, Train Accuracy 0.5201, Test Accuracy: 0.5416\n",
            "Epochs: 801, Train Accuracy 0.5335, Test Accuracy: 0.5521\n",
            "Epochs: 851, Train Accuracy 0.5477, Test Accuracy: 0.5626\n",
            "Epochs: 901, Train Accuracy 0.5626, Test Accuracy: 0.5767\n",
            "Epochs: 951, Train Accuracy 0.5732, Test Accuracy: 0.5872\n"
          ]
        }
      ],
      "source": [
        "for epoch in range(epcohs):\n",
        "    batch_mask = np.random.choice(train_size, batch_size)\n",
        "    x_batch = X_train[batch_mask]\n",
        "    y_batch = y_train[batch_mask]\n",
        "\n",
        "    grad = model.gradient(x_batch, y_batch)\n",
        "\n",
        "    for key in model.params.keys():\n",
        "        model.params[key] -= learning_rate * grad[key]\n",
        "\n",
        "    loss = model.loss(x_batch, y_batch)\n",
        "    train_loss_list.append(loss)\n",
        "\n",
        "    if epoch % 50 == 0:\n",
        "        train_acc = model.accuracy(X_train, y_train.argmax(axis=1))\n",
        "        test_acc = model.accuracy(X_test, y_test)\n",
        "        train_acc_list.append(train_acc)\n",
        "        test_acc_list.append(test_acc)\n",
        "        print(f\"Epochs: {epoch + 1}, Train Accuracy {train_acc:.4f}, Test Accuracy: {test_acc:.4f}\")"
      ]
    },
    {
      "cell_type": "code",
      "execution_count": 593,
      "metadata": {
        "id": "dqqlZOF6KjDl"
      },
      "outputs": [
        {
          "data": {
            "image/png": "[encoded data removed]",
            "text/plain": [
              "<Figure size 640x480 with 1 Axes>"
            ]
          },
          "metadata": {},
          "output_type": "display_data"
        }
      ],
      "source": [
        "plt.plot(np.arange(1000 // 50), train_acc_list, \"r--\", label=\"train_acc\")\n",
        "plt.plot(np.arange(1000 // 50), test_acc_list, \"b--\", label=\"test_acc\")\n",
        "\n",
        "plt.title(\"Result\")\n",
        "plt.xlabel(\"Epochs\")\n",
        "plt.legend()\n",
        "\n",
        "plt.show()"
      ]
    },
    {
      "cell_type": "code",
      "execution_count": null,
      "metadata": {
        "id": "_BwHrt9nP8y8"
      },
      "outputs": [],
      "source": []
    }
  ],
  "metadata": {
    "colab": {
      "provenance": [],
      "toc_visible": true
    },
    "kernelspec": {
      "display_name": "Python 3",
      "name": "python3"
    },
    "language_info": {
      "codemirror_mode": {
        "name": "ipython",
        "version": 3
      },
      "file_extension": ".py",
      "mimetype": "text/x-python",
      "name": "python",
      "nbconvert_exporter": "python",
      "pygments_lexer": "ipython3",
      "version": "3.11.5"
    }
  },
  "nbformat": 4,
  "nbformat_minor": 0
}
