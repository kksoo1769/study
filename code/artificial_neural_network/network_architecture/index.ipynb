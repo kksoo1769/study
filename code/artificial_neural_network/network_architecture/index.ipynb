{
 "cells": [
  {
   "cell_type": "markdown",
   "metadata": {},
   "source": [
    "# Actiavation Function"
   ]
  },
  {
   "cell_type": "markdown",
   "metadata": {},
   "source": [
    "- Step: 특정 조건을 넘으면 1을 반환, 그렇지 않으면 0을 반환\n",
    "- Sigmoid: Binary classification의 마지막 출력층에 사용\n",
    "- ReLU(Rectified Linear Unit): 0보다 작거나 같으면 0을 반환, 그렇지 않으면 값 자체를 반환 -> 가장 많이 사용\n",
    "- tanh\n",
    "- Identity Function(항등 함수): $ y = x $, 회귀 문제에서 사용\n",
    "- softmax: Multi classification의 마지막 출력층에 사용, 입력값에 영향을 크게 받음, 출력값은 확률로 총합은 1"
   ]
  },
  {
   "cell_type": "markdown",
   "metadata": {},
   "source": [
    "일반적인 사용 순서\n",
    "\n",
    "1. ELU\n",
    "2. LeakyReLU\n",
    "3. ReLU\n",
    "4. tanh\n",
    "5. Sigmoid(잘 사용 X)"
   ]
  }
 ],
 "metadata": {
  "language_info": {
   "name": "python"
  }
 },
 "nbformat": 4,
 "nbformat_minor": 2
}
