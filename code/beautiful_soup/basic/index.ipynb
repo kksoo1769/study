{
 "cells": [
  {
   "cell_type": "markdown",
   "metadata": {},
   "source": [
    "# HTML Parsing"
   ]
  },
  {
   "cell_type": "code",
   "execution_count": 4,
   "metadata": {},
   "outputs": [
    {
     "name": "stdout",
     "output_type": "stream",
     "text": [
      "Overwriting example.html\n"
     ]
    }
   ],
   "source": [
    "%%writefile example.html\n",
    "<!DOCTYPE html>\n",
    "<html>\n",
    "    <head>\n",
    "        <title>Page Title</title>\n",
    "    </head>\n",
    "    <body>\n",
    "        <h1>Heading 1</h1>\n",
    "        <p>Paragraph</p>\n",
    "        <div>\n",
    "            <a href=\"www.google.com\">google</a>\n",
    "        </div>\n",
    "        <div class=\"class1\">\n",
    "            <p>a</p>\n",
    "            <a href=\"www.naver.com\">naver</a>\n",
    "            <p>b</p>\n",
    "            <p>c</p>\n",
    "        </div>\n",
    "        <div id=\"id1\">\n",
    "            Example page\n",
    "            <p>g</p>\n",
    "        </div>\n",
    "    </body>\n",
    "</html>"
   ]
  },
  {
   "cell_type": "code",
   "execution_count": 1,
   "metadata": {},
   "outputs": [
    {
     "data": {
      "text/plain": [
       "<!DOCTYPE html>\n",
       "\n",
       "<html>\n",
       "<head>\n",
       "<title>Page Title</title>\n",
       "</head>\n",
       "<body>\n",
       "<h1>Heading 1</h1>\n",
       "<p>Paragraph</p>\n",
       "<div>\n",
       "<a href=\"www.google.com\">google</a>\n",
       "</div>\n",
       "<div class=\"class1\">\n",
       "<p>a</p>\n",
       "<a href=\"www.naver.com\">naver</a>\n",
       "<p>b</p>\n",
       "<p>c</p>\n",
       "</div>\n",
       "<div id=\"id1\">\n",
       "            Example page\n",
       "            <p>g</p>\n",
       "</div>\n",
       "</body>\n",
       "</html>"
      ]
     },
     "execution_count": 1,
     "metadata": {},
     "output_type": "execute_result"
    }
   ],
   "source": [
    "from bs4 import BeautifulSoup\n",
    "import urllib.request\n",
    "\n",
    "with open(\"example.html\") as fp:\n",
    "    soup = BeautifulSoup(fp, \"html.parser\")\n",
    "\n",
    "soup"
   ]
  },
  {
   "cell_type": "code",
   "execution_count": 2,
   "metadata": {},
   "outputs": [
    {
     "name": "stdout",
     "output_type": "stream",
     "text": [
      "<!DOCTYPE html>\n",
      "<html>\n",
      " <head>\n",
      "  <title>\n",
      "   Page Title\n",
      "  </title>\n",
      " </head>\n",
      " <body>\n",
      "  <h1>\n",
      "   Heading 1\n",
      "  </h1>\n",
      "  <p>\n",
      "   Paragraph\n",
      "  </p>\n",
      "  <div>\n",
      "   <a href=\"www.google.com\">\n",
      "    google\n",
      "   </a>\n",
      "  </div>\n",
      "  <div class=\"class1\">\n",
      "   <p>\n",
      "    a\n",
      "   </p>\n",
      "   <a href=\"www.naver.com\">\n",
      "    naver\n",
      "   </a>\n",
      "   <p>\n",
      "    b\n",
      "   </p>\n",
      "   <p>\n",
      "    c\n",
      "   </p>\n",
      "  </div>\n",
      "  <div id=\"id1\">\n",
      "   Example page\n",
      "   <p>\n",
      "    g\n",
      "   </p>\n",
      "  </div>\n",
      " </body>\n",
      "</html>\n",
      "\n"
     ]
    }
   ],
   "source": [
    "print(soup.prettify()) # html과 비슷하게"
   ]
  },
  {
   "cell_type": "markdown",
   "metadata": {},
   "source": [
    "# HTML 태그 Parsing"
   ]
  },
  {
   "cell_type": "code",
   "execution_count": 3,
   "metadata": {},
   "outputs": [
    {
     "data": {
      "text/plain": [
       "<title>Page Title</title>"
      ]
     },
     "execution_count": 3,
     "metadata": {},
     "output_type": "execute_result"
    }
   ],
   "source": [
    "soup.title"
   ]
  },
  {
   "cell_type": "code",
   "execution_count": 4,
   "metadata": {},
   "outputs": [
    {
     "data": {
      "text/plain": [
       "'title'"
      ]
     },
     "execution_count": 4,
     "metadata": {},
     "output_type": "execute_result"
    }
   ],
   "source": [
    "soup.title.name"
   ]
  },
  {
   "cell_type": "code",
   "execution_count": 5,
   "metadata": {},
   "outputs": [
    {
     "data": {
      "text/plain": [
       "'Page Title'"
      ]
     },
     "execution_count": 5,
     "metadata": {},
     "output_type": "execute_result"
    }
   ],
   "source": [
    "soup.title.string"
   ]
  },
  {
   "cell_type": "code",
   "execution_count": 6,
   "metadata": {},
   "outputs": [
    {
     "data": {
      "text/plain": [
       "<head>\n",
       "<title>Page Title</title>\n",
       "</head>"
      ]
     },
     "execution_count": 6,
     "metadata": {},
     "output_type": "execute_result"
    }
   ],
   "source": [
    "soup.title.parent"
   ]
  },
  {
   "cell_type": "code",
   "execution_count": 7,
   "metadata": {},
   "outputs": [
    {
     "data": {
      "text/plain": [
       "'head'"
      ]
     },
     "execution_count": 7,
     "metadata": {},
     "output_type": "execute_result"
    }
   ],
   "source": [
    "soup.title.parent.name"
   ]
  },
  {
   "cell_type": "code",
   "execution_count": 8,
   "metadata": {},
   "outputs": [
    {
     "data": {
      "text/plain": [
       "<h1>Heading 1</h1>"
      ]
     },
     "execution_count": 8,
     "metadata": {},
     "output_type": "execute_result"
    }
   ],
   "source": [
    "soup.h1"
   ]
  },
  {
   "cell_type": "code",
   "execution_count": 9,
   "metadata": {},
   "outputs": [
    {
     "data": {
      "text/plain": [
       "<p>Paragraph</p>"
      ]
     },
     "execution_count": 9,
     "metadata": {},
     "output_type": "execute_result"
    }
   ],
   "source": [
    "soup.p # 가장 맨 위의 p 태그"
   ]
  },
  {
   "cell_type": "code",
   "execution_count": 10,
   "metadata": {},
   "outputs": [
    {
     "data": {
      "text/plain": [
       "<div>\n",
       "<a href=\"www.google.com\">google</a>\n",
       "</div>"
      ]
     },
     "execution_count": 10,
     "metadata": {},
     "output_type": "execute_result"
    }
   ],
   "source": [
    "soup.div # 가장 맨 위의 div 태그"
   ]
  },
  {
   "cell_type": "code",
   "execution_count": 11,
   "metadata": {},
   "outputs": [
    {
     "data": {
      "text/plain": [
       "<a href=\"www.google.com\">google</a>"
      ]
     },
     "execution_count": 11,
     "metadata": {},
     "output_type": "execute_result"
    }
   ],
   "source": [
    "soup.a # 가장 맨 위의 a 태그"
   ]
  },
  {
   "cell_type": "markdown",
   "metadata": {},
   "source": [
    "# HTML 태그 검색"
   ]
  },
  {
   "cell_type": "markdown",
   "metadata": {},
   "source": [
    "- `find()`: 해당 조건에 맞는 하나의 태그를 가져옴\n",
    "- `find_all()`: 해당 조건에 맞는 모든 태그를 가져옴\n",
    "- `select()`: CSS 선택자와 같은 형식으로 선택 가능"
   ]
  },
  {
   "cell_type": "code",
   "execution_count": 12,
   "metadata": {},
   "outputs": [
    {
     "data": {
      "text/plain": [
       "<div>\n",
       "<a href=\"www.google.com\">google</a>\n",
       "</div>"
      ]
     },
     "execution_count": 12,
     "metadata": {},
     "output_type": "execute_result"
    }
   ],
   "source": [
    "soup_find = soup.find(\"div\")\n",
    "\n",
    "soup_find"
   ]
  },
  {
   "cell_type": "code",
   "execution_count": 24,
   "metadata": {},
   "outputs": [
    {
     "data": {
      "text/plain": [
       "[<div>\n",
       " <a href=\"www.google.com\">google</a>\n",
       " </div>,\n",
       " <div class=\"class1\">\n",
       " <p>a</p>\n",
       " <a href=\"www.naver.com\">naver</a>\n",
       " <p>b</p>\n",
       " <p>c</p>\n",
       " </div>,\n",
       " <div id=\"id1\">\n",
       "             Example page\n",
       "             <p>g</p>\n",
       " </div>]"
      ]
     },
     "execution_count": 24,
     "metadata": {},
     "output_type": "execute_result"
    }
   ],
   "source": [
    "soup_find_all = soup.find_all(\"div\")\n",
    "\n",
    "soup_find_all"
   ]
  },
  {
   "cell_type": "code",
   "execution_count": 26,
   "metadata": {},
   "outputs": [
    {
     "data": {
      "text/plain": [
       "[<div id=\"id1\">\n",
       "             Example page\n",
       "             <p>g</p>\n",
       " </div>]"
      ]
     },
     "execution_count": 26,
     "metadata": {},
     "output_type": "execute_result"
    }
   ],
   "source": [
    "find_by_id = soup.find_all(\"div\", {\"id\": \"id1\"})\n",
    "\n",
    "find_by_id"
   ]
  },
  {
   "cell_type": "code",
   "execution_count": 27,
   "metadata": {},
   "outputs": [
    {
     "data": {
      "text/plain": [
       "[<div class=\"class1\">\n",
       " <p>a</p>\n",
       " <a href=\"www.naver.com\">naver</a>\n",
       " <p>b</p>\n",
       " <p>c</p>\n",
       " </div>]"
      ]
     },
     "execution_count": 27,
     "metadata": {},
     "output_type": "execute_result"
    }
   ],
   "source": [
    "find_by_class = soup.find_all(\"div\", {\"class\": \"class1\"})\n",
    "\n",
    "find_by_class"
   ]
  },
  {
   "cell_type": "code",
   "execution_count": 28,
   "metadata": {},
   "outputs": [
    {
     "data": {
      "text/plain": [
       "'www.google.com'"
      ]
     },
     "execution_count": 28,
     "metadata": {},
     "output_type": "execute_result"
    }
   ],
   "source": [
    "soup.find(\"a\").get(\"href\")"
   ]
  },
  {
   "cell_type": "code",
   "execution_count": 30,
   "metadata": {},
   "outputs": [
    {
     "data": {
      "text/plain": [
       "'google'"
      ]
     },
     "execution_count": 30,
     "metadata": {},
     "output_type": "execute_result"
    }
   ],
   "source": [
    "soup.find(\"a\").get_text()"
   ]
  },
  {
   "cell_type": "code",
   "execution_count": 32,
   "metadata": {},
   "outputs": [
    {
     "name": "stdout",
     "output_type": "stream",
     "text": [
      "<a href=\"www.google.com\">google</a>\n",
      "www.google.com\n",
      "google\n",
      "<a href=\"www.naver.com\">naver</a>\n",
      "www.naver.com\n",
      "naver\n"
     ]
    }
   ],
   "source": [
    "site_names = soup.find_all(\"a\")\n",
    "\n",
    "for name in site_names:\n",
    "    print(name)\n",
    "    print(name.get(\"href\"))\n",
    "    print(name.get_text())"
   ]
  },
  {
   "cell_type": "code",
   "execution_count": 33,
   "metadata": {},
   "outputs": [
    {
     "data": {
      "text/plain": [
       "[<div id=\"id1\">\n",
       "             Example page\n",
       "             <p>g</p>\n",
       " </div>]"
      ]
     },
     "execution_count": 33,
     "metadata": {},
     "output_type": "execute_result"
    }
   ],
   "source": [
    "id1 = soup.select(\"div#id1\")\n",
    "\n",
    "id1"
   ]
  },
  {
   "cell_type": "code",
   "execution_count": 34,
   "metadata": {},
   "outputs": [
    {
     "data": {
      "text/plain": [
       "[<div class=\"class1\">\n",
       " <p>a</p>\n",
       " <a href=\"www.naver.com\">naver</a>\n",
       " <p>b</p>\n",
       " <p>c</p>\n",
       " </div>]"
      ]
     },
     "execution_count": 34,
     "metadata": {},
     "output_type": "execute_result"
    }
   ],
   "source": [
    "class1 = soup.select(\"div.class1\")\n",
    "\n",
    "class1"
   ]
  },
  {
   "cell_type": "code",
   "execution_count": 35,
   "metadata": {},
   "outputs": [
    {
     "data": {
      "text/plain": [
       "[<a href=\"www.naver.com\">naver</a>]"
      ]
     },
     "execution_count": 35,
     "metadata": {},
     "output_type": "execute_result"
    }
   ],
   "source": [
    "class1_a = soup.select(\"div.class1 > a\")\n",
    "\n",
    "class1_a"
   ]
  },
  {
   "cell_type": "markdown",
   "metadata": {},
   "source": [
    "# 웹페이지 콘텐츠 가져오기"
   ]
  },
  {
   "cell_type": "code",
   "execution_count": 40,
   "metadata": {},
   "outputs": [
    {
     "name": "stdout",
     "output_type": "stream",
     "text": [
      "Overwriting anthem.html\n"
     ]
    }
   ],
   "source": [
    "%%writefile anthem.html\n",
    "<!DOCTYPE html>\n",
    "<html>\n",
    "<head>\n",
    "</head>\n",
    "<body>\n",
    "    <div>\n",
    "        <p id=\"title\">애국가</p>\n",
    "        <p id=\"content\">\n",
    "            동해물과 백두산이 마르고 닳도록 하느님이 보우하사 우리나라 만세<br>\n",
    "            무궁화 삼천리 화려 강산 대한 사람 대한으로 길이 보전하세\n",
    "        </p>\n",
    "        <p id=\"content\">\n",
    "            남산 위에 저 소나무 철갑을 두른 듯 바람 서리 불변함은 우리 기상 일세<br>\n",
    "            무궁화 삼천리 화려 강산 대한 사람 대한으로 길이 보전하세\n",
    "        </p>\n",
    "    </div>\n",
    "</body>\n",
    "</html>"
   ]
  },
  {
   "cell_type": "code",
   "execution_count": 41,
   "metadata": {},
   "outputs": [
    {
     "data": {
      "text/plain": [
       "<!DOCTYPE html>\n",
       "\n",
       "<html>\n",
       "<head>\n",
       "</head>\n",
       "<body>\n",
       "<div>\n",
       "<p id=\"title\">애국가</p>\n",
       "<p id=\"content\">\n",
       "            동해물과 백두산이 마르고 닳도록 하느님이 보우하사 우리나라 만세<br/>\n",
       "            무궁화 삼천리 화려 강산 대한 사람 대한으로 길이 보전하세\n",
       "        </p>\n",
       "<p id=\"content\">\n",
       "            남산 위에 저 소나무 철갑을 두른 듯 바람 서리 불변함은 우리 기상 일세<br/>\n",
       "            무궁화 삼천리 화려 강산 대한 사람 대한으로 길이 보전하세\n",
       "        </p>\n",
       "</div>\n",
       "</body>\n",
       "</html>"
      ]
     },
     "execution_count": 41,
     "metadata": {},
     "output_type": "execute_result"
    }
   ],
   "source": [
    "with open(\"anthem.html\") as fp:\n",
    "    soup = BeautifulSoup(fp, \"html.parser\")\n",
    "\n",
    "soup"
   ]
  },
  {
   "cell_type": "code",
   "execution_count": 43,
   "metadata": {},
   "outputs": [
    {
     "name": "stdout",
     "output_type": "stream",
     "text": [
      "\n",
      "            동해물과 백두산이 마르고 닳도록 하느님이 보우하사 우리나라 만세\n",
      "            무궁화 삼천리 화려 강산 대한 사람 대한으로 길이 보전하세\n",
      "        \n",
      "\n",
      "            남산 위에 저 소나무 철갑을 두른 듯 바람 서리 불변함은 우리 기상 일세\n",
      "            무궁화 삼천리 화려 강산 대한 사람 대한으로 길이 보전하세\n",
      "        \n"
     ]
    }
   ],
   "source": [
    "title = soup.find(\"p\", {\"id\": \"title\"})\n",
    "contents = soup.find_all(\"p\", {\"id\": \"content\"})\n",
    "\n",
    "for content in contents:\n",
    "    print(content.get_text())"
   ]
  },
  {
   "cell_type": "markdown",
   "metadata": {},
   "source": [
    "# 인터넷 웹페이지 가져오기"
   ]
  },
  {
   "cell_type": "code",
   "execution_count": 45,
   "metadata": {},
   "outputs": [
    {
     "data": {
      "text/plain": [
       "<!DOCTYPE html>\n",
       "\n",
       "<!--[if IE 8]>\t\t\t<html class=\"ie ie8\"> <![endif]-->\n",
       "<!--[if IE 9]>\t\t\t<html class=\"ie ie9\"> <![endif]-->\n",
       "<!--[if gt IE 9]><!--> <html> <!--<![endif]-->\n",
       "<head>\n",
       "<meta charset=\"utf-8\"/>\n",
       "<title>Home | SuanLab</title>\n",
       "<meta content=\"Suan, Computer, Data, Course, Lecture, Research, Big Data, Machine Learning, Deep Learning, Cloud Computing, Data Analysis, Visualzation\" name=\"keywords\"/>\n",
       "<meta content=\"Suan Computer Laboratory\" name=\"description\"/>\n",
       "<meta content=\"Suan Lee\" name=\"Author\"/>\n",
       "<!-- mobile settings -->\n",
       "<meta content=\"width=device-width, maximum-scale=1, initial-scale=1, user-scalable=0\" name=\"viewport\"/>\n",
       "<!--[if IE]><meta http-equiv='X-UA-Compatible' content='IE=edge,chrome=1'><![endif]-->\n",
       "<!-- WEB FONTS : use %7C instead of | (pipe) -->\n",
       "<link href=\"https://fonts.googleapis.com/css?family=Open+Sans:300,400%7CRaleway:300,400,500,600,700%7CLato:300,400,400italic,600,700\" rel=\"stylesheet\" type=\"text/css\"/>\n",
       "<!-- CORE CSS -->\n",
       "<link href=\"assets/plugins/bootstrap/css/bootstrap.min.css\" rel=\"stylesheet\" type=\"text/css\"/>\n",
       "<!-- REVOLUTION SLIDER -->\n",
       "<link href=\"assets/plugins/slider.revolution/css/extralayers.css\" rel=\"stylesheet\" type=\"text/css\"/>\n",
       "<link href=\"assets/plugins/slider.revolution/css/settings.css\" rel=\"stylesheet\" type=\"text/css\"/>\n",
       "<!-- THEME CSS -->\n",
       "<link href=\"assets/css/essentials.css\" rel=\"stylesheet\" type=\"text/css\"/>\n",
       "<link href=\"assets/css/layout.css\" rel=\"stylesheet\" type=\"text/css\"/>\n",
       "<!-- PAGE LEVEL SCRIPTS -->\n",
       "<link href=\"assets/css/header-5.css\" rel=\"stylesheet\" type=\"text/css\"/>\n",
       "<link href=\"assets/css/color_scheme/blue.css\" id=\"color_scheme\" rel=\"stylesheet\" type=\"text/css\"/>\n",
       "<!-- Global site tag (gtag.js) - Google Analytics -->\n",
       "<script async=\"\" src=\"https://www.googletagmanager.com/gtag/js?id=UA-37045461-1\"></script>\n",
       "<script>\n",
       "\t\t\twindow.dataLayer = window.dataLayer || [];\n",
       "\t\t\tfunction gtag(){dataLayer.push(arguments);}\n",
       "\t\t\tgtag('js', new Date());\n",
       "\t\t\tgtag('config', 'UA-37045461-1');\n",
       "\t\t</script>\n",
       "<meta content=\"yC90balEva1NVnga94ts3S2jvOdX3QqkDXA2EzIKODg\" name=\"google-site-verification\"/>\n",
       "</head>\n",
       "<!--                           \n",
       "\t\tAVAILABLE BODY CLASSES:\n",
       "\t\t\n",
       "\t\tsmoothscroll \t\t\t= create a browser smooth scroll\n",
       "\t\tenable-animation\t\t= enable WOW animations\n",
       "\n",
       "\t\tbg-grey\t\t\t\t\t= grey background\n",
       "\t\tgrain-grey\t\t\t\t= grey grain background\n",
       "\t\tgrain-blue\t\t\t\t= blue grain background\n",
       "\t\tgrain-green\t\t\t\t= green grain background\n",
       "\t\tgrain-blue\t\t\t\t= blue grain background\n",
       "\t\tgrain-orange\t\t\t= orange grain background\n",
       "\t\tgrain-yellow\t\t\t= yellow grain background\n",
       "\t\t\n",
       "\t\tboxed \t\t\t\t\t= boxed layout\n",
       "\t\tpattern1 ... patern11\t= pattern background\n",
       "\t\tmenu-vertical-hide\t\t= hidden, open on click\n",
       "\t\t\n",
       "\t\tBACKGROUND IMAGE [together with .boxed class]\n",
       "\t\tdata-background=\"assets/images/boxed_background/1.jpg\"\n",
       "\t-->\n",
       "<body class=\"smoothscroll enable-animation\">\n",
       "<!-- wrapper -->\n",
       "<div id=\"wrapper\">\n",
       "<!-- \n",
       "\t\t\t\tAVAILABLE HEADER CLASSES\n",
       "\n",
       "\t\t\t\tDefault nav height: 96px\n",
       "\t\t\t\t.header-md \t\t= 70px nav height\n",
       "\t\t\t\t.header-sm \t\t= 60px nav height\n",
       "\n",
       "\t\t\t\t.noborder \t\t= remove bottom border (only with transparent use)\n",
       "\t\t\t\t.transparent\t= transparent header\n",
       "\t\t\t\t.translucent\t= translucent header\n",
       "\t\t\t\t.sticky\t\t\t= sticky header\n",
       "\t\t\t\t.static\t\t\t= static header\n",
       "\t\t\t\t.dark\t\t\t= dark header\n",
       "\t\t\t\t.bottom\t\t\t= header on bottom\n",
       "\t\t\t\t\n",
       "\t\t\t\tshadow-before-1 = shadow 1 header top\n",
       "\t\t\t\tshadow-after-1 \t= shadow 1 header bottom\n",
       "\t\t\t\tshadow-before-2 = shadow 2 header top\n",
       "\t\t\t\tshadow-after-2 \t= shadow 2 header bottom\n",
       "\t\t\t\tshadow-before-3 = shadow 3 header top\n",
       "\t\t\t\tshadow-after-3 \t= shadow 3 header bottom\n",
       "\n",
       "\t\t\t\t.clearfix\t\t= required for mobile menu, do not remove!\n",
       "\n",
       "\t\t\t\tExample Usage:  class=\"clearfix sticky header-sm transparent noborder\"\n",
       "\t\t\t-->\n",
       "<div class=\"sticky clearfix\" id=\"header\">\n",
       "<!-- TOP NAV -->\n",
       "<header id=\"topNav\">\n",
       "<div class=\"container\">\n",
       "<!-- Mobile Menu Button -->\n",
       "<button class=\"btn btn-mobile\" data-target=\".nav-main-collapse\" data-toggle=\"collapse\">\n",
       "<i class=\"fa fa-bars\"></i>\n",
       "</button>\n",
       "<!-- Logo -->\n",
       "<a class=\"logo pull-left\" href=\"index.html\">\n",
       "<img alt=\"\" src=\"assets/images/logo.png\"/>\n",
       "</a>\n",
       "<!-- \n",
       "\t\t\t\t\t\t\tTop Nav \n",
       "\t\t\t\t\t\t\t\n",
       "\t\t\t\t\t\t\tAVAILABLE CLASSES:\n",
       "\t\t\t\t\t\t\tsubmenu-dark = dark sub menu\n",
       "\t\t\t\t\t\t-->\n",
       "<div class=\"navbar-collapse pull-right nav-main-collapse collapse\">\n",
       "<nav class=\"nav-main\">\n",
       "<ul class=\"nav nav-pills nav-main\" id=\"topMain\">\n",
       "<li><!-- SUAN -->\n",
       "<a href=\"suan/\">\n",
       "<span class=\"topMain-icon\">\n",
       "<i class=\"et-profile-male\"></i>\n",
       "\t\t\t\t\t\t\t\t\t\t\t\tSUAN\n",
       "\t\t\t\t\t\t\t\t\t\t\t</span>\n",
       "</a>\n",
       "</li>\n",
       "<li class=\"dropdown\"><!-- RESEARCH -->\n",
       "<a class=\"dropdown-toggle\" href=\"research/\">\n",
       "<span class=\"topMain-icon\">\n",
       "<i class=\"et-search\"></i>\n",
       "\t\t\t\t\t\t\t\t\t\t\t\tRESEARCH\n",
       "\t\t\t\t\t\t\t\t\t\t\t</span>\n",
       "</a>\n",
       "<ul class=\"dropdown-menu\">\n",
       "<li>\n",
       "<a href=\"research/ds.html\">\n",
       "<i class=\"et-gears\"></i> Data Science &amp; Big Data\n",
       "\t\t\t\t\t\t\t\t\t\t\t\t</a>\n",
       "</li>\n",
       "<li>\n",
       "<a href=\"research/dl.html\">\n",
       "<i class=\"et-layers\"></i> Deep Learning &amp; Machine Learning\n",
       "\t\t\t\t\t\t\t\t\t\t\t\t</a>\n",
       "</li>\n",
       "<li>\n",
       "<a href=\"research/nlp.html\">\n",
       "<i class=\"et-document\"></i> Natural Language Processing\n",
       "\t\t\t\t\t\t\t\t\t\t\t\t</a>\n",
       "</li>\n",
       "<li>\n",
       "<a href=\"research/cv.html\">\n",
       "<i class=\"et-pictures\"></i> Computer Vision\n",
       "\t\t\t\t\t\t\t\t\t\t\t\t</a>\n",
       "</li>\n",
       "<li>\n",
       "<a href=\"research/graphs.html\">\n",
       "<i class=\"et-linegraph\"></i> Graphs and Tensors\n",
       "\t\t\t\t\t\t\t\t\t\t\t\t</a>\n",
       "</li>\n",
       "<li>\n",
       "<a href=\"research/st.html\">\n",
       "<i class=\"et-map\"></i> Spatio-Temporal\n",
       "\t\t\t\t\t\t\t\t\t\t\t\t</a>\n",
       "</li>\n",
       "</ul>\n",
       "</li>\n",
       "<li><!-- PROJECT -->\n",
       "<a href=\"project/\">\n",
       "<span class=\"topMain-icon\">\n",
       "<i class=\"et-notebook\"></i>\n",
       "\t\t\t\t\t\t\t\t\t\t\t\tPROJECT\n",
       "\t\t\t\t\t\t\t\t\t\t\t</span>\n",
       "</a>\n",
       "</li>\n",
       "<li><!-- PUBLICATION -->\n",
       "<a href=\"publication/\">\n",
       "<span class=\"topMain-icon\">\n",
       "<i class=\"et-newspaper\"></i>\n",
       "\t\t\t\t\t\t\t\t\t\t\t\tPUBLICATION\n",
       "\t\t\t\t\t\t\t\t\t\t\t</span>\n",
       "</a>\n",
       "</li>\n",
       "<li><!-- BOOK -->\n",
       "<a href=\"../book/\">\n",
       "<span class=\"topMain-icon\">\n",
       "<i class=\"et-book-open\"></i>\n",
       "\t\t\t\t\t\t\t\t\t\t\t\tBOOK\n",
       "\t\t\t\t\t\t\t\t\t\t\t</span>\n",
       "</a>\n",
       "</li>\n",
       "<li class=\"dropdown\"><!-- LECTURE -->\n",
       "<a class=\"dropdown-toggle\" href=\"lecture/\">\n",
       "<span class=\"topMain-icon\">\n",
       "<i class=\"et-documents\"></i>\n",
       "\t\t\t\t\t\t\t\t\t\t\t\tLECTURE\n",
       "\t\t\t\t\t\t\t\t\t\t\t</span>\n",
       "</a>\n",
       "<ul class=\"dropdown-menu\">\n",
       "<li>\n",
       "<a href=\"lecture/ai.html\">\n",
       "<i class=\"fa fa-gears\"></i> Artificial Intelligence\n",
       "\t\t\t\t\t\t\t\t\t\t\t\t</a>\n",
       "</li>\n",
       "<li>\n",
       "<a href=\"lecture/bd.html\">\n",
       "<i class=\"fa fa-server\"></i> Big Data\n",
       "\t\t\t\t\t\t\t\t\t\t\t\t</a>\n",
       "</li>\n",
       "<li>\n",
       "<a href=\"lecture/db.html\">\n",
       "<i class=\"fa fa-database\"></i> Database\n",
       "\t\t\t\t\t\t\t\t\t\t\t\t</a>\n",
       "</li>\n",
       "<li>\n",
       "<a href=\"lecture/ir.html\">\n",
       "<i class=\"fa fa-search\"></i> Information Retrieval\n",
       "\t\t\t\t\t\t\t\t\t\t\t\t</a>\n",
       "</li>\n",
       "<li>\n",
       "<a href=\"lecture/ds.html\">\n",
       "<i class=\"fa fa-flask\"></i> Data Science\n",
       "\t\t\t\t\t\t\t\t\t\t\t\t</a>\n",
       "</li>\n",
       "<li>\n",
       "<a href=\"lecture/dp.html\">\n",
       "<i class=\"fa fa-wrench\"></i> Data Preprocessing\n",
       "\t\t\t\t\t\t\t\t\t\t\t\t</a>\n",
       "</li>\n",
       "<li>\n",
       "<a href=\"lecture/dpp.html\">\n",
       "<i class=\"fa fa-tasks\"></i> Data Programming\n",
       "\t\t\t\t\t\t\t\t\t\t\t\t</a>\n",
       "</li>\n",
       "<li>\n",
       "<a href=\"lecture/cc.html\">\n",
       "<i class=\"fa fa-cloud\"></i> Cloud Computing\n",
       "\t\t\t\t\t\t\t\t\t\t\t\t</a>\n",
       "</li>\n",
       "<li>\n",
       "<a href=\"lecture/mm.html\">\n",
       "<i class=\"fa fa-magic\"></i> Multimedia\n",
       "\t\t\t\t\t\t\t\t\t\t\t\t</a>\n",
       "</li>\n",
       "<li>\n",
       "<a href=\"lecture/cs.html\">\n",
       "<i class=\"fa fa-desktop\"></i> Computer Science\n",
       "\t\t\t\t\t\t\t\t\t\t\t\t</a>\n",
       "</li>\n",
       "<li>\n",
       "<a href=\"lecture/cp.html\">\n",
       "<i class=\"fa fa-code\"></i> C Programming\n",
       "\t\t\t\t\t\t\t\t\t\t\t\t</a>\n",
       "</li>\n",
       "<li>\n",
       "<a href=\"lecture/web.html\">\n",
       "<i class=\"fa fa-html5\"></i> Web &amp; Internet\n",
       "\t\t\t\t\t\t\t\t\t\t\t\t</a>\n",
       "</li>\n",
       "<li>\n",
       "<a href=\"lecture/ict.html\">\n",
       "<i class=\"fa fa-globe\"></i> ICT\n",
       "\t\t\t\t\t\t\t\t\t\t\t\t</a>\n",
       "</li>\n",
       "<li>\n",
       "<a href=\"lecture/excel.html\">\n",
       "<i class=\"fa fa-table\"></i> Excel\n",
       "\t\t\t\t\t\t\t\t\t\t\t\t</a>\n",
       "</li>\n",
       "</ul>\n",
       "</li>\n",
       "<li><!-- COURSE -->\n",
       "<a class=\"dropdown-toggle\" href=\"course/\">\n",
       "<span class=\"topMain-icon\">\n",
       "<i class=\"et-presentation\"></i>\n",
       "\t\t\t\t\t\t\t\t\t\t\t\tCOURSE\n",
       "\t\t\t\t\t\t\t\t\t\t\t</span>\n",
       "</a>\n",
       "</li>\n",
       "<li><!-- VIDEO -->\n",
       "<a class=\"dropdown-toggle\" href=\"youtube/\">\n",
       "<span class=\"topMain-icon\">\n",
       "<i class=\"et-video\"></i>\n",
       "\t\t\t\t\t\t\t\t\t\t\t\tYOUTUBE\n",
       "\t\t\t\t\t\t\t\t\t\t\t</span>\n",
       "</a>\n",
       "<ul class=\"dropdown-menu\">\n",
       "<li>\n",
       "<a href=\"youtube/pp.html\">\n",
       "<i class=\"fa fa-code\"></i> Python Programming\n",
       "\t\t\t\t\t\t\t\t\t\t\t\t</a>\n",
       "</li>\n",
       "<li>\n",
       "<a href=\"youtube/pg.html\">\n",
       "<i class=\"fa fa-tasks\"></i> Python Game\n",
       "\t\t\t\t\t\t\t\t\t\t\t\t</a>\n",
       "</li>\n",
       "<li>\n",
       "<a href=\"youtube/web.html\">\n",
       "<i class=\"fa fa-html5\"></i> Web Programming\n",
       "\t\t\t\t\t\t\t\t\t\t\t\t</a>\n",
       "</li>\n",
       "<li>\n",
       "<a href=\"youtube/ds.html\">\n",
       "<i class=\"fa fa-flask\"></i> Data Science\n",
       "\t\t\t\t\t\t\t\t\t\t\t\t</a>\n",
       "</li>\n",
       "<li>\n",
       "<a href=\"youtube/dc.html\">\n",
       "<i class=\"fa fa-gears\"></i> Data Collection\n",
       "\t\t\t\t\t\t\t\t\t\t\t\t</a>\n",
       "</li>\n",
       "<li>\n",
       "<a href=\"youtube/da.html\">\n",
       "<i class=\"fa fa-wrench\"></i> Data Analysis\n",
       "\t\t\t\t\t\t\t\t\t\t\t\t</a>\n",
       "</li>\n",
       "<li>\n",
       "<a href=\"youtube/dv.html\">\n",
       "<i class=\"fa fa-bar-chart\"></i> Data Visualzation\n",
       "\t\t\t\t\t\t\t\t\t\t\t\t</a>\n",
       "</li>\n",
       "<li>\n",
       "<a href=\"youtube/db.html\">\n",
       "<i class=\"fa fa-database\"></i> Database\n",
       "\t\t\t\t\t\t\t\t\t\t\t\t</a>\n",
       "</li>\n",
       "<li>\n",
       "<a href=\"youtube/bd.html\">\n",
       "<i class=\"fa fa-server\"></i> Big Data\n",
       "\t\t\t\t\t\t\t\t\t\t\t\t</a>\n",
       "</li>\n",
       "<li>\n",
       "<a href=\"youtube/ml.html\">\n",
       "<i class=\"fa fa-gears\"></i> Machine Learning\n",
       "\t\t\t\t\t\t\t\t\t\t\t\t</a>\n",
       "</li>\n",
       "<li>\n",
       "<a href=\"youtube/dl.html\">\n",
       "<i class=\"fa fa-sliders\"></i> Deep Learning\n",
       "\t\t\t\t\t\t\t\t\t\t\t\t</a>\n",
       "</li>\n",
       "<li>\n",
       "<a href=\"youtube/dlf.html\">\n",
       "<i class=\"fa fa-magic\"></i> Deep Learning Framework\n",
       "\t\t\t\t\t\t\t\t\t\t\t\t</a>\n",
       "</li>\n",
       "<li>\n",
       "<a href=\"youtube/cv.html\">\n",
       "<i class=\"fa fa-desktop\"></i> Computer Vision\n",
       "\t\t\t\t\t\t\t\t\t\t\t\t</a>\n",
       "</li>\n",
       "<li>\n",
       "<a href=\"youtube/nlp.html\">\n",
       "<i class=\"fa fa-search\"></i> Natural Language Processing\n",
       "\t\t\t\t\t\t\t\t\t\t\t\t</a>\n",
       "</li>\n",
       "<li>\n",
       "<a href=\"youtube/asp.html\">\n",
       "<i class=\"fa fa-tasks\"></i> Audio Speech Processing\n",
       "\t\t\t\t\t\t\t\t\t\t\t\t</a>\n",
       "</li>\n",
       "</ul>\n",
       "</li>\n",
       "</ul>\n",
       "</nav>\n",
       "</div>\n",
       "</div>\n",
       "</header>\n",
       "<!-- /Top Nav -->\n",
       "</div>\n",
       "<!-- REVOLUTION SLIDER -->\n",
       "<div class=\"slider fullwidthbanner-container roundedcorners\">\n",
       "<!--\n",
       "\t\t\t\t\tNavigation Styles:\n",
       "\t\t\t\t\t\n",
       "\t\t\t\t\t\tdata-navigationStyle=\"\" theme default navigation\n",
       "\t\t\t\t\t\t\n",
       "\t\t\t\t\t\tdata-navigationStyle=\"preview1\"\n",
       "\t\t\t\t\t\tdata-navigationStyle=\"preview2\"\n",
       "\t\t\t\t\t\tdata-navigationStyle=\"preview3\"\n",
       "\t\t\t\t\t\tdata-navigationStyle=\"preview4\"\n",
       "\t\t\t\t\t\t\n",
       "\t\t\t\t\tBottom Shadows\n",
       "\t\t\t\t\t\tdata-shadow=\"1\"\n",
       "\t\t\t\t\t\tdata-shadow=\"2\"\n",
       "\t\t\t\t\t\tdata-shadow=\"3\"\n",
       "\t\t\t\t\t\t\n",
       "\t\t\t\t\tSlider Height (do not use on fullscreen mode)\n",
       "\t\t\t\t\t\tdata-height=\"300\"\n",
       "\t\t\t\t\t\tdata-height=\"350\"\n",
       "\t\t\t\t\t\tdata-height=\"400\"\n",
       "\t\t\t\t\t\tdata-height=\"450\"\n",
       "\t\t\t\t\t\tdata-height=\"500\"\n",
       "\t\t\t\t\t\tdata-height=\"550\"\n",
       "\t\t\t\t\t\tdata-height=\"600\"\n",
       "\t\t\t\t\t\tdata-height=\"650\"\n",
       "\t\t\t\t\t\tdata-height=\"700\"\n",
       "\t\t\t\t\t\tdata-height=\"750\"\n",
       "\t\t\t\t\t\tdata-height=\"800\"\n",
       "\t\t\t\t-->\n",
       "<div class=\"fullwidthbanner\" data-height=\"500\" data-navigationstyle=\"\" data-shadow=\"3\">\n",
       "<ul class=\"hide\">\n",
       "<!-- SLIDE  -->\n",
       "<li data-masterspeed=\"1000\" data-saveperformance=\"off\" data-slotamount=\"1\" data-title=\"Slide\" data-transition=\"random\">\n",
       "<img alt=\"\" data-bgfit=\"cover\" data-bgposition=\"center top\" data-bgrepeat=\"no-repeat\" data-lazyload=\"assets/images/slider/2.jpg\" src=\"assets/images/1x1.png\"/>\n",
       "<div class=\"tp-dottedoverlay twoxtwo\"><!-- dotted overlay --></div>\n",
       "<div class=\"overlay dark-3\"><!-- dark overlay [1 to 9 opacity] --></div>\n",
       "<div class=\"tp-caption customin ltl tp-resizeme text_white\" data-customin=\"x:0;y:150;z:0;rotationZ:0;scaleX:1;scaleY:1;skewX:0;skewY:0;opacity:0;transformPerspective:200;transformOrigin:50% 0%;\" data-easing=\"easeOutQuad\" data-elementdelay=\"0.01\" data-endeasing=\"Power4.easeIn\" data-endelementdelay=\"0.1\" data-endspeed=\"1000\" data-speed=\"800\" data-splitin=\"none\" data-splitout=\"none\" data-start=\"1000\" data-x=\"center\" data-y=\"105\" style=\"z-index: 10;\">\n",
       "<span class=\"weight-300\">BIG DATA / DEEP LEARNING / MACHINE LEARNING / PROGRAMMING</span>\n",
       "</div>\n",
       "<div class=\"tp-caption customin ltl tp-resizeme large_bold_white\" data-customin=\"x:0;y:150;z:0;rotationZ:0;scaleX:1;scaleY:1;skewX:0;skewY:0;opacity:0;transformPerspective:200;transformOrigin:50% 0%;\" data-easing=\"easeOutQuad\" data-elementdelay=\"0.01\" data-endeasing=\"Power4.easeIn\" data-endelementdelay=\"0.1\" data-endspeed=\"1000\" data-speed=\"800\" data-splitin=\"none\" data-splitout=\"none\" data-start=\"1200\" data-x=\"center\" data-y=\"155\" style=\"z-index: 10;\">\n",
       "\t\t\t\t\t\t\t\tWELCOME TO SUANLAB\n",
       "\t\t\t\t\t\t\t</div>\n",
       "<div class=\"tp-caption customin ltl tp-resizeme small_light_white font-lato\" data-customin=\"x:0;y:150;z:0;rotationZ:0;scaleX:1;scaleY:1;skewX:0;skewY:0;opacity:0;transformPerspective:200;transformOrigin:50% 0%;\" data-easing=\"easeOutQuad\" data-elementdelay=\"0.01\" data-endeasing=\"Power4.easeIn\" data-endelementdelay=\"0.1\" data-endspeed=\"1000\" data-speed=\"800\" data-splitin=\"none\" data-splitout=\"none\" data-start=\"1400\" data-x=\"center\" data-y=\"245\" style=\"z-index: 10; width: 100%; max-width: 750px; white-space: normal; text-align:center; font-size:20px;\">\n",
       "\t\t\t\t\t\t\t\tSuanLab is a laboratory that studies everything about computer.\n",
       "\t\t\t\t\t\t\t</div>\n",
       "<div class=\"tp-caption customin ltl tp-resizeme\" data-customin=\"x:0;y:150;z:0;rotationZ:0;scaleX:1;scaleY:1;skewX:0;skewY:0;opacity:0;transformPerspective:200;transformOrigin:50% 0%;\" data-easing=\"easeOutQuad\" data-elementdelay=\"0.01\" data-endeasing=\"Power4.easeIn\" data-endelementdelay=\"0.1\" data-endspeed=\"1000\" data-speed=\"800\" data-splitin=\"none\" data-splitout=\"none\" data-start=\"1550\" data-x=\"center\" data-y=\"333\" style=\"z-index: 10;\">\n",
       "<a class=\"btn btn-default btn-lg\" href=\"suan.html\">\n",
       "<span>About SUAN</span>\n",
       "</a>\n",
       "</div>\n",
       "</li>\n",
       "<!-- SLIDE  -->\n",
       "<li data-masterspeed=\"300\" data-saveperformance=\"off\" data-slotamount=\"7\" data-transition=\"fade\">\n",
       "<img alt=\"\" data-bgfit=\"cover\" data-bgposition=\"left top\" data-bgrepeat=\"no-repeat\" data-lazyload=\"assets/images/slider/1.jpg\" src=\"assets/images/1x1.png\"/>\n",
       "<div class=\"tp-caption block_black sft\" data-easing=\"easeOutExpo\" data-elementdelay=\"0.1\" data-endelementdelay=\"0.1\" data-endspeed=\"300\" data-hoffset=\"-70\" data-speed=\"750\" data-splitin=\"none\" data-splitout=\"none\" data-start=\"1100\" data-x=\"right\" data-y=\"87\" style=\"z-index: 3; max-width: auto; max-height: auto; white-space: nowrap;\">BIG DATA\n",
       "\t\t\t\t\t\t\t</div>\n",
       "<div class=\"tp-caption block_black sfb\" data-easing=\"easeOutExpo\" data-elementdelay=\"0.1\" data-endelementdelay=\"0.1\" data-endspeed=\"300\" data-hoffset=\"-70\" data-speed=\"750\" data-splitin=\"none\" data-splitout=\"none\" data-start=\"1400\" data-x=\"right\" data-y=\"126\" style=\"z-index: 4; max-width: auto; max-height: auto; white-space: nowrap;\">DATA SCIENCE\n",
       "\t\t\t\t\t\t\t</div>\n",
       "<div class=\"tp-caption block_theme_color sft\" data-easing=\"easeOutExpo\" data-elementdelay=\"0.1\" data-endelementdelay=\"0.1\" data-endspeed=\"300\" data-hoffset=\"-70\" data-speed=\"750\" data-splitin=\"none\" data-splitout=\"none\" data-start=\"1700\" data-x=\"right\" data-y=\"189\" style=\"z-index: 5; max-width: auto; max-height: auto; white-space: nowrap;\">DEEP LEARNING\n",
       "\t\t\t\t\t\t\t</div>\n",
       "<div class=\"tp-caption block_theme_color sfb\" data-easing=\"easeOutExpo\" data-elementdelay=\"0.1\" data-endelementdelay=\"0.1\" data-endspeed=\"300\" data-hoffset=\"-70\" data-speed=\"750\" data-splitin=\"none\" data-splitout=\"none\" data-start=\"2000\" data-x=\"right\" data-y=\"228\" style=\"z-index: 6; max-width: auto; max-height: auto; white-space: nowrap;\">MACHINE LEARNING\n",
       "\t\t\t\t\t\t\t</div>\n",
       "<div class=\"tp-caption block_black sft\" data-easing=\"easeOutExpo\" data-elementdelay=\"0.1\" data-endelementdelay=\"0.1\" data-endspeed=\"300\" data-hoffset=\"-70\" data-speed=\"750\" data-splitin=\"none\" data-splitout=\"none\" data-start=\"2300\" data-x=\"right\" data-y=\"290\" style=\"z-index: 7; max-width: auto; max-height: auto; white-space: nowrap;\">CLOUD COMPUTING\n",
       "\t\t\t\t\t\t\t</div>\n",
       "<div class=\"tp-caption block_black sft\" data-easing=\"easeOutExpo\" data-elementdelay=\"0.1\" data-endelementdelay=\"0.1\" data-endspeed=\"300\" data-hoffset=\"-70\" data-speed=\"750\" data-splitin=\"none\" data-splitout=\"none\" data-start=\"2600\" data-x=\"right\" data-y=\"329\" style=\"z-index: 8; max-width: auto; max-height: auto; white-space: nowrap;\">PROGRAMMING\n",
       "\t\t\t\t\t\t\t</div>\n",
       "</li>\n",
       "<!-- SLIDE  -->\n",
       "<li data-delay=\"10000\" data-masterspeed=\"500\" data-slotamount=\"14\" data-transition=\"random\">\n",
       "<!-- COVER IMAGE -->\n",
       "<img alt=\"\" data-bgfit=\"cover\" data-bgposition=\"left top\" data-bgrepeat=\"no-repeat\" data-lazyload=\"assets/images/demo/wall.jpg\" src=\"assets/images/1x1.png\"/>\n",
       "<div class=\"tp-caption lft boxshadow\" data-easing=\"easeOutBack\" data-speed=\"900\" data-start=\"500\" data-x=\"70\" data-y=\"90\">\n",
       "<iframe allow=\"autoplay; encrypted-media\" allowfullscreen=\"\" frameborder=\"0\" height=\"360\" src=\"https://www.youtube.com/embed/vgIc4ctNFbc\" width=\"640\"></iframe>\n",
       "</div>\n",
       "<div class=\"tp-caption sft large_bold_white\" data-easing=\"easeOutExpo\" data-speed=\"300\" data-start=\"1200\" data-x=\"750\" data-y=\"85\">COURSE\n",
       "\t\t\t\t\t\t\t</div>\n",
       "<div class=\"tp-caption lfb medium_light_white\" data-easing=\"easeOutExpo\" data-speed=\"300\" data-start=\"1400\" data-x=\"750\" data-y=\"200\">• 인공지능\n",
       "\t\t\t\t\t\t\t</div>\n",
       "<div class=\"tp-caption lfb medium_light_white\" data-easing=\"easeOutExpo\" data-speed=\"300\" data-start=\"1700\" data-x=\"750\" data-y=\"237\">• 빅데이터\n",
       "\t\t\t\t\t\t\t</div>\n",
       "<div class=\"tp-caption lfb medium_light_white\" data-easing=\"easeOutExpo\" data-speed=\"300\" data-start=\"2000\" data-x=\"750\" data-y=\"274\">• 데이터베이스\n",
       "\t\t\t\t\t\t\t</div>\n",
       "<div class=\"tp-caption customin lfb tp-resizeme\" data-customin=\"x:0;y:150;z:0;rotationZ:0;scaleX:1;scaleY:1;skewX:0;skewY:0;opacity:0;transformPerspective:200;transformOrigin:50% 0%;\" data-easing=\"easeOutExpo\" data-elementdelay=\"0.01\" data-endeasing=\"Power4.easeIn\" data-endelementdelay=\"0.1\" data-endspeed=\"1000\" data-speed=\"300\" data-splitin=\"none\" data-splitout=\"none\" data-start=\"2300\" data-x=\"751\" data-y=\"350\" style=\"z-index: 10;\">\n",
       "<a class=\"btn btn-default btn-lg\" href=\"youtube.html\">\n",
       "<span>Watch Video</span>\n",
       "</a>\n",
       "</div>\n",
       "</li>\n",
       "<!-- SLIDE  -->\n",
       "<li data-masterspeed=\"1000\" data-saveperformance=\"off\" data-slotamount=\"1\" data-title=\"Slide\" data-transition=\"random\">\n",
       "<img alt=\"\" data-bgfit=\"100\" data-bgfitend=\"110\" data-bgposition=\"center center\" data-duration=\"10000\" data-ease=\"Linear.easeNone\" data-kenburns=\"on\" data-lazyload=\"assets/images/slider/8.jpg\" src=\"assets/images/1x1.png\"/>\n",
       "<div class=\"tp-dottedoverlay twoxtwo\"><!-- dotted overlay --></div>\n",
       "<div class=\"overlay dark-3\"><!-- dark overlay [1 to 9 opacity] --></div>\n",
       "<div class=\"tp-caption very_large_text lfb ltt tp-resizeme\" data-easing=\"Power4.easeOut\" data-elementdelay=\"0.01\" data-endeasing=\"Power4.easeIn\" data-endelementdelay=\"0.1\" data-endspeed=\"500\" data-hoffset=\"-100\" data-speed=\"600\" data-splitin=\"none\" data-splitout=\"none\" data-start=\"800\" data-voffset=\"-100\" data-x=\"right\" data-y=\"center\" style=\"z-index: 10;\">\n",
       "\t\t\t\t\t\t\t\t‘컴퓨터가 생각할 수 있을까?’\n",
       "\t\t\t\t\t\t\t</div>\n",
       "<div class=\"tp-caption medium_light_white lfb ltt tp-resizeme\" data-easing=\"Power4.easeOut\" data-elementdelay=\"0.01\" data-endeasing=\"Power4.easeIn\" data-endelementdelay=\"0.1\" data-endspeed=\"500\" data-hoffset=\"-110\" data-speed=\"600\" data-splitin=\"none\" data-splitout=\"none\" data-start=\"900\" data-voffset=\"10\" data-x=\"right\" data-y=\"center\" style=\"z-index: 10;\">\n",
       "\t\t\t\t\t\t\t\t‘컴퓨터가 생각할 수 있을까?’라고 묻는 것은<br/>\n",
       "\t\t\t\t\t\t\t\t‘잠수함이 물 속을 다닐 수 있을까?’라고 묻는 것과 같다.<br/>\n",
       "<span style=\"font-size:24px;font-weight:400;\">– Edsger W. Dijkstra, 구조적 프로그래밍, 세마포어 등으로 유명한 컴퓨터 과학자</span>\n",
       "</div>\n",
       "</li>\n",
       "<!-- SLIDE  -->\n",
       "<li data-masterspeed=\"1000\" data-saveperformance=\"off\" data-slotamount=\"1\" data-title=\"Slide\" data-transition=\"random\">\n",
       "<img alt=\"\" data-bgfit=\"100\" data-bgfitend=\"110\" data-bgposition=\"center center\" data-duration=\"10000\" data-ease=\"Linear.easeNone\" data-kenburns=\"on\" data-lazyload=\"assets/images/slider/9.jpg\" src=\"assets/images/1x1.png\"/>\n",
       "<div class=\"tp-dottedoverlay twoxtwo\"><!-- dotted overlay --></div>\n",
       "<div class=\"overlay dark-3\"><!-- dark overlay [1 to 9 opacity] --></div>\n",
       "<div class=\"tp-caption very_large_text lfb ltt tp-resizeme\" data-easing=\"Power4.easeOut\" data-elementdelay=\"0.01\" data-endeasing=\"Power4.easeIn\" data-endelementdelay=\"0.1\" data-endspeed=\"500\" data-hoffset=\"-100\" data-speed=\"600\" data-splitin=\"none\" data-splitout=\"none\" data-start=\"800\" data-voffset=\"-100\" data-x=\"right\" data-y=\"center\" style=\"z-index: 10;\">\n",
       "\t\t\t\t\t\t\t\t‘Any fool can use a computer. Many do.’\n",
       "\t\t\t\t\t\t\t</div>\n",
       "<div class=\"tp-caption medium_light_white lfb ltt tp-resizeme\" data-easing=\"Power4.easeOut\" data-elementdelay=\"0.01\" data-endeasing=\"Power4.easeIn\" data-endelementdelay=\"0.1\" data-endspeed=\"500\" data-hoffset=\"-110\" data-speed=\"600\" data-splitin=\"none\" data-splitout=\"none\" data-start=\"900\" data-voffset=\"10\" data-x=\"right\" data-y=\"center\" style=\"z-index: 10;\">\n",
       "\t\t\t\t\t\t\t\t어떤 바보라도 컴퓨터를 사용할 수 있다.<br/>\n",
       "\t\t\t\t\t\t\t\t그래서 많은 사람들이 컴퓨터를 사용한다.<br/>\n",
       "<span style=\"font-size:24px;font-weight:400;\">– Ted Nelson, HTML을 처음으로 생각해 낸 사회과학자</span>\n",
       "</div>\n",
       "</li>\n",
       "<!-- SLIDE  -->\n",
       "<li data-masterspeed=\"1000\" data-saveperformance=\"off\" data-slotamount=\"1\" data-title=\"Slide\" data-transition=\"random\">\n",
       "<img alt=\"\" data-bgfit=\"100\" data-bgfitend=\"110\" data-bgposition=\"center center\" data-duration=\"10000\" data-ease=\"Linear.easeNone\" data-kenburns=\"on\" data-lazyload=\"assets/images/slider/4.jpg\" src=\"assets/images/1x1.png\"/>\n",
       "<div class=\"tp-dottedoverlay twoxtwo\"><!-- dotted overlay --></div>\n",
       "<div class=\"overlay dark-3\"><!-- dark overlay [1 to 9 opacity] --></div>\n",
       "<div class=\"tp-caption very_large_text lfb ltt tp-resizeme\" data-easing=\"Power4.easeOut\" data-elementdelay=\"0.01\" data-endeasing=\"Power4.easeIn\" data-endelementdelay=\"0.1\" data-endspeed=\"500\" data-hoffset=\"-100\" data-speed=\"600\" data-splitin=\"none\" data-splitout=\"none\" data-start=\"800\" data-voffset=\"-100\" data-x=\"right\" data-y=\"center\" style=\"z-index: 10;\">\n",
       "\t\t\t\t\t\t\t\t‘개발자’\n",
       "\t\t\t\t\t\t\t</div>\n",
       "<div class=\"tp-caption medium_light_white lfb ltt tp-resizeme\" data-easing=\"Power4.easeOut\" data-elementdelay=\"0.01\" data-endeasing=\"Power4.easeIn\" data-endelementdelay=\"0.1\" data-endspeed=\"500\" data-hoffset=\"-110\" data-speed=\"600\" data-splitin=\"none\" data-splitout=\"none\" data-start=\"900\" data-voffset=\"10\" data-x=\"right\" data-y=\"center\" style=\"z-index: 10;\">\n",
       "\t\t\t\t\t\t\t\t훌륭한 기계공은 <br/>일반 기계공보다 <br/>몇 배의 급여를 더 높이 받는다.<br/>그러나 훌륭한 코드를 만들어내는 개발자는 <br/>일반적인 개발자보다 <br/>1만배 이상의 가치가 있다.<br/>\n",
       "<span style=\"font-size:24px;font-weight:400;\">– Bill Gates 빌 게이츠, 마이크로소프트의 창립자</span>\n",
       "</div>\n",
       "</li>\n",
       "<!-- SLIDE  -->\n",
       "<li data-masterspeed=\"1000\" data-saveperformance=\"off\" data-slotamount=\"1\" data-title=\"Slide\" data-transition=\"random\">\n",
       "<img alt=\"\" data-bgfit=\"100\" data-bgfitend=\"110\" data-bgposition=\"center center\" data-duration=\"10000\" data-ease=\"Linear.easeNone\" data-kenburns=\"on\" data-lazyload=\"assets/images/slider/5.jpg\" src=\"assets/images/1x1.png\"/>\n",
       "<div class=\"tp-dottedoverlay twoxtwo\"><!-- dotted overlay --></div>\n",
       "<div class=\"overlay dark-3\"><!-- dark overlay [1 to 9 opacity] --></div>\n",
       "<div class=\"tp-caption very_large_text lfb ltt tp-resizeme\" data-easing=\"Power4.easeOut\" data-elementdelay=\"0.01\" data-endeasing=\"Power4.easeIn\" data-endelementdelay=\"0.1\" data-endspeed=\"500\" data-hoffset=\"-100\" data-speed=\"600\" data-splitin=\"none\" data-splitout=\"none\" data-start=\"800\" data-voffset=\"-100\" data-x=\"right\" data-y=\"center\" style=\"z-index: 10;\">\n",
       "\t\t\t\t\t\t\t\t‘설계 철학’\n",
       "\t\t\t\t\t\t\t</div>\n",
       "<div class=\"tp-caption medium_light_white lfb ltt tp-resizeme\" data-easing=\"Power4.easeOut\" data-elementdelay=\"0.01\" data-endeasing=\"Power4.easeIn\" data-endelementdelay=\"0.1\" data-endspeed=\"500\" data-hoffset=\"-110\" data-speed=\"600\" data-splitin=\"none\" data-splitout=\"none\" data-start=\"900\" data-voffset=\"10\" data-x=\"right\" data-y=\"center\" style=\"z-index: 10;\">\n",
       "\t\t\t\t\t\t\t\t\"자신이 사용하고 싶은 것은 창조하라\"<br/>\n",
       "\t\t\t\t\t\t\t\t\"Create what you want to use\"<br/>\n",
       "<span style=\"font-size:24px;font-weight:400;\">– Steve Wozniak(애플 컴퓨터 공동 창업자)</span>\n",
       "</div>\n",
       "</li>\n",
       "<!-- SLIDE  -->\n",
       "<li data-masterspeed=\"1000\" data-saveperformance=\"off\" data-slotamount=\"1\" data-title=\"Slide\" data-transition=\"random\">\n",
       "<img alt=\"\" data-bgfit=\"100\" data-bgfitend=\"110\" data-bgposition=\"center center\" data-duration=\"10000\" data-ease=\"Linear.easeNone\" data-kenburns=\"on\" data-lazyload=\"assets/images/slider/6.jpg\" src=\"assets/images/1x1.png\"/>\n",
       "<div class=\"tp-dottedoverlay twoxtwo\"><!-- dotted overlay --></div>\n",
       "<div class=\"overlay dark-3\"><!-- dark overlay [1 to 9 opacity] --></div>\n",
       "<div class=\"tp-caption very_large_text lfb ltt tp-resizeme\" data-easing=\"Power4.easeOut\" data-elementdelay=\"0.01\" data-endeasing=\"Power4.easeIn\" data-endelementdelay=\"0.1\" data-endspeed=\"500\" data-hoffset=\"20\" data-speed=\"600\" data-splitin=\"none\" data-splitout=\"none\" data-start=\"800\" data-voffset=\"-110\" data-x=\"left\" data-y=\"center\" style=\"z-index: 10;\">\n",
       "\t\t\t\t\t\t\t\t위대한 프로그래머가 되려면<br/> 어떻게 해야 하나요?\n",
       "\t\t\t\t\t\t\t</div>\n",
       "<div class=\"tp-caption medium_light_white lfb ltt tp-resizeme\" data-easing=\"Power4.easeOut\" data-elementdelay=\"0.01\" data-endeasing=\"Power4.easeIn\" data-endelementdelay=\"0.1\" data-endspeed=\"500\" data-hoffset=\"80\" data-speed=\"600\" data-splitin=\"none\" data-splitout=\"none\" data-start=\"900\" data-voffset=\"60\" data-x=\"left\" data-y=\"center\" style=\"z-index: 10;\">\n",
       "\t\t\t\t\t\t\t\t저는 작지만 유용한 프로그램들을 매일 작성할 것을 추천합니다.<br/>누군가가 똑같거나 혹은 더 나은 걸 이미 만들었다는 데에 절대 신경쓰지 마세요.<br/>유용성과 복잡성 간의 균형 감각을 얻기 위해서는<br/>당신 자신이 만든 프로그램의 유용성을 직접 느껴봐야만 합니다.<br/>\n",
       "<span style=\"font-size:24px;font-weight:400;\">– Ward Cunningham(위키위키 개념을 만든 사람)</span>\n",
       "</div>\n",
       "</li>\n",
       "<!-- SLIDE  -->\n",
       "<li data-masterspeed=\"1000\" data-saveperformance=\"off\" data-slotamount=\"1\" data-title=\"Slide\" data-transition=\"random\">\n",
       "<img alt=\"\" data-bgfit=\"100\" data-bgfitend=\"110\" data-bgposition=\"center center\" data-duration=\"10000\" data-ease=\"Linear.easeNone\" data-kenburns=\"on\" data-lazyload=\"assets/images/slider/3.jpg\" src=\"assets/images/1x1.png\"/>\n",
       "<div class=\"tp-dottedoverlay twoxtwo\"><!-- dotted overlay --></div>\n",
       "<div class=\"overlay dark-3\"><!-- dark overlay [1 to 9 opacity] --></div>\n",
       "<div class=\"tp-caption very_large_text lfb ltt tp-resizeme\" data-easing=\"Power4.easeOut\" data-elementdelay=\"0.01\" data-endeasing=\"Power4.easeIn\" data-endelementdelay=\"0.1\" data-endspeed=\"500\" data-hoffset=\"-100\" data-speed=\"600\" data-splitin=\"none\" data-splitout=\"none\" data-start=\"800\" data-voffset=\"-100\" data-x=\"right\" data-y=\"center\" style=\"z-index: 10;\">\n",
       "\t\t\t\t\t\t\t\t‘코드(Code)’\n",
       "\t\t\t\t\t\t\t</div>\n",
       "<div class=\"tp-caption medium_light_white lfb ltt tp-resizeme\" data-easing=\"Power4.easeOut\" data-elementdelay=\"0.01\" data-endeasing=\"Power4.easeIn\" data-endelementdelay=\"0.1\" data-endspeed=\"500\" data-hoffset=\"-110\" data-speed=\"600\" data-splitin=\"none\" data-splitout=\"none\" data-start=\"900\" data-voffset=\"10\" data-x=\"right\" data-y=\"center\" style=\"z-index: 10;\">\n",
       "\t\t\t\t\t\t\t\t훌륭한 코드는 훌륭한 문서보다 낫다.<br/>\n",
       "<span style=\"font-size:24px;font-weight:400;\">– Steve McConnell, 개발자</span>\n",
       "</div>\n",
       "</li>\n",
       "</ul>\n",
       "<div class=\"tp-bannertimer\"><!-- progress bar --></div>\n",
       "</div>\n",
       "</div>\n",
       "<!-- /REVOLUTION SLIDER -->\n",
       "<!-- WELCOME -->\n",
       "<section>\n",
       "<div class=\"container\">\n",
       "<div class=\"row\">\n",
       "<div class=\"col-sm-6\">\n",
       "<header class=\"margin-bottom-10\">\n",
       "<h2>News</h2>\n",
       "</header>\n",
       "<div class=\"toggle toggle-transparent toggle-bordered-full\">\n",
       "<div class=\"toggle\">\n",
       "<label>[2022-12-02] KJDB2022 Workshop</label>\n",
       "<div class=\"toggle-content\">\n",
       "<p>\n",
       "\t\t\t\t\t\t\t\t\t\t\t한국과 일본의 데이터베이스 연구자 분들이 정례적으로 진행하는 \n",
       "\t\t\t\t\t\t\t\t\t\t\tKorea-Japan Database (KJDB) 워크숍이 12월 2일(금)~3일(토)에 개최됩니다.\n",
       "\t\t\t\t\t\t\t\t\t\t\t코로나-19로 인하여 작년과 마찬가지로 온라인으로 진행됩니다.\n",
       "\t\t\t\t\t\t\t\t\t\t\t많은 데이터베이스 연구자 분들의 관심과 참여를 부탁 드립니다.<br/><br/>\n",
       "<a href=\"https://sites.google.com/view/kjdb2022\" target=\"_blank\"> <i class=\"et-newspaper\"></i> KJDB2022: https://sites.google.com/view/kjdb2022</a>\n",
       "</p>\n",
       "</div>\n",
       "</div>\n",
       "<div class=\"toggle\">\n",
       "<label>[2020-01-20] \"바이러스 연구부터 뷰티·배달 AI 결합한 비즈니스...\"</label>\n",
       "<div class=\"toggle-content\">\n",
       "<p>\n",
       "\t\t\t\t\t\t\t\t\t\t\t\"[테크 인사이드] 바이러스 연구부터 뷰티·배달 AI 결합한 비즈니스 모델 주목\" 강원일보 칼럼 기고<br/>\n",
       "<a href=\"http://www.kwnews.co.kr/nview.asp?s=401&amp;aid=221011900000\" target=\"_blank\"> <i class=\"et-newspaper\"></i> 칼럼 보기</a>\n",
       "</p>\n",
       "</div>\n",
       "</div>\n",
       "<div class=\"toggle\">\n",
       "<label>[2020-10-07] \"이력서 작성·레시피 제공 다양하게 활용되는 GPT3\"</label>\n",
       "<div class=\"toggle-content\">\n",
       "<p>\n",
       "\t\t\t\t\t\t\t\t\t\t\t\"[테크 인사이드] 이력서 작성·레시피 제공 다양하게 활용되는 GPT3\" 강원일보 칼럼 기고<br/>\n",
       "<a href=\"http://www.kwnews.co.kr/nview.asp?s=401&amp;aid=220100600056\" target=\"_blank\"> <i class=\"et-newspaper\"></i> 칼럼 보기</a>\n",
       "</p>\n",
       "</div>\n",
       "</div>\n",
       "<div class=\"toggle\">\n",
       "<label>[2020-05-20] \"인공지능의 보안 위협\"</label>\n",
       "<div class=\"toggle-content\">\n",
       "<p>\n",
       "\t\t\t\t\t\t\t\t\t\t\t\"[테크 인사이드] 인공지능의 보안 위협\" 강원일보 칼럼 기고<br/>\n",
       "<a href=\"http://www.kwnews.co.kr/nview.asp?aid=220051900034\" target=\"_blank\"> <i class=\"et-newspaper\"></i> 칼럼 보기</a>\n",
       "</p>\n",
       "</div>\n",
       "</div>\n",
       "<div class=\"toggle\">\n",
       "<label>[2020-03-04] \"데이터 경제 시대\"</label>\n",
       "<div class=\"toggle-content\">\n",
       "<p>\n",
       "\t\t\t\t\t\t\t\t\t\t\t\"[테크 인사이드] 데이터 경제 시대\" 강원일보 칼럼 기고<br/>\n",
       "<a href=\"http://www.kwnews.co.kr/nview.asp?aid=220030300001\" target=\"_blank\"> <i class=\"et-newspaper\"></i> 칼럼 보기</a>\n",
       "</p>\n",
       "</div>\n",
       "</div>\n",
       "<div class=\"toggle\">\n",
       "<label>[2019-12-25] \"마이데이터 시대의 도래 데이터 주권과 새로운 가치\"</label>\n",
       "<div class=\"toggle-content\">\n",
       "<p>\n",
       "\t\t\t\t\t\t\t\t\t\t\t\"[테크 인사이드] 마이데이터 시대의 도래 데이터 주권과 새로운 가치\" 강원일보 칼럼 기고<br/>\n",
       "<a href=\"http://www.kwnews.co.kr/nview.asp?aid=219122400022\" target=\"_blank\"> <i class=\"et-newspaper\"></i> 칼럼 보기</a>\n",
       "</p>\n",
       "</div>\n",
       "</div>\n",
       "<div class=\"toggle\">\n",
       "<label>[2019-09-04] \"농업으로 들어간 인공지능\"</label>\n",
       "<div class=\"toggle-content\">\n",
       "<p>\n",
       "\t\t\t\t\t\t\t\t\t\t\t\"[테크 인사이드] 농업으로 들어간 인공지능\" 강원일보 칼럼 기고<br/>\n",
       "<a href=\"http://www.kwnews.co.kr/nview.asp?aid=219090300125\" target=\"_blank\"> <i class=\"et-newspaper\"></i> 칼럼 보기</a>\n",
       "</p>\n",
       "</div>\n",
       "</div>\n",
       "<div class=\"toggle\">\n",
       "<label>[2019-08-07] \"AI시대 지배할 것인가 지배당하며 살 것인가\"</label>\n",
       "<div class=\"toggle-content\">\n",
       "<p>\n",
       "\t\t\t\t\t\t\t\t\t\t\t\"[테크 인사이드] AI시대 지배할 것인가 지배당하며 살 것인가\" 강원일보 칼럼 기고<br/>\n",
       "<a href=\"http://www.kwnews.co.kr/nview.asp?aid=219080600011\" target=\"_blank\"> <i class=\"et-newspaper\"></i> 칼럼 보기</a>\n",
       "</p>\n",
       "</div>\n",
       "</div>\n",
       "</div>\n",
       "</div>\n",
       "<div class=\"col-sm-6\">\n",
       "<header class=\"margin-bottom-10\">\n",
       "<h2>Photos</h2>\n",
       "</header>\n",
       "<!-- \n",
       "\t\t\t\t\t\t\t\tcontrolls-over\t\t= navigation buttons over the image \n",
       "\t\t\t\t\t\t\t\tbuttons-autohide \t= navigation buttons visible on mouse hover only\n",
       "\t\t\t\t\t\t\t\t\n",
       "\t\t\t\t\t\t\t\tdata-plugin-options:\n",
       "\t\t\t\t\t\t\t\t\t\"singleItem\": true\n",
       "\t\t\t\t\t\t\t\t\t\"autoPlay\": true (or ms. eg: 4000)\n",
       "\t\t\t\t\t\t\t\t\t\"navigation\": true\n",
       "\t\t\t\t\t\t\t\t\t\"pagination\": true\n",
       "\t\t\t\t\t\t\t\t\t\"transitionStyle\":\"fadeUp\" (fade,backSlide,goDown,fadeUp)\n",
       "\t\t\t\t\t\t\t-->\n",
       "<div class=\"owl-carousel buttons-autohide controlls-over\" data-plugin-options='{\"singleItem\": true, \"autoPlay\": 3400, \"navigation\": true, \"pagination\": true, \"transitionStyle\":\"fadeUp\"}'>\n",
       "<div>\n",
       "<img alt=\"\" class=\"img-responsive\" src=\"assets/images/home/bigdata.jpg\"/>\n",
       "</div>\n",
       "<div>\n",
       "<img alt=\"\" class=\"img-responsive\" src=\"assets/images/home/cloud.jpg\"/>\n",
       "</div>\n",
       "<div>\n",
       "<img alt=\"\" class=\"img-responsive\" src=\"assets/images/home/dl.jpg\"/>\n",
       "</div>\n",
       "<div>\n",
       "<img alt=\"\" class=\"img-responsive\" src=\"assets/images/home/market.jpg\"/>\n",
       "</div>\n",
       "<div>\n",
       "<img alt=\"\" class=\"img-responsive\" src=\"assets/images/home/sn.jpg\"/>\n",
       "</div>\n",
       "<div>\n",
       "<img alt=\"\" class=\"img-responsive\" src=\"assets/images/home/snvis.jpg\"/>\n",
       "</div>\n",
       "<div>\n",
       "<img alt=\"\" class=\"img-responsive\" src=\"assets/images/home/network.jpg\"/>\n",
       "</div>\n",
       "</div>\n",
       "</div>\n",
       "</div>\n",
       "</div>\n",
       "</section>\n",
       "<!-- /WELCOME -->\n",
       "<!-- FOOTER -->\n",
       "<footer id=\"footer\">\n",
       "<div class=\"container\">\n",
       "<div class=\"row\">\n",
       "<div class=\"col-md-5\">\n",
       "<!-- Footer Logo -->\n",
       "<img alt=\"\" class=\"footer-logo footer-2\" src=\"assets/images/logo-footer.png\">\n",
       "<div class=\"clearfix\">\n",
       "<a class=\"social-icon social-icon-sm social-icon-transparent social-youtube pull-left\" data-placement=\"top\" data-toggle=\"tooltip\" href=\"https://www.youtube.com/channel/UCFfALXX0DOx7zv6VeR5U_Bg\" target=\"_blank\" title=\"YouTube\">\n",
       "<i class=\"icon-youtube\"></i>\n",
       "<i class=\"icon-youtube\"></i>\n",
       "</a>\n",
       "<a class=\"social-icon social-icon-sm social-icon-transparent social-facebook pull-left\" data-placement=\"top\" data-toggle=\"tooltip\" href=\"https://www.facebook.com/suanlab\" target=\"_blank\" title=\"Facebook\">\n",
       "<i class=\"icon-facebook\"></i>\n",
       "<i class=\"icon-facebook\"></i>\n",
       "</a>\n",
       "<a class=\"social-icon social-icon-sm social-icon-transparent social-instagram pull-left\" data-placement=\"top\" data-toggle=\"tooltip\" href=\"https://www.instagram.com/suanlab\" target=\"_blank\" title=\"Instagram\">\n",
       "<i class=\"icon-instagram\"></i>\n",
       "<i class=\"icon-instagram\"></i>\n",
       "</a>\n",
       "<a class=\"social-icon social-icon-sm social-icon-transparent social-linkedin pull-left\" data-placement=\"top\" data-toggle=\"tooltip\" href=\"https://www.linkedin.com/in/suan-lee-46aaa15b/\" target=\"_blank\" title=\"Linkedin\">\n",
       "<i class=\"icon-linkedin\"></i>\n",
       "<i class=\"icon-linkedin\"></i>\n",
       "</a>\n",
       "<a class=\"social-icon social-icon-sm social-icon-transparent social-twitter pull-left\" data-placement=\"top\" data-toggle=\"tooltip\" href=\"https://twitter.com/webdizen\" target=\"_blank\" title=\"Twitter\">\n",
       "<i class=\"icon-twitter\"></i>\n",
       "<i class=\"icon-twitter\"></i>\n",
       "</a>\n",
       "</div>\n",
       "<!-- Small Description -->\n",
       "<p>\n",
       "\t\t\t\t\t\t\t\tSuanLab is professor Suan's personal website, and conducting research on data science and artificial intelligence and shares various information, lecture, and youtube contents.<br/>\n",
       "\t\t\t\t\t\t\t\tCurrently, I am an assistant professor in the School of Computer Science at Semyung University and teach artificial intelligence, image processing, big data, and database lecture.<br/>\n",
       "\t\t\t\t\t\t\t\tContact me if anyone or company wants to join or collaborate on an interesting data science &amp; artificial intelligence research.\n",
       "\t\t\t\t\t\t\t</p>\n",
       "</img></div>\n",
       "<div class=\"col-md-3\">\n",
       "<h3>CONTACT INFO</h3>\n",
       "<!-- Contact Address -->\n",
       "<address>\n",
       "<ul class=\"list-unstyled\">\n",
       "<li class=\"footer-sprite address\">\n",
       "\t\t\t\t\t\t\t\t\t\t65 Semyung-ro, Jecheon-si, Chungcheongbuk-do, 27136 Korea\n",
       "\t\t\t\t\t\t\t\t\t</li>\n",
       "<li class=\"footer-sprite phone\">\n",
       "\t\t\t\t\t\t\t\t\t\tPhone: +82-43-649-1273\n",
       "\t\t\t\t\t\t\t\t\t</li>\n",
       "<li class=\"footer-sprite email\">\n",
       "<a href=\"mailto:suanlab@gmail.com\">suanlab@gmail.com</a><br/><a href=\"mailto:suanlee@semyung.com\">suanlee@semyung.ac.kr</a>\n",
       "</li>\n",
       "</ul>\n",
       "</address>\n",
       "<!-- /Contact Address -->\n",
       "</div>\n",
       "<div class=\"col-md-4\">\n",
       "<a href=\"https://map.kakao.com/?urlX=765405&amp;urlY=1024145&amp;urlLevel=4&amp;map_type=TYPE_SKYVIEW&amp;map_hybrid=true\" target=\"_blank\"><img height=\"204\" src=\"https://map2.daum.net/map/skyviewmapservice?FORMAT=PNG&amp;RDR=HybridRender&amp;SCALE=5&amp;MX=765405&amp;MY=1024145&amp;S=0&amp;IW=504&amp;IH=310&amp;LANG=0&amp;COORDSTM=WCONGNAMUL&amp;logo=kakao_logo\" style=\"border:1px solid #ccc\" width=\"360\"/></a><div class=\"hide\" style=\"overflow:hidden;padding:7px 11px;border:1px solid #dfdfdf;border-color:rgba(0,0,0,.1);border-radius:0 0 2px 2px;background-color:#f9f9f9;width:482px;\"><strong style=\"float: left;\"><img alt=\"카카오맵\" height=\"16\" src=\"//t1.daumcdn.net/localimg/localimages/07/2018/pc/common/logo_kakaomap.png\" width=\"72\"/></strong><div style=\"float: right;position:relative\"><a href=\"https://map.kakao.com/?urlX=765405&amp;urlY=1024145&amp;urlLevel=4&amp;map_type=TYPE_SKYVIEW&amp;map_hybrid=true\" style=\"font-size:12px;text-decoration:none;float:left;height:15px;padding-top:1px;line-height:15px;color:#000\" target=\"_blank\">지도 크게 보기</a></div></div>\n",
       "</div>\n",
       "</div>\n",
       "</div>\n",
       "<div class=\"copyright\">\n",
       "<div class=\"container\">\n",
       "<ul class=\"pull-right nomargin list-inline mobile-block\">\n",
       "<li><a href=\"#\">Terms &amp; Conditions</a></li>\n",
       "<li>•</li>\n",
       "<li><a href=\"#\">Privacy</a></li>\n",
       "</ul>\n",
       "\t\t\t\t\t\t© All Rights Reserved, SuanLab\n",
       "\t\t\t\t\t</div>\n",
       "</div>\n",
       "</footer>\n",
       "<!-- /FOOTER -->\n",
       "</div>\n",
       "<!-- /wrapper -->\n",
       "<!-- SCROLL TO TOP -->\n",
       "<a href=\"#\" id=\"toTop\"></a>\n",
       "<!-- JAVASCRIPT FILES -->\n",
       "<script type=\"text/javascript\">var plugin_path = 'assets/plugins/';</script>\n",
       "<script src=\"assets/plugins/jquery/jquery-2.2.3.min.js\" type=\"text/javascript\"></script>\n",
       "<script src=\"assets/js/scripts.js\" type=\"text/javascript\"></script>\n",
       "<!-- LAYER SLIDER -->\n",
       "<script src=\"assets/plugins/slider.layerslider/js/layerslider_pack.js\" type=\"text/javascript\"></script>\n",
       "<script src=\"assets/js/view/demo.layerslider_slider.js\" type=\"text/javascript\"></script>\n",
       "<!-- INSTAFEED -->\n",
       "<script src=\"assets/js/instafeed.min.js\" type=\"text/javascript\"></script>\n",
       "<script type=\"text/javascript\">\n",
       "\t\t    var userFeed = new Instafeed({\n",
       "\t\t        get: 'user',\n",
       "\t\t        userId: '1602984095',\n",
       "\t\t        accessToken: '1602984095.0291eac.1c586ce5aa894da5884d87fb00284e1e',\n",
       "\t\t        sortBy: 'most-recent',\n",
       "\t\t        limit: 6,\n",
       "\t\t        template: '<a href=\"{{link}}\" target=\"_blank\"><img src=\"{{image}}\" width=\"120px\" /></a>'\n",
       "\t\t    });\n",
       "\t\t    userFeed.run();\n",
       "\t\t</script>\n",
       "<!-- REVOLUTION SLIDER -->\n",
       "<script src=\"assets/plugins/slider.revolution/js/jquery.themepunch.tools.min.js\" type=\"text/javascript\"></script>\n",
       "<script src=\"assets/plugins/slider.revolution/js/jquery.themepunch.revolution.min.js\" type=\"text/javascript\"></script>\n",
       "<script src=\"assets/js/view/demo.revolution_slider.js\" type=\"text/javascript\"></script>\n",
       "<!-- PARTICLE EFFECT -->\n",
       "<script src=\"assets/plugins/effects/canvas.particles.js\" type=\"text/javascript\"></script>\n",
       "</body>\n",
       "</html>"
      ]
     },
     "execution_count": 45,
     "metadata": {},
     "output_type": "execute_result"
    }
   ],
   "source": [
    "URL = \"http://suanlab.com/\"\n",
    "html = urllib.request.urlopen(URL).read()\n",
    "soup = BeautifulSoup(html, \"html.parser\")\n",
    "\n",
    "soup"
   ]
  },
  {
   "cell_type": "code",
   "execution_count": 47,
   "metadata": {},
   "outputs": [
    {
     "name": "stdout",
     "output_type": "stream",
     "text": [
      "[2022-12-02] KJDB2022 Workshop\n",
      "[2020-01-20] \"바이러스 연구부터 뷰티·배달 AI 결합한 비즈니스...\"\n",
      "[2020-10-07] \"이력서 작성·레시피 제공 다양하게 활용되는 GPT3\"\n",
      "[2020-05-20] \"인공지능의 보안 위협\"\n",
      "[2020-03-04] \"데이터 경제 시대\"\n",
      "[2019-12-25] \"마이데이터 시대의 도래 데이터 주권과 새로운 가치\"\n",
      "[2019-09-04] \"농업으로 들어간 인공지능\"\n",
      "[2019-08-07] \"AI시대 지배할 것인가 지배당하며 살 것인가\"\n"
     ]
    }
   ],
   "source": [
    "labels = soup.find_all(\"label\")\n",
    "\n",
    "for label in labels:\n",
    "    print(label.get_text())"
   ]
  },
  {
   "cell_type": "code",
   "execution_count": 50,
   "metadata": {},
   "outputs": [
    {
     "name": "stdout",
     "output_type": "stream",
     "text": [
      "[2022-12-02] KJDB2022 Workshop\n",
      "[2020-01-20] \"바이러스 연구부터 뷰티·배달 AI 결합한 비즈니스...\"\n",
      "[2020-10-07] \"이력서 작성·레시피 제공 다양하게 활용되는 GPT3\"\n",
      "[2020-05-20] \"인공지능의 보안 위협\"\n",
      "[2020-03-04] \"데이터 경제 시대\"\n",
      "[2019-12-25] \"마이데이터 시대의 도래 데이터 주권과 새로운 가치\"\n",
      "[2019-09-04] \"농업으로 들어간 인공지능\"\n",
      "[2019-08-07] \"AI시대 지배할 것인가 지배당하며 살 것인가\"\n"
     ]
    }
   ],
   "source": [
    "labels = soup.select(\"#wrapper > section > div > div > div:nth-child(1) > div > div > label\")\n",
    "\n",
    "for label in labels:\n",
    "    print(label.get_text())"
   ]
  }
 ],
 "metadata": {
  "kernelspec": {
   "display_name": "study",
   "language": "python",
   "name": "python3"
  },
  "language_info": {
   "codemirror_mode": {
    "name": "ipython",
    "version": 3
   },
   "file_extension": ".py",
   "mimetype": "text/x-python",
   "name": "python",
   "nbconvert_exporter": "python",
   "pygments_lexer": "ipython3",
   "version": "3.11.5"
  }
 },
 "nbformat": 4,
 "nbformat_minor": 2
}
