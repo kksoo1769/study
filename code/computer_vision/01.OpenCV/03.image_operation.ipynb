{
  "cells": [
    {
      "cell_type": "markdown",
      "metadata": {
        "id": "OuOLVon93FCq"
      },
      "source": [
        "- 코드 출처 : https://opencv-python.readthedocs.io/en/latest/index.html"
      ]
    },
    {
      "cell_type": "code",
      "execution_count": 4,
      "metadata": {
        "id": "j3w-UMi9-PAW"
      },
      "outputs": [],
      "source": [
        "import numpy as np\n",
        "import cv2\n",
        "\n",
        "import matplotlib.pyplot as plt\n",
        "plt.style.use('seaborn-v0_8-white')"
      ]
    },
    {
      "cell_type": "markdown",
      "metadata": {
        "id": "VvaXEiwm34n2"
      },
      "source": [
        "# 이미지 연산 (Image Operation)\n",
        "\n",
        "- 이미지는 배열(array)로 표현가능하여 여러가지 연산 가능"
      ]
    },
    {
      "cell_type": "markdown",
      "metadata": {
        "id": "289W-N2F4i0N"
      },
      "source": [
        "- 이미지 다운로드 및 업로드\n",
        "\n",
        "  - tree.jpg\n",
        "\n",
        "  <img src=\"https://cdn.pixabay.com/photo/2020/08/22/00/24/tree-5507220_960_720.jpg\" width=\"400\">\n",
        "\n",
        "  <sub>[이미지 출처] https://pixabay.com/ko/photos/%ED%8A%B8%EB%A6%AC-%EC%82%AC%EB%A7%89-%ED%92%8D%EA%B2%BD-%ED%86%A0%EC%A7%80-%EA%B0%80%EB%AD%84-5507220/</sub>\n",
        "\n"
      ]
    },
    {
      "cell_type": "code",
      "execution_count": 5,
      "metadata": {
        "id": "ECCj5tHL9cCj"
      },
      "outputs": [
        {
          "data": {
            "text/plain": [
              "(431, 640, 3)"
            ]
          },
          "execution_count": 5,
          "metadata": {},
          "output_type": "execute_result"
        }
      ],
      "source": [
        "tree = cv2.imread('./img/tree.jpg')\n",
        "\n",
        "tree.shape"
      ]
    },
    {
      "cell_type": "code",
      "execution_count": 6,
      "metadata": {
        "id": "rDjKl2iX38CY"
      },
      "outputs": [],
      "source": [
        "cv2.imshow('', tree)\n",
        "cv2.waitKey(0)\n",
        "cv2.destroyAllWindows()"
      ]
    },
    {
      "cell_type": "markdown",
      "metadata": {
        "id": "0T85VePG6CBk"
      },
      "source": [
        "## Pixel Value"
      ]
    },
    {
      "cell_type": "code",
      "execution_count": 7,
      "metadata": {
        "id": "Cs4j6BZy38Qm"
      },
      "outputs": [
        {
          "data": {
            "text/plain": [
              "array([189, 207, 230], dtype=uint8)"
            ]
          },
          "execution_count": 7,
          "metadata": {},
          "output_type": "execute_result"
        }
      ],
      "source": [
        "temp_px = tree[200, 200]\n",
        "\n",
        "temp_px"
      ]
    },
    {
      "cell_type": "code",
      "execution_count": 8,
      "metadata": {
        "id": "-W4Uue2x38OU"
      },
      "outputs": [
        {
          "data": {
            "text/plain": [
              "230"
            ]
          },
          "execution_count": 8,
          "metadata": {},
          "output_type": "execute_result"
        }
      ],
      "source": [
        "temp_ch = tree[200, 200, 2]\n",
        "\n",
        "temp_ch"
      ]
    },
    {
      "cell_type": "markdown",
      "metadata": {
        "id": "ebVszfyW6lqt"
      },
      "source": [
        "## 값 변경"
      ]
    },
    {
      "cell_type": "code",
      "execution_count": 9,
      "metadata": {
        "id": "nohHA-XZ38KH"
      },
      "outputs": [],
      "source": [
        "tree[100, 100] = [0, 0, 255]\n",
        "tree[101, 100] = [0, 0, 255]\n",
        "tree[102, 100] = [0, 0, 255]\n",
        "tree[103, 100] = [0, 0, 255]\n",
        "tree[104, 100] = [0, 0, 255]"
      ]
    },
    {
      "cell_type": "code",
      "execution_count": 10,
      "metadata": {
        "id": "1BEwonD537_f"
      },
      "outputs": [],
      "source": [
        "cv2.imshow('', tree)\n",
        "cv2.waitKey(0)\n",
        "cv2.destroyAllWindows()"
      ]
    },
    {
      "cell_type": "markdown",
      "metadata": {
        "id": "c7CZUU6a7p9h"
      },
      "source": [
        "## 인덱싱"
      ]
    },
    {
      "cell_type": "code",
      "execution_count": 11,
      "metadata": {
        "id": "P94csnIM7pZk"
      },
      "outputs": [
        {
          "data": {
            "text/plain": [
              "(100, 100, 3)"
            ]
          },
          "execution_count": 11,
          "metadata": {},
          "output_type": "execute_result"
        }
      ],
      "source": [
        "tree[:100, :100].shape"
      ]
    },
    {
      "cell_type": "code",
      "execution_count": 12,
      "metadata": {
        "id": "FE-86-Th7peE"
      },
      "outputs": [],
      "source": [
        "cv2.imshow('', tree[:100, :100])\n",
        "cv2.waitKey(0)\n",
        "cv2.destroyAllWindows()"
      ]
    },
    {
      "cell_type": "code",
      "execution_count": 13,
      "metadata": {
        "id": "QSy9W0C172U7"
      },
      "outputs": [],
      "source": [
        "white_box = tree[:100, :100]\n",
        "white_box = [255, 255, 255]\n",
        "tree[:100, :100] = white_box"
      ]
    },
    {
      "cell_type": "code",
      "execution_count": 14,
      "metadata": {
        "id": "sSXUrrNl75uS"
      },
      "outputs": [],
      "source": [
        "cv2.imshow('', tree)\n",
        "cv2.waitKey(0)\n",
        "cv2.destroyAllWindows()"
      ]
    },
    {
      "cell_type": "markdown",
      "metadata": {
        "id": "mGgBUteR8Mwg"
      },
      "source": [
        "## 이미지 ROI\n",
        "\n",
        "- 이미지 작업시에는 특정 pixel단위 보다는 특정 영역단위로 작업을 하게 되는데 이것을 Region of Image(ROI)라고 함\n",
        "  \n",
        "- ROI 설정은 Numpy의 indexing 을 사용\n",
        "  \n",
        "  - 특정 영역을 copy 할 수도 있음"
      ]
    },
    {
      "cell_type": "code",
      "execution_count": 15,
      "metadata": {
        "id": "l4sWDoMa8Kfu"
      },
      "outputs": [
        {
          "data": {
            "text/plain": [
              "(431, 640, 3)"
            ]
          },
          "execution_count": 15,
          "metadata": {},
          "output_type": "execute_result"
        }
      ],
      "source": [
        "tree = cv2.imread('./img/tree.jpg')\n",
        "\n",
        "tree.shape"
      ]
    },
    {
      "cell_type": "code",
      "execution_count": 16,
      "metadata": {
        "id": "vmv34jfi8Ksj"
      },
      "outputs": [],
      "source": [
        "cv2.imshow('', tree)\n",
        "cv2.waitKey(0)\n",
        "cv2.destroyAllWindows()"
      ]
    },
    {
      "cell_type": "code",
      "execution_count": 17,
      "metadata": {
        "id": "SYxQk3579J_j"
      },
      "outputs": [],
      "source": [
        "t = tree[190:240, 290:350]"
      ]
    },
    {
      "cell_type": "code",
      "execution_count": 18,
      "metadata": {
        "id": "7CEEe91V8Kqn"
      },
      "outputs": [],
      "source": [
        "cv2.imshow('', t)\n",
        "cv2.waitKey(0)\n",
        "cv2.destroyAllWindows()"
      ]
    },
    {
      "cell_type": "code",
      "execution_count": 19,
      "metadata": {
        "id": "bs_WResu8KoW"
      },
      "outputs": [],
      "source": [
        "tree[130:180, 310:370] = t"
      ]
    },
    {
      "cell_type": "code",
      "execution_count": 20,
      "metadata": {
        "id": "fKo0wtIY8KmX"
      },
      "outputs": [],
      "source": [
        "cv2.imshow('', tree)\n",
        "cv2.waitKey(0)\n",
        "cv2.destroyAllWindows()"
      ]
    },
    {
      "cell_type": "code",
      "execution_count": 21,
      "metadata": {
        "id": "xFqUuLJ_8Kj2"
      },
      "outputs": [],
      "source": [
        "tree[200:250, 210:270] = t"
      ]
    },
    {
      "cell_type": "code",
      "execution_count": 22,
      "metadata": {
        "id": "4DeUazdS6vOR"
      },
      "outputs": [],
      "source": [
        "cv2.imshow('', tree)\n",
        "cv2.waitKey(0)\n",
        "cv2.destroyAllWindows()"
      ]
    },
    {
      "cell_type": "markdown",
      "metadata": {
        "id": "Aa0sOBUd90Ct"
      },
      "source": [
        "## 이미지의 Channels\n",
        "\n",
        "- B, G, R로 구성된 채널을 분리, 합칠 수 있음\n",
        "\n",
        "  - `cv2.split()`\n",
        "\n",
        "  - `cv2.merge()`"
      ]
    },
    {
      "cell_type": "code",
      "execution_count": 23,
      "metadata": {
        "id": "yDJJfZ-46vMv"
      },
      "outputs": [],
      "source": [
        "b, g, r = cv2.split(tree)"
      ]
    },
    {
      "cell_type": "code",
      "execution_count": 24,
      "metadata": {
        "id": "8KkxX3aF6vK4"
      },
      "outputs": [
        {
          "data": {
            "text/plain": [
              "(array([[176, 167, 165, ..., 158, 165, 161],\n",
              "        [158, 173, 183, ..., 178, 169, 169],\n",
              "        [191, 195, 190, ..., 195, 193, 190],\n",
              "        ...,\n",
              "        [108, 151, 173, ...,   0,  28,  51],\n",
              "        [111,  99, 109, ...,  14,  40,  30],\n",
              "        [ 91,  82, 103, ...,  36,  27,  24]], dtype=uint8),\n",
              " (431, 640))"
            ]
          },
          "execution_count": 24,
          "metadata": {},
          "output_type": "execute_result"
        }
      ],
      "source": [
        "b, b.shape"
      ]
    },
    {
      "cell_type": "code",
      "execution_count": 25,
      "metadata": {
        "id": "dPF1KE_36vH7"
      },
      "outputs": [
        {
          "data": {
            "text/plain": [
              "(array([[163, 154, 154, ..., 143, 150, 147],\n",
              "        [145, 162, 172, ..., 163, 155, 155],\n",
              "        [181, 186, 181, ..., 182, 180, 178],\n",
              "        ...,\n",
              "        [ 90, 137, 165, ...,   3,  30,  53],\n",
              "        [ 97,  89, 106, ...,  16,  41,  31],\n",
              "        [ 78,  74, 105, ...,  36,  26,  22]], dtype=uint8),\n",
              " (431, 640))"
            ]
          },
          "execution_count": 25,
          "metadata": {},
          "output_type": "execute_result"
        }
      ],
      "source": [
        "g, g.shape"
      ]
    },
    {
      "cell_type": "code",
      "execution_count": 26,
      "metadata": {
        "id": "1xM7ldL56vEP"
      },
      "outputs": [
        {
          "data": {
            "text/plain": [
              "(array([[179, 170, 170, ..., 170, 177, 171],\n",
              "        [161, 178, 188, ..., 190, 179, 179],\n",
              "        [194, 199, 194, ..., 206, 204, 200],\n",
              "        ...,\n",
              "        [ 89, 141, 182, ...,   0,  24,  47],\n",
              "        [ 98,  95, 122, ...,  10,  37,  27],\n",
              "        [ 76,  75, 113, ...,  30,  22,  21]], dtype=uint8),\n",
              " (431, 640))"
            ]
          },
          "execution_count": 26,
          "metadata": {},
          "output_type": "execute_result"
        }
      ],
      "source": [
        "r, r.shape"
      ]
    },
    {
      "cell_type": "code",
      "execution_count": 27,
      "metadata": {
        "id": "xyPD2C1K6vBI"
      },
      "outputs": [],
      "source": [
        "img = cv2.merge((b, g, r))"
      ]
    },
    {
      "cell_type": "code",
      "execution_count": 28,
      "metadata": {
        "id": "kxJwNAm86u8l"
      },
      "outputs": [
        {
          "data": {
            "text/plain": [
              "(431, 640, 3)"
            ]
          },
          "execution_count": 28,
          "metadata": {},
          "output_type": "execute_result"
        }
      ],
      "source": [
        "img.shape"
      ]
    },
    {
      "cell_type": "code",
      "execution_count": 29,
      "metadata": {
        "id": "vQiNnEBK6u6k"
      },
      "outputs": [],
      "source": [
        "cv2.imshow('', tree)\n",
        "cv2.waitKey(0)\n",
        "cv2.destroyAllWindows()"
      ]
    },
    {
      "cell_type": "markdown",
      "metadata": {
        "id": "qfLzw_VV_xyw"
      },
      "source": [
        "- `cv2.split()` 함수는 비용이 많이 드는 함수이므로, 가능하다면 **Numpy indexing**을 사용하는 효율적!"
      ]
    },
    {
      "cell_type": "markdown",
      "metadata": {
        "id": "5qfrg8aiAA-N"
      },
      "source": [
        "- R 채널 0으로 값 변경"
      ]
    },
    {
      "cell_type": "code",
      "execution_count": 30,
      "metadata": {
        "id": "eX3KaPKg_3NV"
      },
      "outputs": [],
      "source": [
        "img[:, :, 2] = 0"
      ]
    },
    {
      "cell_type": "code",
      "execution_count": 31,
      "metadata": {
        "id": "dNVWXfPdA_M7"
      },
      "outputs": [
        {
          "data": {
            "text/plain": [
              "array([[[176, 163,   0],\n",
              "        [167, 154,   0],\n",
              "        [165, 154,   0],\n",
              "        ...,\n",
              "        [158, 143,   0],\n",
              "        [165, 150,   0],\n",
              "        [161, 147,   0]],\n",
              "\n",
              "       [[158, 145,   0],\n",
              "        [173, 162,   0],\n",
              "        [183, 172,   0],\n",
              "        ...,\n",
              "        [178, 163,   0],\n",
              "        [169, 155,   0],\n",
              "        [169, 155,   0]],\n",
              "\n",
              "       [[191, 181,   0],\n",
              "        [195, 186,   0],\n",
              "        [190, 181,   0],\n",
              "        ...,\n",
              "        [195, 182,   0],\n",
              "        [193, 180,   0],\n",
              "        [190, 178,   0]],\n",
              "\n",
              "       ...,\n",
              "\n",
              "       [[108,  90,   0],\n",
              "        [151, 137,   0],\n",
              "        [173, 165,   0],\n",
              "        ...,\n",
              "        [  0,   3,   0],\n",
              "        [ 28,  30,   0],\n",
              "        [ 51,  53,   0]],\n",
              "\n",
              "       [[111,  97,   0],\n",
              "        [ 99,  89,   0],\n",
              "        [109, 106,   0],\n",
              "        ...,\n",
              "        [ 14,  16,   0],\n",
              "        [ 40,  41,   0],\n",
              "        [ 30,  31,   0]],\n",
              "\n",
              "       [[ 91,  78,   0],\n",
              "        [ 82,  74,   0],\n",
              "        [103, 105,   0],\n",
              "        ...,\n",
              "        [ 36,  36,   0],\n",
              "        [ 27,  26,   0],\n",
              "        [ 24,  22,   0]]], dtype=uint8)"
            ]
          },
          "execution_count": 31,
          "metadata": {},
          "output_type": "execute_result"
        }
      ],
      "source": [
        "img"
      ]
    },
    {
      "cell_type": "code",
      "execution_count": 32,
      "metadata": {
        "id": "oHwqrkCjADkV"
      },
      "outputs": [],
      "source": [
        "cv2.imshow('', img)\n",
        "cv2.waitKey(0)\n",
        "cv2.destroyAllWindows()"
      ]
    },
    {
      "cell_type": "markdown",
      "metadata": {
        "id": "ADZTRfVcAjB3"
      },
      "source": [
        "- G 채널 0으로 값 변경"
      ]
    },
    {
      "cell_type": "code",
      "execution_count": 33,
      "metadata": {
        "id": "LOoboqxn_sv7"
      },
      "outputs": [],
      "source": [
        "img[:, :, 1] = 0"
      ]
    },
    {
      "cell_type": "code",
      "execution_count": 34,
      "metadata": {
        "id": "0dj8puBCBBKG"
      },
      "outputs": [
        {
          "data": {
            "text/plain": [
              "array([[[176,   0,   0],\n",
              "        [167,   0,   0],\n",
              "        [165,   0,   0],\n",
              "        ...,\n",
              "        [158,   0,   0],\n",
              "        [165,   0,   0],\n",
              "        [161,   0,   0]],\n",
              "\n",
              "       [[158,   0,   0],\n",
              "        [173,   0,   0],\n",
              "        [183,   0,   0],\n",
              "        ...,\n",
              "        [178,   0,   0],\n",
              "        [169,   0,   0],\n",
              "        [169,   0,   0]],\n",
              "\n",
              "       [[191,   0,   0],\n",
              "        [195,   0,   0],\n",
              "        [190,   0,   0],\n",
              "        ...,\n",
              "        [195,   0,   0],\n",
              "        [193,   0,   0],\n",
              "        [190,   0,   0]],\n",
              "\n",
              "       ...,\n",
              "\n",
              "       [[108,   0,   0],\n",
              "        [151,   0,   0],\n",
              "        [173,   0,   0],\n",
              "        ...,\n",
              "        [  0,   0,   0],\n",
              "        [ 28,   0,   0],\n",
              "        [ 51,   0,   0]],\n",
              "\n",
              "       [[111,   0,   0],\n",
              "        [ 99,   0,   0],\n",
              "        [109,   0,   0],\n",
              "        ...,\n",
              "        [ 14,   0,   0],\n",
              "        [ 40,   0,   0],\n",
              "        [ 30,   0,   0]],\n",
              "\n",
              "       [[ 91,   0,   0],\n",
              "        [ 82,   0,   0],\n",
              "        [103,   0,   0],\n",
              "        ...,\n",
              "        [ 36,   0,   0],\n",
              "        [ 27,   0,   0],\n",
              "        [ 24,   0,   0]]], dtype=uint8)"
            ]
          },
          "execution_count": 34,
          "metadata": {},
          "output_type": "execute_result"
        }
      ],
      "source": [
        "img"
      ]
    },
    {
      "cell_type": "code",
      "execution_count": 35,
      "metadata": {
        "id": "KzRDSEVa_sz0"
      },
      "outputs": [],
      "source": [
        "cv2.imshow('', img)\n",
        "cv2.waitKey(0)\n",
        "cv2.destroyAllWindows()"
      ]
    },
    {
      "cell_type": "code",
      "execution_count": 36,
      "metadata": {
        "id": "NY4PKyOLAtR0"
      },
      "outputs": [],
      "source": [
        "img[:, :, 0] = 0\n",
        "\n",
        "cv2.imshow('', img)\n",
        "cv2.waitKey(0)\n",
        "cv2.destroyAllWindows()"
      ]
    },
    {
      "cell_type": "markdown",
      "metadata": {
        "id": "zTnndDI49Rzm"
      },
      "source": [
        "## 이미지 더하기\n",
        "- `cv2.add()`\n",
        "\n",
        "- `cv2.addWeighted()`\n",
        "\n",
        "- `Numpy` 더하기 연산\n",
        "\n",
        "- (참고)\n",
        "  - `cv2.add()` : Saturation 연산\n",
        "    - `Saturation` 연산은 한계값을 정하고 그 값을 벗어나는 경우는 모두 특정 값으로 계산하는 방식\n",
        "\n",
        "    - 이미지에서는 0이하는 모두 0, 255이상은 모두 255로 표현\n",
        "  \n",
        "  - `Numpy` : modulo 연산\n",
        "    - a와 b는 n으로 나눈 나머지 값이 같다라는 의미\n",
        "\n",
        "    - 이미지에서는 연산의 결과가 256보다 큰 경우는 256으로 나눈 나머지 값으로 결정"
      ]
    },
    {
      "cell_type": "code",
      "execution_count": 37,
      "metadata": {},
      "outputs": [],
      "source": [
        "import numpy as np\n",
        "import cv2\n"
      ]
    },
    {
      "cell_type": "code",
      "execution_count": 56,
      "metadata": {
        "id": "5wUbZ2Ay9dvE"
      },
      "outputs": [],
      "source": [
        "x = np.array([[250]], np.uint8)\n",
        "y = np.array([[10]], np.uint8)"
      ]
    },
    {
      "cell_type": "markdown",
      "metadata": {
        "id": "9mCVCK4w-Yim"
      },
      "source": [
        "- `cv2.add()` 연산"
      ]
    },
    {
      "cell_type": "code",
      "execution_count": 57,
      "metadata": {
        "id": "VNTYPOEM9ds5"
      },
      "outputs": [
        {
          "data": {
            "text/plain": [
              "array([[255]], dtype=uint8)"
            ]
          },
          "execution_count": 57,
          "metadata": {},
          "output_type": "execute_result"
        }
      ],
      "source": [
        "cv2.add(x, y)"
      ]
    },
    {
      "cell_type": "markdown",
      "metadata": {
        "id": "NWJfVDVr-arn"
      },
      "source": [
        "- `Numpy` 연산"
      ]
    },
    {
      "cell_type": "code",
      "execution_count": 40,
      "metadata": {
        "id": "etWmmdxl9drN"
      },
      "outputs": [
        {
          "data": {
            "text/plain": [
              "array([4], dtype=uint8)"
            ]
          },
          "execution_count": 40,
          "metadata": {},
          "output_type": "execute_result"
        }
      ],
      "source": [
        "x + y"
      ]
    },
    {
      "cell_type": "markdown",
      "metadata": {
        "id": "9fiaic3T-kxX"
      },
      "source": [
        "- 이미지1(dog1.jpg)\n",
        "\n",
        "  <img src=\"https://cdn.pixabay.com/photo/2017/09/25/13/12/dog-2785074_960_720.jpg\" width=\"300\">\n",
        "\n",
        "  <sub>[이미지 출처] https://pixabay.com/ko/photos/%EA%B0%9C-%EC%8A%AC%ED%94%88-%EB%8C%80%EA%B8%B0-%EC%A4%91-%EC%B8%B5-2785074//</sub>\n",
        "\n",
        "<br>\n",
        "\n",
        "- 이미지2(dog2.jpg)\n",
        "\n",
        "  <img src=\"https://cdn.pixabay.com/photo/2017/09/25/13/14/dog-2785077_960_720.jpg\" width=\"300\">\n",
        "\n",
        "  <sub>[이미지 출처] https://pixabay.com/ko/photos/%EA%B0%9C-%EB%9D%BC%EC%82%AC-%EC%82%AC-apso-%EB%8F%99%EB%AC%BC-2785077/</sub>"
      ]
    },
    {
      "cell_type": "code",
      "execution_count": 41,
      "metadata": {
        "id": "5nZkucZq9do7"
      },
      "outputs": [],
      "source": [
        "dog_1 = cv2.imread('./img/dog_1.jpg', cv2.IMREAD_COLOR)\n",
        "dog_2 = cv2.imread('./img/dog_2.jpg', cv2.IMREAD_COLOR)"
      ]
    },
    {
      "cell_type": "code",
      "execution_count": 42,
      "metadata": {
        "id": "4KmPMMXL9dmX"
      },
      "outputs": [
        {
          "name": "stdout",
          "output_type": "stream",
          "text": [
            "(427, 640, 3)\n",
            "(427, 640, 3)\n"
          ]
        }
      ],
      "source": [
        "print(dog_1.shape)\n",
        "print(dog_2.shape)"
      ]
    },
    {
      "cell_type": "markdown",
      "metadata": {
        "id": "8krYJ50hASze"
      },
      "source": [
        "- `cv2.add()` 연산"
      ]
    },
    {
      "cell_type": "code",
      "execution_count": 43,
      "metadata": {
        "id": "DvISjwsg9djy"
      },
      "outputs": [],
      "source": [
        "res_1 = cv2.add(dog_1, dog_2)"
      ]
    },
    {
      "cell_type": "code",
      "execution_count": 44,
      "metadata": {
        "id": "tPbAr6kc9dhJ"
      },
      "outputs": [],
      "source": [
        "cv2.imshow('', res_1)\n",
        "cv2.waitKey(0)\n",
        "cv2.destroyAllWindows()"
      ]
    },
    {
      "cell_type": "markdown",
      "metadata": {
        "id": "Gb7vDjtEA_4h"
      },
      "source": [
        "- `Numpy` 연산"
      ]
    },
    {
      "cell_type": "code",
      "execution_count": 45,
      "metadata": {
        "id": "EkdXgkZ_9def"
      },
      "outputs": [],
      "source": [
        "res_2 = dog_1 + dog_2"
      ]
    },
    {
      "cell_type": "code",
      "execution_count": 46,
      "metadata": {
        "id": "701dXj9P9dbv"
      },
      "outputs": [],
      "source": [
        "cv2.imshow('', res_2)\n",
        "cv2.waitKey(0)\n",
        "cv2.destroyAllWindows()"
      ]
    },
    {
      "cell_type": "markdown",
      "metadata": {
        "id": "Of7klak-7J6-"
      },
      "source": [
        "## 비트 연산\n",
        "- AND, OR, NOT, XOR 연산\n",
        "  - `bitwise_and` : 둘다 0이 아닌 경우만 값을 통과\n",
        "\n",
        "  - `bitwise_or` : 둘중 하나가 0이 아니면 값을 통과\n",
        "\n",
        "  - `bitwise_not` : 해당 값에 대해 부정값을 통과\n",
        "\n",
        "  - `bitwise_xor` : 두 요소의 논리적 배타값 통과\n"
      ]
    },
    {
      "cell_type": "markdown",
      "metadata": {
        "id": "xJyPLOki4A6F"
      },
      "source": [
        "* 이미지 다운로드\n",
        "\n",
        "<img src=\"https://static.vecteezy.com/system/resources/previews/000/440/202/original/star-vector-icon.jpg\" width=\"400\">\n",
        "\n",
        "<sub>출처: https://static.vecteezy.com/system/resources/previews/000/440/202/original/star-vector-icon.jpg</sub>\n",
        "\n",
        "\n"
      ]
    },
    {
      "cell_type": "code",
      "execution_count": 47,
      "metadata": {
        "id": "OAEq3nKiGwQw"
      },
      "outputs": [],
      "source": [
        "star = cv2.imread('./img/star.jpg')\n",
        "black_img = np.zeros((5_120, 5_120, 3))"
      ]
    },
    {
      "cell_type": "code",
      "execution_count": 48,
      "metadata": {},
      "outputs": [
        {
          "data": {
            "image/png": "[encoded data removed]",
            "text/plain": [
              "<Figure size 640x480 with 1 Axes>"
            ]
          },
          "metadata": {},
          "output_type": "display_data"
        }
      ],
      "source": [
        "plt.imshow(star)\n",
        "plt.show()"
      ]
    },
    {
      "cell_type": "code",
      "execution_count": 49,
      "metadata": {
        "id": "Trumedt8G0DZ"
      },
      "outputs": [
        {
          "data": {
            "image/png": "[encoded data removed]",
            "text/plain": [
              "<Figure size 640x480 with 1 Axes>"
            ]
          },
          "metadata": {},
          "output_type": "display_data"
        }
      ],
      "source": [
        "plt.imshow(black_img)\n",
        "plt.show()"
      ]
    },
    {
      "cell_type": "code",
      "execution_count": 50,
      "metadata": {
        "id": "Nmr6B-WcCEy0"
      },
      "outputs": [],
      "source": [
        "black_img[:, :2_560, :] = (255, 255, 255)"
      ]
    },
    {
      "cell_type": "markdown",
      "metadata": {
        "id": "8tQ2Cj_5HuKx"
      },
      "source": [
        "- 이미지의 dtype을 int형으로 변환"
      ]
    },
    {
      "cell_type": "code",
      "execution_count": 51,
      "metadata": {
        "id": "3N290v2JCEwX"
      },
      "outputs": [],
      "source": [
        "img = black_img.astype(np.uint8)"
      ]
    },
    {
      "cell_type": "code",
      "execution_count": 52,
      "metadata": {
        "id": "33mNnF69ExwO"
      },
      "outputs": [
        {
          "data": {
            "image/png": "[encoded data removed]",
            "text/plain": [
              "<Figure size 640x480 with 1 Axes>"
            ]
          },
          "metadata": {},
          "output_type": "display_data"
        }
      ],
      "source": [
        "plt.imshow(img)\n",
        "plt.show()"
      ]
    },
    {
      "cell_type": "markdown",
      "metadata": {
        "id": "58R5pDpQH3TU"
      },
      "source": [
        "### bitwise_and 연산"
      ]
    },
    {
      "cell_type": "code",
      "execution_count": 53,
      "metadata": {
        "id": "9tDtINxCCEtv"
      },
      "outputs": [],
      "source": [
        "res = cv2.bitwise_and(img, star)"
      ]
    },
    {
      "cell_type": "code",
      "execution_count": 54,
      "metadata": {
        "id": "7q3PO26lCEq_"
      },
      "outputs": [
        {
          "data": {
            "image/png": "[encoded data removed]",
            "text/plain": [
              "<Figure size 640x480 with 1 Axes>"
            ]
          },
          "metadata": {},
          "output_type": "display_data"
        }
      ],
      "source": [
        "plt.imshow(res)\n",
        "plt.show()"
      ]
    },
    {
      "cell_type": "markdown",
      "metadata": {
        "id": "PqsZjQiKIFxy"
      },
      "source": [
        "### bitwise_or 연산"
      ]
    },
    {
      "cell_type": "code",
      "execution_count": 55,
      "metadata": {
        "id": "aHJoIF1XIFWe"
      },
      "outputs": [
        {
          "data": {
            "text/plain": [
              "'4.9.0'"
            ]
          },
          "execution_count": 55,
          "metadata": {},
          "output_type": "execute_result"
        }
      ],
      "source": [
        "cv2.__version__"
      ]
    },
    {
      "cell_type": "code",
      "execution_count": null,
      "metadata": {
        "id": "qfY-1ywjIFS5"
      },
      "outputs": [],
      "source": []
    },
    {
      "cell_type": "markdown",
      "metadata": {
        "id": "cwieTC85IM3m"
      },
      "source": [
        "### bitwise_not 연산"
      ]
    },
    {
      "cell_type": "code",
      "execution_count": null,
      "metadata": {
        "id": "OOkFHJfOIFQv"
      },
      "outputs": [],
      "source": []
    },
    {
      "cell_type": "code",
      "execution_count": null,
      "metadata": {
        "id": "gPRivX8EIFOc"
      },
      "outputs": [],
      "source": []
    },
    {
      "cell_type": "code",
      "execution_count": null,
      "metadata": {
        "id": "A4XfGiMdIFMs"
      },
      "outputs": [],
      "source": []
    },
    {
      "cell_type": "code",
      "execution_count": null,
      "metadata": {
        "id": "rI6RTRaXIFKI"
      },
      "outputs": [],
      "source": []
    },
    {
      "cell_type": "markdown",
      "metadata": {
        "id": "fdIfaCSlIZUm"
      },
      "source": [
        "### bitwise_nor 연산"
      ]
    },
    {
      "cell_type": "code",
      "execution_count": null,
      "metadata": {
        "id": "fjNhejsuJLnu"
      },
      "outputs": [],
      "source": []
    },
    {
      "cell_type": "code",
      "execution_count": null,
      "metadata": {
        "id": "ccM05b0DJOD-"
      },
      "outputs": [],
      "source": []
    },
    {
      "cell_type": "code",
      "execution_count": null,
      "metadata": {
        "id": "t2KJgtXWIFHb"
      },
      "outputs": [],
      "source": []
    },
    {
      "cell_type": "code",
      "execution_count": null,
      "metadata": {
        "id": "WARaXznxIeHF"
      },
      "outputs": [],
      "source": []
    },
    {
      "cell_type": "code",
      "execution_count": null,
      "metadata": {
        "id": "g66AOFiAI0hk"
      },
      "outputs": [],
      "source": []
    },
    {
      "cell_type": "code",
      "execution_count": null,
      "metadata": {
        "id": "uOvf4kmSI0bP"
      },
      "outputs": [],
      "source": []
    },
    {
      "cell_type": "markdown",
      "metadata": {
        "id": "DkRewO5__SAB"
      },
      "source": [
        "### 비트 연산 예시 - lenna 이미지에 OpenCV 로고 넣기\n",
        "\n",
        "\n",
        "- 이미지 (OpenCV logo)\n",
        "  - https://img1.daumcdn.net/thumb/R800x0/?scode=mtistory2&fname=https%3A%2F%2Ft1.daumcdn.net%2Fcfile%2Ftistory%2F2361FF4A586B8FFE1A\n",
        "\n",
        "  <img src=\"https://img1.daumcdn.net/thumb/R800x0/?scode=mtistory2&fname=https%3A%2F%2Ft1.daumcdn.net%2Fcfile%2Ftistory%2F2361FF4A586B8FFE1A\" width=\"300\">"
      ]
    },
    {
      "cell_type": "code",
      "execution_count": null,
      "metadata": {
        "id": "cxMKvyAt0X9N"
      },
      "outputs": [],
      "source": []
    },
    {
      "cell_type": "code",
      "execution_count": null,
      "metadata": {
        "id": "jKBcZYeSwZgu"
      },
      "outputs": [],
      "source": []
    },
    {
      "cell_type": "code",
      "execution_count": null,
      "metadata": {
        "id": "xlyStgKGwZt2"
      },
      "outputs": [],
      "source": []
    },
    {
      "cell_type": "markdown",
      "metadata": {
        "id": "Zin0vDdk0sMc"
      },
      "source": [
        "![](https://upload.wikimedia.org/wikipedia/ko/2/24/Lenna.png)\n",
        "\n",
        "* https://upload.wikimedia.org/wikipedia/ko/2/24/Lenna.png"
      ]
    },
    {
      "cell_type": "code",
      "execution_count": null,
      "metadata": {
        "id": "3DGZQVFH0uJI"
      },
      "outputs": [],
      "source": []
    },
    {
      "cell_type": "markdown",
      "metadata": {
        "id": "uCyv4I4WBFZ2"
      },
      "source": [
        "- 삽입할 이미지의 row, col, channel정보\n",
        "\n",
        "- 대상 이미지에서 삽입할 이미지의 영역을 추출"
      ]
    },
    {
      "cell_type": "code",
      "execution_count": null,
      "metadata": {
        "id": "wNNWqQPT-jl9"
      },
      "outputs": [],
      "source": []
    },
    {
      "cell_type": "code",
      "execution_count": null,
      "metadata": {
        "id": "4buqUGwZDq-2"
      },
      "outputs": [],
      "source": []
    },
    {
      "cell_type": "code",
      "execution_count": null,
      "metadata": {
        "id": "uz8KNiG4-j87"
      },
      "outputs": [],
      "source": []
    },
    {
      "cell_type": "code",
      "execution_count": null,
      "metadata": {
        "id": "i-nQL6ylBI6o"
      },
      "outputs": [],
      "source": []
    },
    {
      "cell_type": "markdown",
      "metadata": {
        "id": "cQmjci6g_KD1"
      },
      "source": [
        "- mask를 만들기 위해서 logo 이미지를 gray scale로 변경후 binary image로 전환\n",
        "\n",
        "- mask는 logo부분이 흰색(255), 바탕은 검은색(0)\n",
        "\n",
        "- mask_inv는 logo부분이 검은색(0), 바탕은 흰색(255)"
      ]
    },
    {
      "cell_type": "code",
      "execution_count": null,
      "metadata": {
        "id": "remaV0S-An1b"
      },
      "outputs": [],
      "source": []
    },
    {
      "cell_type": "code",
      "execution_count": null,
      "metadata": {
        "id": "luyzt2zhwZsV"
      },
      "outputs": [],
      "source": []
    },
    {
      "cell_type": "code",
      "execution_count": null,
      "metadata": {
        "id": "epqgXjqABOow"
      },
      "outputs": [],
      "source": []
    },
    {
      "cell_type": "code",
      "execution_count": null,
      "metadata": {
        "id": "8_irr9glAvwV"
      },
      "outputs": [],
      "source": []
    },
    {
      "cell_type": "code",
      "execution_count": null,
      "metadata": {
        "id": "FzmqTaGrAguj"
      },
      "outputs": [],
      "source": []
    },
    {
      "cell_type": "code",
      "execution_count": null,
      "metadata": {
        "id": "y6UyRxx0wZp3"
      },
      "outputs": [],
      "source": []
    },
    {
      "cell_type": "code",
      "execution_count": null,
      "metadata": {
        "id": "TGBiq8oiwZlx"
      },
      "outputs": [],
      "source": []
    },
    {
      "cell_type": "code",
      "execution_count": null,
      "metadata": {
        "id": "CQPd2mEeDe1F"
      },
      "outputs": [],
      "source": []
    },
    {
      "cell_type": "code",
      "execution_count": null,
      "metadata": {
        "id": "k07TsJoHwZjP"
      },
      "outputs": [],
      "source": []
    },
    {
      "cell_type": "code",
      "execution_count": null,
      "metadata": {
        "id": "QJwhyroCwZbW"
      },
      "outputs": [],
      "source": []
    },
    {
      "cell_type": "markdown",
      "metadata": {
        "id": "dAxnGBJwVA1M"
      },
      "source": [
        "## Image Blending\n",
        "- `cv2.addWeighted()` 사용하여 두 이미지를 bleding 할 수 있음\n",
        "\n",
        "- blending 하려는 두 이미지의 사이즈가 같아야함\n",
        "\n",
        "- [Simple Formula]  \n",
        "  # $\\quad g(x) = (1 - \\alpha) f_0(x) + \\alpha f_1(x)$\n",
        "\n",
        "  <br>\n",
        "\n",
        "  - $\\beta = 1 - \\alpha$\n",
        "\n",
        "  -  $\\alpha, \\beta $ 의 값을 통해 어떤 이미지를 더 강하게 드러내고, 어떤 이미지를 더 약하게 드러낼지 결정\n",
        "\n",
        "  - $\\gamma$ 추가 가능 (optional)\n"
      ]
    },
    {
      "cell_type": "markdown",
      "metadata": {
        "id": "PyOAo2QoZ5y4"
      },
      "source": [
        "- do-not-copy.jpg\n",
        "  \n",
        "  <img src=\"https://mdxenglish.files.wordpress.com/2014/08/do-not-copy.jpg\" width=\"400\">\n",
        "\n",
        "  <sub>[이미지 출처] https://mdxenglish.com/do-not-copy-2/</sub>"
      ]
    },
    {
      "cell_type": "code",
      "execution_count": null,
      "metadata": {
        "id": "2LCJgFD-MXaq"
      },
      "outputs": [],
      "source": []
    },
    {
      "cell_type": "markdown",
      "metadata": {
        "id": "J7Tzn3XfMdcA"
      },
      "source": [
        "- fashion.jpg\n",
        "\n",
        "  <img src=\"https://cdn.pixabay.com/photo/2020/06/20/12/55/fashion-5320934_960_720.jpg\">\n",
        "\n",
        "  <sub>[이미지 출처] https://pixabay.com/illustrations/fashion-moda-girl-shoes-model-5320934/</sub>"
      ]
    },
    {
      "cell_type": "code",
      "execution_count": null,
      "metadata": {
        "id": "ii4rJuUkMYuV"
      },
      "outputs": [],
      "source": []
    },
    {
      "cell_type": "code",
      "execution_count": null,
      "metadata": {
        "id": "_h_f-MrFwZO4"
      },
      "outputs": [],
      "source": []
    },
    {
      "cell_type": "code",
      "execution_count": null,
      "metadata": {
        "id": "3BcNof1lwZMi"
      },
      "outputs": [],
      "source": []
    },
    {
      "cell_type": "code",
      "execution_count": null,
      "metadata": {
        "id": "7uRL4kDYwZKW"
      },
      "outputs": [],
      "source": []
    },
    {
      "cell_type": "code",
      "execution_count": null,
      "metadata": {
        "id": "Lz54TsWjdZHa"
      },
      "outputs": [],
      "source": []
    },
    {
      "cell_type": "code",
      "execution_count": null,
      "metadata": {
        "id": "Mf5gwFtfdZDi"
      },
      "outputs": [],
      "source": []
    },
    {
      "cell_type": "code",
      "execution_count": null,
      "metadata": {
        "id": "-XglC7Q9wZIF"
      },
      "outputs": [],
      "source": []
    },
    {
      "cell_type": "code",
      "execution_count": null,
      "metadata": {
        "id": "zrHuDoVvdtWR"
      },
      "outputs": [],
      "source": []
    },
    {
      "cell_type": "code",
      "execution_count": null,
      "metadata": {
        "id": "joY_o44Ydtcu"
      },
      "outputs": [],
      "source": []
    },
    {
      "cell_type": "code",
      "execution_count": null,
      "metadata": {
        "id": "B90F9mX_dtmr"
      },
      "outputs": [],
      "source": []
    },
    {
      "cell_type": "code",
      "execution_count": null,
      "metadata": {
        "id": "qCQXg_6edtkC"
      },
      "outputs": [],
      "source": []
    }
  ],
  "metadata": {
    "colab": {
      "provenance": []
    },
    "kernelspec": {
      "display_name": "Python 3",
      "name": "python3"
    },
    "language_info": {
      "codemirror_mode": {
        "name": "ipython",
        "version": 3
      },
      "file_extension": ".py",
      "mimetype": "text/x-python",
      "name": "python",
      "nbconvert_exporter": "python",
      "pygments_lexer": "ipython3",
      "version": "3.11.5"
    }
  },
  "nbformat": 4,
  "nbformat_minor": 0
}
