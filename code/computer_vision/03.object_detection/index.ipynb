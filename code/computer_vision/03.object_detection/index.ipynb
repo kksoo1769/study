{
  "cells": [
    {
      "cell_type": "markdown",
      "metadata": {
        "id": "xL799-9jT1W7"
      },
      "source": [
        "- 참조 : https://github.com/wikibook/dl-vision"
      ]
    },
    {
      "cell_type": "markdown",
      "metadata": {
        "id": "aE7-X_QfSm0G"
      },
      "source": [
        "# 객체 탐지 (Object Detection)\n",
        "\n",
        "- 한 이미지에서 객체와 그 경계 상자(bounding box)를 탐지\n",
        "\n",
        "- 객체 탐지 알고리즘은 일반적으로 이미지를 입력으로 받고, 경계 상자와 객체 클래스 리스트를 출력\n",
        "\n",
        "- 경계 상자에 대해 그에 대응하는 예측 클래스와 클래스의 신뢰도(confidence)를 출력\n",
        "\n",
        "## Applications\n",
        "\n",
        "- 자율 주행 자동차에서 다른 자동차와 보행자를 찾을 때\n",
        "\n",
        "- 의료 분야에서 방사선 사진을 사용해 종양이나 위험한 조직을 찾을 때\n",
        "\n",
        "- 제조업에서 조립 로봇이 제품을 조립하거나 수리할 때\n",
        "\n",
        "- 보안 산업에서 위협을 탐지하거나 사람을 셀 때"
      ]
    },
    {
      "cell_type": "markdown",
      "metadata": {
        "id": "4LGNVEwnfNjn"
      },
      "source": [
        "## 용어 설명"
      ]
    },
    {
      "cell_type": "markdown",
      "metadata": {
        "id": "IZnxALKYfP8s"
      },
      "source": [
        "### Boudning Box\n",
        "\n",
        "- 이미지에서 하나의 객체 전체를 포함하는 가장 작은 직사각형\n",
        "\n",
        "  <img src=\"https://miro.medium.com/max/850/1*KL6r494Eyfh3iYEXQA2tzg.png\">\n",
        "\n",
        "  <sub>[이미지 출처] https://medium.com/anolytics/how-bounding-box-annotation-helps-object-detection-in-machine-learning-use-cases-431d93e7b25b</sub>"
      ]
    },
    {
      "cell_type": "markdown",
      "metadata": {
        "id": "nx5ViAXvwcWS"
      },
      "source": [
        "### IOU(Intersection Over Union)\n",
        "- 실측값(Ground Truth)과 모델이 예측한 값이 얼마나 겹치는지를 나타내는 지표\n",
        "\n",
        "  <img src=\"https://pyimagesearch.com/wp-content/uploads/2016/09/iou_equation.png\" width=\"300\">\n",
        "\n",
        "- IOU가 높을수록 잘 예측한 모델\n",
        "\n",
        "  <img src=\"https://pyimagesearch.com/wp-content/uploads/2016/09/iou_examples.png\" width=\"400\">\n",
        "\n",
        "<br>\n",
        "\n",
        "- 예시\n",
        "  <img src=\"https://www.pyimagesearch.com/wp-content/uploads/2016/09/iou_stop_sign.jpg\">\n",
        "\n",
        "  <sub>[이미지 출처] https://www.pyimagesearch.com/2016/11/07/intersection-over-union-iou-for-object-detection/</sub>"
      ]
    },
    {
      "cell_type": "code",
      "execution_count": 1,
      "metadata": {
        "id": "bHVxK0LXqd74"
      },
      "outputs": [],
      "source": [
        "import numpy as np\n",
        "\n",
        "def compute_iou(pred_box, gt_box):\n",
        "    x1 = np.maximum(pred_box[0], gt_box[0])\n",
        "    y1 = np.maximum(pred_box[1], gt_box[1])\n",
        "    x2 = np.maximum(pred_box[2], gt_box[2])\n",
        "    y2 = np.maximum(pred_box[3], gt_box[3])\n",
        "\n",
        "    intersection = np.maximum(x2 - x1, 0) * np.maximum(y2 - y1, 0)\n",
        "\n",
        "    pred_box_area = (pred_box[2] - pred_box[0]) * (pred_box[3] - pred_box[1])\n",
        "    gt_box_area = (gt_box[2] - gt_box[0]) * (gt_box[3] - gt_box[1])\n",
        "\n",
        "    union = pred_box_area + gt_box_area - intersection\n",
        "    \n",
        "    iou = intersection / union\n",
        "    \n",
        "    return iou"
      ]
    },
    {
      "cell_type": "markdown",
      "metadata": {
        "id": "fKL2Ae7SoYDs"
      },
      "source": [
        "### NMS(Non-Maximum Suppression, 비최댓값 억제)\n",
        "\n",
        "- 확률이 가장 높은 상자와 겹치는 상자들을 제거하는 과정\n",
        "\n",
        "- 최댓값을 갖지 않는 상자들을 제거\n",
        "\n",
        "- 과정\n",
        "\n",
        "  1. 확률 기준으로 모든 상자를 정렬하고 먼저 가장 확률이 높은 상자를 취함\n",
        "\n",
        "  2. 각 상자에 대해 다른 모든 상자와의 IOU를 계산\n",
        "\n",
        "  3. 특정 임곗값을 넘는 상자는 제거\n",
        "\n",
        "  <img src=\"https://pyimagesearch.com/wp-content/uploads/2014/10/nms_fast_03.jpg\">\n",
        "\n",
        "  <sub>[이미지 출처] https://www.pyimagesearch.com/2015/02/16/faster-non-maximum-suppression-python/</sub>"
      ]
    },
    {
      "cell_type": "code",
      "execution_count": 2,
      "metadata": {
        "id": "WTh_WYA0tUBz"
      },
      "outputs": [],
      "source": [
        "def non_max_suppression_fast(boxes: np.ndarray, overlap_thresh):\n",
        "    if len(boxes) == 0:\n",
        "        return []\n",
        "    \n",
        "    if boxes.dtype.kind == 'i':\n",
        "        boxes = boxes.astype('float')\n",
        "    \n",
        "    pick = []\n",
        "    x1 = boxes[:, 0]\n",
        "    y1 = boxes[:, 1]\n",
        "    x2 = boxes[:, 2]\n",
        "    y2 = boxes[:, 3]\n",
        "\n",
        "    area = (x2 - x1 + 1) * (y2 - y1 + 1)\n",
        "    idxs = np.argsort(y2)\n",
        "\n",
        "    while len(idxs) > 0:\n",
        "        last = len(idxs) - 1\n",
        "        i = idxs[last]\n",
        "        pick.append(i)\n",
        "        \n",
        "        xx1 = np.maximum(x1[i], x1[idxs[:last]])\n",
        "        yy1 = np.maximum(y1[i], y1[idxs[:last]])\n",
        "        xx2 = np.maximum(x2[i], x2[idxs[:last]])\n",
        "        yy2 = np.maximum(y2[i], y2[idxs[:last]])\n",
        "\n",
        "        w = np.maximum(0, xx2 - xx1 + 1)\n",
        "        h = np.maximum(0, yy2 - yy1 + 1)\n",
        "\n",
        "        overlap = (w * h) / area[idxs[:last]]\n",
        "\n",
        "        idxs = np.delete(idxs, np.concatenate([last], np.where(overlap > overlap_thresh)[0]))\n",
        "    \n",
        "    return boxes[pick].astype('int')"
      ]
    },
    {
      "cell_type": "markdown",
      "metadata": {
        "id": "WSLe74EnU6zQ"
      },
      "source": [
        "## 모델 성능 평가"
      ]
    },
    {
      "cell_type": "markdown",
      "metadata": {
        "id": "5zMP3ecSU1pa"
      },
      "source": [
        "### 정밀도와 재현율\n",
        "\n",
        "- 일반적으로 객체 탐지 모델 평가에 사용되지는 않지만, 다른 지표를 계산하는 기본 지표 역할을 함\n",
        "\n",
        "  - `TP`\n",
        "\n",
        "    - True Positives\n",
        "\n",
        "    - 예측이 동일 클래스의 실제 상자와 일치하는지 측정\n",
        "\n",
        "  - `FP`\n",
        "\n",
        "    - False Positives\n",
        "\n",
        "    - 예측이 실제 상자와 일치하지 않는지 측정\n",
        "\n",
        "  - `FN`\n",
        "\n",
        "    - False Negatives\n",
        "\n",
        "    - 실제 분류값이 그와 일치하는 예측을 갖지 못하는지 측정\n",
        "\n",
        "<br>\n",
        "\n",
        "## $\\qquad precision = \\frac{TP}{TP \\ + \\ FP}$\n",
        "## $\\qquad recall = \\frac{TP}{TP \\ + \\ FN}$\n",
        "\n",
        "  - 모델이 안정적이지 않은 특징을 기반으로 객체 존재를 예측하면 거짓긍정(FP)이 많아져서 정밀도가 낮아짐\n",
        "\n",
        "  - 모델이 너무 엄격해서 정확한 조건을 만족할 때만 객체가 탐지된 것으로 간주하면 거짓부정(FN)이 많아져서 재현율이 낮아짐\n",
        "\n"
      ]
    },
    {
      "cell_type": "markdown",
      "metadata": {
        "id": "kTDOrbKYkSyh"
      },
      "source": [
        "### 정밀도-재현율 곡선(precision-recall curve)\n",
        "\n",
        "- 신뢰도 임곗값마다 모델의 정밀도와 재현율을 시각화\n",
        "\n",
        "- 모든 bounding box와 함께 모델이 예측의 정확성을 얼마나 확실하는지 0 ~ 1사이의 숫자로 나타내는 신뢰도를 출력\n",
        "\n",
        "- 임계값 T에 따라 정밀도와 재현율이 달라짐\n",
        "\n",
        "  - 임곗값 T 이하의 예측은 제거함\n",
        "\n",
        "  - T가 1에 가까우면 정밀도는 높지만 재현율은 낮음  \n",
        "    놓치는 객체가 많아져서 재현율이 낮아짐. 즉, 신뢰도가 높은 예측만 유지하기때문에 정밀도는 높아짐\n",
        "\n",
        "  - T가 0에 가까우면 정밀도는 낮지만 재현율은 높음  \n",
        "    대부분의 예측을 유지하기때문에 재현율은 높아지고, 거짓긍정(FP)이 많아져서 정밀도가 낮아짐\n",
        "\n",
        "- 예를 들어, 모델이 보행자를 탐지하고 있으면 특별한 이유없이 차를 세우더라도 어떤 보행자도 놓치지 않도록 재현율을 높여야 함\n",
        "-  모델이 투자 기회를 탐지하고 있다면 일부 기회를 놓치게 되더라도 잘못된 기회에 돈을 거는 일을 피하기 위해 정밀도를 높여야 함\n",
        "\n",
        "<img src=\"https://www.researchgate.net/profile/Davide_Chicco/publication/321672019/figure/fig1/AS:614279602511886@1523467078452/a-Example-of-Precision-Recall-curve-with-the-precision-score-on-the-y-axis-and-the.png\">\n",
        "\n",
        "<sub>[이미지 출처] https://www.researchgate.net/figure/a-Example-of-Precision-Recall-curve-with-the-precision-score-on-the-y-axis-and-the_fig1_321672019</sub>"
      ]
    },
    {
      "cell_type": "markdown",
      "metadata": {
        "id": "9TNopqHBmh2T"
      },
      "source": [
        "### AP (Average Precision, 평균 정밀도) 와 mAP(mean Average Precision)\n",
        "\n",
        "- 곡선의 아래 영역에 해당\n",
        "\n",
        "- 항상 1x1 정사각형으로 구성되어 있음  \n",
        "  즉, 항상 0 ~ 1 사이의 값을 가짐\n",
        "\n",
        "- 단일 클래스에 대한 모델 성능 정보를 제공\n",
        "\n",
        "- 전역 점수를 얻기위해서 mAP를 사용\n",
        "\n",
        "- 예를 들어, 데이터셋이 10개의 클래스로 구성된다면 각 클래스에 대한 AP를 계산하고, 그 숫자들의 평균을 다시 구함\n",
        "\n",
        "- (참고)\n",
        "\n",
        "  - 최소 2개 이상의 객체를 탐지하는 대회인 PASCAL Visual Object Classes와 Common Objects in Context(COCO)에서 mAP가 사용됨\n",
        "\n",
        "  - COCO 데이터셋이 더 많은 클래스를 포함하고 있기 때문에 보통 Pascal VOC보다 점수가 더 낮게 나옴\n",
        "\n",
        "  - 예시\n",
        "\n",
        "    <img src=\"https://www.researchgate.net/profile/Bong_Nam_Kang/publication/328939155/figure/tbl2/AS:692891936649218@1542209719916/Evaluation-on-PASCAL-VOC-2007-and-MS-COCO-test-dev.png\">\n",
        "\n",
        "    <sub>[이미지 출처] https://www.researchgate.net/figure/Evaluation-on-PASCAL-VOC-2007-and-MS-COCO-test-dev_tbl2_328939155</sub>"
      ]
    },
    {
      "cell_type": "markdown",
      "metadata": {
        "id": "KN1jyyGEkTvx"
      },
      "source": [
        "## Dataset"
      ]
    },
    {
      "cell_type": "markdown",
      "metadata": {
        "id": "Eprofi5rbUuA"
      },
      "source": [
        "### VOC\n",
        "\n",
        "- 2005년부터 2012년까지 진행\n",
        "\n",
        "- Object Detection 기술의 benchmark로 간주\n",
        "\n",
        "- 데이터셋에는 20개의 클래스가 존재\n",
        "\n",
        "      background\n",
        "      aeroplane\n",
        "      bicycle\n",
        "      bird\n",
        "      boat\n",
        "      bottle\n",
        "      bus\n",
        "      car\n",
        "      cat\n",
        "      chair\n",
        "      cow\n",
        "      diningtable\n",
        "      dog\n",
        "      horse\n",
        "      motorbike\n",
        "      person\n",
        "      pottedplant\n",
        "      sheep\n",
        "      sofa\n",
        "      train\n",
        "      tvmonitor\n",
        "\n",
        "- 훈련 및 검증 데이터 : 11,530개\n",
        "\n",
        "- ROI에 대한 27,450개의 Annotation이 존재\n",
        "\n",
        "- 이미지당 2.4개의 객체 존재\n",
        "\n",
        "  <img src=\"https://paperswithcode.github.io/sotabench-eval/img/pascalvoc2012.png\">\n",
        "\n",
        "  <sub>[이미지 출처] https://paperswithcode.github.io/sotabench-eval/pascalvoc/</sub>"
      ]
    },
    {
      "cell_type": "markdown",
      "metadata": {
        "id": "zL1IEr71bWE_"
      },
      "source": [
        "### COCO Dataset\n",
        "\n",
        "- Common Objects in Context\n",
        "\n",
        "- 200,000개의 이미지\n",
        "\n",
        "- 80개의 카테고리에 500,000개 이상의 객체 Annotation이 존재\n",
        "      person\n",
        "      bicycle\n",
        "      car\n",
        "      motorbike\n",
        "      aeroplane\n",
        "      bus\n",
        "      train\n",
        "      truck\n",
        "      boat\n",
        "      traffic light\n",
        "      fire hydrant\n",
        "      stop sign\n",
        "      parking meter\n",
        "      bench\n",
        "      bird\n",
        "      cat\n",
        "      dog\n",
        "      horse\n",
        "      sheep\n",
        "      cow\n",
        "      elephant\n",
        "      bear\n",
        "      zebra\n",
        "      giraffe\n",
        "      backpack\n",
        "      umbrella\n",
        "      handbag\n",
        "      tie\n",
        "      suitcase\n",
        "      frisbee\n",
        "      skis\n",
        "      snowboard\n",
        "      sports ball\n",
        "      kite\n",
        "      baseball bat\n",
        "      baseball glove\n",
        "      skateboard\n",
        "      surfboard\n",
        "      tennis racket\n",
        "      bottle\n",
        "      wine glass\n",
        "      cup\n",
        "      fork\n",
        "      knife\n",
        "      spoon\n",
        "      bowl\n",
        "      banana\n",
        "      apple\n",
        "      sandwich\n",
        "      orange\n",
        "      broccoli\n",
        "      carrot\n",
        "      hot dog\n",
        "      pizza\n",
        "      donut\n",
        "      cake\n",
        "      chair\n",
        "      sofa\n",
        "      pottedplant\n",
        "      bed\n",
        "      diningtable\n",
        "      toilet\n",
        "      tvmonitor\n",
        "      laptop\n",
        "      mouse\n",
        "      remote\n",
        "      keyboard\n",
        "      cell phone\n",
        "      microwave\n",
        "      oven\n",
        "      toaster\n",
        "      sink\n",
        "      refrigerator\n",
        "      book\n",
        "      clock\n",
        "      vase\n",
        "      scissors\n",
        "      teddy bear\n",
        "      hair drier\n",
        "      toothbrush\n",
        "- https://cocodataset.org/#home\n",
        "\n",
        "<img src=\"https://cocodataset.org/images/coco-examples.jpg\">\n",
        "\n"
      ]
    },
    {
      "cell_type": "markdown",
      "metadata": {
        "id": "EMmlbrpjeD6e"
      },
      "source": [
        "# YOLO (You Only Look Once)\n",
        "\n",
        "- 가장 빠른 객체 검출 알고리즘 중 하나\n",
        "\n",
        "- 256x256 사이즈의 이미지\n",
        "\n",
        "- GPU 사용 시, 초당 170프레임(170**FPS**, **frames per second**),  \n",
        "  이는 파이썬, 텐서플로 기반 프레임워크가 아닌 C++로 구현된 코드 기준\n",
        "\n",
        "- 작은 크기의 물체를 탐지하는데는 어려움\n",
        "\n",
        "<img src=\"https://miro.medium.com/max/1400/1*bSLNlG7crv-p-m4LVYYk3Q.png\" width=\"600\">\n",
        "\n",
        "\n",
        "- https://pjreddie.com/darknet/yolo/\n",
        "\n",
        "- 자세한 내용 참조 : https://www.kaggle.com/aruchomu/yolo-v3-object-detection-in-tensorflow"
      ]
    },
    {
      "cell_type": "markdown",
      "metadata": {
        "id": "txORxnfIAegL"
      },
      "source": [
        "## YOLO Backbone\n",
        "\n",
        "- 백본 모델(backbone model) 기반\n",
        "\n",
        "- 특징 추출기(Feature Extractor)라고도 불림\n",
        "\n",
        "- YOLO는 자체 맞춤 아키텍쳐 사용\n",
        "\n",
        "- 어떤 특징 추출기 아키텍쳐를 사용했는지에 따라 성능 달라짐\n",
        "\n",
        "  <img src=\"https://www.researchgate.net/publication/335865923/figure/fig1/AS:804106595758082@1568725360777/Structure-detail-of-YOLOv3It-uses-Darknet-53-as-the-backbone-network-and-uses-three.jpg\">\n",
        "\n",
        "  <sub>[이미지 출처] https://www.researchgate.net/figure/Structure-detail-of-YOLOv3It-uses-Darknet-53-as-the-backbone-network-and-uses-three_fig1_335865923</sub>\n",
        "\n",
        "- 마지막 계층은 크기가 $w \\times h \\times D$인 특징 볼륨 출력\n",
        "\n",
        "- $w \\times h $는 그리드의 크기이고, $D$는 특징 볼륨 깊이\n",
        "\n"
      ]
    },
    {
      "cell_type": "markdown",
      "metadata": {
        "id": "7qWbjby_DwuF"
      },
      "source": [
        "## YOLO의 계층 출력\n",
        "\n",
        "- 마지막 계층 출력은 $w \\times h \\times M$ 행렬\n",
        "  \n",
        "  - $M = B \\times (C + 5)$\n",
        "\n",
        "    - B : 그리드 셀당 경계 상자 개수\n",
        "\n",
        "    - C : 클래스 개수\n",
        "\n",
        "  - 클래스 개수에 5를 더한 이유는 해당 값 만큼의 숫자를 예측해야함\n",
        "\n",
        "    - $t_x$, $t_y$는 경계상자의 중심 좌표를 계산\n",
        "\n",
        "    - $t_w$, $t_h$는 경계상자의 너비와 높이를 계산\n",
        "\n",
        "    - $c$는 객체가 경계 상자 안에 있다고 확신하는 신뢰도\n",
        "\n",
        "    - $p1, p2, ..., pC$는 경계상자가 클래스 1, 2, ..., C의 객체를 포함할 확률\n",
        "  \n",
        "  <br>\n",
        "\n",
        "  <img src=\"https://www.researchgate.net/profile/Thi_Le3/publication/337705605/figure/fig3/AS:831927326089217@1575358339500/Structure-of-one-output-cell-in-YOLO.ppm\">\n",
        "\n",
        "  <sub>[이미지 출처] https://www.researchgate.net/figure/Structure-of-one-output-cell-in-YOLO_fig3_337705605</sub>"
      ]
    },
    {
      "cell_type": "markdown",
      "metadata": {
        "id": "AarR-8M1kkAc"
      },
      "source": [
        "## 앵커 박스(Anchor Box)\n",
        "\n",
        "- YOLOv2에서 도입\n",
        "\n",
        "- 사전 정의된 상자(prior box)\n",
        "\n",
        "- 객체에 가장 근접한 앵커 박스를 맞추고 신경망을 사용해 앵커 박스의 크기를 조정하는 과정때문에 $t_x, t_y, t_w, t_h$이 필요\n",
        "\n",
        "  <img src=\"https://kr.mathworks.com/help/vision/ug/ssd_detection.png\">\n",
        "\n",
        "  <sub>[이미지 출처] https://kr.mathworks.com/help/vision/ug/getting-started-with-yolo-v2.html</sub>"
      ]
    },
    {
      "cell_type": "markdown",
      "metadata": {
        "id": "oLr782wcsFVT"
      },
      "source": [
        "# YOLOv3 inference 연습 : Pytorch\n",
        "\n",
        "- video inference\n",
        "- 코드 참조 : https://towardsdatascience.com/yolov3-pytorch-on-google-colab-c4a79eeecdea\n",
        "- https://github.com/ultralytics/yolov3"
      ]
    },
    {
      "cell_type": "markdown",
      "metadata": {
        "id": "yK71PKqk4aTH"
      },
      "source": [
        "## Prepare YOLOv3-pytorch"
      ]
    },
    {
      "cell_type": "code",
      "execution_count": 7,
      "metadata": {
        "id": "HrC5-LmG3F6E"
      },
      "outputs": [],
      "source": [
        "import torch"
      ]
    },
    {
      "cell_type": "code",
      "execution_count": 8,
      "metadata": {
        "id": "tgl_VY_Tq97I"
      },
      "outputs": [
        {
          "name": "stderr",
          "output_type": "stream",
          "text": [
            "c:\\Users\\kksoo\\anaconda3\\envs\\torch\\Lib\\site-packages\\torch\\hub.py:294: UserWarning: You are about to download and run code from an untrusted repository. In a future release, this won't be allowed. To add the repository to your trusted list, change the command to {calling_fn}(..., trust_repo=False) and a command prompt will appear asking for an explicit confirmation of trust, or load(..., trust_repo=True), which will assume that the prompt is to be answered with 'yes'. You can also use load(..., trust_repo='check') which will only prompt for confirmation if the repo is not already trusted. This will eventually be the default behaviour\n",
            "  warnings.warn(\n",
            "Downloading: \"https://github.com/ultralytics/yolov3/zipball/master\" to C:\\Users\\kksoo/.cache\\torch\\hub\\master.zip\n"
          ]
        },
        {
          "ename": "RuntimeError",
          "evalue": "Cannot find callable yolov3 in hubconf",
          "output_type": "error",
          "traceback": [
            "\u001b[1;31m---------------------------------------------------------------------------\u001b[0m",
            "\u001b[1;31mRuntimeError\u001b[0m                              Traceback (most recent call last)",
            "Cell \u001b[1;32mIn[8], line 1\u001b[0m\n\u001b[1;32m----> 1\u001b[0m model \u001b[38;5;241m=\u001b[39m torch\u001b[38;5;241m.\u001b[39mhub\u001b[38;5;241m.\u001b[39mload(\u001b[38;5;124m'\u001b[39m\u001b[38;5;124multralytics/yolov3\u001b[39m\u001b[38;5;124m'\u001b[39m, \u001b[38;5;124m'\u001b[39m\u001b[38;5;124myolov3\u001b[39m\u001b[38;5;124m'\u001b[39m)\n\u001b[0;32m      3\u001b[0m model\u001b[38;5;241m.\u001b[39meval()\n",
            "File \u001b[1;32mc:\\Users\\kksoo\\anaconda3\\envs\\torch\\Lib\\site-packages\\torch\\hub.py:566\u001b[0m, in \u001b[0;36mload\u001b[1;34m(repo_or_dir, model, source, trust_repo, force_reload, verbose, skip_validation, *args, **kwargs)\u001b[0m\n\u001b[0;32m    562\u001b[0m \u001b[38;5;28;01mif\u001b[39;00m source \u001b[38;5;241m==\u001b[39m \u001b[38;5;124m'\u001b[39m\u001b[38;5;124mgithub\u001b[39m\u001b[38;5;124m'\u001b[39m:\n\u001b[0;32m    563\u001b[0m     repo_or_dir \u001b[38;5;241m=\u001b[39m _get_cache_or_reload(repo_or_dir, force_reload, trust_repo, \u001b[38;5;124m\"\u001b[39m\u001b[38;5;124mload\u001b[39m\u001b[38;5;124m\"\u001b[39m,\n\u001b[0;32m    564\u001b[0m                                        verbose\u001b[38;5;241m=\u001b[39mverbose, skip_validation\u001b[38;5;241m=\u001b[39mskip_validation)\n\u001b[1;32m--> 566\u001b[0m model \u001b[38;5;241m=\u001b[39m _load_local(repo_or_dir, model, \u001b[38;5;241m*\u001b[39margs, \u001b[38;5;241m*\u001b[39m\u001b[38;5;241m*\u001b[39mkwargs)\n\u001b[0;32m    567\u001b[0m \u001b[38;5;28;01mreturn\u001b[39;00m model\n",
            "File \u001b[1;32mc:\\Users\\kksoo\\anaconda3\\envs\\torch\\Lib\\site-packages\\torch\\hub.py:594\u001b[0m, in \u001b[0;36m_load_local\u001b[1;34m(hubconf_dir, model, *args, **kwargs)\u001b[0m\n\u001b[0;32m    591\u001b[0m     hubconf_path \u001b[38;5;241m=\u001b[39m os\u001b[38;5;241m.\u001b[39mpath\u001b[38;5;241m.\u001b[39mjoin(hubconf_dir, MODULE_HUBCONF)\n\u001b[0;32m    592\u001b[0m     hub_module \u001b[38;5;241m=\u001b[39m _import_module(MODULE_HUBCONF, hubconf_path)\n\u001b[1;32m--> 594\u001b[0m     entry \u001b[38;5;241m=\u001b[39m _load_entry_from_hubconf(hub_module, model)\n\u001b[0;32m    595\u001b[0m     model \u001b[38;5;241m=\u001b[39m entry(\u001b[38;5;241m*\u001b[39margs, \u001b[38;5;241m*\u001b[39m\u001b[38;5;241m*\u001b[39mkwargs)\n\u001b[0;32m    597\u001b[0m \u001b[38;5;28;01mreturn\u001b[39;00m model\n",
            "File \u001b[1;32mc:\\Users\\kksoo\\anaconda3\\envs\\torch\\Lib\\site-packages\\torch\\hub.py:348\u001b[0m, in \u001b[0;36m_load_entry_from_hubconf\u001b[1;34m(m, model)\u001b[0m\n\u001b[0;32m    345\u001b[0m func \u001b[38;5;241m=\u001b[39m _load_attr_from_module(m, model)\n\u001b[0;32m    347\u001b[0m \u001b[38;5;28;01mif\u001b[39;00m func \u001b[38;5;129;01mis\u001b[39;00m \u001b[38;5;28;01mNone\u001b[39;00m \u001b[38;5;129;01mor\u001b[39;00m \u001b[38;5;129;01mnot\u001b[39;00m \u001b[38;5;28mcallable\u001b[39m(func):\n\u001b[1;32m--> 348\u001b[0m     \u001b[38;5;28;01mraise\u001b[39;00m \u001b[38;5;167;01mRuntimeError\u001b[39;00m(\u001b[38;5;124mf\u001b[39m\u001b[38;5;124m'\u001b[39m\u001b[38;5;124mCannot find callable \u001b[39m\u001b[38;5;132;01m{\u001b[39;00mmodel\u001b[38;5;132;01m}\u001b[39;00m\u001b[38;5;124m in hubconf\u001b[39m\u001b[38;5;124m'\u001b[39m)\n\u001b[0;32m    350\u001b[0m \u001b[38;5;28;01mreturn\u001b[39;00m func\n",
            "\u001b[1;31mRuntimeError\u001b[0m: Cannot find callable yolov3 in hubconf"
          ]
        }
      ],
      "source": [
        "model = torch.hub.load('ultralytics/yolov3', 'yolov3')\n",
        "\n",
        "model.eval()"
      ]
    },
    {
      "cell_type": "code",
      "execution_count": 3,
      "metadata": {
        "id": "R897GokLq95E"
      },
      "outputs": [
        {
          "ename": "AttributeError",
          "evalue": "module 'torch_utils' has no attribute 'select_device'",
          "output_type": "error",
          "traceback": [
            "\u001b[1;31m---------------------------------------------------------------------------\u001b[0m",
            "\u001b[1;31mAttributeError\u001b[0m                            Traceback (most recent call last)",
            "Cell \u001b[1;32mIn[3], line 1\u001b[0m\n\u001b[1;32m----> 1\u001b[0m device \u001b[38;5;241m=\u001b[39m torch_utils\u001b[38;5;241m.\u001b[39mselect_device(device\u001b[38;5;241m=\u001b[39m\u001b[38;5;124m'\u001b[39m\u001b[38;5;124mcpu\u001b[39m\u001b[38;5;124m'\u001b[39m \u001b[38;5;28;01mif\u001b[39;00m ONNX_EXPORT \u001b[38;5;28;01melse\u001b[39;00m opt\u001b[38;5;241m.\u001b[39mdevice)\n",
            "\u001b[1;31mAttributeError\u001b[0m: module 'torch_utils' has no attribute 'select_device'"
          ]
        }
      ],
      "source": []
    },
    {
      "cell_type": "code",
      "execution_count": null,
      "metadata": {
        "id": "1NfJM0tw3TFa"
      },
      "outputs": [],
      "source": []
    },
    {
      "cell_type": "code",
      "execution_count": null,
      "metadata": {
        "id": "Mrlt91dYq915"
      },
      "outputs": [],
      "source": []
    },
    {
      "cell_type": "code",
      "execution_count": null,
      "metadata": {
        "id": "T0lpUVOdq9zn"
      },
      "outputs": [],
      "source": []
    },
    {
      "cell_type": "code",
      "execution_count": null,
      "metadata": {
        "id": "fbUVelkiszUD"
      },
      "outputs": [],
      "source": []
    },
    {
      "cell_type": "code",
      "execution_count": null,
      "metadata": {
        "id": "wwhHYatUq9xx"
      },
      "outputs": [],
      "source": []
    },
    {
      "cell_type": "markdown",
      "metadata": {
        "id": "PlEcyGxh3iOI"
      },
      "source": [
        "## Git clone to get short videos\n",
        "\n",
        "- https://github.com/vindruid/yolov3-in-colab.git"
      ]
    },
    {
      "cell_type": "code",
      "execution_count": null,
      "metadata": {
        "id": "WoslGlSkq9vo"
      },
      "outputs": [],
      "source": []
    },
    {
      "cell_type": "markdown",
      "metadata": {
        "id": "pRqM_huM3pIS"
      },
      "source": [
        "## Process Video"
      ]
    },
    {
      "cell_type": "code",
      "execution_count": 9,
      "metadata": {
        "id": "WNVhPZ0Jq9s5"
      },
      "outputs": [
        {
          "data": {
            "text/plain": [
              "(0.006046617599999997, 1.0000000000000006e-10)"
            ]
          },
          "execution_count": 9,
          "metadata": {},
          "output_type": "execute_result"
        }
      ],
      "source": []
    },
    {
      "cell_type": "code",
      "execution_count": null,
      "metadata": {
        "id": "LC2axiin3nja"
      },
      "outputs": [],
      "source": []
    },
    {
      "cell_type": "code",
      "execution_count": null,
      "metadata": {
        "id": "IUldkiZA3wQt"
      },
      "outputs": [],
      "source": []
    },
    {
      "cell_type": "code",
      "execution_count": null,
      "metadata": {
        "id": "EflrkImk3rqF"
      },
      "outputs": [],
      "source": []
    },
    {
      "cell_type": "code",
      "execution_count": null,
      "metadata": {
        "id": "gd4cy_Gd30gu"
      },
      "outputs": [],
      "source": []
    },
    {
      "cell_type": "markdown",
      "metadata": {
        "id": "39Nk92gJ5a4J"
      },
      "source": [
        "- Custom Data Train 참고\n",
        "\n",
        "  - https://github.com/AntonMu/TrainYourOwnYOLO"
      ]
    }
  ],
  "metadata": {
    "accelerator": "GPU",
    "colab": {
      "machine_shape": "hm",
      "provenance": []
    },
    "kernelspec": {
      "display_name": "Python 3",
      "name": "python3"
    },
    "language_info": {
      "codemirror_mode": {
        "name": "ipython",
        "version": 3
      },
      "file_extension": ".py",
      "mimetype": "text/x-python",
      "name": "python",
      "nbconvert_exporter": "python",
      "pygments_lexer": "ipython3",
      "version": "3.11.7"
    }
  },
  "nbformat": 4,
  "nbformat_minor": 0
}
