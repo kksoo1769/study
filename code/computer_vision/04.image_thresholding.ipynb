{
  "nbformat": 4,
  "nbformat_minor": 0,
  "metadata": {
    "colab": {
      "provenance": []
    },
    "kernelspec": {
      "name": "python3",
      "display_name": "Python 3"
    }
  },
  "cells": [
    {
      "cell_type": "markdown",
      "metadata": {
        "id": "SGOKCoDR2jGj"
      },
      "source": [
        "- 코드 출처 : https://opencv-python.readthedocs.io/en/latest/index.html"
      ]
    },
    {
      "cell_type": "code",
      "metadata": {
        "id": "wbJ2qFtk5N4Z"
      },
      "source": [],
      "execution_count": null,
      "outputs": []
    },
    {
      "cell_type": "markdown",
      "metadata": {
        "id": "QpZqlfcJn-aq"
      },
      "source": [
        "# 이미지 이진화 (Image Thesholding)\n"
      ]
    },
    {
      "cell_type": "markdown",
      "metadata": {
        "id": "hl0auNkavXWQ"
      },
      "source": [
        "## 기본 임계 처리\n",
        "- 이진화 : 영상을 흑/백으로 분류하여 처리하는 것\n",
        "\n",
        "  - 기준이 되는 임계값을 어떻게 결정할 것인지가 중요한 문제!\n",
        "  \n",
        "  - 임계값보다 크면 백, 작으면 흑이 되는데,  \n",
        "    기본 임계처리는 사용자가 고정된 임계값을 결정하고 그 결과를 보여주는 단순한 형태\n",
        "\n",
        "- 기본적으로 이미지의 segmenting의 가장 간단한 방법\n",
        "\n",
        "- `cv2.threshold()`\n",
        "\n",
        "  - Parameters  \n",
        "    - `src` : input image로 single-channel 이미지.(grayscale 이미지)\n",
        "    \n",
        "    - `thresh` : 임계값\n",
        "\n",
        "    - `maxval` : 임계값을 넘었을 때 적용할 value\n",
        "\n",
        "    - `type` : thresholding type\n",
        "\n",
        "  <br>\n",
        "\n",
        "  - thresholding type\n",
        "    - `cv2.THRESH_BINARY`  \n",
        "      - src(x, y) > thresh 일 때, maxval\n",
        "\n",
        "      - 그 외, 0\n",
        "\n",
        "    - `cv2.THRESH_BINARY_INV`\n",
        "      - src(x, y) > thresh 일 때, 0\n",
        "\n",
        "      - 그 외, maxval\n",
        "\n",
        "    - `cv2.THRESH_TRUNC`\n",
        "      - src(x, y) > thresh 일 때, thresh\n",
        "\n",
        "      - 그 외, src(x, y)\n",
        "\n",
        "    - `cv2.THRESH_TOZERO`\n",
        "      - src(x, y) > thresh 일 때, src(x, y)\n",
        "\n",
        "      - 그 외, 0\n",
        "\n",
        "    - `cv2.THRESH_TOZERO_INV`\n",
        "      - src(x, y) > thresh 일 때, 0\n",
        "\n",
        "      - 그 외, src(x, y)"
      ]
    },
    {
      "cell_type": "markdown",
      "metadata": {
        "id": "rlz4D9nisSuD"
      },
      "source": [
        "* letters.jpg\n",
        "\n",
        "  <img src=\"https://cdn.pixabay.com/photo/2018/09/26/09/07/letters-3704026_960_720.jpg\">\n",
        "\n",
        "  <sub>[이미지 출처] https://pixabay.com/illustrations/letters-school-learn-alphabet-abc-3704026/</sub>"
      ]
    },
    {
      "cell_type": "code",
      "metadata": {
        "id": "snRu_DSQuQ-B"
      },
      "source": [],
      "execution_count": null,
      "outputs": []
    },
    {
      "cell_type": "code",
      "metadata": {
        "id": "cxJQoitToBw6"
      },
      "source": [],
      "execution_count": null,
      "outputs": []
    },
    {
      "cell_type": "code",
      "metadata": {
        "id": "Yo20LgIWoBsR"
      },
      "source": [],
      "execution_count": null,
      "outputs": []
    },
    {
      "cell_type": "code",
      "metadata": {
        "id": "N31VbQPuoBqC"
      },
      "source": [],
      "execution_count": null,
      "outputs": []
    },
    {
      "cell_type": "code",
      "metadata": {
        "id": "tWh4hbQAoBmw"
      },
      "source": [],
      "execution_count": null,
      "outputs": []
    },
    {
      "cell_type": "code",
      "metadata": {
        "id": "KmPH8O7WoBkf"
      },
      "source": [],
      "execution_count": null,
      "outputs": []
    },
    {
      "cell_type": "code",
      "metadata": {
        "id": "RArGATkcoBiZ"
      },
      "source": [],
      "execution_count": null,
      "outputs": []
    },
    {
      "cell_type": "markdown",
      "metadata": {
        "id": "72flwvaat5L_"
      },
      "source": [
        "- 이미지\n",
        "  - snow.jpg\n",
        "\n",
        "  <img src=\"https://cdn.pixabay.com/photo/2014/12/02/22/05/snowflake-554635_960_720.jpg\">\n",
        "\n",
        "  <sub>[이미지 출처] https://pixabay.com/illustrations/snowflake-snow-snowing-winter-cold-554635/</sub>"
      ]
    },
    {
      "cell_type": "code",
      "metadata": {
        "id": "UsFuZuKkurNX"
      },
      "source": [],
      "execution_count": null,
      "outputs": []
    },
    {
      "cell_type": "code",
      "metadata": {
        "id": "22NnO4kzoBgS"
      },
      "source": [],
      "execution_count": null,
      "outputs": []
    },
    {
      "cell_type": "code",
      "metadata": {
        "id": "IWaXJmfzoBeD"
      },
      "source": [],
      "execution_count": null,
      "outputs": []
    },
    {
      "cell_type": "code",
      "metadata": {
        "id": "yCDCXEW4oBb2"
      },
      "source": [],
      "execution_count": null,
      "outputs": []
    },
    {
      "cell_type": "markdown",
      "metadata": {
        "id": "sgif82Yvq7li"
      },
      "source": [
        "- 시각화"
      ]
    },
    {
      "cell_type": "code",
      "metadata": {
        "id": "GtaUAtk7oBZm"
      },
      "source": [],
      "execution_count": null,
      "outputs": []
    },
    {
      "cell_type": "code",
      "metadata": {
        "id": "h9aFTeINoBXe"
      },
      "source": [],
      "execution_count": null,
      "outputs": []
    },
    {
      "cell_type": "markdown",
      "metadata": {
        "id": "a2TDP4uwuo4N"
      },
      "source": [
        "## 적응 임계처리\n",
        "\n",
        "- 이전 단계에서는 임계값을 이미지 전체에 적용하여 처리하기 때문에  \n",
        "  하나의 이미지에 음영이 다르면 일부 영역이 모두 흰색 또는 검정색으로 보여지게 됨\n",
        "\n",
        "- 이런 문제를 해결하기 위해서 이미지의 작은 영역별로 thresholding\n",
        "\n",
        "- `cv2.adaptiveThreshold()`\n",
        "\n",
        "  - Parameters  \n",
        "    - `src` : grayscale image\n",
        "\n",
        "    - `maxValue` : 임계값\n",
        "\n",
        "    - `adaptiveMethod` : thresholding value를 결정하는 계산 방법\n",
        "\n",
        "    - `thresholdType` : threshold type\n",
        "\n",
        "    - `blockSize` : thresholding을 적용할 영역 사이즈\n",
        "\n",
        "    - `C` : 평균이나 가중평균에서 차감할 값\n",
        "\n",
        "  <br>\n",
        "  \n",
        "  - Adaptive Method\n",
        "    - `cv2.ADAPTIVE_THRESH_MEAN_C` : 주변영역의 평균값으로 결정\n",
        "\n",
        "    - `cv2.ADAPTIVE_THRESH_GAUSSIAN_C` : 주변영역의 가우시안 값으로 결정\n"
      ]
    },
    {
      "cell_type": "code",
      "metadata": {
        "id": "Rwbz_97lv-cQ"
      },
      "source": [],
      "execution_count": null,
      "outputs": []
    },
    {
      "cell_type": "code",
      "metadata": {
        "id": "V5uTaj9Mv-ib"
      },
      "source": [],
      "execution_count": null,
      "outputs": []
    },
    {
      "cell_type": "code",
      "metadata": {
        "id": "JuaP-yJ8wElg"
      },
      "source": [],
      "execution_count": null,
      "outputs": []
    },
    {
      "cell_type": "markdown",
      "metadata": {
        "id": "2WQn6Ilpq4LQ"
      },
      "source": [
        "- 시각화"
      ]
    },
    {
      "cell_type": "code",
      "metadata": {
        "id": "udSMsV59wLgZ"
      },
      "source": [],
      "execution_count": null,
      "outputs": []
    },
    {
      "cell_type": "code",
      "metadata": {
        "id": "u1GaLKE-oBVJ"
      },
      "source": [],
      "execution_count": null,
      "outputs": []
    },
    {
      "cell_type": "markdown",
      "metadata": {
        "id": "2bju-YXUwphu"
      },
      "source": [
        "## Otsu의 이진화\n",
        "- `Otsu의 이진화`(Otsu’s Binarization)란 bimodal image에서 임계값을 자동으로 계산하는 것\n",
        "\n",
        "- 임계값을 결정하는 가장 일반적인 방법은 trial and error 방식\n",
        "\n",
        "- bimodal image (히스토그램으로 분석하면 2개의 peak가 있는 이미지)의 경우는 히스토그램에서 임계값을 어느정도 정확히 계산 가능\n",
        "\n",
        "- `cv2.threshold()` 함수의 flag에 추가로 `cv2.THRESH_STSU` 를 적용.\n",
        "  이때 임계값은 0으로 전달"
      ]
    },
    {
      "cell_type": "markdown",
      "metadata": {
        "id": "onqVxTuLxWKB"
      },
      "source": [
        "- 이미지\n",
        "  - noise.jpg\n",
        "\n",
        "  <img src=\"https://cdn.pixabay.com/photo/2017/01/04/13/09/star-1951963_960_720.jpg\">\n",
        "\n",
        "  <sub>[이미지 출처] https://pixabay.com/illustrations/star-grey-noise-banner-monochrome-1951963/</sub>"
      ]
    },
    {
      "cell_type": "code",
      "metadata": {
        "id": "PGJUSMyJvU-o"
      },
      "source": [],
      "execution_count": null,
      "outputs": []
    },
    {
      "cell_type": "code",
      "metadata": {
        "id": "yHcFFELXxKy8"
      },
      "source": [],
      "execution_count": null,
      "outputs": []
    },
    {
      "cell_type": "code",
      "metadata": {
        "id": "u0nv6RZrxL8p"
      },
      "source": [],
      "execution_count": null,
      "outputs": []
    },
    {
      "cell_type": "code",
      "metadata": {
        "id": "_kk0lSxaxL6N"
      },
      "source": [],
      "execution_count": null,
      "outputs": []
    },
    {
      "cell_type": "markdown",
      "metadata": {
        "id": "qDBgsrmrq9jm"
      },
      "source": [
        "- 시각화"
      ]
    },
    {
      "cell_type": "code",
      "metadata": {
        "id": "hpXt_VitoBSA"
      },
      "source": [],
      "execution_count": null,
      "outputs": []
    },
    {
      "cell_type": "code",
      "metadata": {
        "id": "QQl5N0cHoBPs"
      },
      "source": [],
      "execution_count": null,
      "outputs": []
    }
  ]
}