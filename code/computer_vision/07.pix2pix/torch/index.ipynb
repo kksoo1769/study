{
 "cells": [
  {
   "cell_type": "code",
   "execution_count": null,
   "metadata": {},
   "outputs": [],
   "source": [
    "BATCH_SIZE = 256\n",
    "BUFFER_SIZE = 400\n",
    "IMG_WIDTH = 256\n",
    "IMG_HEIGHT = 256"
   ]
  }
 ],
 "metadata": {
  "language_info": {
   "name": "python"
  }
 },
 "nbformat": 4,
 "nbformat_minor": 2
}
