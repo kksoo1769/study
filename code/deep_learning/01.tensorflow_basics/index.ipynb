{
  "cells": [
    {
      "cell_type": "markdown",
      "metadata": {
        "id": "mpf4TRENWJMZ"
      },
      "source": [
        "# 텐서플로우 (Tensorflow)\n",
        "\n",
        "<img src=\"https://upload.wikimedia.org/wikipedia/commons/thumb/1/11/TensorFlowLogo.svg/1200px-TensorFlowLogo.svg.png\" width=\"300\">\n",
        "\n",
        "- 가장 널리 쓰이는 딥러닝 프레임워크 중 하나\n",
        "\n",
        "- 구글이 주도적으로 개발하는 플랫폼\n",
        "\n",
        "- 파이썬, C++ API를 기본적으로 제공하고,  \n",
        "  자바스크립트(JavaScript), 자바(Java), 고(Go), 스위프트(Swift) 등 다양한 프로그래밍 언어를 지원\n",
        "\n",
        "- tf.keras를 중심으로 고수준 API 통합 (2.x 버전)\n",
        "\n",
        "- TPU(Tensor Processing Unit) 지원\n",
        "  - TPU는 GPU보다 전력을 적게 소모, 경제적\n",
        "  \n",
        "  - 일반적으로 32비트(float32)로 수행되는 곱셈 연산을 16비트(float16)로 낮춤"
      ]
    },
    {
      "cell_type": "markdown",
      "metadata": {
        "id": "a9-NEf2BWd4M"
      },
      "source": [
        "## 텐서플로우 아키텍쳐\n",
        "\n",
        "<img src=\"https://developers.google.com/machine-learning/crash-course/images/TFHierarchy.svg\">\n",
        "\n",
        "<sub>출처: https://developers.google.com/machine-learning/crash-course/first-steps-with-tensorflow/toolkit</sub>"
      ]
    },
    {
      "cell_type": "markdown",
      "metadata": {
        "id": "c_ktVhFhYUiE"
      },
      "source": [
        "## 텐서플로우 시작하기"
      ]
    },
    {
      "cell_type": "code",
      "execution_count": 2,
      "metadata": {
        "id": "SP9HL3ZvV0zR"
      },
      "outputs": [],
      "source": [
        "import numpy as np\n",
        "import tensorflow as tf"
      ]
    },
    {
      "cell_type": "code",
      "execution_count": 3,
      "metadata": {
        "id": "KvPQ0N4_YhDt"
      },
      "outputs": [
        {
          "name": "stdout",
          "output_type": "stream",
          "text": [
            "2.14.0\n"
          ]
        }
      ],
      "source": [
        "print(tf.__version__)"
      ]
    },
    {
      "cell_type": "markdown",
      "metadata": {
        "id": "d-9usyAXY7Gw"
      },
      "source": [
        "### 텐서(Tensor)의 객체\n",
        "- 타입(Type): `string`, `float32`, `float16`, `int32`, `int8` 등\n",
        "\n",
        "- 형상(Shape): 0, 1, 2차원 등의 데이터 차원\n",
        "\n",
        "- 축(Rank): 차원의 개수"
      ]
    },
    {
      "cell_type": "markdown",
      "metadata": {
        "id": "dZeigiNEZODl"
      },
      "source": [
        "### 텐서의 차원과 연산"
      ]
    },
    {
      "cell_type": "code",
      "execution_count": 4,
      "metadata": {
        "id": "GMVq68gUYksh"
      },
      "outputs": [
        {
          "data": {
            "text/plain": [
              "<tf.Tensor: shape=(), dtype=int32, numpy=2>"
            ]
          },
          "execution_count": 4,
          "metadata": {},
          "output_type": "execute_result"
        }
      ],
      "source": [
        "a = tf.constant(2)\n",
        "\n",
        "a"
      ]
    },
    {
      "cell_type": "code",
      "execution_count": 5,
      "metadata": {
        "id": "MgOKILDqZZKP"
      },
      "outputs": [
        {
          "data": {
            "text/plain": [
              "<tf.Tensor: shape=(2,), dtype=int32, numpy=array([2, 3])>"
            ]
          },
          "execution_count": 5,
          "metadata": {},
          "output_type": "execute_result"
        }
      ],
      "source": [
        "b = tf.constant([2, 3])\n",
        "\n",
        "b"
      ]
    },
    {
      "cell_type": "code",
      "execution_count": 6,
      "metadata": {
        "id": "k74H8ImTZbWi"
      },
      "outputs": [
        {
          "data": {
            "text/plain": [
              "<tf.Tensor: shape=(2, 2), dtype=int32, numpy=\n",
              "array([[2, 3],\n",
              "       [6, 7]])>"
            ]
          },
          "execution_count": 6,
          "metadata": {},
          "output_type": "execute_result"
        }
      ],
      "source": [
        "c = tf.constant([\n",
        "    [2, 3],\n",
        "    [6, 7]\n",
        "])\n",
        "\n",
        "c"
      ]
    },
    {
      "cell_type": "code",
      "execution_count": 7,
      "metadata": {
        "id": "WmCCc587wkTy"
      },
      "outputs": [
        {
          "data": {
            "text/plain": [
              "<tf.Tensor: shape=(1,), dtype=string, numpy=array([b'Hello'], dtype=object)>"
            ]
          },
          "execution_count": 7,
          "metadata": {},
          "output_type": "execute_result"
        }
      ],
      "source": [
        "d = tf.constant([\"Hello\"])\n",
        "\n",
        "d"
      ]
    },
    {
      "cell_type": "markdown",
      "metadata": {
        "id": "z3mgwo7FZ_0S"
      },
      "source": [
        "### 난수 생성"
      ]
    },
    {
      "cell_type": "code",
      "execution_count": 8,
      "metadata": {
        "id": "eaT2dUJlZ2Cd"
      },
      "outputs": [
        {
          "data": {
            "text/plain": [
              "<tf.Tensor: shape=(1,), dtype=float32, numpy=array([0.36976397], dtype=float32)>"
            ]
          },
          "execution_count": 8,
          "metadata": {},
          "output_type": "execute_result"
        }
      ],
      "source": [
        "rand = tf.random.uniform([1], 0, 1)\n",
        "\n",
        "rand"
      ]
    },
    {
      "cell_type": "code",
      "execution_count": 9,
      "metadata": {
        "id": "KfgimJg9aFgB"
      },
      "outputs": [
        {
          "data": {
            "text/plain": [
              "<tf.Tensor: shape=(1, 2), dtype=float32, numpy=array([[ 1.6033391, -0.5021258]], dtype=float32)>"
            ]
          },
          "execution_count": 9,
          "metadata": {},
          "output_type": "execute_result"
        }
      ],
      "source": [
        "rand2 = tf.random.normal([1, 2], 0, 1)\n",
        "\n",
        "rand2"
      ]
    },
    {
      "cell_type": "code",
      "execution_count": 10,
      "metadata": {
        "id": "R_xdzhG5aPxB"
      },
      "outputs": [
        {
          "data": {
            "text/plain": [
              "<tf.Tensor: shape=(3, 2), dtype=float32, numpy=\n",
              "array([[ 0.206374  , -0.09630413],\n",
              "       [ 1.3503157 ,  1.156239  ],\n",
              "       [ 0.40979475,  0.6984594 ]], dtype=float32)>"
            ]
          },
          "execution_count": 10,
          "metadata": {},
          "output_type": "execute_result"
        }
      ],
      "source": [
        "rand3 = tf.random.normal(shape=(3, 2))\n",
        "\n",
        "rand3"
      ]
    },
    {
      "cell_type": "markdown",
      "metadata": {
        "id": "Za7HlqVba5wD"
      },
      "source": [
        "### 즉시 실행 모드 (Eager Mode) 지원\n",
        "- 즉시 실행모드를 통해 텐서플로우를 파이썬처럼 사용할 수 있음\n",
        "\n",
        "- 1.x 버전에서는 '그래프'를 생성하고, 초기화 한 뒤에 세션을 통해 **값을 흐르게 하는 작업**을 진행해야함\n"
      ]
    },
    {
      "cell_type": "code",
      "execution_count": 11,
      "metadata": {
        "id": "fVBqOSFrbQ1e"
      },
      "outputs": [],
      "source": [
        "a = tf.constant(3)\n",
        "b = tf.constant(2)"
      ]
    },
    {
      "cell_type": "code",
      "execution_count": 12,
      "metadata": {
        "id": "1btItwSEbdEO"
      },
      "outputs": [
        {
          "name": "stdout",
          "output_type": "stream",
          "text": [
            "tf.Tensor(5, shape=(), dtype=int32)\n",
            "tf.Tensor(5, shape=(), dtype=int32)\n"
          ]
        }
      ],
      "source": [
        "print(tf.add(a, b))\n",
        "print(a + b)"
      ]
    },
    {
      "cell_type": "code",
      "execution_count": 13,
      "metadata": {
        "id": "SaOXtxLpbfDC"
      },
      "outputs": [
        {
          "name": "stdout",
          "output_type": "stream",
          "text": [
            "tf.Tensor(1, shape=(), dtype=int32)\n",
            "tf.Tensor(1, shape=(), dtype=int32)\n"
          ]
        }
      ],
      "source": [
        "print(tf.subtract(a, b))\n",
        "print(a - b)"
      ]
    },
    {
      "cell_type": "code",
      "execution_count": 14,
      "metadata": {
        "id": "UCApXIDNbtLF"
      },
      "outputs": [
        {
          "name": "stdout",
          "output_type": "stream",
          "text": [
            "tf.Tensor(6, shape=(), dtype=int32)\n",
            "tf.Tensor(6, shape=(), dtype=int32)\n"
          ]
        }
      ],
      "source": [
        "print(tf.multiply(a, b))\n",
        "print(a * b)"
      ]
    },
    {
      "cell_type": "markdown",
      "metadata": {
        "id": "XyLkPW4Db67W"
      },
      "source": [
        "### 텐서 플로우 ↔ 넘파이\n",
        "- `numpy()`\n",
        "- `tf.convet_to_tensor()`"
      ]
    },
    {
      "cell_type": "code",
      "execution_count": 15,
      "metadata": {
        "id": "c9AWzdJRb4Ez"
      },
      "outputs": [
        {
          "name": "stdout",
          "output_type": "stream",
          "text": [
            "<class 'numpy.int32'>\n"
          ]
        }
      ],
      "source": [
        "c = tf.add(a, b).numpy()\n",
        "\n",
        "print(type(c))"
      ]
    },
    {
      "cell_type": "code",
      "execution_count": 16,
      "metadata": {
        "id": "ql4O755kcfnk"
      },
      "outputs": [
        {
          "data": {
            "text/plain": [
              "<tf.Tensor: shape=(), dtype=int32, numpy=25>"
            ]
          },
          "execution_count": 16,
          "metadata": {},
          "output_type": "execute_result"
        }
      ],
      "source": [
        "c_square = np.square(c)\n",
        "c_tensor = tf.convert_to_tensor(c_square)\n",
        "\n",
        "c_tensor"
      ]
    },
    {
      "cell_type": "markdown",
      "metadata": {
        "id": "LmWKhcWVk00O"
      },
      "source": [
        "### 넘파이처럼 사용하기\n"
      ]
    },
    {
      "cell_type": "code",
      "execution_count": 17,
      "metadata": {
        "id": "0on9RGRllNnX"
      },
      "outputs": [
        {
          "name": "stdout",
          "output_type": "stream",
          "text": [
            "(2, 3) <dtype: 'int32'>\n"
          ]
        }
      ],
      "source": [
        "t = tf.constant([\n",
        "    [1, 2, 3],\n",
        "    [4, 5, 6]\n",
        "])\n",
        "\n",
        "print(t.shape, t.dtype)"
      ]
    },
    {
      "cell_type": "code",
      "execution_count": 18,
      "metadata": {
        "id": "lhlyV7oklUIh"
      },
      "outputs": [
        {
          "data": {
            "text/plain": [
              "<tf.Tensor: shape=(2, 2), dtype=int32, numpy=\n",
              "array([[2, 3],\n",
              "       [5, 6]])>"
            ]
          },
          "execution_count": 18,
          "metadata": {},
          "output_type": "execute_result"
        }
      ],
      "source": [
        "t[:, 1:]"
      ]
    },
    {
      "cell_type": "code",
      "execution_count": 19,
      "metadata": {
        "id": "glWL8MITlo7H"
      },
      "outputs": [
        {
          "data": {
            "text/plain": [
              "<tf.Tensor: shape=(2, 1), dtype=int32, numpy=\n",
              "array([[2],\n",
              "       [5]])>"
            ]
          },
          "execution_count": 19,
          "metadata": {},
          "output_type": "execute_result"
        }
      ],
      "source": [
        "t[..., 1, tf.newaxis]"
      ]
    },
    {
      "cell_type": "code",
      "execution_count": 20,
      "metadata": {
        "id": "RtzQuhwnmRdu"
      },
      "outputs": [
        {
          "data": {
            "text/plain": [
              "<tf.Tensor: shape=(2, 3), dtype=int32, numpy=\n",
              "array([[11, 12, 13],\n",
              "       [14, 15, 16]])>"
            ]
          },
          "execution_count": 20,
          "metadata": {},
          "output_type": "execute_result"
        }
      ],
      "source": [
        "t + 10"
      ]
    },
    {
      "cell_type": "code",
      "execution_count": 21,
      "metadata": {
        "id": "Z5wQhZ0xmRi6"
      },
      "outputs": [
        {
          "data": {
            "text/plain": [
              "<tf.Tensor: shape=(2, 3), dtype=int32, numpy=\n",
              "array([[ 1,  4,  9],\n",
              "       [16, 25, 36]])>"
            ]
          },
          "execution_count": 21,
          "metadata": {},
          "output_type": "execute_result"
        }
      ],
      "source": [
        "tf.square(t)"
      ]
    },
    {
      "cell_type": "code",
      "execution_count": 22,
      "metadata": {
        "id": "Fj9RmYc6mRVh"
      },
      "outputs": [
        {
          "data": {
            "text/plain": [
              "<tf.Tensor: shape=(2, 2), dtype=int32, numpy=\n",
              "array([[14, 32],\n",
              "       [32, 77]])>"
            ]
          },
          "execution_count": 22,
          "metadata": {},
          "output_type": "execute_result"
        }
      ],
      "source": [
        "t @ tf.transpose(t) # @는 tensor의 곱"
      ]
    },
    {
      "cell_type": "markdown",
      "metadata": {
        "id": "8y5wUIfpuhzL"
      },
      "source": [
        "### 타입 변환\n",
        "- 텐서의 기본 dtype\n",
        "  - float형 텐서: `float32`\n",
        "  - int형 텐서: `int32`\n",
        "\n",
        "- 연산시 텐서의 타입을 맞춰줘야 함\n",
        "  - `float32` ~ `float32`\n",
        "  - `int32` ~ `int32`\n",
        "  - `flot32` ~ `int32` (x)\n",
        "\n",
        "- 타입변환에는 `tf.cast()` 사용"
      ]
    },
    {
      "cell_type": "code",
      "execution_count": 23,
      "metadata": {
        "id": "RMwFpHCAvEFG"
      },
      "outputs": [],
      "source": [
        "a = tf.constant(2)\n",
        "b = tf.constant(2.)"
      ]
    },
    {
      "cell_type": "code",
      "execution_count": 24,
      "metadata": {
        "id": "rVb9KZSKui_c"
      },
      "outputs": [
        {
          "data": {
            "text/plain": [
              "<tf.Tensor: shape=(), dtype=int32, numpy=4>"
            ]
          },
          "execution_count": 24,
          "metadata": {},
          "output_type": "execute_result"
        }
      ],
      "source": [
        "a + tf.cast(b, dtype=tf.int32)"
      ]
    },
    {
      "cell_type": "markdown",
      "metadata": {
        "id": "E3IX5JwVZePH"
      },
      "source": [
        "### AutoGraph (오토그래프)\n",
        "\n",
        "- Tensorflow가 작업을 좀 더 빠르게 동작하게 하기 위한 방법으로 Graph로 만들어 연산을 진행\n",
        "\n",
        "- `tf.Graph`\n",
        "\n",
        "- 유연성이 있음\n",
        "\n",
        "  - 모바일 애플리케이션, 임베디드 기기, 백엔드 서버와 같이 Python 인터프리터가 없는 환경에서 Tensorflow 사용 가능"
      ]
    },
    {
      "cell_type": "code",
      "execution_count": 25,
      "metadata": {
        "id": "78VD-XWRaea5"
      },
      "outputs": [],
      "source": [
        "import timeit"
      ]
    },
    {
      "cell_type": "markdown",
      "metadata": {
        "id": "YxNt6nejc8Ei"
      },
      "source": [
        "### @tf.function\n",
        "- 자동으로 그래프를 생성(Auto Graph)\n",
        "\n",
        "- 그래프로 변환하여 사용 -> GPU 연산 가능\n",
        "\n",
        "- 파이썬으로 구성된 함수를 텐서플로우의 그래프 형태로 다루고 싶을 때 사용가능\n",
        "\n",
        "\n",
        "- 원본 함수가 필요하다면 `(tf.function).python_function()`"
      ]
    },
    {
      "cell_type": "code",
      "execution_count": 26,
      "metadata": {
        "id": "gq5NFuLjcukw"
      },
      "outputs": [
        {
          "name": "stdout",
          "output_type": "stream",
          "text": [
            "tf.Tensor(-13, shape=(), dtype=int32)\n",
            "tf.Tensor(-13, shape=(), dtype=int32)\n"
          ]
        }
      ],
      "source": [
        "@tf.function\n",
        "def my_func(x):\n",
        "    return x ** 2 - 10 * x + 3\n",
        "\n",
        "print(my_func(2))\n",
        "print(my_func(tf.constant(2)))"
      ]
    },
    {
      "cell_type": "code",
      "execution_count": 27,
      "metadata": {
        "id": "hR3RAAIQd8J7"
      },
      "outputs": [
        {
          "name": "stdout",
          "output_type": "stream",
          "text": [
            "-13\n",
            "tf.Tensor(-13, shape=(), dtype=int32)\n"
          ]
        }
      ],
      "source": [
        "def my_func_(x):\n",
        "    return x ** 2 - 10 * x + 3\n",
        "\n",
        "print(my_func_(2)) # tensor 아님\n",
        "print(my_func_(tf.constant(2)))"
      ]
    },
    {
      "cell_type": "code",
      "execution_count": 28,
      "metadata": {
        "id": "bsy3eabmy8X8"
      },
      "outputs": [
        {
          "name": "stdout",
          "output_type": "stream",
          "text": [
            "<tensorflow.python.eager.polymorphic_function.polymorphic_function.Function object at 0x0000018963FE1090>\n",
            "tf.Tensor(-13, shape=(), dtype=int32)\n"
          ]
        }
      ],
      "source": [
        "tf_my_func = tf.function(my_func_)\n",
        "\n",
        "print(tf_my_func)\n",
        "print(tf_my_func(2))"
      ]
    },
    {
      "cell_type": "code",
      "execution_count": 29,
      "metadata": {
        "id": "TgwwgQvjzKqn"
      },
      "outputs": [
        {
          "data": {
            "text/plain": [
              "-13"
            ]
          },
          "execution_count": 29,
          "metadata": {},
          "output_type": "execute_result"
        }
      ],
      "source": [
        "tf_my_func.python_function(2)"
      ]
    },
    {
      "cell_type": "code",
      "execution_count": 30,
      "metadata": {
        "id": "1pkBOpWhaehO"
      },
      "outputs": [
        {
          "data": {
            "text/plain": [
              "<tf.Tensor: shape=(1, 1), dtype=int32, numpy=array([[12]])>"
            ]
          },
          "execution_count": 30,
          "metadata": {},
          "output_type": "execute_result"
        }
      ],
      "source": [
        "def func_to_get_faster(x, y, b):\n",
        "    x = tf.matmul(x, y)\n",
        "    x = x + b\n",
        "\n",
        "    return x\n",
        "\n",
        "a_func_that_uses_a_graph = tf.function(func_to_get_faster)\n",
        "\n",
        "x1 = tf.constant([[1, 2]])\n",
        "y1 = tf.constant([[2], [3]])\n",
        "b1 = tf.constant(4)\n",
        "\n",
        "a_func_that_uses_a_graph(x1, y1, b1)"
      ]
    },
    {
      "cell_type": "code",
      "execution_count": 31,
      "metadata": {
        "id": "rcLAgLKfaepn"
      },
      "outputs": [
        {
          "data": {
            "text/plain": [
              "<tf.Tensor: shape=(1, 1), dtype=int32, numpy=array([[12]])>"
            ]
          },
          "execution_count": 31,
          "metadata": {},
          "output_type": "execute_result"
        }
      ],
      "source": [
        "def inner_func(x, y, b):\n",
        "    x = tf.matmul(x, y)\n",
        "    x = x + b\n",
        "\n",
        "    return x\n",
        "\n",
        "@tf.function\n",
        "def outer_func(x):\n",
        "    y = tf.constant([[2], [3]])\n",
        "    b = tf.constant(4)\n",
        "\n",
        "    return inner_func(x, y, b)\n",
        "\n",
        "outer_func(tf.constant([[1, 2]]))"
      ]
    },
    {
      "cell_type": "markdown",
      "metadata": {
        "id": "mXLYEP4fbSYe"
      },
      "source": [
        "텐서플로우가 `tf.function`으로 변환한 코드"
      ]
    },
    {
      "cell_type": "code",
      "execution_count": 32,
      "metadata": {
        "id": "i6cqueZuWN1g"
      },
      "outputs": [
        {
          "name": "stdout",
          "output_type": "stream",
          "text": [
            "def tf__my_func(x):\n",
            "    with ag__.FunctionScope('my_func', 'fscope', ag__.ConversionOptions(recursive=True, user_requested=True, optional_features=(), internal_convert_user_code=True)) as fscope:\n",
            "        do_return = False\n",
            "        retval_ = ag__.UndefinedReturnValue()\n",
            "        try:\n",
            "            do_return = True\n",
            "            retval_ = ag__.ld(x) ** 2 - 10 * ag__.ld(x) + 3\n",
            "        except:\n",
            "            do_return = False\n",
            "            raise\n",
            "        return fscope.ret(retval_, do_return)\n",
            "\n"
          ]
        }
      ],
      "source": [
        "print(tf.autograph.to_code(my_func.python_function))"
      ]
    },
    {
      "cell_type": "markdown",
      "metadata": {
        "id": "hf2KCJu1bdg_"
      },
      "source": [
        "\n",
        " 속도 향상\n"
      ]
    },
    {
      "cell_type": "code",
      "execution_count": 33,
      "metadata": {
        "id": "6GC4f2HvbfNT"
      },
      "outputs": [
        {
          "name": "stdout",
          "output_type": "stream",
          "text": [
            "Eager time: 2.520551799999339\n",
            "Graph time: 0.8310162999996464\n"
          ]
        }
      ],
      "source": [
        "class SequentialModel(tf.keras.Model):\n",
        "    def __init__(self, **kwargs):\n",
        "        super(SequentialModel, self).__init__(**kwargs)\n",
        "        self.flatten = tf.keras.layers.Flatten(input_shape=(28, 28))\n",
        "        self.dense_1 = tf.keras.layers.Dense(128, activation=\"relu\")\n",
        "        self.dropout = tf.keras.layers.Dropout(0.2)\n",
        "        self.dense_2 = tf.keras.layers.Dense(10)\n",
        "\n",
        "    def call(self, x):\n",
        "        x = self.flatten(x)\n",
        "        x = self.dense_1(x)\n",
        "        x = self.dropout(x)\n",
        "        x = self.dense_2(x)\n",
        "\n",
        "        return x\n",
        "\n",
        "inp_data = tf.random.uniform([60, 28, 28])\n",
        "\n",
        "eager_model = SequentialModel()\n",
        "graph_model = tf.function(eager_model)\n",
        "\n",
        "print(f\"Eager time: {timeit.timeit(lambda: eager_model(inp_data), number=1000)}\")\n",
        "print(f\"Graph time: {timeit.timeit(lambda: graph_model(inp_data), number=1000)}\")"
      ]
    },
    {
      "cell_type": "markdown",
      "metadata": {
        "id": "EizHAodregRR"
      },
      "source": [
        "### 변수 생성\n",
        "\n",
        "- `tf.Variable`\n",
        "- 딥러닝 모델 학습 시, 그래프 연산이 필요할 때 사용"
      ]
    },
    {
      "cell_type": "code",
      "execution_count": 34,
      "metadata": {
        "id": "PybmfPcAeH-S"
      },
      "outputs": [
        {
          "name": "stdout",
          "output_type": "stream",
          "text": [
            "<tf.Variable 'Variable:0' shape=() dtype=float32, numpy=20.0>\n"
          ]
        }
      ],
      "source": [
        "X = tf.Variable(20.0)\n",
        "\n",
        "print(X)"
      ]
    },
    {
      "cell_type": "markdown",
      "metadata": {
        "id": "qY_oUvVneiHH"
      },
      "source": [
        "### Autograd (자동 미분)\n",
        "\n",
        "- `tf.GradientTape` API를 사용\n",
        "- `tf.Variable` 같은 일부 입력에 대한 기울기 계산\n",
        "  - 기본적으로 한번만 사용됨\n",
        "- 변수가 포함된 연산만 기록"
      ]
    },
    {
      "cell_type": "code",
      "execution_count": 35,
      "metadata": {
        "id": "4_lrTYZfeiHO"
      },
      "outputs": [],
      "source": [
        "x = tf.Variable(3.0)\n",
        "\n",
        "with tf.GradientTape() as tape:\n",
        "    y = x ** 2"
      ]
    },
    {
      "cell_type": "code",
      "execution_count": 36,
      "metadata": {
        "id": "1Tq7MMJTeiHQ"
      },
      "outputs": [
        {
          "data": {
            "text/plain": [
              "<tf.Tensor: shape=(), dtype=float32, numpy=6.0>"
            ]
          },
          "execution_count": 36,
          "metadata": {},
          "output_type": "execute_result"
        }
      ],
      "source": [
        "dy_dx = tape.gradient(y, x)\n",
        "\n",
        "dy_dx"
      ]
    },
    {
      "cell_type": "code",
      "execution_count": 37,
      "metadata": {
        "id": "y0wty7V3eiHT"
      },
      "outputs": [],
      "source": [
        "# x2 = tf.Variable(4)\n",
        "# dy_dx = tape.gradient(y, x2)\n",
        "\n",
        "# dy_dx # 한 번만 호출 가능"
      ]
    },
    {
      "cell_type": "code",
      "execution_count": 38,
      "metadata": {
        "id": "itJftqGlfWmy"
      },
      "outputs": [
        {
          "name": "stdout",
          "output_type": "stream",
          "text": [
            "dz/dx: 4.0\n",
            "dz/dy: None\n"
          ]
        }
      ],
      "source": [
        "x = tf.Variable(2.)\n",
        "y = tf.Variable(3.)\n",
        "\n",
        "with tf.GradientTape() as tape:\n",
        "    y_sq = y ** 2\n",
        "    z = x ** 2 + tf.stop_gradient(y_sq)\n",
        "\n",
        "grad = tape.gradient(z, {\"x\": x, \"y\": y})\n",
        "\n",
        "print(f\"dz/dx: {grad['x']}\")\n",
        "print(f\"dz/dy: {grad['y']}\")"
      ]
    },
    {
      "cell_type": "code",
      "execution_count": 39,
      "metadata": {
        "id": "Np-JoGSneiHW"
      },
      "outputs": [],
      "source": [
        "weights = tf.Variable(tf.random.normal((3, 2)), name=\"weights\")\n",
        "biases = tf.Variable(tf.zeros(2, dtype=tf.float32), name=\"biases\")\n",
        "x = tf.constant([[1, 2, 3]], dtype=tf.float32)\n",
        "\n",
        "with tf.GradientTape(persistent=True) as tape2:\n",
        "    y = x @ weights + biases\n",
        "    loss = tf.reduce_mean(y ** 2)"
      ]
    },
    {
      "cell_type": "code",
      "execution_count": 40,
      "metadata": {
        "id": "OMhB1rONeiHY"
      },
      "outputs": [],
      "source": [
        "[dl_dw, dl_db] = tape2.gradient(loss, [weights, biases])"
      ]
    },
    {
      "cell_type": "code",
      "execution_count": 41,
      "metadata": {
        "id": "7mS4UrqgeiHa"
      },
      "outputs": [
        {
          "name": "stdout",
          "output_type": "stream",
          "text": [
            "(3, 2) (3, 2)\n"
          ]
        }
      ],
      "source": [
        "print(weights.shape, dl_dw.shape)"
      ]
    },
    {
      "cell_type": "code",
      "execution_count": 42,
      "metadata": {
        "id": "UIFUed4yeiHc"
      },
      "outputs": [],
      "source": [
        "with tape2:\n",
        "    weights2 = tf.Variable(tf.random.normal((3, 2)), name=\"weights\")\n",
        "    biases2 = tf.Variable(tf.zeros(2, dtype=tf.float32), name=\"biases\")\n",
        "    x2 = tf.constant([[4, 5, 6]], dtype=tf.float32)\n",
        "    y2 = x2 @ weights2 + biases2\n",
        "    loss2 = tf.reduce_mean(y2 ** 2)\n",
        "\n",
        "\n",
        "[dl_dw2, dl_db2] = tape2.gradient(loss2, [weights2, biases2])"
      ]
    },
    {
      "cell_type": "code",
      "execution_count": 43,
      "metadata": {
        "id": "b1X3900EeiHd"
      },
      "outputs": [
        {
          "name": "stdout",
          "output_type": "stream",
          "text": [
            "(3, 2) (3, 2)\n"
          ]
        }
      ],
      "source": [
        "print(weights2.shape, dl_dw2.shape)"
      ]
    },
    {
      "cell_type": "code",
      "execution_count": 44,
      "metadata": {},
      "outputs": [],
      "source": [
        "del tape2"
      ]
    },
    {
      "cell_type": "code",
      "execution_count": 45,
      "metadata": {},
      "outputs": [
        {
          "name": "stdout",
          "output_type": "stream",
          "text": [
            "(3, 2) (3, 2)\n"
          ]
        }
      ],
      "source": [
        "import tensorflow as tf\n",
        "\n",
        "weights = tf.Variable(tf.random.normal((3, 2)), name=\"weights\")\n",
        "biases = tf.Variable(tf.zeros(2, dtype=tf.float32), name=\"biases\")\n",
        "x = tf.constant([[1, 2, 3]], dtype=tf.float32)\n",
        "\n",
        "with tf.GradientTape(persistent=True) as tape:\n",
        "    y = x @ weights + biases\n",
        "    loss = tf.reduce_mean(y ** 2)\n",
        "\n",
        "[dl_dw, dl_db] = tape.gradient(loss, [weights, biases])\n",
        "\n",
        "# Calculate gradients for weights2 and biases2 within the tape context\n",
        "with tape:\n",
        "    y2 = x2 @ weights2 + biases2  # Reuse tape for subsequent calculations\n",
        "    loss2 = tf.reduce_mean(y2 ** 2)\n",
        "\n",
        "[dl_dw2, dl_db2] = tape.gradient(loss2, [weights2, biases2])\n",
        "\n",
        "print(weights2.shape, dl_dw2.shape)  # Output: (3, 2) (3, 2)\n"
      ]
    },
    {
      "cell_type": "markdown",
      "metadata": {
        "id": "FcG5ddWTgjMq"
      },
      "source": [
        "## 간단한 신경망 구조"
      ]
    },
    {
      "cell_type": "markdown",
      "metadata": {
        "id": "fXE8tlU7gkrV"
      },
      "source": [
        "### 뉴런\n",
        "- 입력 → 연산 → 활성화함수 → 출력"
      ]
    },
    {
      "cell_type": "code",
      "execution_count": 46,
      "metadata": {
        "id": "B-DUt6cZe7iD"
      },
      "outputs": [],
      "source": [
        "def sigmoid(x):\n",
        "    return 1 / (1 + np.exp(-x))\n",
        "\n",
        "def Neuron(x, W, b=0):\n",
        "    z = x * W + b\n",
        "    \n",
        "    return sigmoid(z)"
      ]
    },
    {
      "cell_type": "code",
      "execution_count": 47,
      "metadata": {
        "id": "r8baxM6mg_XQ"
      },
      "outputs": [
        {
          "name": "stdout",
          "output_type": "stream",
          "text": [
            "x's shape: (1, 2)\n",
            "W's shape: (1, 2)\n",
            "tf.Tensor([[ 0.1836892 -0.8415326]], shape=(1, 2), dtype=float32)\n",
            "tf.Tensor([[ 1.1914693 -0.3152123]], shape=(1, 2), dtype=float32)\n",
            "[[0.55449766 0.56592923]]\n"
          ]
        }
      ],
      "source": [
        "x = tf.random.normal((1, 2), 0, 1)\n",
        "W = tf.random.normal((1, 2), 0, 1)\n",
        "\n",
        "print(f\"x's shape: {x.shape}\")\n",
        "print(f\"W's shape: {W.shape}\")\n",
        "\n",
        "print(x)\n",
        "print(W)\n",
        "\n",
        "print(Neuron(x, W))"
      ]
    },
    {
      "cell_type": "code",
      "execution_count": 48,
      "metadata": {
        "id": "I7D57W93htFt"
      },
      "outputs": [
        {
          "name": "stdout",
          "output_type": "stream",
          "text": [
            "x's shape: (2, 1)\n",
            "W's shape: (2, 1)\n",
            "tf.Tensor(\n",
            "[[-0.06256317]\n",
            " [ 0.67927736]], shape=(2, 1), dtype=float32)\n",
            "tf.Tensor(\n",
            "[[0.35965863]\n",
            " [2.9231534 ]], shape=(2, 1), dtype=float32)\n",
            "[[0.49437487]\n",
            " [0.87928027]]\n"
          ]
        }
      ],
      "source": [
        "x = tf.random.normal((2, 1), 0, 1)\n",
        "W = tf.random.normal((2, 1), 0, 1)\n",
        "\n",
        "print(f\"x's shape: {x.shape}\")\n",
        "print(f\"W's shape: {W.shape}\")\n",
        "\n",
        "print(x)\n",
        "print(W)\n",
        "\n",
        "print(Neuron(x, W))"
      ]
    },
    {
      "cell_type": "code",
      "execution_count": 49,
      "metadata": {
        "id": "IKeoXsJBhzPk"
      },
      "outputs": [
        {
          "name": "stdout",
          "output_type": "stream",
          "text": [
            "x's shape: (1,)\n",
            "W's shape: (2, 1)\n",
            "tf.Tensor([-0.13852245], shape=(1,), dtype=float32)\n",
            "tf.Tensor(\n",
            "[[-0.33228534]\n",
            " [-0.65867877]], shape=(2, 1), dtype=float32)\n",
            "[[0.51150525]\n",
            " [0.52279466]]\n"
          ]
        }
      ],
      "source": [
        "x = tf.random.normal((1, ), 0, 1)\n",
        "W = tf.random.normal((2, 1), 0, 1)\n",
        "\n",
        "print(f\"x's shape: {x.shape}\")\n",
        "print(f\"W's shape: {W.shape}\")\n",
        "\n",
        "print(x)\n",
        "print(W)\n",
        "\n",
        "print(Neuron(x, W))"
      ]
    },
    {
      "cell_type": "markdown",
      "metadata": {
        "id": "ATmvx1utmmMl"
      },
      "source": [
        "### 퍼셉트론 학습 알고리즘 (가중치 업데이트)\n",
        "\n",
        "## $\\qquad w^{(next step)} = w + \\eta \\ (y - \\tilde{y}) \\ x$\n",
        "\n",
        "- $w \\ $: 가중치\n",
        "\n",
        "- $\\eta \\ $ : 학습률\n",
        "\n",
        "- $y \\ $ : 정답 레이블\n",
        "\n",
        "- $\\tilde{y} \\ $: 예측 레이블\n"
      ]
    },
    {
      "cell_type": "code",
      "execution_count": 50,
      "metadata": {
        "id": "7f-3qRCHXO9m"
      },
      "outputs": [
        {
          "name": "stdout",
          "output_type": "stream",
          "text": [
            "[0.4643138]\n",
            "y: 0\n"
          ]
        }
      ],
      "source": [
        "x = 1\n",
        "y = 0\n",
        "W = tf.random.normal((1, ), 0, 1)\n",
        "\n",
        "print(Neuron(x, W))\n",
        "print(f\"y: {y}\")"
      ]
    },
    {
      "cell_type": "code",
      "execution_count": 51,
      "metadata": {
        "id": "S8JG-rbdml_v"
      },
      "outputs": [
        {
          "name": "stdout",
          "output_type": "stream",
          "text": [
            "Epoch: 100, Error: [-0.09931193], Output: [0.09931193]\n",
            "Epoch: 200, Error: [-0.05155979], Output: [0.05155979]\n",
            "Epoch: 300, Error: [-0.03448852], Output: [0.03448852]\n",
            "Epoch: 400, Error: [-0.02583198], Output: [0.02583198]\n",
            "Epoch: 500, Error: [-0.0206218], Output: [0.0206218]\n",
            "Epoch: 600, Error: [-0.01714865], Output: [0.01714865]\n",
            "Epoch: 700, Error: [-0.0146707], Output: [0.0146707]\n",
            "Epoch: 800, Error: [-0.01281515], Output: [0.01281515]\n",
            "Epoch: 900, Error: [-0.01137423], Output: [0.01137423]\n",
            "Epoch: 1000, Error: [-0.01022333], Output: [0.01022333]\n"
          ]
        }
      ],
      "source": [
        "for i in range(1000):\n",
        "    output = Neuron(x, W)\n",
        "    error = y - output\n",
        "    W = W + 0.1 * error * x\n",
        "\n",
        "    if i % 100 == 99:\n",
        "        print(f\"Epoch: {i + 1}, Error: {error}, Output: {output}\")"
      ]
    },
    {
      "cell_type": "code",
      "execution_count": 52,
      "metadata": {
        "id": "vrJKCpf0VyOR"
      },
      "outputs": [],
      "source": [
        "def Neuron2(x, W, b=0):\n",
        "    z = tf.matmul(x, W, transpose_b=True) + b\n",
        "\n",
        "    return sigmoid(z)"
      ]
    },
    {
      "cell_type": "code",
      "execution_count": 53,
      "metadata": {
        "id": "dkLHtKQ8htRg"
      },
      "outputs": [
        {
          "name": "stdout",
          "output_type": "stream",
          "text": [
            "[[0.08542656]]\n",
            "y: [1.]\n"
          ]
        }
      ],
      "source": [
        "x = tf.random.normal((1, 3))\n",
        "y = tf.ones(1)\n",
        "W = tf.random.normal((1, 3))\n",
        "\n",
        "print(Neuron2(x, W))\n",
        "print(f\"y: {y}\")"
      ]
    },
    {
      "cell_type": "code",
      "execution_count": 54,
      "metadata": {
        "id": "udZu2_rQo1SH"
      },
      "outputs": [
        {
          "name": "stdout",
          "output_type": "stream",
          "text": [
            "Epoch: 100, Error: [[1.]], Output: [[0.]]\n",
            "Epoch: 200, Error: [[1.]], Output: [[0.]]\n"
          ]
        },
        {
          "name": "stderr",
          "output_type": "stream",
          "text": [
            "C:\\Users\\kksoo\\AppData\\Local\\Temp\\ipykernel_1412\\2347141400.py:2: RuntimeWarning: overflow encountered in exp\n",
            "  return 1 / (1 + np.exp(-x))\n"
          ]
        },
        {
          "name": "stdout",
          "output_type": "stream",
          "text": [
            "Epoch: 300, Error: [[1.]], Output: [[0.]]\n",
            "Epoch: 400, Error: [[1.]], Output: [[0.]]\n",
            "Epoch: 500, Error: [[1.]], Output: [[0.]]\n",
            "Epoch: 600, Error: [[1.]], Output: [[0.]]\n",
            "Epoch: 700, Error: [[1.]], Output: [[0.]]\n",
            "Epoch: 800, Error: [[1.]], Output: [[0.]]\n",
            "Epoch: 900, Error: [[1.]], Output: [[0.]]\n",
            "Epoch: 1000, Error: [[nan]], Output: [[nan]]\n"
          ]
        }
      ],
      "source": [
        "for i in range(1000):\n",
        "    output = Neuron2(x, W)\n",
        "    error = y - output\n",
        "    W = W + 0.1 * error * W\n",
        "    \n",
        "    if i % 100 == 99:\n",
        "        print(f\"Epoch: {i + 1}, Error: {error}, Output: {output}\")"
      ]
    },
    {
      "cell_type": "code",
      "execution_count": 55,
      "metadata": {
        "id": "X7rw7DAxbCcu"
      },
      "outputs": [
        {
          "name": "stdout",
          "output_type": "stream",
          "text": [
            "x\t: [[-1.2535696 -0.336615   0.3806665]]\n",
            "weights\t: [[ 0.19353518  1.9062386  -0.3169698 ]]\n",
            "bias\t: [[0.]]\n"
          ]
        }
      ],
      "source": [
        "x = tf.random.normal((1, 3))\n",
        "weights = tf.random.normal((1, 3))\n",
        "bias = tf.zeros((1, 1))\n",
        "\n",
        "y = tf.ones((1, ))\n",
        "\n",
        "print(f\"x\\t: {x}\")\n",
        "print(f\"weights\\t: {weights}\")\n",
        "print(f\"bias\\t: {bias}\")"
      ]
    },
    {
      "cell_type": "code",
      "execution_count": 56,
      "metadata": {
        "id": "Of-hjiq1pKF2"
      },
      "outputs": [
        {
          "name": "stdout",
          "output_type": "stream",
          "text": [
            "Epoch: 100, Error: [[nan]], Output: [[nan]]\n",
            "Epoch: 200, Error: [[nan]], Output: [[nan]]\n",
            "Epoch: 300, Error: [[nan]], Output: [[nan]]\n",
            "Epoch: 400, Error: [[nan]], Output: [[nan]]\n",
            "Epoch: 500, Error: [[nan]], Output: [[nan]]\n",
            "Epoch: 600, Error: [[nan]], Output: [[nan]]\n",
            "Epoch: 700, Error: [[nan]], Output: [[nan]]\n",
            "Epoch: 800, Error: [[nan]], Output: [[nan]]\n",
            "Epoch: 900, Error: [[nan]], Output: [[nan]]\n",
            "Epoch: 1000, Error: [[nan]], Output: [[nan]]\n"
          ]
        }
      ],
      "source": [
        "for i in range(1000):\n",
        "    ouput = Neuron2(x, weights, bias)\n",
        "    error = y - output\n",
        "    weights = weights + 0.1 * error * weights\n",
        "    bias = bias + 1 * 0.1 * error\n",
        "\n",
        "    if i % 100 == 99:\n",
        "        print(f\"Epoch: {i + 1}, Error: {error}, Output: {output}\")"
      ]
    },
    {
      "cell_type": "code",
      "execution_count": 57,
      "metadata": {
        "id": "KHVs1hALZ_bA"
      },
      "outputs": [
        {
          "name": "stdout",
          "output_type": "stream",
          "text": [
            "x\t: [[-1.2535696 -0.336615   0.3806665]]\n",
            "weights\t: [[nan nan nan]]\n",
            "bias\t: [[nan]]\n"
          ]
        }
      ],
      "source": [
        "print(f\"x\\t: {x}\")\n",
        "print(f\"weights\\t: {weights}\")\n",
        "print(f\"bias\\t: {bias}\")"
      ]
    },
    {
      "cell_type": "markdown",
      "metadata": {
        "id": "LQ-syOVwfjB9"
      },
      "source": [
        "### AND Gate"
      ]
    },
    {
      "cell_type": "code",
      "execution_count": 58,
      "metadata": {
        "id": "HyRma3NorTRs"
      },
      "outputs": [
        {
          "name": "stdout",
          "output_type": "stream",
          "text": [
            "Epoch: 200, Error: [0.258604], Output: [0.741396]\n"
          ]
        },
        {
          "name": "stdout",
          "output_type": "stream",
          "text": [
            "Epoch: 400, Error: [0.15568954], Output: [0.84431046]\n",
            "Epoch: 600, Error: [0.1105141], Output: [0.8894859]\n",
            "Epoch: 800, Error: [0.08529198], Output: [0.914708]\n",
            "Epoch: 1000, Error: [0.06928116], Output: [0.93071884]\n",
            "Epoch: 1200, Error: [0.0582515], Output: [0.9417485]\n",
            "Epoch: 1400, Error: [0.05020773], Output: [0.94979227]\n",
            "Epoch: 1600, Error: [0.04409015], Output: [0.95590985]\n",
            "Epoch: 1800, Error: [0.03928596], Output: [0.96071404]\n",
            "Epoch: 2000, Error: [0.03541535], Output: [0.96458465]\n",
            "\n",
            "weights\t: [6.9677696 6.964609 ]\n",
            "bias\t: [-11.6172]\n"
          ]
        }
      ],
      "source": [
        "X = np.array([\n",
        "    [0, 0],\n",
        "    [0, 1],\n",
        "    [1, 0],\n",
        "    [1, 1],\n",
        "])\n",
        "Y = np.array([[0], [0], [0], [1]])\n",
        "\n",
        "W = tf.random.normal([2])\n",
        "b = tf.random.normal([1])\n",
        "b_x = 1\n",
        "\n",
        "for i in range(2_000):\n",
        "    error_sum = 0\n",
        "    for j in range(X.shape[0]):\n",
        "        output = sigmoid(np.sum(X[j] * W) + b_x + b)\n",
        "        error = Y[j][0] - output\n",
        "        W = W + X[j] * 0.1 * error\n",
        "        b = b + b_x * 0.1 * error\n",
        "        error_sum += error\n",
        "    \n",
        "    if i % 200 == 200 - 1:\n",
        "        print(f\"Epoch: {i + 1}, Error: {error}, Output: {output}\")\n",
        "\n",
        "print(f\"\\nweights\\t: {W}\")\n",
        "print(f\"bias\\t: {b}\")"
      ]
    },
    {
      "cell_type": "code",
      "execution_count": 59,
      "metadata": {
        "id": "OylWtem2stH0"
      },
      "outputs": [
        {
          "name": "stdout",
          "output_type": "stream",
          "text": [
            "X: [0 0], Y: [0], Output: [9.009699e-06]\n",
            "X: [0 1], Y: [0], Output: [0.00944677]\n",
            "X: [1 0], Y: [0], Output: [0.00947639]\n",
            "X: [1 1], Y: [1], Output: [0.9101263]\n"
          ]
        }
      ],
      "source": [
        "for i in range(X.shape[0]):\n",
        "    print(f\"X: {X[i]}, Y: {Y[i]}, Output: {sigmoid(np.sum(X[i] * W) + b)}\")"
      ]
    },
    {
      "cell_type": "markdown",
      "metadata": {
        "id": "pADtZrsagJ64"
      },
      "source": [
        "### OR Gate"
      ]
    },
    {
      "cell_type": "code",
      "execution_count": 60,
      "metadata": {
        "id": "X1drqmeNuxIU"
      },
      "outputs": [
        {
          "name": "stdout",
          "output_type": "stream",
          "text": [
            "Epoch: 200, Error: [0.00239372], Output: [0.9976063]\n",
            "Epoch: 400, Error: [0.00036204], Output: [0.99963796]\n",
            "Epoch: 600, Error: [0.00010967], Output: [0.9998903]\n",
            "Epoch: 800, Error: [4.6133995e-05], Output: [0.99995387]\n",
            "Epoch: 1000, Error: [2.336502e-05], Output: [0.99997663]\n",
            "Epoch: 1200, Error: [1.335144e-05], Output: [0.99998665]\n",
            "Epoch: 1400, Error: [8.34465e-06], Output: [0.99999166]\n",
            "Epoch: 1600, Error: [5.6028366e-06], Output: [0.9999944]\n",
            "Epoch: 1800, Error: [3.8146973e-06], Output: [0.9999962]\n",
            "Epoch: 2000, Error: [2.861023e-06], Output: [0.99999714]\n",
            "\n",
            "weights\t: [8.20958  8.212126]\n",
            "bias\t: [-4.6373158]\n"
          ]
        }
      ],
      "source": [
        "X_2 = np.array([\n",
        "    [0, 0],\n",
        "    [0, 1],\n",
        "    [1, 0],\n",
        "    [1, 1],\n",
        "])\n",
        "Y_2 = np.array([[0], [1], [1], [1]])\n",
        "\n",
        "W_2 = tf.random.normal([2])\n",
        "b_2 = tf.random.normal([1])\n",
        "b_x = 1\n",
        "\n",
        "for i in range(2_000):\n",
        "    error_sum = 0\n",
        "    for j in range(X_2.shape[0]):\n",
        "        output = sigmoid(np.sum(X_2[j] * W_2) + b_x + b_2)\n",
        "        error = Y_2[j][0] - output\n",
        "        W_2 = W_2 + X_2[j] * 0.1 * error\n",
        "        b_2 = b_2 + b_x * 0.1 * error\n",
        "        error_sum += error\n",
        "    \n",
        "    if i % 200 == 200 - 1:\n",
        "        print(f\"Epoch: {i + 1}, Error: {error}, Output: {output}\")\n",
        "\n",
        "print(f\"\\nweights\\t: {W_2}\")\n",
        "print(f\"bias\\t: {b_2}\")"
      ]
    },
    {
      "cell_type": "code",
      "execution_count": 61,
      "metadata": {
        "id": "FGG4_ZXGgLNd"
      },
      "outputs": [
        {
          "name": "stdout",
          "output_type": "stream",
          "text": [
            "X_2: [0 0], Y_2: [0], Output: [0.00959078]\n",
            "X_2: [0 1], Y_2: [1], Output: [0.97274303]\n",
            "X_2: [1 0], Y_2: [1], Output: [0.97267544]\n",
            "X_2: [1 1], Y_2: [1], Output: [0.9999924]\n"
          ]
        }
      ],
      "source": [
        "for i in range(X_2.shape[0]):\n",
        "    print(f\"X_2: {X_2[i]}, Y_2: {Y_2[i]}, Output: {sigmoid(np.sum(X_2[i] * W_2) + b_2)}\")"
      ]
    },
    {
      "cell_type": "markdown",
      "metadata": {
        "id": "IQyeNLdagPw1"
      },
      "source": [
        "### XOR Gate"
      ]
    },
    {
      "cell_type": "code",
      "execution_count": 62,
      "metadata": {
        "id": "W-BYPnNBgNd9"
      },
      "outputs": [
        {
          "name": "stdout",
          "output_type": "stream",
          "text": [
            "Epoch: 200, Error: [-0.51318973], Output: [0.51318973]\n",
            "Epoch: 400, Error: [-0.51283336], Output: [0.51283336]\n",
            "Epoch: 600, Error: [-0.5128183], Output: [0.5128183]\n",
            "Epoch: 800, Error: [-0.51281774], Output: [0.51281774]\n",
            "Epoch: 1000, Error: [-0.51281774], Output: [0.51281774]\n",
            "Epoch: 1200, Error: [-0.51281774], Output: [0.51281774]\n",
            "Epoch: 1400, Error: [-0.51281774], Output: [0.51281774]\n",
            "Epoch: 1600, Error: [-0.51281774], Output: [0.51281774]\n",
            "Epoch: 1800, Error: [-0.51281774], Output: [0.51281774]\n",
            "Epoch: 2000, Error: [-0.51281774], Output: [0.51281774]\n",
            "\n",
            "weights\t: [-0.10256235 -0.0512806 ]\n",
            "bias\t: [-0.94872004]\n"
          ]
        }
      ],
      "source": [
        "X_3 = np.array([\n",
        "    [0, 0],\n",
        "    [0, 1],\n",
        "    [1, 0],\n",
        "    [1, 1],\n",
        "])\n",
        "Y_3 = np.array([[0], [1], [1], [0]])\n",
        "\n",
        "W_3 = tf.random.normal([2])\n",
        "b_3 = tf.random.normal([1])\n",
        "b_x = 1\n",
        "\n",
        "for i in range(2_000):\n",
        "    error_sum = 0\n",
        "    for j in range(X_3.shape[0]):\n",
        "        output = sigmoid(np.sum(X_3[j] * W_3) + b_x + b_3)\n",
        "        error = Y_3[j][0] - output\n",
        "        W_3 = W_3 + X_3[j] * 0.1 * error\n",
        "        b_3 = b_3 + b_x * 0.1 * error\n",
        "        error_sum += error\n",
        "    \n",
        "    if i % 200 == 200 - 1:\n",
        "        print(f\"Epoch: {i + 1}, Error: {error}, Output: {output}\")\n",
        "\n",
        "print(f\"\\nweights\\t: {W_3}\")\n",
        "print(f\"bias\\t: {b_3}\")"
      ]
    },
    {
      "cell_type": "code",
      "execution_count": 63,
      "metadata": {
        "id": "z1EWz3N5gRfH"
      },
      "outputs": [
        {
          "name": "stdout",
          "output_type": "stream",
          "text": [
            "X_3: [0 0], Y_3: [0], Output: [0.2791423]\n",
            "X_3: [0 1], Y_3: [1], Output: [0.2689413]\n",
            "X_3: [1 0], Y_3: [1], Output: [0.25897893]\n",
            "X_3: [1 1], Y_3: [0], Output: [0.24926]\n"
          ]
        }
      ],
      "source": [
        "for i in range(X_3.shape[0]):\n",
        "    print(f\"X_3: {X_3[i]}, Y_3: {Y_3[i]}, Output: {sigmoid(np.sum(X_3[i] * W_3) + b_3)}\")"
      ]
    },
    {
      "cell_type": "code",
      "execution_count": 64,
      "metadata": {
        "id": "duXh8GGkgUET"
      },
      "outputs": [
        {
          "name": "stdout",
          "output_type": "stream",
          "text": [
            "Model: \"sequential\"\n",
            "_________________________________________________________________\n",
            " Layer (type)                Output Shape              Param #   \n",
            "=================================================================\n",
            " dense_2 (Dense)             (None, 2)                 6         \n",
            "                                                                 \n",
            " dense_3 (Dense)             (None, 1)                 3         \n",
            "                                                                 \n",
            "=================================================================\n",
            "Total params: 9 (36.00 Byte)\n",
            "Trainable params: 9 (36.00 Byte)\n",
            "Non-trainable params: 0 (0.00 Byte)\n",
            "_________________________________________________________________\n"
          ]
        }
      ],
      "source": [
        "from tensorflow import keras\n",
        "from keras import Sequential\n",
        "from keras.layers import Dense\n",
        "np.random.seed(111)\n",
        "\n",
        "X_4 = np.array([\n",
        "    [0, 0],\n",
        "    [0, 1],\n",
        "    [1, 0],\n",
        "    [1, 1],\n",
        "])\n",
        "Y_4 = np.array([[0], [1], [1], [0]])\n",
        "\n",
        "model = Sequential([\n",
        "    Dense(units=2, activation=\"sigmoid\", input_shape=(2, )),\n",
        "    Dense(units=1, activation=\"sigmoid\")\n",
        "])\n",
        "model.compile(optimizer=tf.keras.optimizers.SGD(learning_rate=0.1), loss=\"mse\")\n",
        "\n",
        "model.summary()"
      ]
    },
    {
      "cell_type": "code",
      "execution_count": 67,
      "metadata": {
        "id": "HYf3E6w6gV3z"
      },
      "outputs": [],
      "source": [
        "history = model.fit(X_4, Y_4, epochs=5_000, batch_size=1, verbose=0)"
      ]
    },
    {
      "cell_type": "code",
      "execution_count": 66,
      "metadata": {
        "id": "0ZuQIfAZgXzD"
      },
      "outputs": [
        {
          "name": "stdout",
          "output_type": "stream",
          "text": [
            "1/1 [==============================] - 0s 102ms/step\n"
          ]
        },
        {
          "data": {
            "text/plain": [
              "array([[0.06774994],\n",
              "       [0.9207315 ],\n",
              "       [0.9204915 ],\n",
              "       [0.10406314]], dtype=float32)"
            ]
          },
          "execution_count": 66,
          "metadata": {},
          "output_type": "execute_result"
        }
      ],
      "source": [
        "model.predict(X_4)"
      ]
    },
    {
      "cell_type": "markdown",
      "metadata": {
        "id": "NgHTUlX68Fyk"
      },
      "source": [
        "## 시각화 사용"
      ]
    },
    {
      "cell_type": "code",
      "execution_count": 74,
      "metadata": {
        "id": "a8azIYHQ8H16"
      },
      "outputs": [
        {
          "data": {
            "image/png": "[encoded data removed]",
            "text/plain": [
              "<Figure size 640x480 with 1 Axes>"
            ]
          },
          "metadata": {},
          "output_type": "display_data"
        }
      ],
      "source": [
        "import matplotlib.pyplot as plt\n",
        "\n",
        "x = tf.range(30)\n",
        "y = tf.random.normal((30, ))\n",
        "plt.plot(x, y, \"g-\")\n",
        "\n",
        "plt.show()"
      ]
    },
    {
      "cell_type": "markdown",
      "metadata": {
        "id": "aL-QTl5Q8mdB"
      },
      "source": [
        "### XOR Gate의 'LOSS' 시각화\n"
      ]
    },
    {
      "cell_type": "code",
      "execution_count": 76,
      "metadata": {
        "id": "vs8dlY1o8iby"
      },
      "outputs": [
        {
          "data": {
            "image/png": "[encoded data removed]",
            "text/plain": [
              "<Figure size 640x480 with 1 Axes>"
            ]
          },
          "metadata": {},
          "output_type": "display_data"
        }
      ],
      "source": [
        "plt.plot(history.history[\"loss\"])\n",
        "\n",
        "plt.show()"
      ]
    }
  ],
  "metadata": {
    "accelerator": "GPU",
    "colab": {
      "provenance": [],
      "toc_visible": true
    },
    "kernelspec": {
      "display_name": "Python 3",
      "name": "python3"
    },
    "language_info": {
      "codemirror_mode": {
        "name": "ipython",
        "version": 3
      },
      "file_extension": ".py",
      "mimetype": "text/x-python",
      "name": "python",
      "nbconvert_exporter": "python",
      "pygments_lexer": "ipython3",
      "version": "3.11.5"
    }
  },
  "nbformat": 4,
  "nbformat_minor": 0
}
