{
  "cells": [
    {
      "cell_type": "markdown",
      "metadata": {
        "id": "YmY-0QeUYcaa"
      },
      "source": [
        "# 케라스(Keras) 기초부터 모델 생성까지\n",
        "\n",
        "<img src=\"https://s3.amazonaws.com/keras.io/img/keras-logo-2018-large-1200.png\">\n",
        "\n",
        "- 파이썬으로 작성된 고수준 신경망 API로 TensorFlow, CNTK, 혹은 Theano와 함께 사용 가능\n",
        "- 사용자 친화성, 모듈성, 확장성을 통해 빠르고 간편한 프로토타이핑 가능\n",
        "- 컨볼루션 신경망, 순환 신경망, 그리고 둘의 조합까지 모두 지원\n",
        "- CPU와 GPU에서 매끄럽게 실행"
      ]
    },
    {
      "cell_type": "code",
      "execution_count": 1,
      "metadata": {
        "id": "qBkF9tvAbX08"
      },
      "outputs": [],
      "source": [
        "import numpy as np\n",
        "import tensorflow as tf"
      ]
    },
    {
      "cell_type": "markdown",
      "metadata": {
        "id": "ih4Nb7nMbfMc"
      },
      "source": [
        "레이어들을 import하는 방식 (1)\n",
        "- 일일이 import 하지 않아도 됨\n",
        "\n",
        "- 코드가 다소 길어질 수 있음"
      ]
    },
    {
      "cell_type": "code",
      "execution_count": 2,
      "metadata": {
        "id": "76J3cta0bd0e"
      },
      "outputs": [],
      "source": [
        "from tensorflow import keras"
      ]
    },
    {
      "cell_type": "code",
      "execution_count": 3,
      "metadata": {
        "id": "JZondHPTb6Vx"
      },
      "outputs": [
        {
          "data": {
            "text/plain": [
              "<keras.src.layers.core.dense.Dense at 0x2af90086010>"
            ]
          },
          "execution_count": 3,
          "metadata": {},
          "output_type": "execute_result"
        }
      ],
      "source": [
        "keras.layers.Dense(10, activation=\"sigmoid\")"
      ]
    },
    {
      "cell_type": "code",
      "execution_count": 4,
      "metadata": {
        "id": "inaUuk6Nb84X"
      },
      "outputs": [
        {
          "data": {
            "text/plain": [
              "<keras.src.engine.training.Model at 0x2af9c928590>"
            ]
          },
          "execution_count": 4,
          "metadata": {},
          "output_type": "execute_result"
        }
      ],
      "source": [
        "keras.Model()"
      ]
    },
    {
      "cell_type": "code",
      "execution_count": 5,
      "metadata": {
        "id": "NBNQZ7GxcF2H"
      },
      "outputs": [
        {
          "data": {
            "text/plain": [
              "<keras.src.engine.sequential.Sequential at 0x2af9c92a6d0>"
            ]
          },
          "execution_count": 5,
          "metadata": {},
          "output_type": "execute_result"
        }
      ],
      "source": [
        "keras.models.Sequential()"
      ]
    },
    {
      "cell_type": "markdown",
      "metadata": {
        "id": "XseyoEwjbrO-"
      },
      "source": [
        "레이어들을 import하는 방식 (2)\n",
        "- 일일이 import 해야함\n",
        "- 코드가 간결"
      ]
    },
    {
      "cell_type": "code",
      "execution_count": 6,
      "metadata": {
        "id": "W8WLjvCZbwoF"
      },
      "outputs": [],
      "source": [
        "from keras.layers import Dense, Input, Flatten, Activation\n",
        "from keras.models import Sequential\n",
        "from keras import Model"
      ]
    },
    {
      "cell_type": "code",
      "execution_count": 7,
      "metadata": {
        "id": "nYcV0CnVcWJO"
      },
      "outputs": [
        {
          "data": {
            "text/plain": [
              "<keras.src.layers.core.dense.Dense at 0x2af9c9286d0>"
            ]
          },
          "execution_count": 7,
          "metadata": {},
          "output_type": "execute_result"
        }
      ],
      "source": [
        "Dense(10, activation=\"sigmoid\")"
      ]
    },
    {
      "cell_type": "code",
      "execution_count": 8,
      "metadata": {
        "id": "RMd9TR6FcWDr"
      },
      "outputs": [
        {
          "data": {
            "text/plain": [
              "<keras.src.layers.reshaping.flatten.Flatten at 0x2af9c95f510>"
            ]
          },
          "execution_count": 8,
          "metadata": {},
          "output_type": "execute_result"
        }
      ],
      "source": [
        "Flatten(input_shape=[28, 28])"
      ]
    },
    {
      "cell_type": "code",
      "execution_count": 9,
      "metadata": {
        "id": "8_Ho3qKbcjOr"
      },
      "outputs": [
        {
          "data": {
            "text/plain": [
              "<KerasTensor: shape=(None, 2) dtype=float32 (created by layer 'input_1')>"
            ]
          },
          "execution_count": 9,
          "metadata": {},
          "output_type": "execute_result"
        }
      ],
      "source": [
        "x_train = np.random.randn(5500, 2)\n",
        "\n",
        "Input(shape=x_train.shape[1:])"
      ]
    },
    {
      "cell_type": "markdown",
      "metadata": {
        "id": "1Qz5gkr70p12"
      },
      "source": [
        "## 주요 레이어"
      ]
    },
    {
      "cell_type": "markdown",
      "metadata": {
        "id": "Vl0XJyRvbNh5"
      },
      "source": [
        "### Dense\n",
        "- Fully-Connected Layer\n",
        "\n",
        "- 노드수(유닛수), 활성화 함수 등을 지정\n",
        "\n",
        "- name을 통한 레이어간 구분 가능\n",
        "\n",
        "- 기본적으로  \n",
        "  'Glorot_uniform' 가중치(Xavier 초기화), zeros bias로 초기화\n",
        "  - kernel_initializer 인자를 통해 다른 가중치 초기화를 진행할 수 있음"
      ]
    },
    {
      "cell_type": "code",
      "execution_count": 10,
      "metadata": {
        "id": "0By3apmYYe31"
      },
      "outputs": [],
      "source": [
        "dense = Dense(10, activation=\"relu\", name=\"Dense Layer\")"
      ]
    },
    {
      "cell_type": "code",
      "execution_count": 11,
      "metadata": {
        "id": "KUAMqoGNd9gq"
      },
      "outputs": [
        {
          "data": {
            "text/plain": [
              "<keras.src.layers.core.dense.Dense at 0x2af9c94edd0>"
            ]
          },
          "execution_count": 11,
          "metadata": {},
          "output_type": "execute_result"
        }
      ],
      "source": [
        "dense"
      ]
    },
    {
      "cell_type": "code",
      "execution_count": 12,
      "metadata": {
        "id": "nhb-kQGzhJWC"
      },
      "outputs": [],
      "source": [
        "dense2 = Dense(15, activation=\"softmax\")"
      ]
    },
    {
      "cell_type": "code",
      "execution_count": 13,
      "metadata": {
        "id": "IF_zVkbnhJPz"
      },
      "outputs": [
        {
          "data": {
            "text/plain": [
              "<keras.src.layers.core.dense.Dense at 0x2af994a3d90>"
            ]
          },
          "execution_count": 13,
          "metadata": {},
          "output_type": "execute_result"
        }
      ],
      "source": [
        "dense2"
      ]
    },
    {
      "cell_type": "markdown",
      "metadata": {
        "id": "v6kPbw7ZJ0W5"
      },
      "source": [
        "### Activation\n",
        "- Dense layer에서 미리 활성화함수를 지정할 수도 있지만 때에 따라서 따로 레이어를 만들어줄 수 있음"
      ]
    },
    {
      "cell_type": "code",
      "execution_count": 14,
      "metadata": {
        "id": "71iUDTGUJ8vu"
      },
      "outputs": [
        {
          "data": {
            "text/plain": [
              "<keras.src.layers.core.activation.Activation at 0x2af9a470050>"
            ]
          },
          "execution_count": 14,
          "metadata": {},
          "output_type": "execute_result"
        }
      ],
      "source": [
        "dense = Dense(10, kernel_initializer=\"he_normal\", name=\"Dense Layer\")\n",
        "dense = Activation(dense)\n",
        "\n",
        "dense"
      ]
    },
    {
      "cell_type": "markdown",
      "metadata": {
        "id": "NYDu0hcJejJh"
      },
      "source": [
        "### Flatten\n",
        "- 배치 크기(또는 데이터 크기)를 제외하고 데이터를 1차원으로 쭉 펼치는 작업\n",
        "\n",
        "- 예시)\n",
        "        (128, 3, 2, 2) ---> (128, 12)\n",
        "      "
      ]
    },
    {
      "cell_type": "code",
      "execution_count": 15,
      "metadata": {
        "id": "3HzBfkjRd-dN"
      },
      "outputs": [
        {
          "data": {
            "text/plain": [
              "<keras.src.layers.reshaping.flatten.Flatten at 0x2af9c95d9d0>"
            ]
          },
          "execution_count": 15,
          "metadata": {},
          "output_type": "execute_result"
        }
      ],
      "source": [
        "Flatten(input_shape=(28, 28))"
      ]
    },
    {
      "cell_type": "markdown",
      "metadata": {
        "id": "gREcwh2cg1Zc"
      },
      "source": [
        "### Input\n",
        "- 모델의 입력을 정의\n",
        "\n",
        "- shape, dtype을 포함\n",
        "\n",
        "- 하나의 모델은 여러 개의 입력을 가질 수 있음\n",
        "\n",
        "- summary() 메소드를 통해서는 보이지 않음"
      ]
    },
    {
      "cell_type": "code",
      "execution_count": 16,
      "metadata": {
        "id": "2_kWKUMUefMf"
      },
      "outputs": [],
      "source": [
        "input_1 = Input(shape=(28, 28), dtype=tf.float32)\n",
        "input_2 = Input(shape=(8,), dtype=tf.float32)"
      ]
    },
    {
      "cell_type": "code",
      "execution_count": 17,
      "metadata": {
        "id": "1ErOXHCgh6gq"
      },
      "outputs": [
        {
          "data": {
            "text/plain": [
              "<KerasTensor: shape=(None, 28, 28) dtype=float32 (created by layer 'input_2')>"
            ]
          },
          "execution_count": 17,
          "metadata": {},
          "output_type": "execute_result"
        }
      ],
      "source": [
        "input_1"
      ]
    },
    {
      "cell_type": "code",
      "execution_count": 18,
      "metadata": {
        "id": "ic2vspIbh87y"
      },
      "outputs": [
        {
          "data": {
            "text/plain": [
              "<KerasTensor: shape=(None, 8) dtype=float32 (created by layer 'input_3')>"
            ]
          },
          "execution_count": 18,
          "metadata": {},
          "output_type": "execute_result"
        }
      ],
      "source": [
        "input_2"
      ]
    },
    {
      "cell_type": "markdown",
      "metadata": {
        "id": "_BMMAUoKjVC6"
      },
      "source": [
        "## 모델 구성 방법\n",
        "- Sequential()\n",
        "\n",
        "- 서브클래싱(Subclassing)\n",
        "\n",
        "- 함수형 API"
      ]
    },
    {
      "cell_type": "markdown",
      "metadata": {
        "id": "QckCD5TQjubf"
      },
      "source": [
        "### Sequential()\n",
        "\n",
        "- 모델이 순차적으로 진행할 때 사용\n",
        "\n",
        "- 간단한 방법\n",
        "  - Sequential 객체 생성 후, **add**를 통한 방법\n",
        "  \n",
        "  - Sequential 인자에 한번에 추가\n",
        "\n",
        "- 다중 입력 및 출력이 존재하는 등의 복잡한 모델을 구성할 수 없음\n"
      ]
    },
    {
      "cell_type": "code",
      "execution_count": 19,
      "metadata": {
        "id": "0TaLg9w4h9_Z"
      },
      "outputs": [],
      "source": [
        "from keras.utils import plot_model"
      ]
    },
    {
      "cell_type": "code",
      "execution_count": 20,
      "metadata": {
        "id": "AaZWV6DckLz-"
      },
      "outputs": [],
      "source": [
        "model = Sequential()\n",
        "model.add(Input(shape=(28, 28)))\n",
        "model.add(Dense(300, activation=\"relu\"))\n",
        "model.add(Dense(100, activation=\"relu\"))\n",
        "model.add(Dense(10, activation=\"softmax\"))"
      ]
    },
    {
      "cell_type": "markdown",
      "metadata": {
        "id": "uPelUwFwk-ap"
      },
      "source": [
        "모델 구조 확인\n",
        "- model 객체의 **summary()** 이용"
      ]
    },
    {
      "cell_type": "code",
      "execution_count": 21,
      "metadata": {
        "id": "11qLpBoRkVd6"
      },
      "outputs": [
        {
          "name": "stdout",
          "output_type": "stream",
          "text": [
            "Model: \"sequential_1\"\n",
            "_________________________________________________________________\n",
            " Layer (type)                Output Shape              Param #   \n",
            "=================================================================\n",
            " dense_3 (Dense)             (None, 28, 300)           8700      \n",
            "                                                                 \n",
            " dense_4 (Dense)             (None, 28, 100)           30100     \n",
            "                                                                 \n",
            " dense_5 (Dense)             (None, 28, 10)            1010      \n",
            "                                                                 \n",
            "=================================================================\n",
            "Total params: 39810 (155.51 KB)\n",
            "Trainable params: 39810 (155.51 KB)\n",
            "Non-trainable params: 0 (0.00 Byte)\n",
            "_________________________________________________________________\n"
          ]
        }
      ],
      "source": [
        "model.summary()"
      ]
    },
    {
      "cell_type": "code",
      "execution_count": 22,
      "metadata": {
        "id": "4AO6KrJzlAwh"
      },
      "outputs": [
        {
          "data": {
            "image/png": "[encoded data removed]",
            "text/plain": [
              "<IPython.core.display.Image object>"
            ]
          },
          "execution_count": 22,
          "metadata": {},
          "output_type": "execute_result"
        }
      ],
      "source": [
        "plot_model(model)"
      ]
    },
    {
      "cell_type": "code",
      "execution_count": 23,
      "metadata": {
        "id": "ezAsiEPhJWsU"
      },
      "outputs": [
        {
          "data": {
            "image/png": "[encoded data removed]",
            "text/plain": [
              "<IPython.core.display.Image object>"
            ]
          },
          "execution_count": 23,
          "metadata": {},
          "output_type": "execute_result"
        }
      ],
      "source": [
        "plot_model(model, to_file=\"model1.png\")"
      ]
    },
    {
      "cell_type": "code",
      "execution_count": 24,
      "metadata": {
        "id": "ktw3lIKKlDx5"
      },
      "outputs": [],
      "source": [
        "model = Sequential([\n",
        "    Input(shape=(28, 28), name=\"Input\"),\n",
        "    Dense(300, activation=\"relu\", name=\"Dense1\"),\n",
        "    Dense(100, activation=\"relu\", name=\"Dense2\"),\n",
        "    Dense(10, activation=\"softmax\", name=\"output\"),\n",
        "])"
      ]
    },
    {
      "cell_type": "code",
      "execution_count": 25,
      "metadata": {
        "id": "SqNs_lvWlrfg"
      },
      "outputs": [
        {
          "name": "stdout",
          "output_type": "stream",
          "text": [
            "Model: \"sequential_2\"\n",
            "_________________________________________________________________\n",
            " Layer (type)                Output Shape              Param #   \n",
            "=================================================================\n",
            " Dense1 (Dense)              (None, 28, 300)           8700      \n",
            "                                                                 \n",
            " Dense2 (Dense)              (None, 28, 100)           30100     \n",
            "                                                                 \n",
            " output (Dense)              (None, 28, 10)            1010      \n",
            "                                                                 \n",
            "=================================================================\n",
            "Total params: 39810 (155.51 KB)\n",
            "Trainable params: 39810 (155.51 KB)\n",
            "Non-trainable params: 0 (0.00 Byte)\n",
            "_________________________________________________________________\n"
          ]
        }
      ],
      "source": [
        "model.summary()"
      ]
    },
    {
      "cell_type": "code",
      "execution_count": 26,
      "metadata": {
        "id": "ePBTYE0FltI_"
      },
      "outputs": [
        {
          "data": {
            "image/png": "[encoded data removed]",
            "text/plain": [
              "<IPython.core.display.Image object>"
            ]
          },
          "execution_count": 26,
          "metadata": {},
          "output_type": "execute_result"
        }
      ],
      "source": [
        "plot_model(model)"
      ]
    },
    {
      "cell_type": "code",
      "execution_count": 27,
      "metadata": {
        "id": "ohU5iTldJOXT"
      },
      "outputs": [
        {
          "data": {
            "image/png": "[encoded data removed]",
            "text/plain": [
              "<IPython.core.display.Image object>"
            ]
          },
          "execution_count": 27,
          "metadata": {},
          "output_type": "execute_result"
        }
      ],
      "source": [
        "plot_model(model, to_file=\"model2.png\")"
      ]
    },
    {
      "cell_type": "markdown",
      "metadata": {
        "id": "ZM04XyfbrBpX"
      },
      "source": [
        "### 함수형 API\n",
        "\n",
        "- 가장 권장되는 방법\n",
        "\n",
        "- 모델을 복잡하고, 유연하게 구성 가능\n",
        "\n",
        "- 다중 입출력을 다룰 수 있음"
      ]
    },
    {
      "cell_type": "code",
      "execution_count": 28,
      "metadata": {
        "id": "0XjcLyjetLdh"
      },
      "outputs": [],
      "source": [
        "from keras.models import Model\n",
        "from keras.layers import Input, Flatten, Dense\n",
        "from keras.utils import plot_model"
      ]
    },
    {
      "cell_type": "code",
      "execution_count": 29,
      "metadata": {
        "id": "IvJZX1mbtZNm"
      },
      "outputs": [],
      "source": [
        "inputs = Input(shape=(28, 28, 1))\n",
        "\n",
        "x = Flatten(input_shape=(28, 28, 1))(inputs)\n",
        "x = Dense(300, activation=\"relu\")(x)\n",
        "x = Dense(100, activation=\"relu\")(x)\n",
        "x = Dense(10, activation=\"softmax\")(x)"
      ]
    },
    {
      "cell_type": "code",
      "execution_count": 30,
      "metadata": {
        "id": "_C4-YXaYtZG2"
      },
      "outputs": [],
      "source": [
        "model = Model(inputs=inputs, outputs=x)"
      ]
    },
    {
      "cell_type": "code",
      "execution_count": 31,
      "metadata": {
        "id": "541mCIP_utZ0"
      },
      "outputs": [
        {
          "name": "stdout",
          "output_type": "stream",
          "text": [
            "Model: \"model_1\"\n",
            "_________________________________________________________________\n",
            " Layer (type)                Output Shape              Param #   \n",
            "=================================================================\n",
            " input_5 (InputLayer)        [(None, 28, 28, 1)]       0         \n",
            "                                                                 \n",
            " flatten_2 (Flatten)         (None, 784)               0         \n",
            "                                                                 \n",
            " dense_6 (Dense)             (None, 300)               235500    \n",
            "                                                                 \n",
            " dense_7 (Dense)             (None, 100)               30100     \n",
            "                                                                 \n",
            " dense_8 (Dense)             (None, 10)                1010      \n",
            "                                                                 \n",
            "=================================================================\n",
            "Total params: 266610 (1.02 MB)\n",
            "Trainable params: 266610 (1.02 MB)\n",
            "Non-trainable params: 0 (0.00 Byte)\n",
            "_________________________________________________________________\n"
          ]
        }
      ],
      "source": [
        "model.summary()"
      ]
    },
    {
      "cell_type": "code",
      "execution_count": 32,
      "metadata": {
        "id": "9eqHbjseuzmi"
      },
      "outputs": [
        {
          "data": {
            "image/png": "[encoded data removed]",
            "text/plain": [
              "<IPython.core.display.Image object>"
            ]
          },
          "execution_count": 32,
          "metadata": {},
          "output_type": "execute_result"
        }
      ],
      "source": [
        "plot_model(model)"
      ]
    },
    {
      "cell_type": "code",
      "execution_count": 33,
      "metadata": {
        "id": "4zp-khCAJ_Rg"
      },
      "outputs": [
        {
          "data": {
            "image/png": "[encoded data removed]",
            "text/plain": [
              "<IPython.core.display.Image object>"
            ]
          },
          "execution_count": 33,
          "metadata": {},
          "output_type": "execute_result"
        }
      ],
      "source": [
        "plot_model(model, to_file=\"model3.png\")"
      ]
    },
    {
      "cell_type": "code",
      "execution_count": 34,
      "metadata": {
        "id": "3iAC6QhRwsBn"
      },
      "outputs": [],
      "source": [
        "from keras.layers import Concatenate\n",
        "\n",
        "input_layer = Input(shape=(28, 28))\n",
        "hidden1 = Dense(100, activation=\"relu\")(input_layer)\n",
        "hidden2 = Dense(30, activation=\"relu\")(hidden1)\n",
        "concat = Concatenate()([input_layer, hidden2])\n",
        "output = Dense(1)(concat)\n",
        "\n",
        "model = Model(inputs=input_layer, outputs=output)"
      ]
    },
    {
      "cell_type": "code",
      "execution_count": 35,
      "metadata": {
        "id": "c2VgxtTgwr5_"
      },
      "outputs": [
        {
          "name": "stdout",
          "output_type": "stream",
          "text": [
            "Model: \"model_2\"\n",
            "__________________________________________________________________________________________________\n",
            " Layer (type)                Output Shape                 Param #   Connected to                  \n",
            "==================================================================================================\n",
            " input_6 (InputLayer)        [(None, 28, 28)]             0         []                            \n",
            "                                                                                                  \n",
            " dense_9 (Dense)             (None, 28, 100)              2900      ['input_6[0][0]']             \n",
            "                                                                                                  \n",
            " dense_10 (Dense)            (None, 28, 30)               3030      ['dense_9[0][0]']             \n",
            "                                                                                                  \n",
            " concatenate (Concatenate)   (None, 28, 58)               0         ['input_6[0][0]',             \n",
            "                                                                     'dense_10[0][0]']            \n",
            "                                                                                                  \n",
            " dense_11 (Dense)            (None, 28, 1)                59        ['concatenate[0][0]']         \n",
            "                                                                                                  \n",
            "==================================================================================================\n",
            "Total params: 5989 (23.39 KB)\n",
            "Trainable params: 5989 (23.39 KB)\n",
            "Non-trainable params: 0 (0.00 Byte)\n",
            "__________________________________________________________________________________________________\n"
          ]
        }
      ],
      "source": [
        "model.summary()"
      ]
    },
    {
      "cell_type": "code",
      "execution_count": 36,
      "metadata": {
        "id": "rMPkFz43xvwA"
      },
      "outputs": [
        {
          "data": {
            "image/png": "[encoded data removed]",
            "text/plain": [
              "<IPython.core.display.Image object>"
            ]
          },
          "execution_count": 36,
          "metadata": {},
          "output_type": "execute_result"
        }
      ],
      "source": [
        "plot_model(model)"
      ]
    },
    {
      "cell_type": "code",
      "execution_count": 37,
      "metadata": {
        "id": "Mcq5LtfcKBh_"
      },
      "outputs": [
        {
          "data": {
            "image/png": "[encoded data removed]",
            "text/plain": [
              "<IPython.core.display.Image object>"
            ]
          },
          "execution_count": 37,
          "metadata": {},
          "output_type": "execute_result"
        }
      ],
      "source": [
        "plot_model(model, to_file=\"model4.png\")"
      ]
    },
    {
      "cell_type": "code",
      "execution_count": 38,
      "metadata": {
        "id": "wvtGiFj6x6qa"
      },
      "outputs": [],
      "source": [
        "input_1 = Input(shape=(10, 10), name=\"input_1\")\n",
        "input_2 = Input(shape=(10, 28), name=\"input_2\")\n",
        "\n",
        "hidden1 = Dense(100, activation=\"relu\")(input_2)\n",
        "hidden2 = Dense(10, activation=\"relu\")(hidden1)\n",
        "concat = Concatenate()([input_1, hidden2])\n",
        "output = Dense(1, activation=\"sigmoid\", name=\"output\")(concat)\n",
        "\n",
        "model = Model(inputs=[input_1, input_2], outputs=output)"
      ]
    },
    {
      "cell_type": "code",
      "execution_count": 39,
      "metadata": {
        "id": "aVvTOFzfx61O"
      },
      "outputs": [
        {
          "name": "stdout",
          "output_type": "stream",
          "text": [
            "Model: \"model_3\"\n",
            "__________________________________________________________________________________________________\n",
            " Layer (type)                Output Shape                 Param #   Connected to                  \n",
            "==================================================================================================\n",
            " input_2 (InputLayer)        [(None, 10, 28)]             0         []                            \n",
            "                                                                                                  \n",
            " dense_12 (Dense)            (None, 10, 100)              2900      ['input_2[0][0]']             \n",
            "                                                                                                  \n",
            " input_1 (InputLayer)        [(None, 10, 10)]             0         []                            \n",
            "                                                                                                  \n",
            " dense_13 (Dense)            (None, 10, 10)               1010      ['dense_12[0][0]']            \n",
            "                                                                                                  \n",
            " concatenate_1 (Concatenate  (None, 10, 20)               0         ['input_1[0][0]',             \n",
            " )                                                                   'dense_13[0][0]']            \n",
            "                                                                                                  \n",
            " output (Dense)              (None, 10, 1)                21        ['concatenate_1[0][0]']       \n",
            "                                                                                                  \n",
            "==================================================================================================\n",
            "Total params: 3931 (15.36 KB)\n",
            "Trainable params: 3931 (15.36 KB)\n",
            "Non-trainable params: 0 (0.00 Byte)\n",
            "__________________________________________________________________________________________________\n"
          ]
        }
      ],
      "source": [
        "model.summary()"
      ]
    },
    {
      "cell_type": "code",
      "execution_count": 40,
      "metadata": {
        "id": "nfxZETTvx6zE"
      },
      "outputs": [
        {
          "data": {
            "image/png": "[encoded data removed]",
            "text/plain": [
              "<IPython.core.display.Image object>"
            ]
          },
          "execution_count": 40,
          "metadata": {},
          "output_type": "execute_result"
        }
      ],
      "source": [
        "plot_model(model)"
      ]
    },
    {
      "cell_type": "code",
      "execution_count": 41,
      "metadata": {
        "id": "xkJlrolMKD6B"
      },
      "outputs": [
        {
          "data": {
            "image/png": "[encoded data removed]",
            "text/plain": [
              "<IPython.core.display.Image object>"
            ]
          },
          "execution_count": 41,
          "metadata": {},
          "output_type": "execute_result"
        }
      ],
      "source": [
        "plot_model(model, to_file=\"model5.png\")"
      ]
    },
    {
      "cell_type": "code",
      "execution_count": 42,
      "metadata": {
        "id": "qGorWfShzuYS"
      },
      "outputs": [],
      "source": [
        "input_ = Input(shape=(10, 10), name=\"input_\")\n",
        "\n",
        "hidden1 = Dense(100, activation=\"relu\")(input_)\n",
        "hidden2 = Dense(10, activation=\"relu\")(hidden1)\n",
        "\n",
        "output = Dense(1, activation=\"sigmoid\", name=\"main_output\")(hidden2)\n",
        "sub_out = Dense(1, name=\"sub_output\")(hidden2)\n",
        "\n",
        "model = Model(inputs=input_, outputs=[output, sub_out])"
      ]
    },
    {
      "cell_type": "code",
      "execution_count": 43,
      "metadata": {
        "id": "r-VZlGGczugL"
      },
      "outputs": [
        {
          "name": "stdout",
          "output_type": "stream",
          "text": [
            "Model: \"model_4\"\n",
            "__________________________________________________________________________________________________\n",
            " Layer (type)                Output Shape                 Param #   Connected to                  \n",
            "==================================================================================================\n",
            " input_ (InputLayer)         [(None, 10, 10)]             0         []                            \n",
            "                                                                                                  \n",
            " dense_14 (Dense)            (None, 10, 100)              1100      ['input_[0][0]']              \n",
            "                                                                                                  \n",
            " dense_15 (Dense)            (None, 10, 10)               1010      ['dense_14[0][0]']            \n",
            "                                                                                                  \n",
            " main_output (Dense)         (None, 10, 1)                11        ['dense_15[0][0]']            \n",
            "                                                                                                  \n",
            " sub_output (Dense)          (None, 10, 1)                11        ['dense_15[0][0]']            \n",
            "                                                                                                  \n",
            "==================================================================================================\n",
            "Total params: 2132 (8.33 KB)\n",
            "Trainable params: 2132 (8.33 KB)\n",
            "Non-trainable params: 0 (0.00 Byte)\n",
            "__________________________________________________________________________________________________\n"
          ]
        }
      ],
      "source": [
        "model.summary()"
      ]
    },
    {
      "cell_type": "code",
      "execution_count": 44,
      "metadata": {
        "id": "VWiRsHIB0ROK"
      },
      "outputs": [
        {
          "data": {
            "image/png": "[encoded data removed]",
            "text/plain": [
              "<IPython.core.display.Image object>"
            ]
          },
          "execution_count": 44,
          "metadata": {},
          "output_type": "execute_result"
        }
      ],
      "source": [
        "plot_model(model)"
      ]
    },
    {
      "cell_type": "code",
      "execution_count": 45,
      "metadata": {
        "id": "121rkvNOKF43"
      },
      "outputs": [
        {
          "data": {
            "image/png": "[encoded data removed]",
            "text/plain": [
              "<IPython.core.display.Image object>"
            ]
          },
          "execution_count": 45,
          "metadata": {},
          "output_type": "execute_result"
        }
      ],
      "source": [
        "plot_model(model, to_file=\"model6.png\")"
      ]
    },
    {
      "cell_type": "code",
      "execution_count": 46,
      "metadata": {
        "id": "i31xM7skx6xD"
      },
      "outputs": [],
      "source": [
        "input_1 = Input(shape=(10, 10), name=\"input_1\")\n",
        "input_2 = Input(shape=(10, 28), name=\"input_2\")\n",
        "\n",
        "hidden1 = Dense(100, activation=\"relu\")(input_2)\n",
        "hidden2 = Dense(10, activation=\"relu\")(hidden1)\n",
        "concat = Concatenate()([input_1, hidden2])\n",
        "output = Dense(1, activation=\"sigmoid\", name=\"main_output\")(concat)\n",
        "sub_out = Dense(1, name=\"sub_output\")(hidden2)\n",
        "\n",
        "model = Model(inputs=[input_1, input_2], outputs=[output, sub_out])"
      ]
    },
    {
      "cell_type": "code",
      "execution_count": 47,
      "metadata": {
        "id": "tmD5BP2izGQJ"
      },
      "outputs": [
        {
          "name": "stdout",
          "output_type": "stream",
          "text": [
            "Model: \"model_5\"\n",
            "__________________________________________________________________________________________________\n",
            " Layer (type)                Output Shape                 Param #   Connected to                  \n",
            "==================================================================================================\n",
            " input_2 (InputLayer)        [(None, 10, 28)]             0         []                            \n",
            "                                                                                                  \n",
            " dense_16 (Dense)            (None, 10, 100)              2900      ['input_2[0][0]']             \n",
            "                                                                                                  \n",
            " input_1 (InputLayer)        [(None, 10, 10)]             0         []                            \n",
            "                                                                                                  \n",
            " dense_17 (Dense)            (None, 10, 10)               1010      ['dense_16[0][0]']            \n",
            "                                                                                                  \n",
            " concatenate_2 (Concatenate  (None, 10, 20)               0         ['input_1[0][0]',             \n",
            " )                                                                   'dense_17[0][0]']            \n",
            "                                                                                                  \n",
            " main_output (Dense)         (None, 10, 1)                21        ['concatenate_2[0][0]']       \n",
            "                                                                                                  \n",
            " sub_output (Dense)          (None, 10, 1)                11        ['dense_17[0][0]']            \n",
            "                                                                                                  \n",
            "==================================================================================================\n",
            "Total params: 3942 (15.40 KB)\n",
            "Trainable params: 3942 (15.40 KB)\n",
            "Non-trainable params: 0 (0.00 Byte)\n",
            "__________________________________________________________________________________________________\n"
          ]
        }
      ],
      "source": [
        "model.summary()"
      ]
    },
    {
      "cell_type": "code",
      "execution_count": 48,
      "metadata": {
        "id": "0UjQwGT-x6Bo"
      },
      "outputs": [
        {
          "data": {
            "image/png": "[encoded data removed]",
            "text/plain": [
              "<IPython.core.display.Image object>"
            ]
          },
          "execution_count": 48,
          "metadata": {},
          "output_type": "execute_result"
        }
      ],
      "source": [
        "plot_model(model)"
      ]
    },
    {
      "cell_type": "code",
      "execution_count": 49,
      "metadata": {
        "id": "QpuecYvrKH_i"
      },
      "outputs": [
        {
          "data": {
            "image/png": "[encoded data removed]",
            "text/plain": [
              "<IPython.core.display.Image object>"
            ]
          },
          "execution_count": 49,
          "metadata": {},
          "output_type": "execute_result"
        }
      ],
      "source": [
        "plot_model(model, to_file=\"model7.png\")"
      ]
    },
    {
      "cell_type": "markdown",
      "metadata": {
        "id": "MRQUHfuHmW9a"
      },
      "source": [
        "### 서브클래싱(Subclassing)\n",
        "- 커스터마이징에 최적화된 방법\n",
        "\n",
        "- Model 클래스를 상속받아 Model이 포함하는 기능을 사용할 수 있음  \n",
        "  - `fit()`, `evaluate()`, `predict()`\n",
        "  - `save()`, `load()`\n",
        "\n",
        "- 주로 `call()` 메소드안에서 원하는 계산 가능\n",
        "  - for, if, 저수준 연산 등\n",
        "\n",
        "- 권장되는 방법은 아니지만 어떤 모델의 구현 코드를 참고할 때  \n",
        "  해석할 수 있어야함"
      ]
    },
    {
      "cell_type": "code",
      "execution_count": 50,
      "metadata": {
        "id": "J8edl37Ylv7h"
      },
      "outputs": [],
      "source": [
        "class MyModel(Model):\n",
        "    def __init__(self, units=30, activation=\"relu\", **kwargs):\n",
        "        super(MyModel, self).__init__(**kwargs)\n",
        "\n",
        "        self.dense_layer1 = Dense(300, activation=activation)\n",
        "        self.dense_layer2 = Dense(100, activation=activation)\n",
        "        self.dense_layer3 = Dense(units, activation=activation)\n",
        "\n",
        "        self.output_layer = Dense(10, activation=\"softmax\")\n",
        "\n",
        "    def call(self, inputs):\n",
        "        x = self.dense_layer1(inputs)\n",
        "        x = self.dense_layer2(x)\n",
        "        x = self.dense_layer3(x)\n",
        "        x = self.output_layer(x)\n",
        "\n",
        "        return x"
      ]
    },
    {
      "cell_type": "markdown",
      "metadata": {
        "id": "a8TkTb9x6_KI"
      },
      "source": [
        "## 모델 가중치 확인"
      ]
    },
    {
      "cell_type": "code",
      "execution_count": 51,
      "metadata": {
        "id": "HLgHWRTv7D2L"
      },
      "outputs": [],
      "source": [
        "inputs = Input(shape=(28, 28, 1))\n",
        "\n",
        "x = Flatten(input_shape=(28, 28, 1))(inputs)\n",
        "x = Dense(300, activation=\"relu\")(x)\n",
        "x = Dense(100, activation=\"relu\")(x)\n",
        "x = Dense(10, activation=\"softmax\")(x)\n",
        "\n",
        "model = Model(inputs=inputs, outputs=x)"
      ]
    },
    {
      "cell_type": "code",
      "execution_count": 52,
      "metadata": {
        "id": "b_34PqiU7Dvz"
      },
      "outputs": [
        {
          "name": "stdout",
          "output_type": "stream",
          "text": [
            "Model: \"model_6\"\n",
            "_________________________________________________________________\n",
            " Layer (type)                Output Shape              Param #   \n",
            "=================================================================\n",
            " input_7 (InputLayer)        [(None, 28, 28, 1)]       0         \n",
            "                                                                 \n",
            " flatten_3 (Flatten)         (None, 784)               0         \n",
            "                                                                 \n",
            " dense_18 (Dense)            (None, 300)               235500    \n",
            "                                                                 \n",
            " dense_19 (Dense)            (None, 100)               30100     \n",
            "                                                                 \n",
            " dense_20 (Dense)            (None, 10)                1010      \n",
            "                                                                 \n",
            "=================================================================\n",
            "Total params: 266610 (1.02 MB)\n",
            "Trainable params: 266610 (1.02 MB)\n",
            "Non-trainable params: 0 (0.00 Byte)\n",
            "_________________________________________________________________\n"
          ]
        }
      ],
      "source": [
        "model.summary()"
      ]
    },
    {
      "cell_type": "markdown",
      "metadata": {
        "id": "KK-5msf3qRo0"
      },
      "source": [
        "모델의 레이어들이 리스트로 표현됨\n"
      ]
    },
    {
      "cell_type": "code",
      "execution_count": 53,
      "metadata": {
        "id": "Tf2F-J8vpi49"
      },
      "outputs": [
        {
          "data": {
            "text/plain": [
              "[<keras.src.engine.input_layer.InputLayer at 0x2af9caa1550>,\n",
              " <keras.src.layers.reshaping.flatten.Flatten at 0x2af9cbf2b90>,\n",
              " <keras.src.layers.core.dense.Dense at 0x2af9cc3fa10>,\n",
              " <keras.src.layers.core.dense.Dense at 0x2af9ca8e810>,\n",
              " <keras.src.layers.core.dense.Dense at 0x2af9ca0f450>]"
            ]
          },
          "execution_count": 53,
          "metadata": {},
          "output_type": "execute_result"
        }
      ],
      "source": [
        "model.layers"
      ]
    },
    {
      "cell_type": "code",
      "execution_count": 54,
      "metadata": {
        "id": "-aHbATTApi0h"
      },
      "outputs": [
        {
          "data": {
            "text/plain": [
              "'dense_18'"
            ]
          },
          "execution_count": 54,
          "metadata": {},
          "output_type": "execute_result"
        }
      ],
      "source": [
        "hidden_2 = model.layers[2]\n",
        "\n",
        "hidden_2.name"
      ]
    },
    {
      "cell_type": "markdown",
      "metadata": {
        "id": "t1DREsBb5iJE"
      },
      "source": [
        "위의 layer name 참고"
      ]
    },
    {
      "cell_type": "code",
      "execution_count": 55,
      "metadata": {
        "id": "nCrffB2wqNW8"
      },
      "outputs": [
        {
          "data": {
            "text/plain": [
              "True"
            ]
          },
          "execution_count": 55,
          "metadata": {},
          "output_type": "execute_result"
        }
      ],
      "source": [
        "model.get_layer(\"dense_18\") is hidden_2"
      ]
    },
    {
      "cell_type": "code",
      "execution_count": 56,
      "metadata": {
        "id": "OJGopmDxqcO1"
      },
      "outputs": [],
      "source": [
        "weights, biases = hidden_2.get_weights()"
      ]
    },
    {
      "cell_type": "code",
      "execution_count": 57,
      "metadata": {
        "id": "j7zkvduWqhhw"
      },
      "outputs": [
        {
          "data": {
            "text/plain": [
              "array([[-0.02177765, -0.06186969,  0.07386082, ..., -0.06253044,\n",
              "        -0.04587685,  0.06262556],\n",
              "       [ 0.05396713, -0.06480435,  0.01286715, ...,  0.00078408,\n",
              "         0.00598356,  0.00306104],\n",
              "       [ 0.00284983, -0.07152566, -0.0310308 , ...,  0.06327902,\n",
              "        -0.02413228,  0.04017695],\n",
              "       ...,\n",
              "       [ 0.02625882,  0.02771801, -0.05228371, ...,  0.00469068,\n",
              "        -0.00439611,  0.0155948 ],\n",
              "       [-0.00439716, -0.01444988, -0.0112795 , ...,  0.05952707,\n",
              "        -0.01162596, -0.06780672],\n",
              "       [ 0.05648929,  0.01394078,  0.01215588, ..., -0.04030083,\n",
              "        -0.06173399, -0.06290265]], dtype=float32)"
            ]
          },
          "execution_count": 57,
          "metadata": {},
          "output_type": "execute_result"
        }
      ],
      "source": [
        "weights"
      ]
    },
    {
      "cell_type": "code",
      "execution_count": 58,
      "metadata": {
        "id": "jZsI7ExUqhcH"
      },
      "outputs": [
        {
          "data": {
            "text/plain": [
              "array([0., 0., 0., 0., 0., 0., 0., 0., 0., 0., 0., 0., 0., 0., 0., 0., 0.,\n",
              "       0., 0., 0., 0., 0., 0., 0., 0., 0., 0., 0., 0., 0., 0., 0., 0., 0.,\n",
              "       0., 0., 0., 0., 0., 0., 0., 0., 0., 0., 0., 0., 0., 0., 0., 0., 0.,\n",
              "       0., 0., 0., 0., 0., 0., 0., 0., 0., 0., 0., 0., 0., 0., 0., 0., 0.,\n",
              "       0., 0., 0., 0., 0., 0., 0., 0., 0., 0., 0., 0., 0., 0., 0., 0., 0.,\n",
              "       0., 0., 0., 0., 0., 0., 0., 0., 0., 0., 0., 0., 0., 0., 0., 0., 0.,\n",
              "       0., 0., 0., 0., 0., 0., 0., 0., 0., 0., 0., 0., 0., 0., 0., 0., 0.,\n",
              "       0., 0., 0., 0., 0., 0., 0., 0., 0., 0., 0., 0., 0., 0., 0., 0., 0.,\n",
              "       0., 0., 0., 0., 0., 0., 0., 0., 0., 0., 0., 0., 0., 0., 0., 0., 0.,\n",
              "       0., 0., 0., 0., 0., 0., 0., 0., 0., 0., 0., 0., 0., 0., 0., 0., 0.,\n",
              "       0., 0., 0., 0., 0., 0., 0., 0., 0., 0., 0., 0., 0., 0., 0., 0., 0.,\n",
              "       0., 0., 0., 0., 0., 0., 0., 0., 0., 0., 0., 0., 0., 0., 0., 0., 0.,\n",
              "       0., 0., 0., 0., 0., 0., 0., 0., 0., 0., 0., 0., 0., 0., 0., 0., 0.,\n",
              "       0., 0., 0., 0., 0., 0., 0., 0., 0., 0., 0., 0., 0., 0., 0., 0., 0.,\n",
              "       0., 0., 0., 0., 0., 0., 0., 0., 0., 0., 0., 0., 0., 0., 0., 0., 0.,\n",
              "       0., 0., 0., 0., 0., 0., 0., 0., 0., 0., 0., 0., 0., 0., 0., 0., 0.,\n",
              "       0., 0., 0., 0., 0., 0., 0., 0., 0., 0., 0., 0., 0., 0., 0., 0., 0.,\n",
              "       0., 0., 0., 0., 0., 0., 0., 0., 0., 0., 0.], dtype=float32)"
            ]
          },
          "execution_count": 58,
          "metadata": {},
          "output_type": "execute_result"
        }
      ],
      "source": [
        "biases"
      ]
    },
    {
      "cell_type": "code",
      "execution_count": 59,
      "metadata": {
        "id": "yS8ljwRlqkMc"
      },
      "outputs": [
        {
          "name": "stdout",
          "output_type": "stream",
          "text": [
            "(784, 300)\n",
            "(300,)\n"
          ]
        }
      ],
      "source": [
        "print(weights.shape)\n",
        "print(biases.shape)"
      ]
    },
    {
      "cell_type": "markdown",
      "metadata": {
        "id": "PTFFAcfb2DSF"
      },
      "source": [
        "## 모델 컴파일(compile)\n",
        "\n",
        "- 모델을 구성한 후, 사용할 손실함수(loss), 옵티마이저(optimizer)를 지정\n"
      ]
    },
    {
      "cell_type": "code",
      "execution_count": 60,
      "metadata": {
        "id": "jp4t9-iF2xpN"
      },
      "outputs": [],
      "source": [
        "model.compile(loss=\"sparse_categorical_crossentropy\", optimizer=\"sgd\", metrics=[\"accuracy\"])"
      ]
    },
    {
      "cell_type": "markdown",
      "metadata": {
        "id": "a8Y5B43W3EmY"
      },
      "source": [
        "### 참고1\n",
        "\n",
        "#### loss\n",
        "- `keras.losses.sparse_categorical_crossentropy` 등과 같이 지정 가능\n",
        "  - `sparse_categorical_crossentropy`  \n",
        "    클래스가 배타적, 즉 MNIST 예제에서 (0, 1, 2, ..., 9)와 같은 방식으로 구분되어 있을 때 사용\n",
        "\n",
        "  - `categorical_cross_entropy`\n",
        "    클래스가 원-핫 인코딩 방식으로 되어 있을 때 사용\n",
        "\n",
        "  - `binary_crossentropy`\n",
        "  이진 분류를 수행할 때 사용\n",
        "\n",
        "\n",
        "#### optimizer\n",
        "- `keras.optimizer.SGD()` 등과 같이 사용 가능\n",
        "  - 보통 옵티마이저의 튜닝을 위해 따로 객체를 생성하여 컴파일    \n",
        "        optimizer = keras.optimizer.SGD(learning_rate=1e-5)  \n",
        "        model.compile(...,\n",
        "                      optimizer=optimzer,\n",
        "                      ...)\n",
        "\n",
        "- `keras.optimizer.Adam()` 도 많이 사용\n",
        "\n",
        "#### metrics\n",
        "- 모니터링할 지표\n",
        "\n",
        "- 주로 'accuracy', 'acc'로도 가능\n"
      ]
    },
    {
      "cell_type": "markdown",
      "metadata": {
        "id": "8k7z79M1Kv-x"
      },
      "source": [
        "### 참고2 - 컴파일 설정 예시\n",
        "- 평균 제곱 오차 회귀 문제  \n",
        "      model.compile(loss = 'mse',  \n",
        "                    optimizer = RMSprop(),  \n",
        "                    metrics=['mae'])\n",
        "\n",
        "- 이진 분류\n",
        "      model.compile(loss = 'binary_crossentropy',  \n",
        "                    optimizer = RMSprop(),  \n",
        "                    metrics=['accuracy'])\n",
        "\n",
        "\n",
        "\n",
        "- 다항 분류\n",
        "      model.compile(loss = 'categorical_crossentropy',  \n",
        "                    optimizer = RMSprop(),  \n",
        "                    metrics=['accuracy'])\n",
        "\n"
      ]
    },
    {
      "cell_type": "markdown",
      "metadata": {
        "id": "hKAtKRop3AvE"
      },
      "source": [
        "## 모델 훈련, 평가 및 예측\n",
        "- `fit()` 함수\n",
        "\n",
        "  - train_data(학습 데이터), train_label(데이터의 정답)\n",
        "  \n",
        "  - epochs\n",
        "  \n",
        "  - batch_size\n",
        "  \n",
        "  - validation_data\n",
        "\n",
        "- `evaluate()` 함수\n",
        "  - 테스트 데이터\n",
        "\n",
        "\n",
        "- `predict()`\n",
        "  임의의 데이터를 인자로 넣어 예측 가능"
      ]
    },
    {
      "cell_type": "markdown",
      "metadata": {
        "id": "WDPKNEsm2qTQ"
      },
      "source": [
        "## MNIST 예제를 통해 모델 구성하기\n",
        "\n",
        "- keras.datasets 에 포함되어 있는 데이터셋\n",
        "\n",
        "  <img src=\"https://storage.googleapis.com/tfds-data/visualization/fig/mnist-3.0.1.png\" width=\"400\">\n",
        "\n",
        "  <sub>출처: https://www.tensorflow.org/datasets/catalog/mnist</sub>"
      ]
    },
    {
      "cell_type": "markdown",
      "metadata": {
        "id": "Q1CMnkAQGvYE"
      },
      "source": [
        "### modules import"
      ]
    },
    {
      "cell_type": "code",
      "execution_count": 61,
      "metadata": {
        "id": "1AKwa2VeGxqf"
      },
      "outputs": [],
      "source": [
        "import tensorflow as tf\n",
        "import tensorflow.keras as keras\n",
        "from keras.datasets.mnist import load_data\n",
        "from keras.models import Sequential\n",
        "from keras import models\n",
        "from keras.layers import Dense, Input, Flatten\n",
        "from keras.utils import to_categorical\n",
        "from keras.utils import plot_model\n",
        "\n",
        "from sklearn.model_selection import train_test_split\n",
        "import numpy as np\n",
        "import matplotlib.pyplot as plt"
      ]
    },
    {
      "cell_type": "markdown",
      "metadata": {
        "id": "vEJBVkwzGpsX"
      },
      "source": [
        "### 데이터셋 로드\n",
        "- MNIST 데이터셋을 로드\n",
        "\n",
        "- Train Data 중, 30%를 검증 데이터(valiation data)로 사용\n"
      ]
    },
    {
      "cell_type": "code",
      "execution_count": 62,
      "metadata": {
        "id": "_OGqRrXg2URI"
      },
      "outputs": [],
      "source": [
        "tf.random.set_seed(111)\n",
        "\n",
        "(x_train_full, y_train_full), (x_test, y_test) = load_data(path=\"mnist.npz\")\n",
        "\n",
        "x_train, x_val, y_train, y_val = train_test_split(x_train_full, y_train_full, test_size=0.3, random_state=111)"
      ]
    },
    {
      "cell_type": "markdown",
      "metadata": {
        "id": "Vyci_3GlH52j"
      },
      "source": [
        "### 데이터 확인"
      ]
    },
    {
      "cell_type": "code",
      "execution_count": 63,
      "metadata": {
        "id": "xYDatr9Q2UsB"
      },
      "outputs": [],
      "source": [
        "num_x_train = (x_train.shape[0])\n",
        "num_x_val = (x_val.shape[0])\n",
        "num_x_test = (x_test.shape[0])"
      ]
    },
    {
      "cell_type": "code",
      "execution_count": 64,
      "metadata": {
        "id": "uqff0qU_2VRV"
      },
      "outputs": [
        {
          "name": "stdout",
          "output_type": "stream",
          "text": [
            "Train data: (60000, 28, 28)\tLabel: (60000,)\n",
            "Train data: (42000, 28, 28)\tLabel: (42000,)\n",
            "Validation data: (18000, 28, 28)\tLabel: (18000,)\n",
            "Test data: (10000, 28, 28)\tLabel: (10000,)\n"
          ]
        }
      ],
      "source": [
        "print(f\"Train data: {x_train_full.shape}\\tLabel: {y_train_full.shape}\")\n",
        "print(f\"Train data: {x_train.shape}\\tLabel: {y_train.shape}\")\n",
        "print(f\"Validation data: {x_val.shape}\\tLabel: {y_val.shape}\")\n",
        "print(f\"Test data: {x_test.shape}\\tLabel: {y_test.shape}\")"
      ]
    },
    {
      "cell_type": "code",
      "execution_count": 65,
      "metadata": {
        "id": "OPlhbVEJ2VNs"
      },
      "outputs": [
        {
          "data": {
            "image/png": "[encoded data removed]",
            "text/plain": [
              "<Figure size 1400x800 with 5 Axes>"
            ]
          },
          "metadata": {},
          "output_type": "display_data"
        }
      ],
      "source": [
        "num_sample = 5\n",
        "random_idxs = np.random.randint(60000, size=num_sample)\n",
        "\n",
        "plt.figure(figsize=(14, 8))\n",
        "for i, idx in enumerate(random_idxs):\n",
        "    img = x_train_full[idx, :, :]\n",
        "    label = y_train_full[idx]\n",
        "\n",
        "    plt.subplot(1, num_sample + 1, i + 1) \n",
        "    plt.imshow(img)\n",
        "    plt.title(f\"Index: {idx}, Label: {label}\")"
      ]
    },
    {
      "cell_type": "code",
      "execution_count": 66,
      "metadata": {
        "id": "I0aqzgMM2VKg"
      },
      "outputs": [
        {
          "data": {
            "text/plain": [
              "8"
            ]
          },
          "execution_count": 66,
          "metadata": {},
          "output_type": "execute_result"
        }
      ],
      "source": [
        "y_train[0]"
      ]
    },
    {
      "cell_type": "markdown",
      "metadata": {
        "id": "Du5KAU8COICG"
      },
      "source": [
        "### 데이터 전처리\n",
        "- Normalization"
      ]
    },
    {
      "cell_type": "code",
      "execution_count": 67,
      "metadata": {
        "id": "CMvKiV6POJaR"
      },
      "outputs": [],
      "source": [
        "x_train = x_train / 255\n",
        "x_val = x_val / 255\n",
        "x_test = x_test / 255"
      ]
    },
    {
      "cell_type": "code",
      "execution_count": 68,
      "metadata": {
        "id": "bMuBGKWxP7DM"
      },
      "outputs": [],
      "source": [
        "y_train = to_categorical(y_train)\n",
        "y_val = to_categorical(y_val)\n",
        "y_test = to_categorical(y_test)"
      ]
    },
    {
      "cell_type": "markdown",
      "metadata": {
        "id": "S9ke94boKfre"
      },
      "source": [
        "### 모델 구성 (Sequential)"
      ]
    },
    {
      "cell_type": "code",
      "execution_count": 69,
      "metadata": {
        "id": "ZBfX4bt52UoZ"
      },
      "outputs": [],
      "source": [
        "model = Sequential([\n",
        "    Input(shape=[28, 28], name=\"input\"),\n",
        "    Flatten(input_shape=[28, 28], name=\"flatten\"),\n",
        "    Dense(100, activation=\"relu\", name=\"dense1\"),\n",
        "    Dense(64, activation=\"relu\", name=\"dense2\"),\n",
        "    Dense(32, activation=\"relu\", name=\"dense3\"),\n",
        "    Dense(10, activation=\"softmax\", name=\"output\"),\n",
        "])"
      ]
    },
    {
      "cell_type": "code",
      "execution_count": 70,
      "metadata": {
        "id": "QYsY9ghjO0RW"
      },
      "outputs": [
        {
          "name": "stdout",
          "output_type": "stream",
          "text": [
            "Model: \"sequential_3\"\n",
            "_________________________________________________________________\n",
            " Layer (type)                Output Shape              Param #   \n",
            "=================================================================\n",
            " flatten (Flatten)           (None, 784)               0         \n",
            "                                                                 \n",
            " dense1 (Dense)              (None, 100)               78500     \n",
            "                                                                 \n",
            " dense2 (Dense)              (None, 64)                6464      \n",
            "                                                                 \n",
            " dense3 (Dense)              (None, 32)                2080      \n",
            "                                                                 \n",
            " output (Dense)              (None, 10)                330       \n",
            "                                                                 \n",
            "=================================================================\n",
            "Total params: 87374 (341.30 KB)\n",
            "Trainable params: 87374 (341.30 KB)\n",
            "Non-trainable params: 0 (0.00 Byte)\n",
            "_________________________________________________________________\n"
          ]
        }
      ],
      "source": [
        "model.summary()"
      ]
    },
    {
      "cell_type": "code",
      "execution_count": 71,
      "metadata": {
        "id": "zE-EHHkK2UMG"
      },
      "outputs": [
        {
          "data": {
            "image/png": "[encoded data removed]",
            "text/plain": [
              "<IPython.core.display.Image object>"
            ]
          },
          "execution_count": 71,
          "metadata": {},
          "output_type": "execute_result"
        }
      ],
      "source": [
        "plot_model(model)"
      ]
    },
    {
      "cell_type": "code",
      "execution_count": 72,
      "metadata": {
        "id": "KW7h-7mR26Xf"
      },
      "outputs": [
        {
          "data": {
            "image/png": "[encoded data removed]",
            "text/plain": [
              "<IPython.core.display.Image object>"
            ]
          },
          "execution_count": 72,
          "metadata": {},
          "output_type": "execute_result"
        }
      ],
      "source": [
        "plot_model(model, show_shapes=True)"
      ]
    },
    {
      "cell_type": "markdown",
      "metadata": {
        "id": "ttXdLuQsQE_k"
      },
      "source": [
        "### 모델 컴파일"
      ]
    },
    {
      "cell_type": "code",
      "execution_count": 73,
      "metadata": {
        "id": "EXld9Ehd2UJW"
      },
      "outputs": [],
      "source": [
        "model.compile(\n",
        "    loss=\"categorical_crossentropy\",\n",
        "    optimizer=tf.optimizers.SGD(),\n",
        "    metrics=[\"accuracy\"]\n",
        ")"
      ]
    },
    {
      "cell_type": "markdown",
      "metadata": {
        "id": "TeRlwrsNQUP_"
      },
      "source": [
        "### 모델 학습\n",
        "- 모델 시각화를 위해 history라는 변수에 학습 과정을 담음"
      ]
    },
    {
      "cell_type": "code",
      "execution_count": 74,
      "metadata": {
        "id": "5TaYebESQT0X"
      },
      "outputs": [
        {
          "name": "stdout",
          "output_type": "stream",
          "text": [
            "Epoch 1/200\n",
            "329/329 [==============================] - 1s 3ms/step - loss: 1.8871 - accuracy: 0.4367 - val_loss: 1.2475 - val_accuracy: 0.7391\n",
            "Epoch 2/200\n",
            "329/329 [==============================] - 1s 2ms/step - loss: 0.8132 - accuracy: 0.8055 - val_loss: 0.5808 - val_accuracy: 0.8424\n",
            "Epoch 3/200\n",
            "329/329 [==============================] - 1s 2ms/step - loss: 0.4831 - accuracy: 0.8681 - val_loss: 0.4269 - val_accuracy: 0.8769\n",
            "Epoch 4/200\n",
            "329/329 [==============================] - 1s 2ms/step - loss: 0.3928 - accuracy: 0.8888 - val_loss: 0.3707 - val_accuracy: 0.8932\n",
            "Epoch 5/200\n",
            "329/329 [==============================] - 1s 2ms/step - loss: 0.3494 - accuracy: 0.9007 - val_loss: 0.3399 - val_accuracy: 0.8993\n",
            "Epoch 6/200\n",
            "329/329 [==============================] - 1s 2ms/step - loss: 0.3212 - accuracy: 0.9083 - val_loss: 0.3234 - val_accuracy: 0.9035\n",
            "Epoch 7/200\n",
            "329/329 [==============================] - 1s 2ms/step - loss: 0.3000 - accuracy: 0.9136 - val_loss: 0.3300 - val_accuracy: 0.9011\n",
            "Epoch 8/200\n",
            "329/329 [==============================] - 1s 2ms/step - loss: 0.2828 - accuracy: 0.9184 - val_loss: 0.2787 - val_accuracy: 0.9173\n",
            "Epoch 9/200\n",
            "329/329 [==============================] - 1s 2ms/step - loss: 0.2680 - accuracy: 0.9233 - val_loss: 0.2784 - val_accuracy: 0.9181\n",
            "Epoch 10/200\n",
            "329/329 [==============================] - 1s 2ms/step - loss: 0.2554 - accuracy: 0.9267 - val_loss: 0.2597 - val_accuracy: 0.9231\n",
            "Epoch 11/200\n",
            "329/329 [==============================] - 1s 2ms/step - loss: 0.2441 - accuracy: 0.9299 - val_loss: 0.2470 - val_accuracy: 0.9275\n",
            "Epoch 12/200\n",
            "329/329 [==============================] - 1s 2ms/step - loss: 0.2339 - accuracy: 0.9333 - val_loss: 0.2854 - val_accuracy: 0.9137\n",
            "Epoch 13/200\n",
            "329/329 [==============================] - 1s 2ms/step - loss: 0.2248 - accuracy: 0.9364 - val_loss: 0.2303 - val_accuracy: 0.9328\n",
            "Epoch 14/200\n",
            "329/329 [==============================] - 1s 2ms/step - loss: 0.2161 - accuracy: 0.9386 - val_loss: 0.2265 - val_accuracy: 0.9337\n",
            "Epoch 15/200\n",
            "329/329 [==============================] - 1s 2ms/step - loss: 0.2080 - accuracy: 0.9408 - val_loss: 0.2292 - val_accuracy: 0.9319\n",
            "Epoch 16/200\n",
            "329/329 [==============================] - 1s 2ms/step - loss: 0.2011 - accuracy: 0.9428 - val_loss: 0.2219 - val_accuracy: 0.9354\n",
            "Epoch 17/200\n",
            "329/329 [==============================] - 1s 2ms/step - loss: 0.1937 - accuracy: 0.9447 - val_loss: 0.2119 - val_accuracy: 0.9404\n",
            "Epoch 18/200\n",
            "329/329 [==============================] - 1s 2ms/step - loss: 0.1869 - accuracy: 0.9464 - val_loss: 0.2122 - val_accuracy: 0.9386\n",
            "Epoch 19/200\n",
            "329/329 [==============================] - 1s 2ms/step - loss: 0.1808 - accuracy: 0.9483 - val_loss: 0.1981 - val_accuracy: 0.9414\n",
            "Epoch 20/200\n",
            "329/329 [==============================] - 1s 2ms/step - loss: 0.1746 - accuracy: 0.9502 - val_loss: 0.2682 - val_accuracy: 0.9196\n",
            "Epoch 21/200\n",
            "329/329 [==============================] - 1s 2ms/step - loss: 0.1698 - accuracy: 0.9513 - val_loss: 0.1848 - val_accuracy: 0.9454\n",
            "Epoch 22/200\n",
            "329/329 [==============================] - 1s 2ms/step - loss: 0.1639 - accuracy: 0.9530 - val_loss: 0.1899 - val_accuracy: 0.9433\n",
            "Epoch 23/200\n",
            "329/329 [==============================] - 1s 2ms/step - loss: 0.1592 - accuracy: 0.9542 - val_loss: 0.1760 - val_accuracy: 0.9493\n",
            "Epoch 24/200\n",
            "329/329 [==============================] - 1s 2ms/step - loss: 0.1540 - accuracy: 0.9560 - val_loss: 0.1838 - val_accuracy: 0.9456\n",
            "Epoch 25/200\n",
            "329/329 [==============================] - 1s 2ms/step - loss: 0.1500 - accuracy: 0.9575 - val_loss: 0.1702 - val_accuracy: 0.9498\n",
            "Epoch 26/200\n",
            "329/329 [==============================] - 1s 2ms/step - loss: 0.1452 - accuracy: 0.9584 - val_loss: 0.1665 - val_accuracy: 0.9516\n",
            "Epoch 27/200\n",
            "329/329 [==============================] - 1s 2ms/step - loss: 0.1412 - accuracy: 0.9595 - val_loss: 0.1622 - val_accuracy: 0.9522\n",
            "Epoch 28/200\n",
            "329/329 [==============================] - 1s 2ms/step - loss: 0.1376 - accuracy: 0.9605 - val_loss: 0.1604 - val_accuracy: 0.9534\n",
            "Epoch 29/200\n",
            "329/329 [==============================] - 1s 2ms/step - loss: 0.1335 - accuracy: 0.9616 - val_loss: 0.1646 - val_accuracy: 0.9534\n",
            "Epoch 30/200\n",
            "329/329 [==============================] - 1s 2ms/step - loss: 0.1300 - accuracy: 0.9623 - val_loss: 0.1548 - val_accuracy: 0.9546\n",
            "Epoch 31/200\n",
            "329/329 [==============================] - 1s 2ms/step - loss: 0.1263 - accuracy: 0.9634 - val_loss: 0.1524 - val_accuracy: 0.9556\n",
            "Epoch 32/200\n",
            "329/329 [==============================] - 1s 2ms/step - loss: 0.1233 - accuracy: 0.9645 - val_loss: 0.1511 - val_accuracy: 0.9563\n",
            "Epoch 33/200\n",
            "329/329 [==============================] - 1s 2ms/step - loss: 0.1200 - accuracy: 0.9657 - val_loss: 0.1485 - val_accuracy: 0.9569\n",
            "Epoch 34/200\n",
            "329/329 [==============================] - 1s 2ms/step - loss: 0.1171 - accuracy: 0.9662 - val_loss: 0.1492 - val_accuracy: 0.9569\n",
            "Epoch 35/200\n",
            "329/329 [==============================] - 1s 2ms/step - loss: 0.1138 - accuracy: 0.9673 - val_loss: 0.1443 - val_accuracy: 0.9581\n",
            "Epoch 36/200\n",
            "329/329 [==============================] - 1s 2ms/step - loss: 0.1111 - accuracy: 0.9683 - val_loss: 0.1492 - val_accuracy: 0.9559\n",
            "Epoch 37/200\n",
            "329/329 [==============================] - 1s 2ms/step - loss: 0.1085 - accuracy: 0.9688 - val_loss: 0.1401 - val_accuracy: 0.9591\n",
            "Epoch 38/200\n",
            "329/329 [==============================] - 1s 2ms/step - loss: 0.1057 - accuracy: 0.9702 - val_loss: 0.1364 - val_accuracy: 0.9599\n",
            "Epoch 39/200\n",
            "329/329 [==============================] - 1s 2ms/step - loss: 0.1031 - accuracy: 0.9701 - val_loss: 0.1395 - val_accuracy: 0.9592\n",
            "Epoch 40/200\n",
            "329/329 [==============================] - 1s 2ms/step - loss: 0.1009 - accuracy: 0.9713 - val_loss: 0.1448 - val_accuracy: 0.9581\n",
            "Epoch 41/200\n",
            "329/329 [==============================] - 1s 2ms/step - loss: 0.0985 - accuracy: 0.9714 - val_loss: 0.1306 - val_accuracy: 0.9615\n",
            "Epoch 42/200\n",
            "329/329 [==============================] - 1s 2ms/step - loss: 0.0959 - accuracy: 0.9724 - val_loss: 0.1442 - val_accuracy: 0.9572\n",
            "Epoch 43/200\n",
            "329/329 [==============================] - 1s 2ms/step - loss: 0.0935 - accuracy: 0.9734 - val_loss: 0.1289 - val_accuracy: 0.9618\n",
            "Epoch 44/200\n",
            "329/329 [==============================] - 1s 2ms/step - loss: 0.0915 - accuracy: 0.9734 - val_loss: 0.1272 - val_accuracy: 0.9628\n",
            "Epoch 45/200\n",
            "329/329 [==============================] - 1s 2ms/step - loss: 0.0896 - accuracy: 0.9742 - val_loss: 0.1307 - val_accuracy: 0.9619\n",
            "Epoch 46/200\n",
            "329/329 [==============================] - 1s 2ms/step - loss: 0.0872 - accuracy: 0.9750 - val_loss: 0.1255 - val_accuracy: 0.9627\n",
            "Epoch 47/200\n",
            "329/329 [==============================] - 1s 2ms/step - loss: 0.0853 - accuracy: 0.9755 - val_loss: 0.1274 - val_accuracy: 0.9628\n",
            "Epoch 48/200\n",
            "329/329 [==============================] - 1s 2ms/step - loss: 0.0832 - accuracy: 0.9766 - val_loss: 0.1260 - val_accuracy: 0.9629\n",
            "Epoch 49/200\n",
            "329/329 [==============================] - 1s 2ms/step - loss: 0.0813 - accuracy: 0.9769 - val_loss: 0.1195 - val_accuracy: 0.9653\n",
            "Epoch 50/200\n",
            "329/329 [==============================] - 1s 2ms/step - loss: 0.0797 - accuracy: 0.9771 - val_loss: 0.1214 - val_accuracy: 0.9640\n",
            "Epoch 51/200\n",
            "329/329 [==============================] - 1s 2ms/step - loss: 0.0780 - accuracy: 0.9780 - val_loss: 0.1194 - val_accuracy: 0.9642\n",
            "Epoch 52/200\n",
            "329/329 [==============================] - 1s 2ms/step - loss: 0.0760 - accuracy: 0.9784 - val_loss: 0.1223 - val_accuracy: 0.9643\n",
            "Epoch 53/200\n",
            "329/329 [==============================] - 1s 2ms/step - loss: 0.0741 - accuracy: 0.9790 - val_loss: 0.1293 - val_accuracy: 0.9611\n",
            "Epoch 54/200\n",
            "329/329 [==============================] - 1s 2ms/step - loss: 0.0725 - accuracy: 0.9796 - val_loss: 0.1199 - val_accuracy: 0.9652\n",
            "Epoch 55/200\n",
            "329/329 [==============================] - 1s 2ms/step - loss: 0.0707 - accuracy: 0.9804 - val_loss: 0.1153 - val_accuracy: 0.9661\n",
            "Epoch 56/200\n",
            "329/329 [==============================] - 1s 2ms/step - loss: 0.0696 - accuracy: 0.9798 - val_loss: 0.1156 - val_accuracy: 0.9662\n",
            "Epoch 57/200\n",
            "329/329 [==============================] - 1s 2ms/step - loss: 0.0680 - accuracy: 0.9810 - val_loss: 0.1228 - val_accuracy: 0.9637\n",
            "Epoch 58/200\n",
            "329/329 [==============================] - 1s 2ms/step - loss: 0.0664 - accuracy: 0.9815 - val_loss: 0.1153 - val_accuracy: 0.9674\n",
            "Epoch 59/200\n",
            "329/329 [==============================] - 1s 2ms/step - loss: 0.0648 - accuracy: 0.9815 - val_loss: 0.1140 - val_accuracy: 0.9662\n",
            "Epoch 60/200\n",
            "329/329 [==============================] - 1s 2ms/step - loss: 0.0634 - accuracy: 0.9822 - val_loss: 0.1130 - val_accuracy: 0.9670\n",
            "Epoch 61/200\n",
            "329/329 [==============================] - 1s 2ms/step - loss: 0.0623 - accuracy: 0.9825 - val_loss: 0.1114 - val_accuracy: 0.9673\n",
            "Epoch 62/200\n",
            "329/329 [==============================] - 1s 2ms/step - loss: 0.0608 - accuracy: 0.9831 - val_loss: 0.1114 - val_accuracy: 0.9676\n",
            "Epoch 63/200\n",
            "329/329 [==============================] - 1s 2ms/step - loss: 0.0596 - accuracy: 0.9834 - val_loss: 0.1106 - val_accuracy: 0.9677\n",
            "Epoch 64/200\n",
            "329/329 [==============================] - 1s 2ms/step - loss: 0.0582 - accuracy: 0.9838 - val_loss: 0.1100 - val_accuracy: 0.9676\n",
            "Epoch 65/200\n",
            "329/329 [==============================] - 1s 2ms/step - loss: 0.0571 - accuracy: 0.9841 - val_loss: 0.1122 - val_accuracy: 0.9672\n",
            "Epoch 66/200\n",
            "329/329 [==============================] - 1s 2ms/step - loss: 0.0559 - accuracy: 0.9843 - val_loss: 0.1093 - val_accuracy: 0.9675\n",
            "Epoch 67/200\n",
            "329/329 [==============================] - 1s 2ms/step - loss: 0.0548 - accuracy: 0.9852 - val_loss: 0.1085 - val_accuracy: 0.9680\n",
            "Epoch 68/200\n",
            "329/329 [==============================] - 1s 2ms/step - loss: 0.0537 - accuracy: 0.9853 - val_loss: 0.1125 - val_accuracy: 0.9667\n",
            "Epoch 69/200\n",
            "329/329 [==============================] - 1s 2ms/step - loss: 0.0523 - accuracy: 0.9856 - val_loss: 0.1077 - val_accuracy: 0.9683\n",
            "Epoch 70/200\n",
            "329/329 [==============================] - 1s 2ms/step - loss: 0.0511 - accuracy: 0.9861 - val_loss: 0.1099 - val_accuracy: 0.9681\n",
            "Epoch 71/200\n",
            "329/329 [==============================] - 1s 2ms/step - loss: 0.0502 - accuracy: 0.9871 - val_loss: 0.1079 - val_accuracy: 0.9689\n",
            "Epoch 72/200\n",
            "329/329 [==============================] - 1s 2ms/step - loss: 0.0489 - accuracy: 0.9866 - val_loss: 0.1085 - val_accuracy: 0.9684\n",
            "Epoch 73/200\n",
            "329/329 [==============================] - 1s 2ms/step - loss: 0.0481 - accuracy: 0.9872 - val_loss: 0.1161 - val_accuracy: 0.9643\n",
            "Epoch 74/200\n",
            "329/329 [==============================] - 1s 2ms/step - loss: 0.0472 - accuracy: 0.9873 - val_loss: 0.1080 - val_accuracy: 0.9680\n",
            "Epoch 75/200\n",
            "329/329 [==============================] - 1s 2ms/step - loss: 0.0462 - accuracy: 0.9877 - val_loss: 0.1081 - val_accuracy: 0.9683\n",
            "Epoch 76/200\n",
            "329/329 [==============================] - 1s 2ms/step - loss: 0.0452 - accuracy: 0.9880 - val_loss: 0.1069 - val_accuracy: 0.9688\n",
            "Epoch 77/200\n",
            "329/329 [==============================] - 1s 2ms/step - loss: 0.0444 - accuracy: 0.9882 - val_loss: 0.1096 - val_accuracy: 0.9680\n",
            "Epoch 78/200\n",
            "329/329 [==============================] - 1s 2ms/step - loss: 0.0434 - accuracy: 0.9884 - val_loss: 0.1105 - val_accuracy: 0.9671\n",
            "Epoch 79/200\n",
            "329/329 [==============================] - 1s 2ms/step - loss: 0.0425 - accuracy: 0.9889 - val_loss: 0.1332 - val_accuracy: 0.9622\n",
            "Epoch 80/200\n",
            "329/329 [==============================] - 1s 2ms/step - loss: 0.0417 - accuracy: 0.9892 - val_loss: 0.1122 - val_accuracy: 0.9665\n",
            "Epoch 81/200\n",
            "329/329 [==============================] - 1s 2ms/step - loss: 0.0409 - accuracy: 0.9894 - val_loss: 0.1073 - val_accuracy: 0.9686\n",
            "Epoch 82/200\n",
            "329/329 [==============================] - 1s 2ms/step - loss: 0.0400 - accuracy: 0.9894 - val_loss: 0.1069 - val_accuracy: 0.9688\n",
            "Epoch 83/200\n",
            "329/329 [==============================] - 1s 2ms/step - loss: 0.0390 - accuracy: 0.9904 - val_loss: 0.1072 - val_accuracy: 0.9679\n",
            "Epoch 84/200\n",
            "329/329 [==============================] - 1s 2ms/step - loss: 0.0382 - accuracy: 0.9907 - val_loss: 0.1050 - val_accuracy: 0.9694\n",
            "Epoch 85/200\n",
            "329/329 [==============================] - 1s 2ms/step - loss: 0.0376 - accuracy: 0.9906 - val_loss: 0.1051 - val_accuracy: 0.9694\n",
            "Epoch 86/200\n",
            "329/329 [==============================] - 1s 2ms/step - loss: 0.0367 - accuracy: 0.9909 - val_loss: 0.1073 - val_accuracy: 0.9690\n",
            "Epoch 87/200\n",
            "329/329 [==============================] - 1s 2ms/step - loss: 0.0359 - accuracy: 0.9910 - val_loss: 0.1074 - val_accuracy: 0.9689\n",
            "Epoch 88/200\n",
            "329/329 [==============================] - 1s 2ms/step - loss: 0.0354 - accuracy: 0.9913 - val_loss: 0.1095 - val_accuracy: 0.9681\n",
            "Epoch 89/200\n",
            "329/329 [==============================] - 1s 2ms/step - loss: 0.0343 - accuracy: 0.9917 - val_loss: 0.1086 - val_accuracy: 0.9681\n",
            "Epoch 90/200\n",
            "329/329 [==============================] - 1s 2ms/step - loss: 0.0337 - accuracy: 0.9918 - val_loss: 0.1057 - val_accuracy: 0.9694\n",
            "Epoch 91/200\n",
            "329/329 [==============================] - 1s 2ms/step - loss: 0.0332 - accuracy: 0.9923 - val_loss: 0.1058 - val_accuracy: 0.9694\n",
            "Epoch 92/200\n",
            "329/329 [==============================] - 1s 2ms/step - loss: 0.0324 - accuracy: 0.9926 - val_loss: 0.1101 - val_accuracy: 0.9682\n",
            "Epoch 93/200\n",
            "329/329 [==============================] - 1s 2ms/step - loss: 0.0319 - accuracy: 0.9923 - val_loss: 0.1046 - val_accuracy: 0.9697\n",
            "Epoch 94/200\n",
            "329/329 [==============================] - 1s 2ms/step - loss: 0.0311 - accuracy: 0.9927 - val_loss: 0.1055 - val_accuracy: 0.9693\n",
            "Epoch 95/200\n",
            "329/329 [==============================] - 1s 2ms/step - loss: 0.0306 - accuracy: 0.9930 - val_loss: 0.1062 - val_accuracy: 0.9691\n",
            "Epoch 96/200\n",
            "329/329 [==============================] - 1s 2ms/step - loss: 0.0299 - accuracy: 0.9938 - val_loss: 0.1060 - val_accuracy: 0.9697\n",
            "Epoch 97/200\n",
            "329/329 [==============================] - 1s 2ms/step - loss: 0.0292 - accuracy: 0.9932 - val_loss: 0.1072 - val_accuracy: 0.9692\n",
            "Epoch 98/200\n",
            "329/329 [==============================] - 1s 2ms/step - loss: 0.0288 - accuracy: 0.9937 - val_loss: 0.1076 - val_accuracy: 0.9696\n",
            "Epoch 99/200\n",
            "329/329 [==============================] - 1s 2ms/step - loss: 0.0280 - accuracy: 0.9943 - val_loss: 0.1115 - val_accuracy: 0.9687\n",
            "Epoch 100/200\n",
            "329/329 [==============================] - 1s 2ms/step - loss: 0.0274 - accuracy: 0.9938 - val_loss: 0.1158 - val_accuracy: 0.9667\n",
            "Epoch 101/200\n",
            "329/329 [==============================] - 1s 2ms/step - loss: 0.0270 - accuracy: 0.9940 - val_loss: 0.1057 - val_accuracy: 0.9694\n",
            "Epoch 102/200\n",
            "329/329 [==============================] - 1s 2ms/step - loss: 0.0264 - accuracy: 0.9944 - val_loss: 0.1117 - val_accuracy: 0.9686\n",
            "Epoch 103/200\n",
            "329/329 [==============================] - 1s 2ms/step - loss: 0.0260 - accuracy: 0.9946 - val_loss: 0.1054 - val_accuracy: 0.9696\n",
            "Epoch 104/200\n",
            "329/329 [==============================] - 1s 2ms/step - loss: 0.0252 - accuracy: 0.9947 - val_loss: 0.1063 - val_accuracy: 0.9697\n",
            "Epoch 105/200\n",
            "329/329 [==============================] - 1s 2ms/step - loss: 0.0247 - accuracy: 0.9948 - val_loss: 0.1319 - val_accuracy: 0.9627\n",
            "Epoch 106/200\n",
            "329/329 [==============================] - 1s 2ms/step - loss: 0.0244 - accuracy: 0.9949 - val_loss: 0.1100 - val_accuracy: 0.9693\n",
            "Epoch 107/200\n",
            "329/329 [==============================] - 1s 2ms/step - loss: 0.0237 - accuracy: 0.9951 - val_loss: 0.1079 - val_accuracy: 0.9687\n",
            "Epoch 108/200\n",
            "329/329 [==============================] - 1s 2ms/step - loss: 0.0233 - accuracy: 0.9956 - val_loss: 0.1078 - val_accuracy: 0.9697\n",
            "Epoch 109/200\n",
            "329/329 [==============================] - 1s 2ms/step - loss: 0.0228 - accuracy: 0.9955 - val_loss: 0.1065 - val_accuracy: 0.9705\n",
            "Epoch 110/200\n",
            "329/329 [==============================] - 1s 2ms/step - loss: 0.0223 - accuracy: 0.9957 - val_loss: 0.1076 - val_accuracy: 0.9697\n",
            "Epoch 111/200\n",
            "329/329 [==============================] - 1s 2ms/step - loss: 0.0219 - accuracy: 0.9955 - val_loss: 0.1078 - val_accuracy: 0.9697\n",
            "Epoch 112/200\n",
            "329/329 [==============================] - 1s 2ms/step - loss: 0.0214 - accuracy: 0.9958 - val_loss: 0.1100 - val_accuracy: 0.9694\n",
            "Epoch 113/200\n",
            "329/329 [==============================] - 1s 2ms/step - loss: 0.0210 - accuracy: 0.9961 - val_loss: 0.1079 - val_accuracy: 0.9699\n",
            "Epoch 114/200\n",
            "329/329 [==============================] - 1s 2ms/step - loss: 0.0206 - accuracy: 0.9960 - val_loss: 0.1094 - val_accuracy: 0.9688\n",
            "Epoch 115/200\n",
            "329/329 [==============================] - 1s 2ms/step - loss: 0.0201 - accuracy: 0.9965 - val_loss: 0.1121 - val_accuracy: 0.9686\n",
            "Epoch 116/200\n",
            "329/329 [==============================] - 1s 2ms/step - loss: 0.0198 - accuracy: 0.9964 - val_loss: 0.1077 - val_accuracy: 0.9697\n",
            "Epoch 117/200\n",
            "329/329 [==============================] - 1s 2ms/step - loss: 0.0194 - accuracy: 0.9965 - val_loss: 0.1099 - val_accuracy: 0.9692\n",
            "Epoch 118/200\n",
            "329/329 [==============================] - 1s 2ms/step - loss: 0.0189 - accuracy: 0.9968 - val_loss: 0.1095 - val_accuracy: 0.9696\n",
            "Epoch 119/200\n",
            "329/329 [==============================] - 1s 2ms/step - loss: 0.0187 - accuracy: 0.9968 - val_loss: 0.1092 - val_accuracy: 0.9692\n",
            "Epoch 120/200\n",
            "329/329 [==============================] - 1s 2ms/step - loss: 0.0181 - accuracy: 0.9968 - val_loss: 0.1104 - val_accuracy: 0.9698\n",
            "Epoch 121/200\n",
            "329/329 [==============================] - 1s 2ms/step - loss: 0.0179 - accuracy: 0.9971 - val_loss: 0.1093 - val_accuracy: 0.9699\n",
            "Epoch 122/200\n",
            "329/329 [==============================] - 1s 2ms/step - loss: 0.0175 - accuracy: 0.9972 - val_loss: 0.1093 - val_accuracy: 0.9703\n",
            "Epoch 123/200\n",
            "329/329 [==============================] - 1s 2ms/step - loss: 0.0173 - accuracy: 0.9970 - val_loss: 0.1087 - val_accuracy: 0.9702\n",
            "Epoch 124/200\n",
            "329/329 [==============================] - 1s 2ms/step - loss: 0.0168 - accuracy: 0.9973 - val_loss: 0.1109 - val_accuracy: 0.9701\n",
            "Epoch 125/200\n",
            "329/329 [==============================] - 1s 2ms/step - loss: 0.0164 - accuracy: 0.9974 - val_loss: 0.1099 - val_accuracy: 0.9700\n",
            "Epoch 126/200\n",
            "329/329 [==============================] - 1s 2ms/step - loss: 0.0162 - accuracy: 0.9975 - val_loss: 0.1099 - val_accuracy: 0.9703\n",
            "Epoch 127/200\n",
            "329/329 [==============================] - 1s 2ms/step - loss: 0.0157 - accuracy: 0.9978 - val_loss: 0.1102 - val_accuracy: 0.9700\n",
            "Epoch 128/200\n",
            "329/329 [==============================] - 1s 2ms/step - loss: 0.0155 - accuracy: 0.9977 - val_loss: 0.1106 - val_accuracy: 0.9704\n",
            "Epoch 129/200\n",
            "329/329 [==============================] - 1s 2ms/step - loss: 0.0152 - accuracy: 0.9978 - val_loss: 0.1120 - val_accuracy: 0.9694\n",
            "Epoch 130/200\n",
            "329/329 [==============================] - 1s 2ms/step - loss: 0.0150 - accuracy: 0.9978 - val_loss: 0.1103 - val_accuracy: 0.9701\n",
            "Epoch 131/200\n",
            "329/329 [==============================] - 1s 2ms/step - loss: 0.0146 - accuracy: 0.9980 - val_loss: 0.1108 - val_accuracy: 0.9703\n",
            "Epoch 132/200\n",
            "329/329 [==============================] - 1s 2ms/step - loss: 0.0144 - accuracy: 0.9980 - val_loss: 0.1109 - val_accuracy: 0.9702\n",
            "Epoch 133/200\n",
            "329/329 [==============================] - 1s 2ms/step - loss: 0.0141 - accuracy: 0.9980 - val_loss: 0.1126 - val_accuracy: 0.9702\n",
            "Epoch 134/200\n",
            "329/329 [==============================] - 1s 2ms/step - loss: 0.0138 - accuracy: 0.9982 - val_loss: 0.1128 - val_accuracy: 0.9698\n",
            "Epoch 135/200\n",
            "329/329 [==============================] - 1s 2ms/step - loss: 0.0135 - accuracy: 0.9982 - val_loss: 0.1138 - val_accuracy: 0.9698\n",
            "Epoch 136/200\n",
            "329/329 [==============================] - 1s 2ms/step - loss: 0.0133 - accuracy: 0.9984 - val_loss: 0.1126 - val_accuracy: 0.9701\n",
            "Epoch 137/200\n",
            "329/329 [==============================] - 1s 2ms/step - loss: 0.0131 - accuracy: 0.9984 - val_loss: 0.1121 - val_accuracy: 0.9703\n",
            "Epoch 138/200\n",
            "329/329 [==============================] - 1s 2ms/step - loss: 0.0128 - accuracy: 0.9984 - val_loss: 0.1127 - val_accuracy: 0.9700\n",
            "Epoch 139/200\n",
            "329/329 [==============================] - 1s 2ms/step - loss: 0.0126 - accuracy: 0.9985 - val_loss: 0.1133 - val_accuracy: 0.9699\n",
            "Epoch 140/200\n",
            "329/329 [==============================] - 1s 2ms/step - loss: 0.0123 - accuracy: 0.9986 - val_loss: 0.1134 - val_accuracy: 0.9700\n",
            "Epoch 141/200\n",
            "329/329 [==============================] - 1s 2ms/step - loss: 0.0120 - accuracy: 0.9987 - val_loss: 0.1134 - val_accuracy: 0.9707\n",
            "Epoch 142/200\n",
            "329/329 [==============================] - 1s 2ms/step - loss: 0.0119 - accuracy: 0.9986 - val_loss: 0.1142 - val_accuracy: 0.9692\n",
            "Epoch 143/200\n",
            "329/329 [==============================] - 1s 2ms/step - loss: 0.0116 - accuracy: 0.9988 - val_loss: 0.1144 - val_accuracy: 0.9702\n",
            "Epoch 144/200\n",
            "329/329 [==============================] - 1s 2ms/step - loss: 0.0115 - accuracy: 0.9987 - val_loss: 0.1141 - val_accuracy: 0.9698\n",
            "Epoch 145/200\n",
            "329/329 [==============================] - 1s 2ms/step - loss: 0.0112 - accuracy: 0.9988 - val_loss: 0.1139 - val_accuracy: 0.9705\n",
            "Epoch 146/200\n",
            "329/329 [==============================] - 1s 2ms/step - loss: 0.0110 - accuracy: 0.9987 - val_loss: 0.1142 - val_accuracy: 0.9698\n",
            "Epoch 147/200\n",
            "329/329 [==============================] - 1s 2ms/step - loss: 0.0108 - accuracy: 0.9988 - val_loss: 0.1148 - val_accuracy: 0.9701\n",
            "Epoch 148/200\n",
            "329/329 [==============================] - 1s 2ms/step - loss: 0.0107 - accuracy: 0.9989 - val_loss: 0.1146 - val_accuracy: 0.9699\n",
            "Epoch 149/200\n",
            "329/329 [==============================] - 1s 2ms/step - loss: 0.0104 - accuracy: 0.9991 - val_loss: 0.1163 - val_accuracy: 0.9700\n",
            "Epoch 150/200\n",
            "329/329 [==============================] - 1s 2ms/step - loss: 0.0102 - accuracy: 0.9990 - val_loss: 0.1162 - val_accuracy: 0.9700\n",
            "Epoch 151/200\n",
            "329/329 [==============================] - 1s 2ms/step - loss: 0.0101 - accuracy: 0.9990 - val_loss: 0.1156 - val_accuracy: 0.9704\n",
            "Epoch 152/200\n",
            "329/329 [==============================] - 1s 2ms/step - loss: 0.0099 - accuracy: 0.9989 - val_loss: 0.1162 - val_accuracy: 0.9701\n",
            "Epoch 153/200\n",
            "329/329 [==============================] - 1s 2ms/step - loss: 0.0097 - accuracy: 0.9991 - val_loss: 0.1158 - val_accuracy: 0.9702\n",
            "Epoch 154/200\n",
            "329/329 [==============================] - 1s 2ms/step - loss: 0.0096 - accuracy: 0.9991 - val_loss: 0.1171 - val_accuracy: 0.9699\n",
            "Epoch 155/200\n",
            "329/329 [==============================] - 1s 2ms/step - loss: 0.0094 - accuracy: 0.9991 - val_loss: 0.1167 - val_accuracy: 0.9705\n",
            "Epoch 156/200\n",
            "329/329 [==============================] - 1s 2ms/step - loss: 0.0091 - accuracy: 0.9993 - val_loss: 0.1175 - val_accuracy: 0.9704\n",
            "Epoch 157/200\n",
            "329/329 [==============================] - 1s 2ms/step - loss: 0.0090 - accuracy: 0.9993 - val_loss: 0.1164 - val_accuracy: 0.9704\n",
            "Epoch 158/200\n",
            "329/329 [==============================] - 1s 2ms/step - loss: 0.0089 - accuracy: 0.9992 - val_loss: 0.1168 - val_accuracy: 0.9699\n",
            "Epoch 159/200\n",
            "329/329 [==============================] - 1s 2ms/step - loss: 0.0087 - accuracy: 0.9993 - val_loss: 0.1174 - val_accuracy: 0.9703\n",
            "Epoch 160/200\n",
            "329/329 [==============================] - 1s 2ms/step - loss: 0.0086 - accuracy: 0.9994 - val_loss: 0.1182 - val_accuracy: 0.9704\n",
            "Epoch 161/200\n",
            "329/329 [==============================] - 1s 2ms/step - loss: 0.0084 - accuracy: 0.9993 - val_loss: 0.1178 - val_accuracy: 0.9705\n",
            "Epoch 162/200\n",
            "329/329 [==============================] - 1s 2ms/step - loss: 0.0083 - accuracy: 0.9995 - val_loss: 0.1179 - val_accuracy: 0.9698\n",
            "Epoch 163/200\n",
            "329/329 [==============================] - 1s 2ms/step - loss: 0.0081 - accuracy: 0.9994 - val_loss: 0.1188 - val_accuracy: 0.9699\n",
            "Epoch 164/200\n",
            "329/329 [==============================] - 1s 2ms/step - loss: 0.0080 - accuracy: 0.9994 - val_loss: 0.1197 - val_accuracy: 0.9700\n",
            "Epoch 165/200\n",
            "329/329 [==============================] - 1s 2ms/step - loss: 0.0079 - accuracy: 0.9995 - val_loss: 0.1193 - val_accuracy: 0.9703\n",
            "Epoch 166/200\n",
            "329/329 [==============================] - 1s 2ms/step - loss: 0.0077 - accuracy: 0.9995 - val_loss: 0.1200 - val_accuracy: 0.9704\n",
            "Epoch 167/200\n",
            "329/329 [==============================] - 1s 2ms/step - loss: 0.0076 - accuracy: 0.9995 - val_loss: 0.1218 - val_accuracy: 0.9697\n",
            "Epoch 168/200\n",
            "329/329 [==============================] - 1s 2ms/step - loss: 0.0075 - accuracy: 0.9995 - val_loss: 0.1230 - val_accuracy: 0.9704\n",
            "Epoch 169/200\n",
            "329/329 [==============================] - 1s 2ms/step - loss: 0.0074 - accuracy: 0.9995 - val_loss: 0.1205 - val_accuracy: 0.9693\n",
            "Epoch 170/200\n",
            "329/329 [==============================] - 1s 2ms/step - loss: 0.0073 - accuracy: 0.9995 - val_loss: 0.1204 - val_accuracy: 0.9706\n",
            "Epoch 171/200\n",
            "329/329 [==============================] - 1s 2ms/step - loss: 0.0071 - accuracy: 0.9996 - val_loss: 0.1212 - val_accuracy: 0.9700\n",
            "Epoch 172/200\n",
            "329/329 [==============================] - 1s 2ms/step - loss: 0.0070 - accuracy: 0.9996 - val_loss: 0.1209 - val_accuracy: 0.9699\n",
            "Epoch 173/200\n",
            "329/329 [==============================] - 1s 2ms/step - loss: 0.0069 - accuracy: 0.9996 - val_loss: 0.1214 - val_accuracy: 0.9702\n",
            "Epoch 174/200\n",
            "329/329 [==============================] - 1s 2ms/step - loss: 0.0067 - accuracy: 0.9996 - val_loss: 0.1216 - val_accuracy: 0.9703\n",
            "Epoch 175/200\n",
            "329/329 [==============================] - 1s 2ms/step - loss: 0.0067 - accuracy: 0.9996 - val_loss: 0.1205 - val_accuracy: 0.9704\n",
            "Epoch 176/200\n",
            "329/329 [==============================] - 1s 2ms/step - loss: 0.0065 - accuracy: 0.9995 - val_loss: 0.1216 - val_accuracy: 0.9704\n",
            "Epoch 177/200\n",
            "329/329 [==============================] - 1s 2ms/step - loss: 0.0065 - accuracy: 0.9996 - val_loss: 0.1224 - val_accuracy: 0.9702\n",
            "Epoch 178/200\n",
            "329/329 [==============================] - 1s 2ms/step - loss: 0.0063 - accuracy: 0.9996 - val_loss: 0.1226 - val_accuracy: 0.9706\n",
            "Epoch 179/200\n",
            "329/329 [==============================] - 1s 2ms/step - loss: 0.0062 - accuracy: 0.9997 - val_loss: 0.1217 - val_accuracy: 0.9698\n",
            "Epoch 180/200\n",
            "329/329 [==============================] - 1s 2ms/step - loss: 0.0061 - accuracy: 0.9996 - val_loss: 0.1237 - val_accuracy: 0.9704\n",
            "Epoch 181/200\n",
            "329/329 [==============================] - 1s 2ms/step - loss: 0.0060 - accuracy: 0.9997 - val_loss: 0.1230 - val_accuracy: 0.9706\n",
            "Epoch 182/200\n",
            "329/329 [==============================] - 1s 2ms/step - loss: 0.0059 - accuracy: 0.9996 - val_loss: 0.1246 - val_accuracy: 0.9701\n",
            "Epoch 183/200\n",
            "329/329 [==============================] - 1s 2ms/step - loss: 0.0059 - accuracy: 0.9997 - val_loss: 0.1237 - val_accuracy: 0.9698\n",
            "Epoch 184/200\n",
            "329/329 [==============================] - 1s 2ms/step - loss: 0.0057 - accuracy: 0.9998 - val_loss: 0.1244 - val_accuracy: 0.9702\n",
            "Epoch 185/200\n",
            "329/329 [==============================] - 1s 2ms/step - loss: 0.0057 - accuracy: 0.9997 - val_loss: 0.1238 - val_accuracy: 0.9701\n",
            "Epoch 186/200\n",
            "329/329 [==============================] - 1s 2ms/step - loss: 0.0056 - accuracy: 0.9998 - val_loss: 0.1248 - val_accuracy: 0.9701\n",
            "Epoch 187/200\n",
            "329/329 [==============================] - 1s 2ms/step - loss: 0.0055 - accuracy: 0.9997 - val_loss: 0.1244 - val_accuracy: 0.9706\n",
            "Epoch 188/200\n",
            "329/329 [==============================] - 1s 2ms/step - loss: 0.0054 - accuracy: 0.9997 - val_loss: 0.1263 - val_accuracy: 0.9705\n",
            "Epoch 189/200\n",
            "329/329 [==============================] - 1s 2ms/step - loss: 0.0054 - accuracy: 0.9997 - val_loss: 0.1249 - val_accuracy: 0.9706\n",
            "Epoch 190/200\n",
            "329/329 [==============================] - 1s 2ms/step - loss: 0.0052 - accuracy: 0.9997 - val_loss: 0.1245 - val_accuracy: 0.9700\n",
            "Epoch 191/200\n",
            "329/329 [==============================] - 1s 2ms/step - loss: 0.0052 - accuracy: 0.9997 - val_loss: 0.1251 - val_accuracy: 0.9703\n",
            "Epoch 192/200\n",
            "329/329 [==============================] - 1s 2ms/step - loss: 0.0051 - accuracy: 0.9998 - val_loss: 0.1259 - val_accuracy: 0.9707\n",
            "Epoch 193/200\n",
            "329/329 [==============================] - 1s 2ms/step - loss: 0.0050 - accuracy: 0.9998 - val_loss: 0.1260 - val_accuracy: 0.9703\n",
            "Epoch 194/200\n",
            "329/329 [==============================] - 1s 2ms/step - loss: 0.0049 - accuracy: 0.9998 - val_loss: 0.1259 - val_accuracy: 0.9700\n",
            "Epoch 195/200\n",
            "329/329 [==============================] - 1s 2ms/step - loss: 0.0048 - accuracy: 0.9997 - val_loss: 0.1277 - val_accuracy: 0.9697\n",
            "Epoch 196/200\n",
            "329/329 [==============================] - 1s 2ms/step - loss: 0.0048 - accuracy: 0.9999 - val_loss: 0.1266 - val_accuracy: 0.9706\n",
            "Epoch 197/200\n",
            "329/329 [==============================] - 1s 2ms/step - loss: 0.0047 - accuracy: 0.9998 - val_loss: 0.1266 - val_accuracy: 0.9707\n",
            "Epoch 198/200\n",
            "329/329 [==============================] - 1s 2ms/step - loss: 0.0047 - accuracy: 0.9998 - val_loss: 0.1277 - val_accuracy: 0.9703\n",
            "Epoch 199/200\n",
            "329/329 [==============================] - 1s 2ms/step - loss: 0.0045 - accuracy: 0.9999 - val_loss: 0.1274 - val_accuracy: 0.9701\n",
            "Epoch 200/200\n",
            "329/329 [==============================] - 1s 2ms/step - loss: 0.0045 - accuracy: 0.9998 - val_loss: 0.1273 - val_accuracy: 0.9707\n"
          ]
        }
      ],
      "source": [
        "history = model.fit(\n",
        "    x_train, y_train,\n",
        "    epochs=200,\n",
        "    batch_size=128,\n",
        "    validation_data=(x_val, y_val)\n",
        ")"
      ]
    },
    {
      "cell_type": "markdown",
      "metadata": {
        "id": "0XaPJX7sRVzi"
      },
      "source": [
        "### 학습 결과 시각화"
      ]
    },
    {
      "cell_type": "code",
      "execution_count": 75,
      "metadata": {
        "id": "vAnCqu9ARVTw"
      },
      "outputs": [
        {
          "data": {
            "text/plain": [
              "dict_keys(['loss', 'accuracy', 'val_loss', 'val_accuracy'])"
            ]
          },
          "execution_count": 75,
          "metadata": {},
          "output_type": "execute_result"
        }
      ],
      "source": [
        "history_dict = history.history\n",
        "\n",
        "history_dict.keys()"
      ]
    },
    {
      "cell_type": "code",
      "execution_count": 76,
      "metadata": {
        "id": "MHfJkN2lRVOc"
      },
      "outputs": [
        {
          "data": {
            "image/png": "[encoded data removed]",
            "text/plain": [
              "<Figure size 1200x600 with 2 Axes>"
            ]
          },
          "metadata": {},
          "output_type": "display_data"
        }
      ],
      "source": [
        "loss = history_dict[\"loss\"]\n",
        "val_loss = history_dict[\"val_loss\"]\n",
        "\n",
        "epochs = range(1, len(loss) + 1)\n",
        "fig = plt.figure(figsize=(12, 6))\n",
        "\n",
        "ax1 = fig.add_subplot(1, 2, 1)\n",
        "ax1.plot(epochs, loss, color=\"blue\", label=\"train_loss\")\n",
        "ax1.plot(epochs, val_loss, color=\"red\", label=\"val_loss\")\n",
        "ax1.set_title(\"Train and Validation Loss\")\n",
        "ax1.set_xlabel(\"Epochs\")\n",
        "ax1.set_ylabel(\"Loss\")\n",
        "ax1.grid()\n",
        "ax1.legend()\n",
        "\n",
        "accuracy = history_dict[\"accuracy\"]\n",
        "val_accuracy = history_dict[\"val_accuracy\"]\n",
        "\n",
        "ax2 = fig.add_subplot(1, 2, 2)\n",
        "ax2.plot(epochs, accuracy, color=\"blue\", label=\"train_accuracy\")\n",
        "ax2.plot(epochs, val_accuracy, color=\"red\", label=\"val_accuracy\")\n",
        "ax2.set_title(\"Train and Validation Accuracy\")\n",
        "ax2.set_xlabel(\"Epochs\")\n",
        "ax2.set_ylabel(\"Accuracy\")\n",
        "ax2.grid()\n",
        "ax2.legend()\n",
        "\n",
        "plt.show()"
      ]
    },
    {
      "cell_type": "markdown",
      "metadata": {
        "id": "Gwl7tQLcTZnW"
      },
      "source": [
        "### 모델 평가 (1)\n",
        "- evaluate"
      ]
    },
    {
      "cell_type": "code",
      "execution_count": 77,
      "metadata": {
        "id": "gX7HcpeoTZGU"
      },
      "outputs": [
        {
          "name": "stdout",
          "output_type": "stream",
          "text": [
            "  1/313 [..............................] - ETA: 4s - loss: 0.0645 - accuracy: 0.9688"
          ]
        },
        {
          "name": "stdout",
          "output_type": "stream",
          "text": [
            "313/313 [==============================] - 0s 966us/step - loss: 0.1216 - accuracy: 0.9713\n"
          ]
        },
        {
          "data": {
            "text/plain": [
              "[0.12163258343935013, 0.9713000059127808]"
            ]
          },
          "execution_count": 77,
          "metadata": {},
          "output_type": "execute_result"
        }
      ],
      "source": [
        "model.evaluate(x_test, y_test)"
      ]
    },
    {
      "cell_type": "markdown",
      "metadata": {
        "id": "ZIV4MhWSTtqH"
      },
      "source": [
        "### 학습된 모델을 통해 값 예측"
      ]
    },
    {
      "cell_type": "code",
      "execution_count": 78,
      "metadata": {
        "id": "te5Wt3jFTY8g"
      },
      "outputs": [
        {
          "name": "stdout",
          "output_type": "stream",
          "text": [
            "313/313 [==============================] - 0s 899us/step\n",
            "(10000, 10)\n",
            "[1.7069495e-09 7.7945712e-11 2.3945131e-06 2.5277945e-05 1.3772683e-10\n",
            " 7.2056896e-12 5.7474126e-18 9.9997199e-01 2.9745961e-10 3.4550391e-07]\n"
          ]
        }
      ],
      "source": [
        "pred_ys = model.predict(x_test)\n",
        "print(pred_ys.shape)\n",
        "\n",
        "np.set_printoptions(precision=7)\n",
        "print(pred_ys[0])"
      ]
    },
    {
      "cell_type": "code",
      "execution_count": 79,
      "metadata": {
        "id": "uJHPRGpMTnnM"
      },
      "outputs": [
        {
          "data": {
            "image/png": "[encoded data removed]",
            "text/plain": [
              "<Figure size 640x480 with 1 Axes>"
            ]
          },
          "metadata": {},
          "output_type": "display_data"
        }
      ],
      "source": [
        "arg_pred_y = np.argmax(pred_ys, axis=1)\n",
        "\n",
        "plt.imshow(x_test[0])\n",
        "plt.title(f\"Predicted Label: {arg_pred_y[0]}\")\n",
        "plt.show()"
      ]
    },
    {
      "cell_type": "markdown",
      "metadata": {
        "id": "G6ypcp0iVyjj"
      },
      "source": [
        "### 모델 평가 (2)\n",
        "- 혼동행렬 (Confusion Maxtrix)"
      ]
    },
    {
      "cell_type": "code",
      "execution_count": 80,
      "metadata": {
        "id": "8fN2G31JTnrY"
      },
      "outputs": [],
      "source": [
        "from sklearn.metrics import classification_report, confusion_matrix\n",
        "import seaborn as sns"
      ]
    },
    {
      "cell_type": "code",
      "execution_count": 81,
      "metadata": {
        "id": "IPX11GMeTnt-"
      },
      "outputs": [
        {
          "data": {
            "image/png": "[encoded data removed]",
            "text/plain": [
              "<Figure size 800x800 with 2 Axes>"
            ]
          },
          "metadata": {},
          "output_type": "display_data"
        }
      ],
      "source": [
        "plt.figure(figsize=(8, 8))\n",
        "cm = confusion_matrix(np.argmax(y_test, axis=-1), np.argmax(pred_ys, axis=-1))\n",
        "sns.heatmap(cm, annot=True, fmt=\"d\", cmap=\"Blues\")\n",
        "plt.xlabel(\"Predicted Label\")\n",
        "plt.ylabel(\"True Label\")\n",
        "\n",
        "plt.show()"
      ]
    },
    {
      "cell_type": "markdown",
      "metadata": {
        "id": "BMo2g1TZWctY"
      },
      "source": [
        "### 모델 평가 (3)\n",
        "- 분류 보고서"
      ]
    },
    {
      "cell_type": "code",
      "execution_count": 82,
      "metadata": {
        "id": "J1n_j_h4TnjP"
      },
      "outputs": [
        {
          "name": "stdout",
          "output_type": "stream",
          "text": [
            "              precision    recall  f1-score   support\n",
            "\n",
            "           0       0.98      0.98      0.98       980\n",
            "           1       0.99      0.99      0.99      1135\n",
            "           2       0.97      0.97      0.97      1032\n",
            "           3       0.97      0.97      0.97      1010\n",
            "           4       0.97      0.98      0.97       982\n",
            "           5       0.97      0.96      0.96       892\n",
            "           6       0.98      0.97      0.97       958\n",
            "           7       0.97      0.97      0.97      1028\n",
            "           8       0.97      0.96      0.97       974\n",
            "           9       0.97      0.96      0.96      1009\n",
            "\n",
            "    accuracy                           0.97     10000\n",
            "   macro avg       0.97      0.97      0.97     10000\n",
            "weighted avg       0.97      0.97      0.97     10000\n",
            "\n"
          ]
        }
      ],
      "source": [
        "print(classification_report(np.argmax(y_test, axis=-1), np.argmax(pred_ys, axis=-1)))"
      ]
    },
    {
      "cell_type": "markdown",
      "metadata": {
        "id": "6VWo95AB0W2v"
      },
      "source": [
        "## 모델 저장과 복원\n",
        "- `save()`\n",
        "\n",
        "- `load_model()`\n",
        "\n",
        "- (주의)  \n",
        "  시퀀셜 API, 함수형 API에서는 **모델**의 저장 및 로드기 가능하지만 서브클래싱 방식으로는 할 수 없음  \n",
        "  \n",
        "  서브클래싱 방식\n",
        "      save_weights()\n",
        "      load_weights()  \n",
        "  위 두가지를 통해 **모델의 파라미터**만 저장 및 로드\n",
        "\n",
        "\n",
        "- JSON 형식\n",
        "  - `model.to_json()` (저장)\n",
        "\n",
        "  - `tf.keras.models.model_from_json(file_path)` (복원)\n",
        "\n",
        "- YAML로 직렬화\n",
        "  - `model.to_yaml()` (저장)\n",
        "\n",
        "  - `tf.keras.models.model_from_yaml(file_path)` (복원)\n"
      ]
    },
    {
      "cell_type": "code",
      "execution_count": 83,
      "metadata": {
        "id": "qI-OJUAvtkZs"
      },
      "outputs": [],
      "source": [
        "model.save(\"mnist_model.keras\", save_format=\"keras\")"
      ]
    },
    {
      "cell_type": "code",
      "execution_count": 84,
      "metadata": {
        "id": "CKkUgRlEX9yN"
      },
      "outputs": [],
      "source": [
        "loaded_model = models.load_model(\"mnist_model.keras\")"
      ]
    },
    {
      "cell_type": "code",
      "execution_count": 85,
      "metadata": {
        "id": "xcSNxvvLYMJO"
      },
      "outputs": [
        {
          "name": "stdout",
          "output_type": "stream",
          "text": [
            "Model: \"sequential_3\"\n",
            "_________________________________________________________________\n",
            " Layer (type)                Output Shape              Param #   \n",
            "=================================================================\n",
            " flatten (Flatten)           (None, 784)               0         \n",
            "                                                                 \n",
            " dense1 (Dense)              (None, 100)               78500     \n",
            "                                                                 \n",
            " dense2 (Dense)              (None, 64)                6464      \n",
            "                                                                 \n",
            " dense3 (Dense)              (None, 32)                2080      \n",
            "                                                                 \n",
            " output (Dense)              (None, 10)                330       \n",
            "                                                                 \n",
            "=================================================================\n",
            "Total params: 87374 (341.30 KB)\n",
            "Trainable params: 87374 (341.30 KB)\n",
            "Non-trainable params: 0 (0.00 Byte)\n",
            "_________________________________________________________________\n"
          ]
        }
      ],
      "source": [
        "loaded_model.summary()"
      ]
    },
    {
      "cell_type": "code",
      "execution_count": 86,
      "metadata": {
        "id": "qUAZUdOpZOqp"
      },
      "outputs": [
        {
          "name": "stdout",
          "output_type": "stream",
          "text": [
            "258/313 [=======================>......] - ETA: 0s"
          ]
        },
        {
          "name": "stdout",
          "output_type": "stream",
          "text": [
            "313/313 [==============================] - 0s 967us/step\n",
            "(10000, 10)\n",
            "[1.7069495e-09 7.7945712e-11 2.3945131e-06 2.5277945e-05 1.3772683e-10\n",
            " 7.2056896e-12 5.7474126e-18 9.9997199e-01 2.9745961e-10 3.4550391e-07]\n"
          ]
        }
      ],
      "source": [
        "pred_ys2 = loaded_model.predict(x_test)\n",
        "print(pred_ys2.shape)\n",
        "\n",
        "np.set_printoptions(precision=7)\n",
        "print(pred_ys2[0])"
      ]
    },
    {
      "cell_type": "code",
      "execution_count": 87,
      "metadata": {
        "id": "lGcJHpbJaRiN"
      },
      "outputs": [
        {
          "data": {
            "image/png": "[encoded data removed]",
            "text/plain": [
              "<Figure size 640x480 with 1 Axes>"
            ]
          },
          "metadata": {},
          "output_type": "display_data"
        }
      ],
      "source": [
        "arg_pred_y2 = np.argmax(pred_ys2, axis=1)\n",
        "\n",
        "plt.imshow(x_test[0])\n",
        "plt.title(f\"Predicted Label: {arg_pred_y2[0]}\")\n",
        "plt.show()"
      ]
    },
    {
      "cell_type": "markdown",
      "metadata": {
        "id": "vwprko04qWeg"
      },
      "source": [
        "## 콜백 (Callbacks)\n",
        "\n",
        "- `fit()` 함수의 callbacks 매개변수를 사용하여 케라스가 훈련의 시작이나 끝에 호출할 객체 리스트를 지정할 수 있음\n",
        "\n",
        "- 여러 개 사용 가능\n",
        "\n",
        "- ModelCheckpoint\n",
        "  - `tf.keras.callbacks.ModelCheckpoint`\n",
        "  - 정기적으로 모델의 체크포인트를 저장하고, 문제가 발생할 때 복구하는데 사용\n",
        "\n",
        "- EarlyStopping\n",
        "  - `tf.keras.callbacks.EarlyStopping`\n",
        "  - 검증 성능이 한동안 개선되지 않을 경우 학습을 중단할 때 사용\n",
        "\n",
        "- LearningRateSchduler\n",
        "  - `tf.keras.callbacks.LearningRateSchduler`\n",
        "  - 최적화를 하는 동안 학습률(learning_rate)를 동적으로 변경할 때 사용\n",
        "\n",
        "- TensorBoard\n",
        "  - `tf.keras.callbacks.TensorBoard`\n",
        "  - 모델의 경과를 모니터링할 때 사용\n"
      ]
    },
    {
      "cell_type": "code",
      "execution_count": 88,
      "metadata": {
        "id": "0_oKQ3gw4Gtp"
      },
      "outputs": [
        {
          "name": "stdout",
          "output_type": "stream",
          "text": [
            "Train data: (60000, 28, 28)\tLabel: (60000,)\n",
            "Train data: (42000, 28, 28)\tLabel: (42000,)\n",
            "Validation data: (18000, 28, 28)\tLabel: (18000,)\n",
            "Test data: (10000, 28, 28)\tLabel: (10000,)\n",
            "Model: \"sequential_4\"\n",
            "_________________________________________________________________\n",
            " Layer (type)                Output Shape              Param #   \n",
            "=================================================================\n",
            " flatten (Flatten)           (None, 784)               0         \n",
            "                                                                 \n",
            " dense1 (Dense)              (None, 100)               78500     \n",
            "                                                                 \n",
            " dense2 (Dense)              (None, 64)                6464      \n",
            "                                                                 \n",
            " dense3 (Dense)              (None, 32)                2080      \n",
            "                                                                 \n",
            " output (Dense)              (None, 10)                330       \n",
            "                                                                 \n",
            "=================================================================\n",
            "Total params: 87374 (341.30 KB)\n",
            "Trainable params: 87374 (341.30 KB)\n",
            "Non-trainable params: 0 (0.00 Byte)\n",
            "_________________________________________________________________\n"
          ]
        }
      ],
      "source": [
        "(x_train_full, y_train_full), (x_test, y_test) = load_data(path=\"mnist.npz\")\n",
        "\n",
        "x_train, x_val, y_train, y_val = train_test_split(x_train_full, y_train_full, test_size=0.3, random_state=111)\n",
        "\n",
        "print(f\"Train data: {x_train_full.shape}\\tLabel: {y_train_full.shape}\")\n",
        "print(f\"Train data: {x_train.shape}\\tLabel: {y_train.shape}\")\n",
        "print(f\"Validation data: {x_val.shape}\\tLabel: {y_val.shape}\")\n",
        "print(f\"Test data: {x_test.shape}\\tLabel: {y_test.shape}\")\n",
        "\n",
        "x_train = x_train / 255\n",
        "x_val = x_val / 255\n",
        "x_test = x_test / 255\n",
        "\n",
        "y_train = to_categorical(y_train)\n",
        "y_val = to_categorical(y_val)\n",
        "y_test = to_categorical(y_test)\n",
        "\n",
        "def build_model():\n",
        "    model = Sequential([\n",
        "        Input(shape=[28, 28], name=\"input\"),\n",
        "        Flatten(input_shape=[28, 28], name=\"flatten\"),\n",
        "        Dense(100, activation=\"relu\", name=\"dense1\"),\n",
        "        Dense(64, activation=\"relu\", name=\"dense2\"),\n",
        "        Dense(32, activation=\"relu\", name=\"dense3\"),\n",
        "        Dense(10, activation=\"softmax\", name=\"output\"),\n",
        "    ])\n",
        "\n",
        "    model.compile(loss=\"categorical_crossentropy\", optimizer=tf.optimizers.SGD(), metrics=[\"accuracy\"])\n",
        "\n",
        "    return model\n",
        "\n",
        "model = build_model()\n",
        "\n",
        "model.summary()"
      ]
    },
    {
      "cell_type": "code",
      "execution_count": 89,
      "metadata": {
        "id": "ENnkJ6Qq2JQm"
      },
      "outputs": [],
      "source": [
        "from keras.models import load_model\n",
        "from keras.callbacks import ModelCheckpoint, EarlyStopping, LearningRateScheduler, TensorBoard"
      ]
    },
    {
      "cell_type": "markdown",
      "metadata": {
        "id": "xNBMnd5IgE8H"
      },
      "source": [
        "### ModelCheckpoint"
      ]
    },
    {
      "cell_type": "code",
      "execution_count": 90,
      "metadata": {
        "id": "tVOIVgBnqdIg"
      },
      "outputs": [
        {
          "name": "stdout",
          "output_type": "stream",
          "text": [
            "Epoch 1/50\n"
          ]
        },
        {
          "name": "stdout",
          "output_type": "stream",
          "text": [
            "1313/1313 [==============================] - 2s 1ms/step - loss: 0.8731 - accuracy: 0.7570\n",
            "Epoch 2/50\n",
            "1313/1313 [==============================] - 2s 1ms/step - loss: 0.3229 - accuracy: 0.9080\n",
            "Epoch 3/50\n",
            "1313/1313 [==============================] - 2s 1ms/step - loss: 0.2553 - accuracy: 0.9254\n",
            "Epoch 4/50\n",
            "1313/1313 [==============================] - 2s 1ms/step - loss: 0.2156 - accuracy: 0.9375\n",
            "Epoch 5/50\n",
            "1313/1313 [==============================] - 2s 1ms/step - loss: 0.1872 - accuracy: 0.9464\n",
            "Epoch 6/50\n",
            "1313/1313 [==============================] - 2s 1ms/step - loss: 0.1667 - accuracy: 0.9519\n",
            "Epoch 7/50\n",
            "1313/1313 [==============================] - 2s 1ms/step - loss: 0.1497 - accuracy: 0.9578\n",
            "Epoch 8/50\n",
            "1313/1313 [==============================] - 2s 1ms/step - loss: 0.1360 - accuracy: 0.9611\n",
            "Epoch 9/50\n",
            "1313/1313 [==============================] - 2s 1ms/step - loss: 0.1242 - accuracy: 0.9636\n",
            "Epoch 10/50\n",
            "1313/1313 [==============================] - 2s 1ms/step - loss: 0.1145 - accuracy: 0.9670\n",
            "Epoch 11/50\n",
            "1313/1313 [==============================] - 2s 1ms/step - loss: 0.1052 - accuracy: 0.9700\n",
            "Epoch 12/50\n",
            "1313/1313 [==============================] - 2s 1ms/step - loss: 0.0983 - accuracy: 0.9710\n",
            "Epoch 13/50\n",
            "1313/1313 [==============================] - 2s 1ms/step - loss: 0.0913 - accuracy: 0.9735\n",
            "Epoch 14/50\n",
            "1313/1313 [==============================] - 2s 1ms/step - loss: 0.0854 - accuracy: 0.9756\n",
            "Epoch 15/50\n",
            "1313/1313 [==============================] - 2s 1ms/step - loss: 0.0790 - accuracy: 0.9776\n",
            "Epoch 16/50\n",
            "1313/1313 [==============================] - 2s 1ms/step - loss: 0.0732 - accuracy: 0.9790\n",
            "Epoch 17/50\n",
            "1313/1313 [==============================] - 2s 1ms/step - loss: 0.0695 - accuracy: 0.9801\n",
            "Epoch 18/50\n",
            "1313/1313 [==============================] - 2s 1ms/step - loss: 0.0641 - accuracy: 0.9821\n",
            "Epoch 19/50\n",
            "1313/1313 [==============================] - 2s 1ms/step - loss: 0.0608 - accuracy: 0.9824\n",
            "Epoch 20/50\n",
            "1313/1313 [==============================] - 2s 1ms/step - loss: 0.0566 - accuracy: 0.9843\n",
            "Epoch 21/50\n",
            "1313/1313 [==============================] - 2s 1ms/step - loss: 0.0527 - accuracy: 0.9856\n",
            "Epoch 22/50\n",
            "1313/1313 [==============================] - 2s 1ms/step - loss: 0.0499 - accuracy: 0.9858\n",
            "Epoch 23/50\n",
            "1313/1313 [==============================] - 2s 1ms/step - loss: 0.0468 - accuracy: 0.9869\n",
            "Epoch 24/50\n",
            "1313/1313 [==============================] - 2s 1ms/step - loss: 0.0436 - accuracy: 0.9880\n",
            "Epoch 25/50\n",
            "1313/1313 [==============================] - 2s 1ms/step - loss: 0.0411 - accuracy: 0.9888\n",
            "Epoch 26/50\n",
            "1313/1313 [==============================] - 2s 1ms/step - loss: 0.0377 - accuracy: 0.9902\n",
            "Epoch 27/50\n",
            "1313/1313 [==============================] - 2s 1ms/step - loss: 0.0354 - accuracy: 0.9905\n",
            "Epoch 28/50\n",
            "1313/1313 [==============================] - 2s 1ms/step - loss: 0.0333 - accuracy: 0.9914\n",
            "Epoch 29/50\n",
            "1313/1313 [==============================] - 2s 1ms/step - loss: 0.0309 - accuracy: 0.9917\n",
            "Epoch 30/50\n",
            "1313/1313 [==============================] - 2s 1ms/step - loss: 0.0287 - accuracy: 0.9927\n",
            "Epoch 31/50\n",
            "1313/1313 [==============================] - 2s 1ms/step - loss: 0.0270 - accuracy: 0.9935\n",
            "Epoch 32/50\n",
            "1313/1313 [==============================] - 2s 1ms/step - loss: 0.0247 - accuracy: 0.9939\n",
            "Epoch 33/50\n",
            "1313/1313 [==============================] - 2s 1ms/step - loss: 0.0230 - accuracy: 0.9943\n",
            "Epoch 34/50\n",
            "1313/1313 [==============================] - 2s 1ms/step - loss: 0.0217 - accuracy: 0.9947\n",
            "Epoch 35/50\n",
            "1313/1313 [==============================] - 2s 1ms/step - loss: 0.0197 - accuracy: 0.9958\n",
            "Epoch 36/50\n",
            "1313/1313 [==============================] - 2s 1ms/step - loss: 0.0179 - accuracy: 0.9961\n",
            "Epoch 37/50\n",
            "1313/1313 [==============================] - 2s 1ms/step - loss: 0.0176 - accuracy: 0.9959\n",
            "Epoch 38/50\n",
            "1313/1313 [==============================] - 2s 1ms/step - loss: 0.0158 - accuracy: 0.9970\n",
            "Epoch 39/50\n",
            "1313/1313 [==============================] - 2s 1ms/step - loss: 0.0148 - accuracy: 0.9971\n",
            "Epoch 40/50\n",
            "1313/1313 [==============================] - 1s 1ms/step - loss: 0.0136 - accuracy: 0.9974\n",
            "Epoch 41/50\n",
            "1313/1313 [==============================] - 2s 1ms/step - loss: 0.0128 - accuracy: 0.9976\n",
            "Epoch 42/50\n",
            "1313/1313 [==============================] - 2s 1ms/step - loss: 0.0117 - accuracy: 0.9980\n",
            "Epoch 43/50\n",
            "1313/1313 [==============================] - 2s 1ms/step - loss: 0.0110 - accuracy: 0.9984\n",
            "Epoch 44/50\n",
            "1313/1313 [==============================] - 2s 1ms/step - loss: 0.0101 - accuracy: 0.9987\n",
            "Epoch 45/50\n",
            "1313/1313 [==============================] - 2s 1ms/step - loss: 0.0095 - accuracy: 0.9988\n",
            "Epoch 46/50\n",
            "1313/1313 [==============================] - 2s 1ms/step - loss: 0.0087 - accuracy: 0.9988\n",
            "Epoch 47/50\n",
            "1313/1313 [==============================] - 2s 1ms/step - loss: 0.0080 - accuracy: 0.9993\n",
            "Epoch 48/50\n",
            "1313/1313 [==============================] - 2s 1ms/step - loss: 0.0076 - accuracy: 0.9991\n",
            "Epoch 49/50\n",
            "1313/1313 [==============================] - 2s 1ms/step - loss: 0.0073 - accuracy: 0.9991\n",
            "Epoch 50/50\n",
            "1313/1313 [==============================] - 2s 1ms/step - loss: 0.0065 - accuracy: 0.9995\n"
          ]
        }
      ],
      "source": [
        "check_point_cb = ModelCheckpoint(\"keras_mnist_model.keras\")\n",
        "history = model.fit(x_train, y_train, epochs=50, callbacks=[check_point_cb])"
      ]
    },
    {
      "cell_type": "code",
      "execution_count": 91,
      "metadata": {
        "id": "HAHm-GqSqdE7"
      },
      "outputs": [
        {
          "data": {
            "text/plain": [
              "dict_keys(['loss', 'accuracy'])"
            ]
          },
          "execution_count": 91,
          "metadata": {},
          "output_type": "execute_result"
        }
      ],
      "source": [
        "history.history.keys()"
      ]
    },
    {
      "cell_type": "code",
      "execution_count": 92,
      "metadata": {
        "id": "h4Z8KGWSqdBb"
      },
      "outputs": [
        {
          "name": "stdout",
          "output_type": "stream",
          "text": [
            "Model: \"sequential_4\"\n",
            "_________________________________________________________________\n",
            " Layer (type)                Output Shape              Param #   \n",
            "=================================================================\n",
            " flatten (Flatten)           (None, 784)               0         \n",
            "                                                                 \n",
            " dense1 (Dense)              (None, 100)               78500     \n",
            "                                                                 \n",
            " dense2 (Dense)              (None, 64)                6464      \n",
            "                                                                 \n",
            " dense3 (Dense)              (None, 32)                2080      \n",
            "                                                                 \n",
            " output (Dense)              (None, 10)                330       \n",
            "                                                                 \n",
            "=================================================================\n",
            "Total params: 87374 (341.30 KB)\n",
            "Trainable params: 87374 (341.30 KB)\n",
            "Non-trainable params: 0 (0.00 Byte)\n",
            "_________________________________________________________________\n"
          ]
        }
      ],
      "source": [
        "loaded_model = load_model(\"keras_mnist_model.keras\")\n",
        "\n",
        "loaded_model.summary()"
      ]
    },
    {
      "cell_type": "markdown",
      "metadata": {
        "id": "dGv8fIyo4_Th"
      },
      "source": [
        "최상의 모델만을 저장\n",
        "- save_best_only=True"
      ]
    },
    {
      "cell_type": "code",
      "execution_count": 93,
      "metadata": {
        "id": "4W4rJEOsqc98"
      },
      "outputs": [
        {
          "name": "stdout",
          "output_type": "stream",
          "text": [
            "Epoch 1/50\n"
          ]
        },
        {
          "name": "stdout",
          "output_type": "stream",
          "text": [
            "1313/1313 [==============================] - 3s 2ms/step - loss: 0.7889 - accuracy: 0.7793 - val_loss: 0.3607 - val_accuracy: 0.8941\n",
            "Epoch 2/50\n",
            " 130/1313 [=>............................] - ETA: 1s - loss: 0.3665 - accuracy: 0.8933"
          ]
        },
        {
          "name": "stderr",
          "output_type": "stream",
          "text": [
            "c:\\Users\\kksoo\\anaconda3\\Lib\\site-packages\\keras\\src\\engine\\training.py:3079: UserWarning: You are saving your model as an HDF5 file via `model.save()`. This file format is considered legacy. We recommend using instead the native Keras format, e.g. `model.save('my_model.keras')`.\n",
            "  saving_api.save_model(\n"
          ]
        },
        {
          "name": "stdout",
          "output_type": "stream",
          "text": [
            "1313/1313 [==============================] - 2s 2ms/step - loss: 0.3138 - accuracy: 0.9092 - val_loss: 0.2841 - val_accuracy: 0.9155\n",
            "Epoch 3/50\n",
            "1313/1313 [==============================] - 2s 2ms/step - loss: 0.2510 - accuracy: 0.9271 - val_loss: 0.2341 - val_accuracy: 0.9307\n",
            "Epoch 4/50\n",
            "1313/1313 [==============================] - 2s 2ms/step - loss: 0.2108 - accuracy: 0.9399 - val_loss: 0.2131 - val_accuracy: 0.9368\n",
            "Epoch 5/50\n",
            "1313/1313 [==============================] - 2s 2ms/step - loss: 0.1822 - accuracy: 0.9478 - val_loss: 0.1854 - val_accuracy: 0.9451\n",
            "Epoch 6/50\n",
            "1313/1313 [==============================] - 2s 2ms/step - loss: 0.1605 - accuracy: 0.9535 - val_loss: 0.1720 - val_accuracy: 0.9498\n",
            "Epoch 7/50\n",
            "1313/1313 [==============================] - 2s 2ms/step - loss: 0.1435 - accuracy: 0.9584 - val_loss: 0.1544 - val_accuracy: 0.9555\n",
            "Epoch 8/50\n",
            "1313/1313 [==============================] - 2s 2ms/step - loss: 0.1296 - accuracy: 0.9620 - val_loss: 0.1414 - val_accuracy: 0.9579\n",
            "Epoch 9/50\n",
            "1313/1313 [==============================] - 3s 2ms/step - loss: 0.1171 - accuracy: 0.9658 - val_loss: 0.1361 - val_accuracy: 0.9594\n",
            "Epoch 10/50\n",
            "1313/1313 [==============================] - 3s 2ms/step - loss: 0.1067 - accuracy: 0.9689 - val_loss: 0.1310 - val_accuracy: 0.9596\n",
            "Epoch 11/50\n",
            "1313/1313 [==============================] - 2s 2ms/step - loss: 0.0979 - accuracy: 0.9715 - val_loss: 0.1251 - val_accuracy: 0.9614\n",
            "Epoch 12/50\n",
            "1313/1313 [==============================] - 3s 2ms/step - loss: 0.0905 - accuracy: 0.9738 - val_loss: 0.1244 - val_accuracy: 0.9637\n",
            "Epoch 13/50\n",
            "1313/1313 [==============================] - 3s 2ms/step - loss: 0.0832 - accuracy: 0.9756 - val_loss: 0.1162 - val_accuracy: 0.9662\n",
            "Epoch 14/50\n",
            "1313/1313 [==============================] - 3s 2ms/step - loss: 0.0771 - accuracy: 0.9778 - val_loss: 0.1123 - val_accuracy: 0.9661\n",
            "Epoch 15/50\n",
            "1313/1313 [==============================] - 2s 2ms/step - loss: 0.0709 - accuracy: 0.9799 - val_loss: 0.1126 - val_accuracy: 0.9662\n",
            "Epoch 16/50\n",
            "1313/1313 [==============================] - 2s 2ms/step - loss: 0.0658 - accuracy: 0.9811 - val_loss: 0.1129 - val_accuracy: 0.9653\n",
            "Epoch 17/50\n",
            "1313/1313 [==============================] - 2s 2ms/step - loss: 0.0614 - accuracy: 0.9825 - val_loss: 0.1160 - val_accuracy: 0.9657\n",
            "Epoch 18/50\n",
            "1313/1313 [==============================] - 2s 2ms/step - loss: 0.0568 - accuracy: 0.9842 - val_loss: 0.1131 - val_accuracy: 0.9662\n",
            "Epoch 19/50\n",
            "1313/1313 [==============================] - 2s 2ms/step - loss: 0.0533 - accuracy: 0.9849 - val_loss: 0.1050 - val_accuracy: 0.9684\n",
            "Epoch 20/50\n",
            "1313/1313 [==============================] - 2s 2ms/step - loss: 0.0496 - accuracy: 0.9860 - val_loss: 0.1160 - val_accuracy: 0.9648\n",
            "Epoch 21/50\n",
            "1313/1313 [==============================] - 2s 2ms/step - loss: 0.0461 - accuracy: 0.9874 - val_loss: 0.1127 - val_accuracy: 0.9664\n",
            "Epoch 22/50\n",
            "1313/1313 [==============================] - 2s 2ms/step - loss: 0.0424 - accuracy: 0.9884 - val_loss: 0.1047 - val_accuracy: 0.9692\n",
            "Epoch 23/50\n",
            "1313/1313 [==============================] - 2s 2ms/step - loss: 0.0403 - accuracy: 0.9888 - val_loss: 0.1017 - val_accuracy: 0.9691\n",
            "Epoch 24/50\n",
            "1313/1313 [==============================] - 2s 2ms/step - loss: 0.0371 - accuracy: 0.9900 - val_loss: 0.1073 - val_accuracy: 0.9688\n",
            "Epoch 25/50\n",
            "1313/1313 [==============================] - 2s 2ms/step - loss: 0.0345 - accuracy: 0.9908 - val_loss: 0.1009 - val_accuracy: 0.9697\n",
            "Epoch 26/50\n",
            "1313/1313 [==============================] - 2s 2ms/step - loss: 0.0317 - accuracy: 0.9921 - val_loss: 0.1009 - val_accuracy: 0.9704\n",
            "Epoch 27/50\n",
            "1313/1313 [==============================] - 2s 2ms/step - loss: 0.0299 - accuracy: 0.9925 - val_loss: 0.1009 - val_accuracy: 0.9701\n",
            "Epoch 28/50\n",
            "1313/1313 [==============================] - 2s 2ms/step - loss: 0.0276 - accuracy: 0.9933 - val_loss: 0.1030 - val_accuracy: 0.9699\n",
            "Epoch 29/50\n",
            "1313/1313 [==============================] - 2s 2ms/step - loss: 0.0256 - accuracy: 0.9936 - val_loss: 0.1015 - val_accuracy: 0.9712\n",
            "Epoch 30/50\n",
            "1313/1313 [==============================] - 2s 2ms/step - loss: 0.0234 - accuracy: 0.9946 - val_loss: 0.1005 - val_accuracy: 0.9710\n",
            "Epoch 31/50\n",
            "1313/1313 [==============================] - 2s 2ms/step - loss: 0.0218 - accuracy: 0.9953 - val_loss: 0.1047 - val_accuracy: 0.9706\n",
            "Epoch 32/50\n",
            "1313/1313 [==============================] - 2s 2ms/step - loss: 0.0204 - accuracy: 0.9955 - val_loss: 0.1052 - val_accuracy: 0.9714\n",
            "Epoch 33/50\n",
            "1313/1313 [==============================] - 2s 2ms/step - loss: 0.0184 - accuracy: 0.9965 - val_loss: 0.1047 - val_accuracy: 0.9714\n",
            "Epoch 34/50\n",
            "1313/1313 [==============================] - 2s 2ms/step - loss: 0.0174 - accuracy: 0.9968 - val_loss: 0.1060 - val_accuracy: 0.9709\n",
            "Epoch 35/50\n",
            "1313/1313 [==============================] - 2s 2ms/step - loss: 0.0159 - accuracy: 0.9971 - val_loss: 0.1044 - val_accuracy: 0.9724\n",
            "Epoch 36/50\n",
            "1313/1313 [==============================] - 2s 2ms/step - loss: 0.0145 - accuracy: 0.9976 - val_loss: 0.1050 - val_accuracy: 0.9713\n",
            "Epoch 37/50\n",
            "1313/1313 [==============================] - 2s 2ms/step - loss: 0.0138 - accuracy: 0.9978 - val_loss: 0.1115 - val_accuracy: 0.9703\n",
            "Epoch 38/50\n",
            "1313/1313 [==============================] - 2s 2ms/step - loss: 0.0126 - accuracy: 0.9980 - val_loss: 0.1100 - val_accuracy: 0.9717\n",
            "Epoch 39/50\n",
            "1313/1313 [==============================] - 2s 2ms/step - loss: 0.0119 - accuracy: 0.9984 - val_loss: 0.1075 - val_accuracy: 0.9717\n",
            "Epoch 40/50\n",
            "1313/1313 [==============================] - 2s 2ms/step - loss: 0.0109 - accuracy: 0.9987 - val_loss: 0.1122 - val_accuracy: 0.9708\n",
            "Epoch 41/50\n",
            "1313/1313 [==============================] - 2s 2ms/step - loss: 0.0103 - accuracy: 0.9987 - val_loss: 0.1098 - val_accuracy: 0.9716\n",
            "Epoch 42/50\n",
            "1313/1313 [==============================] - 2s 2ms/step - loss: 0.0097 - accuracy: 0.9987 - val_loss: 0.1196 - val_accuracy: 0.9683\n",
            "Epoch 43/50\n",
            "1313/1313 [==============================] - 2s 2ms/step - loss: 0.0089 - accuracy: 0.9990 - val_loss: 0.1138 - val_accuracy: 0.9714\n",
            "Epoch 44/50\n",
            "1313/1313 [==============================] - 2s 2ms/step - loss: 0.0083 - accuracy: 0.9991 - val_loss: 0.1126 - val_accuracy: 0.9716\n",
            "Epoch 45/50\n",
            "1313/1313 [==============================] - 2s 2ms/step - loss: 0.0076 - accuracy: 0.9993 - val_loss: 0.1123 - val_accuracy: 0.9719\n",
            "Epoch 46/50\n",
            "1313/1313 [==============================] - 2s 2ms/step - loss: 0.0072 - accuracy: 0.9994 - val_loss: 0.1122 - val_accuracy: 0.9714\n",
            "Epoch 47/50\n",
            "1313/1313 [==============================] - 2s 2ms/step - loss: 0.0066 - accuracy: 0.9994 - val_loss: 0.1136 - val_accuracy: 0.9722\n",
            "Epoch 48/50\n",
            "1313/1313 [==============================] - 2s 2ms/step - loss: 0.0060 - accuracy: 0.9995 - val_loss: 0.1148 - val_accuracy: 0.9723\n",
            "Epoch 49/50\n",
            "1313/1313 [==============================] - 2s 2ms/step - loss: 0.0058 - accuracy: 0.9995 - val_loss: 0.1128 - val_accuracy: 0.9724\n",
            "Epoch 50/50\n",
            "1313/1313 [==============================] - 2s 2ms/step - loss: 0.0055 - accuracy: 0.9996 - val_loss: 0.1140 - val_accuracy: 0.9725\n"
          ]
        }
      ],
      "source": [
        "model = build_model()\n",
        "\n",
        "cp = ModelCheckpoint(\"keras_best_mnist_model.h5\", save_best_only=True)\n",
        "history = model.fit(x_train, y_train, epochs=50, validation_data=(x_val, y_val), callbacks=[cp])"
      ]
    },
    {
      "cell_type": "code",
      "execution_count": 94,
      "metadata": {
        "id": "r2QNCtmjqc6f"
      },
      "outputs": [
        {
          "data": {
            "text/plain": [
              "dict_keys(['loss', 'accuracy', 'val_loss', 'val_accuracy'])"
            ]
          },
          "execution_count": 94,
          "metadata": {},
          "output_type": "execute_result"
        }
      ],
      "source": [
        "history.history.keys()"
      ]
    },
    {
      "cell_type": "code",
      "execution_count": 95,
      "metadata": {
        "id": "_HlEkRagqc3D"
      },
      "outputs": [],
      "source": [
        "# loaded_model_2 = load_model(\"keras_best_mnist_model.h5\")\n",
        "\n",
        "# loaded_model_2.summary()"
      ]
    },
    {
      "cell_type": "markdown",
      "metadata": {
        "id": "osAT_QOp7roL"
      },
      "source": [
        "### EarlyStopping\n",
        "- 일정 에포크(patience) 동안 검증 세트에 대한 점수가 오르지 않으면 학습을 멈춤\n",
        "\n",
        "- 모델이 향상되지 않으면 학습이 자동으로 중지되므로,  \n",
        "  에포크(epochs) 숫자를 크게 해도 무방\n",
        "\n",
        "- 학습이 끝난 후의 최상의 가중치를 복원하기 때문에 모델을 따로 복원할 필요없음"
      ]
    },
    {
      "cell_type": "code",
      "execution_count": 96,
      "metadata": {
        "id": "JT61djueqczo"
      },
      "outputs": [
        {
          "name": "stdout",
          "output_type": "stream",
          "text": [
            "Epoch 1/100\n"
          ]
        },
        {
          "name": "stdout",
          "output_type": "stream",
          "text": [
            "1313/1313 [==============================] - 3s 2ms/step - loss: 0.8236 - accuracy: 0.7604 - val_loss: 0.3885 - val_accuracy: 0.8835\n",
            "Epoch 2/100\n",
            "1313/1313 [==============================] - 2s 2ms/step - loss: 0.3290 - accuracy: 0.9038 - val_loss: 0.3025 - val_accuracy: 0.9097\n",
            "Epoch 3/100\n",
            "1313/1313 [==============================] - 2s 2ms/step - loss: 0.2579 - accuracy: 0.9249 - val_loss: 0.2396 - val_accuracy: 0.9286\n",
            "Epoch 4/100\n",
            "1313/1313 [==============================] - 2s 2ms/step - loss: 0.2163 - accuracy: 0.9367 - val_loss: 0.2149 - val_accuracy: 0.9364\n",
            "Epoch 5/100\n",
            "1313/1313 [==============================] - 2s 2ms/step - loss: 0.1874 - accuracy: 0.9449 - val_loss: 0.1913 - val_accuracy: 0.9437\n",
            "Epoch 6/100\n",
            "1313/1313 [==============================] - 2s 2ms/step - loss: 0.1656 - accuracy: 0.9516 - val_loss: 0.1776 - val_accuracy: 0.9469\n",
            "Epoch 7/100\n",
            "1313/1313 [==============================] - 2s 2ms/step - loss: 0.1478 - accuracy: 0.9566 - val_loss: 0.1690 - val_accuracy: 0.9491\n",
            "Epoch 8/100\n",
            "1313/1313 [==============================] - 2s 2ms/step - loss: 0.1331 - accuracy: 0.9612 - val_loss: 0.1474 - val_accuracy: 0.9564\n",
            "Epoch 9/100\n",
            "1313/1313 [==============================] - 2s 2ms/step - loss: 0.1208 - accuracy: 0.9639 - val_loss: 0.1419 - val_accuracy: 0.9574\n",
            "Epoch 10/100\n",
            "1313/1313 [==============================] - 2s 2ms/step - loss: 0.1097 - accuracy: 0.9681 - val_loss: 0.1325 - val_accuracy: 0.9599\n",
            "Epoch 11/100\n",
            "1313/1313 [==============================] - 2s 2ms/step - loss: 0.1001 - accuracy: 0.9711 - val_loss: 0.1301 - val_accuracy: 0.9600\n",
            "Epoch 12/100\n",
            "1313/1313 [==============================] - 2s 2ms/step - loss: 0.0928 - accuracy: 0.9724 - val_loss: 0.1352 - val_accuracy: 0.9600\n",
            "Epoch 13/100\n",
            "1313/1313 [==============================] - 2s 2ms/step - loss: 0.0856 - accuracy: 0.9745 - val_loss: 0.1206 - val_accuracy: 0.9621\n",
            "Epoch 14/100\n",
            "1313/1313 [==============================] - 2s 2ms/step - loss: 0.0797 - accuracy: 0.9766 - val_loss: 0.1121 - val_accuracy: 0.9657\n",
            "Epoch 15/100\n",
            "1313/1313 [==============================] - 2s 2ms/step - loss: 0.0735 - accuracy: 0.9785 - val_loss: 0.1201 - val_accuracy: 0.9632\n",
            "Epoch 16/100\n",
            "1313/1313 [==============================] - 2s 2ms/step - loss: 0.0684 - accuracy: 0.9800 - val_loss: 0.1101 - val_accuracy: 0.9658\n",
            "Epoch 17/100\n",
            "1313/1313 [==============================] - 2s 2ms/step - loss: 0.0640 - accuracy: 0.9814 - val_loss: 0.1077 - val_accuracy: 0.9673\n",
            "Epoch 18/100\n",
            "1313/1313 [==============================] - 2s 2ms/step - loss: 0.0590 - accuracy: 0.9830 - val_loss: 0.1084 - val_accuracy: 0.9661\n",
            "Epoch 19/100\n",
            "1313/1313 [==============================] - 2s 2ms/step - loss: 0.0553 - accuracy: 0.9842 - val_loss: 0.1068 - val_accuracy: 0.9668\n",
            "Epoch 20/100\n",
            "1313/1313 [==============================] - 2s 2ms/step - loss: 0.0517 - accuracy: 0.9850 - val_loss: 0.1063 - val_accuracy: 0.9679\n",
            "Epoch 21/100\n",
            "1313/1313 [==============================] - 2s 2ms/step - loss: 0.0481 - accuracy: 0.9861 - val_loss: 0.1051 - val_accuracy: 0.9681\n",
            "Epoch 22/100\n",
            "1313/1313 [==============================] - 2s 2ms/step - loss: 0.0438 - accuracy: 0.9879 - val_loss: 0.1071 - val_accuracy: 0.9682\n",
            "Epoch 23/100\n",
            "1313/1313 [==============================] - 2s 2ms/step - loss: 0.0419 - accuracy: 0.9879 - val_loss: 0.1010 - val_accuracy: 0.9698\n",
            "Epoch 24/100\n",
            "1313/1313 [==============================] - 2s 2ms/step - loss: 0.0387 - accuracy: 0.9893 - val_loss: 0.1047 - val_accuracy: 0.9689\n",
            "Epoch 25/100\n",
            "1313/1313 [==============================] - 2s 2ms/step - loss: 0.0361 - accuracy: 0.9897 - val_loss: 0.1033 - val_accuracy: 0.9694\n",
            "Epoch 26/100\n",
            "1313/1313 [==============================] - 2s 2ms/step - loss: 0.0334 - accuracy: 0.9909 - val_loss: 0.1115 - val_accuracy: 0.9669\n"
          ]
        }
      ],
      "source": [
        "model = build_model()\n",
        "\n",
        "cp = ModelCheckpoint(\"keras_best_mnist_model_2.h5\", save_best_only=True)\n",
        "early_stopping_cb = EarlyStopping(patience=3, monitor=\"val_loss\", restore_best_weights=True)\n",
        "\n",
        "history = model.fit(x_train, y_train, epochs=100, validation_data=(x_val, y_val), callbacks=[cp, early_stopping_cb])"
      ]
    },
    {
      "cell_type": "markdown",
      "metadata": {
        "id": "sPadOgZM9bM-"
      },
      "source": [
        "### LearningRateScheduler"
      ]
    },
    {
      "cell_type": "code",
      "execution_count": 97,
      "metadata": {
        "id": "njq81hTgqcwG"
      },
      "outputs": [],
      "source": [
        "def scheduler(epoch, lr):\n",
        "    if epoch < 10:\n",
        "        return lr\n",
        "    else:\n",
        "        return lr * tf.math.exp(-0.1)"
      ]
    },
    {
      "cell_type": "code",
      "execution_count": 98,
      "metadata": {
        "id": "5AUc7PaMqcsd"
      },
      "outputs": [
        {
          "data": {
            "text/plain": [
              "0.01"
            ]
          },
          "execution_count": 98,
          "metadata": {},
          "output_type": "execute_result"
        }
      ],
      "source": [
        "model = build_model()\n",
        "\n",
        "round(model.optimizer.lr.numpy(), 5)"
      ]
    },
    {
      "cell_type": "code",
      "execution_count": 99,
      "metadata": {
        "id": "ZEH3d9__qco9"
      },
      "outputs": [
        {
          "name": "stdout",
          "output_type": "stream",
          "text": [
            "Epoch 1/15\n"
          ]
        },
        {
          "name": "stdout",
          "output_type": "stream",
          "text": [
            "1313/1313 [==============================] - 3s 2ms/step - loss: 0.8552 - accuracy: 0.7600 - val_loss: 0.3803 - val_accuracy: 0.8862 - lr: 0.0100\n",
            "Epoch 2/15\n",
            "1313/1313 [==============================] - 2s 2ms/step - loss: 0.3271 - accuracy: 0.9048 - val_loss: 0.2894 - val_accuracy: 0.9129 - lr: 0.0100\n",
            "Epoch 3/15\n",
            "1313/1313 [==============================] - 2s 2ms/step - loss: 0.2603 - accuracy: 0.9240 - val_loss: 0.2404 - val_accuracy: 0.9290 - lr: 0.0100\n",
            "Epoch 4/15\n",
            "1313/1313 [==============================] - 2s 2ms/step - loss: 0.2200 - accuracy: 0.9364 - val_loss: 0.2168 - val_accuracy: 0.9361 - lr: 0.0100\n",
            "Epoch 5/15\n",
            "1313/1313 [==============================] - 2s 2ms/step - loss: 0.1912 - accuracy: 0.9448 - val_loss: 0.1943 - val_accuracy: 0.9428 - lr: 0.0100\n",
            "Epoch 6/15\n",
            "1313/1313 [==============================] - 2s 2ms/step - loss: 0.1691 - accuracy: 0.9510 - val_loss: 0.1846 - val_accuracy: 0.9463 - lr: 0.0100\n",
            "Epoch 7/15\n",
            "1313/1313 [==============================] - 2s 2ms/step - loss: 0.1519 - accuracy: 0.9563 - val_loss: 0.1696 - val_accuracy: 0.9488 - lr: 0.0100\n",
            "Epoch 8/15\n",
            "1313/1313 [==============================] - 2s 2ms/step - loss: 0.1370 - accuracy: 0.9609 - val_loss: 0.1504 - val_accuracy: 0.9561 - lr: 0.0100\n",
            "Epoch 9/15\n",
            "1313/1313 [==============================] - 2s 2ms/step - loss: 0.1247 - accuracy: 0.9642 - val_loss: 0.1417 - val_accuracy: 0.9571 - lr: 0.0100\n",
            "Epoch 10/15\n",
            "1313/1313 [==============================] - 2s 2ms/step - loss: 0.1141 - accuracy: 0.9663 - val_loss: 0.1363 - val_accuracy: 0.9588 - lr: 0.0100\n",
            "Epoch 11/15\n",
            "1313/1313 [==============================] - 2s 2ms/step - loss: 0.1042 - accuracy: 0.9698 - val_loss: 0.1280 - val_accuracy: 0.9622 - lr: 0.0090\n",
            "Epoch 12/15\n",
            "1313/1313 [==============================] - 2s 2ms/step - loss: 0.0963 - accuracy: 0.9725 - val_loss: 0.1386 - val_accuracy: 0.9591 - lr: 0.0082\n",
            "Epoch 13/15\n",
            "1313/1313 [==============================] - 2s 2ms/step - loss: 0.0898 - accuracy: 0.9745 - val_loss: 0.1212 - val_accuracy: 0.9631 - lr: 0.0074\n",
            "Epoch 14/15\n",
            "1313/1313 [==============================] - 2s 2ms/step - loss: 0.0838 - accuracy: 0.9764 - val_loss: 0.1170 - val_accuracy: 0.9649 - lr: 0.0067\n",
            "Epoch 15/15\n",
            "1313/1313 [==============================] - 2s 2ms/step - loss: 0.0788 - accuracy: 0.9774 - val_loss: 0.1193 - val_accuracy: 0.9641 - lr: 0.0061\n"
          ]
        },
        {
          "data": {
            "text/plain": [
              "0.00607"
            ]
          },
          "execution_count": 99,
          "metadata": {},
          "output_type": "execute_result"
        }
      ],
      "source": [
        "lr_scheduler_cb = LearningRateScheduler(schedule=scheduler)\n",
        "\n",
        "history = model.fit(x_train, y_train, epochs=15, validation_data=(x_val, y_val), callbacks=[lr_scheduler_cb])\n",
        "round(model.optimizer.lr.numpy(), 5)"
      ]
    },
    {
      "cell_type": "markdown",
      "metadata": {
        "id": "A31OUv_C-QHX"
      },
      "source": [
        "### Tensorboard\n",
        "- 텐서보드를 이용하여 학습과정 모니터링"
      ]
    },
    {
      "cell_type": "markdown",
      "metadata": {
        "id": "CcDhXXgn_W2F"
      },
      "source": [
        "텐서보드를 사용하기 위해 logs폴더를 만들고, 학습이 진행되는 동안 로그 파일을 생성"
      ]
    },
    {
      "cell_type": "code",
      "execution_count": 100,
      "metadata": {
        "id": "zc38Lumyqclb"
      },
      "outputs": [
        {
          "data": {
            "text/plain": [
              "<keras.src.callbacks.TensorBoard at 0x2afc62d3a50>"
            ]
          },
          "execution_count": 100,
          "metadata": {},
          "output_type": "execute_result"
        }
      ],
      "source": [
        "TensorBoard(log_dir=\".logs\", histogram_freq=0, write_graph=True, write_images=True)"
      ]
    },
    {
      "cell_type": "code",
      "execution_count": 101,
      "metadata": {
        "id": "XS1P1aDdqcgb"
      },
      "outputs": [
        {
          "name": "stdout",
          "output_type": "stream",
          "text": [
            "Epoch 1/30\n"
          ]
        },
        {
          "name": "stdout",
          "output_type": "stream",
          "text": [
            "1313/1313 [==============================] - 3s 2ms/step - loss: 0.8266 - accuracy: 0.7635 - val_loss: 0.3639 - val_accuracy: 0.8940\n",
            "Epoch 2/30\n",
            "1313/1313 [==============================] - 2s 2ms/step - loss: 0.3195 - accuracy: 0.9072 - val_loss: 0.2935 - val_accuracy: 0.9126\n",
            "Epoch 3/30\n",
            "1313/1313 [==============================] - 2s 2ms/step - loss: 0.2582 - accuracy: 0.9250 - val_loss: 0.2381 - val_accuracy: 0.9304\n",
            "Epoch 4/30\n",
            "1313/1313 [==============================] - 2s 2ms/step - loss: 0.2200 - accuracy: 0.9361 - val_loss: 0.2187 - val_accuracy: 0.9353\n",
            "Epoch 5/30\n",
            "1313/1313 [==============================] - 2s 2ms/step - loss: 0.1916 - accuracy: 0.9432 - val_loss: 0.2030 - val_accuracy: 0.9396\n",
            "Epoch 6/30\n",
            "1313/1313 [==============================] - 2s 2ms/step - loss: 0.1702 - accuracy: 0.9497 - val_loss: 0.1805 - val_accuracy: 0.9459\n",
            "Epoch 7/30\n",
            "1313/1313 [==============================] - 2s 2ms/step - loss: 0.1522 - accuracy: 0.9555 - val_loss: 0.1700 - val_accuracy: 0.9486\n",
            "Epoch 8/30\n",
            "1313/1313 [==============================] - 2s 2ms/step - loss: 0.1379 - accuracy: 0.9595 - val_loss: 0.1472 - val_accuracy: 0.9555\n",
            "Epoch 9/30\n",
            "1313/1313 [==============================] - 2s 2ms/step - loss: 0.1254 - accuracy: 0.9627 - val_loss: 0.1412 - val_accuracy: 0.9568\n",
            "Epoch 10/30\n",
            "1313/1313 [==============================] - 2s 2ms/step - loss: 0.1149 - accuracy: 0.9664 - val_loss: 0.1370 - val_accuracy: 0.9578\n",
            "Epoch 11/30\n",
            "1313/1313 [==============================] - 2s 2ms/step - loss: 0.1058 - accuracy: 0.9695 - val_loss: 0.1311 - val_accuracy: 0.9603\n",
            "Epoch 12/30\n",
            "1313/1313 [==============================] - 2s 2ms/step - loss: 0.0975 - accuracy: 0.9710 - val_loss: 0.1315 - val_accuracy: 0.9599\n",
            "Epoch 13/30\n",
            "1313/1313 [==============================] - 2s 2ms/step - loss: 0.0904 - accuracy: 0.9729 - val_loss: 0.1207 - val_accuracy: 0.9621\n",
            "Epoch 14/30\n",
            "1313/1313 [==============================] - 2s 2ms/step - loss: 0.0842 - accuracy: 0.9747 - val_loss: 0.1145 - val_accuracy: 0.9655\n",
            "Epoch 15/30\n",
            "1313/1313 [==============================] - 2s 2ms/step - loss: 0.0779 - accuracy: 0.9766 - val_loss: 0.1260 - val_accuracy: 0.9626\n",
            "Epoch 16/30\n",
            "1313/1313 [==============================] - 2s 2ms/step - loss: 0.0723 - accuracy: 0.9783 - val_loss: 0.1119 - val_accuracy: 0.9658\n",
            "Epoch 17/30\n",
            "1313/1313 [==============================] - 2s 2ms/step - loss: 0.0675 - accuracy: 0.9805 - val_loss: 0.1107 - val_accuracy: 0.9665\n",
            "Epoch 18/30\n",
            "1313/1313 [==============================] - 2s 2ms/step - loss: 0.0629 - accuracy: 0.9811 - val_loss: 0.1087 - val_accuracy: 0.9682\n",
            "Epoch 19/30\n",
            "1313/1313 [==============================] - 2s 2ms/step - loss: 0.0591 - accuracy: 0.9820 - val_loss: 0.1046 - val_accuracy: 0.9678\n",
            "Epoch 20/30\n",
            "1313/1313 [==============================] - 2s 2ms/step - loss: 0.0552 - accuracy: 0.9838 - val_loss: 0.1128 - val_accuracy: 0.9657\n",
            "Epoch 21/30\n",
            "1313/1313 [==============================] - 2s 2ms/step - loss: 0.0515 - accuracy: 0.9845 - val_loss: 0.1050 - val_accuracy: 0.9687\n",
            "Epoch 22/30\n",
            "1313/1313 [==============================] - 2s 2ms/step - loss: 0.0475 - accuracy: 0.9860 - val_loss: 0.1106 - val_accuracy: 0.9679\n",
            "Epoch 23/30\n",
            "1313/1313 [==============================] - 2s 2ms/step - loss: 0.0450 - accuracy: 0.9873 - val_loss: 0.1009 - val_accuracy: 0.9698\n",
            "Epoch 24/30\n",
            "1313/1313 [==============================] - 2s 2ms/step - loss: 0.0423 - accuracy: 0.9885 - val_loss: 0.1071 - val_accuracy: 0.9681\n",
            "Epoch 25/30\n",
            "1313/1313 [==============================] - 2s 2ms/step - loss: 0.0389 - accuracy: 0.9890 - val_loss: 0.1055 - val_accuracy: 0.9690\n",
            "Epoch 26/30\n",
            "1313/1313 [==============================] - 2s 2ms/step - loss: 0.0359 - accuracy: 0.9904 - val_loss: 0.1062 - val_accuracy: 0.9685\n",
            "Epoch 27/30\n",
            "1313/1313 [==============================] - 2s 2ms/step - loss: 0.0342 - accuracy: 0.9904 - val_loss: 0.1033 - val_accuracy: 0.9699\n",
            "Epoch 28/30\n",
            "1313/1313 [==============================] - 2s 2ms/step - loss: 0.0315 - accuracy: 0.9915 - val_loss: 0.1055 - val_accuracy: 0.9694\n",
            "Epoch 29/30\n",
            "1313/1313 [==============================] - 2s 2ms/step - loss: 0.0295 - accuracy: 0.9929 - val_loss: 0.1022 - val_accuracy: 0.9704\n",
            "Epoch 30/30\n",
            "1313/1313 [==============================] - 2s 2ms/step - loss: 0.0274 - accuracy: 0.9930 - val_loss: 0.1013 - val_accuracy: 0.9709\n"
          ]
        },
        {
          "data": {
            "text/plain": [
              "<keras.src.callbacks.History at 0x2afbee2e390>"
            ]
          },
          "execution_count": 101,
          "metadata": {},
          "output_type": "execute_result"
        }
      ],
      "source": [
        "log_dir = \"./logs\"\n",
        "\n",
        "tensor_board_cb = TensorBoard(log_dir=log_dir, histogram_freq=1, write_graph=True, write_images=True)\n",
        "\n",
        "model = build_model()\n",
        "\n",
        "model.fit(x_train, y_train, batch_size=32, validation_data=(x_val, y_val), epochs=30, callbacks=[tensor_board_cb])"
      ]
    },
    {
      "cell_type": "code",
      "execution_count": 108,
      "metadata": {
        "id": "veufv36_BiZM"
      },
      "outputs": [
        {
          "name": "stdout",
          "output_type": "stream",
          "text": [
            "The tensorboard extension is already loaded. To reload it, use:\n",
            "  %reload_ext tensorboard\n"
          ]
        }
      ],
      "source": [
        "%load_ext tensorboard"
      ]
    },
    {
      "cell_type": "markdown",
      "metadata": {
        "id": "nkmm5b03CBQb"
      },
      "source": [
        "load하는데 시간 소요\n",
        "\n",
        "- load가 안된다면 port번호를 바꿔서 실행!  \n",
        "  ex) %tensorboard --logdir {log_dir} port 8000"
      ]
    },
    {
      "cell_type": "code",
      "execution_count": 111,
      "metadata": {
        "id": "RgN2oO6dBnmN"
      },
      "outputs": [
        {
          "data": {
            "text/plain": [
              "Reusing TensorBoard on port 8000 (pid 7424), started 0:02:31 ago. (Use '!kill 7424' to kill it.)"
            ]
          },
          "metadata": {},
          "output_type": "display_data"
        },
        {
          "data": {
            "text/html": [
              "\n",
              "      <iframe id=\"tensorboard-frame-5f44b49f777a437a\" width=\"100%\" height=\"800\" frameborder=\"0\">\n",
              "      </iframe>\n",
              "      <script>\n",
              "        (function() {\n",
              "          const frame = document.getElementById(\"tensorboard-frame-5f44b49f777a437a\");\n",
              "          const url = new URL(\"http://localhost\");\n",
              "          const port = 8000;\n",
              "          if (port) {\n",
              "            url.port = port;\n",
              "          }\n",
              "          frame.src = url;\n",
              "        })();\n",
              "      </script>\n",
              "    "
            ],
            "text/plain": [
              "<IPython.core.display.HTML object>"
            ]
          },
          "metadata": {},
          "output_type": "display_data"
        }
      ],
      "source": [
        "%tensorboard --logdir={log_dir} --port 8000"
      ]
    }
  ],
  "metadata": {
    "colab": {
      "provenance": []
    },
    "kernelspec": {
      "display_name": "Python 3",
      "name": "python3"
    },
    "language_info": {
      "codemirror_mode": {
        "name": "ipython",
        "version": 3
      },
      "file_extension": ".py",
      "mimetype": "text/x-python",
      "name": "python",
      "nbconvert_exporter": "python",
      "pygments_lexer": "ipython3",
      "version": "3.11.5"
    }
  },
  "nbformat": 4,
  "nbformat_minor": 0
}
