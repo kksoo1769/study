{
  "cells": [
    {
      "cell_type": "markdown",
      "metadata": {
        "id": "pvT4Kena44U-"
      },
      "source": [
        "# Data API\n",
        "\n",
        "- `tf.data`: https://www.tensorflow.org/api_docs/python/tf/data\n",
        "- `tf.data.datasets`\n",
        "\n"
      ]
    },
    {
      "cell_type": "markdown",
      "metadata": {
        "id": "qMJ7xx8N882t"
      },
      "source": [
        "## tf.data.datasets"
      ]
    },
    {
      "cell_type": "code",
      "execution_count": 366,
      "metadata": {
        "id": "uA_5y-rv5K0x"
      },
      "outputs": [],
      "source": [
        "import tensorflow as tf\n",
        "import tensorflow_datasets as tfds"
      ]
    },
    {
      "cell_type": "code",
      "execution_count": 367,
      "metadata": {
        "id": "_77BigY5g3hd"
      },
      "outputs": [
        {
          "data": {
            "text/plain": [
              "['abstract_reasoning',\n",
              " 'accentdb',\n",
              " 'aeslc',\n",
              " 'aflw2k3d',\n",
              " 'ag_news_subset',\n",
              " 'ai2_arc',\n",
              " 'ai2_arc_with_ir',\n",
              " 'amazon_us_reviews',\n",
              " 'anli',\n",
              " 'answer_equivalence',\n",
              " 'arc',\n",
              " 'asqa',\n",
              " 'asset',\n",
              " 'assin2',\n",
              " 'asu_table_top_converted_externally_to_rlds',\n",
              " 'austin_buds_dataset_converted_externally_to_rlds',\n",
              " 'austin_sailor_dataset_converted_externally_to_rlds',\n",
              " 'austin_sirius_dataset_converted_externally_to_rlds',\n",
              " 'bair_robot_pushing_small',\n",
              " 'bc_z',\n",
              " 'bccd',\n",
              " 'beans',\n",
              " 'bee_dataset',\n",
              " 'beir',\n",
              " 'berkeley_autolab_ur5',\n",
              " 'berkeley_cable_routing',\n",
              " 'berkeley_fanuc_manipulation',\n",
              " 'berkeley_gnm_cory_hall',\n",
              " 'berkeley_gnm_recon',\n",
              " 'berkeley_gnm_sac_son',\n",
              " 'berkeley_mvp_converted_externally_to_rlds',\n",
              " 'berkeley_rpt_converted_externally_to_rlds',\n",
              " 'big_patent',\n",
              " 'bigearthnet',\n",
              " 'billsum',\n",
              " 'binarized_mnist',\n",
              " 'binary_alpha_digits',\n",
              " 'ble_wind_field',\n",
              " 'blimp',\n",
              " 'booksum',\n",
              " 'bool_q',\n",
              " 'bot_adversarial_dialogue',\n",
              " 'bridge',\n",
              " 'bucc',\n",
              " 'c4',\n",
              " 'c4_wsrs',\n",
              " 'caltech101',\n",
              " 'caltech_birds2010',\n",
              " 'caltech_birds2011',\n",
              " 'cardiotox',\n",
              " 'cars196',\n",
              " 'cassava',\n",
              " 'cats_vs_dogs',\n",
              " 'celeb_a',\n",
              " 'celeb_a_hq',\n",
              " 'cfq',\n",
              " 'cherry_blossoms',\n",
              " 'chexpert',\n",
              " 'cifar10',\n",
              " 'cifar100',\n",
              " 'cifar100_n',\n",
              " 'cifar10_1',\n",
              " 'cifar10_corrupted',\n",
              " 'cifar10_h',\n",
              " 'cifar10_n',\n",
              " 'citrus_leaves',\n",
              " 'cityscapes',\n",
              " 'civil_comments',\n",
              " 'clevr',\n",
              " 'clic',\n",
              " 'clinc_oos',\n",
              " 'cmaterdb',\n",
              " 'cmu_franka_exploration_dataset_converted_externally_to_rlds',\n",
              " 'cmu_play_fusion',\n",
              " 'cmu_stretch',\n",
              " 'cnn_dailymail',\n",
              " 'coco',\n",
              " 'coco_captions',\n",
              " 'coil100',\n",
              " 'colorectal_histology',\n",
              " 'colorectal_histology_large',\n",
              " 'columbia_cairlab_pusht_real',\n",
              " 'common_voice',\n",
              " 'conll2002',\n",
              " 'conll2003',\n",
              " 'controlled_noisy_web_labels',\n",
              " 'coqa',\n",
              " 'corr2cause',\n",
              " 'cos_e',\n",
              " 'cosmos_qa',\n",
              " 'covid19',\n",
              " 'covid19sum',\n",
              " 'crema_d',\n",
              " 'criteo',\n",
              " 'cs_restaurants',\n",
              " 'curated_breast_imaging_ddsm',\n",
              " 'cycle_gan',\n",
              " 'd4rl_adroit_door',\n",
              " 'd4rl_adroit_hammer',\n",
              " 'd4rl_adroit_pen',\n",
              " 'd4rl_adroit_relocate',\n",
              " 'd4rl_antmaze',\n",
              " 'd4rl_mujoco_ant',\n",
              " 'd4rl_mujoco_halfcheetah',\n",
              " 'd4rl_mujoco_hopper',\n",
              " 'd4rl_mujoco_walker2d',\n",
              " 'dart',\n",
              " 'databricks_dolly',\n",
              " 'davis',\n",
              " 'deep1b',\n",
              " 'deep_weeds',\n",
              " 'definite_pronoun_resolution',\n",
              " 'dementiabank',\n",
              " 'diabetic_retinopathy_detection',\n",
              " 'diamonds',\n",
              " 'div2k',\n",
              " 'dlr_edan_shared_control_converted_externally_to_rlds',\n",
              " 'dlr_sara_grid_clamp_converted_externally_to_rlds',\n",
              " 'dlr_sara_pour_converted_externally_to_rlds',\n",
              " 'dmlab',\n",
              " 'doc_nli',\n",
              " 'dolphin_number_word',\n",
              " 'domainnet',\n",
              " 'downsampled_imagenet',\n",
              " 'drop',\n",
              " 'dsprites',\n",
              " 'dtd',\n",
              " 'duke_ultrasound',\n",
              " 'e2e_cleaned',\n",
              " 'efron_morris75',\n",
              " 'emnist',\n",
              " 'eraser_multi_rc',\n",
              " 'esnli',\n",
              " 'eth_agent_affordances',\n",
              " 'eurosat',\n",
              " 'fashion_mnist',\n",
              " 'flic',\n",
              " 'flores',\n",
              " 'food101',\n",
              " 'forest_fires',\n",
              " 'fractal20220817_data',\n",
              " 'fuss',\n",
              " 'gap',\n",
              " 'geirhos_conflict_stimuli',\n",
              " 'gem',\n",
              " 'genomics_ood',\n",
              " 'german_credit_numeric',\n",
              " 'gigaword',\n",
              " 'glove100_angular',\n",
              " 'glue',\n",
              " 'goemotions',\n",
              " 'gov_report',\n",
              " 'gpt3',\n",
              " 'gref',\n",
              " 'groove',\n",
              " 'grounded_scan',\n",
              " 'gsm8k',\n",
              " 'gtzan',\n",
              " 'gtzan_music_speech',\n",
              " 'hellaswag',\n",
              " 'higgs',\n",
              " 'hillstrom',\n",
              " 'horses_or_humans',\n",
              " 'howell',\n",
              " 'i_naturalist2017',\n",
              " 'i_naturalist2018',\n",
              " 'i_naturalist2021',\n",
              " 'iamlab_cmu_pickup_insert_converted_externally_to_rlds',\n",
              " 'imagenet2012',\n",
              " 'imagenet2012_corrupted',\n",
              " 'imagenet2012_fewshot',\n",
              " 'imagenet2012_multilabel',\n",
              " 'imagenet2012_real',\n",
              " 'imagenet2012_subset',\n",
              " 'imagenet_a',\n",
              " 'imagenet_lt',\n",
              " 'imagenet_pi',\n",
              " 'imagenet_r',\n",
              " 'imagenet_resized',\n",
              " 'imagenet_sketch',\n",
              " 'imagenet_v2',\n",
              " 'imagenette',\n",
              " 'imagewang',\n",
              " 'imdb_reviews',\n",
              " 'imdb_reviews',\n",
              " 'imperialcollege_sawyer_wrist_cam',\n",
              " 'irc_disentanglement',\n",
              " 'iris',\n",
              " 'istella',\n",
              " 'jaco_play',\n",
              " 'kaist_nonprehensile_converted_externally_to_rlds',\n",
              " 'kddcup99',\n",
              " 'kitti',\n",
              " 'kmnist',\n",
              " 'kuka',\n",
              " 'laion400m',\n",
              " 'lambada',\n",
              " 'lfw',\n",
              " 'librispeech',\n",
              " 'librispeech_lm',\n",
              " 'libritts',\n",
              " 'ljspeech',\n",
              " 'lm1b',\n",
              " 'locomotion',\n",
              " 'lost_and_found',\n",
              " 'lsun',\n",
              " 'lvis',\n",
              " 'malaria',\n",
              " 'maniskill_dataset_converted_externally_to_rlds',\n",
              " 'math_dataset',\n",
              " 'math_qa',\n",
              " 'mctaco',\n",
              " 'media_sum',\n",
              " 'mlqa',\n",
              " 'mnist',\n",
              " 'mnist_corrupted',\n",
              " 'movie_lens',\n",
              " 'movie_rationales',\n",
              " 'movielens',\n",
              " 'moving_mnist',\n",
              " 'mrqa',\n",
              " 'mslr_web',\n",
              " 'mt_opt',\n",
              " 'mtnt',\n",
              " 'multi_news',\n",
              " 'multi_nli',\n",
              " 'multi_nli_mismatch',\n",
              " 'natural_instructions',\n",
              " 'natural_questions',\n",
              " 'natural_questions_open',\n",
              " 'newsroom',\n",
              " 'nsynth',\n",
              " 'nyu_depth_v2',\n",
              " 'nyu_door_opening_surprising_effectiveness',\n",
              " 'nyu_franka_play_dataset_converted_externally_to_rlds',\n",
              " 'nyu_rot_dataset_converted_externally_to_rlds',\n",
              " 'ogbg_molpcba',\n",
              " 'omniglot',\n",
              " 'open_images_challenge2019_detection',\n",
              " 'open_images_v4',\n",
              " 'openbookqa',\n",
              " 'opinion_abstracts',\n",
              " 'opinosis',\n",
              " 'opus',\n",
              " 'oxford_flowers102',\n",
              " 'oxford_iiit_pet',\n",
              " 'para_crawl',\n",
              " 'pass',\n",
              " 'patch_camelyon',\n",
              " 'paws_wiki',\n",
              " 'paws_x_wiki',\n",
              " 'penguins',\n",
              " 'pet_finder',\n",
              " 'pg19',\n",
              " 'piqa',\n",
              " 'places365_small',\n",
              " 'placesfull',\n",
              " 'plant_leaves',\n",
              " 'plant_village',\n",
              " 'plantae_k',\n",
              " 'protein_net',\n",
              " 'q_re_cc',\n",
              " 'qa4mre',\n",
              " 'qasc',\n",
              " 'quac',\n",
              " 'quality',\n",
              " 'quickdraw_bitmap',\n",
              " 'race',\n",
              " 'radon',\n",
              " 'real_toxicity_prompts',\n",
              " 'reddit',\n",
              " 'reddit_disentanglement',\n",
              " 'reddit_tifu',\n",
              " 'ref_coco',\n",
              " 'resisc45',\n",
              " 'rlu_atari',\n",
              " 'rlu_atari_checkpoints',\n",
              " 'rlu_atari_checkpoints_ordered',\n",
              " 'rlu_control_suite',\n",
              " 'rlu_dmlab_explore_object_rewards_few',\n",
              " 'rlu_dmlab_explore_object_rewards_many',\n",
              " 'rlu_dmlab_rooms_select_nonmatching_object',\n",
              " 'rlu_dmlab_rooms_watermaze',\n",
              " 'rlu_dmlab_seekavoid_arena01',\n",
              " 'rlu_locomotion',\n",
              " 'rlu_rwrl',\n",
              " 'robomimic_mg',\n",
              " 'robomimic_mh',\n",
              " 'robomimic_ph',\n",
              " 'robonet',\n",
              " 'robosuite_panda_pick_place_can',\n",
              " 'roboturk',\n",
              " 'rock_paper_scissors',\n",
              " 'rock_you',\n",
              " 's3o4d',\n",
              " 'salient_span_wikipedia',\n",
              " 'samsum',\n",
              " 'savee',\n",
              " 'scan',\n",
              " 'scene_parse150',\n",
              " 'schema_guided_dialogue',\n",
              " 'sci_tail',\n",
              " 'scicite',\n",
              " 'scientific_papers',\n",
              " 'scrolls',\n",
              " 'segment_anything',\n",
              " 'sentiment140',\n",
              " 'shapes3d',\n",
              " 'sift1m',\n",
              " 'simpte',\n",
              " 'siscore',\n",
              " 'smallnorb',\n",
              " 'smartwatch_gestures',\n",
              " 'snli',\n",
              " 'so2sat',\n",
              " 'speech_commands',\n",
              " 'spoken_digit',\n",
              " 'squad',\n",
              " 'squad_question_generation',\n",
              " 'stanford_dogs',\n",
              " 'stanford_hydra_dataset_converted_externally_to_rlds',\n",
              " 'stanford_kuka_multimodal_dataset_converted_externally_to_rlds',\n",
              " 'stanford_mask_vit_converted_externally_to_rlds',\n",
              " 'stanford_online_products',\n",
              " 'stanford_robocook_converted_externally_to_rlds',\n",
              " 'star_cfq',\n",
              " 'starcraft_video',\n",
              " 'stl10',\n",
              " 'story_cloze',\n",
              " 'summscreen',\n",
              " 'sun397',\n",
              " 'super_glue',\n",
              " 'svhn_cropped',\n",
              " 'symmetric_solids',\n",
              " 'taco_play',\n",
              " 'tao',\n",
              " 'tatoeba',\n",
              " 'ted_hrlr_translate',\n",
              " 'ted_multi_translate',\n",
              " 'tedlium',\n",
              " 'tf_flowers',\n",
              " 'the300w_lp',\n",
              " 'tiny_shakespeare',\n",
              " 'titanic',\n",
              " 'tokyo_u_lsmo_converted_externally_to_rlds',\n",
              " 'toto',\n",
              " 'trec',\n",
              " 'trivia_qa',\n",
              " 'tydi_qa',\n",
              " 'uc_merced',\n",
              " 'ucf101',\n",
              " 'ucsd_kitchen_dataset_converted_externally_to_rlds',\n",
              " 'ucsd_pick_and_place_dataset_converted_externally_to_rlds',\n",
              " 'uiuc_d3field',\n",
              " 'unified_qa',\n",
              " 'universal_dependencies',\n",
              " 'unnatural_instructions',\n",
              " 'usc_cloth_sim_converted_externally_to_rlds',\n",
              " 'user_libri_audio',\n",
              " 'user_libri_text',\n",
              " 'utaustin_mutex',\n",
              " 'utokyo_pr2_opening_fridge_converted_externally_to_rlds',\n",
              " 'utokyo_pr2_tabletop_manipulation_converted_externally_to_rlds',\n",
              " 'utokyo_saytap_converted_externally_to_rlds',\n",
              " 'utokyo_xarm_bimanual_converted_externally_to_rlds',\n",
              " 'utokyo_xarm_pick_and_place_converted_externally_to_rlds',\n",
              " 'vctk',\n",
              " 'viola',\n",
              " 'visual_domain_decathlon',\n",
              " 'voc',\n",
              " 'voxceleb',\n",
              " 'voxforge',\n",
              " 'waymo_open_dataset',\n",
              " 'web_graph',\n",
              " 'web_nlg',\n",
              " 'web_questions',\n",
              " 'webvid',\n",
              " 'wider_face',\n",
              " 'wiki40b',\n",
              " 'wiki_auto',\n",
              " 'wiki_bio',\n",
              " 'wiki_dialog',\n",
              " 'wiki_table_questions',\n",
              " 'wiki_table_text',\n",
              " 'wikiann',\n",
              " 'wikihow',\n",
              " 'wikipedia',\n",
              " 'wikipedia_toxicity_subtypes',\n",
              " 'wine_quality',\n",
              " 'winogrande',\n",
              " 'wit',\n",
              " 'wit_kaggle',\n",
              " 'wmt13_translate',\n",
              " 'wmt14_translate',\n",
              " 'wmt15_translate',\n",
              " 'wmt16_translate',\n",
              " 'wmt17_translate',\n",
              " 'wmt18_translate',\n",
              " 'wmt19_translate',\n",
              " 'wmt_t2t_translate',\n",
              " 'wmt_translate',\n",
              " 'wordnet',\n",
              " 'wsc273',\n",
              " 'xnli',\n",
              " 'xquad',\n",
              " 'xsum',\n",
              " 'xtreme_pawsx',\n",
              " 'xtreme_pos',\n",
              " 'xtreme_s',\n",
              " 'xtreme_xnli',\n",
              " 'yahoo_ltrc',\n",
              " 'yelp_polarity_reviews',\n",
              " 'yes_no',\n",
              " 'youtube_vis']"
            ]
          },
          "execution_count": 367,
          "metadata": {},
          "output_type": "execute_result"
        }
      ],
      "source": [
        "builders = tfds.list_builders()\n",
        "\n",
        "builders"
      ]
    },
    {
      "cell_type": "code",
      "execution_count": 368,
      "metadata": {
        "id": "wmRzwmofg3ef"
      },
      "outputs": [],
      "source": [
        "data, info = tfds.load('mnist', with_info=True)\n",
        "\n",
        "train_data, test_data = data['train'], data['test']"
      ]
    },
    {
      "cell_type": "code",
      "execution_count": 369,
      "metadata": {
        "id": "PgvmOxeYg3bi"
      },
      "outputs": [
        {
          "data": {
            "text/plain": [
              "tfds.core.DatasetInfo(\n",
              "    name='mnist',\n",
              "    full_name='mnist/3.0.1',\n",
              "    description=\"\"\"\n",
              "    The MNIST database of handwritten digits.\n",
              "    \"\"\",\n",
              "    homepage='http://yann.lecun.com/exdb/mnist/',\n",
              "    data_dir='C:\\\\Users\\\\kksoo\\\\tensorflow_datasets\\\\mnist\\\\3.0.1',\n",
              "    file_format=tfrecord,\n",
              "    download_size=11.06 MiB,\n",
              "    dataset_size=21.00 MiB,\n",
              "    features=FeaturesDict({\n",
              "        'image': Image(shape=(28, 28, 1), dtype=uint8),\n",
              "        'label': ClassLabel(shape=(), dtype=int64, num_classes=10),\n",
              "    }),\n",
              "    supervised_keys=('image', 'label'),\n",
              "    disable_shuffling=False,\n",
              "    splits={\n",
              "        'test': <SplitInfo num_examples=10000, num_shards=1>,\n",
              "        'train': <SplitInfo num_examples=60000, num_shards=1>,\n",
              "    },\n",
              "    citation=\"\"\"@article{lecun2010mnist,\n",
              "      title={MNIST handwritten digit database},\n",
              "      author={LeCun, Yann and Cortes, Corinna and Burges, CJ},\n",
              "      journal={ATT Labs [Online]. Available: http://yann.lecun.com/exdb/mnist},\n",
              "      volume={2},\n",
              "      year={2010}\n",
              "    }\"\"\",\n",
              ")"
            ]
          },
          "execution_count": 369,
          "metadata": {},
          "output_type": "execute_result"
        }
      ],
      "source": [
        "info"
      ]
    },
    {
      "cell_type": "markdown",
      "metadata": {
        "id": "adN6woERhQrO"
      },
      "source": [
        "## tf.data\n",
        "\n",
        "- 생성\n",
        "  - `from_tensor_slices()`: 개별 또는 다중 넘파이를 받고, 배치를 지원\n",
        "\n",
        "  - `from_tensors()`: 배치를 지원하지 않음\n",
        "\n",
        "  - `from_generator()`: 생성자 함수에서 입력을 취함\n",
        "\n",
        "- 변환\n",
        "\n",
        "  - `batch()`: 순차적으로 지정한 배치사이즈로 데이터셋을 분할\n",
        "\n",
        "  - `repeat()`: 데이터를 복제\n",
        "\n",
        "  - `shuffle()`: 데이터를 무작위로 섞음\n",
        "\n",
        "  - `map()`: 데이터에 함수를 적용\n",
        "\n",
        "  - `filter()`: 데이터를 거르고자 할 때 사용\n",
        "- 반복\n",
        "  - `next_batch = iterator.get_next()` 사용"
      ]
    },
    {
      "cell_type": "markdown",
      "metadata": {
        "id": "51d2wkdMhTBn"
      },
      "source": [
        "### from_tensor_slices"
      ]
    },
    {
      "cell_type": "code",
      "execution_count": 370,
      "metadata": {
        "id": "HWzGguIUg3Yi"
      },
      "outputs": [],
      "source": [
        "import numpy as np"
      ]
    },
    {
      "cell_type": "code",
      "execution_count": 371,
      "metadata": {
        "id": "aaO5aOqsg3Vf"
      },
      "outputs": [],
      "source": [
        "num_items = 20\n",
        "num_list = np.arange(num_items)"
      ]
    },
    {
      "cell_type": "code",
      "execution_count": 372,
      "metadata": {
        "id": "rFKz4nK2g3Sd"
      },
      "outputs": [],
      "source": [
        "num_list_dataset = tf.data.Dataset.from_tensor_slices(num_list)"
      ]
    },
    {
      "cell_type": "code",
      "execution_count": 373,
      "metadata": {
        "id": "gzqeoFS6g3Pg"
      },
      "outputs": [
        {
          "data": {
            "text/plain": [
              "<_TensorSliceDataset element_spec=TensorSpec(shape=(), dtype=tf.int32, name=None)>"
            ]
          },
          "execution_count": 373,
          "metadata": {},
          "output_type": "execute_result"
        }
      ],
      "source": [
        "num_list_dataset"
      ]
    },
    {
      "cell_type": "code",
      "execution_count": 374,
      "metadata": {
        "id": "oBK4nAS7lpBJ"
      },
      "outputs": [
        {
          "name": "stdout",
          "output_type": "stream",
          "text": [
            "tf.Tensor(0, shape=(), dtype=int32)\n",
            "tf.Tensor(1, shape=(), dtype=int32)\n",
            "tf.Tensor(2, shape=(), dtype=int32)\n",
            "tf.Tensor(3, shape=(), dtype=int32)\n",
            "tf.Tensor(4, shape=(), dtype=int32)\n",
            "tf.Tensor(5, shape=(), dtype=int32)\n",
            "tf.Tensor(6, shape=(), dtype=int32)\n",
            "tf.Tensor(7, shape=(), dtype=int32)\n",
            "tf.Tensor(8, shape=(), dtype=int32)\n",
            "tf.Tensor(9, shape=(), dtype=int32)\n",
            "tf.Tensor(10, shape=(), dtype=int32)\n",
            "tf.Tensor(11, shape=(), dtype=int32)\n",
            "tf.Tensor(12, shape=(), dtype=int32)\n",
            "tf.Tensor(13, shape=(), dtype=int32)\n",
            "tf.Tensor(14, shape=(), dtype=int32)\n",
            "tf.Tensor(15, shape=(), dtype=int32)\n",
            "tf.Tensor(16, shape=(), dtype=int32)\n",
            "tf.Tensor(17, shape=(), dtype=int32)\n",
            "tf.Tensor(18, shape=(), dtype=int32)\n",
            "tf.Tensor(19, shape=(), dtype=int32)\n"
          ]
        }
      ],
      "source": [
        "for item in num_list_dataset:\n",
        "    print(item)"
      ]
    },
    {
      "cell_type": "markdown",
      "metadata": {
        "id": "8oSVGyqAsJz3"
      },
      "source": [
        "### from_generator()\n",
        "- 해당 클래스 메서드를 사용하면 생성자에서 데이터셋 생성 가능\n",
        "- output_types, output_shapes 인수로 출력 자료형과 크기를 지정해주어야 함"
      ]
    },
    {
      "cell_type": "code",
      "execution_count": 375,
      "metadata": {
        "id": "5LEG6TzOsOAB"
      },
      "outputs": [
        {
          "data": {
            "text/plain": [
              "[(1, array([1], dtype=int64)),\n",
              " (2, array([1, 1], dtype=int64)),\n",
              " (3, array([1, 1, 1], dtype=int64))]"
            ]
          },
          "execution_count": 375,
          "metadata": {},
          "output_type": "execute_result"
        }
      ],
      "source": [
        "import itertools\n",
        "\n",
        "def gen():\n",
        "    for i in itertools.count(1):\n",
        "        yield (i, [1] * i)\n",
        "    \n",
        "dataset = tf.data.Dataset.from_generator(gen, (tf.int64, tf.int64), (tf.TensorShape([]), tf.TensorShape([None])))\n",
        "\n",
        "list(dataset.take(3).as_numpy_iterator())"
      ]
    },
    {
      "cell_type": "code",
      "execution_count": 376,
      "metadata": {
        "id": "taha_e5QsN2U"
      },
      "outputs": [
        {
          "data": {
            "text/plain": [
              "[(1, array([1], dtype=int64)),\n",
              " (2, array([1, 1], dtype=int64)),\n",
              " (3, array([1, 1, 1], dtype=int64)),\n",
              " (4, array([1, 1, 1, 1], dtype=int64)),\n",
              " (5, array([1, 1, 1, 1, 1], dtype=int64)),\n",
              " (6, array([1, 1, 1, 1, 1, 1], dtype=int64)),\n",
              " (7, array([1, 1, 1, 1, 1, 1, 1], dtype=int64))]"
            ]
          },
          "execution_count": 376,
          "metadata": {},
          "output_type": "execute_result"
        }
      ],
      "source": [
        "def gen(stop):\n",
        "    for i in itertools.count(1):\n",
        "        if i < stop:\n",
        "            yield (i, [1] * i)\n",
        "\n",
        "dataset = tf.data.Dataset.from_generator(\n",
        "    gen,\n",
        "    (tf.int64, tf.int64),\n",
        "    (tf.TensorShape([]), tf.TensorShape([None])),\n",
        "    args=[10]\n",
        ")\n",
        "\n",
        "list(dataset.take(7).as_numpy_iterator())"
      ]
    },
    {
      "cell_type": "markdown",
      "metadata": {
        "id": "IQUCMAdilyA1"
      },
      "source": [
        "### batch, repeat\n",
        "- `batch()`: 배치 사이즈 크기\n",
        "- `repeat()`: 반복 횟수"
      ]
    },
    {
      "cell_type": "code",
      "execution_count": 377,
      "metadata": {
        "id": "qJunKghtl0Mk"
      },
      "outputs": [],
      "source": [
        "dataset = num_list_dataset.repeat(3).batch(7)"
      ]
    },
    {
      "cell_type": "code",
      "execution_count": 378,
      "metadata": {
        "id": "EwNlE6d2l0Qy"
      },
      "outputs": [
        {
          "name": "stdout",
          "output_type": "stream",
          "text": [
            "tf.Tensor([0 1 2 3 4 5 6], shape=(7,), dtype=int32)\n",
            "tf.Tensor([ 7  8  9 10 11 12 13], shape=(7,), dtype=int32)\n",
            "tf.Tensor([14 15 16 17 18 19  0], shape=(7,), dtype=int32)\n",
            "tf.Tensor([1 2 3 4 5 6 7], shape=(7,), dtype=int32)\n",
            "tf.Tensor([ 8  9 10 11 12 13 14], shape=(7,), dtype=int32)\n",
            "tf.Tensor([15 16 17 18 19  0  1], shape=(7,), dtype=int32)\n",
            "tf.Tensor([2 3 4 5 6 7 8], shape=(7,), dtype=int32)\n",
            "tf.Tensor([ 9 10 11 12 13 14 15], shape=(7,), dtype=int32)\n",
            "tf.Tensor([16 17 18 19], shape=(4,), dtype=int32)\n"
          ]
        }
      ],
      "source": [
        "for item in dataset:\n",
        "    print(item)"
      ]
    },
    {
      "cell_type": "code",
      "execution_count": 379,
      "metadata": {
        "id": "cul1bFvImVxN"
      },
      "outputs": [],
      "source": [
        "dataset = num_list_dataset.repeat(3).batch(7, drop_remainder=True)"
      ]
    },
    {
      "cell_type": "code",
      "execution_count": 380,
      "metadata": {
        "id": "IHZ8JHIBmt_f"
      },
      "outputs": [
        {
          "name": "stdout",
          "output_type": "stream",
          "text": [
            "tf.Tensor([0 1 2 3 4 5 6], shape=(7,), dtype=int32)\n",
            "tf.Tensor([ 7  8  9 10 11 12 13], shape=(7,), dtype=int32)\n",
            "tf.Tensor([14 15 16 17 18 19  0], shape=(7,), dtype=int32)\n",
            "tf.Tensor([1 2 3 4 5 6 7], shape=(7,), dtype=int32)\n",
            "tf.Tensor([ 8  9 10 11 12 13 14], shape=(7,), dtype=int32)\n",
            "tf.Tensor([15 16 17 18 19  0  1], shape=(7,), dtype=int32)\n",
            "tf.Tensor([2 3 4 5 6 7 8], shape=(7,), dtype=int32)\n",
            "tf.Tensor([ 9 10 11 12 13 14 15], shape=(7,), dtype=int32)\n"
          ]
        }
      ],
      "source": [
        "for item in dataset:\n",
        "    print(item)"
      ]
    },
    {
      "cell_type": "markdown",
      "metadata": {
        "id": "xCAFfO6hmDDS"
      },
      "source": [
        "### map, filter\n",
        "- 전처리 단계에서 시행하여 원하지 않는 데이터를 거를 수 있음\n",
        "\n",
        "- `tf.Tensor` 자료형을 다룸"
      ]
    },
    {
      "cell_type": "code",
      "execution_count": 381,
      "metadata": {
        "id": "ubOuEgxal0Hv"
      },
      "outputs": [
        {
          "data": {
            "text/plain": [
              "[2, 4, 6, 8, 10]"
            ]
          },
          "execution_count": 381,
          "metadata": {},
          "output_type": "execute_result"
        }
      ],
      "source": [
        "dataset = tf.data.Dataset.range(1, 6).map(lambda x: x * 2)\n",
        "\n",
        "list(dataset.as_numpy_iterator())"
      ]
    },
    {
      "cell_type": "code",
      "execution_count": 382,
      "metadata": {
        "id": "jwxn37JRuzjV"
      },
      "outputs": [
        {
          "data": {
            "text/plain": [
              "<_MapDataset element_spec=TensorSpec(shape=(), dtype=tf.int64, name=None)>"
            ]
          },
          "execution_count": 382,
          "metadata": {},
          "output_type": "execute_result"
        }
      ],
      "source": [
        "dataset = tf.data.Dataset.range(5)\n",
        "res = dataset.map(lambda x: x + 1)\n",
        "\n",
        "res"
      ]
    },
    {
      "cell_type": "code",
      "execution_count": 383,
      "metadata": {
        "id": "FcwzArdpuzad"
      },
      "outputs": [
        {
          "data": {
            "text/plain": [
              "[1, 2, 3]"
            ]
          },
          "execution_count": 383,
          "metadata": {},
          "output_type": "execute_result"
        }
      ],
      "source": [
        "elems = [(1, 'one'), (2, 'two'), (3, 'three')]\n",
        "dataset = tf.data.Dataset.from_generator(lambda: elems, (tf.int32, tf.string))\n",
        "res = dataset.map(lambda x_int, y_str: x_int)\n",
        "\n",
        "list(res.as_numpy_iterator())"
      ]
    },
    {
      "cell_type": "code",
      "execution_count": 384,
      "metadata": {
        "id": "Tleeqc_GuzUX"
      },
      "outputs": [
        {
          "data": {
            "text/plain": [
              "(TensorSpec(shape=(), dtype=tf.float32, name=None),\n",
              " TensorSpec(shape=(3,), dtype=tf.string, name=None))"
            ]
          },
          "execution_count": 384,
          "metadata": {},
          "output_type": "execute_result"
        }
      ],
      "source": [
        "dataset = tf.data.Dataset.range(3)\n",
        "\n",
        "def g(x):\n",
        "    return tf.constant(10.5), tf.constant(['One', 'Two', 'Three'])\n",
        "\n",
        "res = dataset.map(g)\n",
        "\n",
        "res.element_spec"
      ]
    },
    {
      "cell_type": "code",
      "execution_count": 385,
      "metadata": {
        "id": "0aRvH0yR0H1H"
      },
      "outputs": [
        {
          "data": {
            "text/plain": [
              "(TensorSpec(shape=(), dtype=tf.float32, name=None),\n",
              " TensorSpec(shape=(3,), dtype=tf.string, name=None),\n",
              " TensorSpec(shape=(2,), dtype=tf.float64, name=None))"
            ]
          },
          "execution_count": 385,
          "metadata": {},
          "output_type": "execute_result"
        }
      ],
      "source": [
        "dataset = tf.data.Dataset.range(3)\n",
        "\n",
        "def h(x):\n",
        "    return 10.5, ['One', 'Two', 'Three'], np.array([1., 2.])\n",
        "\n",
        "res = dataset.map(h)\n",
        "\n",
        "res.element_spec"
      ]
    },
    {
      "cell_type": "code",
      "execution_count": 386,
      "metadata": {
        "id": "YxvOUl4u0HxH"
      },
      "outputs": [
        {
          "data": {
            "text/plain": [
              "((TensorSpec(shape=(), dtype=tf.float32, name=None),\n",
              "  TensorSpec(shape=(2,), dtype=tf.int32, name=None)),\n",
              " TensorSpec(shape=(), dtype=tf.string, name=None),\n",
              " TensorSpec(shape=(), dtype=tf.string, name=None))"
            ]
          },
          "execution_count": 386,
          "metadata": {},
          "output_type": "execute_result"
        }
      ],
      "source": [
        "def i(x):\n",
        "    return (10.5, [12, 11]), 'One', 'Two'\n",
        "\n",
        "res = dataset.map(i)\n",
        "\n",
        "res.element_spec"
      ]
    },
    {
      "cell_type": "code",
      "execution_count": 387,
      "metadata": {
        "id": "LeKdClAA0Vjy"
      },
      "outputs": [
        {
          "data": {
            "text/plain": [
              "[1, 2]"
            ]
          },
          "execution_count": 387,
          "metadata": {},
          "output_type": "execute_result"
        }
      ],
      "source": [
        "dataset = tf.data.Dataset.from_tensor_slices([1, 2, 3, 4]).filter(lambda x: x < 3)\n",
        "\n",
        "list(dataset.as_numpy_iterator())"
      ]
    },
    {
      "cell_type": "code",
      "execution_count": 388,
      "metadata": {
        "id": "mnMR0g6Y0X8g"
      },
      "outputs": [
        {
          "data": {
            "text/plain": [
              "[1]"
            ]
          },
          "execution_count": 388,
          "metadata": {},
          "output_type": "execute_result"
        }
      ],
      "source": [
        "def filter_fn(x):\n",
        "    return tf.math.equal(x, 1)\n",
        "\n",
        "dataset = dataset.filter(filter_fn)\n",
        "\n",
        "list(dataset.as_numpy_iterator())"
      ]
    },
    {
      "cell_type": "markdown",
      "metadata": {
        "id": "MZlHtx9HiBnw"
      },
      "source": [
        "### shuffle, take"
      ]
    },
    {
      "cell_type": "code",
      "execution_count": 389,
      "metadata": {
        "id": "yVjGXd0Zg3MV"
      },
      "outputs": [],
      "source": [
        "dataset, info = tfds.load('imdb_reviews', with_info=True, as_supervised=True)"
      ]
    },
    {
      "cell_type": "code",
      "execution_count": 390,
      "metadata": {
        "id": "aIYeC8XMg3JR"
      },
      "outputs": [
        {
          "name": "stdout",
          "output_type": "stream",
          "text": [
            "(<tf.Tensor: shape=(5,), dtype=string, numpy=\n",
            "array([b'During a sleepless night, I was switching through the channels & found this embarrassment of a movie. What were they thinking?<br /><br />If this is life after \"Remote Control\" for Kari (Wuhrer) Salin, no wonder she\\'s gone nowhere.<br /><br />And why did David Keith take this role? It\\'s pathetic!<br /><br />Anyway, I turned on the movie near the end, so I didn\\'t get much of the plot. But this must\\'ve been the best part. This nerdy college kid brings home this dominatrix-ish girl...this scene is straight out of the comic books -- or the cheap porn movies. She calls the mother anal retentive and kisses the father \"Oh, I didn\\'t expect tongue!\" Great lines!<br /><br />After this, I had to see how it ended..<br /><br />Well, of course, this bitch from hell has a helluva past, so the SWAT team is upstairs. And yes...they surround her! And YES YES! The kid blows her brains out!!!! AHAHHAHAHAHA!!<br /><br />This is must-see TV. <br /><br />',\n",
            "       b'Cute film about three lively sisters from Switzerland (often seen running about in matching outfits) who want to get their parents back together (seems mom is still carrying the torch for dad) - so they sail off to New York to stop the dad from marrying a blonde gold-digger he calls \"Precious\". Dad hasn\\'t seen his daughters in ten years, they (oddly enough) don\\'t seem to mind and think he\\'s wonderful, and meanwhile Precious seems to lead a life mainly run by her overbearing mother (Alice Brady), a woman who just wants to see to it her daughter marries a rich man. The sisters get the idea of pushing Precious into the path of a drunken Hungarian count, tricking the two gold-digging women into thinking he is one of the richest men in Europe. But a case of mistaken identity makes the girls think the count is good-looking Ray Milland, who goes along with the scheme \\'cause he has a crush on sister Kay.<br /><br />This film is enjoyable, light fare. Barbara Read as Kay comes across as sweet and pretty, Ray Milland looks oh so young and handsome here (though, unfortunately, is given little to do), Alice Brady is quite good as the scheming mother - but it is Deanna Durbin, a real charmer and cute as a button playing youngest sister Penny, who pretty much steals the show. With absolutely beautiful vocals, she sings several songs throughout the film, though I actually would have liked to have seen them feature her even more in this. The plot in this film is a bit silly, but nevertheless, I found the film to be entertaining and fun.',\n",
            "       b\"This 1984 version of the Dickens' classic `A Christmas Carol,' directed by Clive Donner, stars George C. Scott as Ebenezer Scrooge. By this time around, the challenge for the filmmaker was to take such familiar material and make it seem fresh and new again; and, happily to say, with this film Donner not only met the challenge but surpassed any expectations anyone might have had for it. He tells the story with precision and an eye to detail, and extracts performances from his actors that are nothing less than superlative, especially Scott. One could argue that the definitive portrayal of Scrooge-- one of the best known characters in literary fiction, ever-- was created by Alastair Sim in the 1951 film; but I think with his performance here, Scott has now achieved that distinction. There is such a purity and honesty in his Scrooge that it becomes difficult to even consider anyone else in the role once you've seen Scott do it; simply put, he IS Scrooge. And what a tribute it is to such a gifted actor; to be able to take such a well known figure and make it so uniquely his own is quite miraculous. It is truly a joy to see an actor ply his trade so well, to be able to make a character so real, from every word he utters down to the finest expression of his face, and to make it all ring so true. It's a study in perfection.<br /><br />The other members of the cast are splendid as well, but then again they have to be in order to maintain the integrity of Scott's performance; and they do. Frank Finlay is the Ghost of Jacob Marley; a notable turn, though not as memorable, perhaps, as the one by Alec Guinness (as Marley) in the film, `Scrooge.' Angela Pleasence is a welcome visage as the Spirit of Christmas Past; Edward Woodward, grand and boisterous, and altogether convincing as the Spirit of Christmas Present; and Michael Carter, grim and menacing as the Spirit of Christmas Yet To Come.<br /><br />David Warner hits just the right mark with his Bob Cratchit, bringing a sincerity to the role that measures up well to the standard of quality set by Scott's Scrooge, and Susannah York fares just as well as Mrs. Cratchit. The real gem to be found here, though, is the performance of young Anthony Walters as Tiny Tim; it's heartfelt without ever becoming maudlin, and simply one of the best interpretations-- and the most real-- ever presented on film.<br /><br />The excellent supporting cast includes Roger Rees (Fred Holywell, and also the narrator of the film), Caroline Langrishe (Janet Holywell), Lucy Gutteridge (Belle), Michael Gough (Mr. Poole) and Joanne Whalley (Fan). A flawless presentation, this version of `A Christmas Carol' sets the standard against which all others must be gauged; no matter how many versions you may have seen, watching this one is like seeing it for the first time ever. And forever after, whenever you think of Scrooge, the image your mind will conjure up will be that of George C. Scott. A thoroughly entertaining and satisfying experience, this film demands a place in the annual schedule of the holiday festivities of every home. I rate this one 10/10.\",\n",
            "       b'Put the blame on executive producer Wes Craven and financiers the Weinsteins for this big-budget debacle: a thrash-metal updating of \"Dracula\", with a condescending verbal jab at Bram Stoker (who probably wouldn\\'t want his name on this thing anyway) and nothing much for the rest of us except slasher-styled jolts and gore. Christopher Plummer looks winded as Van Helsing in the modern-day--not just a descendant of Van Helsing but the real thing; he keeps himself going with leeches obtained from Count Dracula\\'s corpse, which is exhumed from its coffin after being stolen from Van Helsing\\'s vault and flown to New Orleans. This is just what New Orleans needs in the 21st Century! The film, well-produced but without a single original idea (except for multi-racial victims), is both repulsive and lazy, and after about an hour starts repeating itself. * from ****',\n",
            "       b'Hilarious, evocative, confusing, brilliant film. Reminds me of Bunuel\\'s L\\'Age D\\'Or or Jodorowsky\\'s Holy Mountain-- lots of strange characters mucking about and looking for..... what is it? I laughed almost the whole way through, all the while keeping a peripheral eye on the bewildered and occasionally horrified reactions of the audience that surrounded me in the theatre. Entertaining through and through, from the beginning to the guts and poisoned entrails all the way to the end, if it was an end. I only wish i could remember every detail. It haunts me sometimes.<br /><br />Honestly, though, i have only the most positive recollections of this film. As it doesn\\'t seem to be available to take home and watch, i suppose i\\'ll have to wait a few more years until Crispin Glover comes my way again with his Big Slide Show (and subsequent \"What is it?\" screening)... I saw this film in Atlanta almost directly after being involved in a rather devastating car crash, so i was slightly dazed at the time, which was perhaps a very good state of mind to watch the prophetic talking arthropods and the retards in the superhero costumes and godlike Glover in his appropriate burly-Q setting, scantily clad girlies rising out of the floor like a magnificent DADAist wet dream.<br /><br />Is it a statement on Life As We Know It? Of course everyone EXPECTS art to be just that. I rather think that the truth is more evident in the absences and in the negative space. What you don\\'t tell us is what we must deduce, but is far more valid than the lies that other people feed us day in and day out. Rather one \"WHAT IS IT?\" than 5000 movies like \"Titanic\" or \"Sleepless in Seattle\" (shudder, gag, groan).<br /><br />Thank you, Mr. Glover (additionally a fun man to watch on screen or at his Big Slide Show-- smart, funny, quirky, and outrageously hot). Make more films, write more books, keep the nightmare alive.'],\n",
            "      dtype=object)>, <tf.Tensor: shape=(5,), dtype=int64, numpy=array([0, 1, 1, 0, 1], dtype=int64)>)\n",
            "(<tf.Tensor: shape=(5,), dtype=string, numpy=\n",
            "array([b'It was disgusting and painful. What a waste of a cast! I swear, the audience (1/2 full) laughed TWICE in 90 minutes. This is not a lie. Do not even rent it.<br /><br />Zeta Jones was just too mean to be believable.<br /><br />Cusack was OK. Just OK. I felt sorry for him (the actor) in case people remember this mess.<br /><br />Roberts was the same as she always is. Charming and sweet, but with no purpose. The \"romance\" with John was completely unbelievable.',\n",
            "       b'This is a straight-to-video movie, so it should go without saying that it\\'s not going to rival the first Lion King, but that said, this was downright good.<br /><br />My kids loved this, but that\\'s a given, they love anything that\\'s a cartoon. The big shock was that *I* liked it too, it was laugh out loud funny at some parts (even the fart jokes*), had lots of rather creative tie-ins with the first movie, and even some jokes that you had to be older to understand (but without being risqu\\xc3\\xa9 like in Shrek [\"do you think he\\'s compensating for something?\"]).<br /><br />A special note on the fart jokes, I was surprised to find that none of the jokes were just toilet noises (in fact there were almost no noises/imagery at all, the references were actually rather subtle), they actually had a setup/punchline/etc, and were almost in good taste. I\\'d like my kids to think that there\\'s more to humor than going to the bathroom, and this movie is fine in those regards.<br /><br />Hmm what else? The music was so-so, not nearly as creative as in the first or second movie, but plenty of fun for the kids. No painfully corny moments, which was a blessing for me. A little action but nothing too scary (the Secret of NIMH gave my kids nightmares, not sure a G rating was appropriate for that one...)<br /><br />All in all I\\'d say this is a great movie for kids of any age, one that\\'s 100% safe to let them watch (I try not to be overly sensitive but I\\'ve had to jump up and turn off the TV during a few movies that were less kid-appropriate than expected) - but you\\'re safe to leave the room during this one. I\\'d say stick around anyway though, you might find that you enjoy it too :)',\n",
            "       b'Finally, Timon and Pumbaa in their own film...<br /><br />\\'The Lion King 1 1/2: Hakuna Matata\\' is an irreverent new take on a classic tale. Which classic tale, you ask? Why, \\'The Lion King\\' of course!<br /><br />Yep, if there\\'s one thing that Disney is never short of, it\\'s narcissism.<br /><br />But that doesn\\'t mean that this isn\\'t a good film. It\\'s basically the events of \\'The Lion King\\' as told from Timon and Pumbaa\\'s perspective. And it\\'s because of this that you\\'ll have to know the story of \\'The Lion King\\' by heart to see where they\\'re coming from.<br /><br />Anyway, at one level I was watching this and thinking \"Oh my god this is so lame...\" and on another level I was having a ball. Much of the humour is predictable - I mean, when Pumbaa makes up two beds, a big one for himself and a small one for Timon, within the first nanosecond we all know that Timon is going to take the big one. But that doesn\\'t stop it from being hilarious, which, IMO, is \\'Hakuna Matata\\' in a nutshell. It\\'s not what happens, it\\'s how.<br /><br />And a note of warning: there are also some fart jokes. Seriously, did you expect anything else in a film where Pumbaa takes centre stage? But as fart jokes go, these are especially good, and should satisfy even the most particular connoisseur.<br /><br />The returning voice talent is great. I\\'m kinda surprised that some of the actors were willing to return, what with most of them only having two or three lines (if they\\'re lucky). Whoopi Goldberg is particularly welcome.<br /><br />The music is also great. From \\'Digga Tunnah\\' at the start to \\'That\\'s all I need\\', an adaption of \\'Warthog Rhapsody\\' (a song that was cut from \\'The Lion King\\' and is frankly much improved in this incarnation), the music leaves me with nothing to complain about whatsoever.<br /><br />In the end, Timon and Pumbaa are awesome characters, and while it may be argued that \\'Hakuna Matata\\' is simply an excuse to see them in various fun and assorted compromising situations then so be it. It\\'s rare to find characters that you just want to spend time with.<br /><br />Am I starting to sound creepy?<br /><br />Either way, \\'The Lion King 1 1/2\\' is great if you\\'ve seen \\'The Lion King\\' far too many times. Especially if you are right now thinking \"Don\\'t be silly, there\\'s no such thing as seeing \\'The Lion King\\' too many times!\"',\n",
            "       b'Indian Directors have it tough, They have to compete with movies like \"Laggan\" where 11 henpecked,Castrated males defend their village and half of them are certifiable idiots. \"Devdas\", a hapless, fedar- festooned foreign return drinking to oblivion, with characters running in endless corridors oblivious to any one\\'s feelings or sentiments-alas they live in an ornate squalor of red tapestry and pageantry. But to make a good movie, you have to tight-rope walk to appease the frontbenchers who are the quentessential gapers who are mesmerized with Split skirts and Dishum-Dishum fights preferably involving a nitwit \"Bollywood\" leading actor who is marginally handsome. So you can connect with a director who wants to tell a tale of Leonine village head who in own words \"defending his Village\" this is considered a violent movie or too masculine for a male audience. There are very few actors who can convey the anger and pathos like Nana Patekar (Narasimhan). Nana Patekar lets you in his courtyard and watch him beret and mock the Politician when his loyal admirers burst in laughter with every word of satire thrown at him, meanwhile his daughter is bathing his Grandson.This is as authentic a scene you can get in rural India. Nana Patekar is the essential actor who belongs to the old school of acting which is a disappearing breed in Hindi Films. The violence depicted is an intricate part of storytelling with Song&Dances thrown in for the gawkers without whom movies won\\'t sell, a sad but true state of affairs. Faster this changes better for \"Bollywood\". All said and done this is one good Movie.',\n",
            "       b\"Nathan Detroit runs illegal craps games for high rollers in NYC, but the heat is on and he can't find a secure location. He bets chronic gambler Sky Masterson that Sky can't make a prim missionary, Sarah Brown, go out to dinner with him. Sky takes up the challenge, but both men have some surprises in store \\xc2\\x85<br /><br />This is one of those expensive fifties MGM musicals in splashy colour, with big sets, loud music, larger-than-life roles and performances to match; Broadway photographed for the big screen if you like that sort of thing, which I don't. My main problem with these type of movies is simply the music. I like all kinds of music, from Albinoni to ZZ Top, but Broadway show tunes in swing time with never-ending pah-pah-tah-dah trumpet flourishes at the end of every fourth bar aren't my cup of tea. This was written by the tag team of Frank Loesser, Mankiewicz, Jo Swerling and Abe Burrows (based on a couple of Damon Runyon stories), and while the plot is quite affable the songs are weak. Blaine's two numbers for example are identical, unnecessary, don't advance the plot and grate on the ears (and are also flagrantly misogynistic if that sort of thing bothers you). There are only two memorable tunes, Luck Be A Lady (sung by Brando, not Sinatra as you might expect) and Sit Down, You're Rockin' The Boat (nicely performed by Kaye) but you have to sit through two hours to get to them. The movie's trump card is a young Brando giving a thoughtful, laid-back performance; he also sings quite well and even dances a little, and is evenly matched with the always interesting Simmons. The sequence where the two of them escape to Havana for the night is a welcome respite from all the noise, bustle and vowel-murdering of Noo Yawk. Fans of musicals may dig this, but in my view a musical has to do something more than just film the stage show.\"],\n",
            "      dtype=object)>, <tf.Tensor: shape=(5,), dtype=int64, numpy=array([0, 1, 1, 1, 0], dtype=int64)>)\n"
          ]
        }
      ],
      "source": [
        "train_dataset = dataset['train'].batch(5).shuffle(5).take(2)\n",
        "\n",
        "for data in train_dataset:\n",
        "    print(data)"
      ]
    },
    {
      "cell_type": "markdown",
      "metadata": {
        "id": "4OqOaYk6k7wy"
      },
      "source": [
        "### get_next()"
      ]
    },
    {
      "cell_type": "code",
      "execution_count": 391,
      "metadata": {
        "id": "m57rjJsskp8t"
      },
      "outputs": [
        {
          "name": "stdout",
          "output_type": "stream",
          "text": [
            "tf.Tensor(0, shape=(), dtype=int64)\n",
            "tf.Tensor(1, shape=(), dtype=int64)\n"
          ]
        }
      ],
      "source": [
        "dataset = tf.data.Dataset.range(2)\n",
        "\n",
        "for elem in dataset:\n",
        "    print(elem)"
      ]
    },
    {
      "cell_type": "code",
      "execution_count": 392,
      "metadata": {
        "id": "vitlC-JCkp4U"
      },
      "outputs": [
        {
          "name": "stdout",
          "output_type": "stream",
          "text": [
            "<_RangeDataset element_spec=TensorSpec(shape=(), dtype=tf.int64, name=None)>\n",
            "tf.Tensor(0, shape=(), dtype=int64)\n",
            "tf.Tensor(1, shape=(), dtype=int64)\n"
          ]
        }
      ],
      "source": [
        "dataset = tf.data.Dataset.range(2)\n",
        "iterator = iter(dataset)\n",
        "\n",
        "print(dataset)\n",
        "print(iterator.get_next())\n",
        "print(iterator.get_next())"
      ]
    },
    {
      "cell_type": "code",
      "execution_count": 393,
      "metadata": {
        "id": "6o4XRcpLg3Fm"
      },
      "outputs": [
        {
          "name": "stdout",
          "output_type": "stream",
          "text": [
            "[[4 5 1]\n",
            " [9 0 4]]\n",
            "tf.Tensor([4 5 1], shape=(3,), dtype=int32)\n",
            "tf.Tensor([9 0 4], shape=(3,), dtype=int32)\n"
          ]
        }
      ],
      "source": [
        "a = np.random.randint(0, 10, size=(2, 3))\n",
        "print(a)\n",
        "\n",
        "dataset = tf.data.Dataset.from_tensor_slices(a)\n",
        "iterator = iter(dataset)\n",
        "\n",
        "print(iterator.get_next())\n",
        "print(iterator.get_next())"
      ]
    },
    {
      "cell_type": "markdown",
      "metadata": {
        "id": "oAK97VN4JObZ"
      },
      "source": [
        "## tf.dataset을 이용한 Fashion-MNIST 분류"
      ]
    },
    {
      "cell_type": "markdown",
      "metadata": {
        "id": "8FyGWr9h5s9m"
      },
      "source": [
        "### modules import"
      ]
    },
    {
      "cell_type": "code",
      "execution_count": 394,
      "metadata": {
        "id": "wtumZQhkobI5"
      },
      "outputs": [],
      "source": [
        "import matplotlib.pyplot as plt\n",
        "plt.style.use('seaborn-v0_8-white')\n",
        "\n",
        "import tensorflow as tf\n",
        "import tensorflow.keras as keras\n",
        "from keras.layers import Dense, Input, Flatten, Dropout, Activation, BatchNormalization\n",
        "from keras.models import Model\n",
        "from keras.datasets.fashion_mnist import load_data"
      ]
    },
    {
      "cell_type": "markdown",
      "metadata": {
        "id": "VOTtgNwc3R6f"
      },
      "source": [
        "### 데이터 로드"
      ]
    },
    {
      "cell_type": "code",
      "execution_count": 395,
      "metadata": {
        "id": "8434sHHjob1L"
      },
      "outputs": [],
      "source": [
        "(x_train, y_train), (x_test, y_test) = load_data()"
      ]
    },
    {
      "cell_type": "code",
      "execution_count": 396,
      "metadata": {
        "id": "bfxxi0TJ3kwq"
      },
      "outputs": [
        {
          "name": "stdout",
          "output_type": "stream",
          "text": [
            "(60000, 28, 28)\n",
            "(10000, 28, 28)\n",
            "(60000,)\n",
            "(10000,)\n"
          ]
        }
      ],
      "source": [
        "print(x_train.shape)\n",
        "print(x_test.shape)\n",
        "print(y_train.shape)\n",
        "print(y_test.shape)"
      ]
    },
    {
      "cell_type": "markdown",
      "metadata": {
        "id": "PPR9OD1w3mBQ"
      },
      "source": [
        "### 데이터 전처리"
      ]
    },
    {
      "cell_type": "code",
      "execution_count": 397,
      "metadata": {
        "id": "U3W43mhxob4P"
      },
      "outputs": [],
      "source": [
        "x_train = x_train / 255.\n",
        "x_test = x_test / 255."
      ]
    },
    {
      "cell_type": "markdown",
      "metadata": {
        "id": "nm8NM-QX32sf"
      },
      "source": [
        "### tf.data 이용"
      ]
    },
    {
      "cell_type": "code",
      "execution_count": 398,
      "metadata": {
        "id": "VC9howR-obaW"
      },
      "outputs": [],
      "source": [
        "train_ds = tf.data.Dataset.from_tensor_slices((x_train, y_train))\n",
        "train_ds = train_ds.shuffle(1_000)\n",
        "train_ds = train_ds.batch(32)\n",
        "\n",
        "test_ds = tf.data.Dataset.from_tensor_slices((x_test, y_test))\n",
        "test_ds = test_ds.batch(32)"
      ]
    },
    {
      "cell_type": "code",
      "execution_count": 399,
      "metadata": {
        "id": "FkbVvnrU5Idc"
      },
      "outputs": [],
      "source": [
        "class_names = ['T-shirt/top', 'Trouser', 'Pullover', 'Dress', 'Coat', 'Sandal', 'Shirt', 'Sneaker', 'Bag', 'Ankle boot']"
      ]
    },
    {
      "cell_type": "markdown",
      "metadata": {
        "id": "aXJEB1qg4eB0"
      },
      "source": [
        "### 데이터 확인"
      ]
    },
    {
      "cell_type": "code",
      "execution_count": 400,
      "metadata": {
        "id": "COlETHf2obVD"
      },
      "outputs": [
        {
          "data": {
            "image/png": "[encoded data removed]",
            "text/plain": [
              "<Figure size 640x480 with 1 Axes>"
            ]
          },
          "metadata": {},
          "output_type": "display_data"
        },
        {
          "data": {
            "image/png": "[encoded data removed]",
            "text/plain": [
              "<Figure size 640x480 with 1 Axes>"
            ]
          },
          "metadata": {},
          "output_type": "display_data"
        },
        {
          "data": {
            "image/png": "[encoded data removed]",
            "text/plain": [
              "<Figure size 640x480 with 1 Axes>"
            ]
          },
          "metadata": {},
          "output_type": "display_data"
        }
      ],
      "source": [
        "for img, label in train_ds.take(3):\n",
        "    plt.title(class_names[label[0]])\n",
        "    plt.imshow(img[0, :, :], cmap='gray')\n",
        "    plt.show()"
      ]
    },
    {
      "cell_type": "markdown",
      "metadata": {
        "id": "-2PTjY1D5g4L"
      },
      "source": [
        "### 모델 생성\n",
        "- 임의의 모델"
      ]
    },
    {
      "cell_type": "code",
      "execution_count": 401,
      "metadata": {
        "id": "g29WUBIKobRN"
      },
      "outputs": [],
      "source": [
        "def build_model():\n",
        "    inp = Input(shape=(28, 28), name='Input')\n",
        "\n",
        "    flat = Flatten(input_shape=(28, 28), name='Flatten')(inp)\n",
        "\n",
        "    hid_1 = Dense(256, kernel_initializer='he_normal', name='Dense_1')(flat)\n",
        "    hid_1 = BatchNormalization(name='Bn_1')(hid_1)\n",
        "    hid_1 = Activation('relu', name='Act_1')(hid_1)\n",
        "    drop_1 = Dropout(0.5, name='drop_1')(hid_1)\n",
        "\n",
        "    hid_2 = Dense(128, kernel_initializer='he_normal', name='Dense_2')(drop_1)\n",
        "    hid_2 = BatchNormalization(name='Bn_2')(hid_2)\n",
        "    hid_2 = Activation('relu', name='Act_2')(hid_2)\n",
        "    drop_2 = Dropout(0.5, name='drop_2')(hid_2)\n",
        "\n",
        "    hid_3 = Dense(128, kernel_initializer='he_normal', name='Dense_3')(drop_2)\n",
        "    hid_3 = BatchNormalization(name='Bn_3')(hid_3)\n",
        "    hid_3 = Activation('relu', name='Act_3')(hid_3)\n",
        "    drop_3 = Dropout(0.5, name='drop_3')(hid_3)\n",
        "\n",
        "    hid_4 = Dense(64, kernel_initializer='he_normal', name='Dense_4')(drop_3)\n",
        "    hid_4 = BatchNormalization(name='Bn_4')(hid_4)\n",
        "    hid_4 = Activation('relu', name='Act_4')(hid_4)\n",
        "    drop_4 = Dropout(0.5, name='drop_4')(hid_4)\n",
        "    \n",
        "    out = Dense(10, activation='softmax', name=\"Output\")(drop_4)\n",
        "\n",
        "    model = Model(inputs=inp, outputs=out)\n",
        "\n",
        "    return model"
      ]
    },
    {
      "cell_type": "code",
      "execution_count": 402,
      "metadata": {
        "id": "q7YYIDZq8iRN"
      },
      "outputs": [],
      "source": [
        "model = build_model()"
      ]
    },
    {
      "cell_type": "code",
      "execution_count": 403,
      "metadata": {
        "id": "qNlPrHBT9w-G"
      },
      "outputs": [
        {
          "data": {
            "image/png": "[encoded data removed]",
            "text/plain": [
              "<IPython.core.display.Image object>"
            ]
          },
          "execution_count": 403,
          "metadata": {},
          "output_type": "execute_result"
        }
      ],
      "source": [
        "from keras.utils import plot_model\n",
        "\n",
        "plot_model(model, show_shapes=True)"
      ]
    },
    {
      "cell_type": "markdown",
      "metadata": {
        "id": "8noHcg8C6xMM"
      },
      "source": [
        "### 모델 컴파일\n",
        "- 평가(metrics)방식의 다른 방법\n",
        "  - `tf.keras.metrics.Mean`\n",
        "  - `tf.keras.metrics.SparseCategoricalAccuracy`\n",
        "\n",
        "- 위 두 방식을 사용하여 loss값을 좀 더 smooth하게 만들기(평균을 내는 방식)"
      ]
    },
    {
      "cell_type": "code",
      "execution_count": 404,
      "metadata": {
        "id": "gpjwC1pa7pvI"
      },
      "outputs": [],
      "source": [
        "loss_obj = tf.keras.losses.SparseCategoricalCrossentropy()\n",
        "optimizer = tf.keras.optimizers.Adam()"
      ]
    },
    {
      "cell_type": "code",
      "execution_count": 405,
      "metadata": {
        "id": "DSA2H53-6967"
      },
      "outputs": [],
      "source": [
        "train_loss = keras.metrics.Mean(name='train_loss')\n",
        "train_accuracy = keras.metrics.SparseCategoricalAccuracy(name='train_accuracy')\n",
        "test_loss = keras.metrics.Mean(name='test_loss')\n",
        "test_accuracy = keras.metrics.SparseCategoricalAccuracy(name='test_accuracy')"
      ]
    },
    {
      "cell_type": "markdown",
      "metadata": {
        "id": "1uC7KjrU6WqL"
      },
      "source": [
        "### 모델 학습"
      ]
    },
    {
      "cell_type": "markdown",
      "metadata": {
        "id": "ZTF2mvFYRoj_"
      },
      "source": [
        "@tf.function 으로 인해 학습이 시작되면 그래프를 생성하여 속도가 빠름\n"
      ]
    },
    {
      "cell_type": "code",
      "execution_count": 406,
      "metadata": {
        "id": "rRw0DDmqobEv"
      },
      "outputs": [],
      "source": [
        "@tf.function\n",
        "def train_step(imgs, labels):\n",
        "    with tf.GradientTape() as tape:\n",
        "        pred = model(imgs)\n",
        "        loss = loss_obj(labels, pred)\n",
        "    \n",
        "    gradients = tape.gradient(loss, model.trainable_variables)\n",
        "    optimizer.apply_gradients(zip(gradients, model.trainable_variables))\n",
        "\n",
        "    train_loss(loss)\n",
        "    train_accuracy(labels, pred)"
      ]
    },
    {
      "cell_type": "code",
      "execution_count": 407,
      "metadata": {
        "id": "rKoMJ7iJobB_"
      },
      "outputs": [],
      "source": [
        "@tf.function\n",
        "def test_step(imgs, labels):\n",
        "    pred = model(imgs)\n",
        "    t_loss = loss_obj(labels, pred)\n",
        "\n",
        "    test_loss(t_loss)\n",
        "    test_accuracy(labels, pred)"
      ]
    },
    {
      "cell_type": "code",
      "execution_count": 408,
      "metadata": {
        "id": "sYkJhFWIoa_m"
      },
      "outputs": [
        {
          "name": "stdout",
          "output_type": "stream",
          "text": [
            "Epochs:   1, Loss: 0.4836, Accuracy: 82.5183%, Test Loss: 0.4143, Test Accuracy: 85.0700%\n",
            "Epochs:   2, Loss: 0.4277, Accuracy: 84.4225%, Test Loss: 0.4072, Test Accuracy: 85.2450%\n",
            "Epochs:   3, Loss: 0.3966, Accuracy: 85.5089%, Test Loss: 0.3999, Test Accuracy: 85.4900%\n",
            "Epochs:   4, Loss: 0.3747, Accuracy: 86.2846%, Test Loss: 0.3944, Test Accuracy: 85.7300%\n",
            "Epochs:   5, Loss: 0.3580, Accuracy: 86.8520%, Test Loss: 0.3845, Test Accuracy: 86.1900%\n",
            "Epochs:   6, Loss: 0.3442, Accuracy: 87.3178%, Test Loss: 0.3805, Test Accuracy: 86.4083%\n",
            "Epochs:   7, Loss: 0.3325, Accuracy: 87.7357%, Test Loss: 0.3758, Test Accuracy: 86.6386%\n",
            "Epochs:   8, Loss: 0.3225, Accuracy: 88.0777%, Test Loss: 0.3710, Test Accuracy: 86.8550%\n",
            "Epochs:   9, Loss: 0.3137, Accuracy: 88.3835%, Test Loss: 0.3697, Test Accuracy: 86.9533%\n",
            "Epochs:  10, Loss: 0.3056, Accuracy: 88.6650%, Test Loss: 0.3668, Test Accuracy: 87.0900%\n",
            "Epochs:  11, Loss: 0.2982, Accuracy: 88.9186%, Test Loss: 0.3647, Test Accuracy: 87.2164%\n",
            "Epochs:  12, Loss: 0.2915, Accuracy: 89.1518%, Test Loss: 0.3637, Test Accuracy: 87.2842%\n",
            "Epochs:  13, Loss: 0.2853, Accuracy: 89.3712%, Test Loss: 0.3645, Test Accuracy: 87.3338%\n",
            "Epochs:  14, Loss: 0.2794, Accuracy: 89.5739%, Test Loss: 0.3671, Test Accuracy: 87.3807%\n",
            "Epochs:  15, Loss: 0.2739, Accuracy: 89.7689%, Test Loss: 0.3656, Test Accuracy: 87.4593%\n",
            "Epochs:  16, Loss: 0.2687, Accuracy: 89.9508%, Test Loss: 0.3666, Test Accuracy: 87.5419%\n",
            "Epochs:  17, Loss: 0.2637, Accuracy: 90.1278%, Test Loss: 0.3678, Test Accuracy: 87.5894%\n",
            "Epochs:  18, Loss: 0.2591, Accuracy: 90.2897%, Test Loss: 0.3687, Test Accuracy: 87.6467%\n",
            "Epochs:  19, Loss: 0.2548, Accuracy: 90.4431%, Test Loss: 0.3698, Test Accuracy: 87.6853%\n",
            "Epochs:  20, Loss: 0.2506, Accuracy: 90.5914%, Test Loss: 0.3710, Test Accuracy: 87.7200%\n",
            "Epochs:  21, Loss: 0.2467, Accuracy: 90.7339%, Test Loss: 0.3748, Test Accuracy: 87.7357%\n",
            "Epochs:  22, Loss: 0.2430, Accuracy: 90.8695%, Test Loss: 0.3749, Test Accuracy: 87.7973%\n",
            "Epochs:  23, Loss: 0.2393, Accuracy: 90.9967%, Test Loss: 0.3769, Test Accuracy: 87.8061%\n",
            "Epochs:  24, Loss: 0.2358, Accuracy: 91.1198%, Test Loss: 0.3794, Test Accuracy: 87.8388%\n",
            "Epochs:  25, Loss: 0.2324, Accuracy: 91.2379%, Test Loss: 0.3825, Test Accuracy: 87.8496%\n",
            "Epochs:  26, Loss: 0.2290, Accuracy: 91.3554%, Test Loss: 0.3851, Test Accuracy: 87.8808%\n",
            "Epochs:  27, Loss: 0.2258, Accuracy: 91.4730%, Test Loss: 0.3876, Test Accuracy: 87.9133%\n",
            "Epochs:  28, Loss: 0.2228, Accuracy: 91.5827%, Test Loss: 0.3897, Test Accuracy: 87.9414%\n",
            "Epochs:  29, Loss: 0.2198, Accuracy: 91.6896%, Test Loss: 0.3917, Test Accuracy: 87.9703%\n",
            "Epochs:  30, Loss: 0.2169, Accuracy: 91.7966%, Test Loss: 0.3941, Test Accuracy: 87.9863%\n"
          ]
        }
      ],
      "source": [
        "epochs = 30\n",
        "\n",
        "for epoch in range(epochs):\n",
        "    for train_img, train_label in train_ds:\n",
        "        train_step(train_img, train_label)\n",
        "    \n",
        "    for test_img, test_label in test_ds:\n",
        "        test_step(test_img, test_label)\n",
        "    \n",
        "    template = f'Epochs: {epoch + 1:3d}, Loss: {train_loss.result():.4f}, Accuracy: {train_accuracy.result() * 100:.4f}%, Test Loss: {test_loss.result():.4f}, Test Accuracy: {test_accuracy.result() * 100:.4f}%'\n",
        "    print(template)"
      ]
    },
    {
      "cell_type": "markdown",
      "metadata": {
        "id": "ZEUXDyCMKWRo"
      },
      "source": [
        "### 모델 학습 : 2번째 방법 (Keras)"
      ]
    },
    {
      "cell_type": "code",
      "execution_count": 409,
      "metadata": {
        "id": "TRlqurJ_Mz6v"
      },
      "outputs": [],
      "source": [
        "from sklearn.model_selection import train_test_split"
      ]
    },
    {
      "cell_type": "code",
      "execution_count": 410,
      "metadata": {
        "id": "XGLv1B6-KiWK"
      },
      "outputs": [
        {
          "name": "stdout",
          "output_type": "stream",
          "text": [
            "(42000, 28, 28)\n",
            "(18000, 28, 28)\n",
            "(10000, 28, 28)\n",
            "(42000,)\n",
            "(18000,)\n",
            "(10000,)\n",
            "Model: \"model_10\"\n",
            "_________________________________________________________________\n",
            " Layer (type)                Output Shape              Param #   \n",
            "=================================================================\n",
            " Input (InputLayer)          [(None, 28, 28)]          0         \n",
            "                                                                 \n",
            " Flatten (Flatten)           (None, 784)               0         \n",
            "                                                                 \n",
            " Dense_1 (Dense)             (None, 256)               200960    \n",
            "                                                                 \n",
            " Bn_1 (BatchNormalization)   (None, 256)               1024      \n",
            "                                                                 \n",
            " Act_1 (Activation)          (None, 256)               0         \n",
            "                                                                 \n",
            " drop_1 (Dropout)            (None, 256)               0         \n",
            "                                                                 \n",
            " Dense_2 (Dense)             (None, 128)               32896     \n",
            "                                                                 \n",
            " Bn_2 (BatchNormalization)   (None, 128)               512       \n",
            "                                                                 \n",
            " Act_2 (Activation)          (None, 128)               0         \n",
            "                                                                 \n",
            " drop_2 (Dropout)            (None, 128)               0         \n",
            "                                                                 \n",
            " Dense_3 (Dense)             (None, 128)               16512     \n",
            "                                                                 \n",
            " Bn_3 (BatchNormalization)   (None, 128)               512       \n",
            "                                                                 \n",
            " Act_3 (Activation)          (None, 128)               0         \n",
            "                                                                 \n",
            " drop_3 (Dropout)            (None, 128)               0         \n",
            "                                                                 \n",
            " Dense_4 (Dense)             (None, 64)                8256      \n",
            "                                                                 \n",
            " Bn_4 (BatchNormalization)   (None, 64)                256       \n",
            "                                                                 \n",
            " Act_4 (Activation)          (None, 64)                0         \n",
            "                                                                 \n",
            " drop_4 (Dropout)            (None, 64)                0         \n",
            "                                                                 \n",
            " Output (Dense)              (None, 10)                650       \n",
            "                                                                 \n",
            "=================================================================\n",
            "Total params: 261578 (1021.79 KB)\n",
            "Trainable params: 260426 (1017.29 KB)\n",
            "Non-trainable params: 1152 (4.50 KB)\n",
            "_________________________________________________________________\n"
          ]
        }
      ],
      "source": [
        "(x_train_full, y_train_full), (x_test, y_test) = load_data()\n",
        "\n",
        "x_train, x_val, y_train, y_val = train_test_split(x_train_full, y_train_full, test_size=.3, random_state=777)\n",
        "\n",
        "x_train = x_train / 255.\n",
        "x_val = x_val / 255.\n",
        "x_test = x_test / 255.\n",
        "\n",
        "print(x_train.shape)\n",
        "print(x_val.shape)\n",
        "print(x_test.shape)\n",
        "print(y_train.shape)\n",
        "print(y_val.shape)\n",
        "print(y_test.shape)\n",
        "\n",
        "model = build_model()\n",
        "\n",
        "model.compile(\n",
        "    loss='sparse_categorical_crossentropy',\n",
        "    optimizer='sgd',\n",
        "    metrics=['accuracy']\n",
        ")\n",
        "\n",
        "model.summary()"
      ]
    },
    {
      "cell_type": "markdown",
      "metadata": {
        "id": "xBBuYErFFj0b"
      },
      "source": [
        "5~6분 소요"
      ]
    },
    {
      "cell_type": "code",
      "execution_count": 411,
      "metadata": {
        "id": "32TtgSsWLT-0"
      },
      "outputs": [],
      "source": [
        "from keras.callbacks import EarlyStopping"
      ]
    },
    {
      "cell_type": "code",
      "execution_count": 412,
      "metadata": {
        "id": "TYEmlqkGKZbH"
      },
      "outputs": [
        {
          "name": "stdout",
          "output_type": "stream",
          "text": [
            "Epoch 1/1000\n",
            "83/83 [==============================] - 3s 13ms/step - loss: 2.7119 - accuracy: 0.1263 - val_loss: 2.0855 - val_accuracy: 0.3733\n",
            "Epoch 2/1000\n",
            "83/83 [==============================] - 1s 10ms/step - loss: 2.3795 - accuracy: 0.1751 - val_loss: 1.9386 - val_accuracy: 0.4756\n",
            "Epoch 3/1000\n",
            "83/83 [==============================] - 1s 10ms/step - loss: 2.1860 - accuracy: 0.2248 - val_loss: 1.7611 - val_accuracy: 0.5232\n",
            "Epoch 4/1000\n",
            "83/83 [==============================] - 1s 10ms/step - loss: 2.0428 - accuracy: 0.2666 - val_loss: 1.6125 - val_accuracy: 0.5624\n",
            "Epoch 5/1000\n",
            "83/83 [==============================] - 1s 10ms/step - loss: 1.9182 - accuracy: 0.3105 - val_loss: 1.4933 - val_accuracy: 0.5843\n",
            "Epoch 6/1000\n",
            "83/83 [==============================] - 1s 10ms/step - loss: 1.8152 - accuracy: 0.3442 - val_loss: 1.3989 - val_accuracy: 0.6119\n",
            "Epoch 7/1000\n",
            "83/83 [==============================] - 1s 10ms/step - loss: 1.7305 - accuracy: 0.3766 - val_loss: 1.3242 - val_accuracy: 0.6302\n",
            "Epoch 8/1000\n",
            "83/83 [==============================] - 1s 10ms/step - loss: 1.6607 - accuracy: 0.3971 - val_loss: 1.2520 - val_accuracy: 0.6402\n",
            "Epoch 9/1000\n",
            "83/83 [==============================] - 1s 10ms/step - loss: 1.5908 - accuracy: 0.4210 - val_loss: 1.1931 - val_accuracy: 0.6520\n",
            "Epoch 10/1000\n",
            "83/83 [==============================] - 1s 10ms/step - loss: 1.5327 - accuracy: 0.4404 - val_loss: 1.1417 - val_accuracy: 0.6618\n",
            "Epoch 11/1000\n",
            "83/83 [==============================] - 1s 10ms/step - loss: 1.4738 - accuracy: 0.4610 - val_loss: 1.0974 - val_accuracy: 0.6682\n",
            "Epoch 12/1000\n",
            "83/83 [==============================] - 1s 10ms/step - loss: 1.4311 - accuracy: 0.4715 - val_loss: 1.0528 - val_accuracy: 0.6780\n",
            "Epoch 13/1000\n",
            "83/83 [==============================] - 1s 10ms/step - loss: 1.3869 - accuracy: 0.4876 - val_loss: 1.0168 - val_accuracy: 0.6840\n",
            "Epoch 14/1000\n",
            "83/83 [==============================] - 1s 10ms/step - loss: 1.3509 - accuracy: 0.4987 - val_loss: 0.9849 - val_accuracy: 0.6860\n",
            "Epoch 15/1000\n",
            "83/83 [==============================] - 1s 10ms/step - loss: 1.3223 - accuracy: 0.5100 - val_loss: 0.9559 - val_accuracy: 0.6907\n",
            "Epoch 16/1000\n",
            "83/83 [==============================] - 1s 10ms/step - loss: 1.2892 - accuracy: 0.5191 - val_loss: 0.9303 - val_accuracy: 0.6941\n",
            "Epoch 17/1000\n",
            "83/83 [==============================] - 1s 10ms/step - loss: 1.2671 - accuracy: 0.5266 - val_loss: 0.9121 - val_accuracy: 0.6991\n",
            "Epoch 18/1000\n",
            "83/83 [==============================] - 1s 10ms/step - loss: 1.2358 - accuracy: 0.5341 - val_loss: 0.8913 - val_accuracy: 0.7013\n",
            "Epoch 19/1000\n",
            "83/83 [==============================] - 1s 10ms/step - loss: 1.2117 - accuracy: 0.5422 - val_loss: 0.8721 - val_accuracy: 0.7033\n",
            "Epoch 20/1000\n",
            "83/83 [==============================] - 1s 10ms/step - loss: 1.1930 - accuracy: 0.5507 - val_loss: 0.8544 - val_accuracy: 0.7082\n",
            "Epoch 21/1000\n",
            "83/83 [==============================] - 1s 11ms/step - loss: 1.1799 - accuracy: 0.5531 - val_loss: 0.8395 - val_accuracy: 0.7110\n",
            "Epoch 22/1000\n",
            "83/83 [==============================] - 1s 10ms/step - loss: 1.1580 - accuracy: 0.5630 - val_loss: 0.8277 - val_accuracy: 0.7179\n",
            "Epoch 23/1000\n",
            "83/83 [==============================] - 1s 10ms/step - loss: 1.1478 - accuracy: 0.5664 - val_loss: 0.8157 - val_accuracy: 0.7158\n",
            "Epoch 24/1000\n",
            "83/83 [==============================] - 1s 10ms/step - loss: 1.1303 - accuracy: 0.5705 - val_loss: 0.8045 - val_accuracy: 0.7174\n",
            "Epoch 25/1000\n",
            "83/83 [==============================] - 1s 11ms/step - loss: 1.1178 - accuracy: 0.5778 - val_loss: 0.7924 - val_accuracy: 0.7168\n",
            "Epoch 26/1000\n",
            "83/83 [==============================] - 1s 10ms/step - loss: 1.1018 - accuracy: 0.5826 - val_loss: 0.7839 - val_accuracy: 0.7231\n",
            "Epoch 27/1000\n",
            "83/83 [==============================] - 1s 11ms/step - loss: 1.0892 - accuracy: 0.5864 - val_loss: 0.7697 - val_accuracy: 0.7235\n",
            "Epoch 28/1000\n",
            "83/83 [==============================] - 1s 10ms/step - loss: 1.0747 - accuracy: 0.5938 - val_loss: 0.7634 - val_accuracy: 0.7244\n",
            "Epoch 29/1000\n",
            "83/83 [==============================] - 1s 10ms/step - loss: 1.0706 - accuracy: 0.5947 - val_loss: 0.7508 - val_accuracy: 0.7267\n",
            "Epoch 30/1000\n",
            "83/83 [==============================] - 1s 10ms/step - loss: 1.0577 - accuracy: 0.6012 - val_loss: 0.7455 - val_accuracy: 0.7319\n",
            "Epoch 31/1000\n",
            "83/83 [==============================] - 1s 10ms/step - loss: 1.0500 - accuracy: 0.6028 - val_loss: 0.7371 - val_accuracy: 0.7301\n",
            "Epoch 32/1000\n",
            "83/83 [==============================] - 1s 10ms/step - loss: 1.0391 - accuracy: 0.6052 - val_loss: 0.7324 - val_accuracy: 0.7307\n",
            "Epoch 33/1000\n",
            "83/83 [==============================] - 1s 10ms/step - loss: 1.0331 - accuracy: 0.6083 - val_loss: 0.7220 - val_accuracy: 0.7303\n",
            "Epoch 34/1000\n",
            "83/83 [==============================] - 1s 10ms/step - loss: 1.0153 - accuracy: 0.6132 - val_loss: 0.7168 - val_accuracy: 0.7356\n",
            "Epoch 35/1000\n",
            "83/83 [==============================] - 1s 10ms/step - loss: 1.0188 - accuracy: 0.6154 - val_loss: 0.7102 - val_accuracy: 0.7399\n",
            "Epoch 36/1000\n",
            "83/83 [==============================] - 1s 10ms/step - loss: 1.0029 - accuracy: 0.6189 - val_loss: 0.7021 - val_accuracy: 0.7428\n",
            "Epoch 37/1000\n",
            "83/83 [==============================] - 1s 10ms/step - loss: 0.9928 - accuracy: 0.6228 - val_loss: 0.6973 - val_accuracy: 0.7430\n",
            "Epoch 38/1000\n",
            "83/83 [==============================] - 1s 10ms/step - loss: 0.9873 - accuracy: 0.6280 - val_loss: 0.6939 - val_accuracy: 0.7449\n",
            "Epoch 39/1000\n",
            "83/83 [==============================] - 1s 10ms/step - loss: 0.9803 - accuracy: 0.6291 - val_loss: 0.6872 - val_accuracy: 0.7422\n",
            "Epoch 40/1000\n",
            "83/83 [==============================] - 1s 10ms/step - loss: 0.9701 - accuracy: 0.6323 - val_loss: 0.6805 - val_accuracy: 0.7482\n",
            "Epoch 41/1000\n",
            "83/83 [==============================] - 1s 10ms/step - loss: 0.9717 - accuracy: 0.6338 - val_loss: 0.6778 - val_accuracy: 0.7459\n",
            "Epoch 42/1000\n",
            "83/83 [==============================] - 1s 10ms/step - loss: 0.9629 - accuracy: 0.6383 - val_loss: 0.6730 - val_accuracy: 0.7464\n",
            "Epoch 43/1000\n",
            "83/83 [==============================] - 1s 10ms/step - loss: 0.9462 - accuracy: 0.6428 - val_loss: 0.6688 - val_accuracy: 0.7546\n",
            "Epoch 44/1000\n",
            "83/83 [==============================] - 1s 10ms/step - loss: 0.9437 - accuracy: 0.6407 - val_loss: 0.6627 - val_accuracy: 0.7536\n",
            "Epoch 45/1000\n",
            "83/83 [==============================] - 1s 10ms/step - loss: 0.9373 - accuracy: 0.6503 - val_loss: 0.6585 - val_accuracy: 0.7526\n",
            "Epoch 46/1000\n",
            "83/83 [==============================] - 1s 10ms/step - loss: 0.9320 - accuracy: 0.6462 - val_loss: 0.6548 - val_accuracy: 0.7458\n",
            "Epoch 47/1000\n",
            "83/83 [==============================] - 1s 10ms/step - loss: 0.9303 - accuracy: 0.6494 - val_loss: 0.6508 - val_accuracy: 0.7498\n",
            "Epoch 48/1000\n",
            "83/83 [==============================] - 1s 10ms/step - loss: 0.9222 - accuracy: 0.6506 - val_loss: 0.6461 - val_accuracy: 0.7481\n",
            "Epoch 49/1000\n",
            "83/83 [==============================] - 1s 10ms/step - loss: 0.9158 - accuracy: 0.6546 - val_loss: 0.6429 - val_accuracy: 0.7572\n",
            "Epoch 50/1000\n",
            "83/83 [==============================] - 1s 10ms/step - loss: 0.9106 - accuracy: 0.6548 - val_loss: 0.6384 - val_accuracy: 0.7571\n",
            "Epoch 51/1000\n",
            "83/83 [==============================] - 1s 10ms/step - loss: 0.8985 - accuracy: 0.6619 - val_loss: 0.6341 - val_accuracy: 0.7626\n",
            "Epoch 52/1000\n",
            "83/83 [==============================] - 1s 10ms/step - loss: 0.9080 - accuracy: 0.6592 - val_loss: 0.6329 - val_accuracy: 0.7620\n",
            "Epoch 53/1000\n",
            "83/83 [==============================] - 1s 10ms/step - loss: 0.8955 - accuracy: 0.6592 - val_loss: 0.6270 - val_accuracy: 0.7602\n",
            "Epoch 54/1000\n",
            "83/83 [==============================] - 1s 10ms/step - loss: 0.8990 - accuracy: 0.6596 - val_loss: 0.6259 - val_accuracy: 0.7600\n",
            "Epoch 55/1000\n",
            "83/83 [==============================] - 1s 10ms/step - loss: 0.8833 - accuracy: 0.6686 - val_loss: 0.6296 - val_accuracy: 0.7619\n",
            "Epoch 56/1000\n",
            "83/83 [==============================] - 1s 10ms/step - loss: 0.8862 - accuracy: 0.6670 - val_loss: 0.6244 - val_accuracy: 0.7593\n",
            "Epoch 57/1000\n",
            "83/83 [==============================] - 1s 10ms/step - loss: 0.8845 - accuracy: 0.6685 - val_loss: 0.6185 - val_accuracy: 0.7658\n",
            "Epoch 58/1000\n",
            "83/83 [==============================] - 1s 10ms/step - loss: 0.8795 - accuracy: 0.6703 - val_loss: 0.6161 - val_accuracy: 0.7673\n",
            "Epoch 59/1000\n",
            "83/83 [==============================] - 1s 10ms/step - loss: 0.8773 - accuracy: 0.6745 - val_loss: 0.6119 - val_accuracy: 0.7612\n",
            "Epoch 60/1000\n",
            "83/83 [==============================] - 1s 10ms/step - loss: 0.8719 - accuracy: 0.6734 - val_loss: 0.6096 - val_accuracy: 0.7614\n",
            "Epoch 61/1000\n",
            "83/83 [==============================] - 1s 10ms/step - loss: 0.8689 - accuracy: 0.6741 - val_loss: 0.6087 - val_accuracy: 0.7644\n",
            "Epoch 62/1000\n",
            "83/83 [==============================] - 1s 10ms/step - loss: 0.8597 - accuracy: 0.6753 - val_loss: 0.6064 - val_accuracy: 0.7678\n",
            "Epoch 63/1000\n",
            "83/83 [==============================] - 1s 11ms/step - loss: 0.8610 - accuracy: 0.6791 - val_loss: 0.6019 - val_accuracy: 0.7688\n",
            "Epoch 64/1000\n",
            "83/83 [==============================] - 1s 10ms/step - loss: 0.8532 - accuracy: 0.6820 - val_loss: 0.5997 - val_accuracy: 0.7706\n",
            "Epoch 65/1000\n",
            "83/83 [==============================] - 1s 10ms/step - loss: 0.8554 - accuracy: 0.6776 - val_loss: 0.5977 - val_accuracy: 0.7705\n",
            "Epoch 66/1000\n",
            "83/83 [==============================] - 1s 10ms/step - loss: 0.8470 - accuracy: 0.6835 - val_loss: 0.5947 - val_accuracy: 0.7714\n",
            "Epoch 67/1000\n",
            "83/83 [==============================] - 1s 10ms/step - loss: 0.8406 - accuracy: 0.6849 - val_loss: 0.5932 - val_accuracy: 0.7757\n",
            "Epoch 68/1000\n",
            "83/83 [==============================] - 1s 10ms/step - loss: 0.8430 - accuracy: 0.6854 - val_loss: 0.5914 - val_accuracy: 0.7731\n",
            "Epoch 69/1000\n",
            "83/83 [==============================] - 1s 10ms/step - loss: 0.8337 - accuracy: 0.6910 - val_loss: 0.5898 - val_accuracy: 0.7737\n",
            "Epoch 70/1000\n",
            "83/83 [==============================] - 1s 10ms/step - loss: 0.8337 - accuracy: 0.6911 - val_loss: 0.5870 - val_accuracy: 0.7754\n",
            "Epoch 71/1000\n",
            "83/83 [==============================] - 1s 10ms/step - loss: 0.8301 - accuracy: 0.6887 - val_loss: 0.5849 - val_accuracy: 0.7811\n",
            "Epoch 72/1000\n",
            "83/83 [==============================] - 1s 10ms/step - loss: 0.8344 - accuracy: 0.6881 - val_loss: 0.5826 - val_accuracy: 0.7791\n",
            "Epoch 73/1000\n",
            "83/83 [==============================] - 1s 10ms/step - loss: 0.8232 - accuracy: 0.6917 - val_loss: 0.5821 - val_accuracy: 0.7783\n",
            "Epoch 74/1000\n",
            "83/83 [==============================] - 1s 10ms/step - loss: 0.8180 - accuracy: 0.6953 - val_loss: 0.5796 - val_accuracy: 0.7821\n",
            "Epoch 75/1000\n",
            "83/83 [==============================] - 1s 10ms/step - loss: 0.8163 - accuracy: 0.6945 - val_loss: 0.5814 - val_accuracy: 0.7768\n",
            "Epoch 76/1000\n",
            "83/83 [==============================] - 1s 10ms/step - loss: 0.8140 - accuracy: 0.6965 - val_loss: 0.5777 - val_accuracy: 0.7804\n",
            "Epoch 77/1000\n",
            "83/83 [==============================] - 1s 10ms/step - loss: 0.8100 - accuracy: 0.6988 - val_loss: 0.5745 - val_accuracy: 0.7806\n",
            "Epoch 78/1000\n",
            "83/83 [==============================] - 1s 10ms/step - loss: 0.8075 - accuracy: 0.7001 - val_loss: 0.5726 - val_accuracy: 0.7819\n",
            "Epoch 79/1000\n",
            "83/83 [==============================] - 1s 10ms/step - loss: 0.8057 - accuracy: 0.7002 - val_loss: 0.5722 - val_accuracy: 0.7821\n",
            "Epoch 80/1000\n",
            "83/83 [==============================] - 1s 10ms/step - loss: 0.8023 - accuracy: 0.7040 - val_loss: 0.5712 - val_accuracy: 0.7838\n",
            "Epoch 81/1000\n",
            "83/83 [==============================] - 1s 10ms/step - loss: 0.8009 - accuracy: 0.7015 - val_loss: 0.5675 - val_accuracy: 0.7830\n",
            "Epoch 82/1000\n",
            "83/83 [==============================] - 1s 10ms/step - loss: 0.7968 - accuracy: 0.7055 - val_loss: 0.5661 - val_accuracy: 0.7847\n",
            "Epoch 83/1000\n",
            "83/83 [==============================] - 1s 10ms/step - loss: 0.7968 - accuracy: 0.7045 - val_loss: 0.5646 - val_accuracy: 0.7837\n",
            "Epoch 84/1000\n",
            "83/83 [==============================] - 1s 10ms/step - loss: 0.7922 - accuracy: 0.7085 - val_loss: 0.5619 - val_accuracy: 0.7839\n",
            "Epoch 85/1000\n",
            "83/83 [==============================] - 1s 10ms/step - loss: 0.7891 - accuracy: 0.7086 - val_loss: 0.5600 - val_accuracy: 0.7842\n",
            "Epoch 86/1000\n",
            "83/83 [==============================] - 1s 10ms/step - loss: 0.7929 - accuracy: 0.7058 - val_loss: 0.5598 - val_accuracy: 0.7886\n",
            "Epoch 87/1000\n",
            "83/83 [==============================] - 1s 10ms/step - loss: 0.7844 - accuracy: 0.7105 - val_loss: 0.5566 - val_accuracy: 0.7896\n",
            "Epoch 88/1000\n",
            "83/83 [==============================] - 1s 10ms/step - loss: 0.7840 - accuracy: 0.7102 - val_loss: 0.5568 - val_accuracy: 0.7913\n",
            "Epoch 89/1000\n",
            "83/83 [==============================] - 1s 10ms/step - loss: 0.7836 - accuracy: 0.7115 - val_loss: 0.5557 - val_accuracy: 0.7915\n",
            "Epoch 90/1000\n",
            "83/83 [==============================] - 1s 10ms/step - loss: 0.7789 - accuracy: 0.7116 - val_loss: 0.5526 - val_accuracy: 0.7934\n",
            "Epoch 91/1000\n",
            "83/83 [==============================] - 1s 10ms/step - loss: 0.7764 - accuracy: 0.7175 - val_loss: 0.5521 - val_accuracy: 0.7928\n",
            "Epoch 92/1000\n",
            "83/83 [==============================] - 1s 10ms/step - loss: 0.7754 - accuracy: 0.7164 - val_loss: 0.5493 - val_accuracy: 0.7966\n",
            "Epoch 93/1000\n",
            "83/83 [==============================] - 1s 10ms/step - loss: 0.7716 - accuracy: 0.7155 - val_loss: 0.5494 - val_accuracy: 0.7927\n",
            "Epoch 94/1000\n",
            "83/83 [==============================] - 1s 10ms/step - loss: 0.7742 - accuracy: 0.7162 - val_loss: 0.5485 - val_accuracy: 0.7958\n",
            "Epoch 95/1000\n",
            "83/83 [==============================] - 1s 10ms/step - loss: 0.7662 - accuracy: 0.7188 - val_loss: 0.5467 - val_accuracy: 0.7942\n",
            "Epoch 96/1000\n",
            "83/83 [==============================] - 1s 10ms/step - loss: 0.7646 - accuracy: 0.7204 - val_loss: 0.5453 - val_accuracy: 0.7977\n",
            "Epoch 97/1000\n",
            "83/83 [==============================] - 1s 10ms/step - loss: 0.7611 - accuracy: 0.7220 - val_loss: 0.5435 - val_accuracy: 0.7968\n",
            "Epoch 98/1000\n",
            "83/83 [==============================] - 1s 10ms/step - loss: 0.7598 - accuracy: 0.7211 - val_loss: 0.5424 - val_accuracy: 0.8023\n",
            "Epoch 99/1000\n",
            "83/83 [==============================] - 1s 11ms/step - loss: 0.7614 - accuracy: 0.7225 - val_loss: 0.5394 - val_accuracy: 0.8014\n",
            "Epoch 100/1000\n",
            "83/83 [==============================] - 1s 11ms/step - loss: 0.7526 - accuracy: 0.7251 - val_loss: 0.5373 - val_accuracy: 0.8013\n",
            "Epoch 101/1000\n",
            "83/83 [==============================] - 1s 10ms/step - loss: 0.7570 - accuracy: 0.7245 - val_loss: 0.5366 - val_accuracy: 0.8018\n",
            "Epoch 102/1000\n",
            "83/83 [==============================] - 1s 10ms/step - loss: 0.7546 - accuracy: 0.7263 - val_loss: 0.5353 - val_accuracy: 0.8037\n",
            "Epoch 103/1000\n",
            "83/83 [==============================] - 1s 10ms/step - loss: 0.7531 - accuracy: 0.7281 - val_loss: 0.5334 - val_accuracy: 0.8030\n",
            "Epoch 104/1000\n",
            "83/83 [==============================] - 1s 10ms/step - loss: 0.7453 - accuracy: 0.7284 - val_loss: 0.5320 - val_accuracy: 0.8017\n",
            "Epoch 105/1000\n",
            "83/83 [==============================] - 1s 10ms/step - loss: 0.7451 - accuracy: 0.7330 - val_loss: 0.5329 - val_accuracy: 0.8041\n",
            "Epoch 106/1000\n",
            "83/83 [==============================] - 1s 10ms/step - loss: 0.7485 - accuracy: 0.7299 - val_loss: 0.5304 - val_accuracy: 0.8068\n",
            "Epoch 107/1000\n",
            "83/83 [==============================] - 1s 10ms/step - loss: 0.7419 - accuracy: 0.7318 - val_loss: 0.5288 - val_accuracy: 0.8062\n",
            "Epoch 108/1000\n",
            "83/83 [==============================] - 1s 10ms/step - loss: 0.7408 - accuracy: 0.7324 - val_loss: 0.5257 - val_accuracy: 0.8093\n",
            "Epoch 109/1000\n",
            "83/83 [==============================] - 1s 10ms/step - loss: 0.7387 - accuracy: 0.7317 - val_loss: 0.5260 - val_accuracy: 0.8074\n",
            "Epoch 110/1000\n",
            "83/83 [==============================] - 1s 10ms/step - loss: 0.7342 - accuracy: 0.7347 - val_loss: 0.5251 - val_accuracy: 0.8069\n",
            "Epoch 111/1000\n",
            "83/83 [==============================] - 1s 10ms/step - loss: 0.7358 - accuracy: 0.7335 - val_loss: 0.5246 - val_accuracy: 0.8066\n",
            "Epoch 112/1000\n",
            "83/83 [==============================] - 1s 10ms/step - loss: 0.7325 - accuracy: 0.7370 - val_loss: 0.5223 - val_accuracy: 0.8106\n",
            "Epoch 113/1000\n",
            "83/83 [==============================] - 1s 10ms/step - loss: 0.7355 - accuracy: 0.7338 - val_loss: 0.5195 - val_accuracy: 0.8129\n",
            "Epoch 114/1000\n",
            "83/83 [==============================] - 1s 10ms/step - loss: 0.7290 - accuracy: 0.7358 - val_loss: 0.5190 - val_accuracy: 0.8124\n",
            "Epoch 115/1000\n",
            "83/83 [==============================] - 1s 10ms/step - loss: 0.7293 - accuracy: 0.7398 - val_loss: 0.5186 - val_accuracy: 0.8127\n",
            "Epoch 116/1000\n",
            "83/83 [==============================] - 1s 10ms/step - loss: 0.7329 - accuracy: 0.7368 - val_loss: 0.5161 - val_accuracy: 0.8147\n",
            "Epoch 117/1000\n",
            "83/83 [==============================] - 1s 10ms/step - loss: 0.7232 - accuracy: 0.7416 - val_loss: 0.5162 - val_accuracy: 0.8163\n",
            "Epoch 118/1000\n",
            "83/83 [==============================] - 1s 10ms/step - loss: 0.7256 - accuracy: 0.7391 - val_loss: 0.5143 - val_accuracy: 0.8151\n",
            "Epoch 119/1000\n",
            "83/83 [==============================] - 1s 10ms/step - loss: 0.7219 - accuracy: 0.7401 - val_loss: 0.5144 - val_accuracy: 0.8149\n",
            "Epoch 120/1000\n",
            "83/83 [==============================] - 1s 10ms/step - loss: 0.7265 - accuracy: 0.7391 - val_loss: 0.5152 - val_accuracy: 0.8164\n",
            "Epoch 121/1000\n",
            "83/83 [==============================] - 1s 10ms/step - loss: 0.7176 - accuracy: 0.7426 - val_loss: 0.5119 - val_accuracy: 0.8160\n",
            "Epoch 122/1000\n",
            "83/83 [==============================] - 1s 10ms/step - loss: 0.7133 - accuracy: 0.7455 - val_loss: 0.5102 - val_accuracy: 0.8177\n",
            "Epoch 123/1000\n",
            "83/83 [==============================] - 1s 10ms/step - loss: 0.7229 - accuracy: 0.7416 - val_loss: 0.5094 - val_accuracy: 0.8198\n",
            "Epoch 124/1000\n",
            "83/83 [==============================] - 1s 10ms/step - loss: 0.7153 - accuracy: 0.7428 - val_loss: 0.5084 - val_accuracy: 0.8185\n",
            "Epoch 125/1000\n",
            "83/83 [==============================] - 1s 10ms/step - loss: 0.7095 - accuracy: 0.7471 - val_loss: 0.5061 - val_accuracy: 0.8201\n",
            "Epoch 126/1000\n",
            "83/83 [==============================] - 1s 10ms/step - loss: 0.7136 - accuracy: 0.7487 - val_loss: 0.5051 - val_accuracy: 0.8218\n",
            "Epoch 127/1000\n",
            "83/83 [==============================] - 1s 10ms/step - loss: 0.7099 - accuracy: 0.7492 - val_loss: 0.5041 - val_accuracy: 0.8222\n",
            "Epoch 128/1000\n",
            "83/83 [==============================] - 1s 10ms/step - loss: 0.7045 - accuracy: 0.7487 - val_loss: 0.5025 - val_accuracy: 0.8215\n",
            "Epoch 129/1000\n",
            "83/83 [==============================] - 1s 10ms/step - loss: 0.7043 - accuracy: 0.7501 - val_loss: 0.5012 - val_accuracy: 0.8241\n",
            "Epoch 130/1000\n",
            "83/83 [==============================] - 1s 10ms/step - loss: 0.7065 - accuracy: 0.7481 - val_loss: 0.4998 - val_accuracy: 0.8241\n",
            "Epoch 131/1000\n",
            "83/83 [==============================] - 1s 10ms/step - loss: 0.7020 - accuracy: 0.7505 - val_loss: 0.4981 - val_accuracy: 0.8253\n",
            "Epoch 132/1000\n",
            "83/83 [==============================] - 1s 10ms/step - loss: 0.6987 - accuracy: 0.7534 - val_loss: 0.4996 - val_accuracy: 0.8195\n",
            "Epoch 133/1000\n",
            "83/83 [==============================] - 1s 10ms/step - loss: 0.7020 - accuracy: 0.7534 - val_loss: 0.4958 - val_accuracy: 0.8276\n",
            "Epoch 134/1000\n",
            "83/83 [==============================] - 1s 10ms/step - loss: 0.7053 - accuracy: 0.7506 - val_loss: 0.4954 - val_accuracy: 0.8277\n",
            "Epoch 135/1000\n",
            "83/83 [==============================] - 1s 10ms/step - loss: 0.6968 - accuracy: 0.7545 - val_loss: 0.4933 - val_accuracy: 0.8277\n",
            "Epoch 136/1000\n",
            "83/83 [==============================] - 1s 10ms/step - loss: 0.7004 - accuracy: 0.7548 - val_loss: 0.4930 - val_accuracy: 0.8271\n",
            "Epoch 137/1000\n",
            "83/83 [==============================] - 1s 10ms/step - loss: 0.6967 - accuracy: 0.7522 - val_loss: 0.4979 - val_accuracy: 0.8242\n",
            "Epoch 138/1000\n",
            "83/83 [==============================] - 1s 10ms/step - loss: 0.6933 - accuracy: 0.7566 - val_loss: 0.4919 - val_accuracy: 0.8297\n",
            "Epoch 139/1000\n",
            "83/83 [==============================] - 1s 10ms/step - loss: 0.6910 - accuracy: 0.7580 - val_loss: 0.4900 - val_accuracy: 0.8282\n",
            "Epoch 140/1000\n",
            "83/83 [==============================] - 1s 10ms/step - loss: 0.6919 - accuracy: 0.7567 - val_loss: 0.4895 - val_accuracy: 0.8297\n",
            "Epoch 141/1000\n",
            "83/83 [==============================] - 1s 10ms/step - loss: 0.6888 - accuracy: 0.7582 - val_loss: 0.4880 - val_accuracy: 0.8299\n",
            "Epoch 142/1000\n",
            "83/83 [==============================] - 1s 10ms/step - loss: 0.6924 - accuracy: 0.7607 - val_loss: 0.4868 - val_accuracy: 0.8308\n",
            "Epoch 143/1000\n",
            "83/83 [==============================] - 1s 10ms/step - loss: 0.6828 - accuracy: 0.7594 - val_loss: 0.4885 - val_accuracy: 0.8298\n",
            "Epoch 144/1000\n",
            "83/83 [==============================] - 1s 10ms/step - loss: 0.6842 - accuracy: 0.7603 - val_loss: 0.4873 - val_accuracy: 0.8311\n",
            "Epoch 145/1000\n",
            "83/83 [==============================] - 1s 10ms/step - loss: 0.6855 - accuracy: 0.7574 - val_loss: 0.4850 - val_accuracy: 0.8320\n",
            "Epoch 146/1000\n",
            "83/83 [==============================] - 1s 10ms/step - loss: 0.6760 - accuracy: 0.7605 - val_loss: 0.4824 - val_accuracy: 0.8336\n",
            "Epoch 147/1000\n",
            "83/83 [==============================] - 1s 10ms/step - loss: 0.6870 - accuracy: 0.7607 - val_loss: 0.4827 - val_accuracy: 0.8342\n",
            "Epoch 148/1000\n",
            "83/83 [==============================] - 1s 10ms/step - loss: 0.6821 - accuracy: 0.7603 - val_loss: 0.4828 - val_accuracy: 0.8328\n",
            "Epoch 149/1000\n",
            "83/83 [==============================] - 1s 10ms/step - loss: 0.6758 - accuracy: 0.7651 - val_loss: 0.4839 - val_accuracy: 0.8342\n",
            "Epoch 150/1000\n",
            "83/83 [==============================] - 1s 10ms/step - loss: 0.6762 - accuracy: 0.7646 - val_loss: 0.4821 - val_accuracy: 0.8339\n",
            "Epoch 151/1000\n",
            "83/83 [==============================] - 1s 10ms/step - loss: 0.6826 - accuracy: 0.7633 - val_loss: 0.4788 - val_accuracy: 0.8349\n",
            "Epoch 152/1000\n",
            "83/83 [==============================] - 1s 10ms/step - loss: 0.6741 - accuracy: 0.7636 - val_loss: 0.4786 - val_accuracy: 0.8338\n",
            "Epoch 153/1000\n",
            "83/83 [==============================] - 1s 10ms/step - loss: 0.6695 - accuracy: 0.7658 - val_loss: 0.4790 - val_accuracy: 0.8342\n",
            "Epoch 154/1000\n",
            "83/83 [==============================] - 1s 10ms/step - loss: 0.6767 - accuracy: 0.7619 - val_loss: 0.4772 - val_accuracy: 0.8361\n",
            "Epoch 155/1000\n",
            "83/83 [==============================] - 1s 10ms/step - loss: 0.6715 - accuracy: 0.7646 - val_loss: 0.4761 - val_accuracy: 0.8353\n",
            "Epoch 156/1000\n",
            "83/83 [==============================] - 1s 10ms/step - loss: 0.6740 - accuracy: 0.7650 - val_loss: 0.4751 - val_accuracy: 0.8354\n",
            "Epoch 157/1000\n",
            "83/83 [==============================] - 1s 10ms/step - loss: 0.6731 - accuracy: 0.7645 - val_loss: 0.4751 - val_accuracy: 0.8352\n",
            "Epoch 158/1000\n",
            "83/83 [==============================] - 1s 10ms/step - loss: 0.6708 - accuracy: 0.7673 - val_loss: 0.4739 - val_accuracy: 0.8373\n",
            "Epoch 159/1000\n",
            "83/83 [==============================] - 1s 10ms/step - loss: 0.6655 - accuracy: 0.7678 - val_loss: 0.4727 - val_accuracy: 0.8361\n",
            "Epoch 160/1000\n",
            "83/83 [==============================] - 1s 10ms/step - loss: 0.6732 - accuracy: 0.7670 - val_loss: 0.4721 - val_accuracy: 0.8383\n",
            "Epoch 161/1000\n",
            "83/83 [==============================] - 1s 10ms/step - loss: 0.6665 - accuracy: 0.7686 - val_loss: 0.4711 - val_accuracy: 0.8381\n",
            "Epoch 162/1000\n",
            "83/83 [==============================] - 1s 10ms/step - loss: 0.6589 - accuracy: 0.7700 - val_loss: 0.4725 - val_accuracy: 0.8386\n",
            "Epoch 163/1000\n",
            "83/83 [==============================] - 1s 11ms/step - loss: 0.6583 - accuracy: 0.7731 - val_loss: 0.4703 - val_accuracy: 0.8377\n",
            "Epoch 164/1000\n",
            "83/83 [==============================] - 1s 10ms/step - loss: 0.6570 - accuracy: 0.7692 - val_loss: 0.4697 - val_accuracy: 0.8394\n",
            "Epoch 165/1000\n",
            "83/83 [==============================] - 1s 10ms/step - loss: 0.6621 - accuracy: 0.7706 - val_loss: 0.4674 - val_accuracy: 0.8396\n",
            "Epoch 166/1000\n",
            "83/83 [==============================] - 1s 10ms/step - loss: 0.6566 - accuracy: 0.7732 - val_loss: 0.4665 - val_accuracy: 0.8393\n",
            "Epoch 167/1000\n",
            "83/83 [==============================] - 1s 10ms/step - loss: 0.6605 - accuracy: 0.7698 - val_loss: 0.4773 - val_accuracy: 0.8323\n",
            "Epoch 168/1000\n",
            "83/83 [==============================] - 1s 11ms/step - loss: 0.6525 - accuracy: 0.7758 - val_loss: 0.4664 - val_accuracy: 0.8405\n",
            "Epoch 169/1000\n",
            "83/83 [==============================] - 1s 11ms/step - loss: 0.6564 - accuracy: 0.7745 - val_loss: 0.4661 - val_accuracy: 0.8409\n",
            "Epoch 170/1000\n",
            "83/83 [==============================] - 1s 11ms/step - loss: 0.6529 - accuracy: 0.7724 - val_loss: 0.4656 - val_accuracy: 0.8400\n",
            "Epoch 171/1000\n",
            "83/83 [==============================] - 1s 11ms/step - loss: 0.6553 - accuracy: 0.7758 - val_loss: 0.4824 - val_accuracy: 0.8322\n",
            "Epoch 172/1000\n",
            "83/83 [==============================] - 1s 11ms/step - loss: 0.6552 - accuracy: 0.7758 - val_loss: 0.4651 - val_accuracy: 0.8404\n",
            "Epoch 173/1000\n",
            "83/83 [==============================] - 1s 10ms/step - loss: 0.6548 - accuracy: 0.7739 - val_loss: 0.4634 - val_accuracy: 0.8422\n",
            "Epoch 174/1000\n",
            "83/83 [==============================] - 1s 10ms/step - loss: 0.6509 - accuracy: 0.7729 - val_loss: 0.4643 - val_accuracy: 0.8402\n",
            "Epoch 175/1000\n",
            "83/83 [==============================] - 1s 10ms/step - loss: 0.6490 - accuracy: 0.7753 - val_loss: 0.4609 - val_accuracy: 0.8433\n",
            "Epoch 176/1000\n",
            "83/83 [==============================] - 1s 10ms/step - loss: 0.6489 - accuracy: 0.7774 - val_loss: 0.4597 - val_accuracy: 0.8431\n",
            "Epoch 177/1000\n",
            "83/83 [==============================] - 1s 10ms/step - loss: 0.6467 - accuracy: 0.7791 - val_loss: 0.4593 - val_accuracy: 0.8434\n",
            "Epoch 178/1000\n",
            "83/83 [==============================] - 1s 10ms/step - loss: 0.6464 - accuracy: 0.7778 - val_loss: 0.4594 - val_accuracy: 0.8439\n",
            "Epoch 179/1000\n",
            "83/83 [==============================] - 1s 10ms/step - loss: 0.6438 - accuracy: 0.7775 - val_loss: 0.4577 - val_accuracy: 0.8433\n",
            "Epoch 180/1000\n",
            "83/83 [==============================] - 1s 10ms/step - loss: 0.6414 - accuracy: 0.7803 - val_loss: 0.4564 - val_accuracy: 0.8440\n",
            "Epoch 181/1000\n",
            "83/83 [==============================] - 1s 10ms/step - loss: 0.6429 - accuracy: 0.7784 - val_loss: 0.4574 - val_accuracy: 0.8448\n",
            "Epoch 182/1000\n",
            "83/83 [==============================] - 1s 10ms/step - loss: 0.6370 - accuracy: 0.7831 - val_loss: 0.4559 - val_accuracy: 0.8442\n",
            "Epoch 183/1000\n",
            "83/83 [==============================] - 1s 10ms/step - loss: 0.6418 - accuracy: 0.7818 - val_loss: 0.4550 - val_accuracy: 0.8442\n",
            "Epoch 184/1000\n",
            "83/83 [==============================] - 1s 10ms/step - loss: 0.6452 - accuracy: 0.7797 - val_loss: 0.4542 - val_accuracy: 0.8459\n",
            "Epoch 185/1000\n",
            "83/83 [==============================] - 1s 11ms/step - loss: 0.6439 - accuracy: 0.7815 - val_loss: 0.4521 - val_accuracy: 0.8452\n",
            "Epoch 186/1000\n",
            "83/83 [==============================] - 1s 10ms/step - loss: 0.6395 - accuracy: 0.7829 - val_loss: 0.4526 - val_accuracy: 0.8458\n",
            "Epoch 187/1000\n",
            "83/83 [==============================] - 1s 11ms/step - loss: 0.6351 - accuracy: 0.7821 - val_loss: 0.4523 - val_accuracy: 0.8459\n",
            "Epoch 188/1000\n",
            "83/83 [==============================] - 1s 11ms/step - loss: 0.6392 - accuracy: 0.7823 - val_loss: 0.4534 - val_accuracy: 0.8447\n",
            "Epoch 189/1000\n",
            "83/83 [==============================] - 1s 10ms/step - loss: 0.6349 - accuracy: 0.7808 - val_loss: 0.4510 - val_accuracy: 0.8453\n",
            "Epoch 190/1000\n",
            "83/83 [==============================] - 1s 11ms/step - loss: 0.6327 - accuracy: 0.7845 - val_loss: 0.4507 - val_accuracy: 0.8459\n",
            "Epoch 191/1000\n",
            "83/83 [==============================] - 1s 10ms/step - loss: 0.6370 - accuracy: 0.7833 - val_loss: 0.4499 - val_accuracy: 0.8456\n",
            "Epoch 192/1000\n",
            "83/83 [==============================] - 1s 10ms/step - loss: 0.6318 - accuracy: 0.7872 - val_loss: 0.4505 - val_accuracy: 0.8456\n",
            "Epoch 193/1000\n",
            "83/83 [==============================] - 1s 10ms/step - loss: 0.6346 - accuracy: 0.7830 - val_loss: 0.4517 - val_accuracy: 0.8457\n",
            "Epoch 194/1000\n",
            "83/83 [==============================] - 1s 10ms/step - loss: 0.6303 - accuracy: 0.7854 - val_loss: 0.4486 - val_accuracy: 0.8465\n",
            "Epoch 195/1000\n",
            "83/83 [==============================] - 1s 10ms/step - loss: 0.6303 - accuracy: 0.7820 - val_loss: 0.4489 - val_accuracy: 0.8476\n",
            "Epoch 196/1000\n",
            "83/83 [==============================] - 1s 10ms/step - loss: 0.6340 - accuracy: 0.7863 - val_loss: 0.4475 - val_accuracy: 0.8471\n",
            "Epoch 197/1000\n",
            "83/83 [==============================] - 1s 11ms/step - loss: 0.6256 - accuracy: 0.7862 - val_loss: 0.4463 - val_accuracy: 0.8478\n",
            "Epoch 198/1000\n",
            "83/83 [==============================] - 1s 10ms/step - loss: 0.6272 - accuracy: 0.7849 - val_loss: 0.4500 - val_accuracy: 0.8470\n",
            "Epoch 199/1000\n",
            "83/83 [==============================] - 1s 10ms/step - loss: 0.6275 - accuracy: 0.7865 - val_loss: 0.4467 - val_accuracy: 0.8473\n",
            "Epoch 200/1000\n",
            "83/83 [==============================] - 1s 11ms/step - loss: 0.6254 - accuracy: 0.7871 - val_loss: 0.4461 - val_accuracy: 0.8479\n",
            "Epoch 201/1000\n",
            "83/83 [==============================] - 1s 11ms/step - loss: 0.6225 - accuracy: 0.7875 - val_loss: 0.4446 - val_accuracy: 0.8488\n",
            "Epoch 202/1000\n",
            "83/83 [==============================] - 1s 11ms/step - loss: 0.6279 - accuracy: 0.7872 - val_loss: 0.4461 - val_accuracy: 0.8459\n",
            "Epoch 203/1000\n",
            "83/83 [==============================] - 1s 10ms/step - loss: 0.6239 - accuracy: 0.7898 - val_loss: 0.4434 - val_accuracy: 0.8483\n",
            "Epoch 204/1000\n",
            "83/83 [==============================] - 1s 10ms/step - loss: 0.6200 - accuracy: 0.7917 - val_loss: 0.4443 - val_accuracy: 0.8481\n",
            "Epoch 205/1000\n",
            "83/83 [==============================] - 1s 10ms/step - loss: 0.6211 - accuracy: 0.7890 - val_loss: 0.4426 - val_accuracy: 0.8483\n",
            "Epoch 206/1000\n",
            "83/83 [==============================] - 1s 10ms/step - loss: 0.6229 - accuracy: 0.7883 - val_loss: 0.4433 - val_accuracy: 0.8490\n",
            "Epoch 207/1000\n",
            "83/83 [==============================] - 1s 10ms/step - loss: 0.6185 - accuracy: 0.7940 - val_loss: 0.4415 - val_accuracy: 0.8492\n",
            "Epoch 208/1000\n",
            "83/83 [==============================] - 1s 10ms/step - loss: 0.6216 - accuracy: 0.7881 - val_loss: 0.4417 - val_accuracy: 0.8486\n",
            "Epoch 209/1000\n",
            "83/83 [==============================] - 1s 10ms/step - loss: 0.6171 - accuracy: 0.7906 - val_loss: 0.4428 - val_accuracy: 0.8492\n",
            "Epoch 210/1000\n",
            "83/83 [==============================] - 1s 10ms/step - loss: 0.6182 - accuracy: 0.7902 - val_loss: 0.4407 - val_accuracy: 0.8497\n",
            "Epoch 211/1000\n",
            "83/83 [==============================] - 1s 10ms/step - loss: 0.6227 - accuracy: 0.7890 - val_loss: 0.4391 - val_accuracy: 0.8506\n",
            "Epoch 212/1000\n",
            "83/83 [==============================] - 1s 10ms/step - loss: 0.6133 - accuracy: 0.7930 - val_loss: 0.4396 - val_accuracy: 0.8499\n",
            "Epoch 213/1000\n",
            "83/83 [==============================] - 1s 10ms/step - loss: 0.6162 - accuracy: 0.7926 - val_loss: 0.4388 - val_accuracy: 0.8497\n",
            "Epoch 214/1000\n",
            "83/83 [==============================] - 1s 10ms/step - loss: 0.6103 - accuracy: 0.7919 - val_loss: 0.4385 - val_accuracy: 0.8511\n",
            "Epoch 215/1000\n",
            "83/83 [==============================] - 1s 10ms/step - loss: 0.6126 - accuracy: 0.7928 - val_loss: 0.4378 - val_accuracy: 0.8512\n",
            "Epoch 216/1000\n",
            "83/83 [==============================] - 1s 10ms/step - loss: 0.6093 - accuracy: 0.7929 - val_loss: 0.4369 - val_accuracy: 0.8514\n",
            "Epoch 217/1000\n",
            "83/83 [==============================] - 1s 10ms/step - loss: 0.6142 - accuracy: 0.7949 - val_loss: 0.4404 - val_accuracy: 0.8476\n",
            "Epoch 218/1000\n",
            "83/83 [==============================] - 1s 10ms/step - loss: 0.6092 - accuracy: 0.7953 - val_loss: 0.4370 - val_accuracy: 0.8517\n",
            "Epoch 219/1000\n",
            "83/83 [==============================] - 1s 10ms/step - loss: 0.6122 - accuracy: 0.7921 - val_loss: 0.4382 - val_accuracy: 0.8501\n",
            "Epoch 220/1000\n",
            "83/83 [==============================] - 1s 10ms/step - loss: 0.6095 - accuracy: 0.7952 - val_loss: 0.4356 - val_accuracy: 0.8525\n",
            "Epoch 221/1000\n",
            "83/83 [==============================] - 1s 10ms/step - loss: 0.6133 - accuracy: 0.7950 - val_loss: 0.4358 - val_accuracy: 0.8518\n",
            "Epoch 222/1000\n",
            "83/83 [==============================] - 1s 10ms/step - loss: 0.6106 - accuracy: 0.7947 - val_loss: 0.4342 - val_accuracy: 0.8521\n",
            "Epoch 223/1000\n",
            "83/83 [==============================] - 1s 10ms/step - loss: 0.6115 - accuracy: 0.7949 - val_loss: 0.4343 - val_accuracy: 0.8524\n",
            "Epoch 224/1000\n",
            "83/83 [==============================] - 1s 10ms/step - loss: 0.6111 - accuracy: 0.7944 - val_loss: 0.4383 - val_accuracy: 0.8479\n",
            "Epoch 225/1000\n",
            "83/83 [==============================] - 1s 10ms/step - loss: 0.6073 - accuracy: 0.7954 - val_loss: 0.4343 - val_accuracy: 0.8518\n",
            "Epoch 226/1000\n",
            "83/83 [==============================] - 1s 11ms/step - loss: 0.6073 - accuracy: 0.7971 - val_loss: 0.4360 - val_accuracy: 0.8494\n",
            "Epoch 227/1000\n",
            "83/83 [==============================] - 1s 10ms/step - loss: 0.6046 - accuracy: 0.7955 - val_loss: 0.4332 - val_accuracy: 0.8524\n",
            "Epoch 228/1000\n",
            "83/83 [==============================] - 1s 10ms/step - loss: 0.6056 - accuracy: 0.7965 - val_loss: 0.4323 - val_accuracy: 0.8532\n",
            "Epoch 229/1000\n",
            "83/83 [==============================] - 1s 10ms/step - loss: 0.5971 - accuracy: 0.7981 - val_loss: 0.4320 - val_accuracy: 0.8529\n",
            "Epoch 230/1000\n",
            "83/83 [==============================] - 1s 10ms/step - loss: 0.5977 - accuracy: 0.7982 - val_loss: 0.4323 - val_accuracy: 0.8525\n",
            "Epoch 231/1000\n",
            "83/83 [==============================] - 1s 10ms/step - loss: 0.6002 - accuracy: 0.8004 - val_loss: 0.4318 - val_accuracy: 0.8520\n",
            "Epoch 232/1000\n",
            "83/83 [==============================] - 1s 10ms/step - loss: 0.5998 - accuracy: 0.7983 - val_loss: 0.4346 - val_accuracy: 0.8511\n",
            "Epoch 233/1000\n",
            "83/83 [==============================] - 1s 10ms/step - loss: 0.5983 - accuracy: 0.7996 - val_loss: 0.4305 - val_accuracy: 0.8528\n",
            "Epoch 234/1000\n",
            "83/83 [==============================] - 1s 10ms/step - loss: 0.5971 - accuracy: 0.7983 - val_loss: 0.4293 - val_accuracy: 0.8536\n",
            "Epoch 235/1000\n",
            "83/83 [==============================] - 1s 10ms/step - loss: 0.6011 - accuracy: 0.7996 - val_loss: 0.4303 - val_accuracy: 0.8537\n",
            "Epoch 236/1000\n",
            "83/83 [==============================] - 1s 10ms/step - loss: 0.5953 - accuracy: 0.7984 - val_loss: 0.4331 - val_accuracy: 0.8533\n",
            "Epoch 237/1000\n",
            "83/83 [==============================] - 1s 10ms/step - loss: 0.5945 - accuracy: 0.8018 - val_loss: 0.4296 - val_accuracy: 0.8529\n",
            "Epoch 238/1000\n",
            "83/83 [==============================] - 1s 10ms/step - loss: 0.5984 - accuracy: 0.8007 - val_loss: 0.4293 - val_accuracy: 0.8531\n",
            "Epoch 239/1000\n",
            "83/83 [==============================] - 1s 10ms/step - loss: 0.5968 - accuracy: 0.7996 - val_loss: 0.4279 - val_accuracy: 0.8541\n",
            "Epoch 240/1000\n",
            "83/83 [==============================] - 1s 10ms/step - loss: 0.5945 - accuracy: 0.8001 - val_loss: 0.4270 - val_accuracy: 0.8539\n",
            "Epoch 241/1000\n",
            "83/83 [==============================] - 1s 10ms/step - loss: 0.5911 - accuracy: 0.8013 - val_loss: 0.4270 - val_accuracy: 0.8544\n",
            "Epoch 242/1000\n",
            "83/83 [==============================] - 1s 10ms/step - loss: 0.5965 - accuracy: 0.8005 - val_loss: 0.4375 - val_accuracy: 0.8469\n",
            "Epoch 243/1000\n",
            "83/83 [==============================] - 1s 10ms/step - loss: 0.5902 - accuracy: 0.8016 - val_loss: 0.4278 - val_accuracy: 0.8543\n",
            "Epoch 244/1000\n",
            "83/83 [==============================] - 1s 10ms/step - loss: 0.5959 - accuracy: 0.8011 - val_loss: 0.4258 - val_accuracy: 0.8544\n",
            "Epoch 245/1000\n",
            "83/83 [==============================] - 1s 10ms/step - loss: 0.5928 - accuracy: 0.8022 - val_loss: 0.4255 - val_accuracy: 0.8544\n",
            "Epoch 246/1000\n",
            "83/83 [==============================] - 1s 10ms/step - loss: 0.5913 - accuracy: 0.8017 - val_loss: 0.4249 - val_accuracy: 0.8542\n",
            "Epoch 247/1000\n",
            "83/83 [==============================] - 1s 10ms/step - loss: 0.5869 - accuracy: 0.8022 - val_loss: 0.4247 - val_accuracy: 0.8552\n",
            "Epoch 248/1000\n",
            "83/83 [==============================] - 1s 10ms/step - loss: 0.5888 - accuracy: 0.8046 - val_loss: 0.4250 - val_accuracy: 0.8554\n",
            "Epoch 249/1000\n",
            "83/83 [==============================] - 1s 10ms/step - loss: 0.5892 - accuracy: 0.8021 - val_loss: 0.4228 - val_accuracy: 0.8558\n",
            "Epoch 250/1000\n",
            "83/83 [==============================] - 1s 10ms/step - loss: 0.5861 - accuracy: 0.8049 - val_loss: 0.4228 - val_accuracy: 0.8555\n",
            "Epoch 251/1000\n",
            "83/83 [==============================] - 1s 10ms/step - loss: 0.5870 - accuracy: 0.8042 - val_loss: 0.4232 - val_accuracy: 0.8547\n",
            "Epoch 252/1000\n",
            "83/83 [==============================] - 1s 11ms/step - loss: 0.5833 - accuracy: 0.8050 - val_loss: 0.4226 - val_accuracy: 0.8557\n",
            "Epoch 253/1000\n",
            "83/83 [==============================] - 1s 10ms/step - loss: 0.5897 - accuracy: 0.8047 - val_loss: 0.4243 - val_accuracy: 0.8538\n",
            "Epoch 254/1000\n",
            "83/83 [==============================] - 1s 10ms/step - loss: 0.5878 - accuracy: 0.8035 - val_loss: 0.4222 - val_accuracy: 0.8560\n",
            "Epoch 255/1000\n",
            "83/83 [==============================] - 1s 10ms/step - loss: 0.5879 - accuracy: 0.8038 - val_loss: 0.4222 - val_accuracy: 0.8571\n",
            "Epoch 256/1000\n",
            "83/83 [==============================] - 1s 10ms/step - loss: 0.5831 - accuracy: 0.8057 - val_loss: 0.4212 - val_accuracy: 0.8556\n",
            "Epoch 257/1000\n",
            "83/83 [==============================] - 1s 10ms/step - loss: 0.5820 - accuracy: 0.8061 - val_loss: 0.4211 - val_accuracy: 0.8567\n",
            "Epoch 258/1000\n",
            "83/83 [==============================] - 1s 10ms/step - loss: 0.5827 - accuracy: 0.8057 - val_loss: 0.4210 - val_accuracy: 0.8567\n",
            "Epoch 259/1000\n",
            "83/83 [==============================] - 1s 10ms/step - loss: 0.5803 - accuracy: 0.8068 - val_loss: 0.4213 - val_accuracy: 0.8571\n",
            "Epoch 260/1000\n",
            "83/83 [==============================] - 1s 10ms/step - loss: 0.5850 - accuracy: 0.8053 - val_loss: 0.4203 - val_accuracy: 0.8570\n",
            "Epoch 261/1000\n",
            "83/83 [==============================] - 1s 10ms/step - loss: 0.5813 - accuracy: 0.8060 - val_loss: 0.4201 - val_accuracy: 0.8581\n",
            "Epoch 262/1000\n",
            "83/83 [==============================] - 1s 10ms/step - loss: 0.5805 - accuracy: 0.8062 - val_loss: 0.4207 - val_accuracy: 0.8555\n",
            "Epoch 263/1000\n",
            "83/83 [==============================] - 1s 10ms/step - loss: 0.5802 - accuracy: 0.8055 - val_loss: 0.4196 - val_accuracy: 0.8560\n",
            "Epoch 264/1000\n",
            "83/83 [==============================] - 1s 10ms/step - loss: 0.5838 - accuracy: 0.8060 - val_loss: 0.4189 - val_accuracy: 0.8569\n",
            "Epoch 265/1000\n",
            "83/83 [==============================] - 1s 10ms/step - loss: 0.5814 - accuracy: 0.8046 - val_loss: 0.4196 - val_accuracy: 0.8559\n",
            "Epoch 266/1000\n",
            "83/83 [==============================] - 1s 10ms/step - loss: 0.5775 - accuracy: 0.8069 - val_loss: 0.4194 - val_accuracy: 0.8571\n",
            "Epoch 267/1000\n",
            "83/83 [==============================] - 1s 10ms/step - loss: 0.5744 - accuracy: 0.8066 - val_loss: 0.4181 - val_accuracy: 0.8577\n",
            "Epoch 268/1000\n",
            "83/83 [==============================] - 1s 10ms/step - loss: 0.5762 - accuracy: 0.8064 - val_loss: 0.4193 - val_accuracy: 0.8578\n",
            "Epoch 269/1000\n",
            "83/83 [==============================] - 1s 10ms/step - loss: 0.5782 - accuracy: 0.8070 - val_loss: 0.4185 - val_accuracy: 0.8575\n",
            "Epoch 270/1000\n",
            "83/83 [==============================] - 1s 10ms/step - loss: 0.5776 - accuracy: 0.8058 - val_loss: 0.4167 - val_accuracy: 0.8579\n",
            "Epoch 271/1000\n",
            "83/83 [==============================] - 1s 10ms/step - loss: 0.5758 - accuracy: 0.8073 - val_loss: 0.4183 - val_accuracy: 0.8562\n",
            "Epoch 272/1000\n",
            "83/83 [==============================] - 1s 10ms/step - loss: 0.5760 - accuracy: 0.8096 - val_loss: 0.4175 - val_accuracy: 0.8589\n",
            "Epoch 273/1000\n",
            "83/83 [==============================] - 1s 10ms/step - loss: 0.5739 - accuracy: 0.8107 - val_loss: 0.4155 - val_accuracy: 0.8584\n",
            "Epoch 274/1000\n",
            "83/83 [==============================] - 1s 10ms/step - loss: 0.5697 - accuracy: 0.8097 - val_loss: 0.4153 - val_accuracy: 0.8583\n",
            "Epoch 275/1000\n",
            "83/83 [==============================] - 1s 10ms/step - loss: 0.5711 - accuracy: 0.8098 - val_loss: 0.4142 - val_accuracy: 0.8592\n",
            "Epoch 276/1000\n",
            "83/83 [==============================] - 1s 10ms/step - loss: 0.5702 - accuracy: 0.8099 - val_loss: 0.4142 - val_accuracy: 0.8590\n",
            "Epoch 277/1000\n",
            "83/83 [==============================] - 1s 10ms/step - loss: 0.5715 - accuracy: 0.8099 - val_loss: 0.4136 - val_accuracy: 0.8591\n",
            "Epoch 278/1000\n",
            "83/83 [==============================] - 1s 10ms/step - loss: 0.5713 - accuracy: 0.8084 - val_loss: 0.4138 - val_accuracy: 0.8597\n",
            "Epoch 279/1000\n",
            "83/83 [==============================] - 1s 10ms/step - loss: 0.5719 - accuracy: 0.8102 - val_loss: 0.4152 - val_accuracy: 0.8585\n",
            "Epoch 280/1000\n",
            "83/83 [==============================] - 1s 10ms/step - loss: 0.5721 - accuracy: 0.8109 - val_loss: 0.4128 - val_accuracy: 0.8589\n",
            "Epoch 281/1000\n",
            "83/83 [==============================] - 1s 10ms/step - loss: 0.5694 - accuracy: 0.8105 - val_loss: 0.4120 - val_accuracy: 0.8591\n",
            "Epoch 282/1000\n",
            "83/83 [==============================] - 1s 10ms/step - loss: 0.5687 - accuracy: 0.8107 - val_loss: 0.4119 - val_accuracy: 0.8597\n",
            "Epoch 283/1000\n",
            "83/83 [==============================] - 1s 10ms/step - loss: 0.5698 - accuracy: 0.8117 - val_loss: 0.4141 - val_accuracy: 0.8582\n",
            "Epoch 284/1000\n",
            "83/83 [==============================] - 1s 10ms/step - loss: 0.5648 - accuracy: 0.8134 - val_loss: 0.4133 - val_accuracy: 0.8597\n",
            "Epoch 285/1000\n",
            "83/83 [==============================] - 1s 10ms/step - loss: 0.5707 - accuracy: 0.8095 - val_loss: 0.4119 - val_accuracy: 0.8606\n",
            "Epoch 286/1000\n",
            "83/83 [==============================] - 1s 10ms/step - loss: 0.5627 - accuracy: 0.8129 - val_loss: 0.4120 - val_accuracy: 0.8614\n",
            "Epoch 287/1000\n",
            "83/83 [==============================] - 1s 10ms/step - loss: 0.5652 - accuracy: 0.8119 - val_loss: 0.4111 - val_accuracy: 0.8602\n",
            "Epoch 288/1000\n",
            "83/83 [==============================] - 1s 10ms/step - loss: 0.5604 - accuracy: 0.8138 - val_loss: 0.4109 - val_accuracy: 0.8608\n",
            "Epoch 289/1000\n",
            "83/83 [==============================] - 1s 10ms/step - loss: 0.5715 - accuracy: 0.8097 - val_loss: 0.4148 - val_accuracy: 0.8582\n",
            "Epoch 290/1000\n",
            "83/83 [==============================] - 1s 10ms/step - loss: 0.5675 - accuracy: 0.8113 - val_loss: 0.4108 - val_accuracy: 0.8601\n",
            "Epoch 291/1000\n",
            "83/83 [==============================] - 1s 10ms/step - loss: 0.5687 - accuracy: 0.8122 - val_loss: 0.4129 - val_accuracy: 0.8597\n",
            "Epoch 292/1000\n",
            "83/83 [==============================] - 1s 10ms/step - loss: 0.5640 - accuracy: 0.8146 - val_loss: 0.4107 - val_accuracy: 0.8607\n",
            "Epoch 293/1000\n",
            "83/83 [==============================] - 1s 10ms/step - loss: 0.5678 - accuracy: 0.8117 - val_loss: 0.4101 - val_accuracy: 0.8613\n",
            "Epoch 294/1000\n",
            "83/83 [==============================] - 1s 10ms/step - loss: 0.5639 - accuracy: 0.8147 - val_loss: 0.4092 - val_accuracy: 0.8607\n",
            "Epoch 295/1000\n",
            "83/83 [==============================] - 1s 10ms/step - loss: 0.5622 - accuracy: 0.8147 - val_loss: 0.4086 - val_accuracy: 0.8608\n",
            "Epoch 296/1000\n",
            "83/83 [==============================] - 1s 10ms/step - loss: 0.5604 - accuracy: 0.8145 - val_loss: 0.4088 - val_accuracy: 0.8609\n",
            "Epoch 297/1000\n",
            "83/83 [==============================] - 1s 10ms/step - loss: 0.5599 - accuracy: 0.8139 - val_loss: 0.4085 - val_accuracy: 0.8610\n",
            "Epoch 298/1000\n",
            "83/83 [==============================] - 1s 10ms/step - loss: 0.5583 - accuracy: 0.8152 - val_loss: 0.4089 - val_accuracy: 0.8613\n",
            "Epoch 299/1000\n",
            "83/83 [==============================] - 1s 10ms/step - loss: 0.5524 - accuracy: 0.8188 - val_loss: 0.4076 - val_accuracy: 0.8611\n",
            "Epoch 300/1000\n",
            "83/83 [==============================] - 1s 10ms/step - loss: 0.5577 - accuracy: 0.8162 - val_loss: 0.4087 - val_accuracy: 0.8612\n",
            "Epoch 301/1000\n",
            "83/83 [==============================] - 1s 10ms/step - loss: 0.5604 - accuracy: 0.8151 - val_loss: 0.4070 - val_accuracy: 0.8627\n",
            "Epoch 302/1000\n",
            "83/83 [==============================] - 1s 10ms/step - loss: 0.5570 - accuracy: 0.8168 - val_loss: 0.4086 - val_accuracy: 0.8618\n",
            "Epoch 303/1000\n",
            "83/83 [==============================] - 1s 10ms/step - loss: 0.5575 - accuracy: 0.8167 - val_loss: 0.4102 - val_accuracy: 0.8604\n",
            "Epoch 304/1000\n",
            "83/83 [==============================] - 1s 10ms/step - loss: 0.5604 - accuracy: 0.8135 - val_loss: 0.4088 - val_accuracy: 0.8616\n",
            "Epoch 305/1000\n",
            "83/83 [==============================] - 1s 10ms/step - loss: 0.5564 - accuracy: 0.8163 - val_loss: 0.4066 - val_accuracy: 0.8612\n",
            "Epoch 306/1000\n",
            "83/83 [==============================] - 1s 10ms/step - loss: 0.5617 - accuracy: 0.8153 - val_loss: 0.4096 - val_accuracy: 0.8591\n",
            "Epoch 307/1000\n",
            "83/83 [==============================] - 1s 10ms/step - loss: 0.5581 - accuracy: 0.8155 - val_loss: 0.4067 - val_accuracy: 0.8621\n",
            "Epoch 308/1000\n",
            "83/83 [==============================] - 1s 10ms/step - loss: 0.5523 - accuracy: 0.8165 - val_loss: 0.4153 - val_accuracy: 0.8574\n",
            "Epoch 309/1000\n",
            "83/83 [==============================] - 1s 10ms/step - loss: 0.5544 - accuracy: 0.8171 - val_loss: 0.4054 - val_accuracy: 0.8629\n",
            "Epoch 310/1000\n",
            "83/83 [==============================] - 1s 10ms/step - loss: 0.5596 - accuracy: 0.8164 - val_loss: 0.4076 - val_accuracy: 0.8592\n",
            "Epoch 311/1000\n",
            "83/83 [==============================] - 1s 10ms/step - loss: 0.5568 - accuracy: 0.8162 - val_loss: 0.4049 - val_accuracy: 0.8627\n",
            "Epoch 312/1000\n",
            "83/83 [==============================] - 1s 10ms/step - loss: 0.5601 - accuracy: 0.8154 - val_loss: 0.4056 - val_accuracy: 0.8627\n",
            "Epoch 313/1000\n",
            "83/83 [==============================] - 1s 10ms/step - loss: 0.5476 - accuracy: 0.8196 - val_loss: 0.4040 - val_accuracy: 0.8630\n",
            "Epoch 314/1000\n",
            "83/83 [==============================] - 1s 10ms/step - loss: 0.5470 - accuracy: 0.8193 - val_loss: 0.4054 - val_accuracy: 0.8645\n",
            "Epoch 315/1000\n",
            "83/83 [==============================] - 1s 10ms/step - loss: 0.5554 - accuracy: 0.8167 - val_loss: 0.4053 - val_accuracy: 0.8616\n",
            "Epoch 316/1000\n",
            "83/83 [==============================] - 1s 10ms/step - loss: 0.5501 - accuracy: 0.8200 - val_loss: 0.4038 - val_accuracy: 0.8627\n",
            "Epoch 317/1000\n",
            "83/83 [==============================] - 1s 10ms/step - loss: 0.5495 - accuracy: 0.8186 - val_loss: 0.4031 - val_accuracy: 0.8630\n",
            "Epoch 318/1000\n",
            "83/83 [==============================] - 1s 10ms/step - loss: 0.5516 - accuracy: 0.8181 - val_loss: 0.4063 - val_accuracy: 0.8620\n",
            "Epoch 319/1000\n",
            "83/83 [==============================] - 1s 10ms/step - loss: 0.5424 - accuracy: 0.8203 - val_loss: 0.4032 - val_accuracy: 0.8631\n",
            "Epoch 320/1000\n",
            "83/83 [==============================] - 1s 10ms/step - loss: 0.5496 - accuracy: 0.8203 - val_loss: 0.4052 - val_accuracy: 0.8623\n",
            "Epoch 321/1000\n",
            "83/83 [==============================] - 1s 10ms/step - loss: 0.5523 - accuracy: 0.8185 - val_loss: 0.4021 - val_accuracy: 0.8631\n",
            "Epoch 322/1000\n",
            "83/83 [==============================] - 1s 10ms/step - loss: 0.5424 - accuracy: 0.8218 - val_loss: 0.4013 - val_accuracy: 0.8638\n",
            "Epoch 323/1000\n",
            "83/83 [==============================] - 1s 10ms/step - loss: 0.5505 - accuracy: 0.8194 - val_loss: 0.4023 - val_accuracy: 0.8627\n",
            "Epoch 324/1000\n",
            "83/83 [==============================] - 1s 10ms/step - loss: 0.5513 - accuracy: 0.8188 - val_loss: 0.4011 - val_accuracy: 0.8633\n",
            "Epoch 325/1000\n",
            "83/83 [==============================] - 1s 10ms/step - loss: 0.5489 - accuracy: 0.8191 - val_loss: 0.4031 - val_accuracy: 0.8629\n",
            "Epoch 326/1000\n",
            "83/83 [==============================] - 1s 10ms/step - loss: 0.5468 - accuracy: 0.8185 - val_loss: 0.4033 - val_accuracy: 0.8620\n",
            "Epoch 327/1000\n",
            "83/83 [==============================] - 1s 10ms/step - loss: 0.5463 - accuracy: 0.8213 - val_loss: 0.4012 - val_accuracy: 0.8646\n",
            "Epoch 328/1000\n",
            "83/83 [==============================] - 1s 10ms/step - loss: 0.5471 - accuracy: 0.8198 - val_loss: 0.4005 - val_accuracy: 0.8644\n",
            "Epoch 329/1000\n",
            "83/83 [==============================] - 1s 10ms/step - loss: 0.5415 - accuracy: 0.8227 - val_loss: 0.4021 - val_accuracy: 0.8642\n",
            "Epoch 330/1000\n",
            "83/83 [==============================] - 1s 10ms/step - loss: 0.5438 - accuracy: 0.8200 - val_loss: 0.4013 - val_accuracy: 0.8636\n",
            "Epoch 331/1000\n",
            "83/83 [==============================] - 1s 10ms/step - loss: 0.5461 - accuracy: 0.8211 - val_loss: 0.3996 - val_accuracy: 0.8640\n",
            "Epoch 332/1000\n",
            "83/83 [==============================] - 1s 10ms/step - loss: 0.5458 - accuracy: 0.8207 - val_loss: 0.3995 - val_accuracy: 0.8642\n",
            "Epoch 333/1000\n",
            "83/83 [==============================] - 1s 10ms/step - loss: 0.5412 - accuracy: 0.8220 - val_loss: 0.4022 - val_accuracy: 0.8617\n",
            "Epoch 334/1000\n",
            "83/83 [==============================] - 1s 10ms/step - loss: 0.5404 - accuracy: 0.8215 - val_loss: 0.4000 - val_accuracy: 0.8649\n",
            "Epoch 335/1000\n",
            "83/83 [==============================] - 1s 10ms/step - loss: 0.5438 - accuracy: 0.8212 - val_loss: 0.3984 - val_accuracy: 0.8644\n",
            "Epoch 336/1000\n",
            "83/83 [==============================] - 1s 10ms/step - loss: 0.5448 - accuracy: 0.8211 - val_loss: 0.3987 - val_accuracy: 0.8639\n",
            "Epoch 337/1000\n",
            "83/83 [==============================] - 1s 10ms/step - loss: 0.5398 - accuracy: 0.8241 - val_loss: 0.3976 - val_accuracy: 0.8633\n",
            "Epoch 338/1000\n",
            "83/83 [==============================] - 1s 10ms/step - loss: 0.5423 - accuracy: 0.8209 - val_loss: 0.3990 - val_accuracy: 0.8667\n",
            "Epoch 339/1000\n",
            "83/83 [==============================] - 1s 10ms/step - loss: 0.5335 - accuracy: 0.8244 - val_loss: 0.3982 - val_accuracy: 0.8663\n",
            "Epoch 340/1000\n",
            "83/83 [==============================] - 1s 10ms/step - loss: 0.5417 - accuracy: 0.8228 - val_loss: 0.3982 - val_accuracy: 0.8645\n",
            "Epoch 341/1000\n",
            "83/83 [==============================] - 1s 10ms/step - loss: 0.5408 - accuracy: 0.8217 - val_loss: 0.3974 - val_accuracy: 0.8653\n",
            "Epoch 342/1000\n",
            "83/83 [==============================] - 1s 10ms/step - loss: 0.5416 - accuracy: 0.8225 - val_loss: 0.3970 - val_accuracy: 0.8652\n",
            "Epoch 343/1000\n",
            "83/83 [==============================] - 1s 10ms/step - loss: 0.5390 - accuracy: 0.8197 - val_loss: 0.3965 - val_accuracy: 0.8649\n",
            "Epoch 344/1000\n",
            "83/83 [==============================] - 1s 10ms/step - loss: 0.5372 - accuracy: 0.8236 - val_loss: 0.3977 - val_accuracy: 0.8652\n",
            "Epoch 345/1000\n",
            "83/83 [==============================] - 1s 10ms/step - loss: 0.5404 - accuracy: 0.8226 - val_loss: 0.3965 - val_accuracy: 0.8655\n",
            "Epoch 346/1000\n",
            "83/83 [==============================] - 1s 10ms/step - loss: 0.5392 - accuracy: 0.8229 - val_loss: 0.3965 - val_accuracy: 0.8648\n",
            "Epoch 347/1000\n",
            "83/83 [==============================] - 1s 10ms/step - loss: 0.5392 - accuracy: 0.8224 - val_loss: 0.3957 - val_accuracy: 0.8658\n",
            "Epoch 348/1000\n",
            "83/83 [==============================] - 1s 10ms/step - loss: 0.5386 - accuracy: 0.8228 - val_loss: 0.3959 - val_accuracy: 0.8653\n",
            "Epoch 349/1000\n",
            "83/83 [==============================] - 1s 10ms/step - loss: 0.5325 - accuracy: 0.8267 - val_loss: 0.3960 - val_accuracy: 0.8664\n",
            "Epoch 350/1000\n",
            "83/83 [==============================] - 1s 10ms/step - loss: 0.5373 - accuracy: 0.8240 - val_loss: 0.3964 - val_accuracy: 0.8654\n",
            "Epoch 351/1000\n",
            "83/83 [==============================] - 1s 10ms/step - loss: 0.5331 - accuracy: 0.8262 - val_loss: 0.3951 - val_accuracy: 0.8662\n",
            "Epoch 352/1000\n",
            "83/83 [==============================] - 1s 10ms/step - loss: 0.5334 - accuracy: 0.8242 - val_loss: 0.3960 - val_accuracy: 0.8667\n",
            "Epoch 353/1000\n",
            "83/83 [==============================] - 1s 10ms/step - loss: 0.5382 - accuracy: 0.8241 - val_loss: 0.3970 - val_accuracy: 0.8657\n",
            "Epoch 354/1000\n",
            "83/83 [==============================] - 1s 10ms/step - loss: 0.5361 - accuracy: 0.8242 - val_loss: 0.3948 - val_accuracy: 0.8672\n",
            "Epoch 355/1000\n",
            "83/83 [==============================] - 1s 10ms/step - loss: 0.5356 - accuracy: 0.8253 - val_loss: 0.3940 - val_accuracy: 0.8656\n",
            "Epoch 356/1000\n",
            "83/83 [==============================] - 1s 10ms/step - loss: 0.5332 - accuracy: 0.8234 - val_loss: 0.3996 - val_accuracy: 0.8637\n",
            "Epoch 357/1000\n",
            "83/83 [==============================] - 1s 10ms/step - loss: 0.5348 - accuracy: 0.8259 - val_loss: 0.3947 - val_accuracy: 0.8651\n",
            "Epoch 358/1000\n",
            "83/83 [==============================] - 1s 10ms/step - loss: 0.5297 - accuracy: 0.8269 - val_loss: 0.3936 - val_accuracy: 0.8659\n",
            "Epoch 359/1000\n",
            "83/83 [==============================] - 1s 10ms/step - loss: 0.5308 - accuracy: 0.8248 - val_loss: 0.3938 - val_accuracy: 0.8674\n",
            "Epoch 360/1000\n",
            "83/83 [==============================] - 1s 10ms/step - loss: 0.5350 - accuracy: 0.8256 - val_loss: 0.3968 - val_accuracy: 0.8654\n",
            "Epoch 361/1000\n",
            "83/83 [==============================] - 1s 10ms/step - loss: 0.5301 - accuracy: 0.8255 - val_loss: 0.3948 - val_accuracy: 0.8652\n",
            "Epoch 362/1000\n",
            "83/83 [==============================] - 1s 10ms/step - loss: 0.5278 - accuracy: 0.8280 - val_loss: 0.3930 - val_accuracy: 0.8665\n",
            "Epoch 363/1000\n",
            "83/83 [==============================] - 1s 10ms/step - loss: 0.5251 - accuracy: 0.8284 - val_loss: 0.3925 - val_accuracy: 0.8670\n",
            "Epoch 364/1000\n",
            "83/83 [==============================] - 1s 10ms/step - loss: 0.5293 - accuracy: 0.8257 - val_loss: 0.3918 - val_accuracy: 0.8656\n",
            "Epoch 365/1000\n",
            "83/83 [==============================] - 1s 10ms/step - loss: 0.5274 - accuracy: 0.8261 - val_loss: 0.3919 - val_accuracy: 0.8672\n",
            "Epoch 366/1000\n",
            "83/83 [==============================] - 1s 10ms/step - loss: 0.5293 - accuracy: 0.8266 - val_loss: 0.3953 - val_accuracy: 0.8655\n",
            "Epoch 367/1000\n",
            "83/83 [==============================] - 1s 10ms/step - loss: 0.5269 - accuracy: 0.8273 - val_loss: 0.3917 - val_accuracy: 0.8686\n",
            "Epoch 368/1000\n",
            "83/83 [==============================] - 1s 10ms/step - loss: 0.5236 - accuracy: 0.8275 - val_loss: 0.3916 - val_accuracy: 0.8663\n",
            "Epoch 369/1000\n",
            "83/83 [==============================] - 1s 10ms/step - loss: 0.5255 - accuracy: 0.8298 - val_loss: 0.3908 - val_accuracy: 0.8687\n",
            "Epoch 370/1000\n",
            "83/83 [==============================] - 1s 10ms/step - loss: 0.5246 - accuracy: 0.8267 - val_loss: 0.3898 - val_accuracy: 0.8675\n",
            "Epoch 371/1000\n",
            "83/83 [==============================] - 1s 10ms/step - loss: 0.5252 - accuracy: 0.8281 - val_loss: 0.3912 - val_accuracy: 0.8677\n",
            "Epoch 372/1000\n",
            "83/83 [==============================] - 1s 10ms/step - loss: 0.5285 - accuracy: 0.8281 - val_loss: 0.3901 - val_accuracy: 0.8669\n",
            "Epoch 373/1000\n",
            "83/83 [==============================] - 1s 10ms/step - loss: 0.5248 - accuracy: 0.8294 - val_loss: 0.3902 - val_accuracy: 0.8664\n",
            "Epoch 374/1000\n",
            "83/83 [==============================] - 1s 10ms/step - loss: 0.5243 - accuracy: 0.8287 - val_loss: 0.3894 - val_accuracy: 0.8671\n",
            "Epoch 375/1000\n",
            "83/83 [==============================] - 1s 10ms/step - loss: 0.5242 - accuracy: 0.8287 - val_loss: 0.3898 - val_accuracy: 0.8667\n",
            "Epoch 376/1000\n",
            "83/83 [==============================] - 1s 10ms/step - loss: 0.5256 - accuracy: 0.8279 - val_loss: 0.3899 - val_accuracy: 0.8679\n",
            "Epoch 377/1000\n",
            "83/83 [==============================] - 1s 10ms/step - loss: 0.5207 - accuracy: 0.8301 - val_loss: 0.3900 - val_accuracy: 0.8688\n",
            "Epoch 378/1000\n",
            "83/83 [==============================] - 1s 10ms/step - loss: 0.5231 - accuracy: 0.8284 - val_loss: 0.3910 - val_accuracy: 0.8676\n",
            "Epoch 379/1000\n",
            "83/83 [==============================] - 1s 10ms/step - loss: 0.5173 - accuracy: 0.8301 - val_loss: 0.3982 - val_accuracy: 0.8652\n",
            "Epoch 380/1000\n",
            "83/83 [==============================] - 1s 10ms/step - loss: 0.5273 - accuracy: 0.8273 - val_loss: 0.3914 - val_accuracy: 0.8658\n",
            "Epoch 381/1000\n",
            "83/83 [==============================] - 1s 10ms/step - loss: 0.5236 - accuracy: 0.8292 - val_loss: 0.3890 - val_accuracy: 0.8677\n",
            "Epoch 382/1000\n",
            "83/83 [==============================] - 1s 10ms/step - loss: 0.5231 - accuracy: 0.8286 - val_loss: 0.3888 - val_accuracy: 0.8666\n",
            "Epoch 383/1000\n",
            "83/83 [==============================] - 1s 11ms/step - loss: 0.5171 - accuracy: 0.8314 - val_loss: 0.3876 - val_accuracy: 0.8681\n",
            "Epoch 384/1000\n",
            "83/83 [==============================] - 1s 10ms/step - loss: 0.5199 - accuracy: 0.8327 - val_loss: 0.3885 - val_accuracy: 0.8667\n",
            "Epoch 385/1000\n",
            "83/83 [==============================] - 1s 10ms/step - loss: 0.5233 - accuracy: 0.8310 - val_loss: 0.3874 - val_accuracy: 0.8691\n",
            "Epoch 386/1000\n",
            "83/83 [==============================] - 1s 11ms/step - loss: 0.5172 - accuracy: 0.8295 - val_loss: 0.3892 - val_accuracy: 0.8688\n",
            "Epoch 387/1000\n",
            "83/83 [==============================] - 1s 10ms/step - loss: 0.5227 - accuracy: 0.8284 - val_loss: 0.3880 - val_accuracy: 0.8679\n",
            "Epoch 388/1000\n",
            "83/83 [==============================] - 1s 11ms/step - loss: 0.5106 - accuracy: 0.8322 - val_loss: 0.3915 - val_accuracy: 0.8652\n",
            "Epoch 389/1000\n",
            "83/83 [==============================] - 1s 10ms/step - loss: 0.5197 - accuracy: 0.8295 - val_loss: 0.3878 - val_accuracy: 0.8683\n",
            "Epoch 390/1000\n",
            "83/83 [==============================] - 1s 10ms/step - loss: 0.5196 - accuracy: 0.8285 - val_loss: 0.3866 - val_accuracy: 0.8693\n",
            "Epoch 391/1000\n",
            "83/83 [==============================] - 1s 10ms/step - loss: 0.5143 - accuracy: 0.8308 - val_loss: 0.3907 - val_accuracy: 0.8674\n",
            "Epoch 392/1000\n",
            "83/83 [==============================] - 1s 10ms/step - loss: 0.5191 - accuracy: 0.8314 - val_loss: 0.3866 - val_accuracy: 0.8698\n",
            "Epoch 393/1000\n",
            "83/83 [==============================] - 1s 10ms/step - loss: 0.5175 - accuracy: 0.8308 - val_loss: 0.3869 - val_accuracy: 0.8698\n",
            "Epoch 394/1000\n",
            "83/83 [==============================] - 1s 11ms/step - loss: 0.5163 - accuracy: 0.8327 - val_loss: 0.3872 - val_accuracy: 0.8688\n",
            "Epoch 395/1000\n",
            "83/83 [==============================] - 1s 11ms/step - loss: 0.5181 - accuracy: 0.8320 - val_loss: 0.3867 - val_accuracy: 0.8689\n",
            "Epoch 396/1000\n",
            "83/83 [==============================] - 1s 10ms/step - loss: 0.5100 - accuracy: 0.8324 - val_loss: 0.3855 - val_accuracy: 0.8689\n",
            "Epoch 397/1000\n",
            "83/83 [==============================] - 1s 10ms/step - loss: 0.5114 - accuracy: 0.8345 - val_loss: 0.3859 - val_accuracy: 0.8683\n",
            "Epoch 398/1000\n",
            "83/83 [==============================] - 1s 10ms/step - loss: 0.5157 - accuracy: 0.8313 - val_loss: 0.3846 - val_accuracy: 0.8694\n",
            "Epoch 399/1000\n",
            "83/83 [==============================] - 1s 10ms/step - loss: 0.5181 - accuracy: 0.8296 - val_loss: 0.3858 - val_accuracy: 0.8684\n",
            "Epoch 400/1000\n",
            "83/83 [==============================] - 1s 10ms/step - loss: 0.5140 - accuracy: 0.8314 - val_loss: 0.3872 - val_accuracy: 0.8676\n",
            "Epoch 401/1000\n",
            "83/83 [==============================] - 1s 10ms/step - loss: 0.5140 - accuracy: 0.8320 - val_loss: 0.3846 - val_accuracy: 0.8705\n",
            "Epoch 402/1000\n",
            "83/83 [==============================] - 1s 10ms/step - loss: 0.5149 - accuracy: 0.8308 - val_loss: 0.3844 - val_accuracy: 0.8706\n",
            "Epoch 403/1000\n",
            "83/83 [==============================] - 1s 10ms/step - loss: 0.5136 - accuracy: 0.8315 - val_loss: 0.3833 - val_accuracy: 0.8701\n",
            "Epoch 404/1000\n",
            "83/83 [==============================] - 1s 10ms/step - loss: 0.5173 - accuracy: 0.8325 - val_loss: 0.3873 - val_accuracy: 0.8680\n",
            "Epoch 405/1000\n",
            "83/83 [==============================] - 1s 10ms/step - loss: 0.5097 - accuracy: 0.8320 - val_loss: 0.3855 - val_accuracy: 0.8704\n",
            "Epoch 406/1000\n",
            "83/83 [==============================] - 1s 10ms/step - loss: 0.5143 - accuracy: 0.8323 - val_loss: 0.3849 - val_accuracy: 0.8701\n",
            "Epoch 407/1000\n",
            "83/83 [==============================] - 1s 10ms/step - loss: 0.5179 - accuracy: 0.8330 - val_loss: 0.3837 - val_accuracy: 0.8697\n",
            "Epoch 408/1000\n",
            "83/83 [==============================] - 1s 10ms/step - loss: 0.5156 - accuracy: 0.8316 - val_loss: 0.3853 - val_accuracy: 0.8697\n",
            "Epoch 409/1000\n",
            "83/83 [==============================] - 1s 10ms/step - loss: 0.5128 - accuracy: 0.8342 - val_loss: 0.3845 - val_accuracy: 0.8698\n",
            "Epoch 410/1000\n",
            "83/83 [==============================] - 1s 10ms/step - loss: 0.5121 - accuracy: 0.8338 - val_loss: 0.3859 - val_accuracy: 0.8684\n",
            "Epoch 411/1000\n",
            "83/83 [==============================] - 1s 10ms/step - loss: 0.5103 - accuracy: 0.8357 - val_loss: 0.3837 - val_accuracy: 0.8701\n",
            "Epoch 412/1000\n",
            "83/83 [==============================] - 1s 11ms/step - loss: 0.5110 - accuracy: 0.8317 - val_loss: 0.3876 - val_accuracy: 0.8682\n",
            "Epoch 413/1000\n",
            "83/83 [==============================] - 1s 10ms/step - loss: 0.5105 - accuracy: 0.8336 - val_loss: 0.3846 - val_accuracy: 0.8702\n",
            "Epoch 414/1000\n",
            "83/83 [==============================] - 1s 10ms/step - loss: 0.5112 - accuracy: 0.8317 - val_loss: 0.3843 - val_accuracy: 0.8688\n",
            "Epoch 415/1000\n",
            "83/83 [==============================] - 1s 10ms/step - loss: 0.5095 - accuracy: 0.8338 - val_loss: 0.3829 - val_accuracy: 0.8705\n",
            "Epoch 416/1000\n",
            "83/83 [==============================] - 1s 10ms/step - loss: 0.5016 - accuracy: 0.8355 - val_loss: 0.3828 - val_accuracy: 0.8718\n",
            "Epoch 417/1000\n",
            "83/83 [==============================] - 1s 10ms/step - loss: 0.5047 - accuracy: 0.8361 - val_loss: 0.3895 - val_accuracy: 0.8688\n",
            "Epoch 418/1000\n",
            "83/83 [==============================] - 1s 10ms/step - loss: 0.5064 - accuracy: 0.8330 - val_loss: 0.3833 - val_accuracy: 0.8684\n",
            "Epoch 419/1000\n",
            "83/83 [==============================] - 1s 10ms/step - loss: 0.5051 - accuracy: 0.8343 - val_loss: 0.3815 - val_accuracy: 0.8700\n",
            "Epoch 420/1000\n",
            "83/83 [==============================] - 1s 10ms/step - loss: 0.5081 - accuracy: 0.8342 - val_loss: 0.3810 - val_accuracy: 0.8713\n",
            "Epoch 421/1000\n",
            "83/83 [==============================] - 1s 10ms/step - loss: 0.5019 - accuracy: 0.8359 - val_loss: 0.3814 - val_accuracy: 0.8715\n",
            "Epoch 422/1000\n",
            "83/83 [==============================] - 1s 11ms/step - loss: 0.5084 - accuracy: 0.8340 - val_loss: 0.3802 - val_accuracy: 0.8703\n",
            "Epoch 423/1000\n",
            "83/83 [==============================] - 1s 10ms/step - loss: 0.5087 - accuracy: 0.8340 - val_loss: 0.3812 - val_accuracy: 0.8700\n",
            "Epoch 424/1000\n",
            "83/83 [==============================] - 1s 10ms/step - loss: 0.5097 - accuracy: 0.8333 - val_loss: 0.3803 - val_accuracy: 0.8711\n",
            "Epoch 425/1000\n",
            "83/83 [==============================] - 1s 10ms/step - loss: 0.5010 - accuracy: 0.8371 - val_loss: 0.3805 - val_accuracy: 0.8718\n",
            "Epoch 426/1000\n",
            "83/83 [==============================] - 1s 10ms/step - loss: 0.5052 - accuracy: 0.8343 - val_loss: 0.3810 - val_accuracy: 0.8716\n",
            "Epoch 427/1000\n",
            "83/83 [==============================] - 1s 10ms/step - loss: 0.5113 - accuracy: 0.8327 - val_loss: 0.3844 - val_accuracy: 0.8693\n",
            "Epoch 428/1000\n",
            "83/83 [==============================] - 1s 10ms/step - loss: 0.5024 - accuracy: 0.8353 - val_loss: 0.3813 - val_accuracy: 0.8704\n",
            "Epoch 429/1000\n",
            "83/83 [==============================] - 1s 10ms/step - loss: 0.5036 - accuracy: 0.8374 - val_loss: 0.3814 - val_accuracy: 0.8702\n",
            "Epoch 430/1000\n",
            "83/83 [==============================] - 1s 10ms/step - loss: 0.5003 - accuracy: 0.8363 - val_loss: 0.3798 - val_accuracy: 0.8717\n",
            "Epoch 431/1000\n",
            "83/83 [==============================] - 1s 10ms/step - loss: 0.5002 - accuracy: 0.8348 - val_loss: 0.3810 - val_accuracy: 0.8704\n",
            "Epoch 432/1000\n",
            "83/83 [==============================] - 1s 10ms/step - loss: 0.5010 - accuracy: 0.8358 - val_loss: 0.3790 - val_accuracy: 0.8718\n",
            "Epoch 433/1000\n",
            "83/83 [==============================] - 1s 10ms/step - loss: 0.5043 - accuracy: 0.8373 - val_loss: 0.3791 - val_accuracy: 0.8708\n",
            "Epoch 434/1000\n",
            "83/83 [==============================] - 1s 10ms/step - loss: 0.5001 - accuracy: 0.8382 - val_loss: 0.3779 - val_accuracy: 0.8718\n",
            "Epoch 435/1000\n",
            "83/83 [==============================] - 1s 10ms/step - loss: 0.5017 - accuracy: 0.8371 - val_loss: 0.3799 - val_accuracy: 0.8724\n",
            "Epoch 436/1000\n",
            "83/83 [==============================] - 1s 10ms/step - loss: 0.4999 - accuracy: 0.8361 - val_loss: 0.3795 - val_accuracy: 0.8722\n",
            "Epoch 437/1000\n",
            "83/83 [==============================] - 1s 10ms/step - loss: 0.5010 - accuracy: 0.8367 - val_loss: 0.3792 - val_accuracy: 0.8704\n",
            "Epoch 438/1000\n",
            "83/83 [==============================] - 1s 10ms/step - loss: 0.5033 - accuracy: 0.8363 - val_loss: 0.3821 - val_accuracy: 0.8717\n",
            "Epoch 439/1000\n",
            "83/83 [==============================] - 1s 10ms/step - loss: 0.4983 - accuracy: 0.8358 - val_loss: 0.3782 - val_accuracy: 0.8727\n",
            "Epoch 440/1000\n",
            "83/83 [==============================] - 1s 10ms/step - loss: 0.4963 - accuracy: 0.8394 - val_loss: 0.3975 - val_accuracy: 0.8659\n",
            "Epoch 441/1000\n",
            "83/83 [==============================] - 1s 10ms/step - loss: 0.5046 - accuracy: 0.8366 - val_loss: 0.3798 - val_accuracy: 0.8701\n",
            "Epoch 442/1000\n",
            "83/83 [==============================] - 1s 10ms/step - loss: 0.4945 - accuracy: 0.8385 - val_loss: 0.3770 - val_accuracy: 0.8716\n",
            "Epoch 443/1000\n",
            "83/83 [==============================] - 1s 10ms/step - loss: 0.4953 - accuracy: 0.8395 - val_loss: 0.3774 - val_accuracy: 0.8719\n",
            "Epoch 444/1000\n",
            "83/83 [==============================] - 1s 10ms/step - loss: 0.4998 - accuracy: 0.8366 - val_loss: 0.3771 - val_accuracy: 0.8723\n",
            "Epoch 445/1000\n",
            "83/83 [==============================] - 1s 10ms/step - loss: 0.4967 - accuracy: 0.8368 - val_loss: 0.3761 - val_accuracy: 0.8729\n",
            "Epoch 446/1000\n",
            "83/83 [==============================] - 1s 10ms/step - loss: 0.5000 - accuracy: 0.8353 - val_loss: 0.3767 - val_accuracy: 0.8716\n",
            "Epoch 447/1000\n",
            "83/83 [==============================] - 1s 10ms/step - loss: 0.4939 - accuracy: 0.8389 - val_loss: 0.3791 - val_accuracy: 0.8714\n",
            "Epoch 448/1000\n",
            "83/83 [==============================] - 1s 10ms/step - loss: 0.5010 - accuracy: 0.8386 - val_loss: 0.3762 - val_accuracy: 0.8732\n",
            "Epoch 449/1000\n",
            "83/83 [==============================] - 1s 10ms/step - loss: 0.4960 - accuracy: 0.8390 - val_loss: 0.3765 - val_accuracy: 0.8727\n",
            "Epoch 450/1000\n",
            "83/83 [==============================] - 1s 10ms/step - loss: 0.4997 - accuracy: 0.8385 - val_loss: 0.3780 - val_accuracy: 0.8727\n",
            "Epoch 451/1000\n",
            "83/83 [==============================] - 1s 10ms/step - loss: 0.4960 - accuracy: 0.8374 - val_loss: 0.3759 - val_accuracy: 0.8733\n",
            "Epoch 452/1000\n",
            "83/83 [==============================] - 1s 10ms/step - loss: 0.4961 - accuracy: 0.8391 - val_loss: 0.3767 - val_accuracy: 0.8728\n",
            "Epoch 453/1000\n",
            "83/83 [==============================] - 1s 10ms/step - loss: 0.4929 - accuracy: 0.8391 - val_loss: 0.3755 - val_accuracy: 0.8730\n",
            "Epoch 454/1000\n",
            "83/83 [==============================] - 1s 10ms/step - loss: 0.4922 - accuracy: 0.8396 - val_loss: 0.3748 - val_accuracy: 0.8729\n",
            "Epoch 455/1000\n",
            "83/83 [==============================] - 1s 10ms/step - loss: 0.4958 - accuracy: 0.8382 - val_loss: 0.3753 - val_accuracy: 0.8728\n",
            "Epoch 456/1000\n",
            "83/83 [==============================] - 1s 10ms/step - loss: 0.4947 - accuracy: 0.8390 - val_loss: 0.3788 - val_accuracy: 0.8717\n",
            "Epoch 457/1000\n",
            "83/83 [==============================] - 1s 10ms/step - loss: 0.4927 - accuracy: 0.8391 - val_loss: 0.3747 - val_accuracy: 0.8731\n",
            "Epoch 458/1000\n",
            "83/83 [==============================] - 1s 10ms/step - loss: 0.4912 - accuracy: 0.8402 - val_loss: 0.3747 - val_accuracy: 0.8723\n",
            "Epoch 459/1000\n",
            "83/83 [==============================] - 1s 10ms/step - loss: 0.4917 - accuracy: 0.8382 - val_loss: 0.3788 - val_accuracy: 0.8706\n",
            "Epoch 460/1000\n",
            "83/83 [==============================] - 1s 10ms/step - loss: 0.4920 - accuracy: 0.8390 - val_loss: 0.3746 - val_accuracy: 0.8737\n",
            "Epoch 461/1000\n",
            "83/83 [==============================] - 1s 10ms/step - loss: 0.4943 - accuracy: 0.8391 - val_loss: 0.3748 - val_accuracy: 0.8740\n",
            "Epoch 462/1000\n",
            "83/83 [==============================] - 1s 10ms/step - loss: 0.4923 - accuracy: 0.8394 - val_loss: 0.3755 - val_accuracy: 0.8739\n",
            "Epoch 463/1000\n",
            "83/83 [==============================] - 1s 10ms/step - loss: 0.4866 - accuracy: 0.8413 - val_loss: 0.3739 - val_accuracy: 0.8734\n",
            "Epoch 464/1000\n",
            "83/83 [==============================] - 1s 10ms/step - loss: 0.4923 - accuracy: 0.8396 - val_loss: 0.3729 - val_accuracy: 0.8734\n",
            "Epoch 465/1000\n",
            "83/83 [==============================] - 1s 10ms/step - loss: 0.4902 - accuracy: 0.8403 - val_loss: 0.3751 - val_accuracy: 0.8738\n",
            "Epoch 466/1000\n",
            "83/83 [==============================] - 1s 10ms/step - loss: 0.4900 - accuracy: 0.8407 - val_loss: 0.3742 - val_accuracy: 0.8735\n",
            "Epoch 467/1000\n",
            "83/83 [==============================] - 1s 10ms/step - loss: 0.4914 - accuracy: 0.8402 - val_loss: 0.3788 - val_accuracy: 0.8708\n",
            "Epoch 468/1000\n",
            "83/83 [==============================] - 1s 10ms/step - loss: 0.4874 - accuracy: 0.8416 - val_loss: 0.3741 - val_accuracy: 0.8735\n",
            "Epoch 469/1000\n",
            "83/83 [==============================] - 1s 10ms/step - loss: 0.4944 - accuracy: 0.8393 - val_loss: 0.3728 - val_accuracy: 0.8743\n",
            "Epoch 470/1000\n",
            "83/83 [==============================] - 1s 10ms/step - loss: 0.4896 - accuracy: 0.8398 - val_loss: 0.3761 - val_accuracy: 0.8718\n",
            "Epoch 471/1000\n",
            "83/83 [==============================] - 1s 10ms/step - loss: 0.4906 - accuracy: 0.8425 - val_loss: 0.3733 - val_accuracy: 0.8731\n",
            "Epoch 472/1000\n",
            "83/83 [==============================] - 1s 10ms/step - loss: 0.4861 - accuracy: 0.8418 - val_loss: 0.3732 - val_accuracy: 0.8747\n",
            "Epoch 473/1000\n",
            "83/83 [==============================] - 1s 10ms/step - loss: 0.4866 - accuracy: 0.8432 - val_loss: 0.3729 - val_accuracy: 0.8738\n",
            "Epoch 474/1000\n",
            "83/83 [==============================] - 1s 10ms/step - loss: 0.4883 - accuracy: 0.8403 - val_loss: 0.3733 - val_accuracy: 0.8750\n",
            "Epoch 475/1000\n",
            "83/83 [==============================] - 1s 10ms/step - loss: 0.4862 - accuracy: 0.8415 - val_loss: 0.3724 - val_accuracy: 0.8740\n",
            "Epoch 476/1000\n",
            "83/83 [==============================] - 1s 10ms/step - loss: 0.4839 - accuracy: 0.8436 - val_loss: 0.3819 - val_accuracy: 0.8718\n",
            "Epoch 477/1000\n",
            "83/83 [==============================] - 1s 10ms/step - loss: 0.4898 - accuracy: 0.8406 - val_loss: 0.3772 - val_accuracy: 0.8703\n",
            "Epoch 478/1000\n",
            "83/83 [==============================] - 1s 10ms/step - loss: 0.4869 - accuracy: 0.8416 - val_loss: 0.3753 - val_accuracy: 0.8725\n",
            "Epoch 479/1000\n",
            "83/83 [==============================] - 1s 10ms/step - loss: 0.4906 - accuracy: 0.8402 - val_loss: 0.3742 - val_accuracy: 0.8742\n",
            "Epoch 480/1000\n",
            "83/83 [==============================] - 1s 10ms/step - loss: 0.4790 - accuracy: 0.8434 - val_loss: 0.3713 - val_accuracy: 0.8747\n",
            "Epoch 481/1000\n",
            "83/83 [==============================] - 1s 10ms/step - loss: 0.4844 - accuracy: 0.8402 - val_loss: 0.3727 - val_accuracy: 0.8745\n",
            "Epoch 482/1000\n",
            "83/83 [==============================] - 1s 10ms/step - loss: 0.4837 - accuracy: 0.8421 - val_loss: 0.3728 - val_accuracy: 0.8730\n",
            "Epoch 483/1000\n",
            "83/83 [==============================] - 1s 10ms/step - loss: 0.4844 - accuracy: 0.8424 - val_loss: 0.3720 - val_accuracy: 0.8752\n",
            "Epoch 484/1000\n",
            "83/83 [==============================] - 1s 10ms/step - loss: 0.4913 - accuracy: 0.8413 - val_loss: 0.3847 - val_accuracy: 0.8675\n",
            "Epoch 485/1000\n",
            "83/83 [==============================] - 1s 10ms/step - loss: 0.4923 - accuracy: 0.8401 - val_loss: 0.3727 - val_accuracy: 0.8757\n",
            "Epoch 486/1000\n",
            "83/83 [==============================] - 1s 10ms/step - loss: 0.4843 - accuracy: 0.8431 - val_loss: 0.3710 - val_accuracy: 0.8752\n",
            "Epoch 487/1000\n",
            "83/83 [==============================] - 1s 10ms/step - loss: 0.4834 - accuracy: 0.8430 - val_loss: 0.3704 - val_accuracy: 0.8756\n",
            "Epoch 488/1000\n",
            "83/83 [==============================] - 1s 10ms/step - loss: 0.4776 - accuracy: 0.8432 - val_loss: 0.3694 - val_accuracy: 0.8753\n",
            "Epoch 489/1000\n",
            "83/83 [==============================] - 1s 10ms/step - loss: 0.4812 - accuracy: 0.8440 - val_loss: 0.3698 - val_accuracy: 0.8741\n",
            "Epoch 490/1000\n",
            "83/83 [==============================] - 1s 10ms/step - loss: 0.4832 - accuracy: 0.8431 - val_loss: 0.3696 - val_accuracy: 0.8742\n",
            "Epoch 491/1000\n",
            "83/83 [==============================] - 1s 11ms/step - loss: 0.4845 - accuracy: 0.8436 - val_loss: 0.3697 - val_accuracy: 0.8752\n",
            "Epoch 492/1000\n",
            "83/83 [==============================] - 1s 10ms/step - loss: 0.4783 - accuracy: 0.8438 - val_loss: 0.3700 - val_accuracy: 0.8751\n",
            "Epoch 493/1000\n",
            "83/83 [==============================] - 1s 10ms/step - loss: 0.4828 - accuracy: 0.8439 - val_loss: 0.3685 - val_accuracy: 0.8753\n",
            "Epoch 494/1000\n",
            "83/83 [==============================] - 1s 10ms/step - loss: 0.4798 - accuracy: 0.8412 - val_loss: 0.3689 - val_accuracy: 0.8743\n",
            "Epoch 495/1000\n",
            "83/83 [==============================] - 1s 10ms/step - loss: 0.4839 - accuracy: 0.8425 - val_loss: 0.3689 - val_accuracy: 0.8755\n",
            "Epoch 496/1000\n",
            "83/83 [==============================] - 1s 10ms/step - loss: 0.4821 - accuracy: 0.8433 - val_loss: 0.3680 - val_accuracy: 0.8762\n",
            "Epoch 497/1000\n",
            "83/83 [==============================] - 1s 10ms/step - loss: 0.4760 - accuracy: 0.8458 - val_loss: 0.3703 - val_accuracy: 0.8754\n",
            "Epoch 498/1000\n",
            "83/83 [==============================] - 1s 10ms/step - loss: 0.4817 - accuracy: 0.8428 - val_loss: 0.3703 - val_accuracy: 0.8731\n",
            "Epoch 499/1000\n",
            "83/83 [==============================] - 1s 10ms/step - loss: 0.4770 - accuracy: 0.8457 - val_loss: 0.3685 - val_accuracy: 0.8761\n",
            "Epoch 500/1000\n",
            "83/83 [==============================] - 1s 10ms/step - loss: 0.4804 - accuracy: 0.8454 - val_loss: 0.3670 - val_accuracy: 0.8757\n",
            "Epoch 501/1000\n",
            "83/83 [==============================] - 1s 10ms/step - loss: 0.4796 - accuracy: 0.8436 - val_loss: 0.3689 - val_accuracy: 0.8764\n",
            "Epoch 502/1000\n",
            "83/83 [==============================] - 1s 10ms/step - loss: 0.4792 - accuracy: 0.8455 - val_loss: 0.3715 - val_accuracy: 0.8746\n",
            "Epoch 503/1000\n",
            "83/83 [==============================] - 1s 10ms/step - loss: 0.4824 - accuracy: 0.8452 - val_loss: 0.3708 - val_accuracy: 0.8739\n",
            "Epoch 504/1000\n",
            "83/83 [==============================] - 1s 10ms/step - loss: 0.4790 - accuracy: 0.8445 - val_loss: 0.3672 - val_accuracy: 0.8756\n",
            "Epoch 505/1000\n",
            "83/83 [==============================] - 1s 10ms/step - loss: 0.4791 - accuracy: 0.8465 - val_loss: 0.3673 - val_accuracy: 0.8760\n",
            "Epoch 506/1000\n",
            "83/83 [==============================] - 1s 10ms/step - loss: 0.4851 - accuracy: 0.8436 - val_loss: 0.3678 - val_accuracy: 0.8774\n",
            "Epoch 507/1000\n",
            "83/83 [==============================] - 1s 10ms/step - loss: 0.4750 - accuracy: 0.8456 - val_loss: 0.3697 - val_accuracy: 0.8754\n",
            "Epoch 508/1000\n",
            "83/83 [==============================] - 1s 10ms/step - loss: 0.4769 - accuracy: 0.8478 - val_loss: 0.3672 - val_accuracy: 0.8753\n",
            "Epoch 509/1000\n",
            "83/83 [==============================] - 1s 10ms/step - loss: 0.4760 - accuracy: 0.8448 - val_loss: 0.3666 - val_accuracy: 0.8764\n",
            "Epoch 510/1000\n",
            "83/83 [==============================] - 1s 10ms/step - loss: 0.4750 - accuracy: 0.8460 - val_loss: 0.3691 - val_accuracy: 0.8755\n",
            "Epoch 511/1000\n",
            "83/83 [==============================] - 1s 10ms/step - loss: 0.4768 - accuracy: 0.8456 - val_loss: 0.3660 - val_accuracy: 0.8762\n",
            "Epoch 512/1000\n",
            "83/83 [==============================] - 1s 10ms/step - loss: 0.4739 - accuracy: 0.8471 - val_loss: 0.3663 - val_accuracy: 0.8761\n",
            "Epoch 513/1000\n",
            "83/83 [==============================] - 1s 10ms/step - loss: 0.4755 - accuracy: 0.8460 - val_loss: 0.3679 - val_accuracy: 0.8749\n",
            "Epoch 514/1000\n",
            "83/83 [==============================] - 1s 10ms/step - loss: 0.4710 - accuracy: 0.8472 - val_loss: 0.3780 - val_accuracy: 0.8699\n",
            "Epoch 515/1000\n",
            "83/83 [==============================] - 1s 10ms/step - loss: 0.4731 - accuracy: 0.8468 - val_loss: 0.3659 - val_accuracy: 0.8764\n",
            "Epoch 516/1000\n",
            "83/83 [==============================] - 1s 10ms/step - loss: 0.4735 - accuracy: 0.8471 - val_loss: 0.3664 - val_accuracy: 0.8774\n",
            "Epoch 517/1000\n",
            "83/83 [==============================] - 1s 10ms/step - loss: 0.4764 - accuracy: 0.8454 - val_loss: 0.3674 - val_accuracy: 0.8758\n",
            "Epoch 518/1000\n",
            "83/83 [==============================] - 1s 10ms/step - loss: 0.4701 - accuracy: 0.8473 - val_loss: 0.3650 - val_accuracy: 0.8773\n",
            "Epoch 519/1000\n",
            "83/83 [==============================] - 1s 10ms/step - loss: 0.4730 - accuracy: 0.8454 - val_loss: 0.3655 - val_accuracy: 0.8773\n",
            "Epoch 520/1000\n",
            "83/83 [==============================] - 1s 10ms/step - loss: 0.4671 - accuracy: 0.8468 - val_loss: 0.3673 - val_accuracy: 0.8748\n",
            "Epoch 521/1000\n",
            "83/83 [==============================] - 1s 10ms/step - loss: 0.4692 - accuracy: 0.8480 - val_loss: 0.3649 - val_accuracy: 0.8771\n",
            "Epoch 522/1000\n",
            "83/83 [==============================] - 1s 10ms/step - loss: 0.4740 - accuracy: 0.8456 - val_loss: 0.3654 - val_accuracy: 0.8768\n",
            "Epoch 523/1000\n",
            "83/83 [==============================] - 1s 10ms/step - loss: 0.4756 - accuracy: 0.8464 - val_loss: 0.3654 - val_accuracy: 0.8762\n",
            "Epoch 524/1000\n",
            "83/83 [==============================] - 1s 10ms/step - loss: 0.4667 - accuracy: 0.8460 - val_loss: 0.3639 - val_accuracy: 0.8768\n",
            "Epoch 525/1000\n",
            "83/83 [==============================] - 1s 10ms/step - loss: 0.4741 - accuracy: 0.8475 - val_loss: 0.3713 - val_accuracy: 0.8727\n",
            "Epoch 526/1000\n",
            "83/83 [==============================] - 1s 10ms/step - loss: 0.4730 - accuracy: 0.8456 - val_loss: 0.3631 - val_accuracy: 0.8765\n",
            "Epoch 527/1000\n",
            "83/83 [==============================] - 1s 10ms/step - loss: 0.4749 - accuracy: 0.8468 - val_loss: 0.3638 - val_accuracy: 0.8774\n",
            "Epoch 528/1000\n",
            "83/83 [==============================] - 1s 10ms/step - loss: 0.4666 - accuracy: 0.8477 - val_loss: 0.3636 - val_accuracy: 0.8776\n",
            "Epoch 529/1000\n",
            "83/83 [==============================] - 1s 10ms/step - loss: 0.4711 - accuracy: 0.8461 - val_loss: 0.3637 - val_accuracy: 0.8775\n",
            "Epoch 530/1000\n",
            "83/83 [==============================] - 1s 10ms/step - loss: 0.4701 - accuracy: 0.8480 - val_loss: 0.3630 - val_accuracy: 0.8773\n",
            "Epoch 531/1000\n",
            "83/83 [==============================] - 1s 10ms/step - loss: 0.4773 - accuracy: 0.8448 - val_loss: 0.3665 - val_accuracy: 0.8742\n",
            "Epoch 532/1000\n",
            "83/83 [==============================] - 1s 10ms/step - loss: 0.4747 - accuracy: 0.8458 - val_loss: 0.3641 - val_accuracy: 0.8766\n",
            "Epoch 533/1000\n",
            "83/83 [==============================] - 1s 10ms/step - loss: 0.4683 - accuracy: 0.8471 - val_loss: 0.3635 - val_accuracy: 0.8767\n",
            "Epoch 534/1000\n",
            "83/83 [==============================] - 1s 10ms/step - loss: 0.4682 - accuracy: 0.8456 - val_loss: 0.3638 - val_accuracy: 0.8775\n",
            "Epoch 535/1000\n",
            "83/83 [==============================] - 1s 11ms/step - loss: 0.4703 - accuracy: 0.8462 - val_loss: 0.3643 - val_accuracy: 0.8762\n",
            "Epoch 536/1000\n",
            "83/83 [==============================] - 1s 10ms/step - loss: 0.4692 - accuracy: 0.8471 - val_loss: 0.3641 - val_accuracy: 0.8765\n",
            "Epoch 537/1000\n",
            "83/83 [==============================] - 1s 11ms/step - loss: 0.4637 - accuracy: 0.8502 - val_loss: 0.3704 - val_accuracy: 0.8737\n",
            "Epoch 538/1000\n",
            "83/83 [==============================] - 1s 11ms/step - loss: 0.4698 - accuracy: 0.8476 - val_loss: 0.3622 - val_accuracy: 0.8778\n",
            "Epoch 539/1000\n",
            "83/83 [==============================] - 1s 10ms/step - loss: 0.4632 - accuracy: 0.8476 - val_loss: 0.3631 - val_accuracy: 0.8769\n",
            "Epoch 540/1000\n",
            "83/83 [==============================] - 1s 10ms/step - loss: 0.4704 - accuracy: 0.8470 - val_loss: 0.3618 - val_accuracy: 0.8769\n",
            "Epoch 541/1000\n",
            "83/83 [==============================] - 1s 10ms/step - loss: 0.4672 - accuracy: 0.8470 - val_loss: 0.3632 - val_accuracy: 0.8776\n",
            "Epoch 542/1000\n",
            "83/83 [==============================] - 1s 10ms/step - loss: 0.4660 - accuracy: 0.8483 - val_loss: 0.3634 - val_accuracy: 0.8773\n",
            "Epoch 543/1000\n",
            "83/83 [==============================] - 1s 10ms/step - loss: 0.4669 - accuracy: 0.8486 - val_loss: 0.3641 - val_accuracy: 0.8765\n",
            "Epoch 544/1000\n",
            "83/83 [==============================] - 1s 11ms/step - loss: 0.4657 - accuracy: 0.8493 - val_loss: 0.3613 - val_accuracy: 0.8775\n",
            "Epoch 545/1000\n",
            "83/83 [==============================] - 1s 10ms/step - loss: 0.4667 - accuracy: 0.8490 - val_loss: 0.3627 - val_accuracy: 0.8772\n",
            "Epoch 546/1000\n",
            "83/83 [==============================] - 1s 10ms/step - loss: 0.4672 - accuracy: 0.8489 - val_loss: 0.3615 - val_accuracy: 0.8776\n",
            "Epoch 547/1000\n",
            "83/83 [==============================] - 1s 10ms/step - loss: 0.4696 - accuracy: 0.8473 - val_loss: 0.3625 - val_accuracy: 0.8782\n",
            "Epoch 548/1000\n",
            "83/83 [==============================] - 1s 10ms/step - loss: 0.4691 - accuracy: 0.8488 - val_loss: 0.3622 - val_accuracy: 0.8786\n",
            "Epoch 549/1000\n",
            "83/83 [==============================] - 1s 10ms/step - loss: 0.4637 - accuracy: 0.8490 - val_loss: 0.3664 - val_accuracy: 0.8757\n",
            "Epoch 550/1000\n",
            "83/83 [==============================] - 1s 10ms/step - loss: 0.4606 - accuracy: 0.8500 - val_loss: 0.3626 - val_accuracy: 0.8776\n",
            "Epoch 551/1000\n",
            "83/83 [==============================] - 1s 10ms/step - loss: 0.4647 - accuracy: 0.8496 - val_loss: 0.3619 - val_accuracy: 0.8778\n",
            "Epoch 552/1000\n",
            "83/83 [==============================] - 1s 10ms/step - loss: 0.4613 - accuracy: 0.8496 - val_loss: 0.3607 - val_accuracy: 0.8783\n",
            "Epoch 553/1000\n",
            "83/83 [==============================] - 1s 10ms/step - loss: 0.4628 - accuracy: 0.8493 - val_loss: 0.3612 - val_accuracy: 0.8778\n",
            "Epoch 554/1000\n",
            "83/83 [==============================] - 1s 11ms/step - loss: 0.4614 - accuracy: 0.8500 - val_loss: 0.3598 - val_accuracy: 0.8781\n",
            "Epoch 555/1000\n",
            "83/83 [==============================] - 1s 10ms/step - loss: 0.4587 - accuracy: 0.8515 - val_loss: 0.3611 - val_accuracy: 0.8781\n",
            "Epoch 556/1000\n",
            "83/83 [==============================] - 1s 10ms/step - loss: 0.4659 - accuracy: 0.8490 - val_loss: 0.3598 - val_accuracy: 0.8782\n",
            "Epoch 557/1000\n",
            "83/83 [==============================] - 1s 11ms/step - loss: 0.4597 - accuracy: 0.8504 - val_loss: 0.3600 - val_accuracy: 0.8783\n",
            "Epoch 558/1000\n",
            "83/83 [==============================] - 1s 10ms/step - loss: 0.4606 - accuracy: 0.8520 - val_loss: 0.5317 - val_accuracy: 0.8188\n",
            "Epoch 559/1000\n",
            "83/83 [==============================] - 1s 11ms/step - loss: 0.4682 - accuracy: 0.8480 - val_loss: 0.3623 - val_accuracy: 0.8777\n",
            "Epoch 560/1000\n",
            "83/83 [==============================] - 1s 10ms/step - loss: 0.4667 - accuracy: 0.8475 - val_loss: 0.3615 - val_accuracy: 0.8777\n",
            "Epoch 561/1000\n",
            "83/83 [==============================] - 1s 10ms/step - loss: 0.4630 - accuracy: 0.8504 - val_loss: 0.3911 - val_accuracy: 0.8633\n",
            "Epoch 562/1000\n",
            "83/83 [==============================] - 1s 11ms/step - loss: 0.4661 - accuracy: 0.8498 - val_loss: 0.3603 - val_accuracy: 0.8787\n",
            "Epoch 563/1000\n",
            "83/83 [==============================] - 1s 10ms/step - loss: 0.4563 - accuracy: 0.8516 - val_loss: 0.3599 - val_accuracy: 0.8794\n",
            "Epoch 564/1000\n",
            "83/83 [==============================] - 1s 10ms/step - loss: 0.4619 - accuracy: 0.8504 - val_loss: 0.3602 - val_accuracy: 0.8778\n",
            "Epoch 565/1000\n",
            "83/83 [==============================] - 1s 10ms/step - loss: 0.4568 - accuracy: 0.8528 - val_loss: 0.3606 - val_accuracy: 0.8768\n",
            "Epoch 566/1000\n",
            "83/83 [==============================] - 1s 10ms/step - loss: 0.4613 - accuracy: 0.8504 - val_loss: 0.3583 - val_accuracy: 0.8788\n",
            "Epoch 567/1000\n",
            "83/83 [==============================] - 1s 10ms/step - loss: 0.4617 - accuracy: 0.8503 - val_loss: 0.3593 - val_accuracy: 0.8787\n",
            "Epoch 568/1000\n",
            "83/83 [==============================] - 1s 10ms/step - loss: 0.4572 - accuracy: 0.8506 - val_loss: 0.3586 - val_accuracy: 0.8788\n",
            "Epoch 569/1000\n",
            "83/83 [==============================] - 1s 10ms/step - loss: 0.4576 - accuracy: 0.8507 - val_loss: 0.3623 - val_accuracy: 0.8794\n",
            "Epoch 570/1000\n",
            "83/83 [==============================] - 1s 10ms/step - loss: 0.4589 - accuracy: 0.8528 - val_loss: 0.3589 - val_accuracy: 0.8791\n",
            "Epoch 571/1000\n",
            "83/83 [==============================] - 1s 10ms/step - loss: 0.4629 - accuracy: 0.8510 - val_loss: 0.3588 - val_accuracy: 0.8779\n",
            "Epoch 572/1000\n",
            "83/83 [==============================] - 1s 11ms/step - loss: 0.4587 - accuracy: 0.8522 - val_loss: 0.3612 - val_accuracy: 0.8783\n",
            "Epoch 573/1000\n",
            "83/83 [==============================] - 1s 10ms/step - loss: 0.4565 - accuracy: 0.8525 - val_loss: 0.3581 - val_accuracy: 0.8793\n",
            "Epoch 574/1000\n",
            "83/83 [==============================] - 1s 11ms/step - loss: 0.4607 - accuracy: 0.8514 - val_loss: 0.3596 - val_accuracy: 0.8799\n",
            "Epoch 575/1000\n",
            "83/83 [==============================] - 1s 10ms/step - loss: 0.4563 - accuracy: 0.8531 - val_loss: 0.3577 - val_accuracy: 0.8803\n",
            "Epoch 576/1000\n",
            "83/83 [==============================] - 1s 10ms/step - loss: 0.4575 - accuracy: 0.8507 - val_loss: 0.3593 - val_accuracy: 0.8790\n",
            "Epoch 577/1000\n",
            "83/83 [==============================] - 1s 10ms/step - loss: 0.4515 - accuracy: 0.8535 - val_loss: 0.3633 - val_accuracy: 0.8793\n",
            "Epoch 578/1000\n",
            "83/83 [==============================] - 1s 11ms/step - loss: 0.4575 - accuracy: 0.8512 - val_loss: 0.3594 - val_accuracy: 0.8791\n",
            "Epoch 579/1000\n",
            "83/83 [==============================] - 1s 10ms/step - loss: 0.4531 - accuracy: 0.8545 - val_loss: 0.3572 - val_accuracy: 0.8793\n",
            "Epoch 580/1000\n",
            "83/83 [==============================] - 1s 11ms/step - loss: 0.4507 - accuracy: 0.8539 - val_loss: 0.3572 - val_accuracy: 0.8796\n",
            "Epoch 581/1000\n",
            "83/83 [==============================] - 1s 11ms/step - loss: 0.4553 - accuracy: 0.8529 - val_loss: 0.3572 - val_accuracy: 0.8785\n",
            "Epoch 582/1000\n",
            "83/83 [==============================] - 1s 10ms/step - loss: 0.4564 - accuracy: 0.8533 - val_loss: 0.3673 - val_accuracy: 0.8737\n",
            "Epoch 583/1000\n",
            "83/83 [==============================] - 1s 11ms/step - loss: 0.4546 - accuracy: 0.8538 - val_loss: 0.3576 - val_accuracy: 0.8791\n",
            "Epoch 584/1000\n",
            "83/83 [==============================] - 1s 11ms/step - loss: 0.4497 - accuracy: 0.8527 - val_loss: 0.3564 - val_accuracy: 0.8799\n",
            "Epoch 585/1000\n",
            "83/83 [==============================] - 1s 11ms/step - loss: 0.4578 - accuracy: 0.8516 - val_loss: 0.3594 - val_accuracy: 0.8788\n",
            "Epoch 586/1000\n",
            "83/83 [==============================] - 1s 11ms/step - loss: 0.4549 - accuracy: 0.8539 - val_loss: 0.3598 - val_accuracy: 0.8778\n",
            "Epoch 587/1000\n",
            "83/83 [==============================] - 1s 11ms/step - loss: 0.4601 - accuracy: 0.8514 - val_loss: 0.3632 - val_accuracy: 0.8747\n",
            "Epoch 588/1000\n",
            "83/83 [==============================] - 1s 11ms/step - loss: 0.4555 - accuracy: 0.8532 - val_loss: 0.3577 - val_accuracy: 0.8793\n",
            "Epoch 589/1000\n",
            "83/83 [==============================] - 1s 10ms/step - loss: 0.4521 - accuracy: 0.8528 - val_loss: 0.3563 - val_accuracy: 0.8796\n",
            "Epoch 590/1000\n",
            "83/83 [==============================] - 1s 10ms/step - loss: 0.4546 - accuracy: 0.8526 - val_loss: 0.3596 - val_accuracy: 0.8793\n",
            "Epoch 591/1000\n",
            "83/83 [==============================] - 1s 11ms/step - loss: 0.4565 - accuracy: 0.8522 - val_loss: 0.3554 - val_accuracy: 0.8809\n",
            "Epoch 592/1000\n",
            "83/83 [==============================] - 1s 11ms/step - loss: 0.4514 - accuracy: 0.8526 - val_loss: 0.3554 - val_accuracy: 0.8804\n",
            "Epoch 593/1000\n",
            "83/83 [==============================] - 1s 11ms/step - loss: 0.4524 - accuracy: 0.8530 - val_loss: 0.3570 - val_accuracy: 0.8803\n",
            "Epoch 594/1000\n",
            "83/83 [==============================] - 1s 11ms/step - loss: 0.4560 - accuracy: 0.8515 - val_loss: 0.3570 - val_accuracy: 0.8798\n",
            "Epoch 595/1000\n",
            "83/83 [==============================] - 1s 11ms/step - loss: 0.4495 - accuracy: 0.8532 - val_loss: 0.3657 - val_accuracy: 0.8751\n",
            "Epoch 596/1000\n",
            "83/83 [==============================] - 1s 11ms/step - loss: 0.4521 - accuracy: 0.8531 - val_loss: 0.3591 - val_accuracy: 0.8776\n",
            "Epoch 597/1000\n",
            "83/83 [==============================] - 1s 11ms/step - loss: 0.4473 - accuracy: 0.8550 - val_loss: 0.3559 - val_accuracy: 0.8794\n",
            "Epoch 598/1000\n",
            "83/83 [==============================] - 1s 11ms/step - loss: 0.4516 - accuracy: 0.8551 - val_loss: 0.3559 - val_accuracy: 0.8794\n",
            "Epoch 599/1000\n",
            "83/83 [==============================] - 1s 11ms/step - loss: 0.4501 - accuracy: 0.8523 - val_loss: 0.3857 - val_accuracy: 0.8676\n",
            "Epoch 600/1000\n",
            "83/83 [==============================] - 1s 11ms/step - loss: 0.4572 - accuracy: 0.8501 - val_loss: 0.3572 - val_accuracy: 0.8791\n",
            "Epoch 601/1000\n",
            "83/83 [==============================] - 1s 11ms/step - loss: 0.4531 - accuracy: 0.8531 - val_loss: 0.3553 - val_accuracy: 0.8808\n",
            "Epoch 602/1000\n",
            "83/83 [==============================] - 1s 11ms/step - loss: 0.4518 - accuracy: 0.8542 - val_loss: 0.3556 - val_accuracy: 0.8795\n",
            "Epoch 603/1000\n",
            "83/83 [==============================] - 1s 11ms/step - loss: 0.4548 - accuracy: 0.8508 - val_loss: 0.3564 - val_accuracy: 0.8802\n",
            "Epoch 604/1000\n",
            "83/83 [==============================] - 1s 11ms/step - loss: 0.4571 - accuracy: 0.8528 - val_loss: 0.3559 - val_accuracy: 0.8789\n",
            "Epoch 605/1000\n",
            "83/83 [==============================] - 1s 11ms/step - loss: 0.4496 - accuracy: 0.8544 - val_loss: 0.3564 - val_accuracy: 0.8803\n",
            "Epoch 606/1000\n",
            "83/83 [==============================] - 1s 12ms/step - loss: 0.4508 - accuracy: 0.8529 - val_loss: 0.3551 - val_accuracy: 0.8799\n",
            "Epoch 607/1000\n",
            "83/83 [==============================] - 1s 12ms/step - loss: 0.4496 - accuracy: 0.8549 - val_loss: 0.3540 - val_accuracy: 0.8810\n",
            "Epoch 608/1000\n",
            "83/83 [==============================] - 1s 12ms/step - loss: 0.4509 - accuracy: 0.8551 - val_loss: 0.3641 - val_accuracy: 0.8752\n",
            "Epoch 609/1000\n",
            "83/83 [==============================] - 1s 11ms/step - loss: 0.4484 - accuracy: 0.8545 - val_loss: 0.3549 - val_accuracy: 0.8810\n",
            "Epoch 610/1000\n",
            "83/83 [==============================] - 1s 11ms/step - loss: 0.4497 - accuracy: 0.8537 - val_loss: 0.3645 - val_accuracy: 0.8765\n",
            "Epoch 611/1000\n",
            "83/83 [==============================] - 1s 12ms/step - loss: 0.4490 - accuracy: 0.8536 - val_loss: 0.3548 - val_accuracy: 0.8806\n",
            "Epoch 612/1000\n",
            "83/83 [==============================] - 1s 11ms/step - loss: 0.4443 - accuracy: 0.8549 - val_loss: 0.3543 - val_accuracy: 0.8809\n",
            "Epoch 613/1000\n",
            "83/83 [==============================] - 1s 11ms/step - loss: 0.4447 - accuracy: 0.8552 - val_loss: 0.3666 - val_accuracy: 0.8780\n",
            "Epoch 614/1000\n",
            "83/83 [==============================] - 1s 11ms/step - loss: 0.4502 - accuracy: 0.8531 - val_loss: 0.3565 - val_accuracy: 0.8801\n",
            "Epoch 615/1000\n",
            "83/83 [==============================] - 1s 11ms/step - loss: 0.4452 - accuracy: 0.8549 - val_loss: 0.3532 - val_accuracy: 0.8814\n",
            "Epoch 616/1000\n",
            "83/83 [==============================] - 1s 11ms/step - loss: 0.4463 - accuracy: 0.8530 - val_loss: 0.3544 - val_accuracy: 0.8802\n",
            "Epoch 617/1000\n",
            "83/83 [==============================] - 1s 11ms/step - loss: 0.4452 - accuracy: 0.8552 - val_loss: 0.3542 - val_accuracy: 0.8813\n",
            "Epoch 618/1000\n",
            "83/83 [==============================] - 1s 11ms/step - loss: 0.4470 - accuracy: 0.8544 - val_loss: 0.3608 - val_accuracy: 0.8765\n",
            "Epoch 619/1000\n",
            "83/83 [==============================] - 1s 11ms/step - loss: 0.4482 - accuracy: 0.8550 - val_loss: 0.3557 - val_accuracy: 0.8796\n",
            "Epoch 620/1000\n",
            "83/83 [==============================] - 1s 12ms/step - loss: 0.4455 - accuracy: 0.8574 - val_loss: 0.3526 - val_accuracy: 0.8811\n",
            "Epoch 621/1000\n",
            "83/83 [==============================] - 1s 11ms/step - loss: 0.4462 - accuracy: 0.8544 - val_loss: 0.3587 - val_accuracy: 0.8784\n",
            "Epoch 622/1000\n",
            "83/83 [==============================] - 1s 11ms/step - loss: 0.4434 - accuracy: 0.8559 - val_loss: 0.3552 - val_accuracy: 0.8811\n",
            "Epoch 623/1000\n",
            "83/83 [==============================] - 1s 11ms/step - loss: 0.4429 - accuracy: 0.8554 - val_loss: 0.3565 - val_accuracy: 0.8777\n",
            "Epoch 624/1000\n",
            "83/83 [==============================] - 1s 13ms/step - loss: 0.4406 - accuracy: 0.8556 - val_loss: 0.3595 - val_accuracy: 0.8789\n",
            "Epoch 625/1000\n",
            "83/83 [==============================] - 1s 12ms/step - loss: 0.4454 - accuracy: 0.8548 - val_loss: 0.3589 - val_accuracy: 0.8783\n",
            "Epoch 626/1000\n",
            "83/83 [==============================] - 1s 12ms/step - loss: 0.4465 - accuracy: 0.8560 - val_loss: 0.3554 - val_accuracy: 0.8804\n",
            "Epoch 627/1000\n",
            "83/83 [==============================] - 1s 11ms/step - loss: 0.4464 - accuracy: 0.8562 - val_loss: 0.3534 - val_accuracy: 0.8814\n",
            "Epoch 628/1000\n",
            "83/83 [==============================] - 1s 11ms/step - loss: 0.4441 - accuracy: 0.8573 - val_loss: 0.3532 - val_accuracy: 0.8811\n",
            "Epoch 629/1000\n",
            "83/83 [==============================] - 1s 12ms/step - loss: 0.4410 - accuracy: 0.8579 - val_loss: 0.3550 - val_accuracy: 0.8794\n",
            "Epoch 630/1000\n",
            "83/83 [==============================] - 1s 12ms/step - loss: 0.4454 - accuracy: 0.8566 - val_loss: 0.3540 - val_accuracy: 0.8802\n",
            "Epoch 631/1000\n",
            "83/83 [==============================] - 1s 11ms/step - loss: 0.4497 - accuracy: 0.8540 - val_loss: 0.3516 - val_accuracy: 0.8812\n",
            "Epoch 632/1000\n",
            "83/83 [==============================] - 1s 11ms/step - loss: 0.4397 - accuracy: 0.8575 - val_loss: 0.3515 - val_accuracy: 0.8814\n",
            "Epoch 633/1000\n",
            "83/83 [==============================] - 1s 11ms/step - loss: 0.4450 - accuracy: 0.8572 - val_loss: 0.3548 - val_accuracy: 0.8801\n",
            "Epoch 634/1000\n",
            "83/83 [==============================] - 1s 12ms/step - loss: 0.4439 - accuracy: 0.8572 - val_loss: 0.3535 - val_accuracy: 0.8808\n",
            "Epoch 635/1000\n",
            "83/83 [==============================] - 1s 12ms/step - loss: 0.4389 - accuracy: 0.8567 - val_loss: 0.3526 - val_accuracy: 0.8824\n",
            "Epoch 636/1000\n",
            "83/83 [==============================] - 1s 12ms/step - loss: 0.4439 - accuracy: 0.8551 - val_loss: 0.3555 - val_accuracy: 0.8813\n",
            "Epoch 637/1000\n",
            "83/83 [==============================] - 1s 12ms/step - loss: 0.4450 - accuracy: 0.8558 - val_loss: 0.3602 - val_accuracy: 0.8789\n",
            "Epoch 638/1000\n",
            "83/83 [==============================] - 1s 12ms/step - loss: 0.4433 - accuracy: 0.8582 - val_loss: 0.3550 - val_accuracy: 0.8797\n",
            "Epoch 639/1000\n",
            "83/83 [==============================] - 1s 11ms/step - loss: 0.4404 - accuracy: 0.8570 - val_loss: 0.3589 - val_accuracy: 0.8810\n",
            "Epoch 640/1000\n",
            "83/83 [==============================] - 1s 12ms/step - loss: 0.4437 - accuracy: 0.8568 - val_loss: 0.3563 - val_accuracy: 0.8792\n",
            "Epoch 641/1000\n",
            "83/83 [==============================] - 1s 11ms/step - loss: 0.4431 - accuracy: 0.8564 - val_loss: 0.3513 - val_accuracy: 0.8828\n",
            "Epoch 642/1000\n",
            "83/83 [==============================] - 1s 11ms/step - loss: 0.4409 - accuracy: 0.8559 - val_loss: 0.3536 - val_accuracy: 0.8811\n",
            "Epoch 643/1000\n",
            "83/83 [==============================] - 1s 11ms/step - loss: 0.4455 - accuracy: 0.8563 - val_loss: 0.3521 - val_accuracy: 0.8816\n",
            "Epoch 644/1000\n",
            "83/83 [==============================] - 1s 10ms/step - loss: 0.4403 - accuracy: 0.8593 - val_loss: 0.3772 - val_accuracy: 0.8757\n",
            "Epoch 645/1000\n",
            "83/83 [==============================] - 1s 11ms/step - loss: 0.4433 - accuracy: 0.8563 - val_loss: 0.3515 - val_accuracy: 0.8817\n",
            "Epoch 646/1000\n",
            "83/83 [==============================] - 1s 11ms/step - loss: 0.4389 - accuracy: 0.8577 - val_loss: 0.3509 - val_accuracy: 0.8823\n",
            "Epoch 647/1000\n",
            "83/83 [==============================] - 1s 11ms/step - loss: 0.4410 - accuracy: 0.8573 - val_loss: 0.3519 - val_accuracy: 0.8822\n",
            "Epoch 648/1000\n",
            "83/83 [==============================] - 1s 11ms/step - loss: 0.4371 - accuracy: 0.8583 - val_loss: 0.3518 - val_accuracy: 0.8812\n",
            "Epoch 649/1000\n",
            "83/83 [==============================] - 1s 11ms/step - loss: 0.4387 - accuracy: 0.8575 - val_loss: 0.3503 - val_accuracy: 0.8821\n",
            "Epoch 650/1000\n",
            "83/83 [==============================] - 1s 11ms/step - loss: 0.4395 - accuracy: 0.8597 - val_loss: 0.3515 - val_accuracy: 0.8804\n",
            "Epoch 651/1000\n",
            "83/83 [==============================] - 1s 11ms/step - loss: 0.4348 - accuracy: 0.8584 - val_loss: 0.3687 - val_accuracy: 0.8743\n",
            "Epoch 652/1000\n",
            "83/83 [==============================] - 1s 11ms/step - loss: 0.4386 - accuracy: 0.8593 - val_loss: 0.3544 - val_accuracy: 0.8812\n",
            "Epoch 653/1000\n",
            "83/83 [==============================] - 1s 11ms/step - loss: 0.4381 - accuracy: 0.8575 - val_loss: 0.3531 - val_accuracy: 0.8800\n",
            "Epoch 654/1000\n",
            "83/83 [==============================] - 1s 11ms/step - loss: 0.4309 - accuracy: 0.8615 - val_loss: 0.3500 - val_accuracy: 0.8817\n",
            "Epoch 655/1000\n",
            "83/83 [==============================] - 1s 12ms/step - loss: 0.4368 - accuracy: 0.8585 - val_loss: 0.3509 - val_accuracy: 0.8818\n",
            "Epoch 656/1000\n",
            "83/83 [==============================] - 1s 12ms/step - loss: 0.4390 - accuracy: 0.8565 - val_loss: 0.3514 - val_accuracy: 0.8808\n",
            "Epoch 657/1000\n",
            "83/83 [==============================] - 1s 12ms/step - loss: 0.4346 - accuracy: 0.8585 - val_loss: 0.3499 - val_accuracy: 0.8826\n",
            "Epoch 658/1000\n",
            "83/83 [==============================] - 1s 11ms/step - loss: 0.4348 - accuracy: 0.8613 - val_loss: 0.3519 - val_accuracy: 0.8811\n",
            "Epoch 659/1000\n",
            "83/83 [==============================] - 1s 11ms/step - loss: 0.4265 - accuracy: 0.8608 - val_loss: 0.3495 - val_accuracy: 0.8815\n",
            "Epoch 660/1000\n",
            "83/83 [==============================] - 1s 12ms/step - loss: 0.4389 - accuracy: 0.8581 - val_loss: 0.3492 - val_accuracy: 0.8817\n",
            "Epoch 661/1000\n",
            "83/83 [==============================] - 1s 10ms/step - loss: 0.4311 - accuracy: 0.8608 - val_loss: 0.3504 - val_accuracy: 0.8816\n",
            "Epoch 662/1000\n",
            "83/83 [==============================] - 1s 11ms/step - loss: 0.4327 - accuracy: 0.8608 - val_loss: 0.3553 - val_accuracy: 0.8793\n",
            "Epoch 663/1000\n",
            "83/83 [==============================] - 1s 11ms/step - loss: 0.4365 - accuracy: 0.8586 - val_loss: 0.3482 - val_accuracy: 0.8833\n",
            "Epoch 664/1000\n",
            "83/83 [==============================] - 1s 11ms/step - loss: 0.4323 - accuracy: 0.8602 - val_loss: 0.3594 - val_accuracy: 0.8785\n",
            "Epoch 665/1000\n",
            "83/83 [==============================] - 1s 11ms/step - loss: 0.4329 - accuracy: 0.8616 - val_loss: 0.3485 - val_accuracy: 0.8826\n",
            "Epoch 666/1000\n",
            "83/83 [==============================] - 1s 11ms/step - loss: 0.4328 - accuracy: 0.8583 - val_loss: 0.3497 - val_accuracy: 0.8817\n",
            "Epoch 667/1000\n",
            "83/83 [==============================] - 1s 11ms/step - loss: 0.4345 - accuracy: 0.8592 - val_loss: 0.3503 - val_accuracy: 0.8816\n",
            "Epoch 668/1000\n",
            "83/83 [==============================] - 1s 11ms/step - loss: 0.4374 - accuracy: 0.8590 - val_loss: 0.3513 - val_accuracy: 0.8814\n",
            "Epoch 669/1000\n",
            "83/83 [==============================] - 1s 11ms/step - loss: 0.4331 - accuracy: 0.8616 - val_loss: 0.3498 - val_accuracy: 0.8842\n",
            "Epoch 670/1000\n",
            "83/83 [==============================] - 1s 11ms/step - loss: 0.4318 - accuracy: 0.8585 - val_loss: 0.3511 - val_accuracy: 0.8821\n",
            "Epoch 671/1000\n",
            "83/83 [==============================] - 1s 11ms/step - loss: 0.4263 - accuracy: 0.8617 - val_loss: 0.3483 - val_accuracy: 0.8832\n",
            "Epoch 672/1000\n",
            "83/83 [==============================] - 1s 11ms/step - loss: 0.4290 - accuracy: 0.8608 - val_loss: 0.3485 - val_accuracy: 0.8832\n",
            "Epoch 673/1000\n",
            "83/83 [==============================] - 1s 11ms/step - loss: 0.4307 - accuracy: 0.8610 - val_loss: 0.3501 - val_accuracy: 0.8822\n",
            "Epoch 674/1000\n",
            "83/83 [==============================] - 1s 11ms/step - loss: 0.4375 - accuracy: 0.8589 - val_loss: 0.3483 - val_accuracy: 0.8826\n",
            "Epoch 675/1000\n",
            "83/83 [==============================] - 1s 11ms/step - loss: 0.4321 - accuracy: 0.8593 - val_loss: 0.3515 - val_accuracy: 0.8801\n",
            "Epoch 676/1000\n",
            "83/83 [==============================] - 1s 11ms/step - loss: 0.4288 - accuracy: 0.8615 - val_loss: 0.3473 - val_accuracy: 0.8833\n",
            "Epoch 677/1000\n",
            "83/83 [==============================] - 1s 11ms/step - loss: 0.4291 - accuracy: 0.8615 - val_loss: 0.3477 - val_accuracy: 0.8827\n",
            "Epoch 678/1000\n",
            "83/83 [==============================] - 1s 11ms/step - loss: 0.4266 - accuracy: 0.8630 - val_loss: 0.3475 - val_accuracy: 0.8823\n",
            "Epoch 679/1000\n",
            "83/83 [==============================] - 1s 11ms/step - loss: 0.4304 - accuracy: 0.8599 - val_loss: 0.3474 - val_accuracy: 0.8826\n",
            "Epoch 680/1000\n",
            "83/83 [==============================] - 1s 11ms/step - loss: 0.4297 - accuracy: 0.8608 - val_loss: 0.3476 - val_accuracy: 0.8819\n",
            "Epoch 681/1000\n",
            "83/83 [==============================] - 1s 11ms/step - loss: 0.4258 - accuracy: 0.8626 - val_loss: 0.3473 - val_accuracy: 0.8821\n",
            "Epoch 682/1000\n",
            "83/83 [==============================] - 1s 11ms/step - loss: 0.4245 - accuracy: 0.8615 - val_loss: 0.3520 - val_accuracy: 0.8812\n",
            "Epoch 683/1000\n",
            "83/83 [==============================] - 1s 11ms/step - loss: 0.4301 - accuracy: 0.8604 - val_loss: 0.3514 - val_accuracy: 0.8806\n",
            "Epoch 684/1000\n",
            "83/83 [==============================] - 1s 11ms/step - loss: 0.4223 - accuracy: 0.8621 - val_loss: 0.3503 - val_accuracy: 0.8820\n",
            "Epoch 685/1000\n",
            "83/83 [==============================] - 1s 10ms/step - loss: 0.4315 - accuracy: 0.8606 - val_loss: 0.3592 - val_accuracy: 0.8785\n",
            "Epoch 686/1000\n",
            "83/83 [==============================] - 1s 10ms/step - loss: 0.4295 - accuracy: 0.8607 - val_loss: 0.3496 - val_accuracy: 0.8834\n",
            "Epoch 687/1000\n",
            "83/83 [==============================] - 1s 11ms/step - loss: 0.4294 - accuracy: 0.8602 - val_loss: 0.3533 - val_accuracy: 0.8816\n",
            "Epoch 688/1000\n",
            "83/83 [==============================] - 1s 11ms/step - loss: 0.4308 - accuracy: 0.8598 - val_loss: 0.3488 - val_accuracy: 0.8822\n",
            "Epoch 689/1000\n",
            "83/83 [==============================] - 1s 10ms/step - loss: 0.4263 - accuracy: 0.8623 - val_loss: 0.3475 - val_accuracy: 0.8827\n",
            "Epoch 690/1000\n",
            "83/83 [==============================] - 1s 10ms/step - loss: 0.4333 - accuracy: 0.8622 - val_loss: 0.3495 - val_accuracy: 0.8825\n",
            "Epoch 691/1000\n",
            "83/83 [==============================] - 1s 10ms/step - loss: 0.4359 - accuracy: 0.8604 - val_loss: 0.3470 - val_accuracy: 0.8826\n",
            "Epoch 692/1000\n",
            "83/83 [==============================] - 1s 10ms/step - loss: 0.4226 - accuracy: 0.8619 - val_loss: 0.3699 - val_accuracy: 0.8723\n",
            "Epoch 693/1000\n",
            "83/83 [==============================] - 1s 10ms/step - loss: 0.4325 - accuracy: 0.8604 - val_loss: 0.3487 - val_accuracy: 0.8819\n",
            "Epoch 694/1000\n",
            "83/83 [==============================] - 1s 11ms/step - loss: 0.4280 - accuracy: 0.8603 - val_loss: 0.3459 - val_accuracy: 0.8841\n",
            "Epoch 695/1000\n",
            "83/83 [==============================] - 1s 10ms/step - loss: 0.4290 - accuracy: 0.8622 - val_loss: 0.3476 - val_accuracy: 0.8823\n",
            "Epoch 696/1000\n",
            "83/83 [==============================] - 1s 11ms/step - loss: 0.4282 - accuracy: 0.8612 - val_loss: 0.3493 - val_accuracy: 0.8830\n",
            "Epoch 697/1000\n",
            "83/83 [==============================] - 1s 10ms/step - loss: 0.4267 - accuracy: 0.8630 - val_loss: 0.3676 - val_accuracy: 0.8737\n",
            "Epoch 698/1000\n",
            "83/83 [==============================] - 1s 11ms/step - loss: 0.4295 - accuracy: 0.8612 - val_loss: 0.3456 - val_accuracy: 0.8828\n",
            "Epoch 699/1000\n",
            "83/83 [==============================] - 1s 10ms/step - loss: 0.4227 - accuracy: 0.8637 - val_loss: 0.3465 - val_accuracy: 0.8823\n",
            "Epoch 700/1000\n",
            "83/83 [==============================] - 1s 10ms/step - loss: 0.4251 - accuracy: 0.8626 - val_loss: 0.3532 - val_accuracy: 0.8811\n",
            "Epoch 701/1000\n",
            "83/83 [==============================] - 1s 11ms/step - loss: 0.4256 - accuracy: 0.8647 - val_loss: 0.3539 - val_accuracy: 0.8812\n",
            "Epoch 702/1000\n",
            "83/83 [==============================] - 1s 11ms/step - loss: 0.4272 - accuracy: 0.8623 - val_loss: 0.3462 - val_accuracy: 0.8828\n",
            "Epoch 703/1000\n",
            "83/83 [==============================] - 1s 10ms/step - loss: 0.4256 - accuracy: 0.8616 - val_loss: 0.3506 - val_accuracy: 0.8826\n",
            "Epoch 704/1000\n",
            "83/83 [==============================] - 1s 10ms/step - loss: 0.4258 - accuracy: 0.8620 - val_loss: 0.3480 - val_accuracy: 0.8833\n",
            "Epoch 705/1000\n",
            "83/83 [==============================] - 1s 11ms/step - loss: 0.4309 - accuracy: 0.8604 - val_loss: 0.3538 - val_accuracy: 0.8821\n",
            "Epoch 706/1000\n",
            "83/83 [==============================] - 1s 10ms/step - loss: 0.4256 - accuracy: 0.8609 - val_loss: 0.3504 - val_accuracy: 0.8813\n",
            "Epoch 707/1000\n",
            "83/83 [==============================] - 1s 10ms/step - loss: 0.4245 - accuracy: 0.8633 - val_loss: 0.3602 - val_accuracy: 0.8783\n",
            "Epoch 708/1000\n",
            "83/83 [==============================] - 1s 10ms/step - loss: 0.4238 - accuracy: 0.8652 - val_loss: 0.3459 - val_accuracy: 0.8838\n",
            "Epoch 709/1000\n",
            "83/83 [==============================] - 1s 10ms/step - loss: 0.4232 - accuracy: 0.8643 - val_loss: 0.3447 - val_accuracy: 0.8845\n",
            "Epoch 710/1000\n",
            "83/83 [==============================] - 1s 10ms/step - loss: 0.4217 - accuracy: 0.8636 - val_loss: 0.3458 - val_accuracy: 0.8832\n",
            "Epoch 711/1000\n",
            "83/83 [==============================] - 1s 10ms/step - loss: 0.4260 - accuracy: 0.8618 - val_loss: 0.3572 - val_accuracy: 0.8785\n",
            "Epoch 712/1000\n",
            "83/83 [==============================] - 1s 10ms/step - loss: 0.4254 - accuracy: 0.8627 - val_loss: 0.3650 - val_accuracy: 0.8771\n",
            "Epoch 713/1000\n",
            "83/83 [==============================] - 1s 10ms/step - loss: 0.4273 - accuracy: 0.8624 - val_loss: 0.3505 - val_accuracy: 0.8827\n",
            "Epoch 714/1000\n",
            "83/83 [==============================] - 1s 10ms/step - loss: 0.4218 - accuracy: 0.8636 - val_loss: 0.3448 - val_accuracy: 0.8841\n",
            "Epoch 715/1000\n",
            "83/83 [==============================] - 1s 11ms/step - loss: 0.4195 - accuracy: 0.8629 - val_loss: 0.3482 - val_accuracy: 0.8813\n",
            "Epoch 716/1000\n",
            "83/83 [==============================] - 1s 10ms/step - loss: 0.4278 - accuracy: 0.8613 - val_loss: 0.3480 - val_accuracy: 0.8803\n",
            "Epoch 717/1000\n",
            "83/83 [==============================] - 1s 11ms/step - loss: 0.4222 - accuracy: 0.8617 - val_loss: 0.3448 - val_accuracy: 0.8845\n",
            "Epoch 718/1000\n",
            "83/83 [==============================] - 1s 11ms/step - loss: 0.4256 - accuracy: 0.8614 - val_loss: 0.3443 - val_accuracy: 0.8845\n",
            "Epoch 719/1000\n",
            "83/83 [==============================] - 1s 10ms/step - loss: 0.4238 - accuracy: 0.8631 - val_loss: 0.3444 - val_accuracy: 0.8843\n",
            "Epoch 720/1000\n",
            "83/83 [==============================] - 1s 10ms/step - loss: 0.4236 - accuracy: 0.8636 - val_loss: 0.3489 - val_accuracy: 0.8804\n",
            "Epoch 721/1000\n",
            "83/83 [==============================] - 1s 10ms/step - loss: 0.4191 - accuracy: 0.8620 - val_loss: 0.3477 - val_accuracy: 0.8831\n",
            "Epoch 722/1000\n",
            "83/83 [==============================] - 1s 11ms/step - loss: 0.4237 - accuracy: 0.8641 - val_loss: 0.3444 - val_accuracy: 0.8836\n",
            "Epoch 723/1000\n",
            "83/83 [==============================] - 1s 10ms/step - loss: 0.4216 - accuracy: 0.8629 - val_loss: 0.3439 - val_accuracy: 0.8851\n",
            "Epoch 724/1000\n",
            "83/83 [==============================] - 1s 11ms/step - loss: 0.4176 - accuracy: 0.8660 - val_loss: 0.3502 - val_accuracy: 0.8793\n",
            "Epoch 725/1000\n",
            "83/83 [==============================] - 1s 11ms/step - loss: 0.4142 - accuracy: 0.8664 - val_loss: 0.3434 - val_accuracy: 0.8837\n",
            "Epoch 726/1000\n",
            "83/83 [==============================] - 1s 11ms/step - loss: 0.4206 - accuracy: 0.8632 - val_loss: 0.3479 - val_accuracy: 0.8804\n",
            "Epoch 727/1000\n",
            "83/83 [==============================] - 1s 10ms/step - loss: 0.4188 - accuracy: 0.8636 - val_loss: 0.3462 - val_accuracy: 0.8837\n",
            "Epoch 728/1000\n",
            "83/83 [==============================] - 1s 10ms/step - loss: 0.4179 - accuracy: 0.8653 - val_loss: 0.3452 - val_accuracy: 0.8824\n",
            "Epoch 729/1000\n",
            "83/83 [==============================] - 1s 11ms/step - loss: 0.4166 - accuracy: 0.8652 - val_loss: 0.3459 - val_accuracy: 0.8833\n",
            "Epoch 730/1000\n",
            "83/83 [==============================] - 1s 11ms/step - loss: 0.4151 - accuracy: 0.8670 - val_loss: 0.3439 - val_accuracy: 0.8836\n",
            "Epoch 731/1000\n",
            "83/83 [==============================] - 1s 10ms/step - loss: 0.4202 - accuracy: 0.8645 - val_loss: 0.3434 - val_accuracy: 0.8838\n",
            "Epoch 732/1000\n",
            "83/83 [==============================] - 1s 11ms/step - loss: 0.4144 - accuracy: 0.8659 - val_loss: 0.3500 - val_accuracy: 0.8802\n",
            "Epoch 733/1000\n",
            "83/83 [==============================] - 1s 11ms/step - loss: 0.4182 - accuracy: 0.8648 - val_loss: 0.3566 - val_accuracy: 0.8768\n",
            "Epoch 734/1000\n",
            "83/83 [==============================] - 1s 11ms/step - loss: 0.4113 - accuracy: 0.8674 - val_loss: 0.3431 - val_accuracy: 0.8849\n",
            "Epoch 735/1000\n",
            "83/83 [==============================] - 1s 11ms/step - loss: 0.4161 - accuracy: 0.8654 - val_loss: 0.3438 - val_accuracy: 0.8846\n",
            "Epoch 736/1000\n",
            "83/83 [==============================] - 1s 11ms/step - loss: 0.4166 - accuracy: 0.8659 - val_loss: 0.3447 - val_accuracy: 0.8832\n",
            "Epoch 737/1000\n",
            "83/83 [==============================] - 1s 11ms/step - loss: 0.4168 - accuracy: 0.8648 - val_loss: 0.3472 - val_accuracy: 0.8813\n",
            "Epoch 738/1000\n",
            "83/83 [==============================] - 1s 10ms/step - loss: 0.4148 - accuracy: 0.8662 - val_loss: 0.3456 - val_accuracy: 0.8835\n",
            "Epoch 739/1000\n",
            "83/83 [==============================] - 1s 11ms/step - loss: 0.4190 - accuracy: 0.8634 - val_loss: 0.3450 - val_accuracy: 0.8837\n",
            "Epoch 740/1000\n",
            "83/83 [==============================] - 1s 11ms/step - loss: 0.4174 - accuracy: 0.8639 - val_loss: 0.3439 - val_accuracy: 0.8857\n",
            "Epoch 741/1000\n",
            "83/83 [==============================] - 1s 11ms/step - loss: 0.4163 - accuracy: 0.8647 - val_loss: 0.3468 - val_accuracy: 0.8845\n",
            "Epoch 742/1000\n",
            "83/83 [==============================] - 1s 10ms/step - loss: 0.4183 - accuracy: 0.8652 - val_loss: 0.3584 - val_accuracy: 0.8784\n",
            "Epoch 743/1000\n",
            "83/83 [==============================] - 1s 11ms/step - loss: 0.4202 - accuracy: 0.8638 - val_loss: 0.3443 - val_accuracy: 0.8833\n",
            "Epoch 744/1000\n",
            "83/83 [==============================] - 1s 11ms/step - loss: 0.4137 - accuracy: 0.8662 - val_loss: 0.3436 - val_accuracy: 0.8848\n",
            "Epoch 745/1000\n",
            "83/83 [==============================] - 1s 10ms/step - loss: 0.4097 - accuracy: 0.8669 - val_loss: 0.3491 - val_accuracy: 0.8819\n",
            "Epoch 746/1000\n",
            "83/83 [==============================] - 1s 11ms/step - loss: 0.4171 - accuracy: 0.8654 - val_loss: 0.3457 - val_accuracy: 0.8841\n",
            "Epoch 747/1000\n",
            "83/83 [==============================] - 1s 10ms/step - loss: 0.4113 - accuracy: 0.8664 - val_loss: 0.3439 - val_accuracy: 0.8844\n",
            "Epoch 748/1000\n",
            "83/83 [==============================] - 1s 11ms/step - loss: 0.4123 - accuracy: 0.8671 - val_loss: 0.3426 - val_accuracy: 0.8848\n",
            "Epoch 749/1000\n",
            "83/83 [==============================] - 1s 10ms/step - loss: 0.4200 - accuracy: 0.8658 - val_loss: 0.3448 - val_accuracy: 0.8843\n",
            "Epoch 750/1000\n",
            "83/83 [==============================] - 1s 11ms/step - loss: 0.4109 - accuracy: 0.8656 - val_loss: 0.3411 - val_accuracy: 0.8852\n",
            "Epoch 751/1000\n",
            "83/83 [==============================] - 1s 11ms/step - loss: 0.4079 - accuracy: 0.8684 - val_loss: 0.3502 - val_accuracy: 0.8819\n",
            "Epoch 752/1000\n",
            "83/83 [==============================] - 1s 10ms/step - loss: 0.4104 - accuracy: 0.8678 - val_loss: 0.3418 - val_accuracy: 0.8865\n",
            "Epoch 753/1000\n",
            "83/83 [==============================] - 1s 10ms/step - loss: 0.4138 - accuracy: 0.8674 - val_loss: 0.3439 - val_accuracy: 0.8853\n",
            "Epoch 754/1000\n",
            "83/83 [==============================] - 1s 11ms/step - loss: 0.4131 - accuracy: 0.8658 - val_loss: 0.3477 - val_accuracy: 0.8839\n",
            "Epoch 755/1000\n",
            "83/83 [==============================] - 1s 11ms/step - loss: 0.4139 - accuracy: 0.8666 - val_loss: 0.3445 - val_accuracy: 0.8834\n",
            "Epoch 756/1000\n",
            "83/83 [==============================] - 1s 10ms/step - loss: 0.4143 - accuracy: 0.8654 - val_loss: 0.3556 - val_accuracy: 0.8816\n",
            "Epoch 757/1000\n",
            "83/83 [==============================] - 1s 11ms/step - loss: 0.4136 - accuracy: 0.8666 - val_loss: 0.3415 - val_accuracy: 0.8854\n",
            "Epoch 758/1000\n",
            "83/83 [==============================] - 1s 11ms/step - loss: 0.4134 - accuracy: 0.8663 - val_loss: 0.3417 - val_accuracy: 0.8857\n",
            "Epoch 759/1000\n",
            "83/83 [==============================] - 1s 10ms/step - loss: 0.4118 - accuracy: 0.8658 - val_loss: 0.3428 - val_accuracy: 0.8854\n",
            "Epoch 760/1000\n",
            "83/83 [==============================] - 1s 11ms/step - loss: 0.4097 - accuracy: 0.8676 - val_loss: 0.3429 - val_accuracy: 0.8848\n",
            "Epoch 761/1000\n",
            "83/83 [==============================] - 1s 10ms/step - loss: 0.4109 - accuracy: 0.8681 - val_loss: 0.3410 - val_accuracy: 0.8858\n",
            "Epoch 762/1000\n",
            "83/83 [==============================] - 1s 10ms/step - loss: 0.4093 - accuracy: 0.8681 - val_loss: 0.3421 - val_accuracy: 0.8856\n",
            "Epoch 763/1000\n",
            "83/83 [==============================] - 1s 11ms/step - loss: 0.4095 - accuracy: 0.8670 - val_loss: 0.3405 - val_accuracy: 0.8859\n",
            "Epoch 764/1000\n",
            "83/83 [==============================] - 1s 10ms/step - loss: 0.4053 - accuracy: 0.8679 - val_loss: 0.3416 - val_accuracy: 0.8858\n",
            "Epoch 765/1000\n",
            "83/83 [==============================] - 1s 10ms/step - loss: 0.4085 - accuracy: 0.8661 - val_loss: 0.3515 - val_accuracy: 0.8793\n",
            "Epoch 766/1000\n",
            "83/83 [==============================] - 1s 11ms/step - loss: 0.4112 - accuracy: 0.8673 - val_loss: 0.3423 - val_accuracy: 0.8852\n",
            "Epoch 767/1000\n",
            "83/83 [==============================] - 1s 11ms/step - loss: 0.4120 - accuracy: 0.8672 - val_loss: 0.3434 - val_accuracy: 0.8858\n",
            "Epoch 768/1000\n",
            "83/83 [==============================] - 1s 11ms/step - loss: 0.4097 - accuracy: 0.8670 - val_loss: 0.3403 - val_accuracy: 0.8851\n",
            "Epoch 769/1000\n",
            "83/83 [==============================] - 1s 11ms/step - loss: 0.4069 - accuracy: 0.8686 - val_loss: 0.3399 - val_accuracy: 0.8856\n",
            "Epoch 770/1000\n",
            "83/83 [==============================] - 1s 11ms/step - loss: 0.4123 - accuracy: 0.8664 - val_loss: 0.3430 - val_accuracy: 0.8840\n",
            "Epoch 771/1000\n",
            "83/83 [==============================] - 1s 11ms/step - loss: 0.4109 - accuracy: 0.8689 - val_loss: 0.3430 - val_accuracy: 0.8844\n",
            "Epoch 772/1000\n",
            "83/83 [==============================] - 1s 11ms/step - loss: 0.4078 - accuracy: 0.8677 - val_loss: 0.3404 - val_accuracy: 0.8859\n",
            "Epoch 773/1000\n",
            "83/83 [==============================] - 1s 11ms/step - loss: 0.4067 - accuracy: 0.8695 - val_loss: 0.3409 - val_accuracy: 0.8847\n",
            "Epoch 774/1000\n",
            "83/83 [==============================] - 1s 10ms/step - loss: 0.4011 - accuracy: 0.8713 - val_loss: 0.3431 - val_accuracy: 0.8848\n",
            "Epoch 775/1000\n",
            "83/83 [==============================] - 1s 10ms/step - loss: 0.4105 - accuracy: 0.8659 - val_loss: 0.3407 - val_accuracy: 0.8852\n",
            "Epoch 776/1000\n",
            "83/83 [==============================] - 1s 10ms/step - loss: 0.4079 - accuracy: 0.8685 - val_loss: 0.3504 - val_accuracy: 0.8794\n",
            "Epoch 777/1000\n",
            "83/83 [==============================] - 1s 10ms/step - loss: 0.4040 - accuracy: 0.8693 - val_loss: 0.3399 - val_accuracy: 0.8848\n",
            "Epoch 778/1000\n",
            "83/83 [==============================] - 1s 11ms/step - loss: 0.4109 - accuracy: 0.8676 - val_loss: 0.3400 - val_accuracy: 0.8853\n",
            "Epoch 779/1000\n",
            "83/83 [==============================] - 1s 11ms/step - loss: 0.4092 - accuracy: 0.8663 - val_loss: 0.3431 - val_accuracy: 0.8845\n",
            "Epoch 780/1000\n",
            "83/83 [==============================] - 1s 10ms/step - loss: 0.4073 - accuracy: 0.8668 - val_loss: 0.3421 - val_accuracy: 0.8849\n",
            "Epoch 781/1000\n",
            "83/83 [==============================] - 1s 11ms/step - loss: 0.4073 - accuracy: 0.8703 - val_loss: 0.3402 - val_accuracy: 0.8847\n",
            "Epoch 782/1000\n",
            "83/83 [==============================] - 1s 10ms/step - loss: 0.4036 - accuracy: 0.8693 - val_loss: 0.3391 - val_accuracy: 0.8851\n",
            "Epoch 783/1000\n",
            "83/83 [==============================] - 1s 10ms/step - loss: 0.4074 - accuracy: 0.8688 - val_loss: 0.3436 - val_accuracy: 0.8846\n",
            "Epoch 784/1000\n",
            "83/83 [==============================] - 1s 10ms/step - loss: 0.4070 - accuracy: 0.8689 - val_loss: 0.3396 - val_accuracy: 0.8857\n",
            "Epoch 785/1000\n",
            "83/83 [==============================] - 1s 10ms/step - loss: 0.4070 - accuracy: 0.8699 - val_loss: 0.3433 - val_accuracy: 0.8849\n",
            "Epoch 786/1000\n",
            "83/83 [==============================] - 1s 10ms/step - loss: 0.4060 - accuracy: 0.8687 - val_loss: 0.3381 - val_accuracy: 0.8860\n",
            "Epoch 787/1000\n",
            "83/83 [==============================] - 1s 10ms/step - loss: 0.4020 - accuracy: 0.8714 - val_loss: 0.3382 - val_accuracy: 0.8860\n",
            "Epoch 788/1000\n",
            "83/83 [==============================] - 1s 10ms/step - loss: 0.4031 - accuracy: 0.8695 - val_loss: 0.3408 - val_accuracy: 0.8842\n",
            "Epoch 789/1000\n",
            "83/83 [==============================] - 1s 10ms/step - loss: 0.4032 - accuracy: 0.8695 - val_loss: 0.3405 - val_accuracy: 0.8856\n",
            "Epoch 790/1000\n",
            "83/83 [==============================] - 1s 10ms/step - loss: 0.4038 - accuracy: 0.8692 - val_loss: 0.3453 - val_accuracy: 0.8835\n",
            "Epoch 791/1000\n",
            "83/83 [==============================] - 1s 10ms/step - loss: 0.4021 - accuracy: 0.8706 - val_loss: 0.3390 - val_accuracy: 0.8850\n",
            "Epoch 792/1000\n",
            "83/83 [==============================] - 1s 10ms/step - loss: 0.4066 - accuracy: 0.8680 - val_loss: 0.3387 - val_accuracy: 0.8863\n",
            "Epoch 793/1000\n",
            "83/83 [==============================] - 1s 10ms/step - loss: 0.4048 - accuracy: 0.8698 - val_loss: 0.3387 - val_accuracy: 0.8861\n",
            "Epoch 794/1000\n",
            "83/83 [==============================] - 1s 10ms/step - loss: 0.4026 - accuracy: 0.8700 - val_loss: 0.3537 - val_accuracy: 0.8777\n",
            "Epoch 795/1000\n",
            "83/83 [==============================] - 1s 11ms/step - loss: 0.4125 - accuracy: 0.8688 - val_loss: 0.3385 - val_accuracy: 0.8862\n",
            "Epoch 796/1000\n",
            "83/83 [==============================] - 1s 10ms/step - loss: 0.4013 - accuracy: 0.8691 - val_loss: 0.3385 - val_accuracy: 0.8852\n",
            "Epoch 797/1000\n",
            "83/83 [==============================] - 1s 10ms/step - loss: 0.4019 - accuracy: 0.8697 - val_loss: 0.3755 - val_accuracy: 0.8724\n",
            "Epoch 798/1000\n",
            "83/83 [==============================] - 1s 10ms/step - loss: 0.4023 - accuracy: 0.8710 - val_loss: 0.3434 - val_accuracy: 0.8846\n",
            "Epoch 799/1000\n",
            "83/83 [==============================] - 1s 10ms/step - loss: 0.4105 - accuracy: 0.8681 - val_loss: 0.3404 - val_accuracy: 0.8849\n",
            "Epoch 800/1000\n",
            "83/83 [==============================] - 1s 11ms/step - loss: 0.4060 - accuracy: 0.8667 - val_loss: 0.3431 - val_accuracy: 0.8854\n",
            "Epoch 801/1000\n",
            "83/83 [==============================] - 1s 10ms/step - loss: 0.4015 - accuracy: 0.8695 - val_loss: 0.3393 - val_accuracy: 0.8859\n",
            "Epoch 802/1000\n",
            "83/83 [==============================] - 1s 10ms/step - loss: 0.4047 - accuracy: 0.8694 - val_loss: 0.3398 - val_accuracy: 0.8852\n",
            "Epoch 803/1000\n",
            "83/83 [==============================] - 1s 10ms/step - loss: 0.3988 - accuracy: 0.8699 - val_loss: 0.3392 - val_accuracy: 0.8852\n",
            "Epoch 804/1000\n",
            "83/83 [==============================] - 1s 10ms/step - loss: 0.4046 - accuracy: 0.8697 - val_loss: 0.3418 - val_accuracy: 0.8864\n",
            "Epoch 805/1000\n",
            "83/83 [==============================] - 1s 11ms/step - loss: 0.4047 - accuracy: 0.8693 - val_loss: 0.3381 - val_accuracy: 0.8863\n",
            "Epoch 806/1000\n",
            "83/83 [==============================] - 1s 10ms/step - loss: 0.4015 - accuracy: 0.8707 - val_loss: 0.3382 - val_accuracy: 0.8859\n",
            "Epoch 807/1000\n",
            "83/83 [==============================] - 1s 10ms/step - loss: 0.3981 - accuracy: 0.8724 - val_loss: 0.3374 - val_accuracy: 0.8863\n",
            "Epoch 808/1000\n",
            "83/83 [==============================] - 1s 10ms/step - loss: 0.4000 - accuracy: 0.8717 - val_loss: 0.3392 - val_accuracy: 0.8857\n",
            "Epoch 809/1000\n",
            "83/83 [==============================] - 1s 10ms/step - loss: 0.3992 - accuracy: 0.8705 - val_loss: 0.3387 - val_accuracy: 0.8867\n",
            "Epoch 810/1000\n",
            "83/83 [==============================] - 1s 10ms/step - loss: 0.3994 - accuracy: 0.8715 - val_loss: 0.3409 - val_accuracy: 0.8859\n",
            "Epoch 811/1000\n",
            "83/83 [==============================] - 1s 10ms/step - loss: 0.4034 - accuracy: 0.8692 - val_loss: 0.3370 - val_accuracy: 0.8863\n",
            "Epoch 812/1000\n",
            "83/83 [==============================] - 1s 10ms/step - loss: 0.3978 - accuracy: 0.8717 - val_loss: 0.3371 - val_accuracy: 0.8865\n",
            "Epoch 813/1000\n",
            "83/83 [==============================] - 1s 10ms/step - loss: 0.3968 - accuracy: 0.8700 - val_loss: 0.3393 - val_accuracy: 0.8863\n",
            "Epoch 814/1000\n",
            "83/83 [==============================] - 1s 10ms/step - loss: 0.3962 - accuracy: 0.8730 - val_loss: 0.3409 - val_accuracy: 0.8851\n",
            "Epoch 815/1000\n",
            "83/83 [==============================] - 1s 10ms/step - loss: 0.3994 - accuracy: 0.8717 - val_loss: 0.3436 - val_accuracy: 0.8831\n",
            "Epoch 816/1000\n",
            "83/83 [==============================] - 1s 10ms/step - loss: 0.3998 - accuracy: 0.8710 - val_loss: 0.3423 - val_accuracy: 0.8828\n",
            "Epoch 817/1000\n",
            "83/83 [==============================] - 1s 10ms/step - loss: 0.3997 - accuracy: 0.8706 - val_loss: 0.3386 - val_accuracy: 0.8871\n",
            "Epoch 818/1000\n",
            "83/83 [==============================] - 1s 10ms/step - loss: 0.4010 - accuracy: 0.8705 - val_loss: 0.3389 - val_accuracy: 0.8860\n",
            "Epoch 819/1000\n",
            "83/83 [==============================] - 1s 10ms/step - loss: 0.3944 - accuracy: 0.8730 - val_loss: 0.3481 - val_accuracy: 0.8821\n",
            "Epoch 820/1000\n",
            "83/83 [==============================] - 1s 10ms/step - loss: 0.4043 - accuracy: 0.8697 - val_loss: 0.3426 - val_accuracy: 0.8845\n",
            "Epoch 821/1000\n",
            "83/83 [==============================] - 1s 10ms/step - loss: 0.3978 - accuracy: 0.8712 - val_loss: 0.3416 - val_accuracy: 0.8837\n",
            "Epoch 822/1000\n",
            "83/83 [==============================] - 1s 10ms/step - loss: 0.3992 - accuracy: 0.8717 - val_loss: 0.3418 - val_accuracy: 0.8843\n",
            "Epoch 823/1000\n",
            "83/83 [==============================] - 1s 10ms/step - loss: 0.3933 - accuracy: 0.8730 - val_loss: 0.3386 - val_accuracy: 0.8857\n",
            "Epoch 824/1000\n",
            "83/83 [==============================] - 1s 10ms/step - loss: 0.4026 - accuracy: 0.8713 - val_loss: 0.3426 - val_accuracy: 0.8851\n",
            "Epoch 825/1000\n",
            "83/83 [==============================] - 1s 10ms/step - loss: 0.3985 - accuracy: 0.8697 - val_loss: 0.3371 - val_accuracy: 0.8866\n",
            "Epoch 826/1000\n",
            "83/83 [==============================] - 1s 10ms/step - loss: 0.3977 - accuracy: 0.8722 - val_loss: 0.3363 - val_accuracy: 0.8867\n",
            "Epoch 827/1000\n",
            "83/83 [==============================] - 1s 10ms/step - loss: 0.3975 - accuracy: 0.8716 - val_loss: 0.3528 - val_accuracy: 0.8814\n",
            "Epoch 828/1000\n",
            "83/83 [==============================] - 1s 10ms/step - loss: 0.3973 - accuracy: 0.8718 - val_loss: 0.3365 - val_accuracy: 0.8868\n",
            "Epoch 829/1000\n",
            "83/83 [==============================] - 1s 11ms/step - loss: 0.3971 - accuracy: 0.8720 - val_loss: 0.3400 - val_accuracy: 0.8859\n",
            "Epoch 830/1000\n",
            "83/83 [==============================] - 1s 10ms/step - loss: 0.3998 - accuracy: 0.8720 - val_loss: 0.3384 - val_accuracy: 0.8855\n",
            "Epoch 831/1000\n",
            "83/83 [==============================] - 1s 10ms/step - loss: 0.3926 - accuracy: 0.8727 - val_loss: 0.3361 - val_accuracy: 0.8877\n",
            "Epoch 832/1000\n",
            "83/83 [==============================] - 1s 10ms/step - loss: 0.3966 - accuracy: 0.8708 - val_loss: 0.3362 - val_accuracy: 0.8856\n",
            "Epoch 833/1000\n",
            "83/83 [==============================] - 1s 10ms/step - loss: 0.3934 - accuracy: 0.8722 - val_loss: 0.3475 - val_accuracy: 0.8822\n",
            "Epoch 834/1000\n",
            "83/83 [==============================] - 1s 11ms/step - loss: 0.3929 - accuracy: 0.8736 - val_loss: 0.3406 - val_accuracy: 0.8849\n",
            "Epoch 835/1000\n",
            "83/83 [==============================] - 1s 11ms/step - loss: 0.3972 - accuracy: 0.8710 - val_loss: 0.3468 - val_accuracy: 0.8828\n",
            "Epoch 836/1000\n",
            "83/83 [==============================] - 1s 11ms/step - loss: 0.3979 - accuracy: 0.8719 - val_loss: 0.3364 - val_accuracy: 0.8869\n",
            "Epoch 837/1000\n",
            "83/83 [==============================] - 1s 10ms/step - loss: 0.3955 - accuracy: 0.8733 - val_loss: 0.3365 - val_accuracy: 0.8861\n",
            "Epoch 838/1000\n",
            "83/83 [==============================] - 1s 10ms/step - loss: 0.3900 - accuracy: 0.8727 - val_loss: 0.3364 - val_accuracy: 0.8876\n",
            "Epoch 839/1000\n",
            "83/83 [==============================] - 1s 11ms/step - loss: 0.3925 - accuracy: 0.8733 - val_loss: 0.3368 - val_accuracy: 0.8871\n",
            "Epoch 840/1000\n",
            "83/83 [==============================] - 1s 10ms/step - loss: 0.3952 - accuracy: 0.8720 - val_loss: 0.3375 - val_accuracy: 0.8868\n",
            "Epoch 841/1000\n",
            "83/83 [==============================] - 1s 10ms/step - loss: 0.3933 - accuracy: 0.8723 - val_loss: 0.3387 - val_accuracy: 0.8852\n",
            "Epoch 842/1000\n",
            "83/83 [==============================] - 1s 11ms/step - loss: 0.3967 - accuracy: 0.8710 - val_loss: 0.3356 - val_accuracy: 0.8871\n",
            "Epoch 843/1000\n",
            "83/83 [==============================] - 1s 11ms/step - loss: 0.3937 - accuracy: 0.8721 - val_loss: 0.3384 - val_accuracy: 0.8853\n",
            "Epoch 844/1000\n",
            "83/83 [==============================] - 1s 10ms/step - loss: 0.3979 - accuracy: 0.8713 - val_loss: 0.3403 - val_accuracy: 0.8858\n",
            "Epoch 845/1000\n",
            "83/83 [==============================] - 1s 10ms/step - loss: 0.3952 - accuracy: 0.8734 - val_loss: 0.3418 - val_accuracy: 0.8858\n",
            "Epoch 846/1000\n",
            "83/83 [==============================] - 1s 10ms/step - loss: 0.3926 - accuracy: 0.8728 - val_loss: 0.3387 - val_accuracy: 0.8858\n",
            "Epoch 847/1000\n",
            "83/83 [==============================] - 1s 10ms/step - loss: 0.3983 - accuracy: 0.8724 - val_loss: 0.3369 - val_accuracy: 0.8853\n",
            "Epoch 848/1000\n",
            "83/83 [==============================] - 1s 11ms/step - loss: 0.3917 - accuracy: 0.8743 - val_loss: 0.3374 - val_accuracy: 0.8870\n",
            "Epoch 849/1000\n",
            "83/83 [==============================] - 1s 11ms/step - loss: 0.3923 - accuracy: 0.8735 - val_loss: 0.3356 - val_accuracy: 0.8876\n",
            "Epoch 850/1000\n",
            "83/83 [==============================] - 1s 11ms/step - loss: 0.3896 - accuracy: 0.8728 - val_loss: 0.3382 - val_accuracy: 0.8872\n",
            "Epoch 851/1000\n",
            "83/83 [==============================] - 1s 11ms/step - loss: 0.3909 - accuracy: 0.8731 - val_loss: 0.3353 - val_accuracy: 0.8864\n",
            "Epoch 852/1000\n",
            "83/83 [==============================] - 1s 11ms/step - loss: 0.3961 - accuracy: 0.8718 - val_loss: 0.3464 - val_accuracy: 0.8850\n",
            "Epoch 853/1000\n",
            "83/83 [==============================] - 1s 11ms/step - loss: 0.3926 - accuracy: 0.8747 - val_loss: 0.3358 - val_accuracy: 0.8857\n",
            "Epoch 854/1000\n",
            "83/83 [==============================] - 1s 11ms/step - loss: 0.3899 - accuracy: 0.8735 - val_loss: 0.3346 - val_accuracy: 0.8877\n",
            "Epoch 855/1000\n",
            "83/83 [==============================] - 1s 10ms/step - loss: 0.3898 - accuracy: 0.8741 - val_loss: 0.3382 - val_accuracy: 0.8859\n",
            "Epoch 856/1000\n",
            "83/83 [==============================] - 1s 10ms/step - loss: 0.3961 - accuracy: 0.8723 - val_loss: 0.3415 - val_accuracy: 0.8853\n",
            "Epoch 857/1000\n",
            "83/83 [==============================] - 1s 11ms/step - loss: 0.3933 - accuracy: 0.8735 - val_loss: 0.3397 - val_accuracy: 0.8826\n",
            "Epoch 858/1000\n",
            "83/83 [==============================] - 1s 11ms/step - loss: 0.3938 - accuracy: 0.8724 - val_loss: 0.3335 - val_accuracy: 0.8879\n",
            "Epoch 859/1000\n",
            "83/83 [==============================] - 1s 11ms/step - loss: 0.3974 - accuracy: 0.8718 - val_loss: 0.3335 - val_accuracy: 0.8887\n",
            "Epoch 860/1000\n",
            "83/83 [==============================] - 1s 10ms/step - loss: 0.3897 - accuracy: 0.8750 - val_loss: 0.3652 - val_accuracy: 0.8759\n",
            "Epoch 861/1000\n",
            "83/83 [==============================] - 1s 10ms/step - loss: 0.3941 - accuracy: 0.8728 - val_loss: 0.3393 - val_accuracy: 0.8866\n",
            "Epoch 862/1000\n",
            "83/83 [==============================] - 1s 11ms/step - loss: 0.3954 - accuracy: 0.8713 - val_loss: 0.3955 - val_accuracy: 0.8655\n",
            "Epoch 863/1000\n",
            "83/83 [==============================] - 1s 10ms/step - loss: 0.3998 - accuracy: 0.8703 - val_loss: 0.3377 - val_accuracy: 0.8861\n",
            "Epoch 864/1000\n",
            "83/83 [==============================] - 1s 11ms/step - loss: 0.3931 - accuracy: 0.8735 - val_loss: 0.3375 - val_accuracy: 0.8861\n",
            "Epoch 865/1000\n",
            "83/83 [==============================] - 1s 11ms/step - loss: 0.3927 - accuracy: 0.8736 - val_loss: 0.3361 - val_accuracy: 0.8871\n",
            "Epoch 866/1000\n",
            "83/83 [==============================] - 1s 10ms/step - loss: 0.3911 - accuracy: 0.8734 - val_loss: 0.3362 - val_accuracy: 0.8878\n",
            "Epoch 867/1000\n",
            "83/83 [==============================] - 1s 11ms/step - loss: 0.3884 - accuracy: 0.8754 - val_loss: 0.3450 - val_accuracy: 0.8818\n",
            "Epoch 868/1000\n",
            "83/83 [==============================] - 1s 11ms/step - loss: 0.3876 - accuracy: 0.8771 - val_loss: 0.3346 - val_accuracy: 0.8871\n",
            "Epoch 869/1000\n",
            "83/83 [==============================] - 1s 11ms/step - loss: 0.3930 - accuracy: 0.8740 - val_loss: 0.3348 - val_accuracy: 0.8873\n",
            "Epoch 870/1000\n",
            "83/83 [==============================] - 1s 10ms/step - loss: 0.3884 - accuracy: 0.8752 - val_loss: 0.3375 - val_accuracy: 0.8852\n",
            "Epoch 871/1000\n",
            "83/83 [==============================] - 1s 10ms/step - loss: 0.3873 - accuracy: 0.8750 - val_loss: 0.3612 - val_accuracy: 0.8765\n",
            "Epoch 872/1000\n",
            "83/83 [==============================] - 1s 11ms/step - loss: 0.3898 - accuracy: 0.8726 - val_loss: 0.3343 - val_accuracy: 0.8872\n",
            "Epoch 873/1000\n",
            "83/83 [==============================] - 1s 11ms/step - loss: 0.3878 - accuracy: 0.8748 - val_loss: 0.3345 - val_accuracy: 0.8875\n",
            "Epoch 874/1000\n",
            "83/83 [==============================] - 1s 11ms/step - loss: 0.3881 - accuracy: 0.8753 - val_loss: 0.3372 - val_accuracy: 0.8874\n",
            "Epoch 875/1000\n",
            "83/83 [==============================] - 1s 10ms/step - loss: 0.3902 - accuracy: 0.8767 - val_loss: 0.3902 - val_accuracy: 0.8664\n",
            "Epoch 876/1000\n",
            "83/83 [==============================] - 1s 10ms/step - loss: 0.3927 - accuracy: 0.8730 - val_loss: 0.3349 - val_accuracy: 0.8870\n",
            "Epoch 877/1000\n",
            "83/83 [==============================] - 1s 11ms/step - loss: 0.3932 - accuracy: 0.8738 - val_loss: 0.3446 - val_accuracy: 0.8842\n",
            "Epoch 878/1000\n",
            "83/83 [==============================] - 1s 11ms/step - loss: 0.3868 - accuracy: 0.8737 - val_loss: 0.3352 - val_accuracy: 0.8876\n",
            "Epoch 879/1000\n",
            "83/83 [==============================] - 1s 11ms/step - loss: 0.3835 - accuracy: 0.8742 - val_loss: 0.3383 - val_accuracy: 0.8853\n"
          ]
        }
      ],
      "source": [
        "early_stop_cb = EarlyStopping(\n",
        "    patience=20,\n",
        "    monitor='val_loss',\n",
        "    restore_best_weights=True\n",
        ")\n",
        "\n",
        "history = model.fit(\n",
        "    x_train, y_train,\n",
        "    epochs=1000,\n",
        "    batch_size=512,\n",
        "    shuffle=True,\n",
        "    validation_data=(x_val, y_val),\n",
        "    callbacks=[early_stop_cb]\n",
        ")"
      ]
    },
    {
      "cell_type": "code",
      "execution_count": 413,
      "metadata": {
        "id": "RaeHz1VFKZVM"
      },
      "outputs": [],
      "source": [
        "history_dict = history.history"
      ]
    },
    {
      "cell_type": "markdown",
      "metadata": {
        "id": "5pJ6MDW9CcwX"
      },
      "source": [
        "### 모델 평가"
      ]
    },
    {
      "cell_type": "code",
      "execution_count": 414,
      "metadata": {
        "id": "e4MxgLKOCeL9"
      },
      "outputs": [
        {
          "name": "stdout",
          "output_type": "stream",
          "text": [
            "79/79 [==============================] - 0s 2ms/step - loss: 0.3732 - accuracy: 0.8739\n"
          ]
        },
        {
          "data": {
            "text/plain": [
              "[0.37320664525032043, 0.8738999962806702]"
            ]
          },
          "execution_count": 414,
          "metadata": {},
          "output_type": "execute_result"
        }
      ],
      "source": [
        "model.evaluate(x_test, y_test, batch_size=128)"
      ]
    },
    {
      "cell_type": "markdown",
      "metadata": {
        "id": "8McnnarjV2Tf"
      },
      "source": [
        "### 결과 확인"
      ]
    },
    {
      "cell_type": "code",
      "execution_count": 415,
      "metadata": {
        "id": "7zHvs2FICeHD"
      },
      "outputs": [
        {
          "name": "stdout",
          "output_type": "stream",
          "text": [
            "(28, 28)\n"
          ]
        }
      ],
      "source": [
        "test_img = x_test[0, :, :]\n",
        "\n",
        "print(test_img.shape)"
      ]
    },
    {
      "cell_type": "code",
      "execution_count": 416,
      "metadata": {
        "id": "L9TlZb73CeEj"
      },
      "outputs": [
        {
          "data": {
            "image/png": "[encoded data removed]",
            "text/plain": [
              "<Figure size 640x480 with 1 Axes>"
            ]
          },
          "metadata": {},
          "output_type": "display_data"
        }
      ],
      "source": [
        "plt.title(class_names[y_test[0]])\n",
        "plt.imshow(test_img, cmap='gray')\n",
        "plt.show()"
      ]
    },
    {
      "cell_type": "code",
      "execution_count": 429,
      "metadata": {
        "id": "tLU39hstWLfh"
      },
      "outputs": [
        {
          "name": "stdout",
          "output_type": "stream",
          "text": [
            "1/1 [==============================] - 0s 15ms/step\n"
          ]
        }
      ],
      "source": [
        "pred = model.predict(test_img.reshape(-1, 28, 28))"
      ]
    },
    {
      "cell_type": "code",
      "execution_count": 430,
      "metadata": {
        "id": "VvN3dvdZWXRd"
      },
      "outputs": [
        {
          "data": {
            "text/plain": [
              "(1, 10)"
            ]
          },
          "execution_count": 430,
          "metadata": {},
          "output_type": "execute_result"
        }
      ],
      "source": [
        "pred.shape"
      ]
    },
    {
      "cell_type": "code",
      "execution_count": 431,
      "metadata": {
        "id": "gXCeb-f2WYm1"
      },
      "outputs": [
        {
          "data": {
            "text/plain": [
              "array([[1.6433129e-06, 2.4952274e-06, 9.2797218e-06, 1.0235959e-06,\n",
              "        2.4126359e-06, 6.6879345e-03, 4.3280812e-07, 4.7860030e-02,\n",
              "        7.2664056e-06, 9.4542748e-01]], dtype=float32)"
            ]
          },
          "execution_count": 431,
          "metadata": {},
          "output_type": "execute_result"
        }
      ],
      "source": [
        "pred"
      ]
    },
    {
      "cell_type": "code",
      "execution_count": 434,
      "metadata": {
        "id": "E_7gFZNAWZip"
      },
      "outputs": [
        {
          "data": {
            "text/plain": [
              "'Ankle boot'"
            ]
          },
          "execution_count": 434,
          "metadata": {},
          "output_type": "execute_result"
        }
      ],
      "source": [
        "class_names[np.argmax(pred)]"
      ]
    },
    {
      "cell_type": "markdown",
      "metadata": {
        "id": "MJL5wVZiWqtw"
      },
      "source": [
        "### Test Batch Dataset"
      ]
    },
    {
      "cell_type": "code",
      "execution_count": 435,
      "metadata": {
        "id": "joaO3OqrWxIp"
      },
      "outputs": [
        {
          "name": "stdout",
          "output_type": "stream",
          "text": [
            "(32, 28, 28)\n"
          ]
        }
      ],
      "source": [
        "test_batch = x_test[:32, :, :]\n",
        "test_batch_y = y_test[:32]\n",
        "\n",
        "print(test_batch.shape)"
      ]
    },
    {
      "cell_type": "code",
      "execution_count": 436,
      "metadata": {
        "id": "OxqBhlqXWmXl"
      },
      "outputs": [
        {
          "name": "stdout",
          "output_type": "stream",
          "text": [
            "1/1 [==============================] - 0s 22ms/step\n"
          ]
        },
        {
          "data": {
            "text/plain": [
              "(32, 10)"
            ]
          },
          "execution_count": 436,
          "metadata": {},
          "output_type": "execute_result"
        }
      ],
      "source": [
        "pred = model.predict(test_batch)\n",
        "\n",
        "pred.shape"
      ]
    },
    {
      "cell_type": "code",
      "execution_count": 437,
      "metadata": {
        "id": "5Pgwy4yXW2dt"
      },
      "outputs": [],
      "source": [
        "pred_arg = np.argmax(pred, axis=-1)"
      ]
    },
    {
      "cell_type": "code",
      "execution_count": 441,
      "metadata": {
        "id": "53xdFvATW85m"
      },
      "outputs": [
        {
          "data": {
            "image/png": "[encoded data removed]",
            "text/plain": [
              "<Figure size 2000x1500 with 32 Axes>"
            ]
          },
          "metadata": {},
          "output_type": "display_data"
        }
      ],
      "source": [
        "n_rows = 8\n",
        "n_cols = 4\n",
        "n_imgs = n_rows * n_cols\n",
        "\n",
        "plt.figure(figsize=(20, 15))\n",
        "\n",
        "for i in range(1, n_imgs + 1):\n",
        "    plt.subplot(n_rows, n_cols, i)\n",
        "    if class_names[pred_arg[i - 1]] == class_names[test_batch_y[i - 1]]:\n",
        "        color = 'b'\n",
        "    else:\n",
        "        color = 'r'\n",
        "    plt.title(f\"Predicted: {class_names[pred_arg[i - 1]]}, True: {class_names[test_batch_y[i - 1]]}\", color=color)\n",
        "    plt.imshow(test_batch[i - 1], cmap='gray')\n",
        "\n",
        "plt.show()"
      ]
    }
  ],
  "metadata": {
    "colab": {
      "provenance": []
    },
    "kernelspec": {
      "display_name": "Python 3",
      "name": "python3"
    },
    "language_info": {
      "codemirror_mode": {
        "name": "ipython",
        "version": 3
      },
      "file_extension": ".py",
      "mimetype": "text/x-python",
      "name": "python",
      "nbconvert_exporter": "python",
      "pygments_lexer": "ipython3",
      "version": "3.11.5"
    }
  },
  "nbformat": 4,
  "nbformat_minor": 0
}
