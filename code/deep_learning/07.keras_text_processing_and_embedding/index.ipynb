{
  "cells": [
    {
      "cell_type": "markdown",
      "metadata": {
        "id": "IflaNMlDefSR"
      },
      "source": [
        "# 케라스 텍스트 처리 및 임베딩\n",
        "\n",
        "- 코드 참조: 케라스 창시자에게 배우는 딥러닝\n",
        "\n"
      ]
    },
    {
      "cell_type": "markdown",
      "metadata": {
        "id": "4FUSW6WsehVW"
      },
      "source": [
        "## 용어 설명\n",
        "\n",
        "- `토큰(token)`\n",
        "  - 텍스트를 나누는 단위\n",
        "\n",
        "  - 토큰화(tokenization): 토큰으로 나누는 작업\n",
        "\n",
        "- `n-gram`\n",
        "  - 문장에서 추출한 N개(또는 그 이하)의 연속된 단어 그룹\n",
        "\n",
        "  - 같은 개념이 '문자'에도 적용가능\n",
        "\n",
        "  <img src=\"https://www.sqlservercentral.com/wp-content/uploads/legacy/0bf6a2bd621db172dba029ce3c712280a3f6aab3/29444.jpg\">\n",
        "\n",
        "  <sub>출처: https://www.sqlservercentral.com/articles/nasty-fast-n-grams-part-1-character-level-unigrams</sub>"
      ]
    },
    {
      "cell_type": "markdown",
      "metadata": {
        "id": "7pLA61IbtnZC"
      },
      "source": [
        "## 문자 수준 원-핫 인코딩"
      ]
    },
    {
      "cell_type": "code",
      "execution_count": 1,
      "metadata": {
        "id": "uo2drvFOebkZ"
      },
      "outputs": [],
      "source": [
        "import numpy as np"
      ]
    },
    {
      "cell_type": "code",
      "execution_count": 2,
      "metadata": {
        "id": "h-GllKYStqu3"
      },
      "outputs": [],
      "source": [
        "samples = [\n",
        "    'The cat sat on the mat.',\n",
        "    'The dog ate my homeworks.'\n",
        "]\n",
        "token_idx = {}"
      ]
    },
    {
      "cell_type": "code",
      "execution_count": 3,
      "metadata": {
        "id": "Ot1p-zxItyA6"
      },
      "outputs": [],
      "source": [
        "for sample in samples:\n",
        "    for word in sample.split():\n",
        "        if word not in token_idx:\n",
        "            token_idx[word] = len(token_idx) + 1\n",
        "\n",
        "max_len = 10\n",
        "res = np.zeros(shape=(len(samples), max_len, max(token_idx.values()) + 1))"
      ]
    },
    {
      "cell_type": "code",
      "execution_count": 4,
      "metadata": {
        "id": "l-yNFl8TuKMt"
      },
      "outputs": [
        {
          "data": {
            "text/plain": [
              "array([[[0., 1., 0., 0., 0., 0., 0., 0., 0., 0., 0.],\n",
              "        [0., 0., 1., 0., 0., 0., 0., 0., 0., 0., 0.],\n",
              "        [0., 0., 0., 1., 0., 0., 0., 0., 0., 0., 0.],\n",
              "        [0., 0., 0., 0., 1., 0., 0., 0., 0., 0., 0.],\n",
              "        [0., 0., 0., 0., 0., 1., 0., 0., 0., 0., 0.],\n",
              "        [0., 0., 0., 0., 0., 0., 1., 0., 0., 0., 0.],\n",
              "        [0., 0., 0., 0., 0., 0., 0., 0., 0., 0., 0.],\n",
              "        [0., 0., 0., 0., 0., 0., 0., 0., 0., 0., 0.],\n",
              "        [0., 0., 0., 0., 0., 0., 0., 0., 0., 0., 0.],\n",
              "        [0., 0., 0., 0., 0., 0., 0., 0., 0., 0., 0.]],\n",
              "\n",
              "       [[0., 1., 0., 0., 0., 0., 0., 0., 0., 0., 0.],\n",
              "        [0., 0., 0., 0., 0., 0., 0., 1., 0., 0., 0.],\n",
              "        [0., 0., 0., 0., 0., 0., 0., 0., 1., 0., 0.],\n",
              "        [0., 0., 0., 0., 0., 0., 0., 0., 0., 1., 0.],\n",
              "        [0., 0., 0., 0., 0., 0., 0., 0., 0., 0., 1.],\n",
              "        [0., 0., 0., 0., 0., 0., 0., 0., 0., 0., 0.],\n",
              "        [0., 0., 0., 0., 0., 0., 0., 0., 0., 0., 0.],\n",
              "        [0., 0., 0., 0., 0., 0., 0., 0., 0., 0., 0.],\n",
              "        [0., 0., 0., 0., 0., 0., 0., 0., 0., 0., 0.],\n",
              "        [0., 0., 0., 0., 0., 0., 0., 0., 0., 0., 0.]]])"
            ]
          },
          "execution_count": 4,
          "metadata": {},
          "output_type": "execute_result"
        }
      ],
      "source": [
        "for i, sample in enumerate(samples):\n",
        "    for j, word in list(enumerate(sample.split()))[:max_len]:\n",
        "        idx = token_idx.get(word)\n",
        "        res[i, j, idx] = 1.\n",
        "\n",
        "res"
      ]
    },
    {
      "cell_type": "markdown",
      "metadata": {
        "id": "FTQMJ5f7uicB"
      },
      "source": [
        "## 케라스를 사용한 단어 수준 원-핫 인코딩\n",
        "\n",
        "- `fit_on_texts()`\n",
        "\n",
        "- `texts_to_sequences()`\n",
        "\n",
        "- `texts_to_matrix()`"
      ]
    },
    {
      "cell_type": "code",
      "execution_count": 5,
      "metadata": {
        "id": "yGzuiBqwukx7"
      },
      "outputs": [
        {
          "name": "stderr",
          "output_type": "stream",
          "text": [
            "2024-01-16 14:54:04.015961: E external/local_xla/xla/stream_executor/cuda/cuda_dnn.cc:9261] Unable to register cuDNN factory: Attempting to register factory for plugin cuDNN when one has already been registered\n",
            "2024-01-16 14:54:04.016180: E external/local_xla/xla/stream_executor/cuda/cuda_fft.cc:607] Unable to register cuFFT factory: Attempting to register factory for plugin cuFFT when one has already been registered\n",
            "2024-01-16 14:54:04.022781: E external/local_xla/xla/stream_executor/cuda/cuda_blas.cc:1515] Unable to register cuBLAS factory: Attempting to register factory for plugin cuBLAS when one has already been registered\n",
            "2024-01-16 14:54:04.071853: I tensorflow/core/platform/cpu_feature_guard.cc:182] This TensorFlow binary is optimized to use available CPU instructions in performance-critical operations.\n",
            "To enable the following instructions: AVX2 FMA, in other operations, rebuild TensorFlow with the appropriate compiler flags.\n",
            "2024-01-16 14:54:05.564932: W tensorflow/compiler/tf2tensorrt/utils/py_utils.cc:38] TF-TRT Warning: Could not find TensorRT\n"
          ]
        }
      ],
      "source": [
        "from keras.preprocessing.text import Tokenizer"
      ]
    },
    {
      "cell_type": "code",
      "execution_count": 6,
      "metadata": {
        "id": "2zjbtYPbukvm"
      },
      "outputs": [
        {
          "name": "stdout",
          "output_type": "stream",
          "text": [
            "9\n"
          ]
        }
      ],
      "source": [
        "tokenizer = Tokenizer(num_words=1_000)\n",
        "tokenizer.fit_on_texts(samples)\n",
        "\n",
        "sequences = tokenizer.texts_to_sequences(samples)\n",
        "\n",
        "ohe_res = tokenizer.texts_to_matrix(samples, mode='binary')\n",
        "\n",
        "word_idx = tokenizer.word_index\n",
        "\n",
        "print(len(word_idx))"
      ]
    },
    {
      "cell_type": "code",
      "execution_count": 7,
      "metadata": {
        "id": "akOCIduiy9Be"
      },
      "outputs": [
        {
          "data": {
            "text/plain": [
              "[[1, 2, 3, 4, 1, 5], [1, 6, 7, 8, 9]]"
            ]
          },
          "execution_count": 7,
          "metadata": {},
          "output_type": "execute_result"
        }
      ],
      "source": [
        "sequences"
      ]
    },
    {
      "cell_type": "code",
      "execution_count": 8,
      "metadata": {
        "id": "a9glsKtCzDJZ"
      },
      "outputs": [
        {
          "name": "stdout",
          "output_type": "stream",
          "text": [
            "(2, 1000)\n",
            "[[0. 1. 1. ... 0. 0. 0.]\n",
            " [0. 1. 0. ... 0. 0. 0.]]\n"
          ]
        }
      ],
      "source": [
        "print(ohe_res.shape)\n",
        "print(ohe_res)"
      ]
    },
    {
      "cell_type": "code",
      "execution_count": 9,
      "metadata": {
        "id": "-WkPEXlIvFy9"
      },
      "outputs": [
        {
          "data": {
            "text/plain": [
              "{'the': 1,\n",
              " 'cat': 2,\n",
              " 'sat': 3,\n",
              " 'on': 4,\n",
              " 'mat': 5,\n",
              " 'dog': 6,\n",
              " 'ate': 7,\n",
              " 'my': 8,\n",
              " 'homeworks': 9}"
            ]
          },
          "execution_count": 9,
          "metadata": {},
          "output_type": "execute_result"
        }
      ],
      "source": [
        "word_idx"
      ]
    },
    {
      "cell_type": "markdown",
      "metadata": {
        "id": "0b4thb4_xoJd"
      },
      "source": [
        "### 토큰화 예제\n",
        "\n",
        "- `OOV` : Out of Vocabulary\n",
        "  - 새로운 문장에서 기존에 토큰화한 문장에 존재하지 않으면 OOV로 대체됨"
      ]
    },
    {
      "cell_type": "code",
      "execution_count": 10,
      "metadata": {
        "id": "7SaLoGGXxqb0"
      },
      "outputs": [
        {
          "name": "stdout",
          "output_type": "stream",
          "text": [
            "{'<OOV>': 1, \"i'm\": 2, 'the': 3, 'student': 4, 'smartest': 5, 'best': 6}\n"
          ]
        }
      ],
      "source": [
        "samples = [\n",
        "    \"I'm the smartest student.\",\n",
        "    \"I'm the best student.\"\n",
        "]\n",
        "tokenizer = Tokenizer(num_words=10, oov_token='<OOV>')\n",
        "tokenizer.fit_on_texts(samples)\n",
        "\n",
        "sequences = tokenizer.texts_to_sequences(samples)\n",
        "\n",
        "binary_res = tokenizer.texts_to_matrix(samples, mode='binary')\n",
        "\n",
        "print(tokenizer.word_index)"
      ]
    },
    {
      "cell_type": "code",
      "execution_count": 11,
      "metadata": {
        "id": "TCrxXLIdxqPE"
      },
      "outputs": [
        {
          "data": {
            "text/plain": [
              "array([[0., 0., 1., 1., 1., 1., 0., 0., 0., 0.],\n",
              "       [0., 0., 1., 1., 1., 0., 1., 0., 0., 0.]])"
            ]
          },
          "execution_count": 11,
          "metadata": {},
          "output_type": "execute_result"
        }
      ],
      "source": [
        "binary_res"
      ]
    },
    {
      "cell_type": "markdown",
      "metadata": {
        "id": "dA5--lIu0ReW"
      },
      "source": [
        "테스트"
      ]
    },
    {
      "cell_type": "code",
      "execution_count": 12,
      "metadata": {
        "id": "KVNkjjvx0QIv"
      },
      "outputs": [],
      "source": [
        "test = [\"I'm the fastest student.\"]\n",
        "test_seq = tokenizer.texts_to_sequences(test)"
      ]
    },
    {
      "cell_type": "code",
      "execution_count": 13,
      "metadata": {
        "id": "DbbaoH2E38CX"
      },
      "outputs": [
        {
          "name": "stdout",
          "output_type": "stream",
          "text": [
            "Word Index: {'<OOV>': 1, \"i'm\": 2, 'the': 3, 'student': 4, 'smartest': 5, 'best': 6}\n",
            "Test Text: [\"I'm the fastest student.\"]\n",
            "Test Seq: [[2, 3, 1, 4]]\n"
          ]
        }
      ],
      "source": [
        "print(f\"Word Index: {tokenizer.word_index}\")\n",
        "print(f\"Test Text: {test}\")\n",
        "print(f\"Test Seq: {test_seq}\")"
      ]
    },
    {
      "cell_type": "markdown",
      "metadata": {
        "id": "DJbDRYOmsVhf"
      },
      "source": [
        "## 원-핫 단어 벡터와 단어 임베딩\n",
        "\n",
        "- `원-핫 단어 벡터`\n",
        "  - 데이터가 희소(sparse)\n",
        "\n",
        "  - 고차원\n",
        "\n",
        "- `단어 임베딩`\n",
        "  - 밀집(dense)\n",
        "\n",
        "  - 저차원\n",
        "\n",
        "  <img src=\"https://freecontent.manning.com/wp-content/uploads/Chollet_DLfT_02.png\" width=\"400\">\n",
        "\n",
        "  <sub>출처: https://freecontent.manning.com/deep-learning-for-text/</sub>"
      ]
    },
    {
      "cell_type": "markdown",
      "metadata": {
        "id": "v8czQwhBvcw3"
      },
      "source": [
        "## 단어 임베딩\n",
        "- 단어간 벡터사이의 **거리가 가까운**, 즉 비슷한 단어들끼리 임베딩\n",
        "\n",
        "- 거리 외에 임베딩 공간의 특정 방향도 의미를 가질 수 있음\n",
        "\n",
        "\n",
        "<img src=\"https://miro.medium.com/max/3010/1*OEmWDt4eztOcm5pr2QbxfA.png\">\n",
        "\n",
        "<sub>출처: https://towardsdatascience.com/creating-word-embeddings-coding-the-word2vec-algorithm-in-python-using-deep-learning-b337d0ba17a8</sub>\n"
      ]
    },
    {
      "cell_type": "markdown",
      "metadata": {
        "id": "ziKlhWUK1Wwx"
      },
      "source": [
        "## Embedding Layer\n",
        "\n",
        "- 특정 단어를 나타내는 정수 인덱스를 밀집 벡터(dense vector)로 매핑하는 딕셔너리 레이어\n",
        "\n",
        "- 입력: `(samples, sequence_length)`\n",
        "\n",
        "- 출력: `(samples, sequnece_length, dim)`"
      ]
    },
    {
      "cell_type": "code",
      "execution_count": 14,
      "metadata": {
        "id": "gNiREoxJvTa-"
      },
      "outputs": [],
      "source": [
        "from keras.layers import Embedding"
      ]
    },
    {
      "cell_type": "code",
      "execution_count": 15,
      "metadata": {
        "id": "ULCjEZ5vvTX-"
      },
      "outputs": [
        {
          "data": {
            "text/plain": [
              "<keras.src.layers.core.embedding.Embedding at 0x7f8515f46f50>"
            ]
          },
          "execution_count": 15,
          "metadata": {},
          "output_type": "execute_result"
        }
      ],
      "source": [
        "embedding_layer = Embedding(1_000, 64)\n",
        "\n",
        "embedding_layer"
      ]
    },
    {
      "cell_type": "markdown",
      "metadata": {
        "id": "0T4R-JlP2-6k"
      },
      "source": [
        "## 예제 : IMDB 데이터\n",
        "\n",
        "- 인터넷 영화 데이터베이스(Internet Movie Database)\n",
        "\n",
        "- 양극단의 리뷰 5만개로 이루어진 데이터셋\n",
        "  - 훈련데이터: 25,000개\n",
        "  - 테스트데이터 : 25,000개\n",
        "\n",
        "  <img src=\"https://encrypted-tbn0.gstatic.com/images?q=tbn%3AANd9GcQlk-f2SHB6-Vs3RWwIugMctsyEn2QVZWC5KQ&usqp=CAU\">\n",
        "\n",
        "- https://www.imdb.com/interfaces/"
      ]
    },
    {
      "cell_type": "markdown",
      "metadata": {
        "id": "gxmuXi9L3-O2"
      },
      "source": [
        "### module import"
      ]
    },
    {
      "cell_type": "code",
      "execution_count": 16,
      "metadata": {
        "id": "XrfsUoGS2EVN"
      },
      "outputs": [],
      "source": [
        "from keras.datasets import imdb\n",
        "from keras.models import Sequential\n",
        "from keras.layers import Embedding, Dense, Flatten"
      ]
    },
    {
      "cell_type": "markdown",
      "metadata": {
        "id": "YyMXXlpY4Ajz"
      },
      "source": [
        "### 데이터 로드"
      ]
    },
    {
      "cell_type": "code",
      "execution_count": 17,
      "metadata": {
        "id": "wNnbw2tH2EiP"
      },
      "outputs": [],
      "source": [
        "n_words = 1_000\n",
        "max_len = 20\n",
        "\n",
        "(x_train, y_train), (x_test, y_test) = imdb.load_data(num_words=n_words)"
      ]
    },
    {
      "cell_type": "code",
      "execution_count": 18,
      "metadata": {
        "id": "OGnkPs_U2Ezk"
      },
      "outputs": [
        {
          "name": "stdout",
          "output_type": "stream",
          "text": [
            "(25000,)\n",
            "(25000,)\n",
            "(25000,)\n",
            "(25000,)\n"
          ]
        }
      ],
      "source": [
        "print(x_train.shape)\n",
        "print(y_train.shape)\n",
        "print(x_test.shape)\n",
        "print(y_test.shape)"
      ]
    },
    {
      "cell_type": "markdown",
      "metadata": {
        "id": "bvtDvmuX4_JB"
      },
      "source": [
        "### 데이터 확인\n",
        "- 긍정: 1\n",
        "- 부정: 0"
      ]
    },
    {
      "cell_type": "code",
      "execution_count": 19,
      "metadata": {
        "id": "wFruX-Vp2ExJ"
      },
      "outputs": [
        {
          "name": "stdout",
          "output_type": "stream",
          "text": [
            "[1, 14, 22, 16, 43, 530, 973, 2, 2, 65, 458, 2, 66, 2, 4, 173, 36, 256, 5, 25, 100, 43, 838, 112, 50, 670, 2, 9, 35, 480, 284, 5, 150, 4, 172, 112, 167, 2, 336, 385, 39, 4, 172, 2, 2, 17, 546, 38, 13, 447, 4, 192, 50, 16, 6, 147, 2, 19, 14, 22, 4, 2, 2, 469, 4, 22, 71, 87, 12, 16, 43, 530, 38, 76, 15, 13, 2, 4, 22, 17, 515, 17, 12, 16, 626, 18, 2, 5, 62, 386, 12, 8, 316, 8, 106, 5, 4, 2, 2, 16, 480, 66, 2, 33, 4, 130, 12, 16, 38, 619, 5, 25, 124, 51, 36, 135, 48, 25, 2, 33, 6, 22, 12, 215, 28, 77, 52, 5, 14, 407, 16, 82, 2, 8, 4, 107, 117, 2, 15, 256, 4, 2, 7, 2, 5, 723, 36, 71, 43, 530, 476, 26, 400, 317, 46, 7, 4, 2, 2, 13, 104, 88, 4, 381, 15, 297, 98, 32, 2, 56, 26, 141, 6, 194, 2, 18, 4, 226, 22, 21, 134, 476, 26, 480, 5, 144, 30, 2, 18, 51, 36, 28, 224, 92, 25, 104, 4, 226, 65, 16, 38, 2, 88, 12, 16, 283, 5, 16, 2, 113, 103, 32, 15, 16, 2, 19, 178, 32]\n",
            "1\n"
          ]
        }
      ],
      "source": [
        "print(x_train[0])\n",
        "print(y_train[0])"
      ]
    },
    {
      "cell_type": "code",
      "execution_count": 20,
      "metadata": {
        "id": "xSZ37jXC5qoj"
      },
      "outputs": [
        {
          "name": "stdout",
          "output_type": "stream",
          "text": [
            "긍정 [1, 14, 22, 16, 43, 530, 973, 2, 2, 65, 458, 2, 66, 2, 4, 173, 36, 256, 5, 25, 100, 43, 838, 112, 50, 670, 2, 9, 35, 480, 284, 5, 150, 4, 172, 112, 167, 2, 336, 385, 39, 4, 172, 2, 2, 17, 546, 38, 13, 447, 4, 192, 50, 16, 6, 147, 2, 19, 14, 22, 4, 2, 2, 469, 4, 22, 71, 87, 12, 16, 43, 530, 38, 76, 15, 13, 2, 4, 22, 17, 515, 17, 12, 16, 626, 18, 2, 5, 62, 386, 12, 8, 316, 8, 106, 5, 4, 2, 2, 16, 480, 66, 2, 33, 4, 130, 12, 16, 38, 619, 5, 25, 124, 51, 36, 135, 48, 25, 2, 33, 6, 22, 12, 215, 28, 77, 52, 5, 14, 407, 16, 82, 2, 8, 4, 107, 117, 2, 15, 256, 4, 2, 7, 2, 5, 723, 36, 71, 43, 530, 476, 26, 400, 317, 46, 7, 4, 2, 2, 13, 104, 88, 4, 381, 15, 297, 98, 32, 2, 56, 26, 141, 6, 194, 2, 18, 4, 226, 22, 21, 134, 476, 26, 480, 5, 144, 30, 2, 18, 51, 36, 28, 224, 92, 25, 104, 4, 226, 65, 16, 38, 2, 88, 12, 16, 283, 5, 16, 2, 113, 103, 32, 15, 16, 2, 19, 178, 32]\n",
            "부정 [1, 194, 2, 194, 2, 78, 228, 5, 6, 2, 2, 2, 134, 26, 4, 715, 8, 118, 2, 14, 394, 20, 13, 119, 954, 189, 102, 5, 207, 110, 2, 21, 14, 69, 188, 8, 30, 23, 7, 4, 249, 126, 93, 4, 114, 9, 2, 2, 5, 647, 4, 116, 9, 35, 2, 4, 229, 9, 340, 2, 4, 118, 9, 4, 130, 2, 19, 4, 2, 5, 89, 29, 952, 46, 37, 4, 455, 9, 45, 43, 38, 2, 2, 398, 4, 2, 26, 2, 5, 163, 11, 2, 2, 4, 2, 9, 194, 775, 7, 2, 2, 349, 2, 148, 605, 2, 2, 15, 123, 125, 68, 2, 2, 15, 349, 165, 2, 98, 5, 4, 228, 9, 43, 2, 2, 15, 299, 120, 5, 120, 174, 11, 220, 175, 136, 50, 9, 2, 228, 2, 5, 2, 656, 245, 2, 5, 4, 2, 131, 152, 491, 18, 2, 32, 2, 2, 14, 9, 6, 371, 78, 22, 625, 64, 2, 9, 8, 168, 145, 23, 4, 2, 15, 16, 4, 2, 5, 28, 6, 52, 154, 462, 33, 89, 78, 285, 16, 145, 95]\n",
            "부정 [1, 14, 47, 8, 30, 31, 7, 4, 249, 108, 7, 4, 2, 54, 61, 369, 13, 71, 149, 14, 22, 112, 4, 2, 311, 12, 16, 2, 33, 75, 43, 2, 296, 4, 86, 320, 35, 534, 19, 263, 2, 2, 4, 2, 33, 89, 78, 12, 66, 16, 4, 360, 7, 4, 58, 316, 334, 11, 4, 2, 43, 645, 662, 8, 257, 85, 2, 42, 2, 2, 83, 68, 2, 15, 36, 165, 2, 278, 36, 69, 2, 780, 8, 106, 14, 2, 2, 18, 6, 22, 12, 215, 28, 610, 40, 6, 87, 326, 23, 2, 21, 23, 22, 12, 272, 40, 57, 31, 11, 4, 22, 47, 6, 2, 51, 9, 170, 23, 595, 116, 595, 2, 13, 191, 79, 638, 89, 2, 14, 9, 8, 106, 607, 624, 35, 534, 6, 227, 7, 129, 113]\n",
            "긍정 [1, 4, 2, 2, 33, 2, 4, 2, 432, 111, 153, 103, 4, 2, 13, 70, 131, 67, 11, 61, 2, 744, 35, 2, 761, 61, 2, 452, 2, 4, 985, 7, 2, 59, 166, 4, 105, 216, 2, 41, 2, 9, 15, 7, 35, 744, 2, 31, 8, 4, 687, 23, 4, 2, 2, 6, 2, 42, 38, 39, 121, 59, 456, 10, 10, 7, 265, 12, 575, 111, 153, 159, 59, 16, 2, 21, 25, 586, 482, 39, 4, 96, 59, 716, 12, 4, 172, 65, 9, 579, 11, 2, 4, 2, 5, 2, 7, 2, 17, 13, 2, 12, 19, 6, 464, 31, 314, 11, 2, 6, 719, 605, 11, 8, 202, 27, 310, 4, 2, 2, 8, 2, 58, 10, 10, 537, 2, 180, 40, 14, 413, 173, 7, 263, 112, 37, 152, 377, 4, 537, 263, 846, 579, 178, 54, 75, 71, 476, 36, 413, 263, 2, 182, 5, 17, 75, 2, 922, 36, 279, 131, 2, 17, 2, 42, 17, 35, 921, 2, 192, 5, 2, 2, 19, 2, 217, 2, 2, 537, 2, 2, 5, 736, 10, 10, 61, 403, 9, 2, 40, 61, 2, 5, 27, 2, 159, 90, 263, 2, 2, 309, 8, 178, 5, 82, 2, 4, 65, 15, 2, 145, 143, 2, 12, 2, 537, 746, 537, 537, 15, 2, 4, 2, 594, 7, 2, 94, 2, 2, 2, 11, 2, 4, 538, 7, 2, 246, 2, 9, 2, 11, 635, 14, 9, 51, 408, 12, 94, 318, 2, 12, 47, 6, 2, 936, 5, 2, 2, 19, 49, 7, 4, 2, 2, 2, 25, 80, 126, 842, 10, 10, 2, 2, 2, 27, 2, 11, 2, 2, 159, 27, 341, 29, 2, 19, 2, 173, 7, 90, 2, 8, 30, 11, 4, 2, 86, 2, 8, 2, 46, 11, 2, 21, 29, 9, 2, 23, 4, 2, 2, 793, 6, 2, 2, 2, 10, 10, 246, 50, 9, 6, 2, 2, 746, 90, 29, 2, 8, 124, 4, 882, 4, 882, 496, 27, 2, 2, 537, 121, 127, 2, 130, 5, 29, 494, 8, 124, 4, 882, 496, 4, 341, 7, 27, 846, 10, 10, 29, 9, 2, 8, 97, 6, 236, 2, 2, 8, 4, 2, 7, 31, 7, 2, 91, 2, 2, 70, 4, 882, 30, 579, 42, 9, 12, 32, 11, 537, 10, 10, 11, 14, 65, 44, 537, 75, 2, 2, 2, 2, 2, 4, 2, 7, 154, 5, 4, 518, 53, 2, 2, 7, 2, 882, 11, 399, 38, 75, 257, 2, 19, 2, 17, 29, 456, 4, 65, 7, 27, 205, 113, 10, 10, 2, 4, 2, 2, 9, 242, 4, 91, 2, 2, 5, 2, 307, 22, 7, 2, 126, 93, 40, 2, 13, 188, 2, 2, 19, 4, 2, 7, 2, 537, 23, 53, 537, 21, 82, 40, 2, 13, 2, 14, 280, 13, 219, 4, 2, 431, 758, 859, 4, 953, 2, 2, 7, 2, 5, 94, 40, 25, 238, 60, 2, 4, 2, 804, 2, 7, 4, 2, 132, 8, 67, 6, 22, 15, 9, 283, 8, 2, 14, 31, 9, 242, 955, 48, 25, 279, 2, 23, 12, 2, 195, 25, 238, 60, 796, 2, 4, 671, 7, 2, 5, 4, 559, 154, 888, 7, 726, 50, 26, 49, 2, 15, 566, 30, 579, 21, 64, 2]\n",
            "부정 [1, 249, 2, 7, 61, 113, 10, 10, 13, 2, 14, 20, 56, 33, 2, 18, 457, 88, 13, 2, 2, 45, 2, 13, 70, 79, 49, 706, 919, 13, 16, 355, 340, 355, 2, 96, 143, 4, 22, 32, 289, 7, 61, 369, 71, 2, 5, 13, 16, 131, 2, 249, 114, 249, 229, 249, 20, 13, 28, 126, 110, 13, 473, 8, 569, 61, 419, 56, 429, 6, 2, 18, 35, 534, 95, 474, 570, 5, 25, 124, 138, 88, 12, 421, 2, 52, 725, 2, 61, 419, 11, 13, 2, 15, 2, 20, 11, 4, 2, 5, 296, 12, 2, 5, 15, 421, 128, 74, 233, 334, 207, 126, 224, 12, 562, 298, 2, 2, 7, 2, 5, 516, 988, 43, 8, 79, 120, 15, 595, 13, 784, 25, 2, 18, 165, 170, 143, 19, 14, 5, 2, 6, 226, 251, 7, 61, 113]\n",
            "부정 [1, 778, 128, 74, 12, 630, 163, 15, 4, 2, 2, 2, 2, 32, 85, 156, 45, 40, 148, 139, 121, 664, 665, 10, 10, 2, 173, 4, 749, 2, 16, 2, 8, 4, 226, 65, 12, 43, 127, 24, 2, 10, 10]\n",
            "긍정 [1, 2, 365, 2, 5, 2, 354, 11, 14, 2, 2, 7, 2, 2, 2, 356, 44, 4, 2, 500, 746, 5, 200, 4, 2, 11, 2, 2, 2, 2, 2, 5, 2, 26, 6, 2, 2, 17, 369, 37, 215, 2, 143, 2, 5, 2, 8, 2, 15, 36, 119, 257, 85, 52, 486, 9, 6, 2, 2, 63, 271, 6, 196, 96, 949, 2, 4, 2, 7, 4, 2, 2, 819, 63, 47, 77, 2, 180, 6, 227, 11, 94, 2, 2, 13, 423, 4, 168, 7, 4, 22, 5, 89, 665, 71, 270, 56, 5, 13, 197, 12, 161, 2, 99, 76, 23, 2, 7, 419, 665, 40, 91, 85, 108, 7, 4, 2, 5, 2, 81, 55, 52, 2]\n",
            "부정 [1, 4, 2, 716, 4, 65, 7, 4, 689, 2, 2, 2, 2, 2, 2, 2, 2, 2, 2, 2, 2, 2, 4, 2, 628, 2, 37, 9, 150, 4, 2, 2, 11, 2, 4, 2, 847, 313, 6, 176, 2, 9, 2, 138, 9, 2, 19, 4, 96, 183, 26, 4, 192, 15, 27, 2, 799, 2, 2, 588, 84, 11, 4, 2, 152, 339, 2, 42, 2, 2, 2, 345, 2, 2, 142, 43, 218, 208, 54, 29, 853, 659, 46, 4, 882, 183, 80, 115, 30, 4, 172, 174, 10, 10, 2, 398, 2, 2, 526, 34, 2, 2, 2, 2, 17, 4, 2, 2, 871, 64, 85, 22, 2, 2, 38, 230, 9, 4, 2, 2, 251, 2, 2, 195, 301, 14, 16, 31, 7, 4, 2, 8, 783, 2, 33, 4, 2, 103, 465, 2, 42, 845, 45, 446, 11, 2, 19, 184, 76, 32, 4, 2, 207, 110, 13, 197, 4, 2, 16, 601, 964, 2, 595, 13, 258, 4, 2, 66, 338, 55, 2, 4, 550, 728, 65, 2, 8, 2, 61, 2, 42, 2, 61, 602, 120, 45, 2, 6, 320, 786, 99, 196, 2, 786, 2, 4, 225, 4, 373, 2, 33, 4, 130, 63, 69, 72, 2, 46, 2, 225, 14, 66, 194, 2, 2, 56, 8, 803, 2, 6, 2, 155, 11, 4, 2, 2, 45, 853, 2, 8, 30, 6, 117, 430, 19, 6, 2, 9, 15, 66, 424, 8, 2, 178, 9, 15, 66, 424, 8, 2, 178, 9, 15, 66, 142, 15, 9, 424, 8, 28, 178, 662, 44, 12, 17, 4, 130, 898, 2, 9, 6, 2, 267, 185, 430, 4, 118, 2, 277, 15, 4, 2, 100, 216, 56, 19, 4, 357, 114, 2, 367, 45, 115, 93, 788, 121, 4, 2, 79, 32, 68, 278, 39, 8, 818, 162, 2, 237, 600, 7, 98, 306, 8, 157, 549, 628, 11, 6, 2, 13, 824, 15, 2, 76, 42, 138, 36, 774, 77, 2, 159, 150, 4, 229, 497, 8, 2, 11, 175, 251, 453, 19, 2, 189, 12, 43, 127, 6, 394, 292, 7, 2, 4, 107, 8, 4, 2, 15, 2, 2, 9, 906, 42, 2, 6, 66, 78, 22, 15, 13, 244, 2, 8, 135, 233, 52, 44, 10, 10, 466, 112, 398, 526, 34, 4, 2, 2, 2, 2, 225, 57, 599, 133, 225, 6, 227, 7, 541, 2, 6, 171, 139, 7, 539, 2, 56, 11, 6, 2, 21, 164, 25, 426, 81, 33, 344, 624, 19, 6, 2, 7, 2, 2, 6, 2, 4, 22, 9, 2, 629, 237, 45, 188, 6, 55, 655, 707, 2, 956, 225, 2, 841, 42, 2, 225, 6, 2, 2, 2, 2, 21, 4, 2, 9, 364, 23, 4, 2, 2, 225, 24, 76, 133, 18, 4, 189, 2, 10, 10, 814, 11, 2, 11, 2, 14, 47, 15, 682, 364, 352, 168, 44, 12, 45, 24, 913, 93, 21, 247, 2, 4, 116, 34, 35, 2, 8, 72, 177, 9, 164, 8, 901, 344, 44, 13, 191, 135, 13, 126, 421, 233, 18, 259, 10, 10, 4, 2, 2, 4, 2, 2, 7, 112, 199, 753, 357, 39, 63, 12, 115, 2, 763, 8, 15, 35, 2, 2, 65, 57, 599, 6, 2, 277, 2, 37, 25, 92, 202, 6, 2, 44, 25, 28, 6, 22, 15, 122, 24, 2, 72, 33, 32]\n",
            "긍정 [1, 43, 188, 46, 5, 566, 264, 51, 6, 530, 664, 14, 9, 2, 81, 25, 2, 46, 7, 6, 20, 750, 11, 141, 2, 5, 2, 2, 102, 28, 413, 38, 120, 2, 15, 4, 2, 7, 2, 142, 371, 318, 5, 955, 2, 571, 2, 2, 122, 14, 8, 72, 54, 12, 86, 385, 46, 5, 14, 20, 9, 399, 8, 72, 150, 13, 161, 124, 6, 155, 44, 14, 159, 170, 83, 12, 5, 51, 6, 866, 48, 25, 842, 4, 2, 25, 238, 79, 4, 547, 15, 14, 9, 31, 7, 148, 2, 102, 44, 35, 480, 2, 2, 19, 120, 4, 350, 228, 5, 269, 8, 28, 178, 2, 2, 7, 51, 6, 87, 65, 12, 9, 979, 21, 95, 24, 2, 178, 11, 2, 14, 9, 24, 15, 20, 4, 84, 376, 4, 65, 14, 127, 141, 6, 52, 292, 7, 2, 175, 561, 7, 68, 2, 137, 75, 2, 68, 182, 5, 235, 175, 333, 19, 98, 50, 9, 38, 76, 724, 4, 2, 15, 166, 285, 36, 140, 143, 38, 76, 53, 2, 2, 4, 2, 16, 82, 6, 87, 2, 44, 2, 2, 5, 800, 4, 2, 11, 35, 2, 96, 21, 14, 22, 9, 76, 53, 7, 6, 406, 65, 13, 43, 219, 12, 639, 21, 13, 80, 140, 5, 135, 15, 14, 9, 31, 7, 4, 118, 2, 13, 28, 126, 110]\n",
            "부정 [1, 14, 20, 47, 111, 439, 2, 19, 12, 15, 166, 12, 216, 125, 40, 6, 364, 352, 707, 2, 39, 294, 11, 22, 396, 13, 28, 8, 202, 12, 2, 23, 94, 2, 151, 111, 211, 469, 4, 20, 13, 258, 546, 2, 2, 12, 16, 38, 78, 33, 211, 15, 12, 16, 2, 63, 93, 12, 6, 253, 106, 10, 10, 48, 335, 267, 18, 6, 364, 2, 2, 20, 19, 6, 2, 7, 2, 189, 5, 6, 2, 7, 2, 2, 95, 2, 6, 2, 7, 2, 2, 49, 369, 120, 5, 28, 49, 253, 10, 10, 13, 2, 19, 85, 795, 15, 4, 481, 9, 55, 78, 807, 9, 375, 8, 2, 8, 794, 76, 7, 4, 58, 5, 4, 816, 9, 243, 7, 43, 50]\n"
          ]
        }
      ],
      "source": [
        "for i in range(10):\n",
        "    if y_train[i] == 0:\n",
        "        label = '부정'\n",
        "    else:\n",
        "        label = '긍정'\n",
        "    \n",
        "    print(label, x_train[i])"
      ]
    },
    {
      "cell_type": "markdown",
      "metadata": {
        "id": "WyIx55fz5SzY"
      },
      "source": [
        "### (참고) IMDB 데이터셋에서 가장 많이 사용된 단어"
      ]
    },
    {
      "cell_type": "code",
      "execution_count": 21,
      "metadata": {
        "id": "KvpkbtUV2EwF"
      },
      "outputs": [
        {
          "name": "stdout",
          "output_type": "stream",
          "text": [
            "the\n",
            "and\n",
            "a\n",
            "of\n",
            "to\n"
          ]
        }
      ],
      "source": [
        "word_idx = {}\n",
        "\n",
        "for k, v in imdb.get_word_index().items():\n",
        "    word_idx[v] = k\n",
        "\n",
        "for i in range(1, 6):\n",
        "    print(word_idx[i])"
      ]
    },
    {
      "cell_type": "markdown",
      "metadata": {
        "id": "izJKnVgY7NWl"
      },
      "source": [
        "### 데이터 전처리\n",
        "- 모든 데이터를 같은 길이로 맞추기\n",
        "\n",
        "  - `pad_sequence()`\n",
        "    - 데이터가 maxlen보다 길면 데이터를 자름\n",
        "\n",
        "    - 데이터가 길면 `padding` 설정\n",
        "      - `pre`: 데이터 앞에 0으로 채움\n",
        "      -  `post`: 데이터 뒤에 0으로 채움\n",
        "\n",
        "\n",
        "- 모든 데이터(문장 하나하나)가 같은 길이로 맞춰저야 `Embedding` 레이어를 사용할 수 있음"
      ]
    },
    {
      "cell_type": "code",
      "execution_count": 22,
      "metadata": {
        "id": "oAF2ZRV32Eup"
      },
      "outputs": [],
      "source": [
        "from keras.preprocessing.sequence import pad_sequences"
      ]
    },
    {
      "cell_type": "code",
      "execution_count": 23,
      "metadata": {
        "id": "NOEVDkuD2EqT"
      },
      "outputs": [],
      "source": [
        "pad_x_train = pad_sequences(x_train, maxlen=max_len, padding='pre')\n",
        "pad_x_test = pad_sequences(x_test, maxlen=max_len, padding='pre')"
      ]
    },
    {
      "cell_type": "code",
      "execution_count": 24,
      "metadata": {
        "id": "nwpMCUb92Eoe"
      },
      "outputs": [
        {
          "name": "stdout",
          "output_type": "stream",
          "text": [
            "218\n",
            "20\n"
          ]
        }
      ],
      "source": [
        "print(len(x_train[0]))\n",
        "print(len(pad_x_train[0]))"
      ]
    },
    {
      "cell_type": "code",
      "execution_count": 25,
      "metadata": {
        "id": "RF9sFjn62El8"
      },
      "outputs": [
        {
          "name": "stdout",
          "output_type": "stream",
          "text": [
            "[1, 14, 22, 16, 43, 530, 973, 2, 2, 65, 458, 2, 66, 2, 4, 173, 36, 256, 5, 25, 100, 43, 838, 112, 50, 670, 2, 9, 35, 480, 284, 5, 150, 4, 172, 112, 167, 2, 336, 385, 39, 4, 172, 2, 2, 17, 546, 38, 13, 447, 4, 192, 50, 16, 6, 147, 2, 19, 14, 22, 4, 2, 2, 469, 4, 22, 71, 87, 12, 16, 43, 530, 38, 76, 15, 13, 2, 4, 22, 17, 515, 17, 12, 16, 626, 18, 2, 5, 62, 386, 12, 8, 316, 8, 106, 5, 4, 2, 2, 16, 480, 66, 2, 33, 4, 130, 12, 16, 38, 619, 5, 25, 124, 51, 36, 135, 48, 25, 2, 33, 6, 22, 12, 215, 28, 77, 52, 5, 14, 407, 16, 82, 2, 8, 4, 107, 117, 2, 15, 256, 4, 2, 7, 2, 5, 723, 36, 71, 43, 530, 476, 26, 400, 317, 46, 7, 4, 2, 2, 13, 104, 88, 4, 381, 15, 297, 98, 32, 2, 56, 26, 141, 6, 194, 2, 18, 4, 226, 22, 21, 134, 476, 26, 480, 5, 144, 30, 2, 18, 51, 36, 28, 224, 92, 25, 104, 4, 226, 65, 16, 38, 2, 88, 12, 16, 283, 5, 16, 2, 113, 103, 32, 15, 16, 2, 19, 178, 32]\n",
            "[ 65  16  38   2  88  12  16 283   5  16   2 113 103  32  15  16   2  19\n",
            " 178  32]\n"
          ]
        }
      ],
      "source": [
        "print(x_train[0])\n",
        "print(pad_x_train[0])"
      ]
    },
    {
      "cell_type": "markdown",
      "metadata": {
        "id": "iVSjFumg-TBt"
      },
      "source": [
        "### 모델 구성"
      ]
    },
    {
      "cell_type": "code",
      "execution_count": 26,
      "metadata": {
        "id": "Blq1UZP92Ed4"
      },
      "outputs": [
        {
          "name": "stdout",
          "output_type": "stream",
          "text": [
            "Model: \"sequential\"\n",
            "_________________________________________________________________\n",
            " Layer (type)                Output Shape              Param #   \n",
            "=================================================================\n",
            " embedding_1 (Embedding)     (None, 20, 32)            32000     \n",
            "                                                                 \n",
            " flatten (Flatten)           (None, 640)               0         \n",
            "                                                                 \n",
            " dense (Dense)               (None, 1)                 641       \n",
            "                                                                 \n",
            "=================================================================\n"
          ]
        },
        {
          "name": "stdout",
          "output_type": "stream",
          "text": [
            "Total params: 32641 (127.50 KB)\n",
            "Trainable params: 32641 (127.50 KB)\n",
            "Non-trainable params: 0 (0.00 Byte)\n",
            "_________________________________________________________________\n"
          ]
        },
        {
          "name": "stderr",
          "output_type": "stream",
          "text": [
            "2024-01-16 14:54:11.239234: I external/local_xla/xla/stream_executor/cuda/cuda_executor.cc:887] could not open file to read NUMA node: /sys/bus/pci/devices/0000:23:00.0/numa_node\n",
            "Your kernel may have been built without NUMA support.\n",
            "2024-01-16 14:54:11.585825: I external/local_xla/xla/stream_executor/cuda/cuda_executor.cc:887] could not open file to read NUMA node: /sys/bus/pci/devices/0000:23:00.0/numa_node\n",
            "Your kernel may have been built without NUMA support.\n",
            "2024-01-16 14:54:11.585943: I external/local_xla/xla/stream_executor/cuda/cuda_executor.cc:887] could not open file to read NUMA node: /sys/bus/pci/devices/0000:23:00.0/numa_node\n",
            "Your kernel may have been built without NUMA support.\n",
            "2024-01-16 14:54:11.602641: I external/local_xla/xla/stream_executor/cuda/cuda_executor.cc:887] could not open file to read NUMA node: /sys/bus/pci/devices/0000:23:00.0/numa_node\n",
            "Your kernel may have been built without NUMA support.\n",
            "2024-01-16 14:54:11.602695: I external/local_xla/xla/stream_executor/cuda/cuda_executor.cc:887] could not open file to read NUMA node: /sys/bus/pci/devices/0000:23:00.0/numa_node\n",
            "Your kernel may have been built without NUMA support.\n",
            "2024-01-16 14:54:11.602718: I external/local_xla/xla/stream_executor/cuda/cuda_executor.cc:887] could not open file to read NUMA node: /sys/bus/pci/devices/0000:23:00.0/numa_node\n",
            "Your kernel may have been built without NUMA support.\n",
            "2024-01-16 14:54:11.929506: I external/local_xla/xla/stream_executor/cuda/cuda_executor.cc:887] could not open file to read NUMA node: /sys/bus/pci/devices/0000:23:00.0/numa_node\n",
            "Your kernel may have been built without NUMA support.\n",
            "2024-01-16 14:54:11.929630: I external/local_xla/xla/stream_executor/cuda/cuda_executor.cc:887] could not open file to read NUMA node: /sys/bus/pci/devices/0000:23:00.0/numa_node\n",
            "Your kernel may have been built without NUMA support.\n",
            "2024-01-16 14:54:11.929637: I tensorflow/core/common_runtime/gpu/gpu_device.cc:2022] Could not identify NUMA node of platform GPU id 0, defaulting to 0.  Your kernel may not have been built with NUMA support.\n",
            "2024-01-16 14:54:11.929679: I external/local_xla/xla/stream_executor/cuda/cuda_executor.cc:887] could not open file to read NUMA node: /sys/bus/pci/devices/0000:23:00.0/numa_node\n",
            "Your kernel may have been built without NUMA support.\n",
            "2024-01-16 14:54:11.929745: I tensorflow/core/common_runtime/gpu/gpu_device.cc:1929] Created device /job:localhost/replica:0/task:0/device:GPU:0 with 5606 MB memory:  -> device: 0, name: NVIDIA GeForce RTX 3060 Ti, pci bus id: 0000:23:00.0, compute capability: 8.6\n"
          ]
        }
      ],
      "source": [
        "model = Sequential()\n",
        "\n",
        "model.add(Embedding(input_dim=n_words, output_dim=32, input_length=max_len))\n",
        "model.add(Flatten())\n",
        "model.add(Dense(1, activation='sigmoid'))\n",
        "\n",
        "model.summary()"
      ]
    },
    {
      "cell_type": "markdown",
      "metadata": {
        "id": "H1VqPWEa-m9i"
      },
      "source": [
        "### 모델 컴파일 및 학습"
      ]
    },
    {
      "cell_type": "code",
      "execution_count": 27,
      "metadata": {
        "id": "CEXe_6de2EcK"
      },
      "outputs": [],
      "source": [
        "model.compile(\n",
        "    optimizer='rmsprop',\n",
        "    loss='binary_crossentropy',\n",
        "    metrics=['accuracy']\n",
        ")"
      ]
    },
    {
      "cell_type": "code",
      "execution_count": 28,
      "metadata": {
        "id": "Xr3pegjQ2Eal"
      },
      "outputs": [
        {
          "name": "stdout",
          "output_type": "stream",
          "text": [
            "Epoch 1/20\n"
          ]
        },
        {
          "name": "stderr",
          "output_type": "stream",
          "text": [
            "2024-01-16 14:54:13.087389: I external/local_tsl/tsl/platform/default/subprocess.cc:304] Start cannot spawn child process: No such file or directory\n",
            "2024-01-16 14:54:13.556743: I external/local_xla/xla/service/service.cc:168] XLA service 0x7f84216d4cf0 initialized for platform CUDA (this does not guarantee that XLA will be used). Devices:\n",
            "2024-01-16 14:54:13.556812: I external/local_xla/xla/service/service.cc:176]   StreamExecutor device (0): NVIDIA GeForce RTX 3060 Ti, Compute Capability 8.6\n",
            "2024-01-16 14:54:13.566460: I tensorflow/compiler/mlir/tensorflow/utils/dump_mlir_util.cc:269] disabling MLIR crash reproducer, set env var `MLIR_CRASH_REPRODUCER_DIRECTORY` to enable.\n",
            "2024-01-16 14:54:13.597449: I external/local_xla/xla/stream_executor/cuda/cuda_dnn.cc:454] Loaded cuDNN version 8907\n",
            "WARNING: All log messages before absl::InitializeLog() is called are written to STDERR\n",
            "I0000 00:00:1705384453.663705    6326 device_compiler.h:186] Compiled cluster using XLA!  This line is logged at most once for the lifetime of the process.\n"
          ]
        },
        {
          "name": "stdout",
          "output_type": "stream",
          "text": [
            "625/625 [==============================] - 11s 16ms/step - loss: 0.6397 - accuracy: 0.6460 - val_loss: 0.5700 - val_accuracy: 0.6994\n",
            "Epoch 2/20\n",
            "625/625 [==============================] - 6s 9ms/step - loss: 0.5160 - accuracy: 0.7449 - val_loss: 0.5360 - val_accuracy: 0.7216\n",
            "Epoch 3/20\n",
            "625/625 [==============================] - 5s 9ms/step - loss: 0.4807 - accuracy: 0.7674 - val_loss: 0.5292 - val_accuracy: 0.7330\n",
            "Epoch 4/20\n",
            "625/625 [==============================] - 6s 9ms/step - loss: 0.4590 - accuracy: 0.7816 - val_loss: 0.5316 - val_accuracy: 0.7350\n",
            "Epoch 5/20\n",
            "625/625 [==============================] - 5s 8ms/step - loss: 0.4379 - accuracy: 0.7957 - val_loss: 0.5373 - val_accuracy: 0.7248\n",
            "Epoch 6/20\n",
            "625/625 [==============================] - 5s 8ms/step - loss: 0.4166 - accuracy: 0.8109 - val_loss: 0.5460 - val_accuracy: 0.7240\n",
            "Epoch 7/20\n",
            "625/625 [==============================] - 6s 9ms/step - loss: 0.3954 - accuracy: 0.8252 - val_loss: 0.5585 - val_accuracy: 0.7178\n",
            "Epoch 8/20\n",
            "625/625 [==============================] - 5s 8ms/step - loss: 0.3751 - accuracy: 0.8386 - val_loss: 0.5725 - val_accuracy: 0.7098\n",
            "Epoch 9/20\n",
            "625/625 [==============================] - 5s 8ms/step - loss: 0.3555 - accuracy: 0.8507 - val_loss: 0.5876 - val_accuracy: 0.7074\n",
            "Epoch 10/20\n",
            "625/625 [==============================] - 5s 8ms/step - loss: 0.3371 - accuracy: 0.8607 - val_loss: 0.6048 - val_accuracy: 0.7036\n",
            "Epoch 11/20\n",
            "625/625 [==============================] - 5s 8ms/step - loss: 0.3197 - accuracy: 0.8692 - val_loss: 0.6232 - val_accuracy: 0.7010\n",
            "Epoch 12/20\n",
            "625/625 [==============================] - 5s 8ms/step - loss: 0.3043 - accuracy: 0.8798 - val_loss: 0.6422 - val_accuracy: 0.6980\n",
            "Epoch 13/20\n",
            "625/625 [==============================] - 5s 8ms/step - loss: 0.2892 - accuracy: 0.8871 - val_loss: 0.6619 - val_accuracy: 0.6978\n",
            "Epoch 14/20\n",
            "625/625 [==============================] - 5s 8ms/step - loss: 0.2758 - accuracy: 0.8932 - val_loss: 0.6818 - val_accuracy: 0.6920\n",
            "Epoch 15/20\n",
            "625/625 [==============================] - 5s 8ms/step - loss: 0.2631 - accuracy: 0.8994 - val_loss: 0.7026 - val_accuracy: 0.6874\n",
            "Epoch 16/20\n",
            "625/625 [==============================] - 5s 8ms/step - loss: 0.2515 - accuracy: 0.9056 - val_loss: 0.7258 - val_accuracy: 0.6862\n",
            "Epoch 17/20\n",
            "625/625 [==============================] - 5s 9ms/step - loss: 0.2401 - accuracy: 0.9107 - val_loss: 0.7486 - val_accuracy: 0.6870\n",
            "Epoch 18/20\n",
            "625/625 [==============================] - 5s 8ms/step - loss: 0.2302 - accuracy: 0.9150 - val_loss: 0.7687 - val_accuracy: 0.6822\n",
            "Epoch 19/20\n",
            "625/625 [==============================] - 5s 8ms/step - loss: 0.2206 - accuracy: 0.9185 - val_loss: 0.7940 - val_accuracy: 0.6796\n",
            "Epoch 20/20\n",
            "625/625 [==============================] - 5s 8ms/step - loss: 0.2115 - accuracy: 0.9226 - val_loss: 0.8173 - val_accuracy: 0.6794\n"
          ]
        }
      ],
      "source": [
        "hist = model.fit(\n",
        "    pad_x_train, y_train,\n",
        "    epochs=20,\n",
        "    batch_size=32,\n",
        "    validation_split=.2\n",
        ")"
      ]
    },
    {
      "cell_type": "markdown",
      "metadata": {
        "id": "-gNKkWKP_3c0"
      },
      "source": [
        "### 시각화"
      ]
    },
    {
      "cell_type": "code",
      "execution_count": 29,
      "metadata": {
        "id": "PYKPQO1B_-EJ"
      },
      "outputs": [],
      "source": [
        "import matplotlib.pyplot as plt\n",
        "plt.style.use('seaborn-v0_8-white')"
      ]
    },
    {
      "cell_type": "code",
      "execution_count": 30,
      "metadata": {
        "id": "vMP67mYsAQ9q"
      },
      "outputs": [],
      "source": [
        "hist_dict = hist.history"
      ]
    },
    {
      "cell_type": "code",
      "execution_count": 31,
      "metadata": {
        "id": "d_EjuJva_4YP"
      },
      "outputs": [
        {
          "data": {
            "image/png": "[encoded data removed]",
            "text/plain": [
              "<Figure size 640x480 with 1 Axes>"
            ]
          },
          "metadata": {},
          "output_type": "display_data"
        },
        {
          "data": {
            "image/png": "[encoded data removed]",
            "text/plain": [
              "<Figure size 640x480 with 1 Axes>"
            ]
          },
          "metadata": {},
          "output_type": "display_data"
        }
      ],
      "source": [
        "loss = hist_dict['loss']\n",
        "val_loss = hist_dict['val_loss']\n",
        "accuracy = hist_dict['accuracy']\n",
        "val_accuracy = hist_dict['val_accuracy']\n",
        "epochs = range(1, len(loss) + 1)\n",
        "\n",
        "plt.plot(epochs, loss, 'b-', label='Train Loss')\n",
        "plt.plot(epochs, val_loss, 'r--', label='Validation Loss')\n",
        "plt.grid()\n",
        "plt.legend()\n",
        "\n",
        "plt.figure()\n",
        "plt.plot(epochs, accuracy, 'b-', label='Train Accuracy')\n",
        "plt.plot(epochs, val_accuracy, 'r--', label='Validation Accuracy')\n",
        "plt.grid()\n",
        "plt.legend()\n",
        "\n",
        "plt.show()"
      ]
    },
    {
      "cell_type": "markdown",
      "metadata": {
        "id": "3GtELilA_avO"
      },
      "source": [
        "### 모델 평가"
      ]
    },
    {
      "cell_type": "code",
      "execution_count": 32,
      "metadata": {
        "id": "_U0Dz9je2ESh"
      },
      "outputs": [
        {
          "name": "stdout",
          "output_type": "stream",
          "text": [
            " 18/782 [..............................] - ETA: 4s - loss: 0.8700 - accuracy: 0.6632"
          ]
        },
        {
          "name": "stdout",
          "output_type": "stream",
          "text": [
            "782/782 [==============================] - 4s 5ms/step - loss: 0.8169 - accuracy: 0.6793\n"
          ]
        },
        {
          "data": {
            "text/plain": [
              "[0.8169011473655701, 0.6792799830436707]"
            ]
          },
          "execution_count": 32,
          "metadata": {},
          "output_type": "execute_result"
        }
      ],
      "source": [
        "model.evaluate(pad_x_test, y_test)"
      ]
    },
    {
      "cell_type": "markdown",
      "metadata": {
        "id": "6aJqudd0AwGa"
      },
      "source": [
        "### 단어의 수를 늘린 후 재학습"
      ]
    },
    {
      "cell_type": "code",
      "execution_count": 33,
      "metadata": {
        "id": "C1itQHMDA1hn"
      },
      "outputs": [],
      "source": [
        "n_words = 1_000\n",
        "max_len = 500\n",
        "\n",
        "pad_x_train_2 = pad_sequences(x_train, maxlen=max_len, padding='pre')\n",
        "pad_x_test_2 = pad_sequences(x_test, maxlen=max_len, padding='pre')"
      ]
    },
    {
      "cell_type": "markdown",
      "metadata": {
        "id": "e2WL_yueBibH"
      },
      "source": [
        "데이터 확인"
      ]
    },
    {
      "cell_type": "code",
      "execution_count": 34,
      "metadata": {
        "id": "AydBwyBMA1ku"
      },
      "outputs": [
        {
          "name": "stdout",
          "output_type": "stream",
          "text": [
            "[1, 14, 22, 16, 43, 530, 973, 2, 2, 65, 458, 2, 66, 2, 4, 173, 36, 256, 5, 25, 100, 43, 838, 112, 50, 670, 2, 9, 35, 480, 284, 5, 150, 4, 172, 112, 167, 2, 336, 385, 39, 4, 172, 2, 2, 17, 546, 38, 13, 447, 4, 192, 50, 16, 6, 147, 2, 19, 14, 22, 4, 2, 2, 469, 4, 22, 71, 87, 12, 16, 43, 530, 38, 76, 15, 13, 2, 4, 22, 17, 515, 17, 12, 16, 626, 18, 2, 5, 62, 386, 12, 8, 316, 8, 106, 5, 4, 2, 2, 16, 480, 66, 2, 33, 4, 130, 12, 16, 38, 619, 5, 25, 124, 51, 36, 135, 48, 25, 2, 33, 6, 22, 12, 215, 28, 77, 52, 5, 14, 407, 16, 82, 2, 8, 4, 107, 117, 2, 15, 256, 4, 2, 7, 2, 5, 723, 36, 71, 43, 530, 476, 26, 400, 317, 46, 7, 4, 2, 2, 13, 104, 88, 4, 381, 15, 297, 98, 32, 2, 56, 26, 141, 6, 194, 2, 18, 4, 226, 22, 21, 134, 476, 26, 480, 5, 144, 30, 2, 18, 51, 36, 28, 224, 92, 25, 104, 4, 226, 65, 16, 38, 2, 88, 12, 16, 283, 5, 16, 2, 113, 103, 32, 15, 16, 2, 19, 178, 32]\n",
            "[  0   0   0   0   0   0   0   0   0   0   0   0   0   0   0   0   0   0\n",
            "   0   0   0   0   0   0   0   0   0   0   0   0   0   0   0   0   0   0\n",
            "   0   0   0   0   0   0   0   0   0   0   0   0   0   0   0   0   0   0\n",
            "   0   0   0   0   0   0   0   0   0   0   0   0   0   0   0   0   0   0\n",
            "   0   0   0   0   0   0   0   0   0   0   0   0   0   0   0   0   0   0\n",
            "   0   0   0   0   0   0   0   0   0   0   0   0   0   0   0   0   0   0\n",
            "   0   0   0   0   0   0   0   0   0   0   0   0   0   0   0   0   0   0\n",
            "   0   0   0   0   0   0   0   0   0   0   0   0   0   0   0   0   0   0\n",
            "   0   0   0   0   0   0   0   0   0   0   0   0   0   0   0   0   0   0\n",
            "   0   0   0   0   0   0   0   0   0   0   0   0   0   0   0   0   0   0\n",
            "   0   0   0   0   0   0   0   0   0   0   0   0   0   0   0   0   0   0\n",
            "   0   0   0   0   0   0   0   0   0   0   0   0   0   0   0   0   0   0\n",
            "   0   0   0   0   0   0   0   0   0   0   0   0   0   0   0   0   0   0\n",
            "   0   0   0   0   0   0   0   0   0   0   0   0   0   0   0   0   0   0\n",
            "   0   0   0   0   0   0   0   0   0   0   0   0   0   0   0   0   0   0\n",
            "   0   0   0   0   0   0   0   0   0   0   0   0   1  14  22  16  43 530\n",
            " 973   2   2  65 458   2  66   2   4 173  36 256   5  25 100  43 838 112\n",
            "  50 670   2   9  35 480 284   5 150   4 172 112 167   2 336 385  39   4\n",
            " 172   2   2  17 546  38  13 447   4 192  50  16   6 147   2  19  14  22\n",
            "   4   2   2 469   4  22  71  87  12  16  43 530  38  76  15  13   2   4\n",
            "  22  17 515  17  12  16 626  18   2   5  62 386  12   8 316   8 106   5\n",
            "   4   2   2  16 480  66   2  33   4 130  12  16  38 619   5  25 124  51\n",
            "  36 135  48  25   2  33   6  22  12 215  28  77  52   5  14 407  16  82\n",
            "   2   8   4 107 117   2  15 256   4   2   7   2   5 723  36  71  43 530\n",
            " 476  26 400 317  46   7   4   2   2  13 104  88   4 381  15 297  98  32\n",
            "   2  56  26 141   6 194   2  18   4 226  22  21 134 476  26 480   5 144\n",
            "  30   2  18  51  36  28 224  92  25 104   4 226  65  16  38   2  88  12\n",
            "  16 283   5  16   2 113 103  32  15  16   2  19 178  32]\n"
          ]
        }
      ],
      "source": [
        "print(x_train[0])\n",
        "print(pad_x_train_2[0])"
      ]
    },
    {
      "cell_type": "code",
      "execution_count": 35,
      "metadata": {
        "id": "mK2kQxNUA1eB"
      },
      "outputs": [
        {
          "name": "stdout",
          "output_type": "stream",
          "text": [
            "Model: \"sequential_1\"\n",
            "_________________________________________________________________\n",
            " Layer (type)                Output Shape              Param #   \n",
            "=================================================================\n",
            " embedding_2 (Embedding)     (None, 500, 32)           32000     \n",
            "                                                                 \n",
            " flatten_1 (Flatten)         (None, 16000)             0         \n",
            "                                                                 \n",
            " dense_1 (Dense)             (None, 1)                 16001     \n",
            "                                                                 \n",
            "=================================================================\n",
            "Total params: 48001 (187.50 KB)\n",
            "Trainable params: 48001 (187.50 KB)\n",
            "Non-trainable params: 0 (0.00 Byte)\n",
            "_________________________________________________________________\n"
          ]
        }
      ],
      "source": [
        "model = Sequential()\n",
        "\n",
        "model.add(Embedding(input_dim=n_words, output_dim=32, input_length=max_len))\n",
        "model.add(Flatten())\n",
        "model.add(Dense(1, activation='sigmoid'))\n",
        "\n",
        "model.summary()\n",
        "\n",
        "model.compile(\n",
        "    loss='binary_crossentropy',\n",
        "    optimizer='rmsprop',\n",
        "    metrics=['accuracy']\n",
        ")"
      ]
    },
    {
      "cell_type": "code",
      "execution_count": 36,
      "metadata": {
        "id": "I5BK5HXnBtIN"
      },
      "outputs": [
        {
          "name": "stdout",
          "output_type": "stream",
          "text": [
            "Epoch 1/20\n"
          ]
        },
        {
          "name": "stdout",
          "output_type": "stream",
          "text": [
            "625/625 [==============================] - 18s 28ms/step - loss: 0.5362 - accuracy: 0.7216 - val_loss: 0.3704 - val_accuracy: 0.8426\n",
            "Epoch 2/20\n",
            "625/625 [==============================] - 6s 10ms/step - loss: 0.3213 - accuracy: 0.8619 - val_loss: 0.3324 - val_accuracy: 0.8600\n",
            "Epoch 3/20\n",
            "625/625 [==============================] - 6s 10ms/step - loss: 0.2713 - accuracy: 0.8889 - val_loss: 0.3375 - val_accuracy: 0.8548\n",
            "Epoch 4/20\n",
            "625/625 [==============================] - 6s 10ms/step - loss: 0.2306 - accuracy: 0.9093 - val_loss: 0.3448 - val_accuracy: 0.8536\n",
            "Epoch 5/20\n",
            "625/625 [==============================] - 6s 9ms/step - loss: 0.1912 - accuracy: 0.9296 - val_loss: 0.3637 - val_accuracy: 0.8480\n",
            "Epoch 6/20\n",
            "625/625 [==============================] - 6s 10ms/step - loss: 0.1528 - accuracy: 0.9485 - val_loss: 0.3958 - val_accuracy: 0.8436\n",
            "Epoch 7/20\n",
            "625/625 [==============================] - 5s 9ms/step - loss: 0.1203 - accuracy: 0.9629 - val_loss: 0.4153 - val_accuracy: 0.8394\n",
            "Epoch 8/20\n",
            "625/625 [==============================] - 6s 9ms/step - loss: 0.0930 - accuracy: 0.9744 - val_loss: 0.4461 - val_accuracy: 0.8366\n",
            "Epoch 9/20\n",
            "625/625 [==============================] - 5s 9ms/step - loss: 0.0702 - accuracy: 0.9837 - val_loss: 0.4797 - val_accuracy: 0.8332\n",
            "Epoch 10/20\n",
            "625/625 [==============================] - 6s 10ms/step - loss: 0.0517 - accuracy: 0.9893 - val_loss: 0.5288 - val_accuracy: 0.8286\n",
            "Epoch 11/20\n",
            "625/625 [==============================] - 5s 9ms/step - loss: 0.0373 - accuracy: 0.9934 - val_loss: 0.5605 - val_accuracy: 0.8250\n",
            "Epoch 12/20\n",
            "625/625 [==============================] - 5s 8ms/step - loss: 0.0266 - accuracy: 0.9955 - val_loss: 0.6065 - val_accuracy: 0.8232\n",
            "Epoch 13/20\n",
            "625/625 [==============================] - 5s 9ms/step - loss: 0.0188 - accuracy: 0.9972 - val_loss: 0.6493 - val_accuracy: 0.8258\n",
            "Epoch 14/20\n",
            "625/625 [==============================] - 5s 8ms/step - loss: 0.0131 - accuracy: 0.9984 - val_loss: 0.6925 - val_accuracy: 0.8216\n",
            "Epoch 15/20\n",
            "625/625 [==============================] - 5s 9ms/step - loss: 0.0090 - accuracy: 0.9991 - val_loss: 0.7414 - val_accuracy: 0.8194\n",
            "Epoch 16/20\n",
            "625/625 [==============================] - 5s 7ms/step - loss: 0.0065 - accuracy: 0.9995 - val_loss: 0.7790 - val_accuracy: 0.8214\n",
            "Epoch 17/20\n",
            "625/625 [==============================] - 5s 8ms/step - loss: 0.0046 - accuracy: 0.9996 - val_loss: 0.8104 - val_accuracy: 0.8214\n",
            "Epoch 18/20\n",
            "625/625 [==============================] - 5s 8ms/step - loss: 0.0035 - accuracy: 0.9997 - val_loss: 0.8474 - val_accuracy: 0.8208\n",
            "Epoch 19/20\n",
            "625/625 [==============================] - 5s 8ms/step - loss: 0.0026 - accuracy: 0.9997 - val_loss: 0.8754 - val_accuracy: 0.8214\n",
            "Epoch 20/20\n",
            "625/625 [==============================] - 5s 8ms/step - loss: 0.0020 - accuracy: 0.9998 - val_loss: 0.9043 - val_accuracy: 0.8170\n"
          ]
        }
      ],
      "source": [
        "hist_2 = model.fit(\n",
        "    pad_x_train_2, y_train,\n",
        "    epochs=20,\n",
        "    batch_size=32,\n",
        "    validation_split=.2\n",
        ")"
      ]
    },
    {
      "cell_type": "code",
      "execution_count": 37,
      "metadata": {
        "id": "odClZim0Bs-O"
      },
      "outputs": [],
      "source": [
        "hist_dict_2 = hist_2.history"
      ]
    },
    {
      "cell_type": "code",
      "execution_count": 38,
      "metadata": {
        "id": "rVPTlmjZB--j"
      },
      "outputs": [
        {
          "data": {
            "image/png": "[encoded data removed]",
            "text/plain": [
              "<Figure size 640x480 with 1 Axes>"
            ]
          },
          "metadata": {},
          "output_type": "display_data"
        },
        {
          "data": {
            "image/png": "[encoded data removed]",
            "text/plain": [
              "<Figure size 640x480 with 1 Axes>"
            ]
          },
          "metadata": {},
          "output_type": "display_data"
        }
      ],
      "source": [
        "loss = hist_dict_2['loss']\n",
        "val_loss = hist_dict_2['val_loss']\n",
        "accuracy = hist_dict_2['accuracy']\n",
        "val_accuracy = hist_dict_2['val_accuracy']\n",
        "epochs = range(1, len(loss) + 1)\n",
        "\n",
        "plt.plot(epochs, loss, 'b-', label='Train Loss')\n",
        "plt.plot(epochs, val_loss, 'r--', label='Validation Loss')\n",
        "plt.grid()\n",
        "plt.legend()\n",
        "\n",
        "plt.figure()\n",
        "plt.plot(epochs, accuracy, 'b-', label='Train Accuracy')\n",
        "plt.plot(epochs, val_accuracy, 'r--', label='Validation Accuracy')\n",
        "plt.grid()\n",
        "plt.legend()\n",
        "\n",
        "plt.show()"
      ]
    },
    {
      "cell_type": "code",
      "execution_count": 39,
      "metadata": {
        "id": "mZ5WbSX_CHUa"
      },
      "outputs": [
        {
          "name": "stdout",
          "output_type": "stream",
          "text": [
            "782/782 [==============================] - 4s 5ms/step - loss: 0.9017 - accuracy: 0.8177\n"
          ]
        },
        {
          "data": {
            "text/plain": [
              "[0.9017248153686523, 0.8176800012588501]"
            ]
          },
          "execution_count": 39,
          "metadata": {},
          "output_type": "execute_result"
        }
      ],
      "source": [
        "model.evaluate(pad_x_test_2, y_test)"
      ]
    },
    {
      "cell_type": "markdown",
      "metadata": {
        "id": "6I0C5ueK73_g"
      },
      "source": [
        "위의 결과도 나쁘지 않으나 과적합이 되는 이유\n",
        "- 단어간 관계나 문장 구조 등 의미적 연결을 고려하지 않음\n",
        "\n",
        "- 시퀀스 전체를 고려한 특성을 학습하는 것은 `Embedding`층 위에 `RNN`층이나 `1D 합성곱`을 추가하는 것이 좋음\n"
      ]
    },
    {
      "cell_type": "markdown",
      "metadata": {
        "id": "Ta_Ktilw73_h"
      },
      "source": [
        "## 단어 임베딩의 종류\n",
        "- LSA\n",
        "\n",
        "- Word2Vec\n",
        "\n",
        "- GloVe\n",
        "\n",
        "- FastText\n",
        "\n",
        "- etc..\n",
        "\n",
        "<!-- ## 사전 훈련된 모델\n",
        "https://github.com/Hironsan/awesome-embedding-models#pre-trained-word-vectors -->"
      ]
    },
    {
      "cell_type": "markdown",
      "metadata": {
        "id": "ud_-PnE873_h"
      },
      "source": [
        "## Word2Vec\n",
        "\n",
        "- 2013년, Mikolov 와 동료들이 제안한 모형\n",
        "\n",
        "- 분류 등과 같이 별도의 레이블이 없이 텍스트 자체만 있어도 학습이 가능\n",
        "\n",
        "- Word2Vec의 방식  \n",
        "  주변 단어의 관계를 이용\n",
        "\n",
        "  - CBOW(continuous bag-of-words)\n",
        "    - 주변단어의 임베딩을 더해서 대상단어를 예측\n",
        "\n",
        "  - Skip-Gram\n",
        "    - 대상 단어의 임베딩으로 주변단어를 예측\n",
        "\n",
        "    - 일반적으로 CBOW보다 성능이 좋은 편\n",
        "\n",
        "    - 한번에 여러 단어를 예측해야하기 때문에 비효율적  \n",
        "      최근에는 **negative sampling**이라는 방법을 사용\n",
        "\n",
        "  <img src=\"https://www.researchgate.net/publication/328160770/figure/fig14/AS:679665089925122@1539056193562/CBOW-and-Skip-Gram-neural-architectures.ppm\">\n",
        "\n",
        "  <sub>출처: https://www.researchgate.net/figure/CBOW-and-Skip-Gram-neural-architectures_fig14_328160770</sub>"
      ]
    },
    {
      "cell_type": "markdown",
      "metadata": {
        "id": "IImEBTAw73_h"
      },
      "source": [
        "### 구텐베르크 프로젝트 예제\n",
        "- 코드 출처 : http://doc.mindscale.kr/km/unstructured/11.html"
      ]
    },
    {
      "cell_type": "code",
      "execution_count": 40,
      "metadata": {
        "id": "O3HdJU7973_h"
      },
      "outputs": [],
      "source": [
        "import requests\n",
        "import re"
      ]
    },
    {
      "cell_type": "markdown",
      "metadata": {
        "id": "Ww3UwfBu73_j"
      },
      "source": [
        "### 데이터 다운로드"
      ]
    },
    {
      "cell_type": "code",
      "execution_count": 41,
      "metadata": {
        "id": "I3OVWgzq73_j"
      },
      "outputs": [
        {
          "data": {
            "text/plain": [
              "<Response [200]>"
            ]
          },
          "execution_count": 41,
          "metadata": {},
          "output_type": "execute_result"
        }
      ],
      "source": [
        "res = requests.get('https://www.gutenberg.org/files/2591/2591-0.txt')\n",
        "\n",
        "res"
      ]
    },
    {
      "cell_type": "markdown",
      "metadata": {
        "id": "GWq3UXrb73_k"
      },
      "source": [
        "### 데이터 전처리"
      ]
    },
    {
      "cell_type": "code",
      "execution_count": 42,
      "metadata": {
        "id": "0gUUDrZ273_l"
      },
      "outputs": [],
      "source": [
        "grimm = res.text[2801:530661]\n",
        "grimm = re.sub(r'[^a-zA-Z\\. ]', ' ', grimm)\n",
        "sentences = grimm.split('. ')\n",
        "data = [s.split() for s in sentences]"
      ]
    },
    {
      "cell_type": "code",
      "execution_count": 43,
      "metadata": {
        "id": "z-L4XE5m73_n"
      },
      "outputs": [
        {
          "data": {
            "text/plain": [
              "3468"
            ]
          },
          "execution_count": 43,
          "metadata": {},
          "output_type": "execute_result"
        }
      ],
      "source": [
        "len(data)"
      ]
    },
    {
      "cell_type": "code",
      "execution_count": 44,
      "metadata": {
        "id": "AKvPelJI73_p"
      },
      "outputs": [
        {
          "data": {
            "text/plain": [
              "['SECOND',\n",
              " 'STORY',\n",
              " 'THE',\n",
              " 'SALAD',\n",
              " 'THE',\n",
              " 'STORY',\n",
              " 'OF',\n",
              " 'THE',\n",
              " 'YOUTH',\n",
              " 'WHO',\n",
              " 'WENT',\n",
              " 'FORTH',\n",
              " 'TO',\n",
              " 'LEARN',\n",
              " 'WHAT',\n",
              " 'FEAR',\n",
              " 'WAS',\n",
              " 'KING',\n",
              " 'GRISLY',\n",
              " 'BEARD',\n",
              " 'IRON',\n",
              " 'HANS',\n",
              " 'CAT',\n",
              " 'SKIN',\n",
              " 'SNOW',\n",
              " 'WHITE',\n",
              " 'AND',\n",
              " 'ROSE',\n",
              " 'RED',\n",
              " 'THE',\n",
              " 'BROTHERS',\n",
              " 'GRIMM',\n",
              " 'FAIRY',\n",
              " 'TALES',\n",
              " 'THE',\n",
              " 'GOLDEN',\n",
              " 'BIRD',\n",
              " 'A',\n",
              " 'certain',\n",
              " 'king',\n",
              " 'had',\n",
              " 'a',\n",
              " 'beautiful',\n",
              " 'garden',\n",
              " 'and',\n",
              " 'in',\n",
              " 'the',\n",
              " 'garden',\n",
              " 'stood',\n",
              " 'a',\n",
              " 'tree',\n",
              " 'which',\n",
              " 'bore',\n",
              " 'golden',\n",
              " 'apples']"
            ]
          },
          "execution_count": 44,
          "metadata": {},
          "output_type": "execute_result"
        }
      ],
      "source": [
        "data[0]"
      ]
    },
    {
      "cell_type": "markdown",
      "metadata": {
        "id": "DtGbFupQ73_q"
      },
      "source": [
        "`gensim` 패키지로부터 WordVec을 불러오기"
      ]
    },
    {
      "cell_type": "code",
      "execution_count": 46,
      "metadata": {
        "id": "B_DpKzfb73_r"
      },
      "outputs": [],
      "source": [
        "from gensim.models.word2vec import Word2Vec"
      ]
    },
    {
      "cell_type": "markdown",
      "metadata": {
        "id": "Qetkdwa_73_s"
      },
      "source": [
        "`sg` 인자에 0을 넘겨주면 CBOW, 1을 넘겨주면 Skip-gram"
      ]
    },
    {
      "cell_type": "code",
      "execution_count": 48,
      "metadata": {
        "id": "tAHpdmW173_s"
      },
      "outputs": [],
      "source": [
        "model = Word2Vec(data, sg=1, vector_size=100, window=3, min_count=3, workers=6)"
      ]
    },
    {
      "cell_type": "markdown",
      "metadata": {
        "id": "PAbHRstj73_v"
      },
      "source": [
        "### 모델 저장 및 로드"
      ]
    },
    {
      "cell_type": "code",
      "execution_count": 49,
      "metadata": {
        "id": "y-Quf97y73_v"
      },
      "outputs": [],
      "source": [
        "model.save('word2vec.model')"
      ]
    },
    {
      "cell_type": "code",
      "execution_count": 50,
      "metadata": {
        "id": "JT46WXaj73_x"
      },
      "outputs": [],
      "source": [
        "pretrained_model = Word2Vec.load('word2vec.model')"
      ]
    },
    {
      "cell_type": "markdown",
      "metadata": {
        "id": "eAaiFUId73_0"
      },
      "source": [
        "### 단어를 벡터로 변환\n",
        "- `wv`"
      ]
    },
    {
      "cell_type": "code",
      "execution_count": 51,
      "metadata": {
        "id": "-p-jlF8373_0"
      },
      "outputs": [
        {
          "data": {
            "text/plain": [
              "array([-1.96972102e-01,  2.93415546e-01, -1.42673403e-01,  1.42581493e-01,\n",
              "       -1.78197137e-04, -3.19089442e-01,  1.35436609e-01,  5.64237893e-01,\n",
              "       -2.44576082e-01, -2.21375674e-01,  8.53089914e-02, -3.13549131e-01,\n",
              "       -3.64211239e-02,  8.43344405e-02,  4.21407819e-02, -2.50086427e-01,\n",
              "        9.54920873e-02, -2.01311395e-01, -1.57430142e-01, -1.82602808e-01,\n",
              "        1.76090986e-01,  1.47445992e-01,  2.69611865e-01, -1.05564721e-01,\n",
              "        5.39880618e-02,  2.29685358e-03, -2.61862278e-02, -4.04753685e-02,\n",
              "       -4.54379730e-02, -9.63444561e-02,  1.64876636e-02, -1.03701890e-01,\n",
              "        1.26466960e-01, -2.09004804e-01, -1.56163782e-01,  2.13271886e-01,\n",
              "        6.23586848e-02, -7.04408139e-02, -3.24011333e-02, -1.60203651e-01,\n",
              "        3.37441899e-02, -1.02743596e-01, -1.43938949e-02,  2.82738600e-02,\n",
              "        8.70607346e-02,  3.19070108e-02, -2.85452828e-02, -1.25008494e-01,\n",
              "        2.13152736e-01, -4.59480174e-02,  8.79350752e-02, -5.62898479e-02,\n",
              "       -5.84548451e-02, -1.58044592e-01,  1.70771673e-01,  4.98082861e-02,\n",
              "        1.33415535e-01,  5.51154371e-03, -1.80417120e-01,  7.66437054e-02,\n",
              "       -3.30331624e-02,  1.47642335e-02,  2.05992281e-01, -1.79475740e-01,\n",
              "       -2.27498859e-01,  1.15973368e-01,  4.87549677e-02,  4.14030105e-01,\n",
              "       -2.15242386e-01,  2.43360192e-01, -8.33089352e-02,  7.03747720e-02,\n",
              "        1.66925550e-01, -6.70849979e-02,  2.90615499e-01, -8.74374658e-02,\n",
              "       -1.49967447e-02,  3.24905366e-02, -9.45339575e-02,  4.38213348e-02,\n",
              "       -2.77683496e-01,  4.75097820e-02, -1.88860625e-01,  1.68491423e-01,\n",
              "       -1.11399159e-01, -3.02613173e-02,  4.03977521e-02,  1.75209776e-01,\n",
              "        7.22919330e-02, -5.22185583e-03,  9.14952531e-02,  5.78535497e-02,\n",
              "       -4.63334508e-02,  3.90858613e-02,  1.76724628e-01,  1.49800643e-01,\n",
              "        2.15240568e-03, -1.13858983e-01, -1.63162202e-01, -1.40212104e-01],\n",
              "      dtype=float32)"
            ]
          },
          "execution_count": 51,
          "metadata": {},
          "output_type": "execute_result"
        }
      ],
      "source": [
        "pretrained_model.wv['princess']"
      ]
    },
    {
      "cell_type": "markdown",
      "metadata": {
        "id": "zF1Ud2VK73_2"
      },
      "source": [
        "### 유추 또는 유비(analogy)\n",
        "- `wv.similarity()`에 두 단어를 넘겨주면 코사인 유사도를 구할 수 있음"
      ]
    },
    {
      "cell_type": "code",
      "execution_count": 52,
      "metadata": {
        "id": "n6EZcuj_73_2"
      },
      "outputs": [
        {
          "data": {
            "text/plain": [
              "0.8395141"
            ]
          },
          "execution_count": 52,
          "metadata": {},
          "output_type": "execute_result"
        }
      ],
      "source": [
        "pretrained_model.wv.similarity('king', 'prince')"
      ]
    },
    {
      "cell_type": "markdown",
      "metadata": {
        "id": "VvlbGf_k73_4"
      },
      "source": [
        "- `wv.most_similar()`에 단어를 넘겨주면 가장 유사한 단어를 추출할 수 있음"
      ]
    },
    {
      "cell_type": "code",
      "execution_count": 53,
      "metadata": {
        "id": "uNz_ajtS73_4"
      },
      "outputs": [
        {
          "data": {
            "text/plain": [
              "[('son', 0.9344686269760132),\n",
              " ('daughter', 0.9257616400718689),\n",
              " ('woman', 0.9029670357704163),\n",
              " ('man', 0.8837988972663879),\n",
              " ('queen', 0.8781893849372864),\n",
              " ('next', 0.863976776599884),\n",
              " ('miller', 0.8626882433891296),\n",
              " ('fox', 0.8610942363739014),\n",
              " ('wolf', 0.8585749268531799),\n",
              " ('cook', 0.851102888584137)]"
            ]
          },
          "execution_count": 53,
          "metadata": {},
          "output_type": "execute_result"
        }
      ],
      "source": [
        "pretrained_model.wv.most_similar('king')"
      ]
    },
    {
      "cell_type": "markdown",
      "metadata": {
        "id": "CvyIH-g-73_7"
      },
      "source": [
        "- `wv_most_similar()`에 `positive`와 `negative`라는 옵션을 넘길 수 있음"
      ]
    },
    {
      "cell_type": "code",
      "execution_count": 54,
      "metadata": {
        "id": "ty6Dhte-73_7"
      },
      "outputs": [
        {
          "data": {
            "text/plain": [
              "[('bird', 0.9675449132919312),\n",
              " ('prince', 0.9632386565208435),\n",
              " ('cat', 0.9590631723403931),\n",
              " ('mouse', 0.9582046866416931),\n",
              " ('youth', 0.9543573260307312),\n",
              " ('dog', 0.9539681077003479),\n",
              " ('eldest', 0.9522969722747803),\n",
              " ('peasant', 0.952035129070282),\n",
              " ('miller', 0.9499207735061646),\n",
              " ('boy', 0.9495090842247009)]"
            ]
          },
          "execution_count": 54,
          "metadata": {},
          "output_type": "execute_result"
        }
      ],
      "source": [
        "pretrained_model.wv.most_similar(positive=['man', 'princess'], negative=['woman'])"
      ]
    },
    {
      "cell_type": "markdown",
      "metadata": {
        "id": "xOpA5Aaa73_9"
      },
      "source": [
        "### gensim으로 학습된 단어 임베딩을 Keras에서 불러오기"
      ]
    },
    {
      "cell_type": "code",
      "execution_count": 55,
      "metadata": {
        "id": "k7QqtHhC73_9"
      },
      "outputs": [],
      "source": [
        "from keras.models import Sequential\n",
        "from keras.layers import Embedding"
      ]
    },
    {
      "cell_type": "code",
      "execution_count": 57,
      "metadata": {
        "id": "G9LrBGOw73_-"
      },
      "outputs": [
        {
          "name": "stdout",
          "output_type": "stream",
          "text": [
            "2446 100\n"
          ]
        }
      ],
      "source": [
        "n_words, emb_dim = pretrained_model.wv.vectors.shape\n",
        "\n",
        "print(n_words, emb_dim)"
      ]
    },
    {
      "cell_type": "markdown",
      "metadata": {
        "id": "ui9L8Nn574AA"
      },
      "source": [
        "### gensim으로 학습된 단어 임베딩을 케라스의 임베딩 레이어의 가중치로 설정"
      ]
    },
    {
      "cell_type": "code",
      "execution_count": 58,
      "metadata": {
        "id": "59oRg3bU74AA"
      },
      "outputs": [],
      "source": [
        "emb = Embedding(input_dim=n_words, output_dim=emb_dim, trainable=False, weights=[pretrained_model.wv.vectors])"
      ]
    },
    {
      "cell_type": "code",
      "execution_count": 60,
      "metadata": {
        "id": "cH7X-lB_74AC"
      },
      "outputs": [],
      "source": [
        "model = Sequential()\n",
        "model.add(emb)"
      ]
    },
    {
      "cell_type": "code",
      "execution_count": 61,
      "metadata": {
        "id": "kQFXfXdY74AE"
      },
      "outputs": [
        {
          "name": "stdout",
          "output_type": "stream",
          "text": [
            "Model: \"sequential_3\"\n",
            "_________________________________________________________________\n",
            " Layer (type)                Output Shape              Param #   \n",
            "=================================================================\n",
            " embedding_3 (Embedding)     (None, None, 100)         244600    \n",
            "                                                                 \n",
            "=================================================================\n",
            "Total params: 244600 (955.47 KB)\n",
            "Trainable params: 0 (0.00 Byte)\n",
            "Non-trainable params: 244600 (955.47 KB)\n",
            "_________________________________________________________________\n"
          ]
        }
      ],
      "source": [
        "model.summary()"
      ]
    },
    {
      "cell_type": "code",
      "execution_count": 64,
      "metadata": {
        "id": "X4cQ79h874AH"
      },
      "outputs": [],
      "source": [
        "i = pretrained_model.wv.index_to_key.index('princess')"
      ]
    },
    {
      "cell_type": "code",
      "execution_count": 66,
      "metadata": {
        "id": "XvlxA7lL74AL"
      },
      "outputs": [
        {
          "name": "stdout",
          "output_type": "stream",
          "text": [
            "1/1 [==============================] - 0s 82ms/step\n"
          ]
        },
        {
          "data": {
            "text/plain": [
              "array([[-1.96972102e-01,  2.93415546e-01, -1.42673403e-01,\n",
              "         1.42581493e-01, -1.78197137e-04, -3.19089442e-01,\n",
              "         1.35436609e-01,  5.64237893e-01, -2.44576082e-01,\n",
              "        -2.21375674e-01,  8.53089914e-02, -3.13549131e-01,\n",
              "        -3.64211239e-02,  8.43344405e-02,  4.21407819e-02,\n",
              "        -2.50086427e-01,  9.54920873e-02, -2.01311395e-01,\n",
              "        -1.57430142e-01, -1.82602808e-01,  1.76090986e-01,\n",
              "         1.47445992e-01,  2.69611865e-01, -1.05564721e-01,\n",
              "         5.39880618e-02,  2.29685358e-03, -2.61862278e-02,\n",
              "        -4.04753685e-02, -4.54379730e-02, -9.63444561e-02,\n",
              "         1.64876636e-02, -1.03701890e-01,  1.26466960e-01,\n",
              "        -2.09004804e-01, -1.56163782e-01,  2.13271886e-01,\n",
              "         6.23586848e-02, -7.04408139e-02, -3.24011333e-02,\n",
              "        -1.60203651e-01,  3.37441899e-02, -1.02743596e-01,\n",
              "        -1.43938949e-02,  2.82738600e-02,  8.70607346e-02,\n",
              "         3.19070108e-02, -2.85452828e-02, -1.25008494e-01,\n",
              "         2.13152736e-01, -4.59480174e-02,  8.79350752e-02,\n",
              "        -5.62898479e-02, -5.84548451e-02, -1.58044592e-01,\n",
              "         1.70771673e-01,  4.98082861e-02,  1.33415535e-01,\n",
              "         5.51154371e-03, -1.80417120e-01,  7.66437054e-02,\n",
              "        -3.30331624e-02,  1.47642335e-02,  2.05992281e-01,\n",
              "        -1.79475740e-01, -2.27498859e-01,  1.15973368e-01,\n",
              "         4.87549677e-02,  4.14030105e-01, -2.15242386e-01,\n",
              "         2.43360192e-01, -8.33089352e-02,  7.03747720e-02,\n",
              "         1.66925550e-01, -6.70849979e-02,  2.90615499e-01,\n",
              "        -8.74374658e-02, -1.49967447e-02,  3.24905366e-02,\n",
              "        -9.45339575e-02,  4.38213348e-02, -2.77683496e-01,\n",
              "         4.75097820e-02, -1.88860625e-01,  1.68491423e-01,\n",
              "        -1.11399159e-01, -3.02613173e-02,  4.03977521e-02,\n",
              "         1.75209776e-01,  7.22919330e-02, -5.22185583e-03,\n",
              "         9.14952531e-02,  5.78535497e-02, -4.63334508e-02,\n",
              "         3.90858613e-02,  1.76724628e-01,  1.49800643e-01,\n",
              "         2.15240568e-03, -1.13858983e-01, -1.63162202e-01,\n",
              "        -1.40212104e-01]], dtype=float32)"
            ]
          },
          "execution_count": 66,
          "metadata": {},
          "output_type": "execute_result"
        }
      ],
      "source": [
        "model.predict([i])"
      ]
    },
    {
      "cell_type": "markdown",
      "metadata": {
        "id": "LabagywRwG25"
      },
      "source": [
        "## Keras에서 Word2Vec 직접 학습\n",
        "- 코드 출처 : http://doc.mindscale.kr/km/unstructured/11.html"
      ]
    },
    {
      "cell_type": "markdown",
      "metadata": {
        "id": "DYKQ4bBOwN7v"
      },
      "source": [
        "### 데이터 준비"
      ]
    },
    {
      "cell_type": "code",
      "execution_count": 67,
      "metadata": {
        "id": "iAAM9mxWwMaw"
      },
      "outputs": [],
      "source": [
        "from keras.datasets import imdb"
      ]
    },
    {
      "cell_type": "code",
      "execution_count": 68,
      "metadata": {
        "id": "YaVg4BojwMfG"
      },
      "outputs": [],
      "source": [
        "(x_train, y_train), (x_test, y_test) = imdb.load_data()"
      ]
    },
    {
      "cell_type": "markdown",
      "metadata": {
        "id": "Fk5L0JTOwhjW"
      },
      "source": [
        "- 단어 번호와 단어의 관계를 사전으로 만듦\n",
        "\n",
        "- 1번은 문장의 시작, 2번은 사전에 없는 단어(OOV)로 미리 지정"
      ]
    },
    {
      "cell_type": "code",
      "execution_count": 69,
      "metadata": {
        "id": "8z0ZJDXIwNBZ"
      },
      "outputs": [],
      "source": [
        "word_idx = imdb.get_word_index()"
      ]
    },
    {
      "cell_type": "code",
      "execution_count": 70,
      "metadata": {
        "id": "-yChdBdPwNXJ"
      },
      "outputs": [],
      "source": [
        "idx_word = {idx + 3: word for word, idx in word_idx.items()}"
      ]
    },
    {
      "cell_type": "code",
      "execution_count": 71,
      "metadata": {
        "id": "91eKCMmAwNUC"
      },
      "outputs": [],
      "source": [
        "idx_word[1] = '<STRART>'\n",
        "idx_word[2] = '<UNKNOWN>'"
      ]
    },
    {
      "cell_type": "code",
      "execution_count": 72,
      "metadata": {
        "id": "Y__1WJwRwNPv"
      },
      "outputs": [
        {
          "data": {
            "text/plain": [
              "\"<STRART> this film was just brilliant casting location scenery story direction everyone's really suited the part they played and you could just imagine being there robert redford's is an amazing actor and now the same being director norman's father came from the same scottish island as myself so i loved the fact there was a real connection with this film the witty remarks throughout the film were great it was just brilliant so much that i bought the film as soon as it was released for retail and would recommend it to everyone to watch and the fly fishing was amazing really cried at the end it was so sad and you know what they say if you cry at a film it must have been good and this definitely was also congratulations to the two little boy's that played the part's of norman and paul they were just brilliant children are often left out of the praising list i think because the stars that play them all grown up are such a big profile for the whole film but these children are amazing and should be praised for what they have done don't you think the whole story was so lovely because it was true and was someone's life after all that was shared with us all\""
            ]
          },
          "execution_count": 72,
          "metadata": {},
          "output_type": "execute_result"
        }
      ],
      "source": [
        "' '.join(idx_word[i] for i in x_train[0])"
      ]
    },
    {
      "cell_type": "code",
      "execution_count": 74,
      "metadata": {
        "id": "NTegr1CcwNNZ"
      },
      "outputs": [],
      "source": [
        "n_words = max(idx_word) + 1"
      ]
    },
    {
      "cell_type": "markdown",
      "metadata": {
        "id": "mMALXKTqwwiC"
      },
      "source": [
        "### 텍스트를 단어 번호로 바꾸기"
      ]
    },
    {
      "cell_type": "code",
      "execution_count": 75,
      "metadata": {
        "id": "xeN_pdjQwNJ_"
      },
      "outputs": [],
      "source": [
        "texts = []\n",
        "\n",
        "for data in x_train:\n",
        "    text = ' '.join(idx_word[i] for i in data)\n",
        "    texts.append(text)"
      ]
    },
    {
      "cell_type": "code",
      "execution_count": 76,
      "metadata": {
        "id": "hUS0FSYhwNFv"
      },
      "outputs": [
        {
          "data": {
            "text/plain": [
              "25000"
            ]
          },
          "execution_count": 76,
          "metadata": {},
          "output_type": "execute_result"
        }
      ],
      "source": [
        "len(texts)"
      ]
    },
    {
      "cell_type": "markdown",
      "metadata": {
        "id": "NbYuIJsDw_oE"
      },
      "source": [
        "- `Tokenizer`를 사용해 텍스트를 단어로 바꿈"
      ]
    },
    {
      "cell_type": "code",
      "execution_count": 77,
      "metadata": {
        "id": "gLZpRTuWwM6V"
      },
      "outputs": [],
      "source": [
        "from keras.preprocessing.text import Tokenizer"
      ]
    },
    {
      "cell_type": "code",
      "execution_count": 79,
      "metadata": {
        "id": "D6Z1SZGcwM4P"
      },
      "outputs": [
        {
          "name": "stdout",
          "output_type": "stream",
          "text": [
            "[29, 11, 19, 13, 41, 527, 969, 1619, 1382, 63, 456, 4450, 64, 3931, 1, 171, 34, 254, 2, 22, 98, 41, 836, 110, 48, 668, 21906, 6, 33, 478, 282, 2, 148, 1, 170, 110, 165, 20599, 334, 383, 37, 1, 170, 4518, 1106, 14, 544, 36, 10, 445, 1, 190, 48, 13, 3, 145, 2017, 16, 11, 19, 1, 1907, 4589, 467, 1, 19, 69, 85, 9, 13, 41, 527, 36, 74, 12, 10, 1245, 1, 19, 14, 513, 14, 9, 13, 623, 15, 18511, 2, 60, 384, 9, 5, 314, 5, 104, 2, 1, 2219, 5230, 13, 478, 64, 3766, 31, 1, 128, 9, 13, 36, 615, 2, 22, 122, 49, 34, 133, 45, 22, 1409, 31, 3, 19, 9, 213, 25, 75, 50, 2, 11, 405, 13, 80, 10308, 5, 1, 105, 115, 5925, 12, 254, 1, 30569, 4, 3735, 2, 721, 34, 69, 41, 527, 474, 23, 397, 315, 44, 4, 1, 11927, 1026, 10, 102, 86, 1, 379, 12, 295, 96, 30, 2065, 54, 23, 139, 3, 192, 7477, 15, 1, 224, 19, 18, 132, 474, 23, 478, 2, 142, 27, 5515, 15, 49, 34, 25, 222, 90, 22, 102, 1, 224, 63, 13, 36, 1332, 86, 9, 13, 281, 2, 13, 4451, 111, 101, 30, 12, 13, 5341, 16, 176, 30]\n"
          ]
        }
      ],
      "source": [
        "tok = Tokenizer()\n",
        "tok.fit_on_texts(texts)\n",
        "\n",
        "new_data = tok.texts_to_sequences(texts)\n",
        "\n",
        "print(new_data[0])"
      ]
    },
    {
      "cell_type": "code",
      "execution_count": 80,
      "metadata": {
        "id": "M8KjcGjXwM1b"
      },
      "outputs": [
        {
          "name": "stdout",
          "output_type": "stream",
          "text": [
            "[1, 14, 22, 16, 43, 530, 973, 1622, 1385, 65, 458, 4468, 66, 3941, 4, 173, 36, 256, 5, 25, 100, 43, 838, 112, 50, 670, 22665, 9, 35, 480, 284, 5, 150, 4, 172, 112, 167, 21631, 336, 385, 39, 4, 172, 4536, 1111, 17, 546, 38, 13, 447, 4, 192, 50, 16, 6, 147, 2025, 19, 14, 22, 4, 1920, 4613, 469, 4, 22, 71, 87, 12, 16, 43, 530, 38, 76, 15, 13, 1247, 4, 22, 17, 515, 17, 12, 16, 626, 18, 19193, 5, 62, 386, 12, 8, 316, 8, 106, 5, 4, 2223, 5244, 16, 480, 66, 3785, 33, 4, 130, 12, 16, 38, 619, 5, 25, 124, 51, 36, 135, 48, 25, 1415, 33, 6, 22, 12, 215, 28, 77, 52, 5, 14, 407, 16, 82, 10311, 8, 4, 107, 117, 5952, 15, 256, 4, 31050, 7, 3766, 5, 723, 36, 71, 43, 530, 476, 26, 400, 317, 46, 7, 4, 12118, 1029, 13, 104, 88, 4, 381, 15, 297, 98, 32, 2071, 56, 26, 141, 6, 194, 7486, 18, 4, 226, 22, 21, 134, 476, 26, 480, 5, 144, 30, 5535, 18, 51, 36, 28, 224, 92, 25, 104, 4, 226, 65, 16, 38, 1334, 88, 12, 16, 283, 5, 16, 4472, 113, 103, 32, 15, 16, 5345, 19, 178, 32]\n"
          ]
        }
      ],
      "source": [
        "print(x_train[0])"
      ]
    },
    {
      "cell_type": "markdown",
      "metadata": {
        "id": "F3GI6tWsxOW4"
      },
      "source": [
        "### 단어쌍 만들기"
      ]
    },
    {
      "cell_type": "code",
      "execution_count": 81,
      "metadata": {
        "id": "3E26bWQpwMzM"
      },
      "outputs": [],
      "source": [
        "from keras.preprocessing.sequence import make_sampling_table, skipgrams"
      ]
    },
    {
      "cell_type": "code",
      "execution_count": 84,
      "metadata": {
        "id": "0CWgz6BhwMwT"
      },
      "outputs": [
        {
          "name": "stdout",
          "output_type": "stream",
          "text": [
            "88582\n"
          ]
        }
      ],
      "source": [
        "VOCAB_SIZE = len(tok.word_index)\n",
        "\n",
        "print(VOCAB_SIZE)"
      ]
    },
    {
      "cell_type": "markdown",
      "metadata": {
        "id": "lZei9Z6dxUfq"
      },
      "source": [
        "- 단어를 무작위로 추출하면 자주 나오는 단어가 더 많이 나오게됨\n",
        "\n",
        "- 이를 방지하기위해 단어를 추출할 확률의 균형을 맞춘 샘플링 표를 생성"
      ]
    },
    {
      "cell_type": "code",
      "execution_count": 85,
      "metadata": {
        "id": "Hrq-4NLIwMtW"
      },
      "outputs": [],
      "source": [
        "table = make_sampling_table(VOCAB_SIZE)"
      ]
    },
    {
      "cell_type": "markdown",
      "metadata": {
        "id": "DTSq3M6jxhkm"
      },
      "source": [
        "- 두 단어씩 뽑아 좌우 2단어(`window_size=2`)안에 들어있는 경우가 있는지 없는지 확인하여 데이터를 생성"
      ]
    },
    {
      "cell_type": "code",
      "execution_count": 86,
      "metadata": {
        "id": "D6-bDT9YwMrG"
      },
      "outputs": [],
      "source": [
        "couples, labels = skipgrams(data, VOCAB_SIZE, 2, sampling_table=table)"
      ]
    },
    {
      "cell_type": "code",
      "execution_count": 87,
      "metadata": {
        "id": "_oeEFedSxnQE"
      },
      "outputs": [
        {
          "data": {
            "text/plain": [
              "[[699, 77751], [16923, 5], [272, 21360], [12255, 2098], [9685, 2878]]"
            ]
          },
          "execution_count": 87,
          "metadata": {},
          "output_type": "execute_result"
        }
      ],
      "source": [
        "couples[:5]"
      ]
    },
    {
      "cell_type": "markdown",
      "metadata": {
        "id": "TvAwr1p-xqpj"
      },
      "source": [
        "- `labels`에는 윈도우 안에 들어있는 경우가 있으면 1, 없으면 0"
      ]
    },
    {
      "cell_type": "code",
      "execution_count": 88,
      "metadata": {
        "id": "DiPr7jT4wMoO"
      },
      "outputs": [
        {
          "data": {
            "text/plain": [
              "[0, 1, 0, 1, 0]"
            ]
          },
          "execution_count": 88,
          "metadata": {},
          "output_type": "execute_result"
        }
      ],
      "source": [
        "labels[:5]"
      ]
    },
    {
      "cell_type": "markdown",
      "metadata": {
        "id": "zjthr4cNxweK"
      },
      "source": [
        "- 대상 단어는 `word_context`으로, 맥락 단어는 `word_context`로 모음"
      ]
    },
    {
      "cell_type": "code",
      "execution_count": 89,
      "metadata": {
        "id": "qgS6eHs6wMlC"
      },
      "outputs": [],
      "source": [
        "word_target, word_context = zip(*couples)"
      ]
    },
    {
      "cell_type": "markdown",
      "metadata": {
        "id": "7UV4xAnHx3Va"
      },
      "source": [
        "- 배열로 바꾼다."
      ]
    },
    {
      "cell_type": "code",
      "execution_count": 90,
      "metadata": {
        "id": "GZCjveJnwMK_"
      },
      "outputs": [],
      "source": [
        "word_target = np.asarray(word_target, dtype='int32')\n",
        "word_context = np.asarray(word_context, dtype='int32')\n",
        "labels = np.asarray(labels, dtype='int32')"
      ]
    },
    {
      "cell_type": "code",
      "execution_count": 91,
      "metadata": {
        "id": "nG9C3Hh-05Cs"
      },
      "outputs": [
        {
          "data": {
            "text/plain": [
              "(208,)"
            ]
          },
          "execution_count": 91,
          "metadata": {},
          "output_type": "execute_result"
        }
      ],
      "source": [
        "word_target.shape"
      ]
    },
    {
      "cell_type": "code",
      "execution_count": 92,
      "metadata": {
        "id": "b0qHTB8p07_8"
      },
      "outputs": [
        {
          "data": {
            "text/plain": [
              "(208,)"
            ]
          },
          "execution_count": 92,
          "metadata": {},
          "output_type": "execute_result"
        }
      ],
      "source": [
        "word_context.shape"
      ]
    },
    {
      "cell_type": "markdown",
      "metadata": {
        "id": "TUuQwrXox8RL"
      },
      "source": [
        "### Skip-gram 모형\n",
        "\n",
        "- Skip-gram 모형은 함수형 API를 사용해야 함"
      ]
    },
    {
      "cell_type": "code",
      "execution_count": 94,
      "metadata": {
        "id": "a9CKMy83yBxR"
      },
      "outputs": [],
      "source": [
        "from keras.layers import Activation, Dot, Embedding, Flatten, Input, Reshape\n",
        "from keras.models import Model"
      ]
    },
    {
      "cell_type": "code",
      "execution_count": 97,
      "metadata": {
        "id": "8lF-kveeyBue"
      },
      "outputs": [],
      "source": [
        "def build_model():\n",
        "    input_target = Input(shape=(1, ))\n",
        "    input_context = Input(shape=(1, ))\n",
        "\n",
        "    emb = Embedding(input_dim=VOCAB_SIZE, output_dim=8)\n",
        "    target = emb(input_target)\n",
        "    context = emb(input_context)\n",
        "\n",
        "    dot = Dot(axes=2)([target, context])\n",
        "    flatten = Reshape((1, ))(dot)\n",
        "    output = Activation('sigmoid')(flatten)\n",
        "    skipgram = Model(inputs=[input_target, input_context], outputs=output)\n",
        "\n",
        "    return skipgram"
      ]
    },
    {
      "cell_type": "code",
      "execution_count": 98,
      "metadata": {
        "id": "e2Fc8rddyBsV"
      },
      "outputs": [
        {
          "name": "stdout",
          "output_type": "stream",
          "text": [
            "Model: \"model\"\n",
            "__________________________________________________________________________________________________\n",
            " Layer (type)                Output Shape                 Param #   Connected to                  \n",
            "==================================================================================================\n",
            " input_3 (InputLayer)        [(None, 1)]                  0         []                            \n",
            "                                                                                                  \n",
            " input_4 (InputLayer)        [(None, 1)]                  0         []                            \n",
            "                                                                                                  \n",
            " embedding_4 (Embedding)     (None, 1, 8)                 708656    ['input_3[0][0]',             \n",
            "                                                                     'input_4[0][0]']             \n",
            "                                                                                                  \n",
            " dot (Dot)                   (None, 1, 1)                 0         ['embedding_4[0][0]',         \n",
            "                                                                     'embedding_4[1][0]']         \n",
            "                                                                                                  \n",
            " reshape (Reshape)           (None, 1)                    0         ['dot[0][0]']                 \n",
            "                                                                                                  \n",
            " activation (Activation)     (None, 1)                    0         ['reshape[0][0]']             \n",
            "                                                                                                  \n",
            "==================================================================================================\n",
            "Total params: 708656 (2.70 MB)\n",
            "Trainable params: 708656 (2.70 MB)\n",
            "Non-trainable params: 0 (0.00 Byte)\n",
            "__________________________________________________________________________________________________\n"
          ]
        }
      ],
      "source": [
        "model = build_model()\n",
        "\n",
        "model.summary()"
      ]
    },
    {
      "cell_type": "markdown",
      "metadata": {
        "id": "lNoK_w8FynTj"
      },
      "source": [
        "### 모델 컴파일 및 학습"
      ]
    },
    {
      "cell_type": "code",
      "execution_count": 99,
      "metadata": {
        "id": "VMbpVz81yBpf"
      },
      "outputs": [],
      "source": [
        "from keras.optimizers import Adam"
      ]
    },
    {
      "cell_type": "code",
      "execution_count": 102,
      "metadata": {
        "id": "F_gYTrAFyBnL"
      },
      "outputs": [],
      "source": [
        "model.compile(\n",
        "    loss='binary_crossentropy',\n",
        "    optimizer=Adam(),\n",
        "    metrics=['accuracy']\n",
        ")"
      ]
    },
    {
      "cell_type": "code",
      "execution_count": 103,
      "metadata": {
        "id": "TLFMJJ4myBlM"
      },
      "outputs": [
        {
          "name": "stdout",
          "output_type": "stream",
          "text": [
            "Epoch 1/30\n",
            "7/7 [==============================] - 2s 153ms/step - loss: 0.6932 - accuracy: 0.5000\n",
            "Epoch 2/30\n",
            "7/7 [==============================] - 1s 135ms/step - loss: 0.6928 - accuracy: 0.6058\n",
            "Epoch 3/30\n",
            "7/7 [==============================] - 0s 76ms/step - loss: 0.6925 - accuracy: 0.7308\n",
            "Epoch 4/30\n",
            "7/7 [==============================] - 0s 41ms/step - loss: 0.6921 - accuracy: 0.7933\n",
            "Epoch 5/30\n",
            "7/7 [==============================] - 0s 41ms/step - loss: 0.6917 - accuracy: 0.8606\n",
            "Epoch 6/30\n",
            "7/7 [==============================] - 0s 69ms/step - loss: 0.6912 - accuracy: 0.9135\n",
            "Epoch 7/30\n",
            "7/7 [==============================] - 0s 12ms/step - loss: 0.6906 - accuracy: 0.9423\n",
            "Epoch 8/30\n",
            "7/7 [==============================] - 0s 67ms/step - loss: 0.6900 - accuracy: 0.9712\n",
            "Epoch 9/30\n",
            "7/7 [==============================] - 0s 40ms/step - loss: 0.6892 - accuracy: 0.9760\n",
            "Epoch 10/30\n",
            "7/7 [==============================] - 0s 14ms/step - loss: 0.6883 - accuracy: 0.9760\n",
            "Epoch 11/30\n",
            "7/7 [==============================] - 0s 13ms/step - loss: 0.6872 - accuracy: 0.9760\n",
            "Epoch 12/30\n",
            "7/7 [==============================] - 0s 11ms/step - loss: 0.6859 - accuracy: 0.9760\n",
            "Epoch 13/30\n",
            "7/7 [==============================] - 0s 67ms/step - loss: 0.6845 - accuracy: 0.9808\n",
            "Epoch 14/30\n",
            "7/7 [==============================] - 0s 14ms/step - loss: 0.6829 - accuracy: 0.9856\n",
            "Epoch 15/30\n",
            "7/7 [==============================] - 0s 14ms/step - loss: 0.6810 - accuracy: 0.9856\n",
            "Epoch 16/30\n",
            "7/7 [==============================] - 0s 11ms/step - loss: 0.6790 - accuracy: 0.9856\n",
            "Epoch 17/30\n",
            "7/7 [==============================] - 0s 13ms/step - loss: 0.6767 - accuracy: 0.9856\n",
            "Epoch 18/30\n",
            "7/7 [==============================] - 0s 14ms/step - loss: 0.6742 - accuracy: 0.9856\n",
            "Epoch 19/30\n",
            "7/7 [==============================] - 0s 14ms/step - loss: 0.6714 - accuracy: 0.9856\n",
            "Epoch 20/30\n",
            "7/7 [==============================] - 0s 11ms/step - loss: 0.6684 - accuracy: 0.9856\n",
            "Epoch 21/30\n",
            "7/7 [==============================] - 0s 12ms/step - loss: 0.6652 - accuracy: 0.9904\n",
            "Epoch 22/30\n",
            "7/7 [==============================] - 0s 12ms/step - loss: 0.6617 - accuracy: 0.9904\n",
            "Epoch 23/30\n",
            "7/7 [==============================] - 0s 11ms/step - loss: 0.6580 - accuracy: 0.9904\n",
            "Epoch 24/30\n",
            "7/7 [==============================] - 0s 14ms/step - loss: 0.6540 - accuracy: 0.9904\n",
            "Epoch 25/30\n",
            "7/7 [==============================] - 0s 14ms/step - loss: 0.6497 - accuracy: 0.9904\n",
            "Epoch 26/30\n",
            "7/7 [==============================] - 0s 13ms/step - loss: 0.6453 - accuracy: 0.9904\n",
            "Epoch 27/30\n",
            "7/7 [==============================] - 0s 38ms/step - loss: 0.6406 - accuracy: 0.9952\n",
            "Epoch 28/30\n",
            "7/7 [==============================] - 0s 10ms/step - loss: 0.6356 - accuracy: 0.9952\n",
            "Epoch 29/30\n",
            "7/7 [==============================] - 0s 11ms/step - loss: 0.6305 - accuracy: 0.9952\n",
            "Epoch 30/30\n",
            "7/7 [==============================] - 0s 12ms/step - loss: 0.6250 - accuracy: 0.9952\n"
          ]
        },
        {
          "data": {
            "text/plain": [
              "<keras.src.callbacks.History at 0x7f8506d89d10>"
            ]
          },
          "execution_count": 103,
          "metadata": {},
          "output_type": "execute_result"
        }
      ],
      "source": [
        "model.fit([word_target, word_context], labels, epochs=30)"
      ]
    },
    {
      "cell_type": "markdown",
      "metadata": {
        "id": "n0UeghEry79L"
      },
      "source": [
        "### 임베딩 레이어 저장 및 로드"
      ]
    },
    {
      "cell_type": "code",
      "execution_count": 104,
      "metadata": {
        "id": "2IN6guOA3Ko0"
      },
      "outputs": [],
      "source": [
        "emb = model.layers[2]"
      ]
    },
    {
      "cell_type": "code",
      "execution_count": 106,
      "metadata": {
        "id": "xX43O7414P6n"
      },
      "outputs": [
        {
          "data": {
            "text/plain": [
              "[array([[ 0.02953326, -0.01231467,  0.02485777, ...,  0.03410364,\n",
              "          0.00677773, -0.01743931],\n",
              "        [ 0.04284837, -0.00838948,  0.00316969, ...,  0.00174909,\n",
              "         -0.04518452, -0.03253665],\n",
              "        [ 0.01514145,  0.02051591, -0.00904368, ...,  0.01151476,\n",
              "         -0.03624302, -0.03300088],\n",
              "        ...,\n",
              "        [ 0.01335809, -0.01891587,  0.00817664, ..., -0.02735745,\n",
              "         -0.00787731,  0.00358933],\n",
              "        [-0.00658395, -0.04604387, -0.03940339, ...,  0.03963958,\n",
              "          0.03443715, -0.02041264],\n",
              "        [ 0.03750762,  0.0228424 ,  0.03112509, ...,  0.0183849 ,\n",
              "         -0.03579261, -0.044611  ]], dtype=float32)]"
            ]
          },
          "execution_count": 106,
          "metadata": {},
          "output_type": "execute_result"
        }
      ],
      "source": [
        "emb.get_weights()"
      ]
    },
    {
      "cell_type": "code",
      "execution_count": 107,
      "metadata": {
        "id": "BrDMmB1IyBfq"
      },
      "outputs": [],
      "source": [
        "np.save('emb.npy', emb.get_weights()[0])"
      ]
    },
    {
      "cell_type": "markdown",
      "metadata": {
        "id": "M9wTT_VQzDsl"
      },
      "source": [
        "- 임베딩 레이어 로드"
      ]
    },
    {
      "cell_type": "code",
      "execution_count": 108,
      "metadata": {
        "id": "Ku3DFkCRzHT5"
      },
      "outputs": [],
      "source": [
        "w = np.load('emb.npy')"
      ]
    },
    {
      "cell_type": "markdown",
      "metadata": {
        "id": "6faI7skDzKdW"
      },
      "source": [
        "- 임베딩 레이어를 추가할때 `trainable`를 `False`로 하면 추가학습이 이루어 지지 않는다."
      ]
    },
    {
      "cell_type": "code",
      "execution_count": 109,
      "metadata": {
        "id": "yBrWD06mzHQ0"
      },
      "outputs": [],
      "source": [
        "emb_ff = Embedding(input_dim=n_words, output_dim=8, input_length=8, weights=[w], trainable=False)"
      ]
    },
    {
      "cell_type": "markdown",
      "metadata": {
        "id": "nLok-gV3YwY2"
      },
      "source": [
        "## 사전 훈련된 단어 임베딩 사용하기 : GloVe 임베딩\n",
        "\n",
        "- 코드 출처: 케라스 창시자에게 배우는 딥러닝"
      ]
    },
    {
      "cell_type": "markdown",
      "metadata": {
        "id": "mSyfRbEhb8WK"
      },
      "source": [
        "### 원본 IMDB 텍스트 내려받기\n",
        "- http://mng.bz/0tIo"
      ]
    },
    {
      "cell_type": "code",
      "execution_count": 115,
      "metadata": {
        "id": "smv3ryyCb_U5"
      },
      "outputs": [],
      "source": [
        "import zipfile\n",
        "import io\n",
        "\n",
        "URL = 'http://mng.bz/0tIo'\n",
        "\n",
        "res = requests.get(URL, stream=True)\n",
        "res.raise_for_status()\n",
        "\n",
        "z = zipfile.ZipFile(io.BytesIO(res.content))\n",
        "z.extractall('data')"
      ]
    },
    {
      "cell_type": "code",
      "execution_count": 116,
      "metadata": {
        "id": "DbcQb_afcGUk"
      },
      "outputs": [],
      "source": [
        "import os"
      ]
    },
    {
      "cell_type": "code",
      "execution_count": 117,
      "metadata": {
        "id": "ACKGbg0Aca77"
      },
      "outputs": [],
      "source": [
        "imdb_dir = os.path.join(os.getcwd(), 'data/aclImdb')\n",
        "train_dir = os.path.join(imdb_dir, 'train')\n",
        "\n",
        "labels = []\n",
        "texts = []\n",
        "for label_type in ['neg', 'pos']:\n",
        "    dir_name = os.path.join(train_dir, label_type)\n",
        "\n",
        "    for fname in os.listdir(dir_name):\n",
        "        with open(os.path.join(dir_name, fname), encoding='utf8') as f:\n",
        "            texts.append(f.read())\n",
        "        \n",
        "        if label_type == 'neg':\n",
        "            labels.append(0)\n",
        "        elif label_type == 'pos':\n",
        "            labels.append(1)"
      ]
    },
    {
      "cell_type": "code",
      "execution_count": 120,
      "metadata": {
        "id": "6N-bq0Xuca52"
      },
      "outputs": [
        {
          "data": {
            "text/plain": [
              "'Not to be confused with the above average supernatural thriller \"The Sentinel\". The Sentinel was a big bore of a movie for me, not delivering the consistent action, a couple of critics promised on the back. To me it seemed like everyone was Halfassing it, and only there to make some quick cash, because this felt very much like a made for TV film. The Sentinel is a rehash of several better films, like \"In The Line Of Fire\" this does not have any originality in it, and watching Michael Douglas run around, felt kinda silly in my opinion. The Main problem besides it\\'s unoriginality, had to be the poor pace. I often got distracted while trying to view this movie, while looking how much run time was left, more then once. Not only the miscasting with Eva Longoria, who couldn\\'t convince worth a lick.<br /><br />Performances. Michael Douglas is usually a dependable actor, here is obviously going through the motions. He does not convince as a man on a run, or a secret agent. His chemistry with Bassinger, was also off. I\\'m a big fan of Kiefer Sutherland, but here he is only OK, nothing more then that. He tries to come across as a gruff, but managed to be more bland then anything else, and to be honest, he didn\\'t seem that interested. Eva Longoria Parker is pretty mediocre. She does not convince in her role, and was pure eye candy. Kim Basinger is pretty terrible as the 1st lady. She looks bored to tears, and her role is a throw away, more then anything else. Martin Donovan has a big part in the end, but not enough to matter for me.<br /><br />Bottom line. The Sentinel is yet, another political thriller, that bored me to tears. It\\'s too old, too tired, and most importantly the lack of effort sucked. Not recommended.<br /><br />4/10'"
            ]
          },
          "execution_count": 120,
          "metadata": {},
          "output_type": "execute_result"
        }
      ],
      "source": [
        "texts[0]"
      ]
    },
    {
      "cell_type": "code",
      "execution_count": 122,
      "metadata": {
        "id": "sZVholCHca3H"
      },
      "outputs": [
        {
          "data": {
            "text/plain": [
              "0"
            ]
          },
          "execution_count": 122,
          "metadata": {},
          "output_type": "execute_result"
        }
      ],
      "source": [
        "labels[0]"
      ]
    },
    {
      "cell_type": "markdown",
      "metadata": {
        "id": "2_tzFe1ZcmTS"
      },
      "source": [
        "### 데이터 토큰화"
      ]
    },
    {
      "cell_type": "code",
      "execution_count": 123,
      "metadata": {
        "id": "equ03Kp1coOs"
      },
      "outputs": [],
      "source": [
        "max_len = 100\n",
        "training_samples = 200\n",
        "validation_samples = 10_000\n",
        "max_words = 10_000"
      ]
    },
    {
      "cell_type": "code",
      "execution_count": 124,
      "metadata": {
        "id": "KtmsLkELcoMR"
      },
      "outputs": [
        {
          "name": "stdout",
          "output_type": "stream",
          "text": [
            "88582\n"
          ]
        }
      ],
      "source": [
        "tokenizer = Tokenizer(num_words=max_words)\n",
        "tokenizer.fit_on_texts(texts)\n",
        "sequences = tokenizer.texts_to_sequences(texts)\n",
        "\n",
        "word_idx = tokenizer.word_index\n",
        "\n",
        "print(len(word_idx))"
      ]
    },
    {
      "cell_type": "code",
      "execution_count": 125,
      "metadata": {
        "id": "UgXNbVYzcoJy"
      },
      "outputs": [
        {
          "name": "stdout",
          "output_type": "stream",
          "text": [
            "(25000, 100)\n",
            "(25000,)\n"
          ]
        }
      ],
      "source": [
        "data = pad_sequences(sequences, maxlen=max_len)\n",
        "labels = np.asarray(labels)\n",
        "\n",
        "print(data.shape)\n",
        "print(labels.shape)"
      ]
    },
    {
      "cell_type": "code",
      "execution_count": 126,
      "metadata": {
        "id": "SyLStC6bc5tp"
      },
      "outputs": [],
      "source": [
        "indices = np.arange(data.shape[0])\n",
        "np.random.shuffle(indices)\n",
        "data = data[indices]\n",
        "labels = labels[indices]"
      ]
    },
    {
      "cell_type": "code",
      "execution_count": 127,
      "metadata": {
        "id": "0jDTfOyLc5qn"
      },
      "outputs": [],
      "source": [
        "x_train = data[:training_samples]\n",
        "y_train = labels[:training_samples]\n",
        "x_val = data[training_samples:training_samples + validation_samples]\n",
        "y_val = labels[training_samples:training_samples + validation_samples]"
      ]
    },
    {
      "cell_type": "code",
      "execution_count": 128,
      "metadata": {
        "id": "uSIi1amMc8NY"
      },
      "outputs": [
        {
          "name": "stdout",
          "output_type": "stream",
          "text": [
            "(200, 100)\n",
            "(200,)\n",
            "(10000, 100)\n",
            "(10000,)\n"
          ]
        }
      ],
      "source": [
        "print(x_train.shape)\n",
        "print(y_train.shape)\n",
        "print(x_val.shape)\n",
        "print(y_val.shape)"
      ]
    },
    {
      "cell_type": "markdown",
      "metadata": {
        "id": "8aqYOxwrY3k3"
      },
      "source": [
        "### GloVe 단어 임베딩 내려받기\n",
        "\n",
        "- https://nlp.stanford.edu/projects/glove\n",
        "\n",
        "- http://nlp.stanford.edu/data/glove.6B.zip\n",
        "\n",
        "- 시간 소요 (5~7m)"
      ]
    },
    {
      "cell_type": "code",
      "execution_count": 129,
      "metadata": {
        "id": "F3ArVw4MYl4l"
      },
      "outputs": [
        {
          "name": "stdout",
          "output_type": "stream",
          "text": [
            "--2024-01-16 17:21:02--  http://nlp.stanford.edu/data/glove.6B.zip\n",
            "Resolving nlp.stanford.edu (nlp.stanford.edu)... 171.64.67.140\n",
            "Connecting to nlp.stanford.edu (nlp.stanford.edu)|171.64.67.140|:80... connected.\n",
            "HTTP request sent, awaiting response... 302 Found\n",
            "Location: https://nlp.stanford.edu/data/glove.6B.zip [following]\n",
            "--2024-01-16 17:22:55--  https://nlp.stanford.edu/data/glove.6B.zip\n",
            "Connecting to nlp.stanford.edu (nlp.stanford.edu)|171.64.67.140|:443... connected.\n",
            "HTTP request sent, awaiting response... 301 Moved Permanently\n",
            "Location: https://downloads.cs.stanford.edu/nlp/data/glove.6B.zip [following]\n",
            "--2024-01-16 17:22:55--  https://downloads.cs.stanford.edu/nlp/data/glove.6B.zip\n",
            "Resolving downloads.cs.stanford.edu (downloads.cs.stanford.edu)... 171.64.64.22\n",
            "Connecting to downloads.cs.stanford.edu (downloads.cs.stanford.edu)|171.64.64.22|:443... connected.\n",
            "HTTP request sent, awaiting response... 200 OK\n",
            "Length: 862182613 (822M) [application/zip]\n",
            "Saving to: ‘glove.6B.zip’\n",
            "\n",
            "glove.6B.zip        100%[===================>] 822.24M  2.96MB/s    in 7m 41s  \n",
            "\n",
            "2024-01-16 17:30:37 (1.78 MB/s) - ‘glove.6B.zip’ saved [862182613/862182613]\n",
            "\n"
          ]
        }
      ],
      "source": [
        "!wget --no-check-certificate http://nlp.stanford.edu/data/glove.6B.zip"
      ]
    },
    {
      "cell_type": "code",
      "execution_count": 141,
      "metadata": {
        "id": "zf35WdRSZCg8"
      },
      "outputs": [],
      "source": [
        "glove_dir = 'data/glove'\n",
        "os.makedirs(glove_dir, exist_ok=True)\n",
        "\n",
        "with zipfile.ZipFile('glove.6B.zip', 'r') as zip:\n",
        "    zip.extractall(glove_dir)"
      ]
    },
    {
      "cell_type": "markdown",
      "metadata": {
        "id": "Nx8PhOPTZKH-"
      },
      "source": [
        "### 임베딩 전처리\n",
        "- GloVe 파싱"
      ]
    },
    {
      "cell_type": "code",
      "execution_count": 142,
      "metadata": {
        "id": "CCiWpI40ZKn8"
      },
      "outputs": [
        {
          "name": "stdout",
          "output_type": "stream",
          "text": [
            "400000\n"
          ]
        }
      ],
      "source": [
        "embeddings_idx = {}\n",
        "with open(os.path.join(glove_dir, 'glove.6B.100d.txt')) as f:\n",
        "    for line in f:\n",
        "        values = line.split()\n",
        "        word = values[0]\n",
        "        coefs = np.asarray(values[1:], dtype='float32')\n",
        "        embeddings_idx[word] = coefs\n",
        "\n",
        "print(len(embeddings_idx))"
      ]
    },
    {
      "cell_type": "code",
      "execution_count": 149,
      "metadata": {
        "id": "GeyFszr_ZNOJ"
      },
      "outputs": [],
      "source": [
        "embedding_dim = 100\n",
        "embedding_mat = np.zeros((max_words, embedding_dim))\n",
        "\n",
        "for word, idx in word_idx.items():\n",
        "    if idx < max_words:\n",
        "        embedding_vector = embeddings_idx.get(word)\n",
        "        if embedding_vector is not None:\n",
        "            embedding_mat[idx] = embedding_vector"
      ]
    },
    {
      "cell_type": "code",
      "execution_count": 150,
      "metadata": {
        "id": "-21oMNykZNML"
      },
      "outputs": [
        {
          "data": {
            "text/plain": [
              "array([[ 0.        ,  0.        ,  0.        , ...,  0.        ,\n",
              "         0.        ,  0.        ],\n",
              "       [-0.038194  , -0.24487001,  0.72812003, ..., -0.1459    ,\n",
              "         0.82779998,  0.27061999],\n",
              "       [-0.071953  ,  0.23127   ,  0.023731  , ..., -0.71894997,\n",
              "         0.86894   ,  0.19539   ],\n",
              "       ...,\n",
              "       [ 0.12233   , -0.40965   ,  0.26148   , ...,  0.59744   ,\n",
              "         0.15876   ,  0.33116001],\n",
              "       [-0.34647   , -0.025099  , -0.15967999, ..., -0.46772   ,\n",
              "         0.31848001,  0.15823001],\n",
              "       [-0.64815003,  0.56138003, -0.27676001, ..., -0.18875   ,\n",
              "         0.36014   ,  0.56463999]])"
            ]
          },
          "execution_count": 150,
          "metadata": {},
          "output_type": "execute_result"
        }
      ],
      "source": [
        "embedding_mat"
      ]
    },
    {
      "cell_type": "markdown",
      "metadata": {
        "id": "XaCx6z-4epWd"
      },
      "source": [
        "### 모델 정의"
      ]
    },
    {
      "cell_type": "code",
      "execution_count": 151,
      "metadata": {
        "id": "3HVcGPGyZNKN"
      },
      "outputs": [
        {
          "name": "stdout",
          "output_type": "stream",
          "text": [
            "Model: \"sequential_5\"\n",
            "_________________________________________________________________\n",
            " Layer (type)                Output Shape              Param #   \n",
            "=================================================================\n",
            " embedding_7 (Embedding)     (None, 100, 100)          1000000   \n",
            "                                                                 \n",
            " flatten_3 (Flatten)         (None, 10000)             0         \n",
            "                                                                 \n",
            " dense_4 (Dense)             (None, 32)                320032    \n",
            "                                                                 \n",
            " dense_5 (Dense)             (None, 1)                 33        \n",
            "                                                                 \n",
            "=================================================================\n",
            "Total params: 1320065 (5.04 MB)\n",
            "Trainable params: 1320065 (5.04 MB)\n",
            "Non-trainable params: 0 (0.00 Byte)\n",
            "_________________________________________________________________\n"
          ]
        }
      ],
      "source": [
        "model = Sequential()\n",
        "\n",
        "model.add(Embedding(max_words, embedding_dim, input_length=max_len))\n",
        "model.add(Flatten())\n",
        "model.add(Dense(32, activation='relu'))\n",
        "model.add(Dense(1, activation='sigmoid'))\n",
        "\n",
        "model.summary()"
      ]
    },
    {
      "cell_type": "code",
      "execution_count": 152,
      "metadata": {
        "id": "BrZQ6vsBZNIE"
      },
      "outputs": [],
      "source": [
        "model.layers[0].set_weights([embedding_mat])\n",
        "model.layers[0].trainable = False"
      ]
    },
    {
      "cell_type": "code",
      "execution_count": 153,
      "metadata": {
        "id": "HR65rJz_ZNGD"
      },
      "outputs": [],
      "source": [
        "model.compile(\n",
        "    loss='binary_crossentropy',\n",
        "    optimizer='rmsprop',\n",
        "    metrics=['accuracy']\n",
        ")"
      ]
    },
    {
      "cell_type": "code",
      "execution_count": 154,
      "metadata": {
        "id": "lPS8S1QnZNEG"
      },
      "outputs": [
        {
          "name": "stdout",
          "output_type": "stream",
          "text": [
            "Epoch 1/10\n"
          ]
        },
        {
          "name": "stdout",
          "output_type": "stream",
          "text": [
            "7/7 [==============================] - 3s 295ms/step - loss: 1.4579 - accuracy: 0.5450 - val_loss: 0.6928 - val_accuracy: 0.5141\n",
            "Epoch 2/10\n",
            "7/7 [==============================] - 1s 227ms/step - loss: 0.6529 - accuracy: 0.6300 - val_loss: 0.7684 - val_accuracy: 0.5002\n",
            "Epoch 3/10\n",
            "7/7 [==============================] - 1s 243ms/step - loss: 0.6841 - accuracy: 0.6050 - val_loss: 0.7906 - val_accuracy: 0.5001\n",
            "Epoch 4/10\n",
            "7/7 [==============================] - 1s 241ms/step - loss: 0.6486 - accuracy: 0.6300 - val_loss: 0.6905 - val_accuracy: 0.5471\n",
            "Epoch 5/10\n",
            "7/7 [==============================] - 1s 239ms/step - loss: 0.5718 - accuracy: 0.7200 - val_loss: 1.1371 - val_accuracy: 0.5001\n",
            "Epoch 6/10\n",
            "7/7 [==============================] - 1s 222ms/step - loss: 0.6047 - accuracy: 0.6950 - val_loss: 0.7114 - val_accuracy: 0.5027\n",
            "Epoch 7/10\n",
            "7/7 [==============================] - 1s 230ms/step - loss: 0.5037 - accuracy: 0.6550 - val_loss: 0.8679 - val_accuracy: 0.5001\n",
            "Epoch 8/10\n",
            "7/7 [==============================] - 1s 229ms/step - loss: 0.5749 - accuracy: 0.6900 - val_loss: 0.6904 - val_accuracy: 0.5433\n",
            "Epoch 9/10\n",
            "7/7 [==============================] - 1s 227ms/step - loss: 0.4456 - accuracy: 0.8950 - val_loss: 0.7006 - val_accuracy: 0.5335\n",
            "Epoch 10/10\n",
            "7/7 [==============================] - 1s 248ms/step - loss: 0.4242 - accuracy: 0.8550 - val_loss: 0.7299 - val_accuracy: 0.5173\n"
          ]
        }
      ],
      "source": [
        "hist = model.fit(\n",
        "    x_train, y_train,\n",
        "    epochs=10,\n",
        "    batch_size=32,\n",
        "    validation_data=(x_val, y_val)\n",
        ")"
      ]
    },
    {
      "cell_type": "code",
      "execution_count": 155,
      "metadata": {
        "id": "Y3AD4ErhewTW"
      },
      "outputs": [],
      "source": [
        "model.save_weights('pre_trained_glove_model.h5')"
      ]
    },
    {
      "cell_type": "markdown",
      "metadata": {
        "id": "k3KUBmL5e1WJ"
      },
      "source": [
        "### 시각화"
      ]
    },
    {
      "cell_type": "code",
      "execution_count": 157,
      "metadata": {
        "id": "_DaQNh1oe2OZ"
      },
      "outputs": [
        {
          "data": {
            "image/png": "[encoded data removed]",
            "text/plain": [
              "<Figure size 640x480 with 1 Axes>"
            ]
          },
          "metadata": {},
          "output_type": "display_data"
        },
        {
          "data": {
            "image/png": "[encoded data removed]",
            "text/plain": [
              "<Figure size 640x480 with 1 Axes>"
            ]
          },
          "metadata": {},
          "output_type": "display_data"
        }
      ],
      "source": [
        "loss = hist.history['loss']\n",
        "val_loss = hist.history['val_loss']\n",
        "accuracy = hist.history['accuracy']\n",
        "val_accuracy = hist.history['val_accuracy']\n",
        "epochs = range(1, len(loss) + 1)\n",
        "\n",
        "plt.plot(epochs, loss, 'b--', label='Train Loss')\n",
        "plt.plot(epochs, val_loss, 'r--', label='Validation Loss')\n",
        "plt.legend()\n",
        "plt.grid()\n",
        "\n",
        "plt.figure()\n",
        "plt.plot(epochs, accuracy, 'b--', label='Train Accuracy')\n",
        "plt.plot(epochs, val_accuracy, 'r--', label='Validation Accuracy')\n",
        "plt.legend()\n",
        "plt.grid()\n",
        "\n",
        "plt.show()"
      ]
    },
    {
      "cell_type": "markdown",
      "metadata": {
        "id": "aqaaNV1-e8Ua"
      },
      "source": [
        "## 사전 훈련된 단어 임베딩을 사용하지 않고 같은 모델 훈련"
      ]
    },
    {
      "cell_type": "code",
      "execution_count": 158,
      "metadata": {
        "id": "ilw7D5mze5bA"
      },
      "outputs": [
        {
          "name": "stdout",
          "output_type": "stream",
          "text": [
            "Model: \"sequential_6\"\n",
            "_________________________________________________________________\n",
            " Layer (type)                Output Shape              Param #   \n",
            "=================================================================\n",
            " embedding_8 (Embedding)     (None, 100, 100)          1000000   \n",
            "                                                                 \n",
            " flatten_4 (Flatten)         (None, 10000)             0         \n",
            "                                                                 \n",
            " dense_6 (Dense)             (None, 32)                320032    \n",
            "                                                                 \n",
            " dense_7 (Dense)             (None, 1)                 33        \n",
            "                                                                 \n",
            "=================================================================\n",
            "Total params: 1320065 (5.04 MB)\n",
            "Trainable params: 1320065 (5.04 MB)\n",
            "Non-trainable params: 0 (0.00 Byte)\n",
            "_________________________________________________________________\n"
          ]
        }
      ],
      "source": [
        "model_2 = Sequential()\n",
        "\n",
        "model_2.add(Embedding(max_words, embedding_dim, input_length=max_len))\n",
        "model_2.add(Flatten())\n",
        "model_2.add(Dense(32, activation='relu'))\n",
        "model_2.add(Dense(1, activation='sigmoid'))\n",
        "\n",
        "model_2.summary()"
      ]
    },
    {
      "cell_type": "code",
      "execution_count": 160,
      "metadata": {
        "id": "oPRFRj-4fBmF"
      },
      "outputs": [
        {
          "name": "stdout",
          "output_type": "stream",
          "text": [
            "Epoch 1/10\n",
            "7/7 [==============================] - 3s 332ms/step - loss: 0.6901 - accuracy: 0.5550 - val_loss: 0.6929 - val_accuracy: 0.5124\n",
            "Epoch 2/10\n",
            "7/7 [==============================] - 2s 318ms/step - loss: 0.5616 - accuracy: 0.9700 - val_loss: 0.6958 - val_accuracy: 0.5108\n",
            "Epoch 3/10\n",
            "7/7 [==============================] - 2s 351ms/step - loss: 0.4153 - accuracy: 0.9950 - val_loss: 0.6997 - val_accuracy: 0.5229\n",
            "Epoch 4/10\n",
            "7/7 [==============================] - 2s 333ms/step - loss: 0.2582 - accuracy: 0.9950 - val_loss: 0.7047 - val_accuracy: 0.5207\n",
            "Epoch 5/10\n",
            "7/7 [==============================] - 2s 313ms/step - loss: 0.1458 - accuracy: 0.9950 - val_loss: 0.7047 - val_accuracy: 0.5235\n",
            "Epoch 6/10\n",
            "7/7 [==============================] - 2s 350ms/step - loss: 0.0838 - accuracy: 1.0000 - val_loss: 0.7169 - val_accuracy: 0.5261\n",
            "Epoch 7/10\n",
            "7/7 [==============================] - 2s 326ms/step - loss: 0.0503 - accuracy: 1.0000 - val_loss: 0.7269 - val_accuracy: 0.5263\n",
            "Epoch 8/10\n",
            "7/7 [==============================] - 2s 354ms/step - loss: 0.0319 - accuracy: 1.0000 - val_loss: 0.7330 - val_accuracy: 0.5271\n",
            "Epoch 9/10\n",
            "7/7 [==============================] - 2s 336ms/step - loss: 0.0216 - accuracy: 1.0000 - val_loss: 0.7400 - val_accuracy: 0.5280\n",
            "Epoch 10/10\n",
            "7/7 [==============================] - 2s 292ms/step - loss: 0.0151 - accuracy: 1.0000 - val_loss: 0.7453 - val_accuracy: 0.5305\n"
          ]
        }
      ],
      "source": [
        "model_2.compile(\n",
        "    loss='binary_crossentropy',\n",
        "    optimizer='rmsprop',\n",
        "    metrics=['accuracy']\n",
        ")\n",
        "\n",
        "hist_2 = model_2.fit(\n",
        "    x_train, y_train,\n",
        "    epochs=10,\n",
        "    batch_size=32,\n",
        "    validation_data=(x_val, y_val)\n",
        ")"
      ]
    },
    {
      "cell_type": "code",
      "execution_count": 161,
      "metadata": {
        "id": "Fovih46TfDT3"
      },
      "outputs": [
        {
          "data": {
            "image/png": "[encoded data removed]",
            "text/plain": [
              "<Figure size 640x480 with 1 Axes>"
            ]
          },
          "metadata": {},
          "output_type": "display_data"
        },
        {
          "data": {
            "image/png": "[encoded data removed]",
            "text/plain": [
              "<Figure size 640x480 with 1 Axes>"
            ]
          },
          "metadata": {},
          "output_type": "display_data"
        }
      ],
      "source": [
        "loss = hist_2.history['loss']\n",
        "val_loss = hist_2.history['val_loss']\n",
        "accuracy = hist_2.history['accuracy']\n",
        "val_accuracy = hist_2.history['val_accuracy']\n",
        "epochs = range(1, len(loss) + 1)\n",
        "\n",
        "plt.plot(epochs, loss, 'b--', label='Train Loss')\n",
        "plt.plot(epochs, val_loss, 'r--', label='Validation Loss')\n",
        "plt.legend()\n",
        "plt.grid()\n",
        "\n",
        "plt.figure()\n",
        "plt.plot(epochs, accuracy, 'b--', label='Train Accuracy')\n",
        "plt.plot(epochs, val_accuracy, 'r--', label='Validation Accuracy')\n",
        "plt.legend()\n",
        "plt.grid()\n",
        "\n",
        "plt.show()"
      ]
    },
    {
      "cell_type": "markdown",
      "metadata": {
        "id": "VdexZ7i1fUo6"
      },
      "source": [
        "### 테스트 데이터 토큰화"
      ]
    },
    {
      "cell_type": "code",
      "execution_count": 162,
      "metadata": {
        "id": "TA94HvyBfHXP"
      },
      "outputs": [],
      "source": [
        "test_dir = os.path.join(imdb_dir, 'test')\n",
        "\n",
        "labels = []\n",
        "texts = []\n",
        "for label_type in ['neg', 'pos']:\n",
        "    dir_name = os.path.join(test_dir, label_type)\n",
        "\n",
        "    for fname in os.listdir(dir_name):\n",
        "        with open(os.path.join(dir_name, fname), encoding='utf8') as f:\n",
        "            texts.append(f.read())\n",
        "        \n",
        "        if label_type == 'neg':\n",
        "            labels.append(0)\n",
        "        elif label_type == 'pos':\n",
        "            labels.append(1)\n",
        "\n",
        "sequences = tokenizer.texts_to_sequences(texts)\n",
        "x_test = pad_sequences(sequences, maxlen=max_len)\n",
        "y_test = np.asarray(labels)"
      ]
    },
    {
      "cell_type": "code",
      "execution_count": 163,
      "metadata": {
        "id": "UTXbOOmPfWFV"
      },
      "outputs": [
        {
          "name": "stdout",
          "output_type": "stream",
          "text": [
            "(25000, 100)\n",
            "(25000,)\n"
          ]
        }
      ],
      "source": [
        "print(x_test.shape)\n",
        "print(y_test.shape)"
      ]
    },
    {
      "cell_type": "code",
      "execution_count": 164,
      "metadata": {
        "id": "70aRVdQufXQB"
      },
      "outputs": [
        {
          "name": "stdout",
          "output_type": "stream",
          "text": [
            "782/782 [==============================] - 5s 6ms/step - loss: 0.7291 - accuracy: 0.5178\n"
          ]
        },
        {
          "data": {
            "text/plain": [
              "[0.7290524244308472, 0.517799973487854]"
            ]
          },
          "execution_count": 164,
          "metadata": {},
          "output_type": "execute_result"
        }
      ],
      "source": [
        "model.load_weights('pre_trained_glove_model.h5')\n",
        "\n",
        "model.evaluate(x_test, y_test)"
      ]
    }
  ],
  "metadata": {
    "accelerator": "GPU",
    "colab": {
      "provenance": []
    },
    "kernelspec": {
      "display_name": "Python 3",
      "name": "python3"
    },
    "language_info": {
      "codemirror_mode": {
        "name": "ipython",
        "version": 3
      },
      "file_extension": ".py",
      "mimetype": "text/x-python",
      "name": "python",
      "nbconvert_exporter": "python",
      "pygments_lexer": "ipython3",
      "version": "3.11.7"
    }
  },
  "nbformat": 4,
  "nbformat_minor": 0
}
