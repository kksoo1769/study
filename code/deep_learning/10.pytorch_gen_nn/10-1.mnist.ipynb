{
  "nbformat": 4,
  "nbformat_minor": 0,
  "metadata": {
    "colab": {
      "provenance": []
    },
    "kernelspec": {
      "name": "python3",
      "display_name": "Python 3"
    }
  },
  "cells": [
    {
      "cell_type": "markdown",
      "metadata": {
        "id": "N70Zo_KMAg1H"
      },
      "source": [
        "# 파이토치 MNIST 모델"
      ]
    },
    {
      "cell_type": "markdown",
      "metadata": {
        "id": "aNj9ScsbAlr-"
      },
      "source": [
        "## modules import"
      ]
    },
    {
      "cell_type": "code",
      "metadata": {
        "id": "IaKgb-5BAj68"
      },
      "source": [],
      "execution_count": null,
      "outputs": []
    },
    {
      "cell_type": "markdown",
      "metadata": {
        "id": "-v_WXu5iDfZK"
      },
      "source": [
        "## 전처리 설정\n",
        "- `transform.Compose`"
      ]
    },
    {
      "cell_type": "code",
      "metadata": {
        "id": "Xu74M5BxDiLH"
      },
      "source": [],
      "execution_count": null,
      "outputs": []
    },
    {
      "cell_type": "markdown",
      "metadata": {
        "id": "E-eus2CsDoEe"
      },
      "source": [
        "## 데이터 로드 및 데이터 확인"
      ]
    },
    {
      "cell_type": "code",
      "metadata": {
        "id": "P9FURlkCDnja"
      },
      "source": [],
      "execution_count": null,
      "outputs": []
    },
    {
      "cell_type": "code",
      "metadata": {
        "id": "YYAssGe4Dy3c"
      },
      "source": [],
      "execution_count": null,
      "outputs": []
    },
    {
      "cell_type": "code",
      "metadata": {
        "id": "X6gBiInXEG19"
      },
      "source": [],
      "execution_count": null,
      "outputs": []
    },
    {
      "cell_type": "code",
      "metadata": {
        "id": "maF2sZwmEqYh"
      },
      "source": [],
      "execution_count": null,
      "outputs": []
    },
    {
      "cell_type": "code",
      "metadata": {
        "id": "IwylR2BtFDCf"
      },
      "source": [],
      "execution_count": null,
      "outputs": []
    },
    {
      "cell_type": "code",
      "metadata": {
        "id": "4NKMcdmuFF7m"
      },
      "source": [],
      "execution_count": null,
      "outputs": []
    },
    {
      "cell_type": "markdown",
      "metadata": {
        "id": "GCxg2k3oFjwk"
      },
      "source": [
        "## 신경망 구성"
      ]
    },
    {
      "cell_type": "code",
      "metadata": {
        "id": "igYMZcWgBCML"
      },
      "source": [],
      "execution_count": null,
      "outputs": []
    },
    {
      "cell_type": "markdown",
      "metadata": {
        "id": "6CN4Kbd9FliP"
      },
      "source": [
        "- `.parameters()`"
      ]
    },
    {
      "cell_type": "code",
      "metadata": {
        "id": "ZxxZoCC-Fn9b"
      },
      "source": [],
      "execution_count": null,
      "outputs": []
    },
    {
      "cell_type": "markdown",
      "metadata": {
        "id": "jelPFbNgFwmG"
      },
      "source": [
        "임의의 값을 넣어 forward값 확인"
      ]
    },
    {
      "cell_type": "code",
      "metadata": {
        "id": "nI-7V1oUFoxG"
      },
      "source": [],
      "execution_count": null,
      "outputs": []
    },
    {
      "cell_type": "markdown",
      "metadata": {
        "id": "hFAKDY87FRuu"
      },
      "source": [
        "## 손실함수와 옵티마이저"
      ]
    },
    {
      "cell_type": "code",
      "metadata": {
        "id": "XHGAenL0Fu7R"
      },
      "source": [],
      "execution_count": null,
      "outputs": []
    },
    {
      "cell_type": "markdown",
      "metadata": {
        "id": "NV5_xdUsGB1x"
      },
      "source": [
        "## 모델 학습\n",
        "\n",
        "- `optimizer.zero_grad` : 가중치의 그래디언트 초기화\n",
        "\n",
        "- loss 계산\n",
        "\n",
        "- `loss.backward()`\n",
        "\n",
        "- `optmizer.step()` : 업데이트"
      ]
    },
    {
      "cell_type": "markdown",
      "metadata": {
        "id": "rBIYk0aTGEPW"
      },
      "source": [
        "- 배치수 확인"
      ]
    },
    {
      "cell_type": "code",
      "metadata": {
        "id": "qax43PdgDQBk"
      },
      "source": [],
      "execution_count": null,
      "outputs": []
    },
    {
      "cell_type": "markdown",
      "metadata": {
        "id": "4eHTyg6eHzMI"
      },
      "source": [
        "- 설명을 위해 `epochs=2`로 지정"
      ]
    },
    {
      "cell_type": "code",
      "metadata": {
        "id": "NzwisgcADQOD"
      },
      "source": [],
      "execution_count": null,
      "outputs": []
    },
    {
      "cell_type": "markdown",
      "metadata": {
        "id": "tumNqvreIMUC"
      },
      "source": [
        "## 모델의 저장 및 로드\n",
        "\n",
        "- `torch.save`\n",
        "  - `net.state_dict()`를 저장\n",
        "\n",
        "- `torch.load`\n",
        "  - `load_state_dict`로 모델을 로드"
      ]
    },
    {
      "cell_type": "code",
      "metadata": {
        "id": "lxj4a7oHDQRR"
      },
      "source": [],
      "execution_count": null,
      "outputs": []
    },
    {
      "cell_type": "code",
      "metadata": {
        "id": "9GqVJlGzDQTe"
      },
      "source": [],
      "execution_count": null,
      "outputs": []
    },
    {
      "cell_type": "code",
      "metadata": {
        "id": "15cyBDq0DQV2"
      },
      "source": [],
      "execution_count": null,
      "outputs": []
    },
    {
      "cell_type": "markdown",
      "metadata": {
        "id": "5IecfHZiI09W"
      },
      "source": [
        "## 모델 테스트"
      ]
    },
    {
      "cell_type": "code",
      "metadata": {
        "id": "QewXif2NDQYZ"
      },
      "source": [],
      "execution_count": null,
      "outputs": []
    },
    {
      "cell_type": "code",
      "metadata": {
        "id": "ELx5TrT-DQao"
      },
      "source": [],
      "execution_count": null,
      "outputs": []
    },
    {
      "cell_type": "code",
      "metadata": {
        "id": "9yaMMa8VDQdI"
      },
      "source": [],
      "execution_count": null,
      "outputs": []
    },
    {
      "cell_type": "code",
      "metadata": {
        "id": "qOQWilyPOja5"
      },
      "source": [],
      "execution_count": null,
      "outputs": []
    },
    {
      "cell_type": "code",
      "metadata": {
        "id": "T1qsc9TUDQfk"
      },
      "source": [],
      "execution_count": null,
      "outputs": []
    },
    {
      "cell_type": "markdown",
      "metadata": {
        "id": "HQBRrbueR94k"
      },
      "source": [
        "## GPU 설정 후 학습\n",
        "- 설정 후, 모델과 데이터에 `to`로 GPU를 사용 가능한 형태로 변환 해줘야 한다.\n",
        "\n",
        "- `.cuda()` 로도 가능"
      ]
    },
    {
      "cell_type": "code",
      "metadata": {
        "id": "uaO3lXxRjslc"
      },
      "source": [],
      "execution_count": null,
      "outputs": []
    },
    {
      "cell_type": "markdown",
      "metadata": {
        "id": "02LdHlTTSz5L"
      },
      "source": [
        "- 현재 GPU 설정"
      ]
    },
    {
      "cell_type": "code",
      "metadata": {
        "id": "Ybsjn80uSx3X"
      },
      "source": [],
      "execution_count": null,
      "outputs": []
    },
    {
      "cell_type": "code",
      "metadata": {
        "id": "HlPZI5wfDQhv"
      },
      "source": [],
      "execution_count": null,
      "outputs": []
    },
    {
      "cell_type": "code",
      "metadata": {
        "id": "ykIP4ceaSCib"
      },
      "source": [],
      "execution_count": null,
      "outputs": []
    },
    {
      "cell_type": "markdown",
      "metadata": {
        "id": "JZ6fOMoakAIi"
      },
      "source": [
        "- 데이터 로드\n"
      ]
    },
    {
      "cell_type": "code",
      "metadata": {
        "id": "WUwhAT3IkBbN"
      },
      "source": [],
      "execution_count": null,
      "outputs": []
    },
    {
      "cell_type": "markdown",
      "metadata": {
        "id": "34WyPzrzS8Cd"
      },
      "source": [
        "- 모델 생성"
      ]
    },
    {
      "cell_type": "code",
      "metadata": {
        "id": "lpFTp1Tbjyeb"
      },
      "source": [],
      "execution_count": null,
      "outputs": []
    },
    {
      "cell_type": "code",
      "metadata": {
        "id": "BndKyGxnSCXK"
      },
      "source": [],
      "execution_count": null,
      "outputs": []
    },
    {
      "cell_type": "code",
      "metadata": {
        "id": "aHWkPKpRSxYW"
      },
      "source": [],
      "execution_count": null,
      "outputs": []
    },
    {
      "cell_type": "code",
      "metadata": {
        "id": "-3dCbF7DSxWC"
      },
      "source": [],
      "execution_count": null,
      "outputs": []
    },
    {
      "cell_type": "code",
      "metadata": {
        "id": "v5-a95lgSxUH"
      },
      "source": [],
      "execution_count": null,
      "outputs": []
    }
  ]
}