{
  "nbformat": 4,
  "nbformat_minor": 0,
  "metadata": {
    "colab": {
      "provenance": [],
      "toc_visible": true
    },
    "kernelspec": {
      "name": "python3",
      "display_name": "Python 3"
    }
  },
  "cells": [
    {
      "cell_type": "markdown",
      "metadata": {
        "id": "qDvQhN-rMJNO"
      },
      "source": [
        "# 파이토치 사전훈련 모델 사용\n",
        "- `torchvision`의 `models`를 활용하여 전이학습\n",
        "\n",
        "- https://pytorch.org/docs/stable/torchvision/models.html\n",
        "\n",
        "- 코드 출처: https://tutorials.pytorch.kr/beginner/transfer_learning_tutorial.html"
      ]
    },
    {
      "cell_type": "markdown",
      "metadata": {
        "id": "4IuvL1dZVOnn"
      },
      "source": [
        "## modules import"
      ]
    },
    {
      "cell_type": "code",
      "metadata": {
        "id": "P6HC1PffVMfO"
      },
      "source": [],
      "execution_count": null,
      "outputs": []
    },
    {
      "cell_type": "markdown",
      "metadata": {
        "id": "Bb2WYG4dVM-D"
      },
      "source": [
        "## GPU 설정"
      ]
    },
    {
      "cell_type": "code",
      "metadata": {
        "id": "UAZC0wPNMKWl"
      },
      "source": [],
      "execution_count": null,
      "outputs": []
    },
    {
      "cell_type": "code",
      "metadata": {
        "id": "Tc3ppTb_VLi-"
      },
      "source": [],
      "execution_count": null,
      "outputs": []
    },
    {
      "cell_type": "markdown",
      "metadata": {
        "id": "aTEJw6zqVVa9"
      },
      "source": [
        "## 데이터 로드 및 확인"
      ]
    },
    {
      "cell_type": "code",
      "metadata": {
        "id": "kY4SEtBXVU3d"
      },
      "source": [],
      "execution_count": null,
      "outputs": []
    },
    {
      "cell_type": "markdown",
      "metadata": {
        "id": "mDdQzhBMVf2h"
      },
      "source": [
        "## 전처리 설정"
      ]
    },
    {
      "cell_type": "code",
      "metadata": {
        "id": "jY_E5wxrVg3b"
      },
      "source": [],
      "execution_count": null,
      "outputs": []
    },
    {
      "cell_type": "code",
      "metadata": {
        "id": "nSlFNj_MVo4Z"
      },
      "source": [],
      "execution_count": null,
      "outputs": []
    },
    {
      "cell_type": "code",
      "metadata": {
        "id": "so2unZuYt7vI"
      },
      "source": [],
      "execution_count": null,
      "outputs": []
    },
    {
      "cell_type": "markdown",
      "metadata": {
        "id": "lb3MJo1EWPFF"
      },
      "source": [
        "## 사전훈련된 모델 로드"
      ]
    },
    {
      "cell_type": "code",
      "metadata": {
        "id": "xnY0c_praMxW"
      },
      "source": [],
      "execution_count": null,
      "outputs": []
    },
    {
      "cell_type": "markdown",
      "metadata": {
        "id": "80IBkg0Ne1wI"
      },
      "source": [
        "- ImageNet 의 데이터를 훈련한 모델\n",
        "  - `num_class`가 1000"
      ]
    },
    {
      "cell_type": "code",
      "metadata": {
        "id": "oaw7dtUIaPSn"
      },
      "source": [],
      "execution_count": null,
      "outputs": []
    },
    {
      "cell_type": "markdown",
      "metadata": {
        "id": "Dvz_k1N7eepK"
      },
      "source": [
        "-"
      ]
    },
    {
      "cell_type": "markdown",
      "metadata": {
        "id": "5a9EUSIoe5dZ"
      },
      "source": [
        "- 데이터의 클래스 수에 맞게 `out_features` 변경"
      ]
    },
    {
      "cell_type": "code",
      "metadata": {
        "id": "iVg3aSetefiZ"
      },
      "source": [],
      "execution_count": null,
      "outputs": []
    },
    {
      "cell_type": "markdown",
      "metadata": {
        "id": "EZzweABldjb7"
      },
      "source": [
        "## 손실함수와 옵티마이저"
      ]
    },
    {
      "cell_type": "code",
      "metadata": {
        "id": "cHyza-a6aPQj"
      },
      "source": [],
      "execution_count": null,
      "outputs": []
    },
    {
      "cell_type": "markdown",
      "metadata": {
        "id": "IxAk7LFielwF"
      },
      "source": [
        "-  7 에폭마다 0.1씩 학습율 감소"
      ]
    },
    {
      "cell_type": "code",
      "metadata": {
        "id": "foq6PN-PaPNt"
      },
      "source": [],
      "execution_count": null,
      "outputs": []
    },
    {
      "cell_type": "markdown",
      "metadata": {
        "id": "p1kE2p9VewDQ"
      },
      "source": [
        "## 모델 학습"
      ]
    },
    {
      "cell_type": "markdown",
      "metadata": {
        "id": "1as6dJqXexUw"
      },
      "source": [
        "- 학습 함수 정의"
      ]
    },
    {
      "cell_type": "code",
      "metadata": {
        "id": "TEg8cwg0Z3jV"
      },
      "source": [],
      "execution_count": null,
      "outputs": []
    },
    {
      "cell_type": "code",
      "metadata": {
        "id": "0bpaXy_IW2tM"
      },
      "source": [],
      "execution_count": null,
      "outputs": []
    },
    {
      "cell_type": "markdown",
      "metadata": {
        "id": "Cau4rJKlfKam"
      },
      "source": [
        "## 결과 시각화"
      ]
    },
    {
      "cell_type": "markdown",
      "metadata": {
        "id": "yOr5qFvCfMNw"
      },
      "source": [
        "- 시각화 함수 정의"
      ]
    },
    {
      "cell_type": "code",
      "metadata": {
        "id": "mDgQfez7AvUq"
      },
      "source": [],
      "execution_count": null,
      "outputs": []
    },
    {
      "cell_type": "code",
      "metadata": {
        "id": "JOvwqJDPe-vQ"
      },
      "source": [],
      "execution_count": null,
      "outputs": []
    },
    {
      "cell_type": "code",
      "metadata": {
        "id": "onAbz0_VfNUu"
      },
      "source": [],
      "execution_count": null,
      "outputs": []
    },
    {
      "cell_type": "markdown",
      "metadata": {
        "id": "g7XdP4IvfxVj"
      },
      "source": [
        "## 고정된 특징 추출기로써의 합성곱 신경망\n",
        "- 마지막 계층을 제외한 신경망의 모든 부분을 고정\n",
        "\n",
        "- `requires_grad == False` 로 설정하여 매개변수를 고정하여 backward() 중에 경사도가 계산되지 않도록 한다.\n",
        "\n"
      ]
    },
    {
      "cell_type": "code",
      "metadata": {
        "id": "iFuhnRZHfP9Y"
      },
      "source": [],
      "execution_count": null,
      "outputs": []
    },
    {
      "cell_type": "code",
      "metadata": {
        "id": "glRzB5nef7W4"
      },
      "source": [],
      "execution_count": null,
      "outputs": []
    },
    {
      "cell_type": "code",
      "metadata": {
        "id": "YCCIhvYff-GL"
      },
      "source": [],
      "execution_count": null,
      "outputs": []
    }
  ]
}