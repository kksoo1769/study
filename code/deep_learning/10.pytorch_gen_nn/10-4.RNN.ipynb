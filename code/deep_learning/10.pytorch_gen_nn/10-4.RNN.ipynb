{
  "cells": [
    {
      "cell_type": "markdown",
      "metadata": {
        "id": "w7dUbyNVXcEf"
      },
      "source": [
        "# 파이토치 RNN 분류 모델\n",
        "- 코드 출처: https://tutorials.pytorch.kr/intermediate/char_rnn_classification_tutorial.html"
      ]
    },
    {
      "cell_type": "code",
      "execution_count": 173,
      "metadata": {
        "id": "dB-d43kLYEAi"
      },
      "outputs": [
        {
          "name": "stdout",
          "output_type": "stream",
          "text": [
            "['data/', 'data/eng-fra.txt', 'data/names/', 'data/names/Arabic.txt', 'data/names/Chinese.txt', 'data/names/Czech.txt', 'data/names/Dutch.txt', 'data/names/English.txt', 'data/names/French.txt', 'data/names/German.txt', 'data/names/Greek.txt', 'data/names/Irish.txt', 'data/names/Italian.txt', 'data/names/Japanese.txt', 'data/names/Korean.txt', 'data/names/Polish.txt', 'data/names/Portuguese.txt', 'data/names/Russian.txt', 'data/names/Scottish.txt', 'data/names/Spanish.txt', 'data/names/Vietnamese.txt']\n"
          ]
        }
      ],
      "source": [
        "import requests\n",
        "import zipfile\n",
        "import io\n",
        "import os\n",
        "\n",
        "URL = 'https://download.pytorch.org/tutorial/data.zip'\n",
        "res = requests.get(URL)\n",
        "res.raise_for_status()\n",
        "\n",
        "z = zipfile.ZipFile(io.BytesIO(res.content))\n",
        "\n",
        "print(z.namelist())"
      ]
    },
    {
      "cell_type": "code",
      "execution_count": 174,
      "metadata": {},
      "outputs": [],
      "source": [
        "z.extractall(os.getcwd())"
      ]
    },
    {
      "cell_type": "markdown",
      "metadata": {
        "id": "Vukqoa09LSZw"
      },
      "source": [
        "이름: Ślusàrski"
      ]
    },
    {
      "cell_type": "code",
      "execution_count": 175,
      "metadata": {
        "id": "2d1pQ-JeYKzw"
      },
      "outputs": [
        {
          "name": "stdout",
          "output_type": "stream",
          "text": [
            "['c:\\\\Users\\\\kksoo\\\\Desktop\\\\work\\\\study\\\\code\\\\deep_learning\\\\10.pytorch_gen_nn\\\\data\\\\names\\\\Arabic.txt', 'c:\\\\Users\\\\kksoo\\\\Desktop\\\\work\\\\study\\\\code\\\\deep_learning\\\\10.pytorch_gen_nn\\\\data\\\\names\\\\Chinese.txt', 'c:\\\\Users\\\\kksoo\\\\Desktop\\\\work\\\\study\\\\code\\\\deep_learning\\\\10.pytorch_gen_nn\\\\data\\\\names\\\\Czech.txt', 'c:\\\\Users\\\\kksoo\\\\Desktop\\\\work\\\\study\\\\code\\\\deep_learning\\\\10.pytorch_gen_nn\\\\data\\\\names\\\\Dutch.txt', 'c:\\\\Users\\\\kksoo\\\\Desktop\\\\work\\\\study\\\\code\\\\deep_learning\\\\10.pytorch_gen_nn\\\\data\\\\names\\\\English.txt', 'c:\\\\Users\\\\kksoo\\\\Desktop\\\\work\\\\study\\\\code\\\\deep_learning\\\\10.pytorch_gen_nn\\\\data\\\\names\\\\French.txt', 'c:\\\\Users\\\\kksoo\\\\Desktop\\\\work\\\\study\\\\code\\\\deep_learning\\\\10.pytorch_gen_nn\\\\data\\\\names\\\\German.txt', 'c:\\\\Users\\\\kksoo\\\\Desktop\\\\work\\\\study\\\\code\\\\deep_learning\\\\10.pytorch_gen_nn\\\\data\\\\names\\\\Greek.txt', 'c:\\\\Users\\\\kksoo\\\\Desktop\\\\work\\\\study\\\\code\\\\deep_learning\\\\10.pytorch_gen_nn\\\\data\\\\names\\\\Irish.txt', 'c:\\\\Users\\\\kksoo\\\\Desktop\\\\work\\\\study\\\\code\\\\deep_learning\\\\10.pytorch_gen_nn\\\\data\\\\names\\\\Italian.txt', 'c:\\\\Users\\\\kksoo\\\\Desktop\\\\work\\\\study\\\\code\\\\deep_learning\\\\10.pytorch_gen_nn\\\\data\\\\names\\\\Japanese.txt', 'c:\\\\Users\\\\kksoo\\\\Desktop\\\\work\\\\study\\\\code\\\\deep_learning\\\\10.pytorch_gen_nn\\\\data\\\\names\\\\Korean.txt', 'c:\\\\Users\\\\kksoo\\\\Desktop\\\\work\\\\study\\\\code\\\\deep_learning\\\\10.pytorch_gen_nn\\\\data\\\\names\\\\Polish.txt', 'c:\\\\Users\\\\kksoo\\\\Desktop\\\\work\\\\study\\\\code\\\\deep_learning\\\\10.pytorch_gen_nn\\\\data\\\\names\\\\Portuguese.txt', 'c:\\\\Users\\\\kksoo\\\\Desktop\\\\work\\\\study\\\\code\\\\deep_learning\\\\10.pytorch_gen_nn\\\\data\\\\names\\\\Russian.txt', 'c:\\\\Users\\\\kksoo\\\\Desktop\\\\work\\\\study\\\\code\\\\deep_learning\\\\10.pytorch_gen_nn\\\\data\\\\names\\\\Scottish.txt', 'c:\\\\Users\\\\kksoo\\\\Desktop\\\\work\\\\study\\\\code\\\\deep_learning\\\\10.pytorch_gen_nn\\\\data\\\\names\\\\Spanish.txt', 'c:\\\\Users\\\\kksoo\\\\Desktop\\\\work\\\\study\\\\code\\\\deep_learning\\\\10.pytorch_gen_nn\\\\data\\\\names\\\\Vietnamese.txt']\n",
            "Slusarski\n"
          ]
        }
      ],
      "source": [
        "from io import open\n",
        "import glob\n",
        "\n",
        "path = os.path.join(os.getcwd(), 'data', 'names')\n",
        "\n",
        "def find_files(path: str):\n",
        "    \"\"\"특정 패턴에 맞는 파일들을 찾아 그 path를 반환하는 함수\"\"\"\n",
        "    return glob.glob(path)\n",
        "\n",
        "print(find_files(os.path.join(path, '*.txt')))\n",
        "\n",
        "import unicodedata\n",
        "import string\n",
        "\n",
        "all_letters = string.ascii_letters + \" .,;'\"\n",
        "n_letters = len(all_letters)\n",
        "\n",
        "def unicode_to_ascii(s: str):\n",
        "    res = ''.join(c for c in unicodedata.normalize('NFD', s) if unicodedata.category(c) != 'Mn' and c in all_letters) # Accent 제거\n",
        "    \n",
        "    return res\n",
        "\n",
        "print(unicode_to_ascii('Ślusàrski'))\n",
        "\n",
        "category_lines = {}\n",
        "all_categories = []\n",
        "\n",
        "def read_lines(file_name: str):\n",
        "    lines = open(file_name, encoding='utf-8').read().strip().split('\\n')\n",
        "\n",
        "    return [unicode_to_ascii(line) for line in lines]\n",
        "\n",
        "for file_name in find_files(os.path.join(path, '*.txt')):\n",
        "    category = os.path.splitext(os.path.basename(file_name))[0]\n",
        "    all_categories.append(category)\n",
        "    lines = read_lines(file_name)\n",
        "    category_lines[category] = lines\n",
        "    \n",
        "n_categories = len(all_categories)"
      ]
    },
    {
      "cell_type": "code",
      "execution_count": 176,
      "metadata": {
        "id": "o39feEPmYRdv"
      },
      "outputs": [
        {
          "data": {
            "text/plain": [
              "['Ahn', 'Baik', 'Bang', 'Byon', 'Cha']"
            ]
          },
          "execution_count": 176,
          "metadata": {},
          "output_type": "execute_result"
        }
      ],
      "source": [
        "category_lines[\"Korean\"][:5]"
      ]
    },
    {
      "cell_type": "code",
      "execution_count": 177,
      "metadata": {
        "id": "Mkjk05rwYUyx"
      },
      "outputs": [
        {
          "name": "stdout",
          "output_type": "stream",
          "text": [
            "tensor([[0., 0., 0., 0., 0., 0., 0., 0., 0., 0., 0., 0., 0., 0., 0., 0., 0., 0.,\n",
            "         0., 0., 0., 0., 0., 0., 0., 0., 0., 0., 0., 0., 0., 0., 0., 0., 0., 1.,\n",
            "         0., 0., 0., 0., 0., 0., 0., 0., 0., 0., 0., 0., 0., 0., 0., 0., 0., 0.,\n",
            "         0., 0., 0.]])\n",
            "torch.Size([5, 1, 57])\n"
          ]
        }
      ],
      "source": [
        "import torch\n",
        "\n",
        "def letter_to_idx(letter: str):\n",
        "    return all_letters.find(letter)\n",
        "\n",
        "def letter_to_tensor(letter: str):\n",
        "    tensor = torch.zeros(1, n_letters) # 배치 크기: 1\n",
        "    tensor[0][letter_to_idx(letter)] = 1\n",
        "    \n",
        "    return tensor\n",
        "\n",
        "def line_to_tensor(line: str):\n",
        "    tensor = torch.zeros(len(line), 1, n_letters)\n",
        "\n",
        "    for i, letter in enumerate(line):\n",
        "        tensor[i][0][letter_to_idx(letter)] = 1\n",
        "    \n",
        "    return tensor\n",
        "\n",
        "print(letter_to_tensor('J'))\n",
        "print(line_to_tensor('Jones').size())"
      ]
    },
    {
      "cell_type": "markdown",
      "metadata": {
        "id": "IPVvWrMHYelv"
      },
      "source": [
        "## 신경망 생성\n",
        "\n",
        "- 모델 생성 방법 참고 : https://pytorch.org/tutorials/beginner/former_torchies/nnft_tutorial.html"
      ]
    },
    {
      "cell_type": "code",
      "execution_count": 178,
      "metadata": {
        "id": "t6gKYokQYYZW"
      },
      "outputs": [],
      "source": [
        "import torch.nn as nn\n",
        "\n",
        "class RNN(nn.Module):\n",
        "    def __init__(self, input_size, hidden_size, output_size):\n",
        "        super(RNN, self).__init__()\n",
        "\n",
        "        self.hidden_size = hidden_size\n",
        "        \n",
        "        self.i2h = nn.Linear(input_size + hidden_size, hidden_size)\n",
        "        self.i2o = nn.Linear(input_size + hidden_size, output_size)\n",
        "        self.softmax = nn.LogSoftmax(dim=1)\n",
        "\n",
        "    def forward(self, input: torch.Tensor, hidden: torch.Tensor):\n",
        "        combined = torch.cat((input, hidden), 1)\n",
        "        hidden = self.i2h(combined)\n",
        "        output = self.i2o(combined)\n",
        "        output = self.softmax(output)\n",
        "\n",
        "        return output, hidden\n",
        "    \n",
        "    def init_hidden(self):\n",
        "        return torch.zeros(1, self.hidden_size)\n",
        "\n",
        "n_hidden = 128\n",
        "rnn = RNN(n_letters, n_hidden, n_categories)"
      ]
    },
    {
      "cell_type": "code",
      "execution_count": 179,
      "metadata": {
        "id": "wuFpzGrHYgBY"
      },
      "outputs": [
        {
          "name": "stdout",
          "output_type": "stream",
          "text": [
            "tensor([[-2.9697, -2.8416, -2.9864, -2.8056, -2.9647, -2.8874, -2.8592, -2.9712,\n",
            "         -2.8522, -2.8807, -2.8588, -2.8848, -2.9589, -2.9399, -2.8666, -2.8219,\n",
            "         -2.8949, -2.8116]], grad_fn=<LogSoftmaxBackward0>)\n"
          ]
        }
      ],
      "source": [
        "input = letter_to_tensor('A')\n",
        "hidden = torch.zeros(1, n_hidden)\n",
        "\n",
        "output, next_hidden = rnn(input, hidden)\n",
        "print(output)"
      ]
    },
    {
      "cell_type": "code",
      "execution_count": 180,
      "metadata": {
        "id": "wpGGzL2NYku2"
      },
      "outputs": [
        {
          "name": "stdout",
          "output_type": "stream",
          "text": [
            "tensor([[-2.9697, -2.8416, -2.9864, -2.8056, -2.9647, -2.8874, -2.8592, -2.9712,\n",
            "         -2.8522, -2.8807, -2.8588, -2.8848, -2.9589, -2.9399, -2.8666, -2.8219,\n",
            "         -2.8949, -2.8116]], grad_fn=<LogSoftmaxBackward0>)\n"
          ]
        }
      ],
      "source": [
        "input = line_to_tensor('Albert')\n",
        "hidden = torch.zeros(1, n_hidden)\n",
        "\n",
        "output, next_hidden = rnn(input[0], hidden)\n",
        "print(output)"
      ]
    },
    {
      "cell_type": "markdown",
      "metadata": {
        "id": "q3qAoF6BYrPW"
      },
      "source": [
        "## 모델 학습\n",
        "- 준비"
      ]
    },
    {
      "cell_type": "code",
      "execution_count": 181,
      "metadata": {
        "id": "WNTCbv4aYoP2"
      },
      "outputs": [
        {
          "name": "stdout",
          "output_type": "stream",
          "text": [
            "('Dutch', 3)\n"
          ]
        }
      ],
      "source": [
        "def category_from_output(output: torch.Tensor):\n",
        "    _, idx = output.topk(1)\n",
        "    \n",
        "    return all_categories[idx.item()], idx.item()\n",
        "\n",
        "print(category_from_output(output))"
      ]
    },
    {
      "cell_type": "code",
      "execution_count": 182,
      "metadata": {
        "id": "aanvL45oYs00"
      },
      "outputs": [
        {
          "name": "stdout",
          "output_type": "stream",
          "text": [
            "Category: Dutch  \t Line: Rooiakkers\n",
            "Category: French  \t Line: Dufort\n",
            "Category: Polish  \t Line: Pasternak\n",
            "Category: French  \t Line: Gage\n",
            "Category: Japanese  \t Line: Hamamoto\n",
            "Category: Arabic  \t Line: Bata\n",
            "Category: Vietnamese  \t Line: Vinh\n",
            "Category: German  \t Line: Gass\n",
            "Category: Japanese  \t Line: Nitta\n",
            "Category: Russian  \t Line: Davitashvili\n"
          ]
        }
      ],
      "source": [
        "import random\n",
        "\n",
        "def random_choice(l: list):\n",
        "    return l[random.randint(0, len(l) - 1)]\n",
        "\n",
        "def random_training_example():\n",
        "    category = random_choice(all_categories)\n",
        "    line = random_choice(category_lines[category])\n",
        "    category_tensor = torch.tensor([all_categories.index(category)], dtype=torch.long)\n",
        "    line_tensor = line_to_tensor(line)\n",
        "\n",
        "    return category, line, category_tensor, line_tensor\n",
        "\n",
        "for i in range(10):\n",
        "    category, line, category_tensor, line_tensor = random_training_example()\n",
        "    print(f\"Category: {category}  \\t Line: {line}\")"
      ]
    },
    {
      "cell_type": "markdown",
      "metadata": {
        "id": "qVA-IZP3Yzz2"
      },
      "source": [
        "## 손실함수"
      ]
    },
    {
      "cell_type": "code",
      "execution_count": 183,
      "metadata": {
        "id": "Y98Uy0YPYwjY"
      },
      "outputs": [],
      "source": [
        "criterion = nn.NLLLoss() # 출력 결과가 로그 확률이 되야 함"
      ]
    },
    {
      "cell_type": "markdown",
      "metadata": {
        "id": "oDyQIe8lY_Vl"
      },
      "source": [
        "## 모델 학습"
      ]
    },
    {
      "cell_type": "code",
      "execution_count": 184,
      "metadata": {
        "id": "4vIcTqP8Y9lo"
      },
      "outputs": [],
      "source": [
        "lr = 0.005\n",
        "\n",
        "def train(category_tensor: torch.Tensor, line_tensor: torch.Tensor):\n",
        "    hidden = rnn.init_hidden()\n",
        "    rnn.zero_grad()\n",
        "    \n",
        "    for i in range(line_tensor.size(0)):\n",
        "        output, hidden = rnn(line_tensor[i], hidden)\n",
        "    \n",
        "    loss = criterion(output, category_tensor)\n",
        "    loss.backward()\n",
        "    \n",
        "    for param in rnn.parameters():\n",
        "        param.data.add_(param.grad, alpha=-lr)\n",
        "    \n",
        "    return output, loss.item()"
      ]
    },
    {
      "cell_type": "code",
      "execution_count": 185,
      "metadata": {
        "id": "DRDcSbrsZAK9"
      },
      "outputs": [
        {
          "name": "stdout",
          "output_type": "stream",
          "text": [
            "5000 1.67 (0m 3s) 2.3893 Nunes / Dutch X Portuguese\n",
            "10000 3.33 (0m 7s) 2.1015 Kuipers / Portuguese X Dutch\n",
            "15000 5.00 (0m 10s) 0.2601 Sakakibara / Japanese O\n",
            "20000 6.67 (0m 14s) 1.3040 Shu / Vietnamese X Chinese\n",
            "25000 8.33 (0m 17s) 1.1144 Asfour / Arabic O\n",
            "30000 10.00 (0m 21s) 1.3849 Fabre / French O\n",
            "35000 11.67 (0m 24s) 0.5646 Davidson / Scottish O\n",
            "40000 13.33 (0m 28s) 2.3246 Varey / French X English\n",
            "45000 15.00 (0m 32s) 1.1778 Gorecki / Czech X Polish\n",
            "50000 16.67 (0m 35s) 0.0581 Eliopoulos / Greek O\n",
            "55000 18.33 (0m 39s) 0.3675 Mui / Chinese O\n",
            "60000 20.00 (0m 42s) 1.9252 Alpin / Scottish X English\n",
            "65000 21.67 (0m 46s) 0.9889 Amari / Arabic O\n",
            "70000 23.33 (0m 49s) 3.8232 Pettigrew / Russian X French\n",
            "75000 25.00 (0m 53s) 1.1391 Jedynak / Czech X Polish\n",
            "80000 26.67 (0m 56s) 3.8488 Marubeni / Italian X Japanese\n",
            "85000 28.33 (1m 0s) 0.8363 Salib / Arabic O\n",
            "90000 30.00 (1m 3s) 0.5375 Hernandez / Spanish O\n",
            "95000 31.67 (1m 7s) 0.6198 Cai / Chinese O\n",
            "100000 33.33 (1m 11s) 0.0926 Pefanis / Greek O\n",
            "105000 35.00 (1m 14s) 0.3821 Ritter / German O\n",
            "110000 36.67 (1m 18s) 1.7727 Dumont / French X English\n",
            "115000 38.33 (1m 21s) 0.2665 Kurohiko / Japanese O\n",
            "120000 40.00 (1m 25s) 0.2781 Dovgalev / Russian O\n",
            "125000 41.67 (1m 29s) 1.7686 Bowen / Dutch X English\n",
            "130000 43.33 (1m 32s) 1.4158 Kanaan / Irish X Arabic\n",
            "135000 45.00 (1m 36s) 4.7534 Nifterik / Czech X Dutch\n",
            "140000 46.67 (1m 39s) 4.2815 Eilerts / Spanish X German\n",
            "145000 48.33 (1m 43s) 1.5357 Alesi / Arabic X Italian\n",
            "150000 50.00 (1m 46s) 0.3346 Kreskas / Greek O\n",
            "155000 51.67 (1m 50s) 0.2495 O'Keefe / Irish O\n",
            "160000 53.33 (1m 54s) 0.8530 Dufour / French O\n",
            "165000 55.00 (1m 57s) 4.6606 Regenbogen / French X German\n",
            "170000 56.67 (2m 1s) 0.0830 O'Neal / Irish O\n",
            "175000 58.33 (2m 4s) 4.0787 Lyon / Korean X French\n",
            "180000 60.00 (2m 8s) 0.2216 Yue / Chinese O\n",
            "185000 61.67 (2m 11s) 1.4746 Hamill / English O\n",
            "190000 63.33 (2m 15s) 1.4170 Seto / Chinese O\n",
            "195000 65.00 (2m 19s) 0.8466 Lobo / Portuguese O\n",
            "200000 66.67 (2m 22s) 0.3665 Feng / Chinese O\n",
            "205000 68.33 (2m 26s) 0.5498 Heidrich / German O\n",
            "210000 70.00 (2m 29s) 2.3325 Parmar / French X English\n",
            "215000 71.67 (2m 33s) 2.4870 Arbore / English X Italian\n",
            "220000 73.33 (2m 36s) 1.3047 Clifton / Scottish X English\n",
            "225000 75.00 (2m 40s) 1.4334 Calabrese / French X Italian\n",
            "230000 76.67 (2m 43s) 0.8387 Tanzer / German O\n",
            "235000 78.33 (2m 47s) 0.4188 Vinh / Vietnamese O\n",
            "240000 80.00 (2m 50s) 0.2011 Krakowski / Polish O\n",
            "245000 81.67 (2m 54s) 2.7112 Weigand / Japanese X German\n",
            "250000 83.33 (2m 58s) 3.8412 Schwarz / Scottish X Czech\n",
            "255000 85.00 (3m 1s) 0.0065 Acconci / Italian O\n",
            "260000 86.67 (3m 5s) 3.7601 Albert / French X Spanish\n",
            "265000 88.33 (3m 8s) 3.4141 Ransom / English X Czech\n",
            "270000 90.00 (3m 12s) 4.7938 Rodrigues / Portuguese X English\n",
            "275000 91.67 (3m 15s) 0.1516 Cleirigh / Irish O\n",
            "280000 93.33 (3m 19s) 3.6314 Schmied / English X Czech\n",
            "285000 95.00 (3m 22s) 0.0832 Guan / Chinese O\n",
            "290000 96.67 (3m 26s) 0.9863 Jager / German O\n",
            "295000 98.33 (3m 29s) 0.6807 Peeters / Dutch O\n",
            "300000 100.00 (3m 33s) 1.7334 Sturrock / Czech X English\n"
          ]
        }
      ],
      "source": [
        "import time\n",
        "import math\n",
        "\n",
        "n_iters = 300_000\n",
        "print_every = 5_000\n",
        "plot_every = 1_000\n",
        "\n",
        "cur_loss = 0\n",
        "all_losses = []\n",
        "\n",
        "def time_since(since):\n",
        "    now = time.time()\n",
        "    s = now - since\n",
        "    m = math.floor(s / 60)\n",
        "    s = int(s - m * 60)\n",
        "    \n",
        "    return f\"{m:d}m {s:d}s\"\n",
        "\n",
        "start = time.time()\n",
        "\n",
        "for iter in range(1, n_iters + 1):\n",
        "    category, line, category_tensor, line_tensor = random_training_example()\n",
        "    output, loss = train(category_tensor, line_tensor)\n",
        "    cur_loss += loss\n",
        "    \n",
        "    if iter % print_every == 0:\n",
        "        guess, guess_i = category_from_output(output)\n",
        "        correct = 'O' if guess == category else f'X {category:s}'\n",
        "        print(f\"{iter:d} {(iter / n_iters * 100):.2f} ({time_since(start):s}) {loss:.4f} {line:s} / {guess:s} {correct:s}\")\n",
        "    \n",
        "    if iter % plot_every == 0:\n",
        "        all_losses.append(cur_loss / plot_every)\n",
        "        cur_loss = 0"
      ]
    },
    {
      "cell_type": "code",
      "execution_count": 186,
      "metadata": {
        "id": "cSwAjR6QZDRf"
      },
      "outputs": [
        {
          "data": {
            "image/png": "[encoded data removed]",
            "text/plain": [
              "<Figure size 640x480 with 1 Axes>"
            ]
          },
          "metadata": {},
          "output_type": "display_data"
        }
      ],
      "source": [
        "import matplotlib.ticker as ticker\n",
        "import matplotlib.pyplot as plt\n",
        "plt.style.use('seaborn-v0_8-white')\n",
        "\n",
        "plt.figure()\n",
        "plt.plot(all_losses)\n",
        "plt.grid()\n",
        "plt.show()"
      ]
    },
    {
      "cell_type": "markdown",
      "metadata": {
        "id": "J0_2HyE3ZPZk"
      },
      "source": [
        "## 모델 테스트"
      ]
    },
    {
      "cell_type": "code",
      "execution_count": 190,
      "metadata": {
        "id": "MBVWJNmoZO8a"
      },
      "outputs": [
        {
          "data": {
            "image/png": "[encoded data removed]",
            "text/plain": [
              "<Figure size 640x480 with 2 Axes>"
            ]
          },
          "metadata": {},
          "output_type": "display_data"
        }
      ],
      "source": [
        "cm = torch.zeros(n_categories, n_categories)\n",
        "n_confusion = 10_000\n",
        "\n",
        "def evaluate(line_tensor: torch.Tensor):\n",
        "    hidden = rnn.init_hidden()\n",
        "    \n",
        "    for i in range(line_tensor.size(0)):\n",
        "        output, hidden = rnn(line_tensor[i], hidden)\n",
        "    \n",
        "    return output\n",
        "\n",
        "for i in range(n_confusion):\n",
        "    category, line, category_tensor, line_tensor = random_training_example()\n",
        "    output = evaluate(line_tensor)\n",
        "    guess, guess_i = category_from_output(output)\n",
        "    category_i = all_categories.index(category)\n",
        "    cm[category_i][guess_i] += 1\n",
        "\n",
        "for i in range(n_categories):\n",
        "    cm[i] = cm[i] / cm[i].sum()\n",
        "\n",
        "fig = plt.figure()\n",
        "ax = fig.add_subplot(111)\n",
        "cax = ax.matshow(cm.numpy())\n",
        "fig.colorbar(cax)\n",
        "ax.set_xticks(range(n_categories))\n",
        "ax.set_yticks(range(n_categories))\n",
        "ax.set_xticklabels(all_categories, rotation=90)\n",
        "ax.set_yticklabels(all_categories)\n",
        "ax.xaxis.set_major_locator(ticker.MultipleLocator(1))\n",
        "ax.yaxis.set_major_locator(ticker.MultipleLocator(1))\n",
        "\n",
        "plt.show()"
      ]
    },
    {
      "cell_type": "markdown",
      "metadata": {
        "id": "AfjRYlioZV3o"
      },
      "source": [
        "## 사용자 입력으로부터의 실행"
      ]
    },
    {
      "cell_type": "code",
      "execution_count": 192,
      "metadata": {
        "id": "uteG1Je5ZQWg"
      },
      "outputs": [
        {
          "name": "stdout",
          "output_type": "stream",
          "text": [
            "\n",
            "> Jackson\n",
            "-0.06 Scottish\n",
            "-3.52 English\n",
            "-4.43 Czech\n",
            "\n",
            "> Bill\n",
            "-1.42 English\n",
            "-1.51 Irish\n",
            "-2.08 Czech\n",
            "\n",
            "> Dovesky\n",
            "-0.62 Russian\n",
            "-1.11 Czech\n",
            "-2.64 English\n",
            "\n",
            "> Kim\n",
            "-0.38 Korean\n",
            "-1.92 Vietnamese\n",
            "-2.00 Chinese\n"
          ]
        }
      ],
      "source": [
        "def predict(input_line: torch.Tensor, n_predictions: int=3):\n",
        "    print(f\"\\n> {input_line:s}\")\n",
        "    with torch.no_grad():\n",
        "        output = evaluate(line_to_tensor(input_line))\n",
        "\n",
        "        vals, indices = output.topk(n_predictions, 1, True)\n",
        "        preds = []\n",
        "        \n",
        "        for i in range(n_predictions):\n",
        "            val = vals[0][i].item()\n",
        "            idx = indices[0][i].item()\n",
        "            print(f\"{val:.2f} {all_categories[idx]:s}\")\n",
        "            preds.append([vals, all_categories[idx]])\n",
        "\n",
        "predict(\"Jackson\")\n",
        "predict(\"Bill\")\n",
        "predict(\"Dovesky\")\n",
        "predict(\"Kim\")"
      ]
    }
  ],
  "metadata": {
    "colab": {
      "provenance": []
    },
    "kernelspec": {
      "display_name": "Python 3",
      "name": "python3"
    },
    "language_info": {
      "codemirror_mode": {
        "name": "ipython",
        "version": 3
      },
      "file_extension": ".py",
      "mimetype": "text/x-python",
      "name": "python",
      "nbconvert_exporter": "python",
      "pygments_lexer": "ipython3",
      "version": "3.11.7"
    }
  },
  "nbformat": 4,
  "nbformat_minor": 0
}
