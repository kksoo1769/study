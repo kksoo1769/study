{
  "cells": [
    {
      "cell_type": "markdown",
      "metadata": {
        "id": "tn20bWIft1Wf"
      },
      "source": [
        "## 예제로 보는 CNN 구조와 학습\n",
        "- 모델 구현은 참고만\n",
        "\n",
        "\n",
        "- [런타임] - [런타임 유형변경] - GPU 변경"
      ]
    },
    {
      "cell_type": "markdown",
      "metadata": {
        "id": "BHhyHQlXt5sg"
      },
      "source": [
        "### 일반적인 구조"
      ]
    },
    {
      "cell_type": "markdown",
      "metadata": {
        "id": "Uc_6azlInDiX"
      },
      "source": [
        "#### modules import"
      ]
    },
    {
      "cell_type": "code",
      "execution_count": 14,
      "metadata": {
        "id": "RaGnRnRQnGxs"
      },
      "outputs": [],
      "source": [
        "%load_ext tensorboard"
      ]
    },
    {
      "cell_type": "code",
      "execution_count": 15,
      "metadata": {
        "id": "P0OWXLK7rI17"
      },
      "outputs": [],
      "source": [
        "import datetime\n",
        "import numpy as np\n",
        "import tensorflow as tf\n",
        "import matplotlib.pyplot as plt\n",
        "plt.style.use('seaborn-v0_8-white')\n",
        "\n",
        "from keras.models import Model, Sequential\n",
        "from keras.layers import Dense, Flatten, Conv2D, AvgPool2D, Dropout\n",
        "\n",
        "from keras import datasets\n",
        "from keras.utils import to_categorical, plot_model"
      ]
    },
    {
      "cell_type": "markdown",
      "metadata": {
        "id": "mvbFJmd7iUJq"
      },
      "source": [
        "#### 데이터 로드 및 전처리"
      ]
    },
    {
      "cell_type": "code",
      "execution_count": 16,
      "metadata": {
        "id": "4fLoBw2ciWxc"
      },
      "outputs": [
        {
          "name": "stdout",
          "output_type": "stream",
          "text": [
            "Downloading data from https://storage.googleapis.com/tensorflow/tf-keras-datasets/train-labels-idx1-ubyte.gz\n",
            "29515/29515 [==============================] - 0s 2us/step\n",
            "Downloading data from https://storage.googleapis.com/tensorflow/tf-keras-datasets/train-images-idx3-ubyte.gz\n",
            "26421880/26421880 [==============================] - 5s 0us/step\n",
            "Downloading data from https://storage.googleapis.com/tensorflow/tf-keras-datasets/t10k-labels-idx1-ubyte.gz\n",
            "5148/5148 [==============================] - 0s 0us/step\n",
            "Downloading data from https://storage.googleapis.com/tensorflow/tf-keras-datasets/t10k-images-idx3-ubyte.gz\n",
            "4422102/4422102 [==============================] - 0s 0us/step\n"
          ]
        }
      ],
      "source": [
        "(x_train, y_train), (x_test, y_test) = datasets.fashion_mnist.load_data()"
      ]
    },
    {
      "cell_type": "code",
      "execution_count": 17,
      "metadata": {
        "id": "_d0fNz-Iic59"
      },
      "outputs": [
        {
          "name": "stdout",
          "output_type": "stream",
          "text": [
            "(60000, 28, 28)\n",
            "(10000, 28, 28)\n",
            "(60000,)\n",
            "(10000,)\n"
          ]
        }
      ],
      "source": [
        "print(x_train.shape)\n",
        "print(x_test.shape)\n",
        "print(y_train.shape)\n",
        "print(y_test.shape)"
      ]
    },
    {
      "cell_type": "code",
      "execution_count": 18,
      "metadata": {
        "id": "8RYVxrCIipEe"
      },
      "outputs": [
        {
          "name": "stdout",
          "output_type": "stream",
          "text": [
            "(60000, 28, 28, 1)\n",
            "(10000, 28, 28, 1)\n",
            "(60000,)\n",
            "(10000,)\n"
          ]
        }
      ],
      "source": [
        "x_train = x_train[:, :, :, np.newaxis]\n",
        "x_test = x_test[:, :, :, np.newaxis]\n",
        "\n",
        "print(x_train.shape)\n",
        "print(x_test.shape)\n",
        "print(y_train.shape)\n",
        "print(y_test.shape)"
      ]
    },
    {
      "cell_type": "code",
      "execution_count": 19,
      "metadata": {
        "id": "v0UmbWwRirWN"
      },
      "outputs": [],
      "source": [
        "num_classes = 10\n",
        "\n",
        "y_train = to_categorical(y_train, num_classes=num_classes)\n",
        "y_test = to_categorical(y_test, num_classes=num_classes)"
      ]
    },
    {
      "cell_type": "code",
      "execution_count": 20,
      "metadata": {
        "id": "1U10c8i1jD_i"
      },
      "outputs": [
        {
          "name": "stdout",
          "output_type": "stream",
          "text": [
            "(60000, 10)\n",
            "(10000, 10)\n"
          ]
        }
      ],
      "source": [
        "print(y_train.shape)\n",
        "print(y_test.shape)"
      ]
    },
    {
      "cell_type": "code",
      "execution_count": 21,
      "metadata": {
        "id": "HkxO2Nr6k7gJ"
      },
      "outputs": [],
      "source": [
        "x_train = x_train.astype('float32')\n",
        "x_test = x_test.astype('float32')\n",
        "\n",
        "x_train /= 255\n",
        "x_test /= 255"
      ]
    },
    {
      "cell_type": "markdown",
      "metadata": {
        "id": "cDNOc0HxtYiw"
      },
      "source": [
        "#### CNN을 위한 간단한 모델"
      ]
    },
    {
      "cell_type": "code",
      "execution_count": 22,
      "metadata": {
        "id": "iMYhaDbks1Ge"
      },
      "outputs": [],
      "source": [
        "def build():\n",
        "    model = Sequential([\n",
        "        Conv2D(64, 7, activation='relu', padding='same', input_shape=(28, 28, 1)),\n",
        "        MaxPool2D(pool_size=2),\n",
        "        Conv2D(128, 3, activation='relu', padding='same'),\n",
        "        MaxPool2D(pool_size=2),\n",
        "        Conv2D(256, 3, activation='relu', padding='same'),\n",
        "        MaxPool2D(pool_size=2),\n",
        "        Flatten(),\n",
        "        Dense(126, activation='relu'),\n",
        "        Dropout(0.5),\n",
        "        Dense(64, activation='relu'),\n",
        "        Dropout(0.5),\n",
        "        Dense(10, activation='softmax')\n",
        "    ])\n",
        "\n",
        "    return model"
      ]
    },
    {
      "cell_type": "markdown",
      "metadata": {
        "id": "8FjwiXLmjh4V"
      },
      "source": [
        "#### 모델 컴파일"
      ]
    },
    {
      "cell_type": "code",
      "execution_count": 23,
      "metadata": {
        "id": "UMQhC68njhCp"
      },
      "outputs": [
        {
          "name": "stdout",
          "output_type": "stream",
          "text": [
            "Model: \"sequential\"\n",
            "_________________________________________________________________\n",
            " Layer (type)                Output Shape              Param #   \n",
            "=================================================================\n",
            " conv2d_1 (Conv2D)           (None, 28, 28, 64)        3200      \n",
            "                                                                 \n",
            " max_pooling2d (MaxPooling2  (None, 14, 14, 64)        0         \n",
            " D)                                                              \n",
            "                                                                 \n",
            " conv2d_2 (Conv2D)           (None, 14, 14, 128)       73856     \n",
            "                                                                 \n",
            " max_pooling2d_1 (MaxPoolin  (None, 7, 7, 128)         0         \n",
            " g2D)                                                            \n",
            "                                                                 \n",
            " conv2d_3 (Conv2D)           (None, 7, 7, 256)         295168    \n",
            "                                                                 \n",
            " max_pooling2d_2 (MaxPoolin  (None, 3, 3, 256)         0         \n",
            " g2D)                                                            \n",
            "                                                                 \n",
            " flatten (Flatten)           (None, 2304)              0         \n",
            "                                                                 \n",
            " dense (Dense)               (None, 126)               290430    \n",
            "                                                                 \n",
            " dropout (Dropout)           (None, 126)               0         \n",
            "                                                                 \n",
            " dense_1 (Dense)             (None, 64)                8128      \n",
            "                                                                 \n",
            " dropout_1 (Dropout)         (None, 64)                0         \n",
            "                                                                 \n",
            " dense_2 (Dense)             (None, 10)                650       \n",
            "                                                                 \n",
            "=================================================================\n",
            "Total params: 671432 (2.56 MB)\n",
            "Trainable params: 671432 (2.56 MB)\n",
            "Non-trainable params: 0 (0.00 Byte)\n",
            "_________________________________________________________________\n"
          ]
        }
      ],
      "source": [
        "model = build()\n",
        "\n",
        "model.compile(\n",
        "    optimizer='adam',\n",
        "    loss='categorical_crossentropy',\n",
        "    metrics=['accuracy']\n",
        ")\n",
        "\n",
        "model.summary()"
      ]
    },
    {
      "cell_type": "code",
      "execution_count": 24,
      "metadata": {
        "id": "5A8W8mEotexU"
      },
      "outputs": [
        {
          "name": "stdout",
          "output_type": "stream",
          "text": [
            "You must install pydot (`pip install pydot`) and install graphviz (see instructions at https://graphviz.gitlab.io/download/) for plot_model to work.\n"
          ]
        }
      ],
      "source": [
        "plot_model(model, show_shapes=True)"
      ]
    },
    {
      "cell_type": "code",
      "execution_count": 25,
      "metadata": {
        "id": "QS5VPN5atlZp"
      },
      "outputs": [],
      "source": [
        "from keras.callbacks import TensorBoard\n",
        "\n",
        "callbacks = [TensorBoard(log_dir='./logs')]"
      ]
    },
    {
      "cell_type": "markdown",
      "metadata": {
        "id": "F7OUnmTWkXE8"
      },
      "source": [
        "#### Hyper Parameters"
      ]
    },
    {
      "cell_type": "code",
      "execution_count": 26,
      "metadata": {
        "id": "_WTEYtTLkY4o"
      },
      "outputs": [],
      "source": [
        "epochs = 20\n",
        "batch_size = 256\n",
        "verbose = 1"
      ]
    },
    {
      "cell_type": "markdown",
      "metadata": {
        "id": "yHKIpJv7kVJF"
      },
      "source": [
        "#### 모델 학습\n",
        "- `validation_split` 을 통해 검증 데이터셋을 생성\n"
      ]
    },
    {
      "cell_type": "code",
      "execution_count": 27,
      "metadata": {
        "id": "YfJ2Wne0jNFk"
      },
      "outputs": [
        {
          "name": "stderr",
          "output_type": "stream",
          "text": [
            "2024-01-12 18:54:54.748226: I external/local_tsl/tsl/platform/default/subprocess.cc:304] Start cannot spawn child process: No such file or directory\n"
          ]
        },
        {
          "name": "stdout",
          "output_type": "stream",
          "text": [
            "Epoch 1/20\n"
          ]
        },
        {
          "name": "stderr",
          "output_type": "stream",
          "text": [
            "2024-01-12 18:54:57.092952: I external/local_xla/xla/service/service.cc:168] XLA service 0x7f760cbc39f0 initialized for platform CUDA (this does not guarantee that XLA will be used). Devices:\n",
            "2024-01-12 18:54:57.092988: I external/local_xla/xla/service/service.cc:176]   StreamExecutor device (0): NVIDIA GeForce RTX 3060 Ti, Compute Capability 8.6\n",
            "2024-01-12 18:54:57.106734: I tensorflow/compiler/mlir/tensorflow/utils/dump_mlir_util.cc:269] disabling MLIR crash reproducer, set env var `MLIR_CRASH_REPRODUCER_DIRECTORY` to enable.\n",
            "WARNING: All log messages before absl::InitializeLog() is called are written to STDERR\n",
            "I0000 00:00:1705053297.208650    1139 device_compiler.h:186] Compiled cluster using XLA!  This line is logged at most once for the lifetime of the process.\n"
          ]
        },
        {
          "name": "stdout",
          "output_type": "stream",
          "text": [
            "165/165 [==============================] - 7s 20ms/step - loss: 1.1369 - accuracy: 0.5852 - val_loss: 0.5338 - val_accuracy: 0.8003\n",
            "Epoch 2/20\n",
            "165/165 [==============================] - 2s 15ms/step - loss: 0.6217 - accuracy: 0.7800 - val_loss: 0.4150 - val_accuracy: 0.8492\n",
            "Epoch 3/20\n",
            "165/165 [==============================] - 2s 15ms/step - loss: 0.5168 - accuracy: 0.8218 - val_loss: 0.3608 - val_accuracy: 0.8669\n",
            "Epoch 4/20\n",
            "165/165 [==============================] - 2s 15ms/step - loss: 0.4549 - accuracy: 0.8445 - val_loss: 0.3566 - val_accuracy: 0.8663\n",
            "Epoch 5/20\n",
            "165/165 [==============================] - 2s 15ms/step - loss: 0.4235 - accuracy: 0.8563 - val_loss: 0.3180 - val_accuracy: 0.8868\n",
            "Epoch 6/20\n",
            "165/165 [==============================] - 2s 15ms/step - loss: 0.3884 - accuracy: 0.8699 - val_loss: 0.2968 - val_accuracy: 0.8960\n",
            "Epoch 7/20\n",
            "165/165 [==============================] - 2s 14ms/step - loss: 0.3576 - accuracy: 0.8780 - val_loss: 0.2856 - val_accuracy: 0.9000\n",
            "Epoch 8/20\n",
            "165/165 [==============================] - 2s 15ms/step - loss: 0.3399 - accuracy: 0.8846 - val_loss: 0.2797 - val_accuracy: 0.9017\n",
            "Epoch 9/20\n",
            "165/165 [==============================] - 2s 15ms/step - loss: 0.3257 - accuracy: 0.8894 - val_loss: 0.2677 - val_accuracy: 0.9055\n",
            "Epoch 10/20\n",
            "165/165 [==============================] - 3s 15ms/step - loss: 0.3046 - accuracy: 0.8975 - val_loss: 0.2840 - val_accuracy: 0.9024\n",
            "Epoch 11/20\n",
            "165/165 [==============================] - 2s 15ms/step - loss: 0.2894 - accuracy: 0.9026 - val_loss: 0.2531 - val_accuracy: 0.9120\n",
            "Epoch 12/20\n",
            "165/165 [==============================] - 3s 15ms/step - loss: 0.2810 - accuracy: 0.9045 - val_loss: 0.2741 - val_accuracy: 0.9027\n",
            "Epoch 13/20\n",
            "165/165 [==============================] - 3s 16ms/step - loss: 0.2588 - accuracy: 0.9115 - val_loss: 0.2664 - val_accuracy: 0.9097\n",
            "Epoch 14/20\n",
            "165/165 [==============================] - 2s 15ms/step - loss: 0.2554 - accuracy: 0.9122 - val_loss: 0.2629 - val_accuracy: 0.9097\n",
            "Epoch 15/20\n",
            "165/165 [==============================] - 2s 15ms/step - loss: 0.2413 - accuracy: 0.9182 - val_loss: 0.2543 - val_accuracy: 0.9167\n",
            "Epoch 16/20\n",
            "165/165 [==============================] - 2s 15ms/step - loss: 0.2290 - accuracy: 0.9215 - val_loss: 0.2627 - val_accuracy: 0.9104\n",
            "Epoch 17/20\n",
            "165/165 [==============================] - 2s 15ms/step - loss: 0.2183 - accuracy: 0.9239 - val_loss: 0.2452 - val_accuracy: 0.9184\n",
            "Epoch 18/20\n",
            "165/165 [==============================] - 2s 15ms/step - loss: 0.2075 - accuracy: 0.9275 - val_loss: 0.2629 - val_accuracy: 0.9187\n",
            "Epoch 19/20\n",
            "165/165 [==============================] - 2s 14ms/step - loss: 0.1995 - accuracy: 0.9311 - val_loss: 0.2505 - val_accuracy: 0.9179\n",
            "Epoch 20/20\n",
            "165/165 [==============================] - 2s 15ms/step - loss: 0.1934 - accuracy: 0.9336 - val_loss: 0.2682 - val_accuracy: 0.9150\n"
          ]
        }
      ],
      "source": [
        "hist = model.fit(\n",
        "    x_train, y_train,\n",
        "    epochs=epochs,\n",
        "    batch_size=batch_size,\n",
        "    validation_split=.3,\n",
        "    callbacks=callbacks,\n",
        "    verbose=verbose\n",
        ")"
      ]
    },
    {
      "cell_type": "code",
      "execution_count": 28,
      "metadata": {
        "id": "pjqLPN9wlFvX"
      },
      "outputs": [],
      "source": [
        "log_dir = f'.logs{datetime.datetime.now().strftime(\"%Y%m%d-%H%M%S\")}'"
      ]
    },
    {
      "cell_type": "markdown",
      "metadata": {
        "id": "uMRo8ayM6Ppk"
      },
      "source": [
        "### LeNet-5\n",
        "\n",
        "- 필기체 인식을 위한 모델\n",
        "\n",
        "  <img src=\"https://hoya012.github.io/assets/img/image_classification_guidebook/1.PNG\">\n",
        "\n",
        "  <sub>https://www.researchgate.net/figure/The-LeNet-5-Architecture-a-convolutional-neural-network_fig4_321586653</sub>"
      ]
    },
    {
      "cell_type": "markdown",
      "metadata": {
        "id": "HqST9NkE-p7s"
      },
      "source": [
        "- 코드 출처 : http://datahacker.rs/lenet-5-implementation-tensorflow-2-0/"
      ]
    },
    {
      "cell_type": "markdown",
      "metadata": {
        "id": "D9Re91-4-vVZ"
      },
      "source": [
        "#### module import"
      ]
    },
    {
      "cell_type": "code",
      "execution_count": 31,
      "metadata": {
        "id": "6VZunMkn-xH6"
      },
      "outputs": [],
      "source": [
        "import datetime\n",
        "import numpy as np\n",
        "import tensorflow as tf\n",
        "import matplotlib.pyplot as plt\n",
        "plt.style.use('seaborn-v0_8-white')\n",
        "\n",
        "from keras.models import Model, Sequential\n",
        "from keras.layers import Dense, Flatten, Conv2D, AvgPool2D, Dropout\n",
        "\n",
        "from keras import datasets\n",
        "from keras.utils import to_categorical, plot_model\n",
        "\n",
        "from sklearn.model_selection import train_test_split"
      ]
    },
    {
      "cell_type": "markdown",
      "metadata": {
        "id": "r8bgmuK8-3Tg"
      },
      "source": [
        "#### 데이터 로드 및 전처리"
      ]
    },
    {
      "cell_type": "code",
      "execution_count": 32,
      "metadata": {
        "id": "mJ52Gaox-5sr"
      },
      "outputs": [
        {
          "name": "stdout",
          "output_type": "stream",
          "text": [
            "(42000, 28, 28, 1)\n",
            "(42000, 28, 28, 1)\n",
            "(42000, 28, 28, 1)\n",
            "(42000, 28, 28, 1)\n",
            "(42000, 28, 28, 1)\n",
            "(42000, 28, 28, 1)\n"
          ]
        }
      ],
      "source": [
        "(x_train_full, y_train_full), (x_test, y_test) = datasets.mnist.load_data()\n",
        "\n",
        "x_train, x_val, y_train, y_val = train_test_split(x_train_full, y_train_full, test_size=.3, random_state=42)\n",
        "\n",
        "x_train = x_train[..., np.newaxis]\n",
        "x_val = x_val[..., np.newaxis]\n",
        "x_test = x_test[..., np.newaxis]\n",
        "\n",
        "num_classes = 10\n",
        "y_train = to_categorical(y_train, num_classes=num_classes)\n",
        "y_val = to_categorical(y_val, num_classes=num_classes)\n",
        "y_test = to_categorical(y_test, num_classes=num_classes)\n",
        "\n",
        "x_train = x_train.astype('float32')\n",
        "x_val = x_val.astype('float32')\n",
        "x_test = x_test.astype('float32')\n",
        "\n",
        "x_train /= 255.\n",
        "x_val /= 255.\n",
        "x_test /= 255.\n",
        "\n",
        "print(x_train.shape)\n",
        "print(x_train.shape)\n",
        "print(x_train.shape)\n",
        "print(x_train.shape)\n",
        "print(x_train.shape)\n",
        "print(x_train.shape)"
      ]
    },
    {
      "cell_type": "markdown",
      "metadata": {
        "id": "dWPxxFZH_UfI"
      },
      "source": [
        "#### 모델 구성 및 컴파일"
      ]
    },
    {
      "cell_type": "code",
      "execution_count": 33,
      "metadata": {
        "id": "wP-5zF786RHy"
      },
      "outputs": [],
      "source": [
        "class LeNet(Sequential):\n",
        "    def __init__(self, input_shape, nb_classes):\n",
        "        super().__init__()\n",
        "\n",
        "        self.add(Conv2D(6, kernel_size=(5, 5), strides=(1, 1), activation='tanh'), input_shape=input_shape, padding='same')\n",
        "        self.add(AvgPool2D(pool_size=(2, 2), strides=(2, 2), padding='valid'))\n",
        "        self.add(Conv2D(16, kernel_size=(5, 5), strides=(1, 1), activation='tanh'), padding='valid')\n",
        "        self.add(AvgPool2D(pool_size=(2, 2), strides=(2, 2), padding='valid'))\n",
        "        self.add(Flatten())\n",
        "        self.add(Dense(120, activation='tanh'))\n",
        "        self.add(Dense(84, activation='tanh'))\n",
        "        self.add(Dense(nb_classes, activation='softmax'))\n",
        "\n",
        "        self.compile(\n",
        "            optimizer='adam',\n",
        "            loss='categorical_crossentropy',\n",
        "            metrics=['accuracy']\n",
        "        )"
      ]
    },
    {
      "cell_type": "code",
      "execution_count": 34,
      "metadata": {},
      "outputs": [
        {
          "name": "stdout",
          "output_type": "stream",
          "text": [
            "Unexpected exception formatting exception. Falling back to standard exception\n"
          ]
        },
        {
          "name": "stderr",
          "output_type": "stream",
          "text": [
            "Traceback (most recent call last):\n",
            "  File \"/root/miniconda3/envs/tf_gpu/lib/python3.11/site-packages/IPython/core/interactiveshell.py\", line 3553, in run_code\n",
            "    exec(code_obj, self.user_global_ns, self.user_ns)\n",
            "  File \"/tmp/ipykernel_1045/2690654441.py\", line 1, in <module>\n",
            "    model = LeNet(input_shape=(28, 28, 1), nb_classes=10)\n",
            "            ^^^^^^^^^^^^^^^^^^^^^^^^^^^^^^^^^^^^^^^^^^^^^\n",
            "  File \"/tmp/ipykernel_1045/894223789.py\", line 5, in __init__\n",
            "    self.add(Conv2D(6, kernel_size=(5, 5), strides=(1, 1), activation='tanh'), input_shape=input_shape, padding='same')\n",
            "  File \"/root/miniconda3/envs/tf_gpu/lib/python3.11/site-packages/tensorflow/python/trackable/base.py\", line 204, in _method_wrapper\n",
            "    result = method(self, *args, **kwargs)\n",
            "             ^^^^^^^^^^^^^^^^^^^^^^^^^^^^^\n",
            "  File \"/root/miniconda3/envs/tf_gpu/lib/python3.11/site-packages/keras/src/utils/traceback_utils.py\", line 70, in error_handler\n",
            "    raise e.with_traceback(filtered_tb) from None\n",
            "  File \"/root/miniconda3/envs/tf_gpu/lib/python3.11/site-packages/keras/src/utils/traceback_utils.py\", line 67, in error_handler\n",
            "    filtered_tb = _process_traceback_frames(e.__traceback__)\n",
            "                  ^^^^^^^^^^^^^^^^^^^^^^^^^^^^^^^^^^^^^^^^^^\n",
            "TypeError: Sequential.add() got an unexpected keyword argument 'input_shape'\n",
            "\n",
            "During handling of the above exception, another exception occurred:\n",
            "\n",
            "Traceback (most recent call last):\n",
            "  File \"/root/miniconda3/envs/tf_gpu/lib/python3.11/site-packages/IPython/core/interactiveshell.py\", line 2144, in showtraceback\n",
            "    stb = self.InteractiveTB.structured_traceback(\n",
            "          ^^^^^^^^^^^^^^^^^^^^^^^^^^^^^^^^^^^^^^^^\n",
            "  File \"/root/miniconda3/envs/tf_gpu/lib/python3.11/site-packages/IPython/core/ultratb.py\", line 1435, in structured_traceback\n",
            "    return FormattedTB.structured_traceback(\n",
            "           ^^^^^^^^^^^^^^^^^^^^^^^^^^^^^^^^^\n",
            "  File \"/root/miniconda3/envs/tf_gpu/lib/python3.11/site-packages/IPython/core/ultratb.py\", line 1326, in structured_traceback\n",
            "    return VerboseTB.structured_traceback(\n",
            "           ^^^^^^^^^^^^^^^^^^^^^^^^^^^^^^^\n",
            "  File \"/root/miniconda3/envs/tf_gpu/lib/python3.11/site-packages/IPython/core/ultratb.py\", line 1173, in structured_traceback\n",
            "    formatted_exception = self.format_exception_as_a_whole(etype, evalue, etb, number_of_lines_of_context,\n",
            "                          ^^^^^^^^^^^^^^^^^^^^^^^^^^^^^^^^^^^^^^^^^^^^^^^^^^^^^^^^^^^^^^^^^^^^^^^^^^^^^^^^\n",
            "  File \"/root/miniconda3/envs/tf_gpu/lib/python3.11/site-packages/IPython/core/ultratb.py\", line 1063, in format_exception_as_a_whole\n",
            "    self.get_records(etb, number_of_lines_of_context, tb_offset) if etb else []\n",
            "    ^^^^^^^^^^^^^^^^^^^^^^^^^^^^^^^^^^^^^^^^^^^^^^^^^^^^^^^^^^^^\n",
            "  File \"/root/miniconda3/envs/tf_gpu/lib/python3.11/site-packages/IPython/core/ultratb.py\", line 1160, in get_records\n",
            "    res = list(stack_data.FrameInfo.stack_data(etb, options=options))[tb_offset:]\n",
            "          ^^^^^^^^^^^^^^^^^^^^^^^^^^^^^^^^^^^^^^^^^^^^^^^^^^^^^^^^^^^\n",
            "  File \"/root/miniconda3/envs/tf_gpu/lib/python3.11/site-packages/stack_data/core.py\", line 597, in stack_data\n",
            "    yield from collapse_repeated(\n",
            "  File \"/root/miniconda3/envs/tf_gpu/lib/python3.11/site-packages/stack_data/utils.py\", line 83, in collapse_repeated\n",
            "    yield from map(mapper, original_group)\n",
            "  File \"/root/miniconda3/envs/tf_gpu/lib/python3.11/site-packages/stack_data/core.py\", line 587, in mapper\n",
            "    return cls(f, options)\n",
            "           ^^^^^^^^^^^^^^^\n",
            "  File \"/root/miniconda3/envs/tf_gpu/lib/python3.11/site-packages/stack_data/core.py\", line 551, in __init__\n",
            "    self.executing = Source.executing(frame_or_tb)\n",
            "                     ^^^^^^^^^^^^^^^^^^^^^^^^^^^^^\n",
            "  File \"/root/miniconda3/envs/tf_gpu/lib/python3.11/site-packages/executing/executing.py\", line 283, in executing\n",
            "    assert_(new_stmts <= stmts)\n",
            "  File \"/root/miniconda3/envs/tf_gpu/lib/python3.11/site-packages/executing/executing.py\", line 80, in assert_\n",
            "    raise AssertionError(str(message))\n",
            "AssertionError\n"
          ]
        }
      ],
      "source": [
        "model = LeNet(input_shape=(28, 28, 1), nb_classes=10)"
      ]
    },
    {
      "cell_type": "code",
      "execution_count": 35,
      "metadata": {
        "id": "khH39JOmhWSd"
      },
      "outputs": [
        {
          "name": "stdout",
          "output_type": "stream",
          "text": [
            "Model: \"sequential\"\n",
            "_________________________________________________________________\n",
            " Layer (type)                Output Shape              Param #   \n",
            "=================================================================\n",
            " conv2d_1 (Conv2D)           (None, 28, 28, 64)        3200      \n",
            "                                                                 \n",
            " max_pooling2d (MaxPooling2  (None, 14, 14, 64)        0         \n",
            " D)                                                              \n",
            "                                                                 \n",
            " conv2d_2 (Conv2D)           (None, 14, 14, 128)       73856     \n",
            "                                                                 \n",
            " max_pooling2d_1 (MaxPoolin  (None, 7, 7, 128)         0         \n",
            " g2D)                                                            \n",
            "                                                                 \n",
            " conv2d_3 (Conv2D)           (None, 7, 7, 256)         295168    \n",
            "                                                                 \n",
            " max_pooling2d_2 (MaxPoolin  (None, 3, 3, 256)         0         \n",
            " g2D)                                                            \n",
            "                                                                 \n",
            " flatten (Flatten)           (None, 2304)              0         \n",
            "                                                                 \n",
            " dense (Dense)               (None, 126)               290430    \n",
            "                                                                 \n",
            " dropout (Dropout)           (None, 126)               0         \n",
            "                                                                 \n",
            " dense_1 (Dense)             (None, 64)                8128      \n",
            "                                                                 \n",
            " dropout_1 (Dropout)         (None, 64)                0         \n",
            "                                                                 \n",
            " dense_2 (Dense)             (None, 10)                650       \n",
            "                                                                 \n",
            "=================================================================\n",
            "Total params: 671432 (2.56 MB)\n",
            "Trainable params: 671432 (2.56 MB)\n",
            "Non-trainable params: 0 (0.00 Byte)\n",
            "_________________________________________________________________\n"
          ]
        }
      ],
      "source": [
        "model.summary()"
      ]
    },
    {
      "cell_type": "code",
      "execution_count": 38,
      "metadata": {
        "id": "5pmMIFN1u84q"
      },
      "outputs": [
        {
          "name": "stdout",
          "output_type": "stream",
          "text": [
            "You must install pydot (`pip install pydot`) and install graphviz (see instructions at https://graphviz.gitlab.io/download/) for plot_model to work.\n"
          ]
        }
      ],
      "source": [
        "plot_model(model, show_shapes=True)"
      ]
    },
    {
      "cell_type": "markdown",
      "metadata": {
        "id": "qMTI-n10_YzL"
      },
      "source": [
        "#### Hyper Parameters"
      ]
    },
    {
      "cell_type": "code",
      "execution_count": 39,
      "metadata": {
        "id": "AuzHa_Oz_YYC"
      },
      "outputs": [],
      "source": [
        "epochs = 50\n",
        "bath_size = 128\n",
        "verbose = 1"
      ]
    },
    {
      "cell_type": "markdown",
      "metadata": {
        "id": "0J2o6tqe_kNj"
      },
      "source": [
        "#### 모델 학습"
      ]
    },
    {
      "cell_type": "code",
      "execution_count": 41,
      "metadata": {
        "id": "D4cfUhEH_Yct"
      },
      "outputs": [
        {
          "name": "stdout",
          "output_type": "stream",
          "text": [
            "Epoch 1/50\n",
            "165/165 [==============================] - 3s 16ms/step - loss: 1.8807 - accuracy: 0.3220 - val_loss: 1.2221 - val_accuracy: 0.6055\n",
            "Epoch 2/50\n",
            "165/165 [==============================] - 3s 16ms/step - loss: 1.5739 - accuracy: 0.3840 - val_loss: 0.9565 - val_accuracy: 0.7493\n",
            "Epoch 3/50\n",
            "165/165 [==============================] - 3s 16ms/step - loss: 1.3832 - accuracy: 0.4581 - val_loss: 0.7939 - val_accuracy: 0.7558\n",
            "Epoch 4/50\n",
            "165/165 [==============================] - 3s 15ms/step - loss: 1.3165 - accuracy: 0.4820 - val_loss: 0.7296 - val_accuracy: 0.7649\n",
            "Epoch 5/50\n",
            "165/165 [==============================] - 3s 15ms/step - loss: 1.2699 - accuracy: 0.5005 - val_loss: 0.6806 - val_accuracy: 0.7661\n",
            "Epoch 6/50\n",
            "165/165 [==============================] - 3s 15ms/step - loss: 1.1272 - accuracy: 0.5614 - val_loss: 0.6017 - val_accuracy: 0.7779\n",
            "Epoch 7/50\n",
            "165/165 [==============================] - 3s 15ms/step - loss: 1.0655 - accuracy: 0.5765 - val_loss: 0.5564 - val_accuracy: 0.7960\n",
            "Epoch 8/50\n",
            "165/165 [==============================] - 2s 15ms/step - loss: 0.9317 - accuracy: 0.6478 - val_loss: 0.3925 - val_accuracy: 0.8795\n",
            "Epoch 9/50\n",
            "165/165 [==============================] - 3s 15ms/step - loss: 0.7629 - accuracy: 0.7231 - val_loss: 0.2188 - val_accuracy: 0.9776\n",
            "Epoch 10/50\n",
            "165/165 [==============================] - 3s 15ms/step - loss: 0.6458 - accuracy: 0.7735 - val_loss: 0.2192 - val_accuracy: 0.9762\n",
            "Epoch 11/50\n",
            "165/165 [==============================] - 3s 15ms/step - loss: 0.5427 - accuracy: 0.8047 - val_loss: 0.1361 - val_accuracy: 0.9789\n",
            "Epoch 12/50\n",
            "165/165 [==============================] - 3s 16ms/step - loss: 0.4519 - accuracy: 0.8284 - val_loss: 0.0840 - val_accuracy: 0.9847\n",
            "Epoch 13/50\n",
            "165/165 [==============================] - 3s 16ms/step - loss: 0.4389 - accuracy: 0.8306 - val_loss: 0.0969 - val_accuracy: 0.9837\n",
            "Epoch 14/50\n",
            "165/165 [==============================] - 3s 15ms/step - loss: 0.4082 - accuracy: 0.8410 - val_loss: 0.0752 - val_accuracy: 0.9859\n",
            "Epoch 15/50\n",
            "165/165 [==============================] - 3s 15ms/step - loss: 0.3491 - accuracy: 0.8754 - val_loss: 0.0674 - val_accuracy: 0.9870\n",
            "Epoch 16/50\n",
            "165/165 [==============================] - 2s 15ms/step - loss: 0.3339 - accuracy: 0.8824 - val_loss: 0.0662 - val_accuracy: 0.9870\n",
            "Epoch 17/50\n",
            "165/165 [==============================] - 2s 15ms/step - loss: 0.3109 - accuracy: 0.8956 - val_loss: 0.0629 - val_accuracy: 0.9873\n",
            "Epoch 18/50\n",
            "165/165 [==============================] - 2s 15ms/step - loss: 0.2775 - accuracy: 0.9120 - val_loss: 0.0637 - val_accuracy: 0.9883\n",
            "Epoch 19/50\n",
            "165/165 [==============================] - 2s 15ms/step - loss: 0.2568 - accuracy: 0.9199 - val_loss: 0.0614 - val_accuracy: 0.9883\n",
            "Epoch 20/50\n",
            "165/165 [==============================] - 3s 15ms/step - loss: 0.2376 - accuracy: 0.9285 - val_loss: 0.0629 - val_accuracy: 0.9890\n",
            "Epoch 21/50\n",
            "165/165 [==============================] - 3s 15ms/step - loss: 0.2219 - accuracy: 0.9315 - val_loss: 0.0662 - val_accuracy: 0.9892\n",
            "Epoch 22/50\n",
            "165/165 [==============================] - 2s 15ms/step - loss: 0.2150 - accuracy: 0.9356 - val_loss: 0.0650 - val_accuracy: 0.9885\n",
            "Epoch 23/50\n",
            "165/165 [==============================] - 3s 15ms/step - loss: 0.1913 - accuracy: 0.9437 - val_loss: 0.0601 - val_accuracy: 0.9890\n",
            "Epoch 24/50\n",
            "165/165 [==============================] - 2s 15ms/step - loss: 0.1779 - accuracy: 0.9480 - val_loss: 0.0676 - val_accuracy: 0.9877\n",
            "Epoch 25/50\n",
            "165/165 [==============================] - 2s 15ms/step - loss: 0.1830 - accuracy: 0.9466 - val_loss: 0.0639 - val_accuracy: 0.9890\n",
            "Epoch 26/50\n",
            "165/165 [==============================] - 3s 15ms/step - loss: 0.1659 - accuracy: 0.9525 - val_loss: 0.0667 - val_accuracy: 0.9903\n",
            "Epoch 27/50\n",
            "165/165 [==============================] - 2s 15ms/step - loss: 0.1649 - accuracy: 0.9522 - val_loss: 0.0715 - val_accuracy: 0.9892\n",
            "Epoch 28/50\n",
            "165/165 [==============================] - 3s 15ms/step - loss: 0.1558 - accuracy: 0.9537 - val_loss: 0.0633 - val_accuracy: 0.9899\n",
            "Epoch 29/50\n",
            "165/165 [==============================] - 3s 15ms/step - loss: 0.1536 - accuracy: 0.9549 - val_loss: 0.0884 - val_accuracy: 0.9873\n",
            "Epoch 30/50\n",
            "165/165 [==============================] - 2s 15ms/step - loss: 0.1418 - accuracy: 0.9577 - val_loss: 0.0648 - val_accuracy: 0.9892\n",
            "Epoch 31/50\n",
            "165/165 [==============================] - 3s 15ms/step - loss: 0.1177 - accuracy: 0.9642 - val_loss: 0.0707 - val_accuracy: 0.9899\n",
            "Epoch 32/50\n",
            "165/165 [==============================] - 3s 16ms/step - loss: 0.1146 - accuracy: 0.9649 - val_loss: 0.0741 - val_accuracy: 0.9899\n",
            "Epoch 33/50\n",
            "165/165 [==============================] - 3s 15ms/step - loss: 0.1133 - accuracy: 0.9655 - val_loss: 0.0694 - val_accuracy: 0.9897\n",
            "Epoch 34/50\n",
            "165/165 [==============================] - 2s 15ms/step - loss: 0.1136 - accuracy: 0.9650 - val_loss: 0.0710 - val_accuracy: 0.9902\n",
            "Epoch 35/50\n",
            "165/165 [==============================] - 2s 15ms/step - loss: 0.1031 - accuracy: 0.9691 - val_loss: 0.0694 - val_accuracy: 0.9898\n",
            "Epoch 36/50\n",
            "165/165 [==============================] - 2s 15ms/step - loss: 0.0987 - accuracy: 0.9703 - val_loss: 0.0708 - val_accuracy: 0.9897\n",
            "Epoch 37/50\n",
            "165/165 [==============================] - 2s 15ms/step - loss: 0.0955 - accuracy: 0.9731 - val_loss: 0.0734 - val_accuracy: 0.9906\n",
            "Epoch 38/50\n",
            "165/165 [==============================] - 3s 16ms/step - loss: 0.0864 - accuracy: 0.9756 - val_loss: 0.0889 - val_accuracy: 0.9902\n",
            "Epoch 39/50\n",
            "165/165 [==============================] - 2s 15ms/step - loss: 0.0811 - accuracy: 0.9767 - val_loss: 0.0658 - val_accuracy: 0.9898\n",
            "Epoch 40/50\n",
            "165/165 [==============================] - 3s 15ms/step - loss: 0.0728 - accuracy: 0.9800 - val_loss: 0.0817 - val_accuracy: 0.9903\n",
            "Epoch 41/50\n",
            "165/165 [==============================] - 3s 16ms/step - loss: 0.0783 - accuracy: 0.9779 - val_loss: 0.0881 - val_accuracy: 0.9898\n",
            "Epoch 42/50\n",
            "165/165 [==============================] - 3s 15ms/step - loss: 0.0692 - accuracy: 0.9811 - val_loss: 0.0775 - val_accuracy: 0.9897\n",
            "Epoch 43/50\n",
            "165/165 [==============================] - 3s 16ms/step - loss: 0.0693 - accuracy: 0.9803 - val_loss: 0.0808 - val_accuracy: 0.9908\n",
            "Epoch 44/50\n",
            "165/165 [==============================] - 3s 15ms/step - loss: 0.0614 - accuracy: 0.9819 - val_loss: 0.0918 - val_accuracy: 0.9897\n",
            "Epoch 45/50\n",
            "165/165 [==============================] - 2s 15ms/step - loss: 0.0620 - accuracy: 0.9818 - val_loss: 0.0925 - val_accuracy: 0.9898\n",
            "Epoch 46/50\n",
            "165/165 [==============================] - 3s 15ms/step - loss: 0.0595 - accuracy: 0.9833 - val_loss: 0.0826 - val_accuracy: 0.9909\n",
            "Epoch 47/50\n",
            "165/165 [==============================] - 3s 17ms/step - loss: 0.0535 - accuracy: 0.9844 - val_loss: 0.1021 - val_accuracy: 0.9897\n",
            "Epoch 48/50\n",
            "165/165 [==============================] - 3s 17ms/step - loss: 0.0544 - accuracy: 0.9845 - val_loss: 0.0845 - val_accuracy: 0.9895\n",
            "Epoch 49/50\n",
            "165/165 [==============================] - 3s 15ms/step - loss: 0.0633 - accuracy: 0.9827 - val_loss: 0.0883 - val_accuracy: 0.9903\n",
            "Epoch 50/50\n",
            "165/165 [==============================] - 3s 16ms/step - loss: 0.0616 - accuracy: 0.9815 - val_loss: 0.0714 - val_accuracy: 0.9906\n"
          ]
        }
      ],
      "source": [
        "hist = model.fit(\n",
        "    x_train, y_train,\n",
        "    epochs=epochs,\n",
        "    batch_size=batch_size,\n",
        "    validation_data=(x_val, y_val),\n",
        "    verbose=verbose\n",
        ")"
      ]
    },
    {
      "cell_type": "markdown",
      "metadata": {
        "id": "XnfJW9pY_96R"
      },
      "source": [
        "#### 학습 결과 시각화"
      ]
    },
    {
      "cell_type": "code",
      "execution_count": 42,
      "metadata": {
        "id": "AF_XIwzq_YS5"
      },
      "outputs": [],
      "source": [
        "import matplotlib.pyplot as plt\n",
        "plt.style.use('seaborn-v0_8-white')"
      ]
    },
    {
      "cell_type": "code",
      "execution_count": 45,
      "metadata": {
        "id": "NjA7m1AmADWn"
      },
      "outputs": [
        {
          "data": {
            "image/png": "[encoded data removed]",
            "text/plain": [
              "<Figure size 1200x600 with 2 Axes>"
            ]
          },
          "metadata": {},
          "output_type": "display_data"
        }
      ],
      "source": [
        "plt.figure(figsize=(12, 6))\n",
        "\n",
        "plt.subplot(1, 2, 1)\n",
        "plt.plot(hist.history['loss'], 'b-', label='loss')\n",
        "plt.plot(hist.history['val_loss'], 'm--', label='val_loss')\n",
        "plt.xlabel('Epochs')\n",
        "plt.grid()\n",
        "plt.legend()\n",
        "\n",
        "plt.subplot(1, 2, 2)\n",
        "plt.plot(hist.history['accuracy'], 'b-', label='accuracy')\n",
        "plt.plot(hist.history['val_accuracy'], 'm--', label='val_accuracy')\n",
        "plt.xlabel('Epochs')\n",
        "plt.grid()\n",
        "plt.legend()\n",
        "\n",
        "plt.show()"
      ]
    },
    {
      "cell_type": "markdown",
      "metadata": {
        "id": "S5FHh0hiCcCw"
      },
      "source": [
        "#### 모델 평가"
      ]
    },
    {
      "cell_type": "code",
      "execution_count": 46,
      "metadata": {
        "id": "QgHr4wR1ADRr"
      },
      "outputs": [
        {
          "name": "stdout",
          "output_type": "stream",
          "text": [
            "313/313 [==============================] - 2s 5ms/step - loss: 0.0553 - accuracy: 0.9920\n"
          ]
        },
        {
          "data": {
            "text/plain": [
              "[0.055341046303510666, 0.9919999837875366]"
            ]
          },
          "execution_count": 46,
          "metadata": {},
          "output_type": "execute_result"
        }
      ],
      "source": [
        "model.evaluate(x_test, y_test)"
      ]
    }
  ],
  "metadata": {
    "colab": {
      "provenance": []
    },
    "kernelspec": {
      "display_name": "Python 3",
      "name": "python3"
    },
    "language_info": {
      "codemirror_mode": {
        "name": "ipython",
        "version": 3
      },
      "file_extension": ".py",
      "mimetype": "text/x-python",
      "name": "python",
      "nbconvert_exporter": "python",
      "pygments_lexer": "ipython3",
      "version": "3.11.7"
    }
  },
  "nbformat": 4,
  "nbformat_minor": 0
}
