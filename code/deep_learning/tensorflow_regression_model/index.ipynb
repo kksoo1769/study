{
  "cells": [
    {
      "cell_type": "markdown",
      "metadata": {
        "id": "ME4xVKRSvWxH"
      },
      "source": [
        "# 텐서플로우 회귀 분석 모델\n",
        "\n",
        "- 다양한 방법이 존재\n",
        "- 텐서플로우2만 사용하는 방법, 케라스를 이용한 방법, 둘을 모두 섞은 방법 등등  \n"
      ]
    },
    {
      "cell_type": "markdown",
      "metadata": {
        "id": "Lw9JHQ2btU9O"
      },
      "source": [
        "## 선형 회귀(Linear Regression)"
      ]
    },
    {
      "cell_type": "code",
      "execution_count": 218,
      "metadata": {
        "id": "rc0SydSstXAj"
      },
      "outputs": [],
      "source": [
        "import numpy as np\n",
        "import tensorflow as tf\n",
        "import matplotlib.pyplot as plt"
      ]
    },
    {
      "cell_type": "code",
      "execution_count": 219,
      "metadata": {
        "id": "qvFld-m-tcnD"
      },
      "outputs": [],
      "source": [
        "learning_rate = 0.01\n",
        "training_steps = 1_000"
      ]
    },
    {
      "cell_type": "code",
      "execution_count": 220,
      "metadata": {
        "id": "0-3wzjHjtgBg"
      },
      "outputs": [],
      "source": [
        "x = np.random.randn(50)\n",
        "y = 2*x + np.random.randn(50)"
      ]
    },
    {
      "cell_type": "code",
      "execution_count": 221,
      "metadata": {
        "id": "yAdt62LKti-W"
      },
      "outputs": [],
      "source": [
        "W = tf.Variable(np.random.randn(), name=\"weight\")\n",
        "b = tf.Variable(np.random.randn(), name=\"bias\")\n",
        "\n",
        "def linear_regression(x):\n",
        "    return W * x + b\n",
        "\n",
        "def mean_square(y_pred, y_true):\n",
        "    return tf.reduce_mean(tf.square(y_pred - y_true))\n",
        "\n",
        "optimizer = tf.optimizers.SGD(learning_rate)"
      ]
    },
    {
      "cell_type": "code",
      "execution_count": 222,
      "metadata": {
        "id": "P8mLzC5vuCwp"
      },
      "outputs": [],
      "source": [
        "def run_optimization():\n",
        "    with tf.GradientTape() as tape:\n",
        "        y_pred = linear_regression(x)\n",
        "        loss = mean_square(y_pred, y)\n",
        "\n",
        "    grads = tape.gradient(loss, [W, b])\n",
        "\n",
        "    optimizer.apply_gradients(zip(grads, [W, b]))"
      ]
    },
    {
      "cell_type": "code",
      "execution_count": 223,
      "metadata": {
        "id": "dpMeJIaquPld"
      },
      "outputs": [
        {
          "name": "stdout",
          "output_type": "stream",
          "text": [
            "step: 49.0000\t loss: 1.8580\t weights: 1.3168\t bias: -0.3478\n"
          ]
        },
        {
          "name": "stdout",
          "output_type": "stream",
          "text": [
            "step: 99.0000\t loss: 1.5206\t weights: 1.6425\t bias: -0.1176\n",
            "step: 149.0000\t loss: 1.4664\t weights: 1.7804\t bias: -0.0367\n",
            "step: 199.0000\t loss: 1.4575\t weights: 1.8390\t bias: -0.0085\n",
            "step: 249.0000\t loss: 1.4560\t weights: 1.8639\t bias: 0.0012\n",
            "step: 299.0000\t loss: 1.4557\t weights: 1.8746\t bias: 0.0045\n",
            "step: 349.0000\t loss: 1.4557\t weights: 1.8791\t bias: 0.0057\n",
            "step: 399.0000\t loss: 1.4557\t weights: 1.8811\t bias: 0.0060\n",
            "step: 449.0000\t loss: 1.4557\t weights: 1.8819\t bias: 0.0061\n",
            "step: 499.0000\t loss: 1.4557\t weights: 1.8822\t bias: 0.0062\n",
            "step: 549.0000\t loss: 1.4557\t weights: 1.8824\t bias: 0.0062\n",
            "step: 599.0000\t loss: 1.4557\t weights: 1.8825\t bias: 0.0062\n",
            "step: 649.0000\t loss: 1.4557\t weights: 1.8825\t bias: 0.0062\n",
            "step: 699.0000\t loss: 1.4557\t weights: 1.8825\t bias: 0.0062\n",
            "step: 749.0000\t loss: 1.4557\t weights: 1.8825\t bias: 0.0062\n",
            "step: 799.0000\t loss: 1.4557\t weights: 1.8825\t bias: 0.0062\n",
            "step: 849.0000\t loss: 1.4557\t weights: 1.8825\t bias: 0.0062\n",
            "step: 899.0000\t loss: 1.4557\t weights: 1.8825\t bias: 0.0062\n",
            "step: 949.0000\t loss: 1.4557\t weights: 1.8825\t bias: 0.0062\n",
            "step: 999.0000\t loss: 1.4557\t weights: 1.8825\t bias: 0.0062\n"
          ]
        }
      ],
      "source": [
        "for step in range(1, training_steps + 1):\n",
        "    run_optimization()\n",
        "    \n",
        "    if step % 50 == 50 - 1:\n",
        "        y_pred = linear_regression(x)\n",
        "        loss = mean_square(y_pred, y)\n",
        "        \n",
        "        print(f\"step: {step:.4f}\\t loss: {loss:.4f}\\t weights: {W.numpy():.4f}\\t bias: {b.numpy():.4f}\")"
      ]
    },
    {
      "cell_type": "code",
      "execution_count": 224,
      "metadata": {
        "id": "is397GkquXu1"
      },
      "outputs": [
        {
          "data": {
            "image/png": "[encoded data removed]",
            "text/plain": [
              "<Figure size 640x480 with 1 Axes>"
            ]
          },
          "metadata": {},
          "output_type": "display_data"
        }
      ],
      "source": [
        "plt.plot(x, y, \"ro\", label=\"Data\")\n",
        "plt.plot(x, linear_regression(x), label=\"Fitted Line\")\n",
        "plt.legend()\n",
        "\n",
        "plt.show()"
      ]
    },
    {
      "cell_type": "markdown",
      "metadata": {
        "id": "hmwhh8v7ooEh"
      },
      "source": [
        "## 다항 회귀 (Nonlinear Regression)\n"
      ]
    },
    {
      "cell_type": "markdown",
      "metadata": {
        "id": "JzPHMupUouoj"
      },
      "source": [
        "### modules import"
      ]
    },
    {
      "cell_type": "code",
      "execution_count": 225,
      "metadata": {
        "id": "nwjaLZxmosFb"
      },
      "outputs": [],
      "source": [
        "from tensorflow import keras\n",
        "from keras.optimizers import Adam"
      ]
    },
    {
      "cell_type": "markdown",
      "metadata": {
        "id": "a4Eypd3lqIH7"
      },
      "source": [
        "### Hyper Parameters"
      ]
    },
    {
      "cell_type": "code",
      "execution_count": 226,
      "metadata": {
        "id": "PwYv4RjrqKDk"
      },
      "outputs": [],
      "source": [
        "epcohs = 1_000\n",
        "learning_rate = 0.04"
      ]
    },
    {
      "cell_type": "markdown",
      "metadata": {
        "id": "SBFf3xYkpK__"
      },
      "source": [
        "### 변수 지정"
      ]
    },
    {
      "cell_type": "code",
      "execution_count": 227,
      "metadata": {
        "id": "rdYHM586osJT"
      },
      "outputs": [],
      "source": [
        "a = tf.Variable(np.random.randn())\n",
        "b = tf.Variable(np.random.randn())\n",
        "c = tf.Variable(np.random.randn())"
      ]
    },
    {
      "cell_type": "code",
      "execution_count": 228,
      "metadata": {
        "id": "n0BoMoSgqmR2"
      },
      "outputs": [
        {
          "name": "stdout",
          "output_type": "stream",
          "text": [
            "1.3346068\n",
            "-0.2564008\n",
            "2.160909\n"
          ]
        }
      ],
      "source": [
        "print(a.numpy())\n",
        "print(b.numpy())\n",
        "print(c.numpy())"
      ]
    },
    {
      "cell_type": "markdown",
      "metadata": {
        "id": "3-ks5u2ypTtb"
      },
      "source": [
        "### 데이터 지정"
      ]
    },
    {
      "cell_type": "code",
      "execution_count": 229,
      "metadata": {
        "id": "rgVzGBLEor8l"
      },
      "outputs": [],
      "source": [
        "x = np.random.randn(50)\n",
        "y = x ** 2 + x * np.random.randn(50)"
      ]
    },
    {
      "cell_type": "code",
      "execution_count": 230,
      "metadata": {
        "id": "uodrzxT1rU1G"
      },
      "outputs": [
        {
          "data": {
            "image/png": "[encoded data removed]",
            "text/plain": [
              "<Figure size 640x480 with 1 Axes>"
            ]
          },
          "metadata": {},
          "output_type": "display_data"
        }
      ],
      "source": [
        "line_x = np.arange(min(x), max(x), 0.001)\n",
        "line_y = a * line_x ** 2 + b * line_x + c\n",
        "\n",
        "x_ = np.arange(-4, 4, 0.001)\n",
        "y_ = a * x_ ** 2 + b * x_ + c\n",
        "\n",
        "plt.scatter(x, y, label=\"Data\")\n",
        "plt.plot(x_, y_, \"g--\", label=\"Origin line\")\n",
        "plt.plot(line_x, line_y, \"r--\", label=\"Before train\")\n",
        "\n",
        "plt.xlim(-4, 4)\n",
        "plt.legend()\n",
        "plt.grid()\n",
        "\n",
        "plt.show()"
      ]
    },
    {
      "cell_type": "markdown",
      "metadata": {
        "id": "7C56lq45uM-V"
      },
      "source": [
        "### Util Functions"
      ]
    },
    {
      "cell_type": "code",
      "execution_count": 231,
      "metadata": {
        "id": "_pvdH6U9uJ8i"
      },
      "outputs": [],
      "source": [
        "def compute_loss():\n",
        "    y_pred = a * x ** 2 + b * x + c\n",
        "    loss = tf.reduce_mean((y - y_pred) ** 2)\n",
        "\n",
        "    return loss"
      ]
    },
    {
      "cell_type": "markdown",
      "metadata": {
        "id": "kcme5VWPp6fz"
      },
      "source": [
        "### Optimizer"
      ]
    },
    {
      "cell_type": "code",
      "execution_count": 232,
      "metadata": {
        "id": "R4TSy8j2or5J"
      },
      "outputs": [],
      "source": [
        "optimizer = Adam(learning_rate=learning_rate)"
      ]
    },
    {
      "cell_type": "markdown",
      "metadata": {
        "id": "5QVfbg2uqEx8"
      },
      "source": [
        "### 학습"
      ]
    },
    {
      "cell_type": "code",
      "execution_count": 233,
      "metadata": {
        "id": "DBjCdWz9or1p"
      },
      "outputs": [
        {
          "name": "stdout",
          "output_type": "stream",
          "text": [
            "epoch: \t100 a: \t0.9157 b: \t0.1569 c: \t0.1926\n",
            "epoch: \t200 a: \t0.9682 b: \t0.1315 c: \t0.0756\n",
            "epoch: \t300 a: \t0.9679 b: \t0.1317 c: \t0.0762\n",
            "epoch: \t400 a: \t0.9679 b: \t0.1317 c: \t0.0762\n",
            "epoch: \t500 a: \t0.9679 b: \t0.1317 c: \t0.0762\n",
            "epoch: \t600 a: \t0.9679 b: \t0.1317 c: \t0.0762\n",
            "epoch: \t700 a: \t0.9679 b: \t0.1317 c: \t0.0762\n",
            "epoch: \t800 a: \t0.9679 b: \t0.1317 c: \t0.0762\n",
            "epoch: \t900 a: \t0.9679 b: \t0.1317 c: \t0.0762\n",
            "epoch: \t1000 a: \t0.9679 b: \t0.1317 c: \t0.0762\n"
          ]
        }
      ],
      "source": [
        "for epoch in range(1, epcohs + 1):\n",
        "    optimizer.minimize(compute_loss, var_list=(a, b, c))\n",
        "\n",
        "    if epoch % 100 == 0:\n",
        "        print(f\"epoch: \\t{epoch} a: \\t{a.numpy():.4f} b: \\t{b.numpy():.4f} c: \\t{c.numpy():.4f}\")"
      ]
    },
    {
      "cell_type": "markdown",
      "metadata": {
        "id": "Fbyej01IumFX"
      },
      "source": [
        "### 학습 후의 회귀선"
      ]
    },
    {
      "cell_type": "code",
      "execution_count": 234,
      "metadata": {
        "id": "gKqDyDwXugdP"
      },
      "outputs": [
        {
          "data": {
            "image/png": "[encoded data removed]",
            "text/plain": [
              "<Figure size 640x480 with 1 Axes>"
            ]
          },
          "metadata": {},
          "output_type": "display_data"
        }
      ],
      "source": [
        "line_x = np.arange(min(x), max(x), 0.001)\n",
        "line_y = a * line_x ** 2 + b * line_x + c\n",
        "\n",
        "plt.scatter(x, y, label=\"Data\")\n",
        "plt.plot(x_, y_, \"g--\", label=\"Origin line\")\n",
        "plt.plot(line_x, line_y, \"r--\", label=\"After train\")\n",
        "\n",
        "plt.xlim(-4, 4)\n",
        "plt.legend()\n",
        "plt.grid()\n",
        "\n",
        "plt.show()"
      ]
    },
    {
      "cell_type": "markdown",
      "metadata": {
        "id": "jtCFXjS6uwry"
      },
      "source": [
        "## 로지스틱 회귀(Logistic Regression)\n",
        "- 다항 분류, MNIST"
      ]
    },
    {
      "cell_type": "markdown",
      "metadata": {
        "id": "GIdxzXa1vJmt"
      },
      "source": [
        "### modules import"
      ]
    },
    {
      "cell_type": "code",
      "execution_count": 235,
      "metadata": {
        "id": "LGHeQjgYumXM"
      },
      "outputs": [],
      "source": [
        "from keras.datasets import mnist"
      ]
    },
    {
      "cell_type": "markdown",
      "metadata": {
        "id": "96xeDaPJvFW1"
      },
      "source": [
        "### 하이퍼 파라미터 (Hyper Parameter)\n"
      ]
    },
    {
      "cell_type": "code",
      "execution_count": 236,
      "metadata": {
        "id": "-lPlvJz1u6k-"
      },
      "outputs": [],
      "source": [
        "num_classes = 10\n",
        "num_feats = 28 * 28\n",
        "\n",
        "lr = 0.1\n",
        "training_steps = 5_000\n",
        "batch_size = 256"
      ]
    },
    {
      "cell_type": "markdown",
      "metadata": {
        "id": "ZM5M9h8NvDWV"
      },
      "source": [
        "### 데이터 로드"
      ]
    },
    {
      "cell_type": "code",
      "execution_count": 237,
      "metadata": {
        "id": "qnobrT26vAvQ"
      },
      "outputs": [],
      "source": [
        "(x_train, y_train), (x_test, y_test) = mnist.load_data()\n",
        "\n",
        "x_train, x_test = np.array(x_train).astype(np.float32), np.array(x_test).astype(np.float32)\n",
        "x_train, x_test = x_train.reshape(-1, num_feats), x_test.reshape(-1, num_feats)\n",
        "\n",
        "x_train, x_test = x_train / 255, x_test / 255"
      ]
    },
    {
      "cell_type": "markdown",
      "metadata": {
        "id": "o3bJVBPtve43"
      },
      "source": [
        "### tf.data API 사용\n",
        "- 03 에서 다시 다룸"
      ]
    },
    {
      "cell_type": "code",
      "execution_count": 238,
      "metadata": {
        "id": "-OWS2nV_vPly"
      },
      "outputs": [],
      "source": [
        "train_data = tf.data.Dataset.from_tensor_slices((x_train, y_train))\n",
        "train_data = train_data.repeat().shuffle(25_000).batch(batch_size).prefetch(1)"
      ]
    },
    {
      "cell_type": "markdown",
      "metadata": {
        "id": "fHbbQ29awub_"
      },
      "source": [
        "### 변수 지정"
      ]
    },
    {
      "cell_type": "code",
      "execution_count": 239,
      "metadata": {
        "id": "NTMKizyIww0x"
      },
      "outputs": [],
      "source": [
        "W = tf.Variable(tf.random.normal([num_feats, num_classes]), name=\"weight\")\n",
        "b = tf.Variable(tf.zeros([num_classes]), name=\"bias\")"
      ]
    },
    {
      "cell_type": "markdown",
      "metadata": {
        "id": "kiK9LRUNwxC1"
      },
      "source": [
        "### Util Functions"
      ]
    },
    {
      "cell_type": "code",
      "execution_count": 240,
      "metadata": {
        "id": "ylkNeSdhvbi6"
      },
      "outputs": [],
      "source": [
        "def logistic_regression(x):\n",
        "    return tf.nn.softmax(tf.matmul(x, W) + b)\n",
        "\n",
        "def cross_entropy(y_pred, y_true):\n",
        "    y_true = tf.one_hot(y_true, depth=num_classes)\n",
        "    y_pred = tf.clip_by_value(y_pred, 1e-9, 1)\n",
        "\n",
        "    return tf.reduce_mean(-tf.reduce_sum(y_true * tf.math.log(y_pred), 1))\n",
        "\n",
        "def accuracy(y_pred, y_true):\n",
        "    correct_pred = tf.equal(tf.argmax(y_pred, 1), tf.cast(y_true, tf.int64))\n",
        "    return tf.reduce_mean(tf.cast(correct_pred, tf.float32))"
      ]
    },
    {
      "cell_type": "markdown",
      "metadata": {
        "id": "ePdcyFeUxVNu"
      },
      "source": [
        "### Optimizer"
      ]
    },
    {
      "cell_type": "code",
      "execution_count": 241,
      "metadata": {
        "id": "uAQHksH_xW6h"
      },
      "outputs": [],
      "source": [
        "optimizer = tf.optimizers.SGD(learning_rate=lr)"
      ]
    },
    {
      "cell_type": "code",
      "execution_count": 242,
      "metadata": {},
      "outputs": [],
      "source": [
        "def run_optimization(x, y):\n",
        "    with tf.GradientTape() as tape:\n",
        "        y_pred = logistic_regression(x)\n",
        "        loss = cross_entropy(y_pred, y)\n",
        "    \n",
        "    grads = tape.gradient(loss, [W, b])\n",
        "    optimizer.apply_gradients(zip(grads, [W, b]))"
      ]
    },
    {
      "cell_type": "markdown",
      "metadata": {
        "id": "6B0i4_VvzheR"
      },
      "source": [
        "### 학습 진행"
      ]
    },
    {
      "cell_type": "code",
      "execution_count": 243,
      "metadata": {
        "id": "k1z97_GVwrOV"
      },
      "outputs": [
        {
          "name": "stdout",
          "output_type": "stream",
          "text": [
            "step: 500\tloss: 1.2278\taccuracy: 0.7617\t\n",
            "step: 1000\tloss: 0.7941\taccuracy: 0.8242\t\n",
            "step: 1500\tloss: 0.6794\taccuracy: 0.8477\t\n",
            "step: 2000\tloss: 0.6900\taccuracy: 0.8516\t\n",
            "step: 2500\tloss: 0.7031\taccuracy: 0.8750\t\n",
            "step: 3000\tloss: 0.4676\taccuracy: 0.8750\t\n",
            "step: 3500\tloss: 0.8750\taccuracy: 0.8086\t\n",
            "step: 4000\tloss: 0.6177\taccuracy: 0.8516\t\n",
            "step: 4500\tloss: 0.6328\taccuracy: 0.8633\t\n",
            "step: 5000\tloss: 0.4686\taccuracy: 0.8828\t\n"
          ]
        }
      ],
      "source": [
        "for step, (batch_x, batch_y) in enumerate(train_data.take(training_steps), 1):\n",
        "    run_optimization(batch_x, batch_y)\n",
        "\n",
        "    if step % 500 == 0:\n",
        "        y_pred = logistic_regression(batch_x)\n",
        "        loss = cross_entropy(y_pred, batch_y)\n",
        "        acc = accuracy(y_pred, batch_y)\n",
        "\n",
        "        print(f\"step: {step}\\tloss: {loss:.4f}\\taccuracy: {acc:.4f}\\t\")"
      ]
    },
    {
      "cell_type": "markdown",
      "metadata": {
        "id": "RTv-fBSMzj3e"
      },
      "source": [
        "###  테스트"
      ]
    },
    {
      "cell_type": "code",
      "execution_count": 244,
      "metadata": {
        "id": "MlKYyRnWxbzs"
      },
      "outputs": [
        {
          "name": "stdout",
          "output_type": "stream",
          "text": [
            "Test Accuracy: 0.8802000284194946\n"
          ]
        }
      ],
      "source": [
        "y_pred = logistic_regression(x_test)\n",
        "\n",
        "print(f\"Test Accuracy: {accuracy(y_pred, y_test)}\")"
      ]
    },
    {
      "cell_type": "markdown",
      "metadata": {
        "id": "NX_R9BP3zkzH"
      },
      "source": [
        "### 시각화"
      ]
    },
    {
      "cell_type": "code",
      "execution_count": 249,
      "metadata": {
        "id": "Y2sVd13zyh3a"
      },
      "outputs": [
        {
          "data": {
            "image/png": "[encoded data removed]",
            "text/plain": [
              "<Figure size 1400x800 with 5 Axes>"
            ]
          },
          "metadata": {},
          "output_type": "display_data"
        }
      ],
      "source": [
        "num_imgs = 5\n",
        "test_imgs = x_test[:num_imgs]\n",
        "pred = logistic_regression(test_imgs)\n",
        "\n",
        "plt.figure(figsize=(14, 8))\n",
        "\n",
        "for i in range(1, num_imgs + 1):\n",
        "    plt.subplot(1, num_imgs, i)\n",
        "    plt.imshow(np.reshape(test_imgs[i - 1], [28, 28]), cmap=\"gray\")\n",
        "    plt.title(f\"Model prediction: {np.argmax(pred.numpy()[i - 1])}\")\n",
        "\n",
        "plt.show()"
      ]
    }
  ],
  "metadata": {
    "accelerator": "GPU",
    "colab": {
      "provenance": []
    },
    "kernelspec": {
      "display_name": "Python 3",
      "name": "python3"
    },
    "language_info": {
      "codemirror_mode": {
        "name": "ipython",
        "version": 3
      },
      "file_extension": ".py",
      "mimetype": "text/x-python",
      "name": "python",
      "nbconvert_exporter": "python",
      "pygments_lexer": "ipython3",
      "version": "3.11.5"
    }
  },
  "nbformat": 4,
  "nbformat_minor": 0
}
