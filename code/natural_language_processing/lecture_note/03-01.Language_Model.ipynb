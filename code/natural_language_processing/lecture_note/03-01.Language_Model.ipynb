{
 "cells": [
  {
   "attachments": {},
   "cell_type": "markdown",
   "metadata": {},
   "source": [
    "- 언어 모델에는 통계적 모델과 인공 신경망 모델 2가지가 있다.\n",
    "- 기존에는 통계적 모델이 사용되었으나, 희소 문제와 정확도에 따른 문제로 최근에는 인공 신경망 모델이 사용된다."
   ]
  }
 ],
 "metadata": {
  "kernelspec": {
   "display_name": "tf",
   "language": "python",
   "name": "python3"
  },
  "language_info": {
   "codemirror_mode": {
    "name": "ipython",
    "version": 3
   },
   "file_extension": ".py",
   "mimetype": "text/x-python",
   "name": "python",
   "nbconvert_exporter": "python",
   "pygments_lexer": "ipython3",
   "version": "3.8.16"
  },
  "orig_nbformat": 4
 },
 "nbformat": 4,
 "nbformat_minor": 2
}
