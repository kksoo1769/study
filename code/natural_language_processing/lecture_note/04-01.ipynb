{
 "cells": [
  {
   "attachments": {},
   "cell_type": "markdown",
   "metadata": {},
   "source": [
    "# 단어의 표현 방법\n",
    "\n",
    "- Local Representation\n",
    "    - One-hot Vector\n",
    "    - N-gram\n",
    "    - Count-based\n",
    "        - Bag of Words(DTM)\n",
    "- Continuous Representation\n",
    "    - Prediction-based\n",
    "        - Word2Vec(FastText)\n",
    "    - Count-based\n",
    "        - Full Document\n",
    "            - LSA\n",
    "        - Windows\n",
    "            - Glove"
   ]
  }
 ],
 "metadata": {
  "language_info": {
   "name": "python"
  },
  "orig_nbformat": 4
 },
 "nbformat": 4,
 "nbformat_minor": 2
}
