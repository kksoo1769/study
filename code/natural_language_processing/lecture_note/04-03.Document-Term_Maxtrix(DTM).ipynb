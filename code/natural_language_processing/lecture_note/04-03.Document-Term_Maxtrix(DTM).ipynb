{
 "cells": [
  {
   "attachments": {},
   "cell_type": "markdown",
   "metadata": {},
   "source": [
    "# 문서 단어 행렬(Document-Term Matrix)\n",
    "\n",
    "서로 다른 문서들의 BoW들을 결합하여 표현한 방법으로, 서로 다른 문서들을 비교할 수 있게 한다. 각 문서들에서 등장하는 단어들의 빈도를 행렬로 표현한다."
   ]
  },
  {
   "attachments": {},
   "cell_type": "markdown",
   "metadata": {},
   "source": [
    "## 한계점\n",
    "\n",
    "- 희소 표현 사용\n",
    "    - 이 때문에 단어 집합의 크기를 줄이는 전처리 방법이 중요하다.\n",
    "    - 구두점, 빈도수가 낮은 단어, 불용어 등을 제거한 뒤, 표제어나 어간을 정규화해야 한다.\n",
    "- 단순 빈도 수 기반 접근"
   ]
  }
 ],
 "metadata": {
  "language_info": {
   "name": "python"
  },
  "orig_nbformat": 4
 },
 "nbformat": 4,
 "nbformat_minor": 2
}
