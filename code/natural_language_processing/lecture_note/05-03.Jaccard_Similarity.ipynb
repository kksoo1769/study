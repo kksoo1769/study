{
 "cells": [
  {
   "attachments": {},
   "cell_type": "markdown",
   "metadata": {},
   "source": [
    "$ J(doc_1, doc_2) = \\frac{doc_1 \\cup doc_2}{doc_1 \\cap doc_2} $"
   ]
  },
  {
   "cell_type": "code",
   "execution_count": 1,
   "metadata": {},
   "outputs": [
    {
     "data": {
      "text/plain": [
       "0.16666666666666666"
      ]
     },
     "execution_count": 1,
     "metadata": {},
     "output_type": "execute_result"
    }
   ],
   "source": [
    "doc_1 = \"apple banana everyone like likey watch card holder\"\n",
    "doc_2 = \"apple banana coupon passport love you\"\n",
    "\n",
    "tokenized_doc_1 = doc_1.split()\n",
    "tokenized_doc_2 = doc_2.split()\n",
    "\n",
    "union = set(tokenized_doc_1) | set(tokenized_doc_2)\n",
    "intersect = set(tokenized_doc_1) & set(tokenized_doc_2)\n",
    "\n",
    "jaccard_sim = len(intersect) / len(union)\n",
    "\n",
    "jaccard_sim"
   ]
  }
 ],
 "metadata": {
  "kernelspec": {
   "display_name": "tf",
   "language": "python",
   "name": "python3"
  },
  "language_info": {
   "codemirror_mode": {
    "name": "ipython",
    "version": 3
   },
   "file_extension": ".py",
   "mimetype": "text/x-python",
   "name": "python",
   "nbconvert_exporter": "python",
   "pygments_lexer": "ipython3",
   "version": "3.8.16"
  },
  "orig_nbformat": 4
 },
 "nbformat": 4,
 "nbformat_minor": 2
}
