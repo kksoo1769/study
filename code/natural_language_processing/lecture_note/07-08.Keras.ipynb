{
 "cells": [
  {
   "cell_type": "markdown",
   "metadata": {},
   "source": [
    "# 1. Preprocessing"
   ]
  },
  {
   "cell_type": "markdown",
   "metadata": {},
   "source": [
    "## Tokenizer()\n",
    "\n",
    "토큰화와 정수 인코딩을 위해 사용된다."
   ]
  },
  {
   "cell_type": "code",
   "execution_count": 8,
   "metadata": {},
   "outputs": [
    {
     "name": "stdout",
     "output_type": "stream",
     "text": [
      "sub_corpus의 정수 인코딩: [1, 2, 3, 4, 6, 7, 8, 9]\n",
      "단어 집합: {'the': 1, 'earth': 2, 'is': 3, 'an': 4, 'awesome': 5, 'place': 6, 'to': 7, 'live': 8, 'in': 9}\n"
     ]
    }
   ],
   "source": [
    "from tensorflow.keras.preprocessing.text import Tokenizer\n",
    "\n",
    "tokenizer = Tokenizer()\n",
    "train_corpus = \"The earth is an awesome place to live in\"\n",
    "\n",
    "# 단어 집합 생성\n",
    "tokenizer.fit_on_texts([train_corpus])\n",
    "\n",
    "# 정수 인코딩\n",
    "sub_corpus = \"The earth is an great place to live in\"\n",
    "sequences = tokenizer.texts_to_sequences([sub_corpus])[0]\n",
    "\n",
    "print(f\"sub_corpus의 정수 인코딩: {sequences}\")\n",
    "print(f\"단어 집합: {tokenizer.word_index}\")"
   ]
  },
  {
   "cell_type": "markdown",
   "metadata": {},
   "source": [
    "## pad_sequence()\n",
    "\n",
    "샘플의 길이를 동일하게 맞추는 padding 계산을 수행한다."
   ]
  },
  {
   "cell_type": "code",
   "execution_count": 11,
   "metadata": {},
   "outputs": [
    {
     "data": {
      "text/plain": [
       "array([[1, 2, 3],\n",
       "       [4, 5, 6],\n",
       "       [0, 7, 8]], dtype=int32)"
      ]
     },
     "execution_count": 11,
     "metadata": {},
     "output_type": "execute_result"
    }
   ],
   "source": [
    "from tensorflow.keras.preprocessing.sequence import pad_sequences\n",
    "\n",
    "pad_sequences([\n",
    "    [1, 2, 3],\n",
    "    [3, 4, 5, 6],\n",
    "    [7, 8]\n",
    "], maxlen=3, padding=\"pre\")"
   ]
  },
  {
   "cell_type": "markdown",
   "metadata": {},
   "source": [
    "# 2. Word Embedding\n",
    "\n",
    "텍스트 내의 단어들을 밀집 벡터로 만드는 것을 말한다. 초기에는 랜덤한 값으로 설정되어 있다가 훈련 데이터로부터 학습하며 조정된다."
   ]
  },
  {
   "cell_type": "markdown",
   "metadata": {},
   "source": [
    "## Embedding()\n",
    "\n",
    "단어를 밀집 벡터로 만든다. 또는 Embedding layer을 만드는 역할을 한다. 정수 인코딩이 된 단어들을 입력을 받아 Embedding을 수행한다."
   ]
  },
  {
   "cell_type": "markdown",
   "metadata": {},
   "source": [
    "# 3. Modeling"
   ]
  },
  {
   "cell_type": "markdown",
   "metadata": {},
   "source": [
    "## Sequential()\n",
    "\n",
    "모델을 생성하고 .add()을 사용해 층을 추가한다."
   ]
  },
  {
   "cell_type": "markdown",
   "metadata": {},
   "source": [
    "## summary()\n",
    "\n",
    "모델의 정보를 요약해서 보여준다."
   ]
  },
  {
   "cell_type": "markdown",
   "metadata": {},
   "source": [
    "# 4. Compile과 Training"
   ]
  },
  {
   "cell_type": "markdown",
   "metadata": {},
   "source": [
    "## compile()\n",
    "\n",
    "모델을 기계가 이해할 수 있도록 컴파일한다. Loss function과, optimizer, metrics을 선택한다."
   ]
  },
  {
   "cell_type": "markdown",
   "metadata": {},
   "source": [
    "## optimizer\n",
    "\n",
    "훈련 과정 설정하는 optimizer 설정"
   ]
  },
  {
   "cell_type": "markdown",
   "metadata": {},
   "source": [
    "## loss\n",
    "\n",
    "훈련 과정 사용하는 Loss function 설정"
   ]
  },
  {
   "cell_type": "markdown",
   "metadata": {},
   "source": [
    "## metrics\n",
    "\n",
    "훈련을 모니터링하기 위한 지표 선택"
   ]
  },
  {
   "cell_type": "markdown",
   "metadata": {},
   "source": [
    "## fit()\n",
    "\n",
    "모델을 학습한다. 주로 X_train, y_train, epochs, batch_size, validation_data를 인자로 가짐"
   ]
  },
  {
   "cell_type": "markdown",
   "metadata": {},
   "source": [
    "# 5.Evaluation과 Prediction"
   ]
  },
  {
   "cell_type": "markdown",
   "metadata": {},
   "source": [
    "## evaluate()\n",
    "\n",
    "테스트 데이터를 통해 학습된 모델의 정확도를 평가한다."
   ]
  },
  {
   "cell_type": "markdown",
   "metadata": {},
   "source": [
    "## predict()\n",
    "\n",
    "지정한 입력에 대한 모델의 출력값을 확인한다."
   ]
  },
  {
   "cell_type": "markdown",
   "metadata": {},
   "source": [
    "# 6. 모델의 저장과 불러오기"
   ]
  },
  {
   "cell_type": "markdown",
   "metadata": {},
   "source": [
    "## save()\n",
    "\n",
    "인공 신경망 모델을 hdf5 파일에 저장한다."
   ]
  },
  {
   "cell_type": "markdown",
   "metadata": {},
   "source": [
    "## load_model()\n",
    "\n",
    "저장해둔 모델을 불러온다."
   ]
  }
 ],
 "metadata": {
  "kernelspec": {
   "display_name": "tf",
   "language": "python",
   "name": "python3"
  },
  "language_info": {
   "codemirror_mode": {
    "name": "ipython",
    "version": 3
   },
   "file_extension": ".py",
   "mimetype": "text/x-python",
   "name": "python",
   "nbconvert_exporter": "python",
   "pygments_lexer": "ipython3",
   "version": "3.8.16"
  },
  "orig_nbformat": 4
 },
 "nbformat": 4,
 "nbformat_minor": 2
}
