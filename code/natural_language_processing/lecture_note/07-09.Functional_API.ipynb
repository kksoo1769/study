{
 "cells": [
  {
   "cell_type": "markdown",
   "metadata": {},
   "source": [
    "Sequential API는 여러 층을 공유하거나 다양한 종류의 입출력을 사용하는 복잡한 모델을 만드는 데에는 한계가 있다. 이를 보완하기 위해 Functional API를 사용할 수 있다."
   ]
  },
  {
   "cell_type": "markdown",
   "metadata": {},
   "source": [
    "# Functional API\n",
    "\n",
    "각 층을 일종의 함수로 정의하고, 이들을 연산자를 통해 조합하여 신경망을 설계한다."
   ]
  },
  {
   "cell_type": "code",
   "execution_count": 7,
   "metadata": {},
   "outputs": [],
   "source": [
    "# Fully-connected Feed-forward Neural Network\n",
    "from tensorflow.keras.layers import Input, Dense\n",
    "from tensorflow.keras.models import Model\n",
    "\n",
    "inputs = Input(shape=(10, )) # 10개의 입력을 받는 입력층 정의(반드시 입력의 크기에 대한 정의가 필요)\n",
    "hidden1 = Dense(64, activation=\"relu\")(inputs)\n",
    "hidden2 = Dense(64, activation=\"relu\")(hidden1)\n",
    "output = Dense(1, activation=\"sigmoid\")(hidden2)\n",
    "\n",
    "model = Model(inputs=inputs, outputs=output)"
   ]
  },
  {
   "cell_type": "code",
   "execution_count": 10,
   "metadata": {},
   "outputs": [
    {
     "name": "stdout",
     "output_type": "stream",
     "text": [
      "Epoch 1/3\n"
     ]
    },
    {
     "name": "stderr",
     "output_type": "stream",
     "text": [
      "2023-07-10 20:17:55.431723: W tensorflow/core/platform/profile_utils/cpu_utils.cc:128] Failed to get CPU frequency: 0 Hz\n",
      "2023-07-10 20:17:55.575643: I tensorflow/core/grappler/optimizers/custom_graph_optimizer_registry.cc:113] Plugin optimizer for device_type GPU is enabled.\n"
     ]
    },
    {
     "name": "stdout",
     "output_type": "stream",
     "text": [
      "1/1 [==============================] - 0s 201ms/step - loss: 4161.8413 - mse: 4161.8413\n",
      "Epoch 2/3\n",
      "1/1 [==============================] - 0s 8ms/step - loss: 513.1853 - mse: 513.1853\n",
      "Epoch 3/3\n",
      "1/1 [==============================] - 0s 7ms/step - loss: 64.2443 - mse: 64.2443\n"
     ]
    },
    {
     "data": {
      "text/plain": [
       "<keras.callbacks.History at 0x1652f3a30>"
      ]
     },
     "execution_count": 10,
     "metadata": {},
     "output_type": "execute_result"
    }
   ],
   "source": [
    "# Functional API로 선형 회귀 구현\n",
    "from tensorflow.keras.layers import Input, Dense\n",
    "from tensorflow.keras import optimizers\n",
    "from tensorflow.keras.models import Model\n",
    "\n",
    "X = [1, 2, 3, 4, 5, 6, 7, 8, 9]\n",
    "y = [11, 22, 33, 44, 53, 66, 77, 87, 95]\n",
    "\n",
    "inputs = Input(shape=(1, ))\n",
    "output = Dense(1, activation=\"linear\")(inputs)\n",
    "model = Model(inputs, output)\n",
    "\n",
    "sgd = optimizers.SGD(learning_rate=0.01)\n",
    "\n",
    "model.compile(optimizer=sgd, loss=\"mse\", metrics=[\"mse\"])\n",
    "model.fit(X, y, epochs=3)"
   ]
  },
  {
   "cell_type": "code",
   "execution_count": 13,
   "metadata": {},
   "outputs": [],
   "source": [
    "# 로지스틱 회귀\n",
    "from tensorflow.keras.layers import Input, Dense\n",
    "from tensorflow.keras.models import Model\n",
    "\n",
    "inputs = Input(shape=(2, ))\n",
    "output = Dense(1, activation=\"sigmoid\")(inputs)\n",
    "model = Model(inputs, output)"
   ]
  },
  {
   "cell_type": "code",
   "execution_count": 14,
   "metadata": {},
   "outputs": [],
   "source": [
    "# 다중 입력을 받는 모델\n",
    "from tensorflow.keras.layers import concatenate\n",
    "\n",
    "input1 = Input(shape=(64, ))\n",
    "input2 = Input(shape=(128, ))\n",
    "\n",
    "# 입력층 1\n",
    "x = Dense(16, activation=\"relu\")(input1)\n",
    "x = Dense(8, activation=\"relu\")(x)\n",
    "x = Model(input1, x)\n",
    "\n",
    "# 입력층 2\n",
    "y = Dense(64, activation=\"relu\")(input2)\n",
    "y = Dense(32, activation=\"relu\")(y)\n",
    "y = Dense(8, activation=\"relu\")(y)\n",
    "y = Model(input2, y)\n",
    "\n",
    "# 연결\n",
    "res = concatenate([x.output, y.output])\n",
    "\n",
    "z = Dense(2, activation=\"relu\")(res)\n",
    "z = Dense(1, activation=\"linear\")(z)\n",
    "\n",
    "model = Model((x.input, y.input), z) # 최종적으로는 x와 y의 입력층들로부터 하나의 출력을 예측"
   ]
  }
 ],
 "metadata": {
  "kernelspec": {
   "display_name": "tf",
   "language": "python",
   "name": "python3"
  },
  "language_info": {
   "codemirror_mode": {
    "name": "ipython",
    "version": 3
   },
   "file_extension": ".py",
   "mimetype": "text/x-python",
   "name": "python",
   "nbconvert_exporter": "python",
   "pygments_lexer": "ipython3",
   "version": "3.8.16"
  },
  "orig_nbformat": 4
 },
 "nbformat": 4,
 "nbformat_minor": 2
}
