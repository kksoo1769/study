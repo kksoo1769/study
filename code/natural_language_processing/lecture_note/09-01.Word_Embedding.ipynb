{
 "cells": [
  {
   "cell_type": "markdown",
   "metadata": {},
   "source": [
    "# Word Embedding\n",
    "단어를 벡터로 표현하는 방법으로, 단어를 밀집 표현으로 변환한다."
   ]
  },
  {
   "cell_type": "markdown",
   "metadata": {},
   "source": [
    "## 1. 희소 표현(Sparese Representation)"
   ]
  },
  {
   "cell_type": "markdown",
   "metadata": {},
   "source": [
    "벡터 또는 행렬의 값이 대부분 0으로 표현되는 방법이다. 단어의 개수가 늘어나면 벡터의 차원이 한없이 커지는 단점이 있다."
   ]
  },
  {
   "cell_type": "markdown",
   "metadata": {},
   "source": [
    "## 2. 밀집 표현(Dense Representation)"
   ]
  },
  {
   "cell_type": "markdown",
   "metadata": {},
   "source": [
    "밀집 표현은 벡터의 차원을 단어 집합의 크기로 상정하지 않으며, 사용자가 설정한 값으로 모든 단어의 벡터 표현의 차원을 맞춘다. 또한, 이 과정에서 더 이상 0과 1만 가진 값이 아니라 실수값을 가지게 된다."
   ]
  },
  {
   "cell_type": "markdown",
   "metadata": {},
   "source": [
    "## 3. 워드 임베딩(Word Embedding)"
   ]
  },
  {
   "cell_type": "markdown",
   "metadata": {},
   "source": [
    "단어를 밀집 벡터의 형태로 표현하는 방법을 **Word Embedding**이라 하며, Word Embedding 과정을 거친 밀집 벡터를 **Embedding Vector**라 한다. 이 벡터는 훈련 데이터로부터 학습되어 값을 가진다. 워드 임베딩의 방법론으로는 LSA, Word2Vec, FastText, Glove 등이 있다."
   ]
  }
 ],
 "metadata": {
  "kernelspec": {
   "display_name": "tf",
   "language": "python",
   "name": "python3"
  },
  "language_info": {
   "codemirror_mode": {
    "name": "ipython",
    "version": 3
   },
   "file_extension": ".py",
   "mimetype": "text/x-python",
   "name": "python",
   "nbconvert_exporter": "python",
   "pygments_lexer": "ipython3",
   "version": "3.8.16"
  },
  "orig_nbformat": 4
 },
 "nbformat": 4,
 "nbformat_minor": 2
}
