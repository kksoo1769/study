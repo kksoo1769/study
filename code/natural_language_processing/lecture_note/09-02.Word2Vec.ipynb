{
 "cells": [
  {
   "cell_type": "markdown",
   "metadata": {},
   "source": [
    "# Word2Vec"
   ]
  },
  {
   "cell_type": "markdown",
   "metadata": {},
   "source": [
    "저차원에 단어의 의미를 여러 차원에다가 분산하는 표현을 분산 표현이라 하며, 이러한 방법을 사용하면 단어 벡터 간 유의미한 유사도를 게산할 수 있다. 이를 사용하는 대표적인 방법으로 Word2Vec이 있다. Word2Vec의 학습 방식에는 CBOW(Continuous Bag of Words)와 Skip-Gram이 있다."
   ]
  },
  {
   "cell_type": "markdown",
   "metadata": {},
   "source": [
    "## CBOW(Continuous Bag of Words)"
   ]
  },
  {
   "cell_type": "markdown",
   "metadata": {},
   "source": [
    "주변에 있는 단어들을 입력으로 중간에 있는 단어들을 예측하는 방법이다. 예측하고자 하는 단어를 중심 단어라고 하며, 중심 단어를 예측하기 위해 사용하는 단어를 주변 단어라고 한다. 중심 단어를 예측하기 위해서는 중심 단어로부터 앞, 뒤로 몇 개의 단어를 볼 지 결정해야 하는데 이 범위를 윈도우(Window)라 한다. 일단 윈도우의 크기가 정해지면 윈도우를 옆으로 움직여 주변 단어와 중심 단어의 선택을 변경하며 학습을 위한 데이터 셋을 생성하는데, 이를 슬라이딩 윈도우(Sliding Window)라 한다. "
   ]
  },
  {
   "cell_type": "markdown",
   "metadata": {},
   "source": [
    "CBOW은 기본적으로 입력층, 투사층, 출력층으로 구성되며, 각 층 간의 가중치를 학습한다. 각 가중치들은 Word2Vec 방법, 즉 분산 표현을 사용한다. 한편, 은닉층의 수가 1개 이므로 딥러닝의 형태는 아니다."
   ]
  },
  {
   "cell_type": "markdown",
   "metadata": {},
   "source": [
    "## Skip-gram"
   ]
  },
  {
   "cell_type": "markdown",
   "metadata": {},
   "source": [
    "CBOW에서는 주변 단어를 통해 중심 단어를 예측하였다면, Skip-gram에서는 반대로 중심 단어를 통해 주변 단어를 예측한다. 층의 구조는 CBOW와 그 순서가 거꾸로된 것과 같다."
   ]
  },
  {
   "cell_type": "markdown",
   "metadata": {},
   "source": [
    "## NNLM Vs. Word2Vec"
   ]
  },
  {
   "cell_type": "markdown",
   "metadata": {},
   "source": [
    "NNLM에서는 단어 벡터 간 유사도를 구할 수 있도록 Word Embedding 개념을 도입하였고, 이의 느린 학습 속도와 정확도를 개선한 것이 Word2Vec이다."
   ]
  },
  {
   "cell_type": "markdown",
   "metadata": {},
   "source": [
    "NNLM과 Word2Vec의 차이점을 확인해보자. 첫째는 예측하는 대상이다. NNLM은 다음 단어를 예측하지만, CBOW는 Word Embedding 자체가 목적이므로 중심 단어를 예측하게 하여 학습한다. 둘째는 구조다. n을 학습에 사용하는 단어의 수, m을 Embedding Vector의 차원, h를 은닉층의 크기, V를 단어 집합의 크기라고 하였을 때 Word2Vec은 NNLM에서 존재하던 활성화 함수가 있는 은닉층을 제거하였다. 따라서 입력층 다음에 투사층, 출력층으로 바로 연결되는 구조이다. 이는 속도 향상에 도움이 된다."
   ]
  }
 ],
 "metadata": {
  "kernelspec": {
   "display_name": "tf",
   "language": "python",
   "name": "python3"
  },
  "language_info": {
   "name": "python",
   "version": "3.8.16"
  },
  "orig_nbformat": 4
 },
 "nbformat": 4,
 "nbformat_minor": 2
}
