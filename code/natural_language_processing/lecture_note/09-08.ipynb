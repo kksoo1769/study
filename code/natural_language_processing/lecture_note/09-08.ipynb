{
 "cells": [
  {
   "cell_type": "markdown",
   "metadata": {},
   "source": [
    "# Keras Embedding layer"
   ]
  },
  {
   "cell_type": "code",
   "execution_count": 2,
   "metadata": {},
   "outputs": [],
   "source": [
    "# 문장의 긍정, 부정을 판단하는 감성 분류 모델\n",
    "import numpy as np\n",
    "from tensorflow.keras.preprocessing.text import Tokenizer\n",
    "from tensorflow.keras.preprocessing.sequence import pad_sequences"
   ]
  },
  {
   "cell_type": "code",
   "execution_count": 3,
   "metadata": {},
   "outputs": [],
   "source": [
    "sentences = [\"nice great best amazing\", \"stop lies\", \"pitiful nerd\", \"excellent work\", \"supreme quaility\", \"bad\", \"highly respectable\"]\n",
    "y_train = [1, 0, 0, 1, 1, 0, 1]"
   ]
  },
  {
   "cell_type": "code",
   "execution_count": 4,
   "metadata": {},
   "outputs": [
    {
     "data": {
      "text/plain": [
       "16"
      ]
     },
     "execution_count": 4,
     "metadata": {},
     "output_type": "execute_result"
    }
   ],
   "source": [
    "tokenizer = Tokenizer()\n",
    "tokenizer.fit_on_texts(sentences)\n",
    "vocab_size = len(tokenizer.word_index) + 1\n",
    "\n",
    "vocab_size"
   ]
  },
  {
   "cell_type": "code",
   "execution_count": 5,
   "metadata": {},
   "outputs": [
    {
     "data": {
      "text/plain": [
       "[[1, 2, 3, 4], [5, 6], [7, 8], [9, 10], [11, 12], [13], [14, 15]]"
      ]
     },
     "execution_count": 5,
     "metadata": {},
     "output_type": "execute_result"
    }
   ],
   "source": [
    "X_encoded = tokenizer.texts_to_sequences(sentences)\n",
    "\n",
    "X_encoded"
   ]
  },
  {
   "cell_type": "code",
   "execution_count": 7,
   "metadata": {},
   "outputs": [
    {
     "data": {
      "text/plain": [
       "4"
      ]
     },
     "execution_count": 7,
     "metadata": {},
     "output_type": "execute_result"
    }
   ],
   "source": [
    "max_len = max(len(sent) for sent in X_encoded)\n",
    "\n",
    "max_len"
   ]
  },
  {
   "cell_type": "code",
   "execution_count": 10,
   "metadata": {},
   "outputs": [
    {
     "data": {
      "text/plain": [
       "array([[ 1,  2,  3,  4],\n",
       "       [ 5,  6,  0,  0],\n",
       "       [ 7,  8,  0,  0],\n",
       "       [ 9, 10,  0,  0],\n",
       "       [11, 12,  0,  0],\n",
       "       [13,  0,  0,  0],\n",
       "       [14, 15,  0,  0]], dtype=int32)"
      ]
     },
     "execution_count": 10,
     "metadata": {},
     "output_type": "execute_result"
    }
   ],
   "source": [
    "X_train = pad_sequences(X_encoded, maxlen=max_len, padding=\"post\")\n",
    "y_train = np.array(y_train)\n",
    "\n",
    "X_train"
   ]
  },
  {
   "cell_type": "code",
   "execution_count": 11,
   "metadata": {},
   "outputs": [
    {
     "name": "stdout",
     "output_type": "stream",
     "text": [
      "Metal device set to: Apple M1\n",
      "\n",
      "systemMemory: 16.00 GB\n",
      "maxCacheSize: 5.33 GB\n",
      "\n",
      "Epoch 1/100\n"
     ]
    },
    {
     "name": "stderr",
     "output_type": "stream",
     "text": [
      "2023-07-31 19:21:14.129340: I tensorflow/core/common_runtime/pluggable_device/pluggable_device_factory.cc:305] Could not identify NUMA node of platform GPU ID 0, defaulting to 0. Your kernel may not have been built with NUMA support.\n",
      "2023-07-31 19:21:14.130111: I tensorflow/core/common_runtime/pluggable_device/pluggable_device_factory.cc:271] Created TensorFlow device (/job:localhost/replica:0/task:0/device:GPU:0 with 0 MB memory) -> physical PluggableDevice (device: 0, name: METAL, pci bus id: <undefined>)\n",
      "2023-07-31 19:21:14.308201: W tensorflow/core/platform/profile_utils/cpu_utils.cc:128] Failed to get CPU frequency: 0 Hz\n",
      "2023-07-31 19:21:14.515257: I tensorflow/core/grappler/optimizers/custom_graph_optimizer_registry.cc:113] Plugin optimizer for device_type GPU is enabled.\n"
     ]
    },
    {
     "name": "stdout",
     "output_type": "stream",
     "text": [
      "1/1 - 1s - loss: 0.6871 - acc: 0.7143 - 665ms/epoch - 665ms/step\n",
      "Epoch 2/100\n",
      "1/1 - 0s - loss: 0.6855 - acc: 0.7143 - 8ms/epoch - 8ms/step\n",
      "Epoch 3/100\n",
      "1/1 - 0s - loss: 0.6839 - acc: 0.7143 - 10ms/epoch - 10ms/step\n",
      "Epoch 4/100\n",
      "1/1 - 0s - loss: 0.6823 - acc: 0.7143 - 10ms/epoch - 10ms/step\n",
      "Epoch 5/100\n",
      "1/1 - 0s - loss: 0.6807 - acc: 0.7143 - 8ms/epoch - 8ms/step\n",
      "Epoch 6/100\n",
      "1/1 - 0s - loss: 0.6791 - acc: 0.8571 - 9ms/epoch - 9ms/step\n",
      "Epoch 7/100\n",
      "1/1 - 0s - loss: 0.6775 - acc: 0.8571 - 8ms/epoch - 8ms/step\n",
      "Epoch 8/100\n",
      "1/1 - 0s - loss: 0.6759 - acc: 0.8571 - 8ms/epoch - 8ms/step\n",
      "Epoch 9/100\n",
      "1/1 - 0s - loss: 0.6742 - acc: 0.8571 - 9ms/epoch - 9ms/step\n",
      "Epoch 10/100\n",
      "1/1 - 0s - loss: 0.6726 - acc: 1.0000 - 7ms/epoch - 7ms/step\n",
      "Epoch 11/100\n",
      "1/1 - 0s - loss: 0.6710 - acc: 1.0000 - 10ms/epoch - 10ms/step\n",
      "Epoch 12/100\n",
      "1/1 - 0s - loss: 0.6694 - acc: 1.0000 - 8ms/epoch - 8ms/step\n",
      "Epoch 13/100\n",
      "1/1 - 0s - loss: 0.6678 - acc: 1.0000 - 7ms/epoch - 7ms/step\n",
      "Epoch 14/100\n",
      "1/1 - 0s - loss: 0.6662 - acc: 1.0000 - 9ms/epoch - 9ms/step\n",
      "Epoch 15/100\n",
      "1/1 - 0s - loss: 0.6646 - acc: 1.0000 - 7ms/epoch - 7ms/step\n",
      "Epoch 16/100\n",
      "1/1 - 0s - loss: 0.6630 - acc: 1.0000 - 8ms/epoch - 8ms/step\n",
      "Epoch 17/100\n",
      "1/1 - 0s - loss: 0.6614 - acc: 1.0000 - 8ms/epoch - 8ms/step\n",
      "Epoch 18/100\n",
      "1/1 - 0s - loss: 0.6597 - acc: 1.0000 - 8ms/epoch - 8ms/step\n",
      "Epoch 19/100\n",
      "1/1 - 0s - loss: 0.6581 - acc: 1.0000 - 10ms/epoch - 10ms/step\n",
      "Epoch 20/100\n",
      "1/1 - 0s - loss: 0.6565 - acc: 1.0000 - 7ms/epoch - 7ms/step\n",
      "Epoch 21/100\n",
      "1/1 - 0s - loss: 0.6548 - acc: 1.0000 - 8ms/epoch - 8ms/step\n",
      "Epoch 22/100\n",
      "1/1 - 0s - loss: 0.6532 - acc: 1.0000 - 9ms/epoch - 9ms/step\n",
      "Epoch 23/100\n",
      "1/1 - 0s - loss: 0.6515 - acc: 1.0000 - 8ms/epoch - 8ms/step\n",
      "Epoch 24/100\n",
      "1/1 - 0s - loss: 0.6499 - acc: 1.0000 - 9ms/epoch - 9ms/step\n",
      "Epoch 25/100\n",
      "1/1 - 0s - loss: 0.6482 - acc: 1.0000 - 8ms/epoch - 8ms/step\n",
      "Epoch 26/100\n",
      "1/1 - 0s - loss: 0.6465 - acc: 1.0000 - 8ms/epoch - 8ms/step\n",
      "Epoch 27/100\n",
      "1/1 - 0s - loss: 0.6448 - acc: 1.0000 - 9ms/epoch - 9ms/step\n",
      "Epoch 28/100\n",
      "1/1 - 0s - loss: 0.6431 - acc: 1.0000 - 7ms/epoch - 7ms/step\n",
      "Epoch 29/100\n",
      "1/1 - 0s - loss: 0.6414 - acc: 1.0000 - 8ms/epoch - 8ms/step\n",
      "Epoch 30/100\n",
      "1/1 - 0s - loss: 0.6397 - acc: 1.0000 - 12ms/epoch - 12ms/step\n",
      "Epoch 31/100\n",
      "1/1 - 0s - loss: 0.6380 - acc: 1.0000 - 9ms/epoch - 9ms/step\n",
      "Epoch 32/100\n",
      "1/1 - 0s - loss: 0.6363 - acc: 1.0000 - 8ms/epoch - 8ms/step\n",
      "Epoch 33/100\n",
      "1/1 - 0s - loss: 0.6346 - acc: 1.0000 - 10ms/epoch - 10ms/step\n",
      "Epoch 34/100\n",
      "1/1 - 0s - loss: 0.6328 - acc: 1.0000 - 10ms/epoch - 10ms/step\n",
      "Epoch 35/100\n",
      "1/1 - 0s - loss: 0.6311 - acc: 1.0000 - 7ms/epoch - 7ms/step\n",
      "Epoch 36/100\n",
      "1/1 - 0s - loss: 0.6293 - acc: 1.0000 - 9ms/epoch - 9ms/step\n",
      "Epoch 37/100\n",
      "1/1 - 0s - loss: 0.6275 - acc: 1.0000 - 7ms/epoch - 7ms/step\n",
      "Epoch 38/100\n",
      "1/1 - 0s - loss: 0.6258 - acc: 1.0000 - 8ms/epoch - 8ms/step\n",
      "Epoch 39/100\n",
      "1/1 - 0s - loss: 0.6240 - acc: 1.0000 - 9ms/epoch - 9ms/step\n",
      "Epoch 40/100\n",
      "1/1 - 0s - loss: 0.6222 - acc: 1.0000 - 7ms/epoch - 7ms/step\n",
      "Epoch 41/100\n",
      "1/1 - 0s - loss: 0.6204 - acc: 1.0000 - 9ms/epoch - 9ms/step\n",
      "Epoch 42/100\n",
      "1/1 - 0s - loss: 0.6186 - acc: 1.0000 - 7ms/epoch - 7ms/step\n",
      "Epoch 43/100\n",
      "1/1 - 0s - loss: 0.6168 - acc: 1.0000 - 9ms/epoch - 9ms/step\n",
      "Epoch 44/100\n",
      "1/1 - 0s - loss: 0.6150 - acc: 1.0000 - 7ms/epoch - 7ms/step\n",
      "Epoch 45/100\n",
      "1/1 - 0s - loss: 0.6131 - acc: 1.0000 - 8ms/epoch - 8ms/step\n",
      "Epoch 46/100\n",
      "1/1 - 0s - loss: 0.6113 - acc: 1.0000 - 7ms/epoch - 7ms/step\n",
      "Epoch 47/100\n",
      "1/1 - 0s - loss: 0.6094 - acc: 1.0000 - 7ms/epoch - 7ms/step\n",
      "Epoch 48/100\n",
      "1/1 - 0s - loss: 0.6076 - acc: 1.0000 - 9ms/epoch - 9ms/step\n",
      "Epoch 49/100\n",
      "1/1 - 0s - loss: 0.6057 - acc: 1.0000 - 7ms/epoch - 7ms/step\n",
      "Epoch 50/100\n",
      "1/1 - 0s - loss: 0.6038 - acc: 1.0000 - 8ms/epoch - 8ms/step\n",
      "Epoch 51/100\n",
      "1/1 - 0s - loss: 0.6020 - acc: 1.0000 - 7ms/epoch - 7ms/step\n",
      "Epoch 52/100\n",
      "1/1 - 0s - loss: 0.6001 - acc: 1.0000 - 8ms/epoch - 8ms/step\n",
      "Epoch 53/100\n",
      "1/1 - 0s - loss: 0.5982 - acc: 1.0000 - 7ms/epoch - 7ms/step\n",
      "Epoch 54/100\n",
      "1/1 - 0s - loss: 0.5963 - acc: 1.0000 - 8ms/epoch - 8ms/step\n",
      "Epoch 55/100\n",
      "1/1 - 0s - loss: 0.5943 - acc: 1.0000 - 8ms/epoch - 8ms/step\n",
      "Epoch 56/100\n",
      "1/1 - 0s - loss: 0.5924 - acc: 1.0000 - 7ms/epoch - 7ms/step\n",
      "Epoch 57/100\n",
      "1/1 - 0s - loss: 0.5905 - acc: 1.0000 - 9ms/epoch - 9ms/step\n",
      "Epoch 58/100\n",
      "1/1 - 0s - loss: 0.5886 - acc: 1.0000 - 8ms/epoch - 8ms/step\n",
      "Epoch 59/100\n",
      "1/1 - 0s - loss: 0.5866 - acc: 1.0000 - 10ms/epoch - 10ms/step\n",
      "Epoch 60/100\n",
      "1/1 - 0s - loss: 0.5847 - acc: 1.0000 - 10ms/epoch - 10ms/step\n",
      "Epoch 61/100\n",
      "1/1 - 0s - loss: 0.5827 - acc: 1.0000 - 7ms/epoch - 7ms/step\n",
      "Epoch 62/100\n",
      "1/1 - 0s - loss: 0.5807 - acc: 1.0000 - 10ms/epoch - 10ms/step\n",
      "Epoch 63/100\n",
      "1/1 - 0s - loss: 0.5788 - acc: 1.0000 - 10ms/epoch - 10ms/step\n",
      "Epoch 64/100\n",
      "1/1 - 0s - loss: 0.5768 - acc: 1.0000 - 8ms/epoch - 8ms/step\n",
      "Epoch 65/100\n",
      "1/1 - 0s - loss: 0.5748 - acc: 1.0000 - 8ms/epoch - 8ms/step\n",
      "Epoch 66/100\n",
      "1/1 - 0s - loss: 0.5728 - acc: 1.0000 - 10ms/epoch - 10ms/step\n",
      "Epoch 67/100\n",
      "1/1 - 0s - loss: 0.5708 - acc: 1.0000 - 8ms/epoch - 8ms/step\n",
      "Epoch 68/100\n",
      "1/1 - 0s - loss: 0.5688 - acc: 1.0000 - 8ms/epoch - 8ms/step\n",
      "Epoch 69/100\n",
      "1/1 - 0s - loss: 0.5668 - acc: 1.0000 - 8ms/epoch - 8ms/step\n",
      "Epoch 70/100\n",
      "1/1 - 0s - loss: 0.5647 - acc: 1.0000 - 8ms/epoch - 8ms/step\n",
      "Epoch 71/100\n",
      "1/1 - 0s - loss: 0.5627 - acc: 1.0000 - 9ms/epoch - 9ms/step\n",
      "Epoch 72/100\n",
      "1/1 - 0s - loss: 0.5607 - acc: 1.0000 - 9ms/epoch - 9ms/step\n",
      "Epoch 73/100\n",
      "1/1 - 0s - loss: 0.5586 - acc: 1.0000 - 8ms/epoch - 8ms/step\n",
      "Epoch 74/100\n",
      "1/1 - 0s - loss: 0.5566 - acc: 1.0000 - 10ms/epoch - 10ms/step\n",
      "Epoch 75/100\n",
      "1/1 - 0s - loss: 0.5545 - acc: 1.0000 - 7ms/epoch - 7ms/step\n",
      "Epoch 76/100\n",
      "1/1 - 0s - loss: 0.5524 - acc: 1.0000 - 7ms/epoch - 7ms/step\n",
      "Epoch 77/100\n",
      "1/1 - 0s - loss: 0.5504 - acc: 1.0000 - 7ms/epoch - 7ms/step\n",
      "Epoch 78/100\n",
      "1/1 - 0s - loss: 0.5483 - acc: 1.0000 - 7ms/epoch - 7ms/step\n",
      "Epoch 79/100\n",
      "1/1 - 0s - loss: 0.5462 - acc: 1.0000 - 7ms/epoch - 7ms/step\n",
      "Epoch 80/100\n",
      "1/1 - 0s - loss: 0.5441 - acc: 1.0000 - 7ms/epoch - 7ms/step\n",
      "Epoch 81/100\n",
      "1/1 - 0s - loss: 0.5420 - acc: 1.0000 - 8ms/epoch - 8ms/step\n",
      "Epoch 82/100\n",
      "1/1 - 0s - loss: 0.5400 - acc: 1.0000 - 7ms/epoch - 7ms/step\n",
      "Epoch 83/100\n",
      "1/1 - 0s - loss: 0.5379 - acc: 1.0000 - 8ms/epoch - 8ms/step\n",
      "Epoch 84/100\n",
      "1/1 - 0s - loss: 0.5358 - acc: 1.0000 - 7ms/epoch - 7ms/step\n",
      "Epoch 85/100\n",
      "1/1 - 0s - loss: 0.5336 - acc: 1.0000 - 9ms/epoch - 9ms/step\n",
      "Epoch 86/100\n",
      "1/1 - 0s - loss: 0.5315 - acc: 1.0000 - 7ms/epoch - 7ms/step\n",
      "Epoch 87/100\n",
      "1/1 - 0s - loss: 0.5294 - acc: 1.0000 - 7ms/epoch - 7ms/step\n",
      "Epoch 88/100\n",
      "1/1 - 0s - loss: 0.5273 - acc: 1.0000 - 8ms/epoch - 8ms/step\n",
      "Epoch 89/100\n",
      "1/1 - 0s - loss: 0.5252 - acc: 1.0000 - 7ms/epoch - 7ms/step\n",
      "Epoch 90/100\n",
      "1/1 - 0s - loss: 0.5230 - acc: 1.0000 - 8ms/epoch - 8ms/step\n",
      "Epoch 91/100\n",
      "1/1 - 0s - loss: 0.5209 - acc: 1.0000 - 7ms/epoch - 7ms/step\n",
      "Epoch 92/100\n",
      "1/1 - 0s - loss: 0.5188 - acc: 1.0000 - 8ms/epoch - 8ms/step\n",
      "Epoch 93/100\n",
      "1/1 - 0s - loss: 0.5166 - acc: 1.0000 - 7ms/epoch - 7ms/step\n",
      "Epoch 94/100\n",
      "1/1 - 0s - loss: 0.5145 - acc: 1.0000 - 8ms/epoch - 8ms/step\n",
      "Epoch 95/100\n",
      "1/1 - 0s - loss: 0.5123 - acc: 1.0000 - 7ms/epoch - 7ms/step\n",
      "Epoch 96/100\n",
      "1/1 - 0s - loss: 0.5102 - acc: 1.0000 - 8ms/epoch - 8ms/step\n",
      "Epoch 97/100\n",
      "1/1 - 0s - loss: 0.5080 - acc: 1.0000 - 7ms/epoch - 7ms/step\n",
      "Epoch 98/100\n",
      "1/1 - 0s - loss: 0.5058 - acc: 1.0000 - 9ms/epoch - 9ms/step\n",
      "Epoch 99/100\n",
      "1/1 - 0s - loss: 0.5037 - acc: 1.0000 - 8ms/epoch - 8ms/step\n",
      "Epoch 100/100\n",
      "1/1 - 0s - loss: 0.5015 - acc: 1.0000 - 8ms/epoch - 8ms/step\n"
     ]
    },
    {
     "data": {
      "text/plain": [
       "<keras.callbacks.History at 0x28c2cd8b0>"
      ]
     },
     "execution_count": 11,
     "metadata": {},
     "output_type": "execute_result"
    }
   ],
   "source": [
    "# 이진 분류\n",
    "from tensorflow.keras.models import Sequential\n",
    "from tensorflow.keras.layers import Dense, Embedding, Flatten\n",
    "\n",
    "embedding_dim = 4\n",
    "\n",
    "model = Sequential()\n",
    "model.add(Embedding(vocab_size, embedding_dim, input_length=max_len))\n",
    "model.add(Flatten())\n",
    "model.add(Dense(1, activation=\"sigmoid\"))\n",
    "\n",
    "model.compile(optimizer=\"adam\", loss=\"binary_crossentropy\", metrics=[\"acc\"])\n",
    "model.fit(X_train, y_train, epochs=100, verbose=2)"
   ]
  },
  {
   "cell_type": "markdown",
   "metadata": {},
   "source": [
    "## Pre-Trained Word Embedding"
   ]
  },
  {
   "cell_type": "markdown",
   "metadata": {},
   "source": [
    "### GloVe"
   ]
  },
  {
   "cell_type": "code",
   "execution_count": 12,
   "metadata": {},
   "outputs": [],
   "source": [
    "from urllib.request import urlretrieve, urlopen\n",
    "import gzip, zipfile\n",
    "\n",
    "urlretrieve(\"https://nlp.stanford.edu/data/glove.6B.zip\", filename=\"glove.6B.zip\")\n",
    "zf = zipfile.ZipFile(\"glove.6B.zip\")\n",
    "zf.extractall()\n",
    "zf.close()"
   ]
  },
  {
   "cell_type": "code",
   "execution_count": 15,
   "metadata": {},
   "outputs": [
    {
     "data": {
      "text/plain": [
       "400000"
      ]
     },
     "execution_count": 15,
     "metadata": {},
     "output_type": "execute_result"
    }
   ],
   "source": [
    "embedding_dict = dict()\n",
    "\n",
    "with open(\"glove.6B.100d.txt\", encoding=\"utf8\") as f:\n",
    "    for idx, line in enumerate(f):\n",
    "        word_vector = line.split()\n",
    "        word = word_vector[0]\n",
    "        word_vector_arr = np.asarray(word_vector[1:], dtype=np.float32)\n",
    "        embedding_dict[word] = word_vector_arr\n",
    "\n",
    "len(embedding_dict)"
   ]
  },
  {
   "cell_type": "code",
   "execution_count": 16,
   "metadata": {},
   "outputs": [
    {
     "data": {
      "text/plain": [
       "(array([-0.049773 ,  0.19903  ,  0.10585  ,  0.1391   , -0.32395  ,\n",
       "         0.44053  ,  0.3947   , -0.22805  , -0.25793  ,  0.49768  ,\n",
       "         0.15384  , -0.08831  ,  0.0782   , -0.8299   , -0.037788 ,\n",
       "         0.16772  , -0.45197  , -0.17085  ,  0.74756  ,  0.98256  ,\n",
       "         0.81872  ,  0.28507  ,  0.16178  , -0.48626  , -0.006265 ,\n",
       "        -0.92469  , -0.30625  , -0.067318 , -0.046762 , -0.76291  ,\n",
       "        -0.0025264, -0.018795 ,  0.12882  , -0.52457  ,  0.3586   ,\n",
       "         0.43119  , -0.89477  , -0.057421 , -0.53724  ,  0.25587  ,\n",
       "         0.55195  ,  0.44698  , -0.24252  ,  0.29946  ,  0.25776  ,\n",
       "        -0.8717   ,  0.68426  , -0.05688  , -0.1848   , -0.59352  ,\n",
       "        -0.11227  , -0.57692  , -0.013593 ,  0.18488  , -0.32507  ,\n",
       "        -0.90171  ,  0.17672  ,  0.075601 ,  0.54896  , -0.21488  ,\n",
       "        -0.54018  , -0.45882  , -0.79536  ,  0.26331  ,  0.18879  ,\n",
       "        -0.16363  ,  0.3975   ,  0.1099   ,  0.1164   , -0.083499 ,\n",
       "         0.50159  ,  0.35802  ,  0.25677  ,  0.088546 ,  0.42108  ,\n",
       "         0.28674  , -0.71285  , -0.82915  ,  0.15297  , -0.82712  ,\n",
       "         0.022112 ,  1.067    , -0.31776  ,  0.1211   , -0.069755 ,\n",
       "        -0.61327  ,  0.27308  , -0.42638  , -0.085084 , -0.17694  ,\n",
       "        -0.0090944,  0.1109   ,  0.62543  , -0.23682  , -0.44928  ,\n",
       "        -0.3667   , -0.21616  , -0.19187  , -0.032502 ,  0.38025  ],\n",
       "       dtype=float32),\n",
       " 100)"
      ]
     },
     "execution_count": 16,
     "metadata": {},
     "output_type": "execute_result"
    }
   ],
   "source": [
    "embedding_dict[\"respectable\"], len(embedding_dict[\"respectable\"])"
   ]
  },
  {
   "cell_type": "code",
   "execution_count": 17,
   "metadata": {},
   "outputs": [
    {
     "data": {
      "text/plain": [
       "dict_items([('nice', 1), ('great', 2), ('best', 3), ('amazing', 4), ('stop', 5), ('lies', 6), ('pitiful', 7), ('nerd', 8), ('excellent', 9), ('work', 10), ('supreme', 11), ('quaility', 12), ('bad', 13), ('highly', 14), ('respectable', 15)])"
      ]
     },
     "execution_count": 17,
     "metadata": {},
     "output_type": "execute_result"
    }
   ],
   "source": [
    "embedding_matrix = np.zeros((vocab_size, 100))\n",
    "\n",
    "tokenizer.word_index.items()"
   ]
  },
  {
   "cell_type": "code",
   "execution_count": 19,
   "metadata": {},
   "outputs": [
    {
     "name": "stdout",
     "output_type": "stream",
     "text": [
      "2\n",
      "[-0.013786   0.38216    0.53236    0.15261   -0.29694   -0.20558\n",
      " -0.41846   -0.58437   -0.77355   -0.87866   -0.37858   -0.18516\n",
      " -0.128     -0.20584   -0.22925   -0.42599    0.3725     0.26077\n",
      " -1.0702     0.62916   -0.091469   0.70348   -0.4973    -0.77691\n",
      "  0.66045    0.09465   -0.44893    0.018917   0.33146   -0.35022\n",
      " -0.35789    0.030313   0.22253   -0.23236   -0.19719   -0.0053125\n",
      " -0.25848    0.58081   -0.10705   -0.17845   -0.16206    0.087086\n",
      "  0.63029   -0.76649    0.51619    0.14073    1.019     -0.43136\n",
      "  0.46138   -0.43585   -0.47568    0.19226    0.36065    0.78987\n",
      "  0.088945  -2.7814    -0.15366    0.01015    1.1798     0.15168\n",
      " -0.050112   1.2626    -0.77527    0.36031    0.95761   -0.11385\n",
      "  0.28035   -0.02591    0.31246   -0.15424    0.3778    -0.13599\n",
      "  0.2946    -0.31579    0.42943    0.086969   0.019169  -0.27242\n",
      " -0.31696    0.37327    0.61997    0.13889    0.17188    0.30363\n",
      " -1.2776     0.044423  -0.52736   -0.88536   -0.19428   -0.61947\n",
      " -0.10146   -0.26301   -0.061707   0.36627   -0.95223   -0.39346\n",
      " -0.69183   -1.0426     0.28855    0.63056  ]\n"
     ]
    }
   ],
   "source": [
    "# \"great\" 벡터값 확인\n",
    "print(tokenizer.word_index[\"great\"])\n",
    "print(embedding_dict[\"great\"])"
   ]
  },
  {
   "cell_type": "code",
   "execution_count": 20,
   "metadata": {},
   "outputs": [
    {
     "data": {
      "text/plain": [
       "array([-0.013786  ,  0.38216001,  0.53236002,  0.15261   , -0.29694   ,\n",
       "       -0.20558   , -0.41846001, -0.58437002, -0.77354997, -0.87866002,\n",
       "       -0.37858   , -0.18516   , -0.12800001, -0.20584001, -0.22925   ,\n",
       "       -0.42598999,  0.3725    ,  0.26076999, -1.07019997,  0.62915999,\n",
       "       -0.091469  ,  0.70348001, -0.4973    , -0.77691001,  0.66044998,\n",
       "        0.09465   , -0.44893   ,  0.018917  ,  0.33146   , -0.35021999,\n",
       "       -0.35789001,  0.030313  ,  0.22253001, -0.23236001, -0.19719   ,\n",
       "       -0.0053125 , -0.25848001,  0.58081001, -0.10705   , -0.17845   ,\n",
       "       -0.16205999,  0.087086  ,  0.63028997, -0.76648998,  0.51618999,\n",
       "        0.14072999,  1.01900005, -0.43136001,  0.46138   , -0.43584999,\n",
       "       -0.47567999,  0.19226   ,  0.36065   ,  0.78987002,  0.088945  ,\n",
       "       -2.78139997, -0.15366   ,  0.01015   ,  1.17980003,  0.15167999,\n",
       "       -0.050112  ,  1.26259995, -0.77526999,  0.36030999,  0.95761001,\n",
       "       -0.11385   ,  0.28035   , -0.02591   ,  0.31246001, -0.15424   ,\n",
       "        0.37779999, -0.13598999,  0.29460001, -0.31579   ,  0.42943001,\n",
       "        0.086969  ,  0.019169  , -0.27241999, -0.31696001,  0.37327   ,\n",
       "        0.61997002,  0.13889   ,  0.17188001,  0.30362999, -1.27760005,\n",
       "        0.044423  , -0.52736002, -0.88536   , -0.19428   , -0.61947   ,\n",
       "       -0.10146   , -0.26301   , -0.061707  ,  0.36627001, -0.95222998,\n",
       "       -0.39346001, -0.69182998, -1.04260004,  0.28854999,  0.63055998])"
      ]
     },
     "execution_count": 20,
     "metadata": {},
     "output_type": "execute_result"
    }
   ],
   "source": [
    "for word, idx in tokenizer.word_index.items():\n",
    "    vector_val = embedding_dict.get(word)\n",
    "    if vector_val is not None:\n",
    "        embedding_matrix[idx] = vector_val\n",
    "\n",
    "embedding_matrix[2]"
   ]
  },
  {
   "cell_type": "code",
   "execution_count": 21,
   "metadata": {},
   "outputs": [
    {
     "name": "stdout",
     "output_type": "stream",
     "text": [
      "Epoch 1/100\n",
      "1/1 - 0s - loss: 0.7320 - acc: 0.5714 - 307ms/epoch - 307ms/step\n",
      "Epoch 2/100\n",
      "1/1 - 0s - loss: 0.7128 - acc: 0.5714 - 6ms/epoch - 6ms/step\n",
      "Epoch 3/100\n",
      "1/1 - 0s - loss: 0.6943 - acc: 0.5714 - 7ms/epoch - 7ms/step\n",
      "Epoch 4/100\n",
      "1/1 - 0s - loss: 0.6765 - acc: 0.5714 - 6ms/epoch - 6ms/step\n",
      "Epoch 5/100\n",
      "1/1 - 0s - loss: 0.6593 - acc: 0.5714 - 8ms/epoch - 8ms/step\n",
      "Epoch 6/100\n",
      "1/1 - 0s - loss: 0.6429 - acc: 0.5714 - 7ms/epoch - 7ms/step\n",
      "Epoch 7/100\n"
     ]
    },
    {
     "name": "stderr",
     "output_type": "stream",
     "text": [
      "2023-07-31 19:44:15.643603: I tensorflow/core/grappler/optimizers/custom_graph_optimizer_registry.cc:113] Plugin optimizer for device_type GPU is enabled.\n"
     ]
    },
    {
     "name": "stdout",
     "output_type": "stream",
     "text": [
      "1/1 - 0s - loss: 0.6271 - acc: 0.5714 - 8ms/epoch - 8ms/step\n",
      "Epoch 8/100\n",
      "1/1 - 0s - loss: 0.6119 - acc: 0.5714 - 6ms/epoch - 6ms/step\n",
      "Epoch 9/100\n",
      "1/1 - 0s - loss: 0.5973 - acc: 0.5714 - 10ms/epoch - 10ms/step\n",
      "Epoch 10/100\n",
      "1/1 - 0s - loss: 0.5833 - acc: 0.5714 - 6ms/epoch - 6ms/step\n",
      "Epoch 11/100\n",
      "1/1 - 0s - loss: 0.5698 - acc: 0.5714 - 9ms/epoch - 9ms/step\n",
      "Epoch 12/100\n",
      "1/1 - 0s - loss: 0.5568 - acc: 0.5714 - 7ms/epoch - 7ms/step\n",
      "Epoch 13/100\n",
      "1/1 - 0s - loss: 0.5443 - acc: 0.5714 - 7ms/epoch - 7ms/step\n",
      "Epoch 14/100\n",
      "1/1 - 0s - loss: 0.5322 - acc: 0.5714 - 6ms/epoch - 6ms/step\n",
      "Epoch 15/100\n",
      "1/1 - 0s - loss: 0.5205 - acc: 0.8571 - 8ms/epoch - 8ms/step\n",
      "Epoch 16/100\n",
      "1/1 - 0s - loss: 0.5092 - acc: 1.0000 - 7ms/epoch - 7ms/step\n",
      "Epoch 17/100\n",
      "1/1 - 0s - loss: 0.4983 - acc: 1.0000 - 9ms/epoch - 9ms/step\n",
      "Epoch 18/100\n",
      "1/1 - 0s - loss: 0.4877 - acc: 1.0000 - 7ms/epoch - 7ms/step\n",
      "Epoch 19/100\n",
      "1/1 - 0s - loss: 0.4774 - acc: 1.0000 - 6ms/epoch - 6ms/step\n",
      "Epoch 20/100\n",
      "1/1 - 0s - loss: 0.4674 - acc: 1.0000 - 10ms/epoch - 10ms/step\n",
      "Epoch 21/100\n",
      "1/1 - 0s - loss: 0.4577 - acc: 1.0000 - 7ms/epoch - 7ms/step\n",
      "Epoch 22/100\n",
      "1/1 - 0s - loss: 0.4482 - acc: 1.0000 - 9ms/epoch - 9ms/step\n",
      "Epoch 23/100\n",
      "1/1 - 0s - loss: 0.4391 - acc: 1.0000 - 10ms/epoch - 10ms/step\n",
      "Epoch 24/100\n",
      "1/1 - 0s - loss: 0.4301 - acc: 1.0000 - 6ms/epoch - 6ms/step\n",
      "Epoch 25/100\n",
      "1/1 - 0s - loss: 0.4214 - acc: 1.0000 - 10ms/epoch - 10ms/step\n",
      "Epoch 26/100\n",
      "1/1 - 0s - loss: 0.4129 - acc: 1.0000 - 10ms/epoch - 10ms/step\n",
      "Epoch 27/100\n",
      "1/1 - 0s - loss: 0.4047 - acc: 1.0000 - 6ms/epoch - 6ms/step\n",
      "Epoch 28/100\n",
      "1/1 - 0s - loss: 0.3966 - acc: 1.0000 - 10ms/epoch - 10ms/step\n",
      "Epoch 29/100\n",
      "1/1 - 0s - loss: 0.3888 - acc: 1.0000 - 7ms/epoch - 7ms/step\n",
      "Epoch 30/100\n",
      "1/1 - 0s - loss: 0.3811 - acc: 1.0000 - 6ms/epoch - 6ms/step\n",
      "Epoch 31/100\n",
      "1/1 - 0s - loss: 0.3737 - acc: 1.0000 - 7ms/epoch - 7ms/step\n",
      "Epoch 32/100\n",
      "1/1 - 0s - loss: 0.3664 - acc: 1.0000 - 6ms/epoch - 6ms/step\n",
      "Epoch 33/100\n",
      "1/1 - 0s - loss: 0.3593 - acc: 1.0000 - 8ms/epoch - 8ms/step\n",
      "Epoch 34/100\n",
      "1/1 - 0s - loss: 0.3524 - acc: 1.0000 - 6ms/epoch - 6ms/step\n",
      "Epoch 35/100\n",
      "1/1 - 0s - loss: 0.3457 - acc: 1.0000 - 7ms/epoch - 7ms/step\n",
      "Epoch 36/100\n",
      "1/1 - 0s - loss: 0.3391 - acc: 1.0000 - 6ms/epoch - 6ms/step\n",
      "Epoch 37/100\n",
      "1/1 - 0s - loss: 0.3327 - acc: 1.0000 - 8ms/epoch - 8ms/step\n",
      "Epoch 38/100\n",
      "1/1 - 0s - loss: 0.3264 - acc: 1.0000 - 6ms/epoch - 6ms/step\n",
      "Epoch 39/100\n",
      "1/1 - 0s - loss: 0.3203 - acc: 1.0000 - 7ms/epoch - 7ms/step\n",
      "Epoch 40/100\n",
      "1/1 - 0s - loss: 0.3144 - acc: 1.0000 - 6ms/epoch - 6ms/step\n",
      "Epoch 41/100\n",
      "1/1 - 0s - loss: 0.3086 - acc: 1.0000 - 11ms/epoch - 11ms/step\n",
      "Epoch 42/100\n",
      "1/1 - 0s - loss: 0.3029 - acc: 1.0000 - 7ms/epoch - 7ms/step\n",
      "Epoch 43/100\n",
      "1/1 - 0s - loss: 0.2974 - acc: 1.0000 - 7ms/epoch - 7ms/step\n",
      "Epoch 44/100\n",
      "1/1 - 0s - loss: 0.2921 - acc: 1.0000 - 10ms/epoch - 10ms/step\n",
      "Epoch 45/100\n",
      "1/1 - 0s - loss: 0.2868 - acc: 1.0000 - 6ms/epoch - 6ms/step\n",
      "Epoch 46/100\n",
      "1/1 - 0s - loss: 0.2817 - acc: 1.0000 - 8ms/epoch - 8ms/step\n",
      "Epoch 47/100\n",
      "1/1 - 0s - loss: 0.2767 - acc: 1.0000 - 6ms/epoch - 6ms/step\n",
      "Epoch 48/100\n",
      "1/1 - 0s - loss: 0.2719 - acc: 1.0000 - 9ms/epoch - 9ms/step\n",
      "Epoch 49/100\n",
      "1/1 - 0s - loss: 0.2671 - acc: 1.0000 - 7ms/epoch - 7ms/step\n",
      "Epoch 50/100\n",
      "1/1 - 0s - loss: 0.2625 - acc: 1.0000 - 6ms/epoch - 6ms/step\n",
      "Epoch 51/100\n",
      "1/1 - 0s - loss: 0.2580 - acc: 1.0000 - 6ms/epoch - 6ms/step\n",
      "Epoch 52/100\n",
      "1/1 - 0s - loss: 0.2536 - acc: 1.0000 - 6ms/epoch - 6ms/step\n",
      "Epoch 53/100\n",
      "1/1 - 0s - loss: 0.2493 - acc: 1.0000 - 6ms/epoch - 6ms/step\n",
      "Epoch 54/100\n",
      "1/1 - 0s - loss: 0.2451 - acc: 1.0000 - 24ms/epoch - 24ms/step\n",
      "Epoch 55/100\n",
      "1/1 - 0s - loss: 0.2410 - acc: 1.0000 - 15ms/epoch - 15ms/step\n",
      "Epoch 56/100\n",
      "1/1 - 0s - loss: 0.2370 - acc: 1.0000 - 9ms/epoch - 9ms/step\n",
      "Epoch 57/100\n",
      "1/1 - 0s - loss: 0.2331 - acc: 1.0000 - 9ms/epoch - 9ms/step\n",
      "Epoch 58/100\n",
      "1/1 - 0s - loss: 0.2293 - acc: 1.0000 - 6ms/epoch - 6ms/step\n",
      "Epoch 59/100\n",
      "1/1 - 0s - loss: 0.2256 - acc: 1.0000 - 7ms/epoch - 7ms/step\n",
      "Epoch 60/100\n",
      "1/1 - 0s - loss: 0.2220 - acc: 1.0000 - 6ms/epoch - 6ms/step\n",
      "Epoch 61/100\n",
      "1/1 - 0s - loss: 0.2184 - acc: 1.0000 - 9ms/epoch - 9ms/step\n",
      "Epoch 62/100\n",
      "1/1 - 0s - loss: 0.2150 - acc: 1.0000 - 6ms/epoch - 6ms/step\n",
      "Epoch 63/100\n",
      "1/1 - 0s - loss: 0.2116 - acc: 1.0000 - 10ms/epoch - 10ms/step\n",
      "Epoch 64/100\n",
      "1/1 - 0s - loss: 0.2083 - acc: 1.0000 - 7ms/epoch - 7ms/step\n",
      "Epoch 65/100\n",
      "1/1 - 0s - loss: 0.2050 - acc: 1.0000 - 7ms/epoch - 7ms/step\n",
      "Epoch 66/100\n",
      "1/1 - 0s - loss: 0.2019 - acc: 1.0000 - 9ms/epoch - 9ms/step\n",
      "Epoch 67/100\n",
      "1/1 - 0s - loss: 0.1988 - acc: 1.0000 - 6ms/epoch - 6ms/step\n",
      "Epoch 68/100\n",
      "1/1 - 0s - loss: 0.1958 - acc: 1.0000 - 11ms/epoch - 11ms/step\n",
      "Epoch 69/100\n",
      "1/1 - 0s - loss: 0.1929 - acc: 1.0000 - 7ms/epoch - 7ms/step\n",
      "Epoch 70/100\n",
      "1/1 - 0s - loss: 0.1900 - acc: 1.0000 - 9ms/epoch - 9ms/step\n",
      "Epoch 71/100\n",
      "1/1 - 0s - loss: 0.1872 - acc: 1.0000 - 10ms/epoch - 10ms/step\n",
      "Epoch 72/100\n",
      "1/1 - 0s - loss: 0.1844 - acc: 1.0000 - 7ms/epoch - 7ms/step\n",
      "Epoch 73/100\n",
      "1/1 - 0s - loss: 0.1817 - acc: 1.0000 - 6ms/epoch - 6ms/step\n",
      "Epoch 74/100\n",
      "1/1 - 0s - loss: 0.1791 - acc: 1.0000 - 7ms/epoch - 7ms/step\n",
      "Epoch 75/100\n",
      "1/1 - 0s - loss: 0.1765 - acc: 1.0000 - 7ms/epoch - 7ms/step\n",
      "Epoch 76/100\n",
      "1/1 - 0s - loss: 0.1740 - acc: 1.0000 - 9ms/epoch - 9ms/step\n",
      "Epoch 77/100\n",
      "1/1 - 0s - loss: 0.1715 - acc: 1.0000 - 6ms/epoch - 6ms/step\n",
      "Epoch 78/100\n",
      "1/1 - 0s - loss: 0.1691 - acc: 1.0000 - 9ms/epoch - 9ms/step\n",
      "Epoch 79/100\n",
      "1/1 - 0s - loss: 0.1668 - acc: 1.0000 - 7ms/epoch - 7ms/step\n",
      "Epoch 80/100\n",
      "1/1 - 0s - loss: 0.1644 - acc: 1.0000 - 9ms/epoch - 9ms/step\n",
      "Epoch 81/100\n",
      "1/1 - 0s - loss: 0.1622 - acc: 1.0000 - 7ms/epoch - 7ms/step\n",
      "Epoch 82/100\n",
      "1/1 - 0s - loss: 0.1600 - acc: 1.0000 - 6ms/epoch - 6ms/step\n",
      "Epoch 83/100\n",
      "1/1 - 0s - loss: 0.1578 - acc: 1.0000 - 7ms/epoch - 7ms/step\n",
      "Epoch 84/100\n",
      "1/1 - 0s - loss: 0.1557 - acc: 1.0000 - 6ms/epoch - 6ms/step\n",
      "Epoch 85/100\n",
      "1/1 - 0s - loss: 0.1536 - acc: 1.0000 - 9ms/epoch - 9ms/step\n",
      "Epoch 86/100\n",
      "1/1 - 0s - loss: 0.1516 - acc: 1.0000 - 6ms/epoch - 6ms/step\n",
      "Epoch 87/100\n",
      "1/1 - 0s - loss: 0.1496 - acc: 1.0000 - 10ms/epoch - 10ms/step\n",
      "Epoch 88/100\n",
      "1/1 - 0s - loss: 0.1476 - acc: 1.0000 - 6ms/epoch - 6ms/step\n",
      "Epoch 89/100\n",
      "1/1 - 0s - loss: 0.1457 - acc: 1.0000 - 7ms/epoch - 7ms/step\n",
      "Epoch 90/100\n",
      "1/1 - 0s - loss: 0.1438 - acc: 1.0000 - 8ms/epoch - 8ms/step\n",
      "Epoch 91/100\n",
      "1/1 - 0s - loss: 0.1420 - acc: 1.0000 - 6ms/epoch - 6ms/step\n",
      "Epoch 92/100\n",
      "1/1 - 0s - loss: 0.1402 - acc: 1.0000 - 7ms/epoch - 7ms/step\n",
      "Epoch 93/100\n",
      "1/1 - 0s - loss: 0.1384 - acc: 1.0000 - 6ms/epoch - 6ms/step\n",
      "Epoch 94/100\n",
      "1/1 - 0s - loss: 0.1367 - acc: 1.0000 - 6ms/epoch - 6ms/step\n",
      "Epoch 95/100\n",
      "1/1 - 0s - loss: 0.1350 - acc: 1.0000 - 6ms/epoch - 6ms/step\n",
      "Epoch 96/100\n",
      "1/1 - 0s - loss: 0.1333 - acc: 1.0000 - 7ms/epoch - 7ms/step\n",
      "Epoch 97/100\n",
      "1/1 - 0s - loss: 0.1316 - acc: 1.0000 - 6ms/epoch - 6ms/step\n",
      "Epoch 98/100\n",
      "1/1 - 0s - loss: 0.1300 - acc: 1.0000 - 9ms/epoch - 9ms/step\n",
      "Epoch 99/100\n",
      "1/1 - 0s - loss: 0.1285 - acc: 1.0000 - 6ms/epoch - 6ms/step\n",
      "Epoch 100/100\n",
      "1/1 - 0s - loss: 0.1269 - acc: 1.0000 - 8ms/epoch - 8ms/step\n"
     ]
    },
    {
     "data": {
      "text/plain": [
       "<keras.callbacks.History at 0x28bda8a90>"
      ]
     },
     "execution_count": 21,
     "metadata": {},
     "output_type": "execute_result"
    }
   ],
   "source": [
    "from tensorflow.keras.models import Sequential\n",
    "from tensorflow.keras.layers import Dense, Embedding, Flatten\n",
    "\n",
    "output_dim = 100 # 사전 학습된 임베팅 벡터의 차원과 동일하게\n",
    "\n",
    "model = Sequential()\n",
    "e = Embedding(vocab_size, output_dim, input_length=max_len, weights=[embedding_matrix], trainable=False)\n",
    "model.add(e)\n",
    "model.add(Flatten())\n",
    "model.add(Dense(1, activation=\"sigmoid\"))\n",
    "\n",
    "model.compile(optimizer=\"adam\", loss=\"binary_crossentropy\", metrics=[\"acc\"])\n",
    "model.fit(X_train, y_train, epochs=100, verbose=2)"
   ]
  },
  {
   "cell_type": "markdown",
   "metadata": {},
   "source": [
    "### Word2Vec"
   ]
  },
  {
   "cell_type": "code",
   "execution_count": 26,
   "metadata": {},
   "outputs": [
    {
     "data": {
      "text/plain": [
       "(3000000, 300)"
      ]
     },
     "execution_count": 26,
     "metadata": {},
     "output_type": "execute_result"
    }
   ],
   "source": [
    "import gensim\n",
    "\n",
    "# urlretrieve(\"https://s3.amazonaws.com/dl4j-distribution/GoogleNews-vectors-negative300.bin.gz\", filename=\"GoogleNews-vectors-negative300.bin.gz\")\n",
    "word2vec_model = gensim.models.KeyedVectors.load_word2vec_format('./GoogleNews-vectors-negative300.bin', binary=True)\n",
    "\n",
    "word2vec_model.vectors.shape"
   ]
  },
  {
   "cell_type": "code",
   "execution_count": 27,
   "metadata": {},
   "outputs": [],
   "source": [
    "embedding_matrix = np.zeros((vocab_size, 300))\n",
    "\n",
    "def get_vector(word, model):\n",
    "    if word in model:\n",
    "        return model[word]\n",
    "    else:\n",
    "        return None\n",
    "\n",
    "for word, idx in tokenizer.word_index.items():\n",
    "    vector_val = get_vector(word, word2vec_model)\n",
    "    if vector_val is not None:\n",
    "        embedding_matrix[idx] = vector_val"
   ]
  },
  {
   "cell_type": "code",
   "execution_count": 28,
   "metadata": {},
   "outputs": [
    {
     "data": {
      "text/plain": [
       "array([ 0.15820312,  0.10595703, -0.18945312,  0.38671875,  0.08349609,\n",
       "       -0.26757812,  0.08349609,  0.11328125, -0.10400391,  0.17871094,\n",
       "       -0.12353516, -0.22265625, -0.01806641, -0.25390625,  0.13183594,\n",
       "        0.0859375 ,  0.16113281,  0.11083984, -0.11083984, -0.0859375 ,\n",
       "        0.0267334 ,  0.34570312,  0.15136719, -0.00415039,  0.10498047,\n",
       "        0.04907227, -0.06982422,  0.08642578,  0.03198242, -0.02844238,\n",
       "       -0.15722656,  0.11865234,  0.36132812,  0.00173187,  0.05297852,\n",
       "       -0.234375  ,  0.11767578,  0.08642578, -0.01123047,  0.25976562,\n",
       "        0.28515625, -0.11669922,  0.38476562,  0.07275391,  0.01147461,\n",
       "        0.03466797,  0.18164062, -0.03955078,  0.04199219,  0.01013184,\n",
       "       -0.06054688,  0.09765625,  0.06689453,  0.14648438, -0.12011719,\n",
       "        0.08447266, -0.06152344,  0.06347656,  0.3046875 , -0.35546875,\n",
       "       -0.2890625 ,  0.19628906, -0.33203125, -0.07128906,  0.12792969,\n",
       "        0.09619141, -0.12158203, -0.08691406, -0.12890625,  0.27734375,\n",
       "        0.265625  ,  0.1796875 ,  0.12695312,  0.06298828, -0.34375   ,\n",
       "       -0.05908203,  0.0456543 ,  0.171875  ,  0.08935547,  0.14648438,\n",
       "       -0.04638672, -0.00842285, -0.0279541 ,  0.234375  , -0.07470703,\n",
       "       -0.13574219,  0.00378418,  0.19433594,  0.05664062, -0.05419922,\n",
       "        0.06176758,  0.14160156, -0.24121094,  0.02539062, -0.15917969,\n",
       "       -0.10595703,  0.11865234,  0.24707031, -0.13574219, -0.20410156,\n",
       "       -0.30078125,  0.07910156, -0.04394531,  0.02026367, -0.05786133,\n",
       "        0.2109375 ,  0.13574219,  0.08349609, -0.0098877 , -0.10546875,\n",
       "       -0.08105469,  0.03735352, -0.10351562, -0.10205078,  0.23925781,\n",
       "       -0.21875   ,  0.05151367,  0.06738281,  0.07617188,  0.04638672,\n",
       "        0.03198242, -0.07275391,  0.14550781,  0.04858398, -0.05664062,\n",
       "       -0.07470703, -0.0030365 , -0.09277344, -0.11083984, -0.03320312,\n",
       "       -0.15234375, -0.12207031,  0.09814453,  0.375     ,  0.00454712,\n",
       "       -0.10009766,  0.02734375,  0.30078125, -0.0390625 ,  0.30078125,\n",
       "       -0.04541016, -0.00424194,  0.13671875, -0.18945312, -0.21777344,\n",
       "        0.12695312, -0.02746582, -0.18164062,  0.08984375, -0.23339844,\n",
       "        0.203125  ,  0.2734375 , -0.26953125,  0.15332031, -0.20703125,\n",
       "       -0.01153564,  0.12451172,  0.05395508, -0.23535156, -0.01409912,\n",
       "       -0.09765625,  0.20800781,  0.19335938,  0.14746094,  0.28710938,\n",
       "       -0.23046875,  0.01965332, -0.09619141, -0.0703125 , -0.04174805,\n",
       "       -0.17578125,  0.0007019 ,  0.10546875,  0.10351562,  0.02478027,\n",
       "        0.35742188,  0.17382812, -0.09570312, -0.18359375,  0.23242188,\n",
       "       -0.14453125, -0.20410156, -0.01867676,  0.06640625, -0.2265625 ,\n",
       "       -0.00582886, -0.08642578,  0.02416992, -0.07324219, -0.29882812,\n",
       "       -0.15625   ,  0.07666016,  0.19628906, -0.20410156,  0.09863281,\n",
       "       -0.01672363, -0.18652344, -0.12353516, -0.16015625, -0.10058594,\n",
       "        0.21777344,  0.09375   , -0.10058594, -0.03637695,  0.15136719,\n",
       "       -0.02526855, -0.23730469,  0.03417969, -0.00604248,  0.15625   ,\n",
       "       -0.14257812,  0.18066406, -0.35351562,  0.25      ,  0.13085938,\n",
       "       -0.04296875,  0.17089844,  0.20507812,  0.00680542, -0.08251953,\n",
       "       -0.06738281,  0.22167969, -0.16308594, -0.16699219, -0.02087402,\n",
       "        0.11035156,  0.06054688, -0.04223633, -0.17285156,  0.05029297,\n",
       "       -0.19824219,  0.01495361,  0.06542969,  0.03271484,  0.14453125,\n",
       "       -0.08691406, -0.11035156, -0.1484375 ,  0.09667969,  0.22363281,\n",
       "        0.23535156,  0.08398438,  0.18164062, -0.10595703, -0.04296875,\n",
       "        0.11572266, -0.00153351,  0.0534668 , -0.1328125 , -0.33203125,\n",
       "       -0.08251953,  0.30664062,  0.22363281,  0.27929688,  0.09082031,\n",
       "       -0.18066406, -0.00613403, -0.09423828, -0.21289062,  0.01965332,\n",
       "       -0.08105469, -0.06689453, -0.31835938, -0.08447266,  0.13574219,\n",
       "        0.0625    ,  0.07080078, -0.14257812, -0.11279297,  0.01452637,\n",
       "       -0.06689453,  0.03881836,  0.19433594,  0.09521484,  0.11376953,\n",
       "       -0.12451172,  0.13769531, -0.18847656, -0.05224609,  0.15820312,\n",
       "        0.09863281, -0.04370117, -0.06054688,  0.21679688,  0.04077148,\n",
       "       -0.14648438, -0.18945312, -0.25195312, -0.16894531, -0.08642578,\n",
       "       -0.08544922,  0.18945312, -0.14648438,  0.13476562, -0.04077148,\n",
       "        0.03271484,  0.08935547, -0.26757812,  0.00836182, -0.21386719],\n",
       "      dtype=float32)"
      ]
     },
     "execution_count": 28,
     "metadata": {},
     "output_type": "execute_result"
    }
   ],
   "source": [
    "word2vec_model[\"nice\"]"
   ]
  },
  {
   "cell_type": "code",
   "execution_count": 29,
   "metadata": {},
   "outputs": [
    {
     "name": "stdout",
     "output_type": "stream",
     "text": [
      "Epoch 1/100\n",
      "1/1 - 0s - loss: 0.7266 - acc: 0.4286 - 295ms/epoch - 295ms/step\n",
      "Epoch 2/100\n",
      "1/1 - 0s - loss: 0.7077 - acc: 0.4286 - 9ms/epoch - 9ms/step\n",
      "Epoch 3/100\n",
      "1/1 - 0s - loss: 0.6893 - acc: 0.5714 - 7ms/epoch - 7ms/step\n",
      "Epoch 4/100\n",
      "1/1 - 0s - loss: 0.6715 - acc: 0.7143 - 8ms/epoch - 8ms/step\n",
      "Epoch 5/100\n",
      "1/1 - 0s - loss: 0.6543 - acc: 0.7143 - 7ms/epoch - 7ms/step\n",
      "Epoch 6/100\n",
      "1/1 - 0s - loss: 0.6376 - acc: 0.7143 - 7ms/epoch - 7ms/step\n",
      "Epoch 7/100\n",
      "1/1 - 0s - loss: 0.6214 - acc: 0.7143 - 6ms/epoch - 6ms/step\n",
      "Epoch 8/100\n",
      "1/1 - 0s - loss: 0.6058 - acc: 0.7143 - 6ms/epoch - 6ms/step\n",
      "Epoch 9/100\n"
     ]
    },
    {
     "name": "stderr",
     "output_type": "stream",
     "text": [
      "2023-07-31 19:57:28.902143: I tensorflow/core/grappler/optimizers/custom_graph_optimizer_registry.cc:113] Plugin optimizer for device_type GPU is enabled.\n"
     ]
    },
    {
     "name": "stdout",
     "output_type": "stream",
     "text": [
      "1/1 - 0s - loss: 0.5908 - acc: 0.7143 - 5ms/epoch - 5ms/step\n",
      "Epoch 10/100\n",
      "1/1 - 0s - loss: 0.5762 - acc: 0.8571 - 7ms/epoch - 7ms/step\n",
      "Epoch 11/100\n",
      "1/1 - 0s - loss: 0.5622 - acc: 1.0000 - 6ms/epoch - 6ms/step\n",
      "Epoch 12/100\n",
      "1/1 - 0s - loss: 0.5486 - acc: 1.0000 - 7ms/epoch - 7ms/step\n",
      "Epoch 13/100\n",
      "1/1 - 0s - loss: 0.5355 - acc: 1.0000 - 6ms/epoch - 6ms/step\n",
      "Epoch 14/100\n",
      "1/1 - 0s - loss: 0.5229 - acc: 1.0000 - 6ms/epoch - 6ms/step\n",
      "Epoch 15/100\n",
      "1/1 - 0s - loss: 0.5107 - acc: 1.0000 - 6ms/epoch - 6ms/step\n",
      "Epoch 16/100\n",
      "1/1 - 0s - loss: 0.4989 - acc: 1.0000 - 5ms/epoch - 5ms/step\n",
      "Epoch 17/100\n",
      "1/1 - 0s - loss: 0.4875 - acc: 1.0000 - 6ms/epoch - 6ms/step\n",
      "Epoch 18/100\n",
      "1/1 - 0s - loss: 0.4764 - acc: 1.0000 - 6ms/epoch - 6ms/step\n",
      "Epoch 19/100\n",
      "1/1 - 0s - loss: 0.4658 - acc: 1.0000 - 7ms/epoch - 7ms/step\n",
      "Epoch 20/100\n",
      "1/1 - 0s - loss: 0.4555 - acc: 1.0000 - 6ms/epoch - 6ms/step\n",
      "Epoch 21/100\n",
      "1/1 - 0s - loss: 0.4455 - acc: 1.0000 - 7ms/epoch - 7ms/step\n",
      "Epoch 22/100\n",
      "1/1 - 0s - loss: 0.4358 - acc: 1.0000 - 6ms/epoch - 6ms/step\n",
      "Epoch 23/100\n",
      "1/1 - 0s - loss: 0.4265 - acc: 1.0000 - 6ms/epoch - 6ms/step\n",
      "Epoch 24/100\n",
      "1/1 - 0s - loss: 0.4174 - acc: 1.0000 - 5ms/epoch - 5ms/step\n",
      "Epoch 25/100\n",
      "1/1 - 0s - loss: 0.4086 - acc: 1.0000 - 6ms/epoch - 6ms/step\n",
      "Epoch 26/100\n",
      "1/1 - 0s - loss: 0.4001 - acc: 1.0000 - 6ms/epoch - 6ms/step\n",
      "Epoch 27/100\n",
      "1/1 - 0s - loss: 0.3918 - acc: 1.0000 - 7ms/epoch - 7ms/step\n",
      "Epoch 28/100\n",
      "1/1 - 0s - loss: 0.3838 - acc: 1.0000 - 6ms/epoch - 6ms/step\n",
      "Epoch 29/100\n",
      "1/1 - 0s - loss: 0.3760 - acc: 1.0000 - 6ms/epoch - 6ms/step\n",
      "Epoch 30/100\n",
      "1/1 - 0s - loss: 0.3684 - acc: 1.0000 - 6ms/epoch - 6ms/step\n",
      "Epoch 31/100\n",
      "1/1 - 0s - loss: 0.3610 - acc: 1.0000 - 7ms/epoch - 7ms/step\n",
      "Epoch 32/100\n",
      "1/1 - 0s - loss: 0.3539 - acc: 1.0000 - 6ms/epoch - 6ms/step\n",
      "Epoch 33/100\n",
      "1/1 - 0s - loss: 0.3469 - acc: 1.0000 - 6ms/epoch - 6ms/step\n",
      "Epoch 34/100\n",
      "1/1 - 0s - loss: 0.3402 - acc: 1.0000 - 6ms/epoch - 6ms/step\n",
      "Epoch 35/100\n",
      "1/1 - 0s - loss: 0.3336 - acc: 1.0000 - 6ms/epoch - 6ms/step\n",
      "Epoch 36/100\n",
      "1/1 - 0s - loss: 0.3272 - acc: 1.0000 - 7ms/epoch - 7ms/step\n",
      "Epoch 37/100\n",
      "1/1 - 0s - loss: 0.3210 - acc: 1.0000 - 8ms/epoch - 8ms/step\n",
      "Epoch 38/100\n",
      "1/1 - 0s - loss: 0.3150 - acc: 1.0000 - 6ms/epoch - 6ms/step\n",
      "Epoch 39/100\n",
      "1/1 - 0s - loss: 0.3091 - acc: 1.0000 - 7ms/epoch - 7ms/step\n",
      "Epoch 40/100\n",
      "1/1 - 0s - loss: 0.3033 - acc: 1.0000 - 6ms/epoch - 6ms/step\n",
      "Epoch 41/100\n",
      "1/1 - 0s - loss: 0.2978 - acc: 1.0000 - 6ms/epoch - 6ms/step\n",
      "Epoch 42/100\n",
      "1/1 - 0s - loss: 0.2923 - acc: 1.0000 - 6ms/epoch - 6ms/step\n",
      "Epoch 43/100\n",
      "1/1 - 0s - loss: 0.2871 - acc: 1.0000 - 6ms/epoch - 6ms/step\n",
      "Epoch 44/100\n",
      "1/1 - 0s - loss: 0.2819 - acc: 1.0000 - 6ms/epoch - 6ms/step\n",
      "Epoch 45/100\n",
      "1/1 - 0s - loss: 0.2769 - acc: 1.0000 - 6ms/epoch - 6ms/step\n",
      "Epoch 46/100\n",
      "1/1 - 0s - loss: 0.2720 - acc: 1.0000 - 6ms/epoch - 6ms/step\n",
      "Epoch 47/100\n",
      "1/1 - 0s - loss: 0.2672 - acc: 1.0000 - 6ms/epoch - 6ms/step\n",
      "Epoch 48/100\n",
      "1/1 - 0s - loss: 0.2626 - acc: 1.0000 - 6ms/epoch - 6ms/step\n",
      "Epoch 49/100\n",
      "1/1 - 0s - loss: 0.2581 - acc: 1.0000 - 6ms/epoch - 6ms/step\n",
      "Epoch 50/100\n",
      "1/1 - 0s - loss: 0.2537 - acc: 1.0000 - 7ms/epoch - 7ms/step\n",
      "Epoch 51/100\n",
      "1/1 - 0s - loss: 0.2494 - acc: 1.0000 - 6ms/epoch - 6ms/step\n",
      "Epoch 52/100\n",
      "1/1 - 0s - loss: 0.2452 - acc: 1.0000 - 6ms/epoch - 6ms/step\n",
      "Epoch 53/100\n",
      "1/1 - 0s - loss: 0.2411 - acc: 1.0000 - 6ms/epoch - 6ms/step\n",
      "Epoch 54/100\n",
      "1/1 - 0s - loss: 0.2371 - acc: 1.0000 - 6ms/epoch - 6ms/step\n",
      "Epoch 55/100\n",
      "1/1 - 0s - loss: 0.2332 - acc: 1.0000 - 6ms/epoch - 6ms/step\n",
      "Epoch 56/100\n",
      "1/1 - 0s - loss: 0.2294 - acc: 1.0000 - 6ms/epoch - 6ms/step\n",
      "Epoch 57/100\n",
      "1/1 - 0s - loss: 0.2257 - acc: 1.0000 - 7ms/epoch - 7ms/step\n",
      "Epoch 58/100\n",
      "1/1 - 0s - loss: 0.2221 - acc: 1.0000 - 7ms/epoch - 7ms/step\n",
      "Epoch 59/100\n",
      "1/1 - 0s - loss: 0.2186 - acc: 1.0000 - 6ms/epoch - 6ms/step\n",
      "Epoch 60/100\n",
      "1/1 - 0s - loss: 0.2151 - acc: 1.0000 - 6ms/epoch - 6ms/step\n",
      "Epoch 61/100\n",
      "1/1 - 0s - loss: 0.2117 - acc: 1.0000 - 6ms/epoch - 6ms/step\n",
      "Epoch 62/100\n",
      "1/1 - 0s - loss: 0.2085 - acc: 1.0000 - 6ms/epoch - 6ms/step\n",
      "Epoch 63/100\n",
      "1/1 - 0s - loss: 0.2052 - acc: 1.0000 - 7ms/epoch - 7ms/step\n",
      "Epoch 64/100\n",
      "1/1 - 0s - loss: 0.2021 - acc: 1.0000 - 6ms/epoch - 6ms/step\n",
      "Epoch 65/100\n",
      "1/1 - 0s - loss: 0.1990 - acc: 1.0000 - 7ms/epoch - 7ms/step\n",
      "Epoch 66/100\n",
      "1/1 - 0s - loss: 0.1960 - acc: 1.0000 - 6ms/epoch - 6ms/step\n",
      "Epoch 67/100\n",
      "1/1 - 0s - loss: 0.1931 - acc: 1.0000 - 7ms/epoch - 7ms/step\n",
      "Epoch 68/100\n",
      "1/1 - 0s - loss: 0.1903 - acc: 1.0000 - 6ms/epoch - 6ms/step\n",
      "Epoch 69/100\n",
      "1/1 - 0s - loss: 0.1875 - acc: 1.0000 - 6ms/epoch - 6ms/step\n",
      "Epoch 70/100\n",
      "1/1 - 0s - loss: 0.1847 - acc: 1.0000 - 6ms/epoch - 6ms/step\n",
      "Epoch 71/100\n",
      "1/1 - 0s - loss: 0.1820 - acc: 1.0000 - 7ms/epoch - 7ms/step\n",
      "Epoch 72/100\n",
      "1/1 - 0s - loss: 0.1794 - acc: 1.0000 - 6ms/epoch - 6ms/step\n",
      "Epoch 73/100\n",
      "1/1 - 0s - loss: 0.1769 - acc: 1.0000 - 8ms/epoch - 8ms/step\n",
      "Epoch 74/100\n",
      "1/1 - 0s - loss: 0.1744 - acc: 1.0000 - 7ms/epoch - 7ms/step\n",
      "Epoch 75/100\n",
      "1/1 - 0s - loss: 0.1719 - acc: 1.0000 - 7ms/epoch - 7ms/step\n",
      "Epoch 76/100\n",
      "1/1 - 0s - loss: 0.1695 - acc: 1.0000 - 7ms/epoch - 7ms/step\n",
      "Epoch 77/100\n",
      "1/1 - 0s - loss: 0.1672 - acc: 1.0000 - 6ms/epoch - 6ms/step\n",
      "Epoch 78/100\n",
      "1/1 - 0s - loss: 0.1649 - acc: 1.0000 - 7ms/epoch - 7ms/step\n",
      "Epoch 79/100\n",
      "1/1 - 0s - loss: 0.1626 - acc: 1.0000 - 6ms/epoch - 6ms/step\n",
      "Epoch 80/100\n",
      "1/1 - 0s - loss: 0.1604 - acc: 1.0000 - 8ms/epoch - 8ms/step\n",
      "Epoch 81/100\n",
      "1/1 - 0s - loss: 0.1582 - acc: 1.0000 - 6ms/epoch - 6ms/step\n",
      "Epoch 82/100\n",
      "1/1 - 0s - loss: 0.1561 - acc: 1.0000 - 7ms/epoch - 7ms/step\n",
      "Epoch 83/100\n",
      "1/1 - 0s - loss: 0.1541 - acc: 1.0000 - 6ms/epoch - 6ms/step\n",
      "Epoch 84/100\n",
      "1/1 - 0s - loss: 0.1520 - acc: 1.0000 - 7ms/epoch - 7ms/step\n",
      "Epoch 85/100\n",
      "1/1 - 0s - loss: 0.1501 - acc: 1.0000 - 6ms/epoch - 6ms/step\n",
      "Epoch 86/100\n",
      "1/1 - 0s - loss: 0.1481 - acc: 1.0000 - 7ms/epoch - 7ms/step\n",
      "Epoch 87/100\n",
      "1/1 - 0s - loss: 0.1462 - acc: 1.0000 - 6ms/epoch - 6ms/step\n",
      "Epoch 88/100\n",
      "1/1 - 0s - loss: 0.1443 - acc: 1.0000 - 6ms/epoch - 6ms/step\n",
      "Epoch 89/100\n",
      "1/1 - 0s - loss: 0.1425 - acc: 1.0000 - 6ms/epoch - 6ms/step\n",
      "Epoch 90/100\n",
      "1/1 - 0s - loss: 0.1407 - acc: 1.0000 - 7ms/epoch - 7ms/step\n",
      "Epoch 91/100\n",
      "1/1 - 0s - loss: 0.1389 - acc: 1.0000 - 6ms/epoch - 6ms/step\n",
      "Epoch 92/100\n",
      "1/1 - 0s - loss: 0.1372 - acc: 1.0000 - 7ms/epoch - 7ms/step\n",
      "Epoch 93/100\n",
      "1/1 - 0s - loss: 0.1355 - acc: 1.0000 - 6ms/epoch - 6ms/step\n",
      "Epoch 94/100\n",
      "1/1 - 0s - loss: 0.1339 - acc: 1.0000 - 7ms/epoch - 7ms/step\n",
      "Epoch 95/100\n",
      "1/1 - 0s - loss: 0.1322 - acc: 1.0000 - 6ms/epoch - 6ms/step\n",
      "Epoch 96/100\n",
      "1/1 - 0s - loss: 0.1306 - acc: 1.0000 - 7ms/epoch - 7ms/step\n",
      "Epoch 97/100\n",
      "1/1 - 0s - loss: 0.1291 - acc: 1.0000 - 12ms/epoch - 12ms/step\n",
      "Epoch 98/100\n",
      "1/1 - 0s - loss: 0.1275 - acc: 1.0000 - 6ms/epoch - 6ms/step\n",
      "Epoch 99/100\n",
      "1/1 - 0s - loss: 0.1260 - acc: 1.0000 - 6ms/epoch - 6ms/step\n",
      "Epoch 100/100\n",
      "1/1 - 0s - loss: 0.1245 - acc: 1.0000 - 6ms/epoch - 6ms/step\n"
     ]
    },
    {
     "data": {
      "text/plain": [
       "<keras.callbacks.History at 0x3ddf26b80>"
      ]
     },
     "execution_count": 29,
     "metadata": {},
     "output_type": "execute_result"
    }
   ],
   "source": [
    "from tensorflow.keras.models import Sequential\n",
    "from tensorflow.keras.layers import Dense, Embedding, Flatten, Input\n",
    "\n",
    "model = Sequential()\n",
    "model.add(Input(shape=(max_len, ), dtype=np.int32))\n",
    "e = Embedding(vocab_size, 300, input_length=max_len, weights=[embedding_matrix], trainable=False)\n",
    "model.add(e)\n",
    "model.add(Flatten())\n",
    "model.add(Dense(1, activation=\"sigmoid\"))\n",
    "\n",
    "model.compile(optimizer=\"adam\", loss=\"binary_crossentropy\", metrics=[\"acc\"])\n",
    "model.fit(X_train, y_train, epochs=100, verbose=2)"
   ]
  },
  {
   "cell_type": "markdown",
   "metadata": {},
   "source": [
    "사전 훈련된 임베딩은 용량 문제로 모두 삭제..."
   ]
  }
 ],
 "metadata": {
  "kernelspec": {
   "display_name": "tf",
   "language": "python",
   "name": "python3"
  },
  "language_info": {
   "codemirror_mode": {
    "name": "ipython",
    "version": 3
   },
   "file_extension": ".py",
   "mimetype": "text/x-python",
   "name": "python",
   "nbconvert_exporter": "python",
   "pygments_lexer": "ipython3",
   "version": "3.8.16"
  },
  "orig_nbformat": 4
 },
 "nbformat": 4,
 "nbformat_minor": 2
}
