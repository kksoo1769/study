{
 "cells": [
  {
   "cell_type": "code",
   "execution_count": 1,
   "metadata": {},
   "outputs": [],
   "source": [
    "import re\n",
    "import urllib.request\n",
    "import zipfile\n",
    "from lxml import etree\n",
    "from nltk.tokenize import word_tokenize, sent_tokenize"
   ]
  },
  {
   "cell_type": "code",
   "execution_count": 2,
   "metadata": {},
   "outputs": [
    {
     "data": {
      "text/plain": [
       "('ted_en-20160408.xml', <http.client.HTTPMessage at 0x15f99a190>)"
      ]
     },
     "execution_count": 2,
     "metadata": {},
     "output_type": "execute_result"
    }
   ],
   "source": [
    "# 훈련 데이터(XML)\n",
    "urllib.request.urlretrieve(\"https://raw.githubusercontent.com/ukairia777/tensorflow-nlp-tutorial/main/09.%20Word%20Embedding/dataset/ted_en-20160408.xml\", filename=\"ted_en-20160408.xml\")"
   ]
  },
  {
   "cell_type": "code",
   "execution_count": 9,
   "metadata": {},
   "outputs": [
    {
     "name": "stdout",
     "output_type": "stream",
     "text": [
      "273424\n"
     ]
    }
   ],
   "source": [
    "# 전처리\n",
    "with open(\"ted_en-20160408.xml\") as targetXML:\n",
    "    target_text = etree.parse(targetXML)\n",
    "    parse_text = \"\\n\".join(target_text.xpath(\"//content/text()\")) # <content> 태그 안의 내용만 가져오기\n",
    "    content_text = re.sub(r\"\\([^)]*\\)\", \"\", parse_text) # (Audio), (Laughter) 등의 배경음 제거\n",
    "    sent_text = sent_tokenize(content_text)\n",
    "\n",
    "    normalized_text = []\n",
    "    for string in sent_text:\n",
    "        tokens = re.sub(r\"[^a-z0-9]+\", \" \", string.lower()) # 구두점 제거 및 소문자 변환\n",
    "        normalized_text.append(tokens)\n",
    "\n",
    "    res =[word_tokenize(sentence) for sentence in normalized_text]\n",
    "\n",
    "print(len(res))"
   ]
  },
  {
   "cell_type": "code",
   "execution_count": 11,
   "metadata": {},
   "outputs": [
    {
     "name": "stdout",
     "output_type": "stream",
     "text": [
      "[['here', 'are', 'two', 'reasons', 'companies', 'fail', 'they', 'only', 'do', 'more', 'of', 'the', 'same', 'or', 'they', 'only', 'do', 'what', 's', 'new'], ['to', 'me', 'the', 'real', 'real', 'solution', 'to', 'quality', 'growth', 'is', 'figuring', 'out', 'the', 'balance', 'between', 'two', 'activities', 'exploration', 'and', 'exploitation'], ['both', 'are', 'necessary', 'but', 'it', 'can', 'be', 'too', 'much', 'of', 'a', 'good', 'thing']]\n"
     ]
    }
   ],
   "source": [
    "print(res[:3])"
   ]
  },
  {
   "cell_type": "code",
   "execution_count": 14,
   "metadata": {},
   "outputs": [],
   "source": [
    "# 학습\n",
    "from gensim.models import Word2Vec, KeyedVectors\n",
    "\n",
    "# vector_size: 임베딩 벡터의 차원, window: 윈도우 크기, min_count: 단어 최소 빈도 수, workers: 프로세스 수, sg: 0 = CBOW, 1 = Skip-gram\n",
    "model = Word2Vec(sentences=res, vector_size=100, window=5, min_count=5, workers=4, sg=0)"
   ]
  },
  {
   "cell_type": "code",
   "execution_count": 15,
   "metadata": {},
   "outputs": [
    {
     "data": {
      "text/plain": [
       "[('woman', 0.8486449122428894),\n",
       " ('guy', 0.806094229221344),\n",
       " ('lady', 0.7764718532562256),\n",
       " ('boy', 0.771442174911499),\n",
       " ('girl', 0.7330987453460693),\n",
       " ('soldier', 0.7150641679763794),\n",
       " ('gentleman', 0.7043351531028748),\n",
       " ('kid', 0.6938618421554565),\n",
       " ('poet', 0.6463817954063416),\n",
       " ('rabbi', 0.6455687284469604)]"
      ]
     },
     "execution_count": 15,
     "metadata": {},
     "output_type": "execute_result"
    }
   ],
   "source": [
    "model_res = model.wv.most_similar(\"man\") # 토큰 man과 가장 유사한 단어들\n",
    "\n",
    "model_res"
   ]
  },
  {
   "cell_type": "code",
   "execution_count": 18,
   "metadata": {},
   "outputs": [
    {
     "data": {
      "text/plain": [
       "[('woman', 0.8486449122428894),\n",
       " ('guy', 0.806094229221344),\n",
       " ('lady', 0.7764718532562256),\n",
       " ('boy', 0.771442174911499),\n",
       " ('girl', 0.7330987453460693),\n",
       " ('soldier', 0.7150641679763794),\n",
       " ('gentleman', 0.7043351531028748),\n",
       " ('kid', 0.6938618421554565),\n",
       " ('poet', 0.6463817954063416),\n",
       " ('rabbi', 0.6455687284469604)]"
      ]
     },
     "execution_count": 18,
     "metadata": {},
     "output_type": "execute_result"
    }
   ],
   "source": [
    "# 저장 및 불러오기\n",
    "model.wv.save_word2vec_format(\"eng_w2v\")\n",
    "loaded_model = KeyedVectors.load_word2vec_format(\"eng_w2v\")\n",
    "\n",
    "loaded_model.most_similar(\"man\")"
   ]
  }
 ],
 "metadata": {
  "kernelspec": {
   "display_name": "tf",
   "language": "python",
   "name": "python3"
  },
  "language_info": {
   "codemirror_mode": {
    "name": "ipython",
    "version": 3
   },
   "file_extension": ".py",
   "mimetype": "text/x-python",
   "name": "python",
   "nbconvert_exporter": "python",
   "pygments_lexer": "ipython3",
   "version": "3.8.16"
  },
  "orig_nbformat": 4
 },
 "nbformat": 4,
 "nbformat_minor": 2
}
